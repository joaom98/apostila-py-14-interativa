{
 "cells": [
  {
   "cell_type": "markdown",
   "metadata": {
    "colab_type": "text",
    "id": "mk8OnE7A1Vsw"
   },
   "source": [
    "# DISCLAIMER\n",
    "\n",
    "\n",
    "\n",
    "---\n",
    "\n",
    "Esse documento ainda precisa passar por revisões e ser aprovado para que possa ser publicado e compartilhado.\n",
    "\n",
    "Esse documento ainda não representa a ideia final e está sujeito a mudanças.\n",
    "\n",
    "---\n",
    "\n"
   ]
  },
  {
   "cell_type": "markdown",
   "metadata": {
    "colab_type": "text",
    "id": "_CuEWMIHAtBX"
   },
   "source": [
    "# CAPÍTULO 13\n",
    "## APÊNDICE - PYTHON2 OU PYTHON3?\n",
    "Caso  você  esteja  iniciando  seus  estudos na  linguagem  Python  ou  começando  um  projeto  novo, aconselhamos fortemente que você utilize o Python3.\n",
    "\n",
    "O Python2 vem sendo chamado de Python legado ou Python antigo por boa parte da comunidade que  está  em  constante  atividade  para  fazer  a  migração  da  base  de  código  existente (bem  grande,  por sinal) para Python3.\n",
    "\n",
    "Aconselhamos a leitura deste artigo para maiores detalhes:https://wiki.python.org/moin/Python2orPython3.\n",
    "\n",
    "A pergunta correta aqui é: Quando devo usar o Python antigo? E a resposta mais comum que você\n",
    "vai encontrar é: use Python antigo quando você não tiver escolha.\n",
    "\n",
    "Por exemplo, quando você trabalhar em um projeto antigo e migrar para a nova versão não for uma alternativa  no  momento.  Ou  quando  você  precisa  utilizar  uma  biblioteca  que  ainda  não  funciona  no Python3  ou  não  está  em  processo  de  mudança.  Outro  caso  é  quando  seu  servidor  de  hospedagem  só\n",
    "permite usar Python2 - aqui o aconselhável é procurar por outro serviço que atenda sua demanda.\n",
    "\n",
    "No mais, você encontrará muito material sobre o Python2 na internet e aos poucos vai conhecendo\n",
    "melhor as diferenças entre uma versão e outra."
   ]
  },
  {
   "cell_type": "markdown",
   "metadata": {
    "colab_type": "text",
    "id": "QUtt8tjrBE-J"
   },
   "source": [
    "### 13.1 QUAIS AS DIFERENÇAS?\n",
    "Neste artigo você vai encontrar a resposta https://docs.python.org/3/whatsnew/3.0.html. Mas neste capítulo mostramos as diferenças mais básicas e importantes para você iniciar seus estudos."
   ]
  },
  {
   "cell_type": "markdown",
   "metadata": {
    "colab_type": "text",
    "id": "vbrd9w31BeTB"
   },
   "source": [
    "### 13.2 A FUNÇÃO PRINT()\n",
    "No  Python2  o  comando   `print`   funciona  de  maneira  diferente  já  que  não  é  uma  função.  Para imprimir algo fazemos:\n",
    "    # no python2\n",
    "    print \"Hello World!\"\n",
    "\n",
    "No Python3  `print`  é uma função e utilizamos os parênteses como delimitadores:"
   ]
  },
  {
   "cell_type": "code",
   "execution_count": 0,
   "metadata": {
    "colab": {},
    "colab_type": "code",
    "id": "ApIBZcD_Bu5n"
   },
   "outputs": [],
   "source": [
    "print(\"Hello World!\")"
   ]
  },
  {
   "cell_type": "markdown",
   "metadata": {
    "colab_type": "text",
    "id": "qUp89EGuBeII"
   },
   "source": [
    "### 13.3 A FUNÇÃO INPUT()\n",
    "A função  `raw_input`  do Python2 foi renomeada para  `input()`  no Python3:\n",
    "    # no python2\n",
    "    nome = raw_input(\"Digite seu nome: \")\n",
    "\n",
    "No Python3:"
   ]
  },
  {
   "cell_type": "code",
   "execution_count": 0,
   "metadata": {
    "colab": {},
    "colab_type": "code",
    "id": "0YxpGQ5VBS7f"
   },
   "outputs": [],
   "source": [
    "nome = input(\"Digite seu nome: \")"
   ]
  },
  {
   "cell_type": "markdown",
   "metadata": {
    "colab_type": "text",
    "id": "apu1fbOYB5Sy"
   },
   "source": [
    "### 13.4 DIVISÃO DECIMAL\n",
    "No Python2 a divisão entre números decimais é diferente entre um número decimal e um inteiro:\n",
    "    # no python2\n",
    "    >>> 5 / 2\n",
    "    2\n",
    "    >>> 5 / 2.0\n",
    "    2.5\n",
    "\n",
    "No  Python3  a  divisão  tem  o  mesmo  comportamento  da  matemática.  E  se  quisermos  o  resultado\n",
    "inteiro da divisão utilizamos  `//`:"
   ]
  },
  {
   "cell_type": "code",
   "execution_count": 0,
   "metadata": {
    "colab": {},
    "colab_type": "code",
    "id": "DlCqh8jdB5rS"
   },
   "outputs": [],
   "source": [
    "5 / 2"
   ]
  },
  {
   "cell_type": "code",
   "execution_count": 0,
   "metadata": {
    "colab": {},
    "colab_type": "code",
    "id": "H6NNxjEkCHd_"
   },
   "outputs": [],
   "source": [
    "5 // 2"
   ]
  },
  {
   "cell_type": "markdown",
   "metadata": {
    "colab_type": "text",
    "id": "DGRgurSOCM9S"
   },
   "source": [
    "### 13.5 HERANÇA\n",
    "No Python2 suas classes devem herdar de  `object`:\n",
    "    # no python2\n",
    "    class MinhaClasse(object):\n",
    "        def metodo(self, attr1, attr2):\n",
    "            return attr1 + attr2\n",
    "\n",
    "No Python3 essa herança é implícita, não precisando herdar explicitamente de `object`:"
   ]
  },
  {
   "cell_type": "code",
   "execution_count": 0,
   "metadata": {
    "colab": {},
    "colab_type": "code",
    "id": "2RR4USOjCXor"
   },
   "outputs": [],
   "source": [
    "class MinhaClasse():\n",
    "    def metodo(self, attr1, attr2):\n",
    "        return attr1 + attr2"
   ]
  },
  {
   "cell_type": "markdown",
   "metadata": {
    "colab_type": "text",
    "id": "Dq1idRRXCh3J"
   },
   "source": [
    "# CAPÍTULO 14\n",
    "## APÊNDICE - INSTALAÇÃO\n",
    "O Python já vem instalado nos sistemas Linux e Mac OS mas será necessário fazer o download da última versão (Python 3.6) para acompanhar a apostila. O Python não vem instalado por padrão no Windows e o download deverá ser feito no site https://www.python.org/ além de algumas configurações extras.\n",
    "\n",
    "### 14 .1 INSTALANDO O PYTHON NO WINDOWS\n",
    "O primeiro passo é acessar o site do Python: https://www.python.org/. Na sessão de   Downloads  já será  disponibilizado  o  instalador  específico  do  Windows automaticamente,  portanto  é  só  baixar  o Python3, na sua versão mais atual.\n",
    "\n",
    "Figura 15.1: Tela de download do Python para o Windows\n",
    "\n",
    "Após  o  download  ser  finalizado,  abra-o  e  na  primeira  tela  marque  a  opção   \n",
    "\n",
    "    Add Python  3.X  to PATH. \n",
    "    \n",
    "Essa opção é importante para conseguirmos executar o Python dentro do Prompt de Comando\n",
    "do Windows. Caso você não tenha marcado esta opção, terá que configurar a variável de ambiente no Windows de forma manual.\n",
    "\n",
    "Figura 15.2: Checkbox selecionado\n",
    "\n",
    "Selecione a instalação customizada somente para ver a instalação com mais detalhes.\n",
    "\n",
    "Figura 15.3: Instalação customizada\n",
    "\n",
    "Na  tela  seguinte  são  as  features opcionais,  se  certifique  que  o  gerenciador  de  pacotes   pip   esteja selecionado,  ele  que  permite  instalar pacotes  e  bibliotecas  no  Python.  Clique em   Next   para  dar seguimento na instalação.\n",
    "\n",
    "Figura 15.4: Optional Features\n",
    "\n",
    "Já  na  terceira  tela,  deixe  tudo  como  está,  mas  se  atente  ao  diretório  de  instalação  do  Python, para caso queira procurar o executável ou algo que envolva o seu diretório.\n",
    "\n",
    "Figura 15.5: Advanced Options\n",
    "\n",
    "Por fim, basta clicar em  `Install`  e aguardar o término da instalação.\n",
    "\n",
    "Figura 15.6: Instalação Concluída com Sucesso\n",
    "\n",
    "Terminada a instalação, teste se o Python foi instalado corretamente. Abra o Prompt de Comando e execute:\n",
    "    \n",
    "    python -V\n",
    "\n",
    "OBS: Para que funcione corretamente é necessário que seja no Prompt de Comando e não em algum programa Git Bash instalado em sua máquina. E o comando  `python -V  é importante que esteja com o `V` com letra maiúscula.\n",
    "\n",
    "Esse comando imprime a versão do Python instalada no Windows. Se a versão for impressa, significa que o Python foi instalado corretamente. Agora, rode o comando  `python`:\n",
    "    \n",
    "    python\n",
    "\n",
    "Assim você terá acesso ao console do próprio Python, conseguindo assim utilizá-lo.\n",
    "\f",
    "\n",
    "### 14.2 INSTALANDO O PYTHON NO LINUX\n",
    "Os sistemas operacionais baseados no Debian já possuem o Python3 pré-instalado. Verifique se o seu sistema já possui o Python3 instalado executando o seguinte comando no terminal:\n",
    "    \n",
    "    python3 -V\n",
    "\n",
    "OBS: O comando  `python3 -V`  é importante que esteja com o  `V`  com letra maiúscula.\n",
    "\n",
    "Este comando retorna a versão do Python3 instalada. Se você ainda não tiver ele instalado, digite os seguintes comandos no terminal:\n",
    "\n",
    "    sudo apt-get update\n",
    "    sudo apt3-get install python\n",
    "\n",
    "Para que você consiga instalar os pacotes do Python é necessário ter o gerenciador de pacotes   `pip` instalado no sistema. Para instalar esse gerenciador, digite no terminal:\n",
    "    \n",
    "    sudo apt-get install python-pip\n",
    "\n",
    "### 14.3 INSTALANDO O PYTHON NO MACOS\n",
    "A maneira mais fácil de instalar o Python3 no MacOS é utilizando o  `Homebrew`. Com o   `Homebrew` instalado, abra o terminal e digite os seguintes comandos:\n",
    "\n",
    "    brew update\n",
    "    brew install python3\n",
    "\n",
    "Para que você consiga instalar os pacotes do Python é necessário ter o gerenciador de pacotes   `pip` instalado no sistema. Para instalar esse gerenciador, digite no terminal:\n",
    "\n",
    "    sudo apt-get install python-pip\f",
    "\n",
    "\n",
    "### 14.4 OUTRAS FORMAS DE UTILIZAR O PYTHON\n",
    "Podemos rodar o Python diretamente do seu próprio Prompt.\n",
    "\n",
    "Podemos  procurar  pelo  Python  na  caixa  de  pesquisa  do  Windows  e  abri-lo,  assim  o seu  console próprio será aberto. Uma outra forma é abrir a `IDLE` do Python, que se parece muito com o console mas vem com um menu que possui algumas opções extras."
   ]
  }
 ],
 "metadata": {
  "colab": {
   "collapsed_sections": [
    "MUrJolt2-aD-",
    "3NqZ-0r1_q54",
    "RQ33gi3tDYEG",
    "nHDNPdbAFPh1",
    "ZhENGRztLHtI",
    "RCy0rjvJNXe4",
    "Uxbidv3xYPq7",
    "6yOIodPpbR6W",
    "ewCTTwW9c8iJ",
    "_louaPl3eq5r",
    "9eWtCzypfZGx",
    "t4nxmF1hjXsj",
    "r7BK-qFsktm5",
    "YEhH95O6iQ-J",
    "vN3yymMnkJJI",
    "-zT5izhklP47",
    "2oAom-dSljYS",
    "WjhzraVwmTWf",
    "2XyYPb_9mcUy",
    "U_oT0D5lK6g0",
    "PplhZST5N23M",
    "ascok5l4PHvW",
    "vjYownPjTGoh",
    "gVsP3_yGTqsA",
    "3CKu4tXrXbbs",
    "BKB4T2xOYQEP",
    "qx5zVH1MYP5A",
    "M2T54kleV5Tm",
    "L8S_l9K0gKlg",
    "DgKQHFOvh7a8",
    "sunWFmSkrWGV",
    "2lEfnXqks2Re",
    "tgIIPjRwt9rB",
    "O61Ni4k8uqbu",
    "uNqJNfQHwkzb",
    "AishUjoGzaYk",
    "6d6kpgatqA30",
    "Ix7v3Pztq3H0",
    "kRHVTDcftEg8",
    "FuxefMQktkFQ",
    "e02PM6ebt4xi",
    "Gb5d8Ds2uFoj",
    "_oLcDxyXuOqp",
    "OBPMn6s1vjeY",
    "oU_lctuJvkad",
    "SexMNv3YxHRI",
    "4ydBnFxPx93t",
    "dD_ll8EozLcD",
    "Y2jIpz8XznFX",
    "0NTEep5Vz2iw",
    "n5XXGyWO0Ggp",
    "-WadxXBc1dqs",
    "YG_NggJf3hcF",
    "FNXtNVIC4Ux4",
    "lhXWleU44qsk",
    "WMs0GsRZ81An",
    "_CuEWMIHAtBX",
    "QUtt8tjrBE-J",
    "vbrd9w31BeTB",
    "qUp89EGuBeII",
    "apu1fbOYB5Sy",
    "DGRgurSOCM9S",
    "Dq1idRRXCh3J"
   ],
   "name": "Parte_2.ipynb",
   "provenance": []
  },
  "kernelspec": {
   "display_name": "Python 3",
   "language": "python",
   "name": "python3"
  },
  "language_info": {
   "codemirror_mode": {
    "name": "ipython",
    "version": 3
   },
   "file_extension": ".py",
   "mimetype": "text/x-python",
   "name": "python",
   "nbconvert_exporter": "python",
   "pygments_lexer": "ipython3",
   "version": "3.7.6"
  }
 },
 "nbformat": 4,
 "nbformat_minor": 1
}
