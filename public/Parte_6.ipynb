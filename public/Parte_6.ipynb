{
 "cells": [
  {
   "cell_type": "markdown",
   "metadata": {
    "colab_type": "text",
    "id": "a5zFvFJrrkRP"
   },
   "source": [
    "# DISCLAIMER\n",
    "\n",
    "\n",
    "\n",
    "---\n",
    "\n",
    "Esse documento ainda precisa passar por revisões e ser aprovado para que possa ser publicado e compartilhado.\n",
    "\n",
    "Esse documento ainda não representa a ideia final e está sujeito a mudanças.\n",
    "\n",
    "---\n",
    "\n"
   ]
  },
  {
   "cell_type": "markdown",
   "metadata": {
    "colab_type": "text",
    "id": "8J9bEV7CGiAB"
   },
   "source": [
    "# CAPÍTULO 6\n",
    "## ARQUIVOS\n",
    "\n",
    "Uma funcionalidade que ainda nos atrapalha no jogo da forca é a palavra secreta, que atualmente está fixa. Se queremos que a palavra seja diferente, devemos modificá-la no código. \n",
    "\n",
    "A  nossa  ideia  é  ler  palavras  de  um  arquivo  de  texto,  e  dentre  elas  escolhemos  uma  palavra aleatoriamente, que será a palavra secreta do jogo.\n"
   ]
  },
  {
   "cell_type": "markdown",
   "metadata": {
    "colab_type": "text",
    "id": "j7oToKflG1jx"
   },
   "source": [
    "### 6.1 ESCRITA DE UM ARQUIVO\n",
    "Para abrir um arquivo, o Python possui a função   `open()` . Ela recebe dois parâmetros: o primeiro é o  nome  do  arquivo  a  ser  aberto,  e  o  segundo  parâmetro  é  o  modo  que  queremos  trabalhar  com  esse arquivo - se queremos ler ou escrever. O modo é passado através de uma string: `\"w\"` para escrita e `\"r\"` para\n",
    "leitura.\n",
    "\n",
    "No jogo, faremos a leitura de um arquivo. Antes, vamos testar como funciona a escrita do Python 3:"
   ]
  },
  {
   "cell_type": "code",
   "execution_count": 0,
   "metadata": {
    "colab": {},
    "colab_type": "code",
    "id": "MYvFha_OERjY"
   },
   "outputs": [],
   "source": [
    "arquivo = open('palavras.txt', 'w')"
   ]
  },
  {
   "cell_type": "markdown",
   "metadata": {
    "colab_type": "text",
    "id": "ASrU_U5DHHRn"
   },
   "source": [
    "O modo é opcional e o modo padrão é o `\"r\"` de leitura (reading) que veremos mais adiante.\n",
    "\n",
    "O arquivo criado se chama `palavras.txt` e está no modo de escrita. É importante saber que o modo de  escrita  sobrescreve  o  arquivo,  se  o  mesmo  existir.  Se  a  intenção  é  apenas  adicionar  conteúdo  ao\n",
    "arquivo, utilizamos o modo `\"a\"` (abreviação para append).\n",
    "\n",
    "Agora que temos o arquivo vamos aprender a escrever algum conteúdo nele. Basta chamar a partir do arquivo a função  `write()` , passando para ela o que se quer escrever no arquivo:"
   ]
  },
  {
   "cell_type": "code",
   "execution_count": 18,
   "metadata": {
    "colab": {
     "base_uri": "https://localhost:8080/",
     "height": 34
    },
    "colab_type": "code",
    "executionInfo": {
     "elapsed": 1087,
     "status": "ok",
     "timestamp": 1590104651829,
     "user": {
      "displayName": "José Jorge Moutinho Uliana",
      "photoUrl": "https://lh3.googleusercontent.com/a-/AOh14Gir9loXAbPuF0qHBf6Zz1303SbS3sI345CbSt-G7RA=s64",
      "userId": "14231667775676558964"
     },
     "user_tz": 180
    },
    "id": "iJ5fvb7BHZA8",
    "outputId": "f1c56974-e8fb-4f33-8f22-2380e28878d6"
   },
   "outputs": [
    {
     "data": {
      "text/plain": [
       "6"
      ]
     },
     "execution_count": 18,
     "metadata": {
      "tags": []
     },
     "output_type": "execute_result"
    }
   ],
   "source": [
    "arquivo.write('banana')"
   ]
  },
  {
   "cell_type": "code",
   "execution_count": 19,
   "metadata": {
    "colab": {
     "base_uri": "https://localhost:8080/",
     "height": 34
    },
    "colab_type": "code",
    "executionInfo": {
     "elapsed": 1041,
     "status": "ok",
     "timestamp": 1590104654314,
     "user": {
      "displayName": "José Jorge Moutinho Uliana",
      "photoUrl": "https://lh3.googleusercontent.com/a-/AOh14Gir9loXAbPuF0qHBf6Zz1303SbS3sI345CbSt-G7RA=s64",
      "userId": "14231667775676558964"
     },
     "user_tz": 180
    },
    "id": "EUcctBRDHbKg",
    "outputId": "24569bf8-6bf3-49be-bc58-42ccaf5d2368"
   },
   "outputs": [
    {
     "data": {
      "text/plain": [
       "8"
      ]
     },
     "execution_count": 19,
     "metadata": {
      "tags": []
     },
     "output_type": "execute_result"
    }
   ],
   "source": [
    "arquivo.write('melancia')"
   ]
  },
  {
   "cell_type": "markdown",
   "metadata": {
    "colab_type": "text",
    "id": "hZV6i-bZHc4Y"
   },
   "source": [
    "O retorno dessa função é o número de caracteres de cada texto adicionado no arquivo."
   ]
  },
  {
   "cell_type": "markdown",
   "metadata": {
    "colab_type": "text",
    "id": "ClDW8-2OHjaj"
   },
   "source": [
    "### 6.2 FECHANDO UM ARQUIVO\n",
    "Quando  estamos  trabalhando  com  arquivos,  devemos  nos  preocupar  em  fechá-lo.  Para  fechá-lo usamos a função  `close()`:"
   ]
  },
  {
   "cell_type": "code",
   "execution_count": 0,
   "metadata": {
    "colab": {},
    "colab_type": "code",
    "id": "6BL1hVitHt4K"
   },
   "outputs": [],
   "source": [
    "arquivo.close()"
   ]
  },
  {
   "cell_type": "markdown",
   "metadata": {
    "colab_type": "text",
    "id": "6Q-S-_G4HzNB"
   },
   "source": [
    "Após isso, podemos verificar o conteúdo do arquivo. Repare que ele foi criado na mesma pasta em que o comando para abrir o console do Python 3 foi executado. Se você tentar fechar um arquivo que já está fechado não vai surtir efeito algum, nem mesmo um erro. Abra o arquivo na pasta criada e verifique\n",
    "seu conteúdo:\n",
    "\n",
    "    bananamelancia\n",
    "\n",
    "As palavras foram escritas em uma mesma linha. Mas como escrever uma nova linha?"
   ]
  },
  {
   "cell_type": "markdown",
   "metadata": {
    "colab_type": "text",
    "id": "mH67qthEH-wM"
   },
   "source": [
    "### 6.3 ESCREVENDO PALAVRAS EM NOVAS LINHAS\n",
    "A primeira coisa que devemos fazer é abrir o arquivo novamente, dessa vez utilizando o modo `'a'`, de append:"
   ]
  },
  {
   "cell_type": "code",
   "execution_count": 0,
   "metadata": {
    "colab": {},
    "colab_type": "code",
    "id": "2jE_mktLIGLg"
   },
   "outputs": [],
   "source": [
    "arquivo = open('palavras.txt', 'a')"
   ]
  },
  {
   "cell_type": "markdown",
   "metadata": {
    "colab_type": "text",
    "id": "1N4oVumyIIyk"
   },
   "source": [
    "Vamos escrever novamente no arquivo, mas dessa vez com a preocupação de criar uma nova linha após cada conteúdo escrito. Para representar uma nova linha em código adicionamos o `\\n` ao final do que queremos escrever:"
   ]
  },
  {
   "cell_type": "code",
   "execution_count": 22,
   "metadata": {
    "colab": {
     "base_uri": "https://localhost:8080/",
     "height": 34
    },
    "colab_type": "code",
    "executionInfo": {
     "elapsed": 617,
     "status": "ok",
     "timestamp": 1590104671493,
     "user": {
      "displayName": "José Jorge Moutinho Uliana",
      "photoUrl": "https://lh3.googleusercontent.com/a-/AOh14Gir9loXAbPuF0qHBf6Zz1303SbS3sI345CbSt-G7RA=s64",
      "userId": "14231667775676558964"
     },
     "user_tz": 180
    },
    "id": "jkarSCtjIRdn",
    "outputId": "c2436a0a-67da-4a97-a8c8-cfff77b3b0c9"
   },
   "outputs": [
    {
     "data": {
      "text/plain": [
       "6"
      ]
     },
     "execution_count": 22,
     "metadata": {
      "tags": []
     },
     "output_type": "execute_result"
    }
   ],
   "source": [
    "arquivo.write('morango\\n')\n",
    "arquivo.write('manga\\n')"
   ]
  },
  {
   "cell_type": "markdown",
   "metadata": {
    "colab_type": "text",
    "id": "lfHr4MWsIZji"
   },
   "source": [
    "Ao fechar o arquivo e verificar novamente o seu conteúdo, vemos:\n",
    "\n",
    "    bananamelanciamorango\n",
    "    manga\n",
    "\n",
    "A palavra morango ainda ficou na mesma linha, mas como especificamos na sua adição que após a palavra deverá ter uma quebra de linha, a palavra manga foi adicionada abaixo, em uma nova linha.\n",
    "\n",
    "Por fim, vamos mover este arquivo para nosso projeto e ajeitar suas palavras quebrando as linhas."
   ]
  },
  {
   "cell_type": "markdown",
   "metadata": {
    "colab_type": "text",
    "id": "bID9601YIp2G"
   },
   "source": [
    "6.4 EXERCICIOS\n",
    "1.  Vamos abrir o terminal e navegar até nossa pasta jogos dentro de home e iniciar o interpretador do Python 3:\n",
    "\n",
    "        cd jogos\n",
    "        python3\n",
    "Lembrando que nossa estrutura de arquivos está assim:\n",
    "        |_ home\n",
    "            |_ jogos\n",
    "                |_ advinhacao.py\n",
    "                |_ forca.py\n",
    "\n",
    "2.  Crie um arquivo chamado `palavras.txt` no modo escrita. Insira o código logo após a mensagem de abertura:\n",
    "\n",
    "        arquivo = open(\"palavras.txt\", \"w\")\n",
    "Abra a pasta  `\\home\\jogos`  e veja se o arquivo foi criado como esperado:\n",
    "        |_ home\n",
    "            |_ jogos\n",
    "                |_ advinhacao.py\n",
    "                |_ forca.py\n",
    "                |_ palavras.txt\n",
    "\n",
    "3.  Vamos começar a escrever no nosso arquivo utilizando a função  `write()`  as palavras que usaremos no nosso jogo da forca:\n",
    "\n",
    "        arquivo.write('banana\\n')\n",
    "        arquivo.write('melancia\\n')\n",
    "        arquivo.write('morango\\n')\n",
    "        arquivo.write('manga\\n')\n",
    "Note  que  ao  final  de  cada  palavra  temos  que  acrescentar  o  `\\n` para  a  quebra  de  linha,  que  vai facilitar na hora da leitura.\n",
    "\n",
    "4.  É uma boa prática fechar o arquivo depois de utilizá-lo, assim outros programas ou processos podem ter acesso ao arquivo e ele não fica preso apenas ao nosso programa Python.\n",
    "        arquivo.close()\n"
   ]
  },
  {
   "cell_type": "markdown",
   "metadata": {
    "colab_type": "text",
    "id": "1ZhqTs3BJZUZ"
   },
   "source": [
    "#### PARA SABER MAIS\n",
    "Além do `r`, `w` e `a`  existe  o  modificador  `b`  que  é  utilizado  quando  se  deseja  trabalhar  no  modo binário. Para abrir uma imagem no modo leitura devemos usar:\n",
    "\n",
    "    imagem = open('foto.jpg', 'rb')"
   ]
  },
  {
   "cell_type": "markdown",
   "metadata": {
    "colab_type": "text",
    "id": "shiP47kPJqcv"
   },
   "source": [
    "### 6.5 LENDO UM ARQUIVO\n",
    "Ainda no terminal do Python 3, veremos o funcionamento da leitura de um arquivo.\n",
    "\n",
    "Vamos então abrir o arquivo no modo de leitura, basta passar o nome do arquivo e a letra `\"r\"` para a função  `open()`, como já visto anteriormente."
   ]
  },
  {
   "cell_type": "code",
   "execution_count": 0,
   "metadata": {
    "colab": {},
    "colab_type": "code",
    "id": "d_uI-y4zJ82z"
   },
   "outputs": [],
   "source": [
    "arquivo = open('palavras.txt', 'r')"
   ]
  },
  {
   "cell_type": "markdown",
   "metadata": {
    "colab_type": "text",
    "id": "81biXUn9KEPh"
   },
   "source": [
    "Diferente do modo `\"w\"`, abrir um arquivo que não existe no modo `\"r\"` não vai criar um arquivo. Se `palavras.txt` não existir, o Python vai lançar o erro `FileNotFoundError`:"
   ]
  },
  {
   "cell_type": "code",
   "execution_count": 24,
   "metadata": {
    "colab": {
     "base_uri": "https://localhost:8080/",
     "height": 162
    },
    "colab_type": "code",
    "executionInfo": {
     "elapsed": 1073,
     "status": "error",
     "timestamp": 1590104683006,
     "user": {
      "displayName": "José Jorge Moutinho Uliana",
      "photoUrl": "https://lh3.googleusercontent.com/a-/AOh14Gir9loXAbPuF0qHBf6Zz1303SbS3sI345CbSt-G7RA=s64",
      "userId": "14231667775676558964"
     },
     "user_tz": 180
    },
    "id": "63IkixgRKNi0",
    "outputId": "0cbc3707-a857-4baf-b1d0-5e88a9ecdb93"
   },
   "outputs": [
    {
     "ename": "AttributeError",
     "evalue": "ignored",
     "output_type": "error",
     "traceback": [
      "\u001b[0;31m---------------------------------------------------------------------------\u001b[0m",
      "\u001b[0;31mAttributeError\u001b[0m                            Traceback (most recent call last)",
      "\u001b[0;32m<ipython-input-24-fd3bdfbca3b9>\u001b[0m in \u001b[0;36m<module>\u001b[0;34m()\u001b[0m\n\u001b[0;32m----> 1\u001b[0;31m \u001b[0marquivo\u001b[0m\u001b[0;34m.\u001b[0m\u001b[0mopen\u001b[0m\u001b[0;34m(\u001b[0m\u001b[0;34m'frutas.txt'\u001b[0m\u001b[0;34m,\u001b[0m \u001b[0;34m'r'\u001b[0m\u001b[0;34m)\u001b[0m\u001b[0;34m\u001b[0m\u001b[0;34m\u001b[0m\u001b[0m\n\u001b[0m",
      "\u001b[0;31mAttributeError\u001b[0m: '_io.TextIOWrapper' object has no attribute 'open'"
     ]
    }
   ],
   "source": [
    "arquivo.open('frutas.txt', 'r')"
   ]
  },
  {
   "cell_type": "markdown",
   "metadata": {
    "colab_type": "text",
    "id": "5ktn7lB0KOaK"
   },
   "source": [
    "Como o arquivo `frutas.txt` não existe na pasta jogos, o Pyhton não consegue encontrar e acusa que não existe nenhum arquivo ou diretório com este nome na pasta raiz.\n",
    "\n",
    "Como abrimos o arquivo no modo de leitura, a função  `write()`  não é suportada:"
   ]
  },
  {
   "cell_type": "code",
   "execution_count": 26,
   "metadata": {
    "colab": {
     "base_uri": "https://localhost:8080/",
     "height": 162
    },
    "colab_type": "code",
    "executionInfo": {
     "elapsed": 1096,
     "status": "error",
     "timestamp": 1590104691442,
     "user": {
      "displayName": "José Jorge Moutinho Uliana",
      "photoUrl": "https://lh3.googleusercontent.com/a-/AOh14Gir9loXAbPuF0qHBf6Zz1303SbS3sI345CbSt-G7RA=s64",
      "userId": "14231667775676558964"
     },
     "user_tz": 180
    },
    "id": "JJmzXb9xKaJ1",
    "outputId": "20e0f3a0-8b3c-45df-fb4b-d49ec3d30395"
   },
   "outputs": [
    {
     "ename": "UnsupportedOperation",
     "evalue": "ignored",
     "output_type": "error",
     "traceback": [
      "\u001b[0;31m---------------------------------------------------------------------------\u001b[0m",
      "\u001b[0;31mUnsupportedOperation\u001b[0m                      Traceback (most recent call last)",
      "\u001b[0;32m<ipython-input-26-26a4ff7b17c3>\u001b[0m in \u001b[0;36m<module>\u001b[0;34m()\u001b[0m\n\u001b[0;32m----> 1\u001b[0;31m \u001b[0marquivo\u001b[0m\u001b[0;34m.\u001b[0m\u001b[0mwrite\u001b[0m\u001b[0;34m(\u001b[0m\u001b[0;34m\"oi\"\u001b[0m\u001b[0;34m)\u001b[0m\u001b[0;34m\u001b[0m\u001b[0;34m\u001b[0m\u001b[0m\n\u001b[0m",
      "\u001b[0;31mUnsupportedOperation\u001b[0m: not writable"
     ]
    }
   ],
   "source": [
    "arquivo.write(\"oi\")"
   ]
  },
  {
   "cell_type": "markdown",
   "metadata": {
    "colab_type": "text",
    "id": "HFm__eXAKZZf"
   },
   "source": [
    "Para ler o arquivo inteiro, utilizamos a função  `read()`:"
   ]
  },
  {
   "cell_type": "code",
   "execution_count": 27,
   "metadata": {
    "colab": {
     "base_uri": "https://localhost:8080/",
     "height": 34
    },
    "colab_type": "code",
    "executionInfo": {
     "elapsed": 1001,
     "status": "ok",
     "timestamp": 1590104696496,
     "user": {
      "displayName": "José Jorge Moutinho Uliana",
      "photoUrl": "https://lh3.googleusercontent.com/a-/AOh14Gir9loXAbPuF0qHBf6Zz1303SbS3sI345CbSt-G7RA=s64",
      "userId": "14231667775676558964"
     },
     "user_tz": 180
    },
    "id": "1B1bK8b7Kh-u",
    "outputId": "3955f1e8-dd19-49e3-fd91-9f75cd61b043"
   },
   "outputs": [
    {
     "data": {
      "text/plain": [
       "'bananamelanciamorango\\nmanga\\n'"
      ]
     },
     "execution_count": 27,
     "metadata": {
      "tags": []
     },
     "output_type": "execute_result"
    }
   ],
   "source": [
    "arquivo.read()"
   ]
  },
  {
   "cell_type": "markdown",
   "metadata": {
    "colab_type": "text",
    "id": "ayfsw5bcKmTd"
   },
   "source": [
    "Mas ao executar a função novamente, será retornado uma `string` vazia:"
   ]
  },
  {
   "cell_type": "code",
   "execution_count": 28,
   "metadata": {
    "colab": {
     "base_uri": "https://localhost:8080/",
     "height": 34
    },
    "colab_type": "code",
    "executionInfo": {
     "elapsed": 1161,
     "status": "ok",
     "timestamp": 1590104711888,
     "user": {
      "displayName": "José Jorge Moutinho Uliana",
      "photoUrl": "https://lh3.googleusercontent.com/a-/AOh14Gir9loXAbPuF0qHBf6Zz1303SbS3sI345CbSt-G7RA=s64",
      "userId": "14231667775676558964"
     },
     "user_tz": 180
    },
    "id": "z9BBms1JKlz4",
    "outputId": "61bc8001-3f57-465d-eb9f-ae11e86d21bc"
   },
   "outputs": [
    {
     "data": {
      "text/plain": [
       "''"
      ]
     },
     "execution_count": 28,
     "metadata": {
      "tags": []
     },
     "output_type": "execute_result"
    }
   ],
   "source": [
    "arquivo.read()"
   ]
  },
  {
   "cell_type": "markdown",
   "metadata": {
    "colab_type": "text",
    "id": "AGjDoCq7KtrV"
   },
   "source": [
    "Isso acontece porque o arquivo é como um fluxo de linhas, que começa no início do arquivo como se fosse  um  cursor.  Ele  vai  descendo  e  lendo  o  arquivo.  Após  ler  tudo,  ele  fica  posicionado  no  final  do\n",
    "arquivo. E quando chamamos a função   `read()`  novamente não há mais conteúdo pois ele todo já foi lido.\n",
    "\n",
    "Portanto, para ler o arquivo novamente, devemos fechá-lo e abrí-lo outra vez:"
   ]
  },
  {
   "cell_type": "code",
   "execution_count": 0,
   "metadata": {
    "colab": {},
    "colab_type": "code",
    "id": "NrD8I1HnLAa2"
   },
   "outputs": [],
   "source": [
    "arquivo.close()\n",
    "arquivo = open('palavras.txt', 'r')\n",
    "arquivo.read()"
   ]
  },
  {
   "cell_type": "markdown",
   "metadata": {
    "colab_type": "text",
    "id": "GAuTUacELGwq"
   },
   "source": [
    "### 6.6 LENDO LINHA POR LINHA DO ARQUIVO\n",
    "Não queremos ler todo o conteúdo do arquivo mas ler linha por linha. Como já foi visto, um arquivo é um fluxo de linhas, ou seja, uma sequência de linhas. \n",
    "\n",
    "Sendo uma sequência podemos utilizar um laço `for`  para ler cada linha do arquivo:"
   ]
  },
  {
   "cell_type": "code",
   "execution_count": 0,
   "metadata": {
    "colab": {},
    "colab_type": "code",
    "id": "V6LHT0wzSb2X"
   },
   "outputs": [],
   "source": [
    "arquivo = open('palavras.txt', 'r')\n",
    "    for linha in arquivo:\n",
    "        print(linha)"
   ]
  },
  {
   "cell_type": "markdown",
   "metadata": {
    "colab_type": "text",
    "id": "sPNku4TJSifn"
   },
   "source": [
    "Repare que existe uma linha vazia entre cada fruta. Isso acontece porque estamos utilizando a função `print()` que  também  acrescenta,  por  padrão,  um    `\\n`.  Agora  vamos  utilizar  outra  função,  a `readline()`, que lê apenas uma linha do arquivo:"
   ]
  },
  {
   "cell_type": "code",
   "execution_count": 0,
   "metadata": {
    "colab": {},
    "colab_type": "code",
    "id": "e7naQvYWUkri"
   },
   "outputs": [],
   "source": [
    "arquivo = open('palavras.txt', 'r')\n",
    "linha = arquivo.readline()\n",
    "print(linha)"
   ]
  },
  {
   "cell_type": "markdown",
   "metadata": {
    "colab_type": "text",
    "id": "XKnph3TuUrRd"
   },
   "source": [
    "Há  um   `\\n`   ao  final  de  cada  linha,  de  cada  palavra,  mas  queremos  somente  a  palavra.  Para  tirar espaços em branco no início e no fim da `string`, basta utilizar a função `strip()`, que também remove\n",
    "caracteres especiais, como o   `\\n`  - para mais informações consulte a documentação de strings. Sabendo disso tudo, já podemos implementar a funcionalidade de leitura de arquivo no nosso jogo:"
   ]
  },
  {
   "cell_type": "code",
   "execution_count": 0,
   "metadata": {
    "colab": {},
    "colab_type": "code",
    "id": "ViaO-txlU9LU"
   },
   "outputs": [],
   "source": [
    "arquivo = open('palavras.txt', 'r')\n",
    "    palavras = []\n",
    "    for linha in arquivo:\n",
    "        linha = linha.strip()\n",
    "        palavras.append(linha)\n",
    "    arquivo.close()"
   ]
  },
  {
   "cell_type": "markdown",
   "metadata": {
    "colab_type": "text",
    "id": "Wvlt1zZPVCny"
   },
   "source": [
    "Agora já temos todas as palavras na lista, mas como selecionar uma delas aleatoriamente?"
   ]
  },
  {
   "cell_type": "markdown",
   "metadata": {
    "colab_type": "text",
    "id": "AqOyXdecVIq0"
   },
   "source": [
    "### 6.7 GERANDO UM NÚMERO ALEATÓRIO\n",
    "Sabemos que cada elemento da lista possui uma posição e vimos no treinamento anterior como gerar um número aleatório. A biblioteca que sabe gerar um número aleatório é a `random`. Vamos testá-la aqui primeiro importando-a:"
   ]
  },
  {
   "cell_type": "code",
   "execution_count": 0,
   "metadata": {
    "colab": {},
    "colab_type": "code",
    "id": "E4HBJ7VcVSMJ"
   },
   "outputs": [],
   "source": [
    "import random"
   ]
  },
  {
   "cell_type": "markdown",
   "metadata": {
    "colab_type": "text",
    "id": "7CulSb0jVSzr"
   },
   "source": [
    "Para  gerar  o  número  aleatório  utilizamos  a  biblioteca  e  chamamos  a  função   `randrange()` ,  que recebe  o  intervalo  de  valores  que  o  número  aleatório  deve  estar.  Então  vamos  passar  o  valor  `0`\n",
    "(equivalente  à  primeira  posição  da  nossa  lista)  e  `4`  (lembrando  que  o  número  é  exclusivo,  ou  seja,  o número aleatório será entre `0` e `3`, equivalente à última posição da nossa lista):"
   ]
  },
  {
   "cell_type": "code",
   "execution_count": 0,
   "metadata": {
    "colab": {
     "base_uri": "https://localhost:8080/",
     "height": 34
    },
    "colab_type": "code",
    "id": "2T1LKTbUVj57",
    "outputId": "3bbe9bfd-3905-485f-bb13-6caa8faf9c28"
   },
   "outputs": [
    {
     "data": {
      "text/plain": [
       "3"
      ]
     },
     "execution_count": 11,
     "metadata": {
      "tags": []
     },
     "output_type": "execute_result"
    }
   ],
   "source": [
    "random.randrange(0, 4)"
   ]
  },
  {
   "cell_type": "code",
   "execution_count": 0,
   "metadata": {
    "colab": {
     "base_uri": "https://localhost:8080/",
     "height": 34
    },
    "colab_type": "code",
    "id": "ttrRe_G4Vn2M",
    "outputId": "b81c46fb-9247-4727-d449-bf153b776714"
   },
   "outputs": [
    {
     "data": {
      "text/plain": [
       "2"
      ]
     },
     "execution_count": 12,
     "metadata": {
      "tags": []
     },
     "output_type": "execute_result"
    }
   ],
   "source": [
    "random.randrange(0, 4)"
   ]
  },
  {
   "cell_type": "code",
   "execution_count": 0,
   "metadata": {
    "colab": {
     "base_uri": "https://localhost:8080/",
     "height": 34
    },
    "colab_type": "code",
    "id": "yBkZL5wkVoIj",
    "outputId": "c88fb73e-cf67-46da-9570-44f95b59164a"
   },
   "outputs": [
    {
     "data": {
      "text/plain": [
       "0"
      ]
     },
     "execution_count": 13,
     "metadata": {
      "tags": []
     },
     "output_type": "execute_result"
    }
   ],
   "source": [
    "random.randrange(0, 4)"
   ]
  },
  {
   "cell_type": "code",
   "execution_count": 0,
   "metadata": {
    "colab": {
     "base_uri": "https://localhost:8080/",
     "height": 34
    },
    "colab_type": "code",
    "id": "U6Q0F7v8VoXo",
    "outputId": "03f86ff4-7a31-4d04-bd79-34a841b574c4"
   },
   "outputs": [
    {
     "data": {
      "text/plain": [
       "3"
      ]
     },
     "execution_count": 14,
     "metadata": {
      "tags": []
     },
     "output_type": "execute_result"
    }
   ],
   "source": [
    "random.randrange(0, 4)"
   ]
  },
  {
   "cell_type": "code",
   "execution_count": 0,
   "metadata": {
    "colab": {
     "base_uri": "https://localhost:8080/",
     "height": 34
    },
    "colab_type": "code",
    "id": "S5Z0UNjGVol7",
    "outputId": "ef2dcbf8-9c81-4b81-f198-337ca36ef5c9"
   },
   "outputs": [
    {
     "data": {
      "text/plain": [
       "3"
      ]
     },
     "execution_count": 15,
     "metadata": {
      "tags": []
     },
     "output_type": "execute_result"
    }
   ],
   "source": [
    "random.randrange(0, 4)"
   ]
  },
  {
   "cell_type": "markdown",
   "metadata": {
    "colab_type": "text",
    "id": "rIpQCl7QVsIT"
   },
   "source": [
    "Sabendo disso, vamos implementar esse código no nosso jogo."
   ]
  },
  {
   "cell_type": "markdown",
   "metadata": {
    "colab_type": "text",
    "id": "YSkwhn0LVzMO"
   },
   "source": [
    "### 6.8 EXERCÍCIOS - LEITURA DE ARQUIVOS\n",
    "1.Vamos  começar  abrindo  o  arquivo  `palavras.txt`  no  nosso  script  `forca.py`   que  criamos  no exercício anterior. É importante já acrescentar o comando para fechá-lo para não esquecer no futuro:\n",
    "    \n",
    "    def jogar():\n",
    "        print('*********************************')\n",
    "        print('***Bem vindo ao jogo da Forca!***')\n",
    "        print('*********************************')\n",
    "        arquivo = open('palavras.txt', 'r')\n",
    "        arquivo.close()\n",
    "        #restante do código\n",
    "\n",
    "1.  Agora vamos criar uma lista chamada  `palavras`  e fazer um laço   `for`  para acessar cada linha para guardar na lista:\n",
    " \n",
    "        arquivo = open('palavras.txt', 'r')\n",
    "        palavras = []\n",
    "        for linha in arquivo:\n",
    "            palavras.append(linha)\n",
    "        arquivo.close()\n",
    "2.  Como precisamos remover o \\n ao final da linha, usaremos a função  `strip()`  em cada linha:\n",
    " \n",
    "        def jogar():\n",
    "            arquivo = open('palavras.txt', 'r')\n",
    "            palavras = []\n",
    "            for linha in arquivo:\n",
    "                linha - linha.strip()\n",
    "                palavras.append(linha)\n",
    "            arquivo.close()\n",
    "\n",
    "3.  Devemos  importar  a  biblioteca  `random`  para  gerar  um  número  que  vai  de  `0`  até  a  quantidade  de\n",
    "palavras da nossa lista. Usaremos a função   `len()`  para saber o tamanho da lista e a   `randrange()`  para gerar um número randômico de um intervalo específico:\n",
    "\n",
    "        import random\n",
    "        print('*********************************')\n",
    "        print('***Bem vindo ao jogo da Forca!***')\n",
    "        print('*********************************')\n",
    "        arquivo = open('palavras.txt', 'r')\n",
    "        palavras = []\n",
    "        for linha in arquivo:\n",
    "            linha = linha.strip()\n",
    "            palavras.append(linha)\n",
    "        arquivo.close()\n",
    "        numero = random.randrange(0, len(palavras))\n",
    "\n",
    "4.  Agora que temos o número aleatório, vamos utilizá-lo como índice para acessar a lista e atribuir essa palavra à variável `palavra_secreta`:\n",
    "\n",
    "        import random\n",
    "        print(\"*********************************\")\n",
    "        print(\"***Bem vindo ao jogo da Forca!***\")\n",
    "        print(\"*********************************\")\n",
    "        arquivo = open(\"palavras.txt\", \"r\")\n",
    "        palavras = []\n",
    "        for linha in arquivo:\n",
    "            linha = linha.strip()\n",
    "            palavras.append(linha)\n",
    "        arquivo.close()\n",
    "        numero = random.randrange(0, len(palavras))\n",
    "        palavra_secreta = palavras[numero].upper()\n",
    "        letras_acertadas = ['_' for letra in palavra_secreta]\n",
    "\n",
    "5.  Por fim, temos que deixar nossa variável   `letras_acertadas`  dinâmica, com número de letras de acordo com nossa   `palavra_secreta` .  Vamos  utilizar  um   `for`   dentro  da  lista  para  gerar  um  `'_'`\n",
    "para cada letra de acordo com o tamanho da palavra_secreta:\n",
    " \n",
    "        letras_acertadas = ['_' for letra in palavra_secreta]\n",
    "\n",
    "6.  Como  já  garantimos  que  a    `palavra_secreta`    está  toda  em  letras  maiúsculas  com  o  código `palavras[numero].upper()` , modificaremos o  chute  para o primeiro `if` continuar funcionando\n",
    "\n",
    "        chute = input('Qual a letra? ')\n",
    "        chute = chute.strip().upper()\n",
    "\n",
    "Podemos executar o jogo e notar que a palavra é selecionada aleatoriamente!\n",
    "\n",
    "Mas agora a nossa função cresceu bastante, com várias funcionalidades e responsabilidades. Então, no próximo capítulo, organizaremos melhor o nosso código, separando-o em funções e deixando-o mais fácil de entender."
   ]
  },
  {
   "cell_type": "markdown",
   "metadata": {
    "colab_type": "text",
    "id": "DoYVpARmXYgR"
   },
   "source": [
    "### 6.9 PARA SABER MAIS - COMANDO WITH\n",
    "Já  falamos  da  importância  de  fechar  o  arquivo,  certo?  Veja  o  código  abaixo  que  justamente  usa  a função  `close()`:"
   ]
  },
  {
   "cell_type": "code",
   "execution_count": 0,
   "metadata": {
    "colab": {},
    "colab_type": "code",
    "id": "qOvtWYyZVo1n"
   },
   "outputs": [],
   "source": [
    "arquivo = open('palavras.txt', 'r')\n",
    "palavras = logo.read()\n",
    "arquivo.close()"
   ]
  },
  {
   "cell_type": "markdown",
   "metadata": {
    "colab_type": "text",
    "id": "8jCImG8lXrT9"
   },
   "source": [
    "Imagine que algum problema aconteça na hora da leitura quando a função `read()` é chamada. Será que o arquivo é fechado quando o erro ocorre?\n",
    "\n",
    "Se  for  algum  erro  grave,  o  programa  pode  parar  a  execução  sem  ter  fechado  o  arquivo  e  isto  seria bastante ruim. Para evitar esse tipo de situação existe no Python uma sintaxe especial para abertura de arquivo:"
   ]
  },
  {
   "cell_type": "code",
   "execution_count": 0,
   "metadata": {
    "colab": {},
    "colab_type": "code",
    "id": "ynOlocEFX2Tm"
   },
   "outputs": [],
   "source": [
    "with open('palavras.txt') as arquivo:\n",
    "    for linha in arquivo:\n",
    "        print(linha)"
   ]
  },
  {
   "cell_type": "markdown",
   "metadata": {
    "colab_type": "text",
    "id": "oj3RQBfWX68Q"
   },
   "source": [
    "Repare o comando   `with`  usa a função   `open()`  mas não a função   `close()` .  Isso  não  será  mais necessário já que o comando  `with`  vai se encarregar de fechar o arquivo para nós mesmo que aconteça algum erro no código dentro de seu escopo. Muito melhor não?"
   ]
  },
  {
   "cell_type": "markdown",
   "metadata": {
    "colab_type": "text",
    "id": "jhC01VSQYJE4"
   },
   "source": [
    "### 6.10 MELHORANDO NOSSO CÓDIGO\n",
    "Nos capítulos anteriores criamos dois jogos, avançamos no jogo da Forca e implementamos leitura de palavras em um arquivo. Agora vamos utilizar o que aprendemos de funções para encapsular nosso código  e  deixá-lo  mais  organizado.  Vamos  começar,  com  os  conhecimentos  que  temos  até  aqui,  para estruturar nosso jogo da Forca.\n",
    "\n",
    "A  função    `jogar()`    possui  um  código  muito  complexo,  com  muitas  funcionalidades  e responsabilidades.\n",
    "\n",
    "Entre  as  funcionalidades  que  o  código  possui,  está  a  apresentação  do  jogo,  leitura  do  arquivo  e inicialização  da  palavra  secreta,  entre  outras.  Vamos  então  separar  as  responsabilidades  do  código  em funções, melhorando a sua legibilidade e organização.\n",
    "\n",
    "Vamos começar com a mensagem de apresentação do nosso jogo e exportar o código para a função `imprime_mensagem_abertura()`.  Não  podemos  nos  esquecer  de  chamar  essa  função  no  início  da função  `jogar()`:"
   ]
  },
  {
   "cell_type": "code",
   "execution_count": 0,
   "metadata": {
    "colab": {},
    "colab_type": "code",
    "id": "Rh4hsnC-X6i1"
   },
   "outputs": [],
   "source": [
    "import random\n",
    "    def jogar():\n",
    "        imprime_mensagem_abertura()\n",
    "        #código omitido\n",
    "    def imprime_mensagem_abertura():\n",
    "        print('*********************************')\n",
    "        print('***Bem vindo ao jogo da Forca!***')\n",
    "        print('*********************************')"
   ]
  },
  {
   "cell_type": "markdown",
   "metadata": {
    "colab_type": "text",
    "id": "GXi52begYkck"
   },
   "source": [
    "Aqui não importa o local da função, ela pode ser declarada antes ou depois da função `jogar()`.\n",
    "\n",
    "O que fizemos foi refatorar nosso código. Refatoração é o processo de modificar um programa para melhorar  a  estrutura  interna  do  código  sem  alterar  seu  comportamento  externo.  Veja  que  se executarmos nosso jogo da Forca, tudo funciona como antes:"
   ]
  },
  {
   "cell_type": "code",
   "execution_count": 0,
   "metadata": {
    "colab": {},
    "colab_type": "code",
    "id": "KDOuYj--Yj5g"
   },
   "outputs": [],
   "source": [
    "## Talvez rodar o jogo aqui?"
   ]
  },
  {
   "cell_type": "markdown",
   "metadata": {
    "colab_type": "text",
    "id": "JVvzaEEyY2JI"
   },
   "source": [
    "No próximo exercício vamos refatorar as demais partes do nosso código."
   ]
  },
  {
   "cell_type": "markdown",
   "metadata": {
    "colab_type": "text",
    "id": "dty5_A1_ZNEA"
   },
   "source": [
    "### 6.11 EXERCÍCIO - REFATORANDO O JOGO DA FORCA\n",
    "1.  Crie a função imprime_mensagem_abertura que vai isolar a mensagem de abertura do jogo:\n",
    "        import random\n",
    "        def jogar():\n",
    "            imprime_mensagem_abertura()\n",
    "            #código omitido\n",
    "        def imprime_mensagem_abertura():\n",
    "            print('*********************************')\n",
    "            print('***Bem vindo ao jogo da Forca!***')\n",
    "            print('*********************************')\n",
    "\n",
    "2.  Agora, vamos separar o código que realiza a leitura do arquivo e inicializa a palavra secreta na função `carrega_palavra_secreta()`:\n",
    " \n",
    "        def carrega_palavra_secreta():\n",
    "            arquivo = open('palavras.txt', 'r')\n",
    "            palavras = []\n",
    "            for linha in arquivo:\n",
    "                linha = linha.strip()\n",
    "                palavras.append(linha)\n",
    "            arquivo.close()\n",
    "            numero = random.randrange(0, len(palavras))\n",
    "            palavra_secreta = palavras[numero].upper()\n",
    "Só que a função   `jogar()`  irá reclamar que a `palavra_secreta` não existe. O que queremos é que, ao executar a função   `carrega_palavra_secreta()` , que ela retorne a palavra secreta para nós, assim poderemos guardá-la em uma variável:\n",
    "\n",
    "        import random\n",
    "        def jogar():\n",
    "            imprime_mensagem_abertura()\n",
    "            palavra_secreta = carrega_palavra_secreta()\n",
    "            letras_acertadas = [\"_\" for letra in palavra_secreta]\n",
    "            # restante do código omitido\n",
    "Só  que  como  faremos  a  função `carrega_palavra_secreta()` retornar  um  valor,  no  caso  a ?  A    palavra_secreta    já  existe,  mas  só  dentro  da  função `carrega_palavra_secreta()`. Para que ela seja retornada, utilizamos a palavra-chave `return`:\n",
    "\n",
    "        palavra_secreta \n",
    "        def carrega_palavra_secreta():\n",
    "            arquivo = open('palavras.txt', 'r')\n",
    "            palavras = []\n",
    "            for linha in arquivo:\n",
    "                linha = linha.strip()\n",
    "                palavras.append(linha)\n",
    "            arquivo.close()\n",
    "            numero = random.randrange(0, len(palavras))\n",
    "            palavra_secreta = palavras[numero].upper()\n",
    "            return palavra_secreta\n",
    "\n",
    "3.  Agora vamos criar uma função que inicializa a lista de letras acertadas com o caractere `'_'`. Criaremos a função  `inicializa_letras_acertadas()`:\n",
    "import random\n",
    "        def jogar():\n",
    "            imprime_mensagem_abertura()\n",
    "            palavra_secreta = carrega_palavra_secreta()\n",
    "            letras_acertadas = inicializa_letras_acertadas()\n",
    "            # código omitido\n",
    "        def inicializa_letras_acertadas():\n",
    "            return ['_' for letra in palavra_secreta]\n",
    "\n",
    "4.  Mas a função   `inicializa_letras_acertadas()`  precisa ter acesso à `palavra_secreta`, pois ela não existe  dentro  da  função,  já  que  uma  função  define  um  escopo,  e  as  variáveis  declaradas  dentro  de\n",
    "uma função só estão disponíveis  dentro  dela.  Então,  ao  chamar  a \n",
    " `inicializa_letras_acertadas()` , vamos passar `palavra_secreta` para ela por parâmetro:\n",
    "\n",
    "        import random\n",
    "        def jogar():\n",
    "            imprime_mensagem_abertura()\n",
    "            palavra_secreta = carrega_palavra_secreta()\n",
    "            letras_acertadas = inicializa_letras_acertadas(palavra_secreta)\n",
    "            # restante do código omitido\n",
    "        def inicializa_letras_acertadas(palavra):\n",
    "            return [\"_\" for letra in palavra]\n",
    "\n",
    "5.  Vamos continuar refatorando nosso código. Criaremos a função   `pede_chute()` , que ficará com o código que pede o chute do usuário, remove os espaços antes e depois, e o coloca em caixa alta. Não podemos nos esquecer de retornar o chute:\n",
    "\n",
    "        def jogar():\n",
    "            # código omitido\n",
    "            while (not acertou and not enforcou):\n",
    "                chute = pede_chute()\n",
    "                #código omitido\n",
    "            #código omitido                \n",
    "        def pede_chute():\n",
    "            chute = input('Qual letra? ')\n",
    "            chute = chute.strip().upper()\n",
    "            return chute\n",
    "\n",
    "6.  Ainda temos o código que coloca o chute na posição correta, dentro da lista. Vamos colocá-lo dentro da função  `marca_chute_correto()`:\n",
    "\n",
    "            while (not acertou and not enforcou):\n",
    "                chute = pede_chute()\n",
    "                if (chute in palavra_secreta):\n",
    "                    marca_chute_correto()\n",
    "                else:\n",
    "                    erros += 1\n",
    "                enforcou = erros == 6\n",
    "                acertou = '_' not in letras_acertadas\n",
    "                print(letras_acertadas)\n",
    "            #código omitido\n",
    "        def marca_chute_correto():\n",
    "            posicao = 0\n",
    "            for letra in palavra_secreta:\n",
    "                if (chute == letra):\n",
    "                    letras_acertadas[posicao] = letra\n",
    "                posicao += 1\n",
    "Mas  a  função   `marca_chute_correto()`   precisa  ter  acesso  a  três  valores:   `palavra_secreta`  , `chute`  e  `letras_acertadas` . Então vamos passar esses valores por parâmetro:\n",
    "\n",
    "        if (chute in palavra_secreta):\n",
    "            marca_chute_correto(chute, letras_acertadas, palavra_secreta)\n",
    "E  modificamos  nossa  função  para  receber  esses parâmetros: \n",
    "\n",
    " posicao = 0\n",
    " for letra in palavra_secreta:\n",
    "     if (chute == letra):\n",
    "         letras_acertadas[posicao] = letra\n",
    "     posicao += 1\n",
    "\n",
    "1. Por fim, vamos remover a mensagem de fim de jogo e exportar os códigos que imprimem as mensagens de vencedor e perdedor do jogo:\n",
    "        if (acertou):\n",
    "            imprime_mensagem_vencedor()\n",
    "        else:\n",
    "            imprime_mensagem_perdedor()\n",
    "E criar as funções:\n",
    "        def imprime_mensagem_vencedor():\n",
    "            print('Você ganhou!')\n",
    "        def imprime_mensagem_perdedor():\n",
    "            print('Você perdeu!')\n",
    "Agora o nosso código está muito mais organizado e legível. Ao chamar todas as funções dentro da função  `jogar()` , nosso código ficará assim:\n",
    "\n",
    "        def jogar():\n",
    "            imprime_mensagem_abertura()\n",
    "            palavra_secreta = carrega_palavra_secreta()\n",
    "            letras_acertadas = inicializa_letras_acertadas(palavra_secreta)\n",
    "            print(letras_acertadas)\n",
    "            enforcou = False\n",
    "            acertou = False\n",
    "            erros = 0\n",
    "            while(not enforcou and not acertou):\n",
    "                chute = pede_chute()\n",
    "                if(chute in palavra_secreta):\n",
    "                    marca_chute_correto(chute, letras_acertadas, palavra_secreta)\n",
    "                else:\n",
    "                    erros += 1\n",
    "                enforcou = erros == 6\n",
    "                acertou = \"_\" not in letras_acertadas\n",
    "                print(letras_acertadas)\n",
    "            if(acertou):\n",
    "                imprime_mensagem_vencedor()\n",
    "            else:\n",
    "                imprime_mensagem_perdedor()\n",
    "Por  fim,  podemos  executar  o  nosso  código,  para  verificar  que  o  mesmo  continua  funcionando normalmente.\n",
    "    \n",
    "        import forca\n",
    "        forca.jogar()\n",
    "    \n",
    "1.  (opcional) Com a melhor organização do nosso código, vamos melhorar a exibição, a apresentação da forca, deixando o jogo mais amigável. Vamos começar com a mensagem de perdedor, alterando a função  `imprime_mensagem_perdedor`. \n",
    "\n",
    "Ela ficará assim:\n",
    "            \n",
    "        def imprime_mensagem_perdedor(palavra_secreta):\n",
    "            print('Puxa, você foi enforcado!')\n",
    "            print('A palavra era {}'.format(palavra_secreta))\n",
    "            print(\"    _______________         \")\n",
    "            print(\"   /               \\        \")\n",
    "            print(\"  /                 \\       \")\n",
    "            print(\"//                   \\/\\    \")\n",
    "            print(\"\\|   XXXX     XXXX   | /    \")\n",
    "            print(\" |   XXXX     XXXX   |/     \")\n",
    "            print(\" |   XXX       XXX   |      \")\n",
    "            print(\" |                   |      \")\n",
    "            print(\" \\__      XXX      __/      \")\n",
    "            print(\"   |\\     XXX     /|        \")\n",
    "            print(\"   | |           | |        \")\n",
    "            print(\"   | I I I I I I I |        \")\n",
    "            print(\"   |  I I I I I I  |        \")\n",
    "            print(\"   \\_             _/        \")\n",
    "            print(\"     \\_         _/          \")\n",
    "            print(\"       \\_______/            \")\n",
    "Precisamos passar a  palavra_secreta  para função  `imprime_mensagem_perdedor()` :\n",
    "\n",
    "        if(acertou):\n",
    "            imprime_mensagem_vencedor()\n",
    "        else:\n",
    "            imprime_mensagem_perdedor(palavra_secreta)\n",
    "            \n",
    "E modificamos o código de  `imprime_mensagem_vencedor()`  pra:\n",
    "\n",
    "        def imprime_mensagem_vencedor():\n",
    "            print('Parabéns, você ganhou!')\n",
    "            print(\"       ___________      \")\n",
    "            print(\"      '._==_==_=_.'     \")\n",
    "            print(\"      .-\\\\:      /-.    \")\n",
    "            print(\"     | (|:.     |) |    \")\n",
    "            print(\"      '-|:.     |-'     \")\n",
    "            print(\"        \\\\::.    /      \")\n",
    "            print(\"         '::. .'        \")\n",
    "            print(\"           ) (          \")\n",
    "            print(\"         _.' '._        \")\n",
    "            print(\"        '-------'       \")\n",
    "\n",
    "Vá  até  a  pasta  do  curso  e  copie  o  código  destas  funções  que  estão  em  um  arquivo  chamado `funcoes_forca.py`.\n",
    "\n",
    "2.  (opcional) Por fim, crie a função `desenha_forca()` , que irá desenhar uma parte da forca, baseado nos erros do usuário. Como ela precisa acessar os erros, passe-o por parâmetro para a função:\n",
    "        def desenha_forca(erros):\n",
    "            pass\n",
    "E copie o conteúdo do código da função  `desenha_forca()`  do arquivo funcoes `forca.py` na pasta do curso para sua função.\n",
    "\n",
    "3.  Para finalizar, chame a função  `desenha_forca`  quando o jogador errar e aumente o limite de erros para `7`.\n",
    "\n",
    "        if(chute in palavra_secreta):\n",
    "            marca_chute_correto(chute, letras_acertadas, palavra_secreta)\n",
    "        else:\n",
    "            erros += 1\n",
    "            desenha_forca(erros)\n",
    "            enforcou = erros == 7\n",
    "        acertou = \"_\" not in letras_acertadas\n",
    "\n",
    "4.  Tente fazer o mesmo com o jogo da adivinhação, refatore partes do código e isole em funções. Além disso, use sua criatividade para customizar mensagens para o usuário do seu jogo.\n",
    "\n",
    "Neste exercício praticamos bastante do que aprendemos no capítulo de função e finalizamos o jogo da forca.\n",
    "\n",
    "Você pode estar se perguntando por que encapsulamos uma simples linha de código em uma função.\n",
    "\n",
    "Fizemos isso somente para deixar claro o que estamos fazendo, melhorando a legibilidade do código.\n",
    "\n",
    "Mas precisamos tomar cuidado com a criação de funções, pois criar funções desnecessariamente pode aumentar a complexidade do código."
   ]
  }
 ],
 "metadata": {
  "colab": {
   "collapsed_sections": [
    "AWhCSY4qi-m1",
    "B9LM6d5Gm6j5",
    "Tp62oS29nHOY",
    "toIe6YYZGDCJ",
    "SjwDGBcmH-HH",
    "pFX5OJ0OI3cF",
    "semjtR4ER8j9",
    "z_ykJqn5SbD6",
    "B1-xRAIsCOpj",
    "0WUuCdz1DBGA",
    "zeLjdgBVF0cX",
    "m2hl0lo5Jy81",
    "HZyP6gYjbjBV",
    "3DDKo3RmdGVZ",
    "__fWUnl_eu89",
    "kScysrrpgV0F",
    "kHi5j4xfif_V",
    "Gf5p2AWOnD6L",
    "nioVHrpto6oY",
    "fWO-hsuXsqmi",
    "HNd3rEvM0vVk",
    "sG3uBQqc6M5A",
    "JktfWQnN8UWe",
    "kmJuze08EGF5",
    "_xCpIhn7IcBS",
    "aTa0t1HcLs0t",
    "QE-0ReKWMkle",
    "YAImLTCbQMc7",
    "cNB0Zm5sRTdk",
    "BeSLrrmjKuHy",
    "-05kqpD7L2HG",
    "aGJuldwHMRLH",
    "J5LAe9piMmFX",
    "AlKz4soDBERe",
    "H4ffkXfyCGa3",
    "Pg-InPJAEdZe",
    "JQpFLomJFZf-",
    "64qkenrMGOmR",
    "1ZhqTs3BJZUZ",
    "GAuTUacELGwq",
    "AqOyXdecVIq0",
    "dty5_A1_ZNEA"
   ],
   "name": "Parte_1.ipynb",
   "provenance": [],
   "toc_visible": true
  },
  "kernelspec": {
   "display_name": "Python 3",
   "language": "python",
   "name": "python3"
  },
  "language_info": {
   "codemirror_mode": {
    "name": "ipython",
    "version": 3
   },
   "file_extension": ".py",
   "mimetype": "text/x-python",
   "name": "python",
   "nbconvert_exporter": "python",
   "pygments_lexer": "ipython3",
   "version": "3.7.6"
  }
 },
 "nbformat": 4,
 "nbformat_minor": 1
}
