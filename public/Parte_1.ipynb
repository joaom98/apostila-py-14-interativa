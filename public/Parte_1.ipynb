{
 "cells": [
  {
   "cell_type": "markdown",
   "metadata": {
    "colab_type": "text",
    "id": "a5zFvFJrrkRP"
   },
   "source": [
    "# DISCLAIMER\n",
    "\n",
    "\n",
    "\n",
    "---\n",
    "\n",
    "Esse documento ainda precisa passar por revisões e ser aprovado para que possa ser publicado e compartilhado.\n",
    "\n",
    "Esse documento ainda não representa a ideia final e está sujeito a mudanças.\n",
    "\n",
    "---\n",
    "\n"
   ]
  },
  {
   "cell_type": "markdown",
   "metadata": {
    "colab_type": "text",
    "id": "iVGar_6xrZK2"
   },
   "source": [
    "# CAPÍTULO 0\n",
    "## INTRODUÇÃO\n",
    "### 0.1 O QUE É ESSE MATERIAL?\n",
    "\n",
    "Esse material é um livro interativo que permite qualquer pessoa com o acesso ao Google Drive (ou Jupyter) aprender e experimentar a linguagem de programação Python. Ele foi inspirado na apostila do curso PY-14  da [Caelum](https://www.caelum.com.br/apostila-python-orientacao-objetos/).\n",
    "\n",
    "A ideia é ter um material que seja fácil de compreender e interagir, diminuindo o máximo as barreiras que um iniciante tenha para começar a programar ou para que alguém conheça a linguagem Python.\n",
    "\n",
    "O formato desse arquivo é um `.ipynb` e comumente denominado de `Notebook`. Ele é composto por células de texto comum e células de código. \n",
    "\n",
    "As células de texto são utilizadas para fornecer explicações, ilustrações, links e outros recursos.\n",
    "\n",
    "As células de código contêm instruções que podem ser editadas e executadas, criando um ambiente simples de programação. "
   ]
  },
  {
   "cell_type": "markdown",
   "metadata": {
    "colab_type": "text",
    "id": "4pVVaY65tJT9"
   },
   "source": [
    "### 0.2 COMO UTILIZAR O MATERIAL?\n",
    "\n",
    "A leitura do material é feita de forma bem simples, como um livro comum. Porém, em várias instâncias existem partes do conteúdo que podem ser editadas e executadas pelo usuário para um entendimento mais claro e para obtenção de um maior engajamento e retenção pela parte do leitor. \n",
    "\n",
    "O conteúdo está dividido em 2 partes: \n",
    "\n",
    "* A primeira, contendo os assuntos base para a compreensão do Python, que você está lendo agora\n",
    "\n",
    "* E a segunda parte: aprofundando mais os conhecimentos em Orientação a Objetos e outros tópicos.\n",
    "\n",
    "É recomendado que os dois documentos sejam vistos em sequência, sendo essa parte a primeira.\n",
    "\n",
    "O livro aborda os tópicos de forma gradual e os seus tópicos avançados têm como requisito a compreensão de tópicos anteriores.\n",
    "\n",
    "Adiante serão apresentadas as células de códigos e é encorajado que os usuários alterem, brinquem e experimentem com o material e seu conteúdo, "
   ]
  },
  {
   "cell_type": "markdown",
   "metadata": {
    "colab_type": "text",
    "id": "g7U_Ef8Zgr2s"
   },
   "source": [
    "# CAPÍTULO\t1\n",
    "## COMO\tAPRENDER\tPYTHON\n",
    "### 1.1\tO\tQUE\tÉ\tREALMENTE\tIMPORTANTE?\n",
    "\n",
    "Muitos\tlivros,\tao\tpassar\tdos\tcapítulos,\tmencionam\ttodos\tos\tdetalhes\tda\tlinguagem,\tjuntamente\tcom\tseus\n",
    "princípios\t básicos.\t Isso\t acaba\t criando\t muita\t confusão,\t em\t especial\t porque\t o\t estudante\t não\t consegue\n",
    "diferenciar\texatamente\to\tque\té\tessencial\taprender\tno\tinício,\tdaquilo\tque\tpode\tser\tdeixado\tpara\testudar\n",
    "mais\ttarde.\n",
    "Se\t uma\t classe\t abstrata\t deve\t ou\t não\t ter\t ao\t menos\t um\t método\t abstrato,\t se\t o\t if\t somente\t aceita\n",
    "argumentos\tbooleanos\te\ttodos\tos\tdetalhes\tsobre\tclasses\tinternas,\trealmente\tnão\tdevem\tser\tpreocupações\n",
    "para\t aquele\t cujo\t objetivo\t primário\t é\t aprender\t Python.\t Esse\t tipo\t de\t informação\t será\t adquirida\t com\t o\n",
    "tempo\te\tnão\té\tnecessária\tno\tinício.\n",
    "Neste\tcurso,\tseparamos\tessas\tinformações\tem\tquadros\tespeciais,\tjá\tque\tsão\tinformações\textras.\tOu\n",
    "então,\tapenas\tcitamos\tem\talgum\texercício\te\tdeixamos\tpara\to\tleitor\tprocurar\tinformações\tadicionais,\tse\n",
    "for\tde\tseu\tinteresse.\n",
    "Por\tfim,\tfalta\tmencionar\talgo\tsobre\ta\tprática,\tque\tdeve\tser\ttratada\tseriamente:\ttodos\tos\texercícios\tsão\n",
    "muito\t importantes\t e\t os\t desafios\t podem\t ser\t feitos\t após\t o\t término\t do\t curso.\t De\t qualquer\t maneira,\n",
    "recomendamos\taos\talunos\testudarem\tem\tcasa\te\tpraticarem\tbastante\tcódigo\te\tvariações."
   ]
  },
  {
   "cell_type": "markdown",
   "metadata": {
    "colab_type": "text",
    "id": "ayYixiZfhP9C"
   },
   "source": [
    "### 1.2\tSOBRE\tOS\tEXERCÍCIOS\n",
    "Os\t exercícios\t do\t curso\t variam,\t de\t práticos\t até\t pesquisas\t na\t internet,\t ou\t mesmo\t consultas\t sobre\n",
    "assuntos\tavançados\tem\tdeterminados\ttópicos,\tpara\tincitar\ta\tcuriosidade\tdo\taprendiz\tna\ttecnologia.\n",
    "Existe\t também,\t em\t determinados\t capítulos,\t uma\t série\t de\t desafios.\t Eles\t focam\t mais\t no\t problema\n",
    "computacional\tque\tna\tlinguagem,\tporém\tsão\tuma\texcelente\tforma\tde\ttreinar\ta\tsintaxe\te,\tprincipalmente,\n",
    "familiarizar\t o\t aluno\t com\t as\t bibliotecas\t padrões\t do\t Python,\t além\t de\t proporcionar\t um\t ganho\t na\n",
    "velocidade\tde\tdesenvolvimento."
   ]
  },
  {
   "cell_type": "markdown",
   "metadata": {
    "colab_type": "text",
    "id": "HZs2bKTChccj"
   },
   "source": [
    "### 1.3\tTIRANDO\tDÚVIDAS\tE\tINDO\tALÉM\n",
    "Para\ttirar\tdúvidas\tde\texercícios,\tou\tde\tPython\tem\tgeral,\trecomendamos\to\tfórum\tdo\tGUJ\tRespostas:\n",
    "http://www.guj.com.br\n",
    "Lá\tsua\tdúvida\tserá\trespondida\tprontamente.\tO\tGUJ\tfoi\tfundado\tpor\tdesenvolvedores\tda\tCaelum\te\n",
    "hoje\tconta\tcom\tmais\tde\tum\tmilhão\tde\tmensagens.\n",
    "O\tprincipal\trecurso\toficial\tpara\tencontrar\tdocumentação,\ttutoriais\te\taté\tmesmo\tlivros\tsobre\tPython\n",
    "é\ta\tPython\tSoftware\tFoundation\t(PSF):\n",
    "https://www.python.org/\n",
    "Destacamos\ttambém\ta\tpágina\tda\tcomunidade\tno\tBrasil:\n",
    "https://python.org.br/\n",
    "Há\ttambém\tfóruns\toficiais\tda\tcomunidade:\n",
    "https://python-forum.io/\t(inglês)\n",
    "https://python.org.br/lista-de-discussoes/\t(português)\n",
    "Fora\tisso,\tsinta-se\tà\tvontade\tpara\tentrar\tem\tcontato\tcom\tseu\tinstrutor\tpara\ttirar\ttodas\tas\tdúvidas\tque\n",
    "surgirem\tdurante\to\tcurso.\n",
    "Se\to\tque\tvocê\testá\tbuscando\tsão\tlivros\tde\tapoio,\tsugerimos\tconhecer\ta\teditora\tCasa\tdo\tCódigo:\n",
    "https://www.casadocodigo.com.br/\n",
    "Há\ttambém\tcursos\tonline\tque\tvão\tajudá-lo\ta\tir\talém,\tcom\tmuita\tinteração\tcom\tos\tinstrutores:\n",
    "https://www.alura.com.br/"
   ]
  }
 ],
 "metadata": {
  "colab": {
   "collapsed_sections": [
    "AWhCSY4qi-m1",
    "B9LM6d5Gm6j5",
    "Tp62oS29nHOY",
    "toIe6YYZGDCJ",
    "SjwDGBcmH-HH",
    "pFX5OJ0OI3cF",
    "semjtR4ER8j9",
    "z_ykJqn5SbD6",
    "B1-xRAIsCOpj",
    "0WUuCdz1DBGA",
    "zeLjdgBVF0cX",
    "m2hl0lo5Jy81",
    "HZyP6gYjbjBV",
    "3DDKo3RmdGVZ",
    "__fWUnl_eu89",
    "kScysrrpgV0F",
    "kHi5j4xfif_V",
    "Gf5p2AWOnD6L",
    "nioVHrpto6oY",
    "fWO-hsuXsqmi",
    "HNd3rEvM0vVk",
    "sG3uBQqc6M5A",
    "JktfWQnN8UWe",
    "kmJuze08EGF5",
    "_xCpIhn7IcBS",
    "aTa0t1HcLs0t",
    "QE-0ReKWMkle",
    "YAImLTCbQMc7",
    "cNB0Zm5sRTdk",
    "BeSLrrmjKuHy",
    "-05kqpD7L2HG",
    "aGJuldwHMRLH",
    "J5LAe9piMmFX",
    "AlKz4soDBERe",
    "H4ffkXfyCGa3",
    "Pg-InPJAEdZe",
    "JQpFLomJFZf-",
    "64qkenrMGOmR",
    "1ZhqTs3BJZUZ",
    "GAuTUacELGwq",
    "AqOyXdecVIq0",
    "dty5_A1_ZNEA"
   ],
   "name": "Parte_1.ipynb",
   "provenance": [],
   "toc_visible": true
  },
  "kernelspec": {
   "display_name": "Python 3",
   "language": "python",
   "name": "python3"
  },
  "language_info": {
   "codemirror_mode": {
    "name": "ipython",
    "version": 3
   },
   "file_extension": ".py",
   "mimetype": "text/x-python",
   "name": "python",
   "nbconvert_exporter": "python",
   "pygments_lexer": "ipython3",
   "version": "3.7.6"
  }
 },
 "nbformat": 4,
 "nbformat_minor": 1
}
