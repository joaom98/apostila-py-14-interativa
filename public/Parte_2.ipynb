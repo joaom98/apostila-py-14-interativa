{
 "cells": [
  {
   "cell_type": "markdown",
   "metadata": {
    "colab_type": "text",
    "id": "a5zFvFJrrkRP"
   },
   "source": [
    "# DISCLAIMER\n",
    "\n",
    "\n",
    "\n",
    "---\n",
    "\n",
    "Esse documento ainda precisa passar por revisões e ser aprovado para que possa ser publicado e compartilhado.\n",
    "\n",
    "Esse documento ainda não representa a ideia final e está sujeito a mudanças.\n",
    "\n",
    "---\n",
    "\n"
   ]
  },
  {
   "cell_type": "markdown",
   "metadata": {
    "colab_type": "text",
    "id": "I6yhs915heKz"
   },
   "source": [
    "# CAPÍTULO\t2\n",
    "\n",
    "## O\tQUE\tÉ\tPYTHON\n",
    "\n",
    "### 2.1\tPYTHON\n",
    "Python\t é\t uma\t linguagem\t de\t programação\t interpretada,\t orientada\t a\t objetos,\t de\t alto\t nível\t e\t com\n",
    "semântica\tdinâmica.\tA\tsimplicidade\tdo\tPython\treduz\ta\tmanutenção\tde\tum\tprograma.\tPython\tsuporta\n",
    "módulos\te\tpacotes,\tque\tencoraja\ta\tprogramação\tmodularizada\te\treuso\tde\tcódigos.\n",
    "É\t uma\t das\t linguagens\t que\t mais\t tem\t crescido\t devido\t sua\t compatibilidade\t (roda\t na\t maioria\t dos\n",
    "sistemas\toperacionais)\te\t capacidade\tde\t auxiliar\toutras\tlinguagens.\t Programas\tcomo\t Dropbox,\tReddit\t e\n",
    "Instagram\tsão\tescritos\tem\tPython.\tPython\ttambém\té\ta\tlinguagem\tmais\tpopular\tpara\tanálise\tde\tdados\te\n",
    "conquistou\ta\tcomunidade\tcientífica.\n",
    "Mas\tantes\tque\tvocê\tse\tpergunte\to\tque\tcada\tuma\tdessas\tcoisas\trealmente\tsignifica,\tvamos\tcomeçar\ta\n",
    "desbravar\t o\t mundo\t Python\t e\t entender\t como\t funciona\t essa\t linguagem\t de\t programação\t que\t tem\n",
    "conquistado\tcada\tvez\tmais\tadeptos.\n",
    "\n",
    "Agora\té\ta\tmelhor\thora\tde\taprender\talgo\tnovo\n",
    "\n",
    "Se\t você\t está\t gostando\t dessa\t apostila,\t certamente\t vai\t aproveitar\t os\t cursos\n",
    "online\tque\tlançamos\tna\tplataforma\tAlura.\tVocê\testuda\ta\tqualquer\tmomento\n",
    "com\ta\tqualidade\tCaelum.\tProgramação,\tMobile,\tDesign,\tInfra,\tFront-End\te\n",
    "Business!\tEx-aluno\tda\tCaelum\ttem\t15%\tde\tdesconto,\tsiga\to\tlink!\n",
    "Conheça\ta\tAlura\tCursos\tOnline."
   ]
  },
  {
   "cell_type": "markdown",
   "metadata": {
    "colab_type": "text",
    "id": "6D3moYXfhrLX"
   },
   "source": [
    "### 2.2\tBREVE\tHISTÓRIA\n",
    "Python\tfoi\tcriada\tem\t1990\tpor\tGuido\tVan\tRossum\tno\tCentro\tde\tMatemática\tStichting\t(CWI,\tveja\n",
    "http://www.cwi.nl)\t na\t Holanda\t como\t uma\t sucessora\t da\t linguagem\t ABC.\t Guido\t é\t lembrado\t como\t o\n",
    "principal\tautor\tde\tPython\tmas\toutros\tprogramadores\tajudaram\tcom\tmuitas\tcontribuições.\n",
    "A\tlinguagem\tABC\tfoi\tdesenhada\tpara\tuso\tde\tnão\tprogramadores,\tmas\tlogo\tde\tinício\tmostrou\tcertas limitações\te\trestrições.\tA\tmaior\treclamação\tdos\tprimeiros\talunos\tnão\tprogramadores\tdessa\tlinguagem\n",
    "era\t a\t presença\t de\t regras\t arbitrárias\t que\t as\t linguagens\t de\t programação\t haviam\t estabelecido\n",
    "tradicionalmente\t-\tmuita\tcoisa\tde\tbaixo\tnível\tainda\tera\tfeita\te\tnão\tagradou\to\tpúblico.\n",
    "Guido\tentão\tse\tlançou\tna\ttarefa\tde\tcriar\tuma\tlinguagem\tde\tscript\tsimples\tque\tpossuísse\talgumas\tdas\n",
    "melhores\t propriedades\t da\t ABC.\t Listas\t Python,\t dicionários,\t declarações\t básicas\t e\t uso\t obrigatório\t de\n",
    "indentação\t-\tconceitos\tque\taprenderemos\tneste\tcurso\t-\tdiferenciam\tPython\tda\tlinguagem\tABC.\tGuido\n",
    "pretendia\t que\t Python\t fosse\t uma\t segunda\t linguagem\t para\t programadores\t C\t ou\t C++\t e\t não\t uma\n",
    "linguagem\tprincipal\tpara\tprogramadores\t-\to\tque\tmais\ttarde\tse\ttornou\tpara\tos\tusuários\tde\tPython.\n",
    "Em\t1995,\tGuido\tcontinuou\tseu\ttrabalho\tem\tPython\tna\tCorporation\tfor\tNational\tResearch\tInitiatives\n",
    "(CNRI,\t veja\t http://www.cnri.reston.va.us/)\t in\t Reston,\t Virginia\t onde\t ele\t lançou\t outras\t versões\t da\n",
    "linguagem.\n",
    "Em\tmaio\tde\t2000,\tGuido\te\to\ttime\tprincipal\tde\tPython\tse\tmudaram\tpara\ta\tBeOpen.com\tpara\tformar\n",
    "o\ttime\tBeOpen\tPythonLabs.\tEm\toutubro\tdo\tmesmo\tano,\to\ttime\tda\tPythonLabs\tse\tmoveu\tpara\ta\tDigital\n",
    "Creations\t(hoje,\tZope\tCorporation,\tveja\thttp://www.zope.org/).\tEm\t2001,\ta\tPython\tSoftware\tFoundation\n",
    "(PSF,\tveja\thttp://www.python.org/psf/),\tuma\torganização\tsem\tfins\tlucrativos,\tfoi\tformada\tespecialmente\n",
    "para\tmanter\ta\tlinguagem\te\thoje\tpossui\tsua\tpropriedade\tintelectual.\tA\tZope\tCorporation\té\tum\tmembro\n",
    "patrocinador\tda\tPSF.\n",
    "Todos\tos\tlançamentos\tde\tPython\tsão\tde\tcódigo\taberto\t(veja\thttp://www.opensource.org)."
   ]
  },
  {
   "cell_type": "markdown",
   "metadata": {
    "colab_type": "text",
    "id": "Buc4-eGHhvBK"
   },
   "source": [
    "### 2.3\tINTERPRETADOR\n",
    "Você\tprovavelmente\tjá\touviu\tou\tleu\tem\talgum\tlugar\tque\tPython\té\tuma\tlinguagem\tinterpretada\tou\n",
    "uma\t linguagem\t de\t script.\t Em\t certo\t sentido,\t também\t é\t verdade\t que\t Python\t é\t tanto\t uma\t linguagem\n",
    "interpretada\t quanto\t uma\t linguagem\t compilada.\t Um\t compilador\t traduz\t linguagem\t Python\t em\n",
    "linguagem\tde\tmáquina\t-\tcódigo\tPython\té\ttraduzido\tem\tum\tcódigo\tintermediário\tque\tdeve\tser\texecutado\n",
    "por\tuma\tmáquina\tvirtual\tconhecida\tcomo\tPVM\t(Python\tVirtual\tMachine).\tÉ\tmuito\tsimilar\tao\tJava\t-\thá\n",
    "ainda\tum\tjeito\tde\ttraduzir\tprogramas\tPython\tem\tbytecode\tJava\tpara\tJVM\t(Java\tVirtual\tMachine)\tusando\n",
    "a\timplementação\tJython.\n",
    "O\t interpretador\t faz\t esta\t 'tradução'\t em\t tempo\t real\t para\t código\t de\t máquina,\t ou\t seja,\t em\t tempo\t de\n",
    "execução.\tJá\to\tcompilador\ttraduz\to\tprograma\tinteiro\tem\tcódigo\tde\tmáquina\tde\tuma\tsó\tvez\te\tentão\to\n",
    "executa,\tcriando\tum\tarquivo\tque\tpode\tser\trodado\t(executável).\tO\tcompilador\tgera\tum\trelatório\tde\terros\n",
    "(casos\teles\texistam)\te\to\tinterpretador\tinterrompe\ta\ttradução\tquando\tencontra\tum\tprimeiro\terro.\n",
    "Em\t geral,\t o\t tempo\t de\t execução\t de\t um\t código\t compilado\t é\t menor\t que\t um\t interpretado\t já\t que\t o\n",
    "compilado\t é\t inteiramente\t traduzido\t antes\t de\t sua\t execução.\t Enquanto\t o\t interpretado\t é\t traduzido\n",
    "instrução\t por\t instrução.\t Python\t é\t uma\t linguagem\t interpretada\t mas,\t assim\t como\t Java,\t passa\t por\t um\n",
    "processo\tde\tcompilação.\tUm\tcódigo\tfonte\tJava\té\tprimeiramente\tcompilado\tpara\tum\tbytecode\te\tdepois interpretado\tpor\tuma\tmáquina\tvirtual.\n",
    "Mas\t devemos\t compilar\t script\t Python?\t Como\t compilar?\t Normalmente,\t não\t precisamos\t fazer\t nada\n",
    "disso\t porque\t o\t Python\t está\t fazendo\t isso\t para\t nós,\t ou\t seja,\t ele\t faz\t este\t passo\t automaticamente.\t Na\n",
    "verdade,\té\to\tinterpretador\tPyhton,\to\tCPython.\tA\tdiferença\té\tque\tem\tJava\té\tmais\tclara\tessa\tseparação,\to\n",
    "programador\tcompila\te\tdepois\texecuta\to\tcódigo.\n",
    "CPython\té\tuma\timplementação\tda\tlinguagem\tPython.\tPara\tfacilitar\to\tentendimento,\timagine\tque\té\n",
    "um\t pacote\t que\t vem\t com\t um\t compilador\t e\t um\t interpretador\t Python\t (no\t caso,\t uma\t Máquina\t Virtual\n",
    "Python)\t além\t de\t outras\t ferramentas\t para\t usar\t e\t manter\t o\t Python.\t CPython\t é\t a\t implementação\t de\n",
    "referência\t(a\tque\tvocê\tinstala\tdo\tsite\thttp://python.org)."
   ]
  },
  {
   "cell_type": "markdown",
   "metadata": {
    "colab_type": "text",
    "id": "q9Srizdlh-sO"
   },
   "source": [
    "### 2.4\tQUAL\tVERSÃO\tUTILIZAR?\n",
    "Para\t quem\t está\t começando,\t a\t primeira\t dúvida\t na\t hora\t da\t instalação\t é\t qual\t versão\t do\t Python\n",
    "devemos\tbaixar.\tAqui,\tdepende\tdo\tque\tse\tdeseja\tfazer.\tO\tPython3\tainda\tpossui\talgumas\tdesvantagens\n",
    "em\trelação\ta\tversão\t2\tcomo\to\tsuporte\tde\tbibliotecas\t(que\té\tmais\treduzido)\te\tpelo\tfato\tda\tmaioria\tdas\n",
    "distribuições\t Linux\t e\t o\t MacOS\t ainda\t utilizarem\t a\t versão\t 2\t como\t padrão\t em\t seus\t sistemas.\t Porém,\t o\n",
    "Python3\té\tmais\tmaduro\te\tmais\trecomendável\tpara\to\tuso.\n",
    "Existem\tcasos\tque\texigem\to\tPython2\tao\tinvés\tdo\tPython3\tcomo\timplementar\talgo\tem\tum\tambiente\n",
    "que\t o\t programador\t não\t controla\t ou\t quando\t precisa\t utilizar\t algum\t pacote/módulo\t específico\t que\t não\n",
    "possui\t versão\t compatível\t com\t Python3.\t Vale\t ressaltar\t para\t quem\t deseja\t utilizar\t uma\t implementação\n",
    "alternativa\t do\t Python,\t como\t o\t IronPython\t ou\t Jython,\t que\t o\t suporte\t ao\t Python3\t ainda\t é\t bastante\n",
    "limitado.\n",
    "Atualmente\texiste\ta\tferramenta\t2to3\tque\tpermite\tque\tcódigo\tPython3\tseja\tgerado\ta\tpartir\tde\tcódigo\n",
    "Python2.\t Há\t também\t a\t ferramenta\t 3to2,\t que\t visa\t converter\t o\t código\t Python3\t de\t volta\t ao\t código\n",
    "Python2.\t No\t entanto,\t é\t improvável\t que\t o\t código\t que\t faz\t uso\t intenso\t de\t recursos\t do\t Python3\t seja\n",
    "convertido\tcom\tsucesso.\n"
   ]
  },
  {
   "cell_type": "markdown",
   "metadata": {
    "colab_type": "text",
    "id": "5odi5xJgiCxQ"
   },
   "source": [
    "PARA\tSABER\tMAIS:\tMÓDULO\tFUTURE\n",
    "O\t módulo\t future\t do\t Python2\t contém\t bibliotecas\t que\t fazem\t uma\t ponte\t entre\t as\t versões\n",
    "anteriores\te\tas\tmais\trecentes.\tBasta\timportar\te\tbiblioteca\tfuture:\n",
    "\t\t\t>>>\timport\t__future__\n",
    "\n",
    "Para\tque\tvárias\tferramentas\tdisponíveis\tna\tversão\t3\tfuncionem\tna\tversão\t2,\tou\tseja,\to\tmódulo\n",
    "\t __future__\t \t\n",
    "\n",
    "permite\t usar\t funcionalidades\t do\t Python3\t no\t Python2.\t Mas\t cuidado,\t algumas\n",
    "funcionalidades\t são\t sobrescritas\t e\t é\t importante\t sempre\t checar\t a\t documentação:\n",
    "https://docs.python.org/3/library/\\_\\_future\\_\\_.html\n",
    "\n",
    "Optamos\t pelo\t uso\t da\t versão\t mais\t recente\t para\t este\t curso,\t a\t versão\t 3.6,\t e\t vamos\t introduzir\t as\n",
    "diferenças\tda\tversão\tPython2\tem\tcomentários\tdurante\tos\tcapítulos\te\tnos\tapêndices\tda\tapostila.\n",
    "\n",
    "Editora\tCasa\tdo\tCódigo\tcom\tlivros\tde\tuma\tforma\tdiferente\n",
    "\n",
    "Editoras\ttradicionais\tpouco\tligam\tpara\tebooks\te\tnovas\ttecnologias.\tNão\tdominam\n",
    "tecnicamente\t o\t assunto\t para\t revisar\t os\t livros\t a\t fundo.\t Não\t têm\t anos\t de\n",
    "experiência\tem\tdidáticas\tcom\tcursos.\n",
    "Conheça\ta\tCasa\tdo\tCódigo,\tuma\teditora\tdiferente,\tcom\tcuradoria\tda\tCaelum\t e\n",
    "obsessão\tpor\tlivros\tde\tqualidade\ta\tpreços\tjustos.\n",
    "Casa\tdo\tCódigo,\tebook\tcom\tpreço\tde\tebook."
   ]
  },
  {
   "cell_type": "markdown",
   "metadata": {
    "colab_type": "text",
    "id": "0U3MU0-EiXo6"
   },
   "source": [
    "### 2.5\tDOWNLOAD\n",
    "Como\tdito\tacima,\to\tPython\tjá\tvem\tinstalado\tnos\tsistemas\tLinux\te\tMac\tOS\tmas\tserá\tnecessário\tfazer\n",
    "o\tdownload\tda\túltima\tversão\t(Python\t3.6)\tpara\tacompanhar\ta\tapostila.\tO\tPython\tnão\tvem\tinstalado\tpor\n",
    "padrão\t no\t Windows\t e\t o\t download\t deverá\t ser\t feito\t no\t site\t https://www.python.org/\t além\t de\t algumas\n",
    "configurações\textras\t(veja\tapêndice\tdesta\tapostila\tsobre\tinstalação).\n"
   ]
  },
  {
   "cell_type": "markdown",
   "metadata": {
    "colab_type": "text",
    "id": "_n1yBE_VibaZ"
   },
   "source": [
    "### 2.6\tCPYTHON,\tJYTHON,\tIRONPYTHON?\n",
    "Existem\toutras\timplementações\tda\tlinguagem\tcomo\to\tJython\te\to\tIronPython.\tA\tdiferença\té\tque\testas\n",
    "implementações\t são\t apenas\t os\t compiladores.\t O\t bytecode\t gerado\t pelo\t Jython\t é\t interpretado\t por\t uma JVM\t(Java\tVirtual\tMachine)\te\to\tbytecode\tdo\tIronPython\tpor\tuma\tVirtual\tMachine\t.NET.\n",
    "Outra\t implementação\t que\t vem\t crescendo\t é\t o\t PyPy,\t uma\t implementação\t escrita\t em\t Python\t que\n",
    "possui\tuma\tVirtual\tMachine\tPython.\tÉ\tmais\tveloz\tdo\tque\to\tCPython\te\tvem\tcom\ta\ttecnologia\tJIT\t(Just\tIn\n",
    "Time)\tque\tjá\t\"traduz\"\to\tcódigo\tfonte\tem\tcódigo\tde\tmáquina.\n",
    "O\tCompilador\tPython\ttraduz\tum\tprograma.py\tpara\tbytecode\t-\tele\tcria\tum\tarquivo\tcorrespondente\n",
    "chamado\t programa.cpy.\t Se\t quisermos\t ver\t o\t bytecode\t pelo\t terminal,\t basta\t usar\t o\t módulo\t disassembler\n",
    "(dis)\tque\tsuporta\tanálise\tdo\tbytecode\tdo\tCPython,\tdesmontando-o.\tVocê\tpode\tchecar\ta\tdocumentação\n",
    "aqui:\thttps://docs.python.org/3/library/dis.html."
   ]
  },
  {
   "cell_type": "markdown",
   "metadata": {
    "colab_type": "text",
    "id": "Unb7XMncie33"
   },
   "source": [
    "### 2.7\tPEP\t-\tO\tQUE\tSÃO\tE\tPRA\tQUE\tSERVEM\n",
    "PEP,\tPython\tEnhancement\tProposals\tou\tPropostas\tpara\tMelhoramento\tno\tPython,\tcomo\to\tnome\tdiz\n",
    "são\t propostas\t de\t aprimoramento\t ou\t de\t novas\t funcionalidades\t para\t a\t linguagem.\t Qualquer\t um\t pode\n",
    "escrever\t uma\t proposta\t e\t a\t comunidade\t Python\t testa,\t avalia\t e\t decide\t se\t deve\t ou\t não\t fazer\t parte\t da\n",
    "linguagem.\tCaso\taprovado,\to\trecurso\té\tliberado\tpara\tas\tpróximas\tversões.\n",
    "No\tsite\toficial\tdo\tPython\t(https://www.python.org/)\tvocê\tpode\tchecar\ttodas\tas\tPEPs\tda\tlinguagem.\tA\n",
    "PEP\t 0\t é\t aquela\t que\t contém\t o\t índice\t de\t todas\t as\t propostas\t de\t aprimoramento\t do\t Python\t e\t pode\t ser\n",
    "acessada\taqui:\thttps://www.python.org/dev/peps.\n",
    "Ao\t longo\t do\t curso,\t de\t acordo\t com\t a\t aprendizagem\t e\t uso\t de\t certas\t funcionalidades,\t citaremos\n",
    "algumas\tPEPs\tmais\timportantes."
   ]
  },
  {
   "cell_type": "markdown",
   "metadata": {
    "colab_type": "text",
    "id": "YSkhdf9-in9S"
   },
   "source": [
    "### 2.8\tONDE\tUSAR\tE\tOBJETIVOS\n",
    "Python\t é\t uma\t linguagem\t de\t propósito\t geral.\t Muitas\t vezes\t precisamos\t lidar\t com\t tarefas\t laterais: buscar\tdados\tem\tum\tbanco\tde\tdados,\tler\tuma\tpágina\tna\tinternet,\texibir\tgraficamente\tos\tresultados,\tcriar\n",
    "planilhas\tetc.\tE\tPython\tpossui\tvários\tmódulos\tprontos\tpara\trealizar\tessas\ttarefas.\n",
    "Por\tesse\te\toutros\tmotivos\tque\tPython\tganhou\tgrande\tpopularidade\tna\tcomunidade\tcientífica.\tAlém\n",
    "disso,\t Python\t é\t extremamente\t legível\t e\t uma\t linguagem\t expressiva,\t ou\t seja,\t de\t fácil\t compreensão.\t As\n",
    "ciências,\tpor\toutro\tlado,\tpossuem\traciocínio\tessencialmente\tcomplicado\te\tseria\tum\tproblema\tadicional\n",
    "para\tcientistas\tconhecerem,\talém\tde\tseu\tassunto\tde\tpesquisa,\tassuntos\tcomplexos\tde\tum\tprograma\tde\n",
    "computador\t como\t alocação\t de\t memória,\t gerenciamento\t de\t recursos\t etc.\t Python\t faz\t isso\n",
    "automaticamente\tde\tmaneira\teficiente\te\tpossibilitando\to\tcientista\tse\tconcentrar\tno\tproblema\testudado."
   ]
  },
  {
   "cell_type": "markdown",
   "metadata": {
    "colab_type": "text",
    "id": "kqrXgnsjivNI"
   },
   "source": [
    "### 2.9\tPRIMEIRO\tPROGRAMA\n",
    "Vamos\tpara\tnosso\tprimeiro\tcódigo!\tUm\tprograma\tque\timprime\tuma\tmensagem\tsimples.\n",
    "Para\tmostrar\tuma\tmensagem\tespecífica,\tfazemos:\n"
   ]
  },
  {
   "cell_type": "code",
   "execution_count": 0,
   "metadata": {
    "colab": {},
    "colab_type": "code",
    "id": "FBDZd6sQIvyw"
   },
   "outputs": [],
   "source": [
    "print('Minha\tprimeira\taplicação\tPython!')"
   ]
  },
  {
   "cell_type": "markdown",
   "metadata": {
    "colab_type": "text",
    "id": "rx5Nh7gTi73H"
   },
   "source": [
    "Certo,\tmas\tonde\tdigitar\tesse\tcomando?\tComo\trodar\tuma\tinstrução\tPython?\n"
   ]
  },
  {
   "cell_type": "markdown",
   "metadata": {
    "colab_type": "text",
    "id": "AWhCSY4qi-m1"
   },
   "source": [
    "### 2.10\tMODO\tINTERATIVO\n",
    "Iremos,\tprimeiro,\taprender\to\tmodo\tinterativo\tutilizando\to\tterminal\t(Linux\te\tMacOS)\tou\to\tprompt\n",
    "de\tcomando\t(Windows)\tpara\trodar\to\tprograma\tacima.\tAbra\to\tterminal\te\tdigite:\n",
    "\n",
    "`dev@caelum:~$\tpython3.6`\n",
    "\n",
    "Isso\tvai\tabrir\to\tmodo\tinterativo\tdo\tPython\tna\tversão\t3.6\tda\tlinguagem,\ttambém\tchamado\tde\tconsole\n",
    "do\tPython.\tApós\tdigitar\teste\tcomando,\tas\tseguintes\tlinhas\tirão\taparecer\tno\tseu\tconsole:\n",
    "\n",
    "`Python\t3.6.4\t(default,\tJan\t28\t2018,\t00:00:00)`\n",
    "\n",
    "`[GCC\t4.8.4]\ton\tlinux`\n",
    "\n",
    "`Type\t\"help\",\t\"copyright\",\t\"credits\"\tor\t\"license\"\tfor\tmore\tinformation.`\n",
    "\n",
    "`>>>`\n",
    "\n",
    "A\tprimeira\tlinha\tindica\tque\ta\tversão\tutilizada\tdo\tPython\té\ta\tversão\t3.6.4.\tA\tsegunda\tindica\to\tsistema\n",
    "operacional\t(no\tcaso,\to\tLinux).\tA\tterceira\tmostra\talgumas\tpalavras\tchaves\tdo\tinterpretador\tpara\tacessar\n",
    "algumas\tinformações\t-\tdigite\talguma\tdelas\te\taperte\t\tENTER\t\tpara\ttestar.\n",
    "O\t'>>>'\tindica\tque\tentramos\tno\tmodo\tinterativo\tdo\tPython\te\tbasta\tcomeçar\ta\tescrever\tos\tcomandos.\n",
    "Vamos\tentão\tescrever\tnosso\tprimeiro\tprograma\tPython:\n",
    "\n",
    "`>>>\tprint('Minha\tprimeira\taplicação\tPython!')`\n",
    "\n",
    "Ao\tapertar\t\tENTER\t,\ttemos:\n",
    "\n",
    "`>>>\tprint('Minha\tprimeira\taplicação\tPython!')`  \n",
    "`Minha\tprimeira\taplicação\tPython!`"
   ]
  },
  {
   "cell_type": "markdown",
   "metadata": {
    "colab_type": "text",
    "id": "ihtsYeBfjwGW"
   },
   "source": [
    "O\tprint()\té\tuma\tfunção\tdo\tPython\tutilizada\tpara\timprimir\talguma\tmensagem\tna\ttela.\tMais\tdetalhes\n",
    "sobre\t funções\t são\t tratados\t em\t um\t capítulo\t específico\t desta\t apostila.\t Neste\t momento,\t entenda\t uma\n",
    "função\tcomo\tuma\tfuncionalidade\tpronta\tque\ta\tlinguagem\tfornece.\n",
    "Uma\tmensagem\tdeve\testar\tdelimitada\tentre\taspas\tsimples\t('')\tou\tduplas\t(\"\"),\tcomo\tfeito\tno\texemplo\n",
    "acima\tcom\ta\tmensagem:\t'Minha\tprimeira\taplicação\tPython!'.\tO\tinterpretador,\tno\tmodo\tinterativo,\tjá\tvai\n",
    "mostrar\ta\tsaída\tdeste\tcomando\tno\tconsole,\tlogo\tabaixo\tdele.\n",
    "Mas\te\tse\tum\tprograma\tpossuir\t1.000\tlinhas\tde\tcódigo?\tTeremos\tque\tdigitar\tessas\tmil\tlinhas\ttodas\tas\n",
    "vezes\t para\t rodar\t o\t programa?\t Isso,\t obviamente,\t seria\t um\t problema.\t Existe\t outro\t modo\t de\n",
    "desenvolvimento\tno\tPython,\tmais\tutilizado,\tque\tevita\tdigitar\tum\tprograma\tlongo\tno\tconsole\ttoda\tvez\n",
    "que\tprecisar\texecutá-lo."
   ]
  },
  {
   "cell_type": "markdown",
   "metadata": {
    "colab_type": "text",
    "id": "hJR-yg71lATj"
   },
   "source": [
    "2.11\tMODO\tSCRIPT\n",
    "O\t modo\t interativo\t é\t mais\t utilizado\t para\t testes\t enquanto\t que\t o\t modo\t script\t é\t mais\t comumente\n",
    "utilizado\t na\t hora\t de\t desenvolver.\t No\t modo\t script\t isolamos\t o\t código\t Python\t em\t um\t arquivo\t com\n",
    "extensão\t.py.\tDessa\tmaneira,\to\tcódigo\té\tescrito\tuma\túnica\tvez\te\texecutado\tpelo\tinterpretador\tatravés\tdo\n",
    "comando\tpython3\t(ou\to\tcomando\tpython\tse\testiver\tutilizando\to\tPython2).\n",
    "Abra\tum\teditor\tde\ttexto\tde\tsua\tpreferência\te\tescreva\to\tprograma\tanterior\tnele:"
   ]
  },
  {
   "cell_type": "code",
   "execution_count": 0,
   "metadata": {
    "colab": {},
    "colab_type": "code",
    "id": "BMDqT09Rk6A1"
   },
   "outputs": [],
   "source": [
    "print('Minha\tprimeira\taplicação\tPython!')"
   ]
  },
  {
   "cell_type": "markdown",
   "metadata": {
    "colab_type": "text",
    "id": "5GLnVqHElHBs"
   },
   "source": [
    "Salve\to\tarquivo\tcomo\tprograma.py.\tPara\texecutá-lo,\tabra\to\tterminal,\tnavegue\taté\to\tdiretório\tonde\tse\n",
    "encontra\to\tarquivo\tprograma.py\te\tdigite:\n",
    "\n",
    "`python3\tprograma.py`\n",
    "\n",
    "Ao\tapertar\t\tENTER\t,\tvai\taparecer\tno\tconsole:\n",
    "\n",
    "`dev@caelum:~$\tpython3\tprograma.py`\n",
    "\n",
    "`Minha\tprimeira\taplicação\tPython!`\n",
    "\n",
    "Veja\t que\t agora\t isolamos\t o\t código\t em\t uma\t arquivo\t e\t o\t executamos\t através\t do\t comando\t python3.\n",
    "Mas\tnão\tdevemos\tcompilar\tscript\tPython?\tComo\tcompilar?\n",
    "Normalmente\tnão\tprecisamos\tfazer\tnada\tdisso\tporque\to\tPython\testá\tfazendo\tisso\tnos\tbastidores,\tou\n",
    "seja,\t ele\t faz\t este\t passo\t automaticamente.\t Se\t por\t algum\t motivo\t você\t queira\t compilar\t um\t programa\n",
    "Python\tmanualmente,\tvocê\tdeve\tusar\to\tmódulo\tpy_compile\tno\tconsole\tdo\tPython:\n",
    "\n",
    "`>>>\timport\tpy_compile``\n",
    "\n",
    "`>>>\tpy_compile.compile('programa.py')`\n",
    "\n",
    "`'__pycache__/programa.cpython-34.pyc'`\n",
    "\n",
    "O\t comando\t import\t importa\t o\t módulo\t py_compile\t que\t disponibiliza\t a\t função\t compile().\t Ou\n",
    "podemos\tobter\to\tmesmo\tresultado\tutilizando\to\tseguinte\tcomando\tno\tterminal:\n",
    "\n",
    "`python3\t-m\tpy_compile\tprograma.py`\n",
    "\n",
    "`python3\t-m\tcompileall`\n",
    "\n",
    "Mas\t nada\t disso\t é\t necessário.\t O\t processo\t de\t compilação\t é\t feito\t automaticamente\t e\t não\t é\t preciso\n",
    "repetir\ttodo\teste\tprocesso\tpara\trodar\tum\tprograma\tPython.\n",
    "Apenas\t rodando\t o\t programa,\t sem\t precisar\t compilá-lo,\t note\t que\t uma\t nova\t pasta\t chamada\n",
    "`__pycache__`\té\tcriada\t(caso\tela\tnão\texista)\tno\tmesmo\tdiretório\tque\to\tprograma\tfoi\texecutado.\tDentro\n",
    "desta\tpasta\té\tcriado\tum\tarquivo\tprograma.cpython-34.pyc\t-\testa\té\ta\tversão\tcompilada\tdo\tprograma,\to\n",
    "código\tbytecode\tgerado\tpelo\tCPython.\n",
    "Sempre\tque\tum\tprograma\tPython\té\tchamado,\to\tPython\tchecará\tse\texiste\tuma\tversão\tcompilada\tcom\n",
    "a\t extensão\t .pyc\t -\t este\t arquivo\t deve\t ser\t mais\t novo\t do\t que\t o\t de\t extensão\t .py\t (se\t o\t arquivo\t existir).\t O\n",
    "Python\t vai\t carregar\t o\t bytecode,\t o\t que\t vai\t acelerar\t o\t script.\t Senão\t existir\t a\t versão\t bytecode,\t o\t Python\n",
    "criará\to\tarquivo\tbytecode\tantes\tde\tiniciar\ta\texecução\tdo\tprograma.\tExecução\tde\tum\tprograma\tPython\n",
    "significa\ta\texecução\tde\tum\tcódigo\tbytecode\tna\tPython\tVirtual\tMachine.\n",
    "\n",
    "Toda\t vez\t que\t um\t script\t Python\t é\t executado,\t um\t código\t bytecode\t é\t criado.\t Se\t um\t script\t Python\t é\n",
    "importado\tcomo\tum\tmódulo,\to\tbytecode\tvai\tarmazenar\tseu\tarquivo\t.pyc\tcorrespondente.\n",
    "Portanto,\to\tpasso\tseguinte\tnão\tcriará\to\tarquivo\tbytecode\tjá\tque\to\tinterpretador\tvai\tverificar\tque\tnão\n",
    "existe\tnenhuma\talteração:\n",
    "\n",
    "`dev@caelum:~$\tpython\tprograma.py`\n",
    "\n",
    "`Minha\tprimeira\taplicação\tPython!`\n",
    "\n",
    "`dev@caelum:~$`\n"
   ]
  },
  {
   "cell_type": "markdown",
   "metadata": {
    "colab_type": "text",
    "id": "B9LM6d5Gm6j5"
   },
   "source": [
    "### 2.12\tEXERCÍCIO:\tMODIFICANDO\tO\tPROGRAMA\n",
    "1.\t Altere\to\tprograma\tpara\timprimir\tuma\tmensagem\tdiferente.\n",
    "2.\t Altere\tseu\tprograma\tpara\timprimir\tduas\tlinhas\tde\tcódigo\tutilizando\ta\tfunção\t\tprint()\t.\n",
    "3.\t Sabendo\t que\t os\t caracteres\t \t\\n\t\t representam\t uma\t quebra\t de\t linha,\t imprima\t duas\t linhas\t de\t texto\n",
    "usando\tuma\túnica\tlinha\tde\tcódigo.\n"
   ]
  },
  {
   "cell_type": "code",
   "execution_count": 0,
   "metadata": {
    "colab": {},
    "colab_type": "code",
    "id": "zWAqZ_EinB7p"
   },
   "outputs": [],
   "source": [
    "print(\"Olá mundo\")"
   ]
  },
  {
   "cell_type": "markdown",
   "metadata": {
    "colab_type": "text",
    "id": "Tp62oS29nHOY"
   },
   "source": [
    "### 2.13\tO\tQUE\tPODE\tDAR\tERRADO?\n",
    "Nem\t sempre\t as\t coisas\t acontecem\t como\t esperado.\t O\t Python\t tem\t uma\t sintaxe\t própria,\t um\n",
    "vocabulário\t próprio.\t Digitar\t algo\t que\t o\t interpretador\t não\t entende\t causará\t um\t erro\t no\t programa.\n",
    "Vejamos\talguns\texemplos:\n"
   ]
  },
  {
   "cell_type": "code",
   "execution_count": 0,
   "metadata": {
    "colab": {
     "base_uri": "https://localhost:8080/",
     "height": 135
    },
    "colab_type": "code",
    "id": "ihBbQKsjFUy5",
    "outputId": "b36b0184-fdaf-4e83-ce78-a7d6c48f6f4c"
   },
   "outputs": [
    {
     "ename": "SyntaxError",
     "evalue": "ignored",
     "output_type": "error",
     "traceback": [
      "\u001b[0;36m  File \u001b[0;32m\"<ipython-input-4-b0abaaafc2b5>\"\u001b[0;36m, line \u001b[0;32m1\u001b[0m\n\u001b[0;31m    print\tMinha\tprimeira\taplicação\tPython!\u001b[0m\n\u001b[0m         \t    ^\u001b[0m\n\u001b[0;31mSyntaxError\u001b[0m\u001b[0;31m:\u001b[0m invalid syntax\n"
     ]
    }
   ],
   "source": [
    "# Esquecer\tos\tparênteses\n",
    "print\tMinha\tprimeira\taplicação\tPython!"
   ]
  },
  {
   "cell_type": "markdown",
   "metadata": {
    "colab_type": "text",
    "id": "UOHerTbRFgGk"
   },
   "source": [
    "Não\tse\tassuste\tcom\ta\tmensagem.\tVamos\tentender\to\tque\tela\tquer\tdizer.\tNa\tprimeira\tlinha\taparece\ta\n",
    "palavra\t\tTraceback\t\tque\tsignifica\talgo\tcomo:\t\"O\tque\to\tprograma\testava\tfazendo\tquando\tparou\tporque\n",
    "algo\tde\terrado\taconteceu?\".\tÉ\tpor\teste\tmotivo\tque\ta\tmensagem\t \tmost\t recent\t call\t last\t\t (chamada\n",
    "mais\trecente)\té\tmostrada.\n",
    "A\t\tTraceback\t\tfaz\treferência\ta\tum\tarquivo\t-\tque\té\to\tnome\tdo\tarquivo\tPython\tchamado\tacima\tpelo\n",
    "nome\tde\t\tstdin\t\tque\tpossui\tmétodos\tpara\tleitura,\tonde\to\tprograma\tlê\ta\tentrada\tdo\tteclado.\tO\tprograma\n",
    "acusa\tque\teste\terro\testá\tna\tprimeira\tlinha\tdo\tprograma:\t\tFile\t\"<stdin>\",\tline\t1\t.\n",
    "Logo\t em\t seguida\t é\t mostrado\t exatamente\t a\t parte\t do\t código\t que\t gerou\t o\t erro:\t \tprint\t 'Minha\n",
    "primeira\taplicação\tPython!'\t.\tA\tpróxima\tlinha\té\ta\tmensagem\tde\terro:\t \tSyntaxError\t.\tSe\tvocê\tnão\n",
    "\n",
    "faz\t a\t menor\t ideia\t do\t que\t esta\t mensagem\t significa\t é\t um\t bom\t começo\t e\t uma\t boa\t prática\t durante\t a aprendizagem\tpesquisar\ta\trespeito\tdela\tna\tinternet,\tassim\tcomo\tdemais\terros\tque\tpossam\tsurgir.\n",
    "Neste\tcaso,\té\tum\t \tSyntaxError\t,\tou\tseja,\t \tErro\t de\t Sintaxe\t\t -\t o\t Python\t não\t entendeu\t o\t que\t foi\n",
    "digitado.\tA\tmensagem\tdiz\tque\tfaltam\tos\tparênteses!\tEntão,\té\tfácil\tachar\tum\terro\tquando\tele\tacontece.\n",
    "Algumas\tvezes\tvocê\tverá\ta\tpalavra\t\tException\t\tem\tuma\tmensagem\tde\terro.\tUma\t\tException\t\té\tum\n",
    "problema\t que\t ocorre\t enquanto\t o\t código\t está\t sendo\t executado.\t Já\t o\t \tSyntaxError\t\t é\t um\t problema\n",
    "detectado\tquando\to\tPython\tverifica\to\tcódigo\tantes\tde\texecutá-lo,\tou\tseja,\tem\ttempo\tde\tcompilação.\n",
    "\n"
   ]
  },
  {
   "cell_type": "code",
   "execution_count": 0,
   "metadata": {
    "colab": {
     "base_uri": "https://localhost:8080/",
     "height": 135
    },
    "colab_type": "code",
    "id": "w6qr98n0FZjo",
    "outputId": "4057e75b-4da8-442f-dc7c-674f20b7cb3e"
   },
   "outputs": [
    {
     "ename": "SyntaxError",
     "evalue": "ignored",
     "output_type": "error",
     "traceback": [
      "\u001b[0;36m  File \u001b[0;32m\"<ipython-input-5-df29e2f46156>\"\u001b[0;36m, line \u001b[0;32m1\u001b[0m\n\u001b[0;31m    print('Minha\tprimeira\taplicação\tPython!'\u001b[0m\n\u001b[0m                \t        \t         \t        ^\u001b[0m\n\u001b[0;31mSyntaxError\u001b[0m\u001b[0;31m:\u001b[0m unexpected EOF while parsing\n"
     ]
    }
   ],
   "source": [
    "# Esquecer\tde\tfechar\tos\tparênteses\n",
    "print('Minha\tprimeira\taplicação\tPython!'"
   ]
  },
  {
   "cell_type": "markdown",
   "metadata": {
    "colab_type": "text",
    "id": "pXF_lpdmFu1u"
   },
   "source": [
    "Neste\tcaso\tnão\té\tuma\texceção\tou\terro,\ta\tnão\tser\tque\tvocê\tdigite\tqualquer\toutra\tcoisa\tque\tnão\tum\n",
    "fechamento\tde\tparêntese\te\taperte\ta\ttecla\t\tENTER\t."
   ]
  },
  {
   "cell_type": "code",
   "execution_count": 0,
   "metadata": {
    "colab": {
     "base_uri": "https://localhost:8080/",
     "height": 135
    },
    "colab_type": "code",
    "id": "Rd-sQ8qZFzJJ",
    "outputId": "aa2dd3f3-8e7d-47b7-8bdd-e186c5581ce3"
   },
   "outputs": [
    {
     "ename": "SyntaxError",
     "evalue": "ignored",
     "output_type": "error",
     "traceback": [
      "\u001b[0;36m  File \u001b[0;32m\"<ipython-input-6-beb876a3952a>\"\u001b[0;36m, line \u001b[0;32m1\u001b[0m\n\u001b[0;31m    print(Minha\tprimeira\taplicação\tPython!)\u001b[0m\n\u001b[0m               \t       ^\u001b[0m\n\u001b[0;31mSyntaxError\u001b[0m\u001b[0;31m:\u001b[0m invalid syntax\n"
     ]
    }
   ],
   "source": [
    "# Esquecer\tde\tcolocar\ta\tmensagem\tentre\taspas\t(simples\tou\tduplas)\n",
    "print(Minha\tprimeira\taplicação\tPython!)"
   ]
  },
  {
   "cell_type": "markdown",
   "metadata": {
    "colab_type": "text",
    "id": "_4qpircyF9LM"
   },
   "source": [
    "Mais\tuma\tvez\tacusa\terro\tde\tsintaxe.\n",
    "Estes\t foram\t alguns\t erros\t que\t o\t programa\t pode\t gerar\t por\t desatenção\t do\t programador.\t São\t mais\n",
    "comuns\tde\tacontecer\tdo\tque\tse\timagina.\tOutros\terros\tserão\tabordados\tem\tum\tcapítulo\tespecífico\tdesta\n",
    "apostila.\t Neste\t momento\t iremos\t aprender\t outros\t recursos\t que\t a\t linguagem\t Python\t oferece\t e\t se\n",
    "familiarizar\tcom\tsua\tsintaxe."
   ]
  }
 ],
 "metadata": {
  "colab": {
   "collapsed_sections": [
    "AWhCSY4qi-m1",
    "B9LM6d5Gm6j5",
    "Tp62oS29nHOY",
    "toIe6YYZGDCJ",
    "SjwDGBcmH-HH",
    "pFX5OJ0OI3cF",
    "semjtR4ER8j9",
    "z_ykJqn5SbD6",
    "B1-xRAIsCOpj",
    "0WUuCdz1DBGA",
    "zeLjdgBVF0cX",
    "m2hl0lo5Jy81",
    "HZyP6gYjbjBV",
    "3DDKo3RmdGVZ",
    "__fWUnl_eu89",
    "kScysrrpgV0F",
    "kHi5j4xfif_V",
    "Gf5p2AWOnD6L",
    "nioVHrpto6oY",
    "fWO-hsuXsqmi",
    "HNd3rEvM0vVk",
    "sG3uBQqc6M5A",
    "JktfWQnN8UWe",
    "kmJuze08EGF5",
    "_xCpIhn7IcBS",
    "aTa0t1HcLs0t",
    "QE-0ReKWMkle",
    "YAImLTCbQMc7",
    "cNB0Zm5sRTdk",
    "BeSLrrmjKuHy",
    "-05kqpD7L2HG",
    "aGJuldwHMRLH",
    "J5LAe9piMmFX",
    "AlKz4soDBERe",
    "H4ffkXfyCGa3",
    "Pg-InPJAEdZe",
    "JQpFLomJFZf-",
    "64qkenrMGOmR",
    "1ZhqTs3BJZUZ",
    "GAuTUacELGwq",
    "AqOyXdecVIq0",
    "dty5_A1_ZNEA"
   ],
   "name": "Parte_1.ipynb",
   "provenance": [],
   "toc_visible": true
  },
  "kernelspec": {
   "display_name": "Python 3",
   "language": "python",
   "name": "python3"
  },
  "language_info": {
   "codemirror_mode": {
    "name": "ipython",
    "version": 3
   },
   "file_extension": ".py",
   "mimetype": "text/x-python",
   "name": "python",
   "nbconvert_exporter": "python",
   "pygments_lexer": "ipython3",
   "version": "3.7.6"
  }
 },
 "nbformat": 4,
 "nbformat_minor": 1
}
