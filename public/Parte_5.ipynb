{
 "cells": [
  {
   "cell_type": "markdown",
   "metadata": {
    "colab_type": "text",
    "id": "a5zFvFJrrkRP"
   },
   "source": [
    "# DISCLAIMER\n",
    "\n",
    "\n",
    "\n",
    "---\n",
    "\n",
    "Esse documento ainda precisa passar por revisões e ser aprovado para que possa ser publicado e compartilhado.\n",
    "\n",
    "Esse documento ainda não representa a ideia final e está sujeito a mudanças.\n",
    "\n",
    "---\n",
    "\n"
   ]
  },
  {
   "cell_type": "markdown",
   "metadata": {
    "colab_type": "text",
    "id": "cNB0Zm5sRTdk"
   },
   "source": [
    "## CAPÍTULO 5\n",
    "## FUNÇÕES\n",
    "\n",
    "Objetivos:\n",
    "entender o conceito de função\n",
    "saber e usar algumas funções embutidas da linguagem\n",
    "criar uma função\n"
   ]
  },
  {
   "cell_type": "markdown",
   "metadata": {
    "colab_type": "text",
    "id": "BeSLrrmjKuHy"
   },
   "source": [
    "### 5.1 O QUE É UMA FUNÇÃO?\n",
    "O  conceito  de  função  é  um  dos  mais  importantes  na  matemática.  Em  computação,  uma  função  é\n",
    "uma  sequência  de  instruções  que  computa  um  ou  mais  resultados  que  chamamos  de  parâmetros.  No\n",
    "capítulo anterior utilizamos algumas funções já prontas do Python como o `print()`, `input()`, `format()` e\n",
    "`type()`."
   ]
  },
  {
   "cell_type": "markdown",
   "metadata": {
    "colab_type": "text",
    "id": "Pg9qBTbWLBQh"
   },
   "source": [
    "Também podemos criar nossas próprias funções. Por exemplo, quando queremos calcular a razão do\n",
    "espaço pelo tempo podemos definir uma função recebendo estes parâmetros:\n",
    "\n",
    "    f(espaco, tempo) = espaco/tempo\n",
    "\n",
    "Se  um  carro  percorreu  uma  distância  de  100  metros  em  20  segundos  podemos  calcular  sua\n",
    "velocidade média:\n",
    "\n",
    "    velocidade(100, 20) = 100/20 = 5 m/s\n",
    "\n",
    "O Python permite definirmos funções como essa da velocidade média. A sintaxe é muito parecida\n",
    "com a da matemática. Para definirmos uma função no Python utilizamos o comando def:\n",
    "\n",
    "    def velocidade(espaco, tempo):\n",
    "        pass\n",
    "\n",
    "Logo após o   def  vem o nome da função e entre parêntese vêm os seus parâmetros. Uma função\n",
    "também tem um escopo, um bloco de instruções em que colocamos os cálculos e estes devem seguir a\n",
    "identação padrão do Python (4 espaços a direita).\n",
    "Como nossa função ainda não faz nada, utilizamos a palavra chave pass para dizer ao interpretador.\n",
    "que definiremos os cálculo depois. A palavra   pass  não é usada apenas em funções, podemos usar em\n",
    "qualquer bloco de comandos como nas instruções  if ,  while  e  for , por exemplo.\n",
    "Vamos substituir a palavra  pass  pelos cálculos que nossa função deve executar:"
   ]
  },
  {
   "cell_type": "code",
   "execution_count": 0,
   "metadata": {
    "colab": {},
    "colab_type": "code",
    "id": "cUAXMfyrLDNm"
   },
   "outputs": [],
   "source": [
    "def velocidade(espaco, tempo):\n",
    "    v = espaco/tempo\n",
    "    print('velocidade: {} m/s'.format(v))"
   ]
  },
  {
   "cell_type": "markdown",
   "metadata": {
    "colab_type": "text",
    "id": "muBNKS9GLojG"
   },
   "source": [
    "Nossa  função  faz  o  cálculo  da  velocidade  média  e  utiliza  a  função   print()   do  Python  para\n",
    "imprimir na tela. Vamos testar nossa função:\n",
    "\n",
    "    >>> velocidade(100, 20)\n",
    "    velocidade: 5 m/s\n",
    "De maneira geral, uma função é um estrutura para agrupar um conjunto de instruções que podem\n",
    "ser  reutilizadas.  Agora  qualquer  parte  do  nosso  programa  pode  chamar  a  função  velocidade  quando\n",
    "precisar calcular a velocidade média de um veículo, por exemplo. E podemos chamá-la mais de uma vez,\n",
    "o que significa que não precisamos escrever o mesmo código novamente.\n",
    "Funções  são  conhecidas  por  diversos  nomes  em  linguagens  de  programação  como  subrotinas,\n",
    "rotinas, procedimentos, métodos e subprogramas.\n",
    "Podemos ter funções sem parâmetros. Por exemplo, podemos ter uma função que diz 'oi' na tela:\n",
    "\n",
    "    >>> def diz_oi():\n",
    "    ...    print(\"oi\")\n",
    "    >>> \n",
    "    >>> diz_oi()\n",
    "    oi"
   ]
  },
  {
   "cell_type": "markdown",
   "metadata": {
    "colab_type": "text",
    "id": "-05kqpD7L2HG"
   },
   "source": [
    "### 5.2 PARÂMETROS DE FUNÇÃO\n",
    "Um conjunto de parâmetros consiste em uma lista com nenhum ou mais elementos que podem ser\n",
    "obrigatórios ou opcionais. Para um parâmetro ser opcional atribuímos um valor padrão (default) para\n",
    "ele - o mais comum é utilizar None. Por exemplo:"
   ]
  },
  {
   "cell_type": "code",
   "execution_count": 0,
   "metadata": {
    "colab": {},
    "colab_type": "code",
    "id": "OHqYlXtVL8ap"
   },
   "outputs": [],
   "source": [
    "def dados(nome, idade=None):\n",
    "    print('nome: {}'.format(nome))\n",
    "    if(idade is not None):\n",
    "        print('idade: {}'.format(idade))\n",
    "    else:\n",
    "        print('idade: não informada')"
   ]
  },
  {
   "cell_type": "markdown",
   "metadata": {
    "colab_type": "text",
    "id": "mtuBguLLMC23"
   },
   "source": [
    "O  código  da  função  acima  recebe  uma  idade  como  parâmetro  e  faz  uma  verificação  com  uma\n",
    "instrução if: se a idade for diferente de None ela vai imprimir a idade, caso contrário vai imprimir idade\n",
    "não informada. Vamos testar passando os dois parâmetros e depois apenas o nome:\n",
    "\n",
    "    >>> dados('joão', 20)\n",
    "    nome: joão\n",
    "    idade: 20\n",
    "Agora passando apenas o nome:\n",
    "\n",
    "    >>> dados('joão')\n",
    "    nome: joão\n",
    "    idade: não informada\n",
    "E o que acontece se passarmos apenas a idade?\n",
    "\n",
    "    >>> dados(20)\n",
    "    nome: 20\n",
    "    idade: não informada\n",
    "Veja que o Python obedece a ordem dos parâmetros. Nossa intenção era passar o número 20 como\n",
    " idade  mas o interpretador vai entender que estamos passando o  nome  porque não avisamos isso à ele.\n",
    "Caso queiramos passar apenas a  idade , devemos nomear o parâmetro:\n",
    "\n",
    "    >>> dados(idade=20)\n",
    "     File \"<stdin>\", line 1, in <module>\n",
    "    TypeError: dados() missing 1 required positional argument: 'nome'\n",
    "O interpretador vai acusar um erro já que não passamos o atributo obrigatório  nome ."
   ]
  },
  {
   "cell_type": "markdown",
   "metadata": {
    "colab_type": "text",
    "id": "aGJuldwHMRLH"
   },
   "source": [
    "### 5.3 FUNÇÃO COM RETORNO\n",
    "E se ao invés de apenas mostrar o resultado, quisermos utilizar a velocidade média para fazer outro\n",
    "cálculo  como  calcular  a  aceleração?  Da  maneira  como  está,  nossa  função    velocidade()    não\n",
    "conseguimos utilizar seu resultado final para cálculos.\n",
    "\n",
    "    Exemplo: \n",
    "    aceleracao = velocidade(parametros) / tempo\n",
    "Para conseguirmos este comportamento, precisamos que nossa função retorne o valor calculado por\n",
    "ela. No Python, utilizamos o comando return:"
   ]
  },
  {
   "cell_type": "code",
   "execution_count": 0,
   "metadata": {
    "colab": {},
    "colab_type": "code",
    "id": "02oCP76CMXWI"
   },
   "outputs": [],
   "source": [
    "def velocidade(espaco, tempo):\n",
    "    v = espaco/tempo\n",
    "    return v"
   ]
  },
  {
   "cell_type": "markdown",
   "metadata": {
    "colab_type": "text",
    "id": "GvE0ot3BMbSc"
   },
   "source": [
    "Testando:\n",
    "\n",
    "    >>> velocidade(100, 20)\n",
    "    5.0\n",
    "Ou ainda, podemos atribuir a uma variável:\n",
    "\n",
    "    >>> resultado = velocidade(100, 20)\n",
    "    >>> resultado\n",
    "    5.0\n",
    "E conseguimos utilizar no cálculo da aceleração:\n",
    "\n",
    "    >>> aceleracao = velocidade(100, 20)/20\n",
    "    0.25\n",
    "Uma função pode conter mais de um comando return. Por exemplo, nossa função   dados()   que\n",
    "imprime o nome e a idade, pode agora retornar uma string. Repare que, neste caso, temos duas situações\n",
    "possíveis: a que a idade é passada por parâmetro e a que ela não é passada. Aqui, teremos dois comandos\n",
    "return:"
   ]
  },
  {
   "cell_type": "code",
   "execution_count": 0,
   "metadata": {
    "colab": {},
    "colab_type": "code",
    "id": "jAZepC35MgiW"
   },
   "outputs": [],
   "source": [
    "def dados(nome, idade=None):\n",
    "        if(idade is not None):\n",
    "            return ('nome: {} \\nidade: {}'.format(nome, idade))\n",
    "        else:\n",
    "            return ('nome: {} \\nidade: não informada'.format(nome))"
   ]
  },
  {
   "cell_type": "markdown",
   "metadata": {
    "colab_type": "text",
    "id": "vD9R4KueMjqQ"
   },
   "source": [
    "Apesar da função possuir dois comandos return, ela tem apenas um retorno -- vai retornar um ou o\n",
    "outro. Quando a função encontra um comando return ela não executa mais nada que vier depois dele\n",
    "dentro de seu escopo."
   ]
  },
  {
   "cell_type": "markdown",
   "metadata": {
    "colab_type": "text",
    "id": "J5LAe9piMmFX"
   },
   "source": [
    "### 5.4 RETORNANDO MÚLTIPLOS VALORES\n",
    "Apesar  de  uma  função  executar  apenas  um  retorno,  em  Python  podemos  retornar  mais  de  uma\n",
    "valor.  Vamos  fazer  uma  função  calculadora  que  vai  retornar  os  resultados  de  operações  básicas  entre\n",
    "dois números: adição(+) e subtração(-), nesta ordem.\n",
    "Para retornar múltiplos valores, retornamos os resultados separados por virgula:\n",
    "\n",
    "    def calculadora(x, y):\n",
    "        return x+y, x-y\n",
    "    >>> calculadora(1, 2)\n",
    "    (3, -1)\n",
    "\n",
    "Qual será o tipo de retorno desta função? Vamos perguntar ao interpretador através da função type:\n",
    "\n",
    "    >>> type(calculadora(1,2))\n",
    "    <class 'tuple'>\n",
    "Da maneira que definimos o retorno, a função devolve uma tupla. Neste caso específico, poderíamos retornar um dicionário e usar um laço  for  para imprimir os resultados:\n",
    "\n",
    "    >>> def calculadora(x, y):\n",
    "    ...        return {'soma':x+y, 'subtração':x-y}\n",
    "    ...\n",
    "    >>> resultados = calculadora(1, 2)\n",
    "    >>> for key in resultados:\n",
    "    ...     print('{}: {}'.format(key, resultados[key]))\n",
    "    ...\n",
    "    soma: 3\n",
    "    subtração: -1"
   ]
  },
  {
   "cell_type": "markdown",
   "metadata": {
    "colab_type": "text",
    "id": "AlKz4soDBERe"
   },
   "source": [
    "### 5.5 EXERCÍCIOS: FUNÇÕES\n",
    "1.  Defina uma função chamada `velocidade_media()` em um script chamado   `funcoes.py`   que  recebe dois parâmetros: a distância percorrida (em metros) e o tempo (em segundos) gasto.\n",
    "     \n",
    "         def velocidade_media(distancia, tempo):\n",
    "             pass\n",
    "\n",
    "2.  Agora vamos inserir as instruções, ou seja, o que a função deve fazer. Vamos inserir os comandos para calcular a velocidade média e guardar o resultado em uma variável velocidade:\n",
    "     \n",
    "        def velocidade_media(distancia, tempo):\n",
    "            velocidade = distancia/tempo\n",
    "\n",
    "3.  Vamos fazer a função imprimir o valor da velocidade média calculada:\n",
    "\n",
    "         def velocidade_media(distancia, tempo):\n",
    "             velocidade = distancia/tempo\n",
    "             print(velocidade)\n",
    "\n",
    "4.  Teste  o  seu  código  chamando  a  função  para  os  valores  abaixo  e compare  os  resultados  com  seus colegas:\n",
    "\n",
    "        distância: 100, tempo = 20\n",
    "        distância: 150, tempo = 22\n",
    "        distância: 200, tempo = 30\n",
    "        distância: 50, tempo = 3\n",
    "\n",
    "5.  Modifique a função  `velocidade_media()`  de modo que ela retorne o resultado calculado.\n",
    "\n",
    "6.  Defina uma função  `soma()`  que recebe dois números como parâmetros e calcula a soma entre eles.\n",
    "\n",
    "7.  Defina uma função `subtracao()` que recebe dois números como parâmetros e calcula a diferença entre eles.\n",
    "\n",
    "8.  Agora  faça  uma  função   `calculadora()`   que  recebe  dois  números  como  parâmetros  e  retorna  o resultado da soma e da subtração entre eles.\n",
    "\n",
    "9.  Modifique a função  `calculadora()`  do exercício anterior e faça ela retornar também o resultado da multiplicação e divisão dos parâmetros.\n",
    "\n",
    "10.  Chame a função  `calculadora()`  com alguns valores.\n",
    "\n",
    "11.  (opcional)  Defina  uma  função   `divisao()`   que  recebe  dois  números  como  parâmetros,  calcula  e retorna  o  resultado  da  divisão  do  primeiro  pelo  segundo.  Modifique  a  função `velocidade_media()`   utilizando  a  função   `divisao()`   para  calcular  a  velocidade.  Teste  o  seu código chamando a função   `velocidade_media()`  com o valores abaixo: \n",
    "\n",
    "            distância: 100, tempo = 20 \n",
    "            distância: -20, tempo = 10 \n",
    "            distância: 150, tempo = 0"
   ]
  },
  {
   "cell_type": "markdown",
   "metadata": {
    "colab_type": "text",
    "id": "H4ffkXfyCGa3"
   },
   "source": [
    "### 5.6 NÚMERO ARBITRÁRIO DE PARÂMETROS (*ARGS)\n",
    "\n",
    "Podemos  passar  um  número  arbitrário  de  parâmetros  em  uma  função.  Utilizamos  as  chamadas variáveis  mágicas  do  Python:  `*args`  e  `**kwargs`.  Muitos  programadores  tem  dificuldades  em  entender\n",
    "essas variáveis. Vamos entender o que elas são.\n",
    "\n",
    "Não é necessário utilizar exatamente estes nomes:   `*args`  e   `**kwargs` .  Apenas  o  asterisco(`*`),  ou dois deles(`**`), será necessário. Podemos optar, por exemplo, em escrever  `*var`  e  `**vars` . Mas  `*args` \n",
    "e  `**kwargs`  é uma convenção entre a comunidade que também seguiremos.\n",
    "Primeiro  aprenderemos  a  usar  o   `*args` .  É  usado,  assim  como  o   `**kwargs` ,  em  definições  de funções.  `*args`  e   `**kwargs`  permitem passar um número variável de argumentos de uma função. O que  a  variável  significa  é  que  o  programador  ainda  não  sabe  de  antemão  quantos  argumentos  serão passados para sua função, apenas que são muitos. Então, neste caso usamos a palavra chave  *args.\n",
    "\n",
    "Veja um exemplo:"
   ]
  },
  {
   "cell_type": "code",
   "execution_count": 0,
   "metadata": {
    "colab": {
     "base_uri": "https://localhost:8080/",
     "height": 86
    },
    "colab_type": "code",
    "id": "th-0q_csCn7Y",
    "outputId": "c3e61d2e-1100-4325-ab7e-0ddf7ac000a5"
   },
   "outputs": [
    {
     "name": "stdout",
     "output_type": "stream",
     "text": [
      "primeiro argumento normal: python\n",
      "outro argumento: é\n",
      "outro argumento: muito\n",
      "outro argumento: legal\n"
     ]
    }
   ],
   "source": [
    "def teste(arg, *args):\n",
    "    print('primeiro argumento normal: {}'.format(arg))\n",
    "    for arg in args:\n",
    "        print('outro argumento: {}'.format(arg))\n",
    "\n",
    "teste('python', 'é', 'muito', 'legal')"
   ]
  },
  {
   "cell_type": "markdown",
   "metadata": {
    "colab_type": "text",
    "id": "EeqoTh0LC0VI"
   },
   "source": [
    "O  parâmetro   `arg`   é  como  qualquer  outro  parâmetro  de  função,  já  o   `*args`   recebe  múltiplos parâmetros. Viu como é fácil? Também poderíamos conseguir o mesmo resultado passando um   `list` ou  `tuple`  de argumentos, acrescido do asterisco:"
   ]
  },
  {
   "cell_type": "code",
   "execution_count": 0,
   "metadata": {
    "colab": {},
    "colab_type": "code",
    "id": "6UwdmmaJCovG"
   },
   "outputs": [],
   "source": [
    "lista = [\"é\", \"muito\", \"legal\"]\n",
    "teste('python', *lista)"
   ]
  },
  {
   "cell_type": "markdown",
   "metadata": {
    "colab_type": "text",
    "id": "IZb6Ad_FDIaJ"
   },
   "source": [
    "Ou ainda:"
   ]
  },
  {
   "cell_type": "code",
   "execution_count": 0,
   "metadata": {
    "colab": {},
    "colab_type": "code",
    "id": "E9HYYWWiDJOk"
   },
   "outputs": [],
   "source": [
    "tupla = (\"é\", \"muito\", \"legal\")\n",
    "teste('python', *tupla)"
   ]
  },
  {
   "cell_type": "markdown",
   "metadata": {
    "colab_type": "text",
    "id": "6Gr3x1kYDNcj"
   },
   "source": [
    "O  `*args`  então é utilizado quando não sabemos de antemão quantos argumentos queremos passar para uma função. O asterisco (`*`) executa um empacotamento dos dados para facilitar a passagem de parâmetros, e a função que recebe este tipo de parâmetro é capaz de fazer o desempacotamento."
   ]
  },
  {
   "cell_type": "markdown",
   "metadata": {
    "colab_type": "text",
    "id": "28AXB5zPDZsg"
   },
   "source": [
    "5.7 NÚMERO ARBITRÁRIO DE CHAVES (`**kwargs`)\n",
    "O  `**kwargs`  permite que passemos o tamanho variável da palavra-chave dos argumentos para uma função. Você deve usar o   `**kwargs`  se quiser manipular argumentos nomeados em uma função. Veja um exemplo:"
   ]
  },
  {
   "cell_type": "code",
   "execution_count": 0,
   "metadata": {
    "colab": {
     "base_uri": "https://localhost:8080/",
     "height": 34
    },
    "colab_type": "code",
    "id": "SzAfUSvaDk6k",
    "outputId": "1799217d-2294-40a8-b55b-942de3e0f72b"
   },
   "outputs": [
    {
     "name": "stdout",
     "output_type": "stream",
     "text": [
      "nome = caelum\n"
     ]
    }
   ],
   "source": [
    "def minha_funcao(**kwargs):\n",
    "    for key, value in kwargs.items():\n",
    "        print('{0} = {1}'.format(key, value))\n"
   ]
  },
  {
   "cell_type": "code",
   "execution_count": 0,
   "metadata": {
    "colab": {},
    "colab_type": "code",
    "id": "QAlDOS-iDpqk"
   },
   "outputs": [],
   "source": [
    "minha_funcao(nome='caelum')"
   ]
  },
  {
   "cell_type": "markdown",
   "metadata": {
    "colab_type": "text",
    "id": "hbqjndLyD0GM"
   },
   "source": [
    "Também podemos passar um dicionário acrescido de dois símbolos asterisco já que se trata de chave e valor:"
   ]
  },
  {
   "cell_type": "code",
   "execution_count": 0,
   "metadata": {
    "colab": {},
    "colab_type": "code",
    "id": "o9YiadnPD5Bm"
   },
   "outputs": [],
   "source": [
    "dicionario = {'nome': 'joao', 'idade': 25}\n"
   ]
  },
  {
   "cell_type": "code",
   "execution_count": 0,
   "metadata": {
    "colab": {
     "base_uri": "https://localhost:8080/",
     "height": 52
    },
    "colab_type": "code",
    "id": "tppAJNM-D9P_",
    "outputId": "14269e19-d2e4-4590-9e0f-dee21fda76bd"
   },
   "outputs": [
    {
     "name": "stdout",
     "output_type": "stream",
     "text": [
      "nome = joao\n",
      "idade = 25\n"
     ]
    }
   ],
   "source": [
    "minha_funcao(**dicionario)"
   ]
  },
  {
   "cell_type": "markdown",
   "metadata": {
    "colab_type": "text",
    "id": "bhPJLwm2ESq-"
   },
   "source": [
    "A diferença é que o  `*args`  espera uma tupla de argumentos posicionais enquanto o  `**kwargs`  um dicionário com argumentos nomeados."
   ]
  },
  {
   "cell_type": "markdown",
   "metadata": {
    "colab_type": "text",
    "id": "Pg-InPJAEdZe"
   },
   "source": [
    "### 5.8 EXERCÍCIO - *ARGS E **KWARGS\n",
    "1.  Crie um arquivo com uma função chamada   `teste_args_kwargs()`  que recebe três argumentos e imprime cada um deles:\n",
    "\n",
    "        def teste_args_kwargs(arg1, arg2, arg3):\n",
    "            print(\"arg1: \", arg1)\n",
    "            print(\"arg2: \", arg2)\n",
    "            print(\"arg3: \", arg3)\n",
    "\n",
    "2.  Agora vamos chamar a função utilizando o `*args`:\n",
    "\n",
    "        args = ('um', 2, 3)\n",
    "        teste_args_kwargs(*args)\n",
    "Que gera a saída:\n",
    "\n",
    "        arg1: um\n",
    "        arg2: 2\n",
    "        arg3: 3\n",
    "\n",
    "3.  Teste a mesma função usando o `**kargs`. Para isso criaremos um dicionário com três argumentos:\n",
    "        kwargs = {'arg3': 3, 'arg2': 'dois', 'arg1': 'um'}\n",
    "        teste_args_kwargs(**kwargs)\n",
    "Que deve gerar a saída:\n",
    "        arg1: um\n",
    "        arg2: dois\n",
    "        arg3: 3\n",
    "\n",
    "4.  (Opcional) Tente chamar a mesma função mas adicionando um quarto argumento na variável `args` e `kwargs` dos exercícios anteriores. O que acontece se a função recebe mais do que 3 argumentos?\n",
    "\n",
    "5.  De que maneira você resolveria o problema do exercício anterior?\n",
    " Discuta com o instrutor e seus colegas quando usar `*args` e `**kwargs`.\n",
    "\n"
   ]
  },
  {
   "cell_type": "markdown",
   "metadata": {
    "colab_type": "text",
    "id": "JQpFLomJFZf-"
   },
   "source": [
    "### 5.9 EXERCÍCIO - FUNÇÃO JOGAR()\n",
    "1.  Vamos  começar  definindo  uma  função  `jogar`  que  conterá  toda  lógica  do  jogo  da  forca.  Abra  o arquivo `forca.py` e coloque o código do jogo em uma função  `jogar()` :\n",
    "        def jogar():\n",
    "        #código do jogo aqui\n",
    "    \n",
    "2.  Vamos tentar executar nosso jogo pelo terminal. Navegue até a pasta jogos e execute `forca.py` através do comando `python3`:\n",
    "        \n",
    "        cd jogos\n",
    "        python3 forca.py\n",
    "Veja que nada  aconteceu já  que precisamos chamar  a função   `jogar()`   do  arquivo  `forca.py`.  Para fazer  isso  temos  que  importar  o  arquivo  `forca.py`  dentro  do  interpretador  do  Python  através  do\n",
    "comando `import`:\n",
    "\n",
    "        python3.6\n",
    "        import forca\n",
    "\n",
    "E chamar a função através do arquivo `forca`:\n",
    "        \n",
    "    forca.jogar()\n",
    "\n",
    "    \"*********************************\"\n",
    "    \"***Bem vindo ao jogo da Forca!***\"\n",
    "    \"*********************************\"\n",
    "    ['_', '_', '_', '_', '_', '_']\n",
    "    Qual letra?\n",
    "Agora nosso jogo funciona como esperado.\n",
    "\n",
    "3.  Faça o mesmo com o jogo da adivinhação e execute o jogo."
   ]
  },
  {
   "cell_type": "markdown",
   "metadata": {
    "colab_type": "text",
    "id": "64qkenrMGOmR"
   },
   "source": [
    "### 5.10 MÓDULOS E O COMANDO IMPORT\n",
    "\n",
    "Ao importar o arquivo `forca.py` estamos importando um módulo de nosso programa, que nada mais é do que um arquivo. Vamos verificar o tipo de  `forca`:\n",
    "\n",
    "    type(forca)\n",
    "    <class 'module'>\n",
    "Veja que o tipo é um módulo. Antes de continuarmos com nosso jogo, vamos aprender um pouco mais  sobre  arquivos  e  módulos.  Vamos  melhorar  ainda  mais  nosso  jogo  da  Forca  e  utilizar  o  que aprendemos de funções para organizar nosso código."
   ]
  }
 ],
 "metadata": {
  "colab": {
   "collapsed_sections": [
    "AWhCSY4qi-m1",
    "B9LM6d5Gm6j5",
    "Tp62oS29nHOY",
    "toIe6YYZGDCJ",
    "SjwDGBcmH-HH",
    "pFX5OJ0OI3cF",
    "semjtR4ER8j9",
    "z_ykJqn5SbD6",
    "B1-xRAIsCOpj",
    "0WUuCdz1DBGA",
    "zeLjdgBVF0cX",
    "m2hl0lo5Jy81",
    "HZyP6gYjbjBV",
    "3DDKo3RmdGVZ",
    "__fWUnl_eu89",
    "kScysrrpgV0F",
    "kHi5j4xfif_V",
    "Gf5p2AWOnD6L",
    "nioVHrpto6oY",
    "fWO-hsuXsqmi",
    "HNd3rEvM0vVk",
    "sG3uBQqc6M5A",
    "JktfWQnN8UWe",
    "kmJuze08EGF5",
    "_xCpIhn7IcBS",
    "aTa0t1HcLs0t",
    "QE-0ReKWMkle",
    "YAImLTCbQMc7",
    "cNB0Zm5sRTdk",
    "BeSLrrmjKuHy",
    "-05kqpD7L2HG",
    "aGJuldwHMRLH",
    "J5LAe9piMmFX",
    "AlKz4soDBERe",
    "H4ffkXfyCGa3",
    "Pg-InPJAEdZe",
    "JQpFLomJFZf-",
    "64qkenrMGOmR",
    "1ZhqTs3BJZUZ",
    "GAuTUacELGwq",
    "AqOyXdecVIq0",
    "dty5_A1_ZNEA"
   ],
   "name": "Parte_1.ipynb",
   "provenance": [],
   "toc_visible": true
  },
  "kernelspec": {
   "display_name": "Python 3",
   "language": "python",
   "name": "python3"
  },
  "language_info": {
   "codemirror_mode": {
    "name": "ipython",
    "version": 3
   },
   "file_extension": ".py",
   "mimetype": "text/x-python",
   "name": "python",
   "nbconvert_exporter": "python",
   "pygments_lexer": "ipython3",
   "version": "3.7.6"
  }
 },
 "nbformat": 4,
 "nbformat_minor": 1
}
