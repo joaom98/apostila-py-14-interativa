{
 "cells": [
  {
   "cell_type": "markdown",
   "metadata": {
    "colab_type": "text",
    "id": "a5zFvFJrrkRP"
   },
   "source": [
    "# DISCLAIMER\n",
    "\n",
    "\n",
    "\n",
    "---\n",
    "\n",
    "Esse documento ainda precisa passar por revisões e ser aprovado para que possa ser publicado e compartilhado.\n",
    "\n",
    "Esse documento ainda não representa a ideia final e está sujeito a mudanças.\n",
    "\n",
    "---\n",
    "\n"
   ]
  },
  {
   "cell_type": "markdown",
   "metadata": {
    "colab_type": "text",
    "id": "fWO-hsuXsqmi"
   },
   "source": [
    "## CAPÍTULO 4\n",
    "### ESTRUTURA DE DADOS\n",
    "No capítulo passado criamos o jogo da adivinhação, agora vamos criar o jogo da Forca. Vamos começar,\n",
    "com  os  conhecimentos  que  temos  até  aqui,  para  estruturar  nosso  jogo.  Vamos  criar  um  arquivo\n",
    "chamado `forca.py` na pasta jogos:\n",
    "\n",
    "    |_ home\n",
    "    |_ jogos\n",
    "        |_ adivinhacao.py\n",
    "        |_ forca.py\n",
    "\n",
    "Como  no  jogo  da  adivinhação,  devemos  adivinhar  uma  palavra  secreta,  nada  mais  justo  do  que\n",
    "defini-la em uma variável. Por enquanto, a palavra será fixa, com o valor banana:"
   ]
  },
  {
   "cell_type": "code",
   "execution_count": 0,
   "metadata": {
    "colab": {
     "base_uri": "https://localhost:8080/",
     "height": 88
    },
    "colab_type": "code",
    "id": "BzOSgEOltSsb",
    "outputId": "d78cd799-bf7c-40d0-e1ab-b2d4f694f236"
   },
   "outputs": [
    {
     "name": "stdout",
     "output_type": "stream",
     "text": [
      "*********************************\n",
      "***Bem vindo ao jogo da Forca!***\n",
      "*********************************\n",
      "Fim do jogo\n"
     ]
    }
   ],
   "source": [
    "print('*********************************')\n",
    "print('***Bem vindo ao jogo da Forca!***')\n",
    "print('*********************************')\n",
    "palavra_secreta = 'banana'\n",
    "print('Fim do jogo')"
   ]
  },
  {
   "cell_type": "markdown",
   "metadata": {
    "colab_type": "text",
    "id": "5V-A4TZAtgBl"
   },
   "source": [
    "Mais à frente deixaremos essa palavra secreta mais dinâmica.\n",
    "Como  estamos  tratando  de  um  jogo  da  forca,  o  usuário  deve  acertar  uma  palavra  e  chutar  letras.\n",
    "Além  disso,  precisa  saber  se  o  usuário  acertou  ou  errou  e  saber  se  foi  enforcado  ou  não.  Então\n",
    "precisaremos de 2 variáveis booleanas   enforcou  e   acertou   para  guardar  esta  informação  e  o  jogo\n",
    "continuará até uma delas for  `True`; para tal acrescentamos um laço  `while`:"
   ]
  },
  {
   "cell_type": "code",
   "execution_count": 0,
   "metadata": {
    "colab": {},
    "colab_type": "code",
    "id": "8-KGnv2ctqaB"
   },
   "outputs": [],
   "source": [
    "acertou = False\n",
    "enforcou= False\n",
    "while(not acertou and not enforcou):\n",
    "    print('Jogando...')"
   ]
  },
  {
   "cell_type": "markdown",
   "metadata": {
    "colab_type": "text",
    "id": "RLRBvNvntuIL"
   },
   "source": [
    "O usuário do jogo também vai chutar letras. Além disso, se o chute for igual a uma letra contida na\n",
    "`palavra_secreta`, quer dizer que o usuário encontrou uma letra. Podemos utilizar um laço  for  para\n",
    "tratar isso, assim como fizemos no jogo da adivinhação para apresentar as tentativas e rodadas:"
   ]
  },
  {
   "cell_type": "code",
   "execution_count": 0,
   "metadata": {
    "colab": {},
    "colab_type": "code",
    "id": "0U9LCOwBwlkM"
   },
   "outputs": [],
   "source": [
    "while(not acertou and not errou):\n",
    "    chute = input('Qual letra?')\n",
    "    posicao = 0\n",
    "    for letra in palavra_secreta:\n",
    "        if (chute == letra):\n",
    "            print('Encontrei a letra {} na posição {}'.format(letra, index))\n",
    "            \n",
    "        posicao = posicao + 1  \n",
    "        print('Jogando...')"
   ]
  },
  {
   "cell_type": "markdown",
   "metadata": {
    "colab_type": "text",
    "id": "bEw6mDTcwq3W"
   },
   "source": [
    "Como uma string é uma sequência de letras, o loop  for  vai iterar por cada letra.\n",
    "Nossa palavra_secreta é 'banana'. E se o usuário chutar a letra 'A' ao invés de 'a'? Vamos testar:\n",
    "\n",
    "    >>> $python3 jogos/forca.py\n",
    "    *********************************\n",
    "    ***Bem vindo ao jogo da Forca!***\n",
    "    *********************************\n",
    "    Qual letra? A\n",
    "    Jogando...\n",
    "    Qual letra?\n",
    "\n",
    "O Python é case-sensitive, ou seja 'a' e 'A' são distintos para o interpretador. Será preciso acrescentar\n",
    "este tratamento e fazer o jogo aceitar como acerto tanto 'a' como 'A'. String (`str`) é um tipo embutido\n",
    "no Python que possui algumas funções prontas e uma delas vai nos ajudar neste problema.\n",
    "Existe  uma  função  chamada  `upper()`  que  devolve  uma  string  com  todas  as  letras  maiúsculas.\n",
    "Também possui a `lower()`  que devolve uma string com todas as letras minúsculas:"
   ]
  },
  {
   "cell_type": "code",
   "execution_count": 0,
   "metadata": {
    "colab": {},
    "colab_type": "code",
    "id": "1__kpOu9xKjR"
   },
   "outputs": [],
   "source": [
    "texto = 'python'\n",
    "texto.upper()"
   ]
  },
  {
   "cell_type": "code",
   "execution_count": 0,
   "metadata": {
    "colab": {},
    "colab_type": "code",
    "id": "_Y86a_wXxUrH"
   },
   "outputs": [],
   "source": [
    "texto = 'PYTHON'\n",
    "texto.lower()"
   ]
  },
  {
   "cell_type": "markdown",
   "metadata": {
    "colab_type": "text",
    "id": "44EmczK6xZCA"
   },
   "source": [
    "Agora  precisamos  modificar  a  condição  `chute  ==  letra`  do  `if`  para   `chute.upper()  ==\n",
    "letra.upper()`:"
   ]
  },
  {
   "cell_type": "code",
   "execution_count": 0,
   "metadata": {
    "colab": {},
    "colab_type": "code",
    "id": "CIVBAhbuxrhD"
   },
   "outputs": [],
   "source": [
    "if (chute.upper() == letra.upper()):\n",
    "    print('Encontrei a letra {} na posição {}'.format(letra, index))"
   ]
  },
  {
   "cell_type": "markdown",
   "metadata": {
    "colab_type": "text",
    "id": "AljDnEpNyI_0"
   },
   "source": [
    "Dessa  maneira,  o  jogador  pode  chutar  tanto  'a'  como  'A'  que  o  tratamento  do  `if`  vai  considerar\n",
    "todas como maiúsculas.\n",
    "Agora podemos testar novamente com chute igual a 'A' (ou 'a') e vemos o programa funcionar como\n",
    "o esperado:\n",
    "\n",
    "    *********************************\n",
    "    ***Bem vindo ao jogo da Forca!***\n",
    "    *********************************\n",
    "    Qual letra? A\n",
    "    Encontrei a letra a na posição 1\n",
    "    Encontrei a letra a na posição 3\n",
    "    Encontrei a letra a na posição 5\n",
    "    Jogando...\n",
    "    Qual letra?\n",
    "\n",
    "Atualmente, já dizemos ao jogador em que posição a letra que ele chutou está na palavra secreta, caso\n",
    "a letra exista na palavra. Mas em um jogo real de forca, o jogador vê quantas letras há na palavra secreta.\n",
    "Algo como:\n",
    "\n",
    "    Qual letra? _ _ _ _ _ _\n",
    "\n",
    "E se ele encontrar alguma letra, a mesma tem a sua lacuna preenchida. Ao digitar a letra \"a\", ficaria:\n",
    "\n",
    "    _ a _ a _ a\n",
    "\n",
    "Muito  mais  intuitivo,  não?  Vamos  implementar  essa  funcionalidade.  Para  exibir  as  letras  dessa\n",
    "forma, precisamos guardar os chutes certos do usuário, mas como fazer isso?\n",
    "Para tal, o Python nos oferece um tipo de estrutura de dados que nos permite guardar mais de um\n",
    "valor. Essa estrutura é a `list`  (lista). Para criar uma lista, utilizamos colchetes (`[]`):"
   ]
  },
  {
   "cell_type": "code",
   "execution_count": 0,
   "metadata": {
    "colab": {},
    "colab_type": "code",
    "id": "lrazV0FLyVFI"
   },
   "outputs": [],
   "source": [
    "valores = []\n",
    "type(valores)"
   ]
  },
  {
   "cell_type": "markdown",
   "metadata": {
    "colab_type": "text",
    "id": "trxgJ-NWyZ21"
   },
   "source": [
    "Assim  como  a  string,   list   também  é  uma  sequência  de  dados.  Podemos  ver  sua  documentação\n",
    "através da função `help()`:"
   ]
  },
  {
   "cell_type": "code",
   "execution_count": 0,
   "metadata": {
    "colab": {},
    "colab_type": "code",
    "id": "55axUFj0yfRe"
   },
   "outputs": [],
   "source": [
    "help(list)"
   ]
  },
  {
   "cell_type": "markdown",
   "metadata": {
    "colab_type": "text",
    "id": "v-ErZ8jlyj7N"
   },
   "source": [
    "Vemos  o  que  podemos  fazer  com  uma  lista.  Podemos,  por  exemplo,  verificar  o  seu  valor  mínimo\n",
    "com `min` e o seu máximo com  `max`. Nossa lista ainda está vazia mas já podemos iniciá-la com alguns\n",
    "valores e utilizar essas funções para verificar o seus valores máximo e mínimo:"
   ]
  },
  {
   "cell_type": "code",
   "execution_count": 0,
   "metadata": {
    "colab": {},
    "colab_type": "code",
    "id": "5JQyUBU6yruD"
   },
   "outputs": [],
   "source": [
    "valores = [0, 1, 2, 3]\n",
    "min(valores)"
   ]
  },
  {
   "cell_type": "code",
   "execution_count": 0,
   "metadata": {
    "colab": {},
    "colab_type": "code",
    "id": "k1pjN2VHyvnX"
   },
   "outputs": [],
   "source": [
    "max(valores)"
   ]
  },
  {
   "cell_type": "markdown",
   "metadata": {
    "colab_type": "text",
    "id": "12wuZPaazKUm"
   },
   "source": [
    "Para  acessar  um  valor  específico,  podemos  acessá-lo  através  do  seu  índice  (posição).  O  primeiro\n",
    "elemento da lista possui índice 0, o segundo possui índice 1 e assim por diante:"
   ]
  },
  {
   "cell_type": "code",
   "execution_count": 0,
   "metadata": {
    "colab": {},
    "colab_type": "code",
    "id": "fXy487_0zM0k"
   },
   "outputs": [],
   "source": [
    "valores = [0, 1, 2, 3]\n",
    "valores[2]"
   ]
  },
  {
   "cell_type": "code",
   "execution_count": 0,
   "metadata": {
    "colab": {},
    "colab_type": "code",
    "id": "eaMB7kMqzQcf"
   },
   "outputs": [],
   "source": [
    "valores[0]"
   ]
  },
  {
   "cell_type": "markdown",
   "metadata": {
    "colab_type": "text",
    "id": "XN5jlQRBzW0V"
   },
   "source": [
    "Para modificar um valor, basta usar o operador de atribuição em uma determinada posição:"
   ]
  },
  {
   "cell_type": "code",
   "execution_count": 0,
   "metadata": {
    "colab": {},
    "colab_type": "code",
    "id": "8GluvaoqzZl2"
   },
   "outputs": [],
   "source": [
    "valores[0] = 4\n",
    "valores"
   ]
  },
  {
   "cell_type": "markdown",
   "metadata": {
    "colab_type": "text",
    "id": "SZFPcavazjst"
   },
   "source": [
    "É  possível  saber  o  tamanho  da  lista  com  a  função  `len`  e  verificar  se  determinado  valor  está\n",
    "guardado nela com o comando `in`:"
   ]
  },
  {
   "cell_type": "code",
   "execution_count": 0,
   "metadata": {
    "colab": {},
    "colab_type": "code",
    "id": "Y2YBX-Lfzp0d"
   },
   "outputs": [],
   "source": [
    "valores = [0, 1, 2, 3]\n",
    "len(valores)"
   ]
  },
  {
   "cell_type": "code",
   "execution_count": 0,
   "metadata": {
    "colab": {},
    "colab_type": "code",
    "id": "dEtU-ylXzvVX"
   },
   "outputs": [],
   "source": [
    "0 in valores"
   ]
  },
  {
   "cell_type": "code",
   "execution_count": 0,
   "metadata": {
    "colab": {},
    "colab_type": "code",
    "id": "geXoAetbzwRD"
   },
   "outputs": [],
   "source": [
    "6 in valores"
   ]
  },
  {
   "cell_type": "markdown",
   "metadata": {
    "colab_type": "text",
    "id": "bLINVsXOz14T"
   },
   "source": [
    "Além  disso,  existem  funções  específicas  da  lista,  que  podem  ser  acessadas  na  documentação:\n",
    "https://docs.python.org/3.6/library/stdtypes.html#mutable-sequence-types.\n",
    "Podemos  adicionar  elementos  ao  final  da  lista  com  a  função  `append()`,  exibir  e  remover  um\n",
    "elemento de determinada posição com a função `pop()` , entre diversas outras funcionalidades.\n",
    "Agora que sabemos como guardar valores em uma lista, podemos voltar ao nosso jogo e guardar os\n",
    "acertos do usuário. Como queremos exibir os espaços vazios primeiro, criaremos uma lista com eles, na\n",
    "mesma quantidade de letras da palavra secreta:"
   ]
  },
  {
   "cell_type": "code",
   "execution_count": 0,
   "metadata": {
    "colab": {},
    "colab_type": "code",
    "id": "UjsxheXlz8OR"
   },
   "outputs": [],
   "source": [
    "palavra_secreta = 'banana'\n",
    "letras_acertadas = ['_', '_', '_', '_', '_', '_']"
   ]
  },
  {
   "cell_type": "markdown",
   "metadata": {
    "colab_type": "text",
    "id": "CTTE8dFW0PHw"
   },
   "source": [
    "Já  temos  a  posição  da  letra  (também  chamado  de  índice).  Logo,  caso  o  chute  seja  correto,  basta\n",
    "guardar a letra dentro da lista, na sua posição correta e imprimir a lista após o laço `for`:"
   ]
  },
  {
   "cell_type": "code",
   "execution_count": 0,
   "metadata": {
    "colab": {},
    "colab_type": "code",
    "id": "2vPjgHXJ0UUO"
   },
   "outputs": [],
   "source": [
    "posicao = 0\n",
    "for letra in palavra_secreta:\n",
    "    if (chute.upper() == letra.upper()):\n",
    "        letras_acertadas[posicao] = letra\n",
    "    posicao = posicao + 1\n",
    "print(letras_acertadas)"
   ]
  },
  {
   "cell_type": "markdown",
   "metadata": {
    "colab_type": "text",
    "id": "-bmVhrFF0W1U"
   },
   "source": [
    "Ou seja, para cada letra na palavra secreta, o programa vai verificar se   chute  é igual a   letra . Em\n",
    "caso afirmativo, adiciona a letra na posição correta e incrementa a  posicao  após o bloco do `if`.\n",
    "Ao executar o jogo e chutar algumas letras, temos:\n",
    "\n",
    "    $ python3 jogos/forca.py\n",
    "    *********************************\n",
    "    ***Bem vindo ao jogo da Forca!***\n",
    "    *********************************\n",
    "    Qual letra? b\n",
    "    ['b', '_', '_', '_', '_', '_']\n",
    "    Jogando...\n",
    "    Qual letra? a\n",
    "    ['b', 'a', '_', 'a', '_', 'a']\n",
    "    Jogando...\n",
    "    Qual letra?\n",
    "\n",
    "A saída ainda não está visualmente agradável. Para ficar ainda melhor, vamos exibir a lista no início\n",
    "do jogo também e excluir o print('Jogando...') para o código ficar mais limpo."
   ]
  },
  {
   "cell_type": "code",
   "execution_count": 0,
   "metadata": {
    "colab": {},
    "colab_type": "code",
    "id": "Z9a9Kx4R0i7G"
   },
   "outputs": [],
   "source": [
    "print(letras_acertadas)\n",
    "    while(not acertou and not errou):       \n",
    "        chute = input('Qual letra?')\n",
    "        #código omitido"
   ]
  },
  {
   "cell_type": "markdown",
   "metadata": {
    "colab_type": "text",
    "id": "HNd3rEvM0vVk"
   },
   "source": [
    "###4.1 EXERCÍCIOS: JOGO DA FORCA\n",
    "Neste exercício, vamos aproveitar nosso novo conhecimento em listas para fazer com que o jogo da forca se lembre das letras acertadas pelo jogador."
   ]
  },
  {
   "cell_type": "markdown",
   "metadata": {
    "colab_type": "text",
    "id": "bhXC_1Cq01KF"
   },
   "source": [
    "1.  Crie um arquivo chamado forca.py na pasta jogos:\n",
    "\n",
    "\n",
    "     |_ home\n",
    "     |_ jogos\n",
    "         |_ adivinhacao.py\n",
    "         |_ forca.py"
   ]
  },
  {
   "cell_type": "markdown",
   "metadata": {
    "colab_type": "text",
    "id": "Gd1rRySO05ON"
   },
   "source": [
    "2.  Primeiro,  precisamos  mostrar  para  o  jogador  a  mensagem  de  abertura,  similar  ao  que  foi  feito  no\n",
    "jogo da adivinhação:"
   ]
  },
  {
   "cell_type": "code",
   "execution_count": 0,
   "metadata": {
    "colab": {},
    "colab_type": "code",
    "id": "lpcc-dcm1JWj"
   },
   "outputs": [],
   "source": [
    "print('*********************************')\n",
    "print('***Bem vindo ao jogo da Forca!***')\n",
    "print('*********************************')"
   ]
  },
  {
   "cell_type": "markdown",
   "metadata": {
    "colab_type": "text",
    "id": "WCZc_nOA0--I"
   },
   "source": [
    "3.  Crie a variável palavra_secreta que será iniciada com o valor 'banana' e uma lista para representar as\n",
    "letras acertadas."
   ]
  },
  {
   "cell_type": "code",
   "execution_count": 0,
   "metadata": {
    "colab": {},
    "colab_type": "code",
    "id": "F9mjMHnW1TdQ"
   },
   "outputs": [],
   "source": [
    "palavra_secreta = 'banana'\n",
    "letras_acertadas = ['_', '_', '_', '_', '_', '_']"
   ]
  },
  {
   "cell_type": "markdown",
   "metadata": {
    "colab_type": "text",
    "id": "--7rdrB11WUB"
   },
   "source": [
    "4.  Crie  as  variáveis  booleanas   acertou  e   errou   que  vamos  utilizar  no  laço  `while`.  E  a  variável\n",
    " erros  que guardaremos o número de erros do usuário:"
   ]
  },
  {
   "cell_type": "code",
   "execution_count": 0,
   "metadata": {
    "colab": {},
    "colab_type": "code",
    "id": "C2oRLHUz1aw8"
   },
   "outputs": [],
   "source": [
    "acertou = False\n",
    "enforcou= False\n",
    "erros = 0\n",
    "while(not acertou and not enforcou):\n",
    "    # código"
   ]
  },
  {
   "cell_type": "markdown",
   "metadata": {
    "colab_type": "text",
    "id": "jI8eHIcau3By"
   },
   "source": [
    "5.  Crie a variável  chute  que vai guardar entrada do usuário."
   ]
  },
  {
   "cell_type": "code",
   "execution_count": 0,
   "metadata": {
    "colab": {},
    "colab_type": "code",
    "id": "xL2iaXW4u5vi"
   },
   "outputs": [],
   "source": [
    "while(not acertou and not enforcou):\n",
    "    chute = input('Qual letra? ')"
   ]
  },
  {
   "cell_type": "markdown",
   "metadata": {
    "colab_type": "text",
    "id": "SSEVcUiHu-4i"
   },
   "source": [
    "6.  Dentro do   while  crie um loop   for  para que vai checar se a letra existe na palavra secreta. Se o\n",
    "chute  for  igual  a  letra  digitada  pelo  jogador,  vamos  adicionar  a  letra  na  nossa  lista `letras_acertadas` na posição correta"
   ]
  },
  {
   "cell_type": "code",
   "execution_count": 0,
   "metadata": {
    "colab": {},
    "colab_type": "code",
    "id": "_ZOc_auMvCrW"
   },
   "outputs": [],
   "source": [
    "while(not acertou and not enforcou):\n",
    "    chute = input('Qual letra? ')\n",
    "    posicao = 0\n",
    "    for letra in palavra_secreta:\n",
    "        if (chute == letra):\n",
    "            letras_acertadas[posicao] = letra\n",
    "        posicao += 1"
   ]
  },
  {
   "cell_type": "markdown",
   "metadata": {
    "colab_type": "text",
    "id": "-AlMvUvPvFXV"
   },
   "source": [
    "7.  Modifique  a  condição  do `if` para  considerarmos  apenas  letras  maiúsculas  utilizando  a  função `upper` de strings. E atualize a variável chute"
   ]
  },
  {
   "cell_type": "code",
   "execution_count": 0,
   "metadata": {
    "colab": {},
    "colab_type": "code",
    "id": "KFd1HaxnvPY8"
   },
   "outputs": [],
   "source": [
    "if (chute.upper() == letra.upper()):"
   ]
  },
  {
   "cell_type": "markdown",
   "metadata": {
    "colab_type": "text",
    "id": "Ke_80IOCvQH-"
   },
   "source": [
    "8.  Agora precisamos incrementar a variável erros caso o jogador não acerte a letra. Se o chute é uma\n",
    "letra dentro de palavra_secreta,  quer  dizer  que  o  jogador  acertou,  caso  contrário  incrementamos  a\n",
    "variável erros.Para isso, teremos mais um bloco `if/else`:"
   ]
  },
  {
   "cell_type": "code",
   "execution_count": 0,
   "metadata": {
    "colab": {},
    "colab_type": "code",
    "id": "m9f9-hHRvVWf"
   },
   "outputs": [],
   "source": [
    "if(chute in palavra_secreta):\n",
    "    posicao = 0\n",
    "    for letra in palavra_secreta:\n",
    "        if(chute.upper() == letra.upper()):\n",
    "            letras_acertadas[index] = letra\n",
    "        posicao += 1\n",
    "else:\n",
    "    erros += 1"
   ]
  },
  {
   "cell_type": "markdown",
   "metadata": {
    "colab_type": "text",
    "id": "yYF2_xSJvbH2"
   },
   "source": [
    "9.  Atualize a variável `acertou`. Se todas as letras ainda não foram acertadas, quer dizer que o usuário\n",
    "ainda  não  finalizou  o  jogo,  ou  seja,  letrasacertas  ainda  contém  espaços  vazios  ('').  Dentro  o  loop `while`, após o comando `for`, vamos atualizar a variável `acertou` e utilizar o operador `not in`:"
   ]
  },
  {
   "cell_type": "code",
   "execution_count": 0,
   "metadata": {
    "colab": {},
    "colab_type": "code",
    "id": "a8PKkB62vm0_"
   },
   "outputs": [],
   "source": [
    "acertou = '_' not in letras_acertadas"
   ]
  },
  {
   "cell_type": "markdown",
   "metadata": {
    "colab_type": "text",
    "id": "dgigad0jvq0W"
   },
   "source": [
    "Podemos ler o código acima como \"'_' não está contido em letras_acertadas\".\n"
   ]
  },
  {
   "cell_type": "markdown",
   "metadata": {
    "colab_type": "text",
    "id": "ZjdrCwnvvw21"
   },
   "source": [
    "10.  Vamos também atualizar a variável  enforcou . Vamos considerar que se o jogador errar 7 vezes ele\n",
    "perde  o  jogo.  Como  a  variável  inicia  com  0  (zero),  quer  dizer  que  quando  ela  for  igual  a  6  ele  se\n",
    "enforca. Atualize a variável dentro do loop  while  após a variável  acertou :"
   ]
  },
  {
   "cell_type": "code",
   "execution_count": 0,
   "metadata": {
    "colab": {},
    "colab_type": "code",
    "id": "YoGCuRldvyWk"
   },
   "outputs": [],
   "source": [
    "acertou = \"_\" not in letras_acertadas.\n",
    "enforcou = erros == 6"
   ]
  },
  {
   "cell_type": "markdown",
   "metadata": {
    "colab_type": "text",
    "id": "ogSOqiUCv1Cm"
   },
   "source": [
    "11.  Para que o jogador acompanhe o resultado a cada chute que ele der, ao final do laço  while  imprima\n",
    "também a lista  `letras_acertadas`  para que ele veja como ele está indo no jogo:"
   ]
  },
  {
   "cell_type": "code",
   "execution_count": 0,
   "metadata": {
    "colab": {},
    "colab_type": "code",
    "id": "WqjI6LLKv4Uu"
   },
   "outputs": [],
   "source": [
    "while(not enforcou and not acertou):\n",
    "    #código omitido\n",
    "    print(letras_acertadas)"
   ]
  },
  {
   "cell_type": "markdown",
   "metadata": {
    "colab_type": "text",
    "id": "EHW9_dx2v52M"
   },
   "source": [
    "12.  E claro, para dar uma dica ao nosso jogador de quantas letras a palavra tem, vamos colocar acima do\n",
    "`while` um print inicial para que ele veja de início qual o tamanho da palavra:"
   ]
  },
  {
   "cell_type": "code",
   "execution_count": 0,
   "metadata": {
    "colab": {},
    "colab_type": "code",
    "id": "FjpxBNMMv-JQ"
   },
   "outputs": [],
   "source": [
    "print(letras_acertadas)\n",
    "while (not acertou and not enforcou):\n",
    "    ..."
   ]
  },
  {
   "cell_type": "markdown",
   "metadata": {
    "colab_type": "text",
    "id": "cz7JqL5pwAtf"
   },
   "source": [
    "13.  Por fim, vamos imprimir uma mensagem de \"Você ganhou!\" se o usuário adivinhar a letra e \"Você\n",
    "perdeu\" caso tenha cometido 7 erros. Após o laço `while`, fora dele, acrescente:"
   ]
  },
  {
   "cell_type": "code",
   "execution_count": 0,
   "metadata": {
    "colab": {},
    "colab_type": "code",
    "id": "hn9SP0A6wFIy"
   },
   "outputs": [],
   "source": [
    "if(acertou):\n",
    "    print('Você ganhou!!')\n",
    "else:\n",
    "    print('Você perdeu!!')\n",
    "print('Fim do jogo')"
   ]
  },
  {
   "cell_type": "markdown",
   "metadata": {
    "colab_type": "text",
    "id": "JIJwTzBWwL3o"
   },
   "source": [
    "14.  Faça o teste e veja na resposta se seu código funcionando.\n",
    "\n",
    "```\n",
    " $ python3 jogos/forca.py\n",
    "```\n",
    "No final, seu código deve estar parecido com este:"
   ]
  },
  {
   "cell_type": "code",
   "execution_count": 0,
   "metadata": {
    "colab": {},
    "colab_type": "code",
    "id": "_W5YM9AxwN1q"
   },
   "outputs": [],
   "source": [
    "def jogar():\n",
    "    print('*********************************')\n",
    "    print('***Bem vindo ao jogo da Forca!***')\n",
    "    print('*********************************') \n",
    "    palavra_secreta = 'banana'\n",
    "    letras_acertadas = ['_', '_', '_', '_', '_', '_']\n",
    "    enforcou = False\n",
    "    acertou = False\n",
    "    erros = 0\n",
    "    print(letras_acertadas)\n",
    "    while(not enforcou and not acertou):\n",
    "        chute = input(\"Qual letra? \")\n",
    "        if(chute in palavra_secreta):\n",
    "            posicao = 0\n",
    "            for letra in palavra_secreta:\n",
    "                if(chute.upper() == letra.upper()):\n",
    "                    letras_acertadas[posicao] = letra\n",
    "                posicao = index + 1\n",
    "        else:\n",
    "            erros += 1\n",
    "        enforcou = erros == 6\n",
    "        acertou = '_' not in letras_acertadas            \n",
    "        print(letras_acertadas)\n",
    "\n",
    "    if(acertou):\n",
    "        print('Você ganhou!!')\n",
    "    else:\n",
    "        print('Você perdeu!!')\n",
    "    print('Fim do jogo')"
   ]
  },
  {
   "cell_type": "markdown",
   "metadata": {
    "colab_type": "text",
    "id": "sG3uBQqc6M5A"
   },
   "source": [
    "### 4.2 SEQUÊNCIAS\n",
    "Desenvolvemos um novo jogo e conhecemos um novo tipo de dado do Python que são as listas. Uma lista é uma sequência de valores e o Python possui outros tipos de dados que também são sequências.\n",
    "Neste momento, conheceremos um pouco de cada uma delas.\n",
    "Sequências são containers, um tipo de dado que contém outros dados. \n",
    "\n",
    "Existem três tipos básicos de\n",
    "sequência:  `list`  (lista) ,  `tuple`  (tupla) e  `range`  (objeto de intervalo). Outro tipo de sequência famoso\n",
    "que já vimos são as `strings` que são sequências de texto.\n",
    "Sequências  podem  ser  mutáveis  ou  imutáveis.  Sequências  imutáveis  não  podem  ter  seus  valores\n",
    "modificados. Tuplas, strings e ranges são sequências imutáveis, enquanto listas são sequências mutáveis.\n",
    "\n",
    "As  operações  na  tabela  a  seguir  são  suportadas  pela  maioria  dos  tipos  de  sequência,  mutáveis  ​e\n",
    "imutáveis. Na tabela abaixo, `s` e `t` são sequências do mesmo tipo, `n` , `i` , `j` e `k` são inteiros e `x` é um objeto\n",
    "arbitrário que atende a qualquer tipo e restrições de valor impostas por `s`."
   ]
  },
  {
   "cell_type": "markdown",
   "metadata": {
    "colab_type": "text",
    "id": "k3w1xa0u6pQT"
   },
   "source": [
    "<font face=\"monospace\">\n",
    "<table>\n",
    "<tr>\n",
    "<th>Operação</th>\n",
    "<th>Resultado</th>\n",
    "</tr>\n",
    "<tr>\n",
    "<td align=\"center\">x in s</td>\n",
    "<td align=\"center\">True se um item de s é igual a x</td>\n",
    "</tr>\n",
    "<tr>\n",
    "<td align=\"center\">x not in s</td>\n",
    "<td align=\"center\">False se um item de s é igual a x</td>\n",
    "</tr>\n",
    "<tr>\n",
    "<td align=\"center\">s + t</td>\n",
    "<td align=\"center\">Concatenação de s e s</td>\n",
    "</tr>\n",
    "<tr>\n",
    "<td align=\"center\">s n ou n s</td>\n",
    "<td align=\"center\">Equivalente a adicionar s a si mesmo n vezes</td>\n",
    "</tr>\n",
    "<tr>\n",
    "<td align=\"center\">s[i]</td>\n",
    "<td align=\"center\">Elemento na posição i de s</td>\n",
    "</tr>\n",
    "<tr>\n",
    "<td align=\"center\">s[i:j]</td>\n",
    "<td align=\"center\">Fatia s de i para j</td>\n",
    "</tr>\n",
    "<tr>\n",
    "<td align=\"center\">s[i:j:k]</td>\n",
    "<td align=\"center\">Fatia s de i para j com o passo k</td>\n",
    "</tr>\n",
    "<tr>\n",
    "<td align=\"center\">len(s)</td>\n",
    "<td align=\"center\">Comprimento de s</td>\n",
    "</tr>\n",
    "<tr>\n",
    "<td align=\"center\">min(s)</td>\n",
    "<td align=\"center\">Menor item de s</td>\n",
    "</tr>\n",
    "<tr>\n",
    "<td align=\"center\">max(s)</td>\n",
    "<td align=\"center\">Maior item de s</td>\n",
    "</tr>\n",
    "<tr>\n",
    "<td align=\"center\">s.count(x)</td>\n",
    "<td align=\"center\">Número total de ocorrências de x em s</td>\n",
    "</tr>\n",
    "</table>\n",
    "</font>"
   ]
  },
  {
   "cell_type": "markdown",
   "metadata": {
    "colab_type": "text",
    "id": "JktfWQnN8UWe"
   },
   "source": [
    "#### Listas\n",
    "\n",
    "Uma lista é uma sequência de valores onde cada valor é identificado por um índice iniciado por 0.\n",
    "\n",
    "São similares a strings (coleção de caracteres) exceto pelo fato de que os elementos de uma lista podem ser de qualquer tipo. A sintaxe é simples, listas são delimitadas por colchetes e seus elementos separados\n",
    "por vírgula:"
   ]
  },
  {
   "cell_type": "code",
   "execution_count": 0,
   "metadata": {
    "colab": {
     "base_uri": "https://localhost:8080/",
     "height": 34
    },
    "colab_type": "code",
    "id": "AQGCbBkI8fMI",
    "outputId": "62f219ff-fcf8-4a48-d582-057f135c1ec3"
   },
   "outputs": [
    {
     "data": {
      "text/plain": [
       "[1, 2, 3, 4]"
      ]
     },
     "execution_count": 1,
     "metadata": {
      "tags": []
     },
     "output_type": "execute_result"
    }
   ],
   "source": [
    "lista1 = [1, 2, 3, 4]\n",
    "lista1"
   ]
  },
  {
   "cell_type": "code",
   "execution_count": 0,
   "metadata": {
    "colab": {
     "base_uri": "https://localhost:8080/",
     "height": 34
    },
    "colab_type": "code",
    "id": "UtFGDs1t82gm",
    "outputId": "d308f802-7178-440d-fbe7-a79d8b90fa83"
   },
   "outputs": [
    {
     "data": {
      "text/plain": [
       "['python', 'java', 'c#']"
      ]
     },
     "execution_count": 2,
     "metadata": {
      "tags": []
     },
     "output_type": "execute_result"
    }
   ],
   "source": [
    "lista2 = ['python', 'java', 'c#']\n",
    "lista2"
   ]
  },
  {
   "cell_type": "markdown",
   "metadata": {
    "colab_type": "text",
    "id": "kiIOBgBp89Cj"
   },
   "source": [
    "O  primeiro  exemplo  é  uma  lista  com  4  inteiros,  o  segundo  é  uma  lista  contendo  três  strings.  Mas listas não precisam necessariamente conter elementos de mesmo tipo. Podemos ter listas heterogêneas:"
   ]
  },
  {
   "cell_type": "code",
   "execution_count": 0,
   "metadata": {
    "colab": {
     "base_uri": "https://localhost:8080/",
     "height": 34
    },
    "colab_type": "code",
    "id": "9hwd0Xxd858U",
    "outputId": "479c1600-8f0f-4706-ebae-99bffba843fc"
   },
   "outputs": [
    {
     "data": {
      "text/plain": [
       "[1, 2, 'python', 3.5, 'java']"
      ]
     },
     "execution_count": 3,
     "metadata": {
      "tags": []
     },
     "output_type": "execute_result"
    }
   ],
   "source": [
    "lista = [1, 2, 'python', 3.5, 'java']\n",
    "lista"
   ]
  },
  {
   "cell_type": "markdown",
   "metadata": {
    "colab_type": "text",
    "id": "rJmX1ras9JUu"
   },
   "source": [
    "Nossa lista possui elementos do tipo   `int` ,   `float`  e   `str` .  Se  queremos  selecionar  um  elemento específico utilizamos o operador  `[ ]`  passando a posição:"
   ]
  },
  {
   "cell_type": "code",
   "execution_count": 0,
   "metadata": {
    "colab": {
     "base_uri": "https://localhost:8080/",
     "height": 152
    },
    "colab_type": "code",
    "id": "q8p7ObB09BH7",
    "outputId": "86ab4c69-8b18-4d88-8c6b-e2c9ae754072"
   },
   "outputs": [
    {
     "ename": "SyntaxError",
     "evalue": "ignored",
     "output_type": "error",
     "traceback": [
      "\u001b[0;36m  File \u001b[0;32m\"<ipython-input-4-b65b6a779aa4>\"\u001b[0;36m, line \u001b[0;32m1\u001b[0m\n\u001b[0;31m    Nossa lista possui elementos do tipo   int ,   float  e   str .  Se  queremos  selecionar  um  elemento\u001b[0m\n\u001b[0m              ^\u001b[0m\n\u001b[0;31mSyntaxError\u001b[0m\u001b[0;31m:\u001b[0m invalid syntax\n"
     ]
    }
   ],
   "source": [
    "lista = [1, 2, 3, 4]"
   ]
  },
  {
   "cell_type": "code",
   "execution_count": 0,
   "metadata": {
    "colab": {},
    "colab_type": "code",
    "id": "RydoInJ49H06"
   },
   "outputs": [],
   "source": [
    "lista[0]"
   ]
  },
  {
   "cell_type": "code",
   "execution_count": 0,
   "metadata": {
    "colab": {},
    "colab_type": "code",
    "id": "PTwGKyif9YrT"
   },
   "outputs": [],
   "source": [
    "lista[1]"
   ]
  },
  {
   "cell_type": "code",
   "execution_count": 0,
   "metadata": {
    "colab": {},
    "colab_type": "code",
    "id": "XxcekeZZ9YhO"
   },
   "outputs": [],
   "source": [
    "lista[2]"
   ]
  },
  {
   "cell_type": "code",
   "execution_count": 0,
   "metadata": {
    "colab": {},
    "colab_type": "code",
    "id": "tOIIj86l9YSx"
   },
   "outputs": [],
   "source": [
    "lista[3]"
   ]
  },
  {
   "cell_type": "code",
   "execution_count": 0,
   "metadata": {
    "colab": {},
    "colab_type": "code",
    "id": "XVr9F_169XdY"
   },
   "outputs": [],
   "source": [
    "lista[4]"
   ]
  },
  {
   "cell_type": "markdown",
   "metadata": {
    "colab_type": "text",
    "id": "cPX0TqXG9hIz"
   },
   "source": [
    "Quando tentamos acessar a posição 4 fazendo  `lista[4]` , aparece o erro  `IndexError`  dizendo que a lista excedeu seu limite já que não há um quinto elemento (índice 4).\n",
    "\n",
    "O Python permite passar valores negativos como índice que vai devolver o valor naquela posição de forma reversa:"
   ]
  },
  {
   "cell_type": "code",
   "execution_count": 0,
   "metadata": {
    "colab": {},
    "colab_type": "code",
    "id": "LGuZ3V4l9qFD"
   },
   "outputs": [],
   "source": [
    "lista = [1, 2, 3, 4]"
   ]
  },
  {
   "cell_type": "code",
   "execution_count": 0,
   "metadata": {
    "colab": {},
    "colab_type": "code",
    "id": "jrKVoLFb9s-d"
   },
   "outputs": [],
   "source": [
    "lista[-1]"
   ]
  },
  {
   "cell_type": "code",
   "execution_count": 0,
   "metadata": {
    "colab": {},
    "colab_type": "code",
    "id": "Lu3VDQ3x9s0b"
   },
   "outputs": [],
   "source": [
    "lista[-2]"
   ]
  },
  {
   "cell_type": "markdown",
   "metadata": {
    "colab_type": "text",
    "id": "iMlmDcxR90bb"
   },
   "source": [
    "Também  é  possível  usar  a  função   `list()`   para  criar  uma  lista  passando  um  tipo  que  pode  ser iterável como uma string:"
   ]
  },
  {
   "cell_type": "code",
   "execution_count": 0,
   "metadata": {
    "colab": {
     "base_uri": "https://localhost:8080/",
     "height": 34
    },
    "colab_type": "code",
    "id": "8H0FjHIj9-IP",
    "outputId": "a43d75b0-e66b-47a6-9062-dd2fd3fc0028"
   },
   "outputs": [
    {
     "data": {
      "text/plain": [
       "['p', 'y', 't', 'h', 'o', 'n']"
      ]
     },
     "execution_count": 5,
     "metadata": {
      "tags": []
     },
     "output_type": "execute_result"
    }
   ],
   "source": [
    "lista = list('python')\n",
    "lista"
   ]
  },
  {
   "cell_type": "markdown",
   "metadata": {
    "colab_type": "text",
    "id": "N9NcjoPj-FUi"
   },
   "source": [
    "Listas são muito úteis, por exemplo:"
   ]
  },
  {
   "cell_type": "code",
   "execution_count": 0,
   "metadata": {
    "colab": {
     "base_uri": "https://localhost:8080/",
     "height": 121
    },
    "colab_type": "code",
    "id": "HOmXFogt9-nY",
    "outputId": "c2c500da-3b37-4ad9-d723-cbe776706340"
   },
   "outputs": [
    {
     "name": "stdout",
     "output_type": "stream",
     "text": [
      "Escolha um mês (1-12): 3\n",
      "O mês é Março\n",
      "Escolha um mês (1-12): 2\n",
      "O mês é Fevereiro\n",
      "Escolha um mês (1-12): 1\n",
      "O mês é Janeiro\n"
     ]
    }
   ],
   "source": [
    "meses = ['Janeiro', 'Fevereiro', 'Março', 'Abril', 'Junho', 'Julho', 'Agosto', 'Setembro', 'Outubro', 'Novembro', 'Dezembro']\n",
    "n = 1\n",
    "while(n < 4):\n",
    "    mes = int(input(\"Escolha um mês (1-12): \"))\n",
    "    if 1 <= mes <= 12:\n",
    "        print('O mês é {}'.format(meses[mes-1]))\n",
    "    n += 1"
   ]
  },
  {
   "cell_type": "markdown",
   "metadata": {
    "colab_type": "text",
    "id": "Ilz3F7OP-4gN"
   },
   "source": [
    "Primeiro  criamos  um  lista,  relacionamos  seus  índices  com  os  meses  do  ano,  recuperamos  seus valores através da entrada do usuário e imprimimos na tela o mês escolhido (`mes[mes-1]`) indexado a lista a partir do zero. Usamos um laço   `while`  que faz nosso programa entrar em loop e ser rodado 3 vezes.\n",
    "\n",
    "Além de acessar um valor específico utilizando o índice, podemos acessar múltiplos valores através do fatiamento. Também utilizamos colchetes para o fatiamento. Suponha que queremos acessar os dois primeiros elementos de uma lista:"
   ]
  },
  {
   "cell_type": "code",
   "execution_count": 0,
   "metadata": {
    "colab": {},
    "colab_type": "code",
    "id": "7SwLg8jc-RFn"
   },
   "outputs": [],
   "source": [
    "lista = [2, 3, 5, 7, 11]"
   ]
  },
  {
   "cell_type": "code",
   "execution_count": 0,
   "metadata": {
    "colab": {},
    "colab_type": "code",
    "id": "vjSPxySi_55N"
   },
   "outputs": [],
   "source": [
    "lista[0:2]"
   ]
  },
  {
   "cell_type": "markdown",
   "metadata": {
    "colab_type": "text",
    "id": "9zHrwlq4_-PT"
   },
   "source": [
    "Podemos ter o mesmo comportamento fazendo:"
   ]
  },
  {
   "cell_type": "code",
   "execution_count": 0,
   "metadata": {
    "colab": {},
    "colab_type": "code",
    "id": "j3L9cXDk_8Ux"
   },
   "outputs": [],
   "source": [
    "lista[:2]"
   ]
  },
  {
   "cell_type": "markdown",
   "metadata": {
    "colab_type": "text",
    "id": "Mgpos6BYABFP"
   },
   "source": [
    "Se queremos todos os valores excluindo os dois primeiros, fazemos:"
   ]
  },
  {
   "cell_type": "code",
   "execution_count": 0,
   "metadata": {
    "colab": {},
    "colab_type": "code",
    "id": "wGOYWH-4AGDl"
   },
   "outputs": [],
   "source": [
    "lista[2:]"
   ]
  },
  {
   "cell_type": "markdown",
   "metadata": {
    "colab_type": "text",
    "id": "vF0xojANAI1Z"
   },
   "source": [
    "Ou utilizamos ínidces negativos:"
   ]
  },
  {
   "cell_type": "code",
   "execution_count": 0,
   "metadata": {
    "colab": {},
    "colab_type": "code",
    "id": "Ux2EYuZxANGe"
   },
   "outputs": [],
   "source": [
    "lista[-3:]"
   ]
  },
  {
   "cell_type": "markdown",
   "metadata": {
    "colab_type": "text",
    "id": "7ETFL5-YAPqj"
   },
   "source": [
    "Também podemos fatiar uma lista de modo a pegar elementos em um intervalo específico:"
   ]
  },
  {
   "cell_type": "code",
   "execution_count": 0,
   "metadata": {
    "colab": {},
    "colab_type": "code",
    "id": "5cIz8Yi1AR-t"
   },
   "outputs": [],
   "source": [
    "lista[2:4]"
   ]
  },
  {
   "cell_type": "markdown",
   "metadata": {
    "colab_type": "text",
    "id": "7naG_-10AUUV"
   },
   "source": [
    "As  listas  também  possuem  funcionalidades  prontas  e  podemos  manipulá-las  através  de  funções embutidas. A lista tem uma função chamada  `append()`  que adiciona um dado na lista:"
   ]
  },
  {
   "cell_type": "code",
   "execution_count": 0,
   "metadata": {
    "colab": {},
    "colab_type": "code",
    "id": "ZIpVifbpAYuD"
   },
   "outputs": [],
   "source": [
    "lista = []\n",
    "lista.append('zero')\n",
    "lista.append('um')"
   ]
  },
  {
   "cell_type": "code",
   "execution_count": 0,
   "metadata": {
    "colab": {},
    "colab_type": "code",
    "id": "2k27FoZ8Acgh"
   },
   "outputs": [],
   "source": [
    "lista"
   ]
  },
  {
   "cell_type": "markdown",
   "metadata": {
    "colab_type": "text",
    "id": "vayKXErSAjtL"
   },
   "source": [
    "A função  `append()`  só consegue inserir um elemento por vez. Se quisermos inserir mais elementos podemos somar ou multiplicar listas, ou então utilizar a função  `extend()`:"
   ]
  },
  {
   "cell_type": "code",
   "execution_count": 0,
   "metadata": {
    "colab": {},
    "colab_type": "code",
    "id": "vTh5Dsw9DsIK"
   },
   "outputs": [],
   "source": [
    "lista = ['zero', 'um']\n",
    "lista.extend(['dois', 'três',])\n",
    "lista += ['quatro', 'cinco']"
   ]
  },
  {
   "cell_type": "code",
   "execution_count": 0,
   "metadata": {
    "colab": {
     "base_uri": "https://localhost:8080/",
     "height": 34
    },
    "colab_type": "code",
    "id": "RAHmfxPuDxOY",
    "outputId": "4ee5f5c0-f472-497c-c1c6-821ddab195e5"
   },
   "outputs": [
    {
     "data": {
      "text/plain": [
       "['zero', 'um', 'dois', 'três', 'quatro', 'cinco', 'seis']"
      ]
     },
     "execution_count": 14,
     "metadata": {
      "tags": []
     },
     "output_type": "execute_result"
    }
   ],
   "source": [
    "lista + ['seis']"
   ]
  },
  {
   "cell_type": "code",
   "execution_count": 0,
   "metadata": {
    "colab": {},
    "colab_type": "code",
    "id": "wCAF-pUtDy_K"
   },
   "outputs": [],
   "source": [
    "lista * 2"
   ]
  },
  {
   "cell_type": "markdown",
   "metadata": {
    "colab_type": "text",
    "id": "bhOhdOw4D5ig"
   },
   "source": [
    "Isso  é  possível  já  que  listas  são  sequências  mutáveis,  ou  seja  conseguimos  adicionar,  remover  e modificar seus elementos. Para imprimir o conteúdo de uma lista utilizamos o comando  `for`:"
   ]
  },
  {
   "cell_type": "code",
   "execution_count": 0,
   "metadata": {
    "colab": {
     "base_uri": "https://localhost:8080/",
     "height": 121
    },
    "colab_type": "code",
    "id": "Add3XGEuECNF",
    "outputId": "73fecfdd-1e72-4d82-a51f-a1e4991ab1f3"
   },
   "outputs": [
    {
     "name": "stdout",
     "output_type": "stream",
     "text": [
      "zero\n",
      "um\n",
      "dois\n",
      "três\n",
      "quatro\n",
      "cinco\n"
     ]
    }
   ],
   "source": [
    "for valor in lista:\n",
    "    print(valor)"
   ]
  },
  {
   "cell_type": "markdown",
   "metadata": {
    "colab_type": "text",
    "id": "kmJuze08EGF5"
   },
   "source": [
    "#### Tuplas\n",
    "\n",
    "Uma  tupla  é  uma  lista  imutável,  ou  seja,  uma  tupla  é  uma  sequência  que  não  pode  ser  alterada depois de criada. Uma tupla é definida de forma parecida com uma lista com a diferença do delimitador.\n",
    "\n",
    "Enquanto listas utilizam colchetes como delimitadores, as tuplas usam parênteses:"
   ]
  },
  {
   "cell_type": "code",
   "execution_count": 0,
   "metadata": {
    "colab": {
     "base_uri": "https://localhost:8080/",
     "height": 34
    },
    "colab_type": "code",
    "id": "hR0rpTb1EEJT",
    "outputId": "cf38581e-58c5-4735-a528-48d163c42f4a"
   },
   "outputs": [
    {
     "data": {
      "text/plain": [
       "tuple"
      ]
     },
     "execution_count": 16,
     "metadata": {
      "tags": []
     },
     "output_type": "execute_result"
    }
   ],
   "source": [
    "dias = ('domingo', 'segunda', 'terça', 'quarta', 'quinta', 'sexta', 'sabado')\n",
    "type(dias)"
   ]
  },
  {
   "cell_type": "markdown",
   "metadata": {
    "colab_type": "text",
    "id": "bOmCZpg1Ef5Z"
   },
   "source": [
    "Podemos omitir os parênteses e inserir os elementos separados por vírgula:"
   ]
  },
  {
   "cell_type": "code",
   "execution_count": 0,
   "metadata": {
    "colab": {},
    "colab_type": "code",
    "id": "Rq-j7o0FEcRx"
   },
   "outputs": [],
   "source": [
    "dias = 'domingo', 'segunda', 'terça', 'quarta', 'quinta', 'sexta', 'sabado'\n",
    "type(dias)"
   ]
  },
  {
   "cell_type": "markdown",
   "metadata": {
    "colab_type": "text",
    "id": "UCxle5mZEmAY"
   },
   "source": [
    "Note que, na verdade, é a vírgula que faz uma tupla, não os parênteses. Os parênteses são opcionais, exceto no caso da tupla vazia, ou quando são necessários para evitar ambiguidade sintática.\n",
    "\n",
    "Assim como as listas, também podemos usar uma função para criar uma tupla passando um tipo que\n",
    "pode ser iterável como uma `string` ou uma lista. Essa função é a  `tuple()` :"
   ]
  },
  {
   "cell_type": "code",
   "execution_count": 0,
   "metadata": {
    "colab": {
     "base_uri": "https://localhost:8080/",
     "height": 34
    },
    "colab_type": "code",
    "id": "ZwwMvwPwEwN9",
    "outputId": "13deabe6-b0b4-46d6-b5f4-352f789fb733"
   },
   "outputs": [
    {
     "data": {
      "text/plain": [
       "('p', 'y', 't', 'h', 'o', 'n')"
      ]
     },
     "execution_count": 17,
     "metadata": {
      "tags": []
     },
     "output_type": "execute_result"
    }
   ],
   "source": [
    "texto = 'python'\n",
    "tuple(texto)"
   ]
  },
  {
   "cell_type": "code",
   "execution_count": 0,
   "metadata": {
    "colab": {
     "base_uri": "https://localhost:8080/",
     "height": 34
    },
    "colab_type": "code",
    "id": "jxGFgEf4EyI3",
    "outputId": "503d58db-0c9d-43b2-f3f9-65d26ef927e8"
   },
   "outputs": [
    {
     "data": {
      "text/plain": [
       "(1, 2, 3, 4)"
      ]
     },
     "execution_count": 18,
     "metadata": {
      "tags": []
     },
     "output_type": "execute_result"
    }
   ],
   "source": [
    "lista = [1, 2, 3, 4]\n",
    "tuple(lista)"
   ]
  },
  {
   "cell_type": "markdown",
   "metadata": {
    "colab_type": "text",
    "id": "pO54CbeNE3BT"
   },
   "source": [
    "As regras para os índices são as mesmas das listas, exceto para elementos também imutáveis. Como são imutáveis, uma vez criadas não podemos adicionar nem remover elementos de uma tupla. O método `append()`  da lista não existe na tupla:"
   ]
  },
  {
   "cell_type": "code",
   "execution_count": 0,
   "metadata": {
    "colab": {
     "base_uri": "https://localhost:8080/",
     "height": 167
    },
    "colab_type": "code",
    "id": "no6E4p5tE0eh",
    "outputId": "af4a4912-458f-4c37-a8a5-19b550b17519"
   },
   "outputs": [
    {
     "ename": "AttributeError",
     "evalue": "ignored",
     "output_type": "error",
     "traceback": [
      "\u001b[0;31m---------------------------------------------------------------------------\u001b[0m",
      "\u001b[0;31mAttributeError\u001b[0m                            Traceback (most recent call last)",
      "\u001b[0;32m<ipython-input-19-3c5e54035f8f>\u001b[0m in \u001b[0;36m<module>\u001b[0;34m()\u001b[0m\n\u001b[0;32m----> 1\u001b[0;31m \u001b[0mdias\u001b[0m\u001b[0;34m.\u001b[0m\u001b[0mappend\u001b[0m\u001b[0;34m(\u001b[0m\u001b[0;34m'sabado2'\u001b[0m\u001b[0;34m)\u001b[0m\u001b[0;34m\u001b[0m\u001b[0;34m\u001b[0m\u001b[0m\n\u001b[0m",
      "\u001b[0;31mAttributeError\u001b[0m: 'tuple' object has no attribute 'append'"
     ]
    }
   ],
   "source": [
    "dias.append('sabado2')"
   ]
  },
  {
   "cell_type": "code",
   "execution_count": 0,
   "metadata": {
    "colab": {
     "base_uri": "https://localhost:8080/",
     "height": 34
    },
    "colab_type": "code",
    "id": "2NiQ95VZE-Ez",
    "outputId": "b26e9798-652a-4e08-9fd8-9a412bd36e64"
   },
   "outputs": [
    {
     "data": {
      "text/plain": [
       "'domingo'"
      ]
     },
     "execution_count": 20,
     "metadata": {
      "tags": []
     },
     "output_type": "execute_result"
    }
   ],
   "source": [
    "dias[0]"
   ]
  },
  {
   "cell_type": "code",
   "execution_count": 0,
   "metadata": {
    "colab": {
     "base_uri": "https://localhost:8080/",
     "height": 167
    },
    "colab_type": "code",
    "id": "jy4c7SgnFBWW",
    "outputId": "d546aab2-eb82-4bae-bc9b-d19c197e537c"
   },
   "outputs": [
    {
     "ename": "TypeError",
     "evalue": "ignored",
     "output_type": "error",
     "traceback": [
      "\u001b[0;31m---------------------------------------------------------------------------\u001b[0m",
      "\u001b[0;31mTypeError\u001b[0m                                 Traceback (most recent call last)",
      "\u001b[0;32m<ipython-input-21-5de559e53d4a>\u001b[0m in \u001b[0;36m<module>\u001b[0;34m()\u001b[0m\n\u001b[0;32m----> 1\u001b[0;31m \u001b[0mdias\u001b[0m\u001b[0;34m[\u001b[0m\u001b[0;36m0\u001b[0m\u001b[0;34m]\u001b[0m \u001b[0;34m=\u001b[0m \u001b[0;34m'dom'\u001b[0m\u001b[0;34m\u001b[0m\u001b[0;34m\u001b[0m\u001b[0m\n\u001b[0m",
      "\u001b[0;31mTypeError\u001b[0m: 'tuple' object does not support item assignment"
     ]
    }
   ],
   "source": [
    "dias[0] = 'dom'"
   ]
  },
  {
   "cell_type": "markdown",
   "metadata": {
    "colab_type": "text",
    "id": "FATquwgpFHRh"
   },
   "source": [
    "Não é possível atribuir valores aos itens individuais de uma tupla, no entanto, é possível criar tuplas que contenham objetos mutáveis, como listas."
   ]
  },
  {
   "cell_type": "code",
   "execution_count": 0,
   "metadata": {
    "colab": {
     "base_uri": "https://localhost:8080/",
     "height": 34
    },
    "colab_type": "code",
    "id": "XRpVvCv1FB0p",
    "outputId": "9ac27fc8-c80c-4e9e-df10-f7ffe4f436e9"
   },
   "outputs": [
    {
     "data": {
      "text/plain": [
       "(1, 2, [3, 4])"
      ]
     },
     "execution_count": 25,
     "metadata": {
      "tags": []
     },
     "output_type": "execute_result"
    }
   ],
   "source": [
    "lista = [3, 4]\n",
    "tupla = (1, 2, lista)\n",
    "tupla"
   ]
  },
  {
   "cell_type": "code",
   "execution_count": 0,
   "metadata": {
    "colab": {
     "base_uri": "https://localhost:8080/",
     "height": 34
    },
    "colab_type": "code",
    "id": "U2us8d1zFMPM",
    "outputId": "21ad799c-0154-40cd-ecdd-ebf2354b9b84"
   },
   "outputs": [
    {
     "data": {
      "text/plain": [
       "(1, 2, [3, 4])"
      ]
     },
     "execution_count": 26,
     "metadata": {
      "tags": []
     },
     "output_type": "execute_result"
    }
   ],
   "source": [
    "lista = [4, 4]\n",
    "tupla"
   ]
  },
  {
   "cell_type": "code",
   "execution_count": 0,
   "metadata": {
    "colab": {
     "base_uri": "https://localhost:8080/",
     "height": 167
    },
    "colab_type": "code",
    "id": "uql61_WSFQAp",
    "outputId": "cf597f89-c493-49ad-ed76-4d93af9eb237"
   },
   "outputs": [
    {
     "ename": "TypeError",
     "evalue": "ignored",
     "output_type": "error",
     "traceback": [
      "\u001b[0;31m---------------------------------------------------------------------------\u001b[0m",
      "\u001b[0;31mTypeError\u001b[0m                                 Traceback (most recent call last)",
      "\u001b[0;32m<ipython-input-24-b62402ff14dc>\u001b[0m in \u001b[0;36m<module>\u001b[0;34m()\u001b[0m\n\u001b[0;32m----> 1\u001b[0;31m \u001b[0mtupla\u001b[0m\u001b[0;34m[\u001b[0m\u001b[0;36m2\u001b[0m\u001b[0;34m]\u001b[0m \u001b[0;34m=\u001b[0m \u001b[0;34m[\u001b[0m\u001b[0;36m3\u001b[0m\u001b[0;34m,\u001b[0m \u001b[0;36m4\u001b[0m\u001b[0;34m]\u001b[0m\u001b[0;34m\u001b[0m\u001b[0;34m\u001b[0m\u001b[0m\n\u001b[0m",
      "\u001b[0;31mTypeError\u001b[0m: 'tuple' object does not support item assignment"
     ]
    }
   ],
   "source": [
    "tupla[2] = [3, 4]"
   ]
  },
  {
   "cell_type": "markdown",
   "metadata": {
    "colab_type": "text",
    "id": "_xCpIhn7IcBS"
   },
   "source": [
    "As tuplas são imutáveis e geralmente contêm uma sequência heterogênea de elementos já as listas são mutáveis e seus elementos geralmente são homogêneos e são acessados ​​pela iteração da lista, mas isso não é uma regra.\n",
    "\n",
    "Quando é necessário armazenar uma coleção de dados que não pode ser alterada, prefira usar tuplas a listas. Outra vantagem é que tuplas podem ser usadas como chaves de dicionários.\n",
    "\n",
    "Tuplas são frequentemente usadas em programas Python. Um uso bastante comum são em funções\f",
    " que recebem múltiplos valores. As tuplas implementam todas as operações de sequência comuns.\n",
    "\n",
    "#### Range\n",
    "\n",
    "O  `range`  é  um  tipo  de  seqüência  imutável  de  números  e  é  comumente  usado  para  looping  de  um número específico de vezes em um comando   `for`  já que representam um intervalo. O comando `range` gera um valor contendo números inteiros sequenciais, obedecendo a sintaxe:\n",
    "\n",
    "        range(inicio, fim)\n",
    "\n",
    "O número finalizador, o fim, não é incluído na sequência. Vejamos um exemplo:"
   ]
  },
  {
   "cell_type": "code",
   "execution_count": 0,
   "metadata": {
    "colab": {
     "base_uri": "https://localhost:8080/",
     "height": 34
    },
    "colab_type": "code",
    "id": "lrIsT7gwFVki",
    "outputId": "00aca1d9-bd83-471b-91dc-0ec77c1cc12b"
   },
   "outputs": [
    {
     "name": "stdout",
     "output_type": "stream",
     "text": [
      "range(1, 3)\n"
     ]
    }
   ],
   "source": [
    "sequencia = range(1, 3)\n",
    "print(sequencia)"
   ]
  },
  {
   "cell_type": "markdown",
   "metadata": {
    "colab_type": "text",
    "id": "rPuaHFe4Koqj"
   },
   "source": [
    "O  `range`  não  imprime  os  elementos  da  sequência,  ele  apenas  armazena  seu  início  e  seu  final.  Para imprimir seus elementos precisamos de um laço  `for` :"
   ]
  },
  {
   "cell_type": "code",
   "execution_count": 0,
   "metadata": {
    "colab": {
     "base_uri": "https://localhost:8080/",
     "height": 52
    },
    "colab_type": "code",
    "id": "9a_JoMIiKk4g",
    "outputId": "4546daba-923c-4bdb-fec2-f64a8ab6472c"
   },
   "outputs": [
    {
     "name": "stdout",
     "output_type": "stream",
     "text": [
      "1\n",
      "2\n"
     ]
    }
   ],
   "source": [
    "for valor in range(1, 3):\n",
    "    print(valor)"
   ]
  },
  {
   "cell_type": "markdown",
   "metadata": {
    "colab_type": "text",
    "id": "bCG9HAQRK_T9"
   },
   "source": [
    "Observe que ele não inclui o segundo parâmetro da função `range` na sequência. Outra característica deste comando é a de poder controlar o passo da sequência adicionando um terceiro parâmetro, isto é, a\n",
    "variação entre um número e o seu sucessor:"
   ]
  },
  {
   "cell_type": "code",
   "execution_count": 0,
   "metadata": {
    "colab": {},
    "colab_type": "code",
    "id": "3p7sZ_kKK63z"
   },
   "outputs": [],
   "source": [
    "for valor in range(1, 10, 2):\n",
    "    print(valor)"
   ]
  },
  {
   "cell_type": "markdown",
   "metadata": {
    "colab_type": "text",
    "id": "GigA5ma4LK4x"
   },
   "source": [
    "Os  intervalos  implementam  todas  as  operações  de  seqüência  comuns,  exceto  concatenação  e repetição (devido ao fato de que objetos de intervalo só podem representar sequências que seguem um padrão estrito e a repetição e a concatenação geralmente violam esse padrão)."
   ]
  },
  {
   "cell_type": "markdown",
   "metadata": {
    "colab_type": "text",
    "id": "aTa0t1HcLs0t"
   },
   "source": [
    "### 4.3 CONJUNTOS\n",
    "O  Python  também  inclui  um  tipo  de  dados  para  conjuntos.  Um  conjunto,  diferente  de  uma sequência, é uma coleção não ordenada e que não admite elementos duplicados.\n",
    "\n",
    "Chaves ou a função  `set()`  podem ser usados para criar conjuntos."
   ]
  },
  {
   "cell_type": "code",
   "execution_count": 0,
   "metadata": {
    "colab": {
     "base_uri": "https://localhost:8080/",
     "height": 34
    },
    "colab_type": "code",
    "id": "FsCZuI-LL2QP",
    "outputId": "1f2dbb05-ef4e-4a92-f314-2b3a0e7adc90"
   },
   "outputs": [
    {
     "data": {
      "text/plain": [
       "{'abacate', 'banana', 'laranja', 'pera', 'uva'}"
      ]
     },
     "execution_count": 29,
     "metadata": {
      "tags": []
     },
     "output_type": "execute_result"
    }
   ],
   "source": [
    "frutas = {'laranja', 'banana', 'uva', 'pera', 'laranja', 'uva', 'abacate'}\n",
    "frutas"
   ]
  },
  {
   "cell_type": "code",
   "execution_count": 0,
   "metadata": {
    "colab": {
     "base_uri": "https://localhost:8080/",
     "height": 34
    },
    "colab_type": "code",
    "id": "7EgE8c8BL2o2",
    "outputId": "0bc2da4f-9aaf-4ec4-89e8-bc59b37dbff2"
   },
   "outputs": [
    {
     "data": {
      "text/plain": [
       "set"
      ]
     },
     "execution_count": 30,
     "metadata": {
      "tags": []
     },
     "output_type": "execute_result"
    }
   ],
   "source": [
    "type(frutas)"
   ]
  },
  {
   "cell_type": "markdown",
   "metadata": {
    "colab_type": "text",
    "id": "GTMe3Pn5L7nM"
   },
   "source": [
    "Usos  básicos  incluem  testes  de  associação  e  eliminação  de  entradas  duplicadas.  Os  objetos  de conjunto  também  suportam  operações  matemáticas  como  união,  interseção,  diferença  e  diferença\n",
    "simétrica. Podemos transformar um texto em um conjunto com a frunção  `set()`  e testar os operações:"
   ]
  },
  {
   "cell_type": "code",
   "execution_count": 0,
   "metadata": {
    "colab": {},
    "colab_type": "code",
    "id": "vDbLsh5bL5VI"
   },
   "outputs": [],
   "source": [
    "a =  set('abacate')\n",
    "b = set('abacaxi')"
   ]
  },
  {
   "cell_type": "code",
   "execution_count": 0,
   "metadata": {
    "colab": {
     "base_uri": "https://localhost:8080/",
     "height": 34
    },
    "colab_type": "code",
    "id": "eA-SlNzEMDNR",
    "outputId": "d83ac925-fd16-489b-f7b3-351c01b83509"
   },
   "outputs": [
    {
     "data": {
      "text/plain": [
       "{'a', 'b', 'c', 'e', 't'}"
      ]
     },
     "execution_count": 32,
     "metadata": {
      "tags": []
     },
     "output_type": "execute_result"
    }
   ],
   "source": [
    "a"
   ]
  },
  {
   "cell_type": "code",
   "execution_count": 0,
   "metadata": {
    "colab": {
     "base_uri": "https://localhost:8080/",
     "height": 34
    },
    "colab_type": "code",
    "id": "hXb6tcGlME4U",
    "outputId": "9dcb46d2-6a94-4945-f6e9-5357c976dbc5"
   },
   "outputs": [
    {
     "data": {
      "text/plain": [
       "{'a', 'b', 'c', 'i', 'x'}"
      ]
     },
     "execution_count": 33,
     "metadata": {
      "tags": []
     },
     "output_type": "execute_result"
    }
   ],
   "source": [
    "b"
   ]
  },
  {
   "cell_type": "code",
   "execution_count": 0,
   "metadata": {
    "colab": {
     "base_uri": "https://localhost:8080/",
     "height": 34
    },
    "colab_type": "code",
    "id": "l334cB0vMGkS",
    "outputId": "a9144694-2514-4065-f909-1d5f237393f9"
   },
   "outputs": [
    {
     "data": {
      "text/plain": [
       "{'e', 't'}"
      ]
     },
     "execution_count": 34,
     "metadata": {
      "tags": []
     },
     "output_type": "execute_result"
    }
   ],
   "source": [
    "a - b"
   ]
  },
  {
   "cell_type": "code",
   "execution_count": 0,
   "metadata": {
    "colab": {
     "base_uri": "https://localhost:8080/",
     "height": 34
    },
    "colab_type": "code",
    "id": "9OKdLDJIMHYu",
    "outputId": "3918f4e5-e03d-45c4-a0dd-b284c9057871"
   },
   "outputs": [
    {
     "data": {
      "text/plain": [
       "{'a', 'b', 'c', 'e', 'i', 't', 'x'}"
      ]
     },
     "execution_count": 35,
     "metadata": {
      "tags": []
     },
     "output_type": "execute_result"
    }
   ],
   "source": [
    "a | b"
   ]
  },
  {
   "cell_type": "code",
   "execution_count": 0,
   "metadata": {
    "colab": {
     "base_uri": "https://localhost:8080/",
     "height": 34
    },
    "colab_type": "code",
    "id": "9NSB8ZwiMLjH",
    "outputId": "d4fe3e29-1336-4925-e61e-dca5750cd9b8"
   },
   "outputs": [
    {
     "data": {
      "text/plain": [
       "{'a', 'b', 'c'}"
      ]
     },
     "execution_count": 36,
     "metadata": {
      "tags": []
     },
     "output_type": "execute_result"
    }
   ],
   "source": [
    "a & b"
   ]
  },
  {
   "cell_type": "code",
   "execution_count": 0,
   "metadata": {
    "colab": {
     "base_uri": "https://localhost:8080/",
     "height": 34
    },
    "colab_type": "code",
    "id": "9uhAtv4sMNoX",
    "outputId": "b4775e40-2c94-48d1-8218-835bfe6ee8a6"
   },
   "outputs": [
    {
     "data": {
      "text/plain": [
       "{'e', 'i', 't', 'x'}"
      ]
     },
     "execution_count": 37,
     "metadata": {
      "tags": []
     },
     "output_type": "execute_result"
    }
   ],
   "source": [
    "a ^ b"
   ]
  },
  {
   "cell_type": "markdown",
   "metadata": {
    "colab_type": "text",
    "id": "uuBMEba0MTao"
   },
   "source": [
    "Note  que  para  criar  um  conjunto  vazio  você  tem  que  usar   `set()` ,  não   `{}` ;  o  segundo  cria  um dicionário vazio, uma estrutura de dados que discutiremos na próxima seção."
   ]
  },
  {
   "cell_type": "code",
   "execution_count": 0,
   "metadata": {
    "colab": {
     "base_uri": "https://localhost:8080/",
     "height": 34
    },
    "colab_type": "code",
    "id": "Wg456MgXMO3A",
    "outputId": "9d4b4f58-9abe-484e-8b8a-5eae1cdfd0b8"
   },
   "outputs": [
    {
     "data": {
      "text/plain": [
       "set()"
      ]
     },
     "execution_count": 38,
     "metadata": {
      "tags": []
     },
     "output_type": "execute_result"
    }
   ],
   "source": [
    "a = set()\n",
    "a"
   ]
  },
  {
   "cell_type": "code",
   "execution_count": 0,
   "metadata": {
    "colab": {
     "base_uri": "https://localhost:8080/",
     "height": 34
    },
    "colab_type": "code",
    "id": "_xHGzPsgMcQ1",
    "outputId": "6dd0d127-a7c2-4a25-955a-3a76be8d143e"
   },
   "outputs": [
    {
     "data": {
      "text/plain": [
       "{}"
      ]
     },
     "execution_count": 39,
     "metadata": {
      "tags": []
     },
     "output_type": "execute_result"
    }
   ],
   "source": [
    "b = {}\n",
    "b"
   ]
  },
  {
   "cell_type": "code",
   "execution_count": 0,
   "metadata": {
    "colab": {
     "base_uri": "https://localhost:8080/",
     "height": 34
    },
    "colab_type": "code",
    "id": "QPUB87F2MeYz",
    "outputId": "34821863-8d35-4eb5-f13e-146e883577a8"
   },
   "outputs": [
    {
     "data": {
      "text/plain": [
       "set"
      ]
     },
     "execution_count": 40,
     "metadata": {
      "tags": []
     },
     "output_type": "execute_result"
    }
   ],
   "source": [
    "type(a)"
   ]
  },
  {
   "cell_type": "code",
   "execution_count": 0,
   "metadata": {
    "colab": {
     "base_uri": "https://localhost:8080/",
     "height": 34
    },
    "colab_type": "code",
    "id": "5JSbEMq4MgbX",
    "outputId": "494d4a78-3e82-4816-ce40-e053cac378a7"
   },
   "outputs": [
    {
     "data": {
      "text/plain": [
       "dict"
      ]
     },
     "execution_count": 41,
     "metadata": {
      "tags": []
     },
     "output_type": "execute_result"
    }
   ],
   "source": [
    "type(b)"
   ]
  },
  {
   "cell_type": "markdown",
   "metadata": {
    "colab_type": "text",
    "id": "QE-0ReKWMkle"
   },
   "source": [
    "### 4.4 DICIONÁRIOS\n",
    "\n",
    "Vimos que   `list` ,  `tuple` ,   `range`  e   `str`  são sequências ordenadas de objetos e sets são coleções de elementos não ordenados. \n",
    "\n",
    "Dicionário é outra estrutura de dados em Python e seus elementos, como os  conjuntos,  não  são  ordenados.  Essa  não  é  a  principal  diferença  com  as  listas,  os  dicionários  são estruturas poderosas e muito utilizadas já que podemos acessar seus elementos através de chaves e não de sua posição. Em outras linguagens este tipo é conhecido como \"matrizes associativas\".\n",
    "\n",
    "Qualquer  chave  de  um  dicionário  é  associada  (ou  mapeada)  a  um  valor.  Os  valores  podem  ser qualquer tipo de dado do Python. Portanto, os dicionários são pares de chave-valor não ordenados.\n",
    "\n",
    "Os dicionários pertencem ao tipo de mapeamento integrado e não sequenciais como as listas, tuplas e strings. Vamos ver como isso funciona no código e criar um dicionário com dados de uma pessoa:"
   ]
  },
  {
   "cell_type": "code",
   "execution_count": 0,
   "metadata": {
    "colab": {
     "base_uri": "https://localhost:8080/",
     "height": 34
    },
    "colab_type": "code",
    "id": "BDotNx65NWjn",
    "outputId": "7159d0ba-8033-4cf6-e5a4-619be44b8614"
   },
   "outputs": [
    {
     "data": {
      "text/plain": [
       "{'cidade': 'São Paulo', 'idade': 25, 'nome': 'João'}"
      ]
     },
     "execution_count": 42,
     "metadata": {
      "tags": []
     },
     "output_type": "execute_result"
    }
   ],
   "source": [
    "pessoa = {'nome': 'João', 'idade': 25, 'cidade': 'São Paulo'}\n",
    "pessoa"
   ]
  },
  {
   "cell_type": "markdown",
   "metadata": {
    "colab_type": "text",
    "id": "tfWblUA2N2jc"
   },
   "source": [
    "Os dicionários são delimitados por chaves (`{}`) e suas chaves (`'nome', 'idade' e 'cidade'`) por aspas. Já os valores podem ser de qualquer tipo, no exemplo acima temos duas strings e um  `int` .\n",
    "\n",
    "O que será que acontece se tentarmos acessar seu primeiro elemento?"
   ]
  },
  {
   "cell_type": "code",
   "execution_count": 0,
   "metadata": {
    "colab": {},
    "colab_type": "code",
    "id": "fzX2_UjmNz1v"
   },
   "outputs": [],
   "source": [
    "pessoa[0]"
   ]
  },
  {
   "cell_type": "markdown",
   "metadata": {
    "colab_type": "text",
    "id": "9FEG7nScOgqi"
   },
   "source": [
    "Não é possível acessar um elemento de um dicionário por um índice como na lista. Devemos acessar por sua chave:"
   ]
  },
  {
   "cell_type": "code",
   "execution_count": 0,
   "metadata": {
    "colab": {},
    "colab_type": "code",
    "id": "6pWvOW_wOkUm"
   },
   "outputs": [],
   "source": [
    "pessoa['nome']"
   ]
  },
  {
   "cell_type": "code",
   "execution_count": 0,
   "metadata": {
    "colab": {},
    "colab_type": "code",
    "id": "fdeiAS7zOn2R"
   },
   "outputs": [],
   "source": [
    "pessoa['idade']"
   ]
  },
  {
   "cell_type": "markdown",
   "metadata": {
    "colab_type": "text",
    "id": "nWB5Mw3wOsuT"
   },
   "source": [
    "Se precisarmos adicionar algum elemento, por exemplo, o país, basta fazermos:"
   ]
  },
  {
   "cell_type": "code",
   "execution_count": 0,
   "metadata": {
    "colab": {},
    "colab_type": "code",
    "id": "xsROEY5VOti3"
   },
   "outputs": [],
   "source": [
    "pessoa1['país'] = 'Brasil'\n",
    "pessoa1"
   ]
  },
  {
   "cell_type": "markdown",
   "metadata": {
    "colab_type": "text",
    "id": "CuvPbTcoOwst"
   },
   "source": [
    "Como sempre acessamos seus elementos através de chaves, o dicionário possui um método chamado\n",
    " `keys()`  que devolve o conjunto de suas chaves:"
   ]
  },
  {
   "cell_type": "code",
   "execution_count": 0,
   "metadata": {
    "colab": {},
    "colab_type": "code",
    "id": "5FbSsTosPJ8L"
   },
   "outputs": [],
   "source": [
    "pessoa1.keys()"
   ]
  },
  {
   "cell_type": "markdown",
   "metadata": {
    "colab_type": "text",
    "id": "fwrgGbgTPMWc"
   },
   "source": [
    "Assim como um método chamado  values()  que retorna seus valores:"
   ]
  },
  {
   "cell_type": "code",
   "execution_count": 0,
   "metadata": {
    "colab": {},
    "colab_type": "code",
    "id": "HoL22eniPPOX"
   },
   "outputs": [],
   "source": [
    "pessoa1.values()"
   ]
  },
  {
   "cell_type": "markdown",
   "metadata": {
    "colab_type": "text",
    "id": "vebLBUuWPSII"
   },
   "source": [
    "Note  que  as  chaves  de  um  dicionário  não  podem  ser  iguais  para  não  causar  conflito.  Além  disso, somente tipos de dados imutáveis podem ser usados como chaves, ou seja, nenhuma lista ou dicionário pode ser usado. Caso isso aconteça, recebemos um erro:"
   ]
  },
  {
   "cell_type": "code",
   "execution_count": 0,
   "metadata": {
    "colab": {},
    "colab_type": "code",
    "id": "O-uug3e6PW6U"
   },
   "outputs": [],
   "source": [
    "dic = {[1, 2, 3]: 'valor'}"
   ]
  },
  {
   "cell_type": "markdown",
   "metadata": {
    "colab_type": "text",
    "id": "x6fa2hF3Pc5d"
   },
   "source": [
    "Já as tuplas, como chaves, são permitidas:"
   ]
  },
  {
   "cell_type": "code",
   "execution_count": 0,
   "metadata": {
    "colab": {},
    "colab_type": "code",
    "id": "qUrVmPqVPh17"
   },
   "outputs": [],
   "source": [
    "dic = {(1, 2, 3): 'valor'}\n",
    "dic"
   ]
  },
  {
   "cell_type": "markdown",
   "metadata": {
    "colab_type": "text",
    "id": "HnepC9C2PnzV"
   },
   "source": [
    "Também podemos criar dicionários utilizando a função `dict()`:"
   ]
  },
  {
   "cell_type": "code",
   "execution_count": 0,
   "metadata": {
    "colab": {},
    "colab_type": "code",
    "id": "ieNJkUeyQAzS"
   },
   "outputs": [],
   "source": [
    "a = dict(um=1, dois=2, três=3)\n",
    "a"
   ]
  },
  {
   "cell_type": "markdown",
   "metadata": {
    "colab_type": "text",
    "id": "YAImLTCbQMc7"
   },
   "source": [
    "### 4.5 EXERCÍCIOS: ESTRUTURA DE DADOS\n",
    "1.  Dada a lista = \n",
    "        [12, -2, 4, 8, 29, 45, 78, 36, -17, 2, 12, 8, 3, 3, -52] \n",
    "\n",
    "faça um programa que:\n",
    "\n",
    "a) imprima o maior elemento\n",
    "\n",
    "b) imprima o menor elemento\n",
    "\n",
    "c) imprima os números pares\n",
    "\n",
    "d) imprima o número de ocorrências do primeiro elemento da lista\n",
    "\n",
    "e) imprima a média dos elementos\n",
    "\n",
    "f) imprima a soma dos elementos de valor negativo\n",
    "\n",
    "2.  Faça  um  programa  que  leia  dados  do  usuário  (nome,  sobrenome,  idade)  adicione  em  uma  lista  e imprima seus elementos na tela.\n",
    "\n",
    "3.  Faça um programa que leia 4 notas, mostre as notas e a média na tela.\n",
    "\n",
    "4.  Faça um programa utilizando um  dict  que leia dados de entrada do usuário. O usuário deve entrar com os dados  de  uma  pessoa  como  nome,  idade  e  cidade  onde  mora  (fique  livre  para  acrescentar\n",
    "outros). Após isso, você deve imprimir os dados como o exemplo abaixo:\n",
    "     \n",
    "         nome: João     \n",
    "         idade: 20     \n",
    "         cidade: São Paulo\n",
    "\n",
    "5.  (Opcional) Utilize o exercício anterior e adicione a pessoa em uma lista. Pergunte ao usuário se ele deseja  adicionar  uma  nova  pessoa.  Após  adicionar  dados  de  algumas  pessoas,  você  deve  imprimir todos os dados de cada pessoa de forma organizada."
   ]
  }
 ],
 "metadata": {
  "colab": {
   "collapsed_sections": [
    "AWhCSY4qi-m1",
    "B9LM6d5Gm6j5",
    "Tp62oS29nHOY",
    "toIe6YYZGDCJ",
    "SjwDGBcmH-HH",
    "pFX5OJ0OI3cF",
    "semjtR4ER8j9",
    "z_ykJqn5SbD6",
    "B1-xRAIsCOpj",
    "0WUuCdz1DBGA",
    "zeLjdgBVF0cX",
    "m2hl0lo5Jy81",
    "HZyP6gYjbjBV",
    "3DDKo3RmdGVZ",
    "__fWUnl_eu89",
    "kScysrrpgV0F",
    "kHi5j4xfif_V",
    "Gf5p2AWOnD6L",
    "nioVHrpto6oY",
    "fWO-hsuXsqmi",
    "HNd3rEvM0vVk",
    "sG3uBQqc6M5A",
    "JktfWQnN8UWe",
    "kmJuze08EGF5",
    "_xCpIhn7IcBS",
    "aTa0t1HcLs0t",
    "QE-0ReKWMkle",
    "YAImLTCbQMc7",
    "cNB0Zm5sRTdk",
    "BeSLrrmjKuHy",
    "-05kqpD7L2HG",
    "aGJuldwHMRLH",
    "J5LAe9piMmFX",
    "AlKz4soDBERe",
    "H4ffkXfyCGa3",
    "Pg-InPJAEdZe",
    "JQpFLomJFZf-",
    "64qkenrMGOmR",
    "1ZhqTs3BJZUZ",
    "GAuTUacELGwq",
    "AqOyXdecVIq0",
    "dty5_A1_ZNEA"
   ],
   "name": "Parte_1.ipynb",
   "provenance": [],
   "toc_visible": true
  },
  "kernelspec": {
   "display_name": "Python 3",
   "language": "python",
   "name": "python3"
  },
  "language_info": {
   "codemirror_mode": {
    "name": "ipython",
    "version": 3
   },
   "file_extension": ".py",
   "mimetype": "text/x-python",
   "name": "python",
   "nbconvert_exporter": "python",
   "pygments_lexer": "ipython3",
   "version": "3.7.6"
  }
 },
 "nbformat": 4,
 "nbformat_minor": 1
}
