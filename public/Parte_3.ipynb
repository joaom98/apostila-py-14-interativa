{
 "cells": [
  {
   "cell_type": "markdown",
   "metadata": {
    "colab_type": "text",
    "id": "a5zFvFJrrkRP"
   },
   "source": [
    "# DISCLAIMER\n",
    "\n",
    "\n",
    "\n",
    "---\n",
    "\n",
    "Esse documento ainda precisa passar por revisões e ser aprovado para que possa ser publicado e compartilhado.\n",
    "\n",
    "Esse documento ainda não representa a ideia final e está sujeito a mudanças.\n",
    "\n",
    "---\n",
    "\n"
   ]
  },
  {
   "cell_type": "markdown",
   "metadata": {
    "colab_type": "text",
    "id": "toIe6YYZGDCJ"
   },
   "source": [
    "## CAPÍTULO\t3\n",
    "\n",
    "### VARIÁVEIS\tE\tTIPOS\tEMBUTIDOS\n",
    "\n",
    "Neste\tcapítulo\tvamos\tconhecer\tos\ttipos\tda\tbiblioteca\tpadrão\tdo\tPython.\tOs\tprincipais\ttipos\tinternos\tsão\n",
    "números,\tsequências,\tmapas,\tclasses,\tobjetos\te\texceções,\tmas\tiremos\tfocar\tprimeiramente\tnos\tnúmeros\te\n",
    "sequências\tde\ttexto\t(strings).\tSão\tobjetos\tnativos\tda\tlinguagem,\trecursos\tque\tjá\tvêm\tprontos\tpara\tuso\te\n",
    "chamados\tde\tbuilt-ins.\n",
    "Neste\t início\t da\t aprendizagem\t trabalharemos\t com\t o\t modo\t interativo\t e\t ao\t final\t produziremos\t uma\n",
    "pequena\taplicação\tem\tum\tscript.\n",
    "\n",
    "### 3.1\tTIPOS\tEMBUTIDOS\t(BUILT-INS)\n",
    "Um\tvalor,\tcomo\tum\tnúmero\tou\ttexto,\té\talgo\tcomum\tem\tum\tprograma.\tPor\texemplo,\t'Hello,\tWorld!',\n",
    "1,\t2,\ttodos\tsão\tvalores.\tEstes\tvalores\tsão\tde\tdiferentes\ttipos:\t1\te\t2\tsão\tnúmeros\tinteiros\te\t'Hello\tWorld!'\té\n",
    "um\t texto,\t também\t chamado\t de\t String.\t Podemos\t identificar\t strings\t porque\t são\t delimitadas\t por\t aspas\n",
    "(simples\tou\tduplas)\t-\te\té\texatamente\tdessa\tmaneira\tque\to\tinterpretador\tPython\ttambém\tidentifica\tuma\n",
    "string."
   ]
  },
  {
   "cell_type": "code",
   "execution_count": 0,
   "metadata": {
    "colab": {},
    "colab_type": "code",
    "id": "XM7gO-kyF4jl"
   },
   "outputs": [],
   "source": [
    "# A\tfunção\t\tprint()\t\tutilizada\tno\tcapítulo\tanterior\ttambém\ttrabalha\tcom\tinteiros:\n",
    "print(2)"
   ]
  },
  {
   "cell_type": "markdown",
   "metadata": {
    "colab_type": "text",
    "id": "1FDwDVZzGjxO"
   },
   "source": [
    "Veja\t que\t aqui\t não\t é\t necessário\t utilizar\t aspas\t por\t se\t tratar\t de\t um\t número.\t Caso\t você\t não\t tenha\n",
    "certeza\tqual\té\to\ttipo\tde\tum\tvalor,\tpode\tusar\ta\tfunção\t\ttype()\t\tpara\tchecar:"
   ]
  },
  {
   "cell_type": "code",
   "execution_count": 0,
   "metadata": {
    "colab": {},
    "colab_type": "code",
    "id": "TVoopYRfGkXb"
   },
   "outputs": [],
   "source": [
    "type('Hello\tWorld')"
   ]
  },
  {
   "cell_type": "code",
   "execution_count": 0,
   "metadata": {
    "colab": {},
    "colab_type": "code",
    "id": "fJXraALZGnA7"
   },
   "outputs": [],
   "source": [
    "type(2)"
   ]
  },
  {
   "cell_type": "markdown",
   "metadata": {
    "colab_type": "text",
    "id": "sxTlb6WdGqUH"
   },
   "source": [
    "Strings\tsão\tdo\ttipo `str`\t\t(abreviação\tpara\tstring)\te\tinteiros\tdo\ttipo\t \t`int`\t\t (abreviação\t para\t integer).\n",
    "Ignore\t a\t palavra\t \t`class`\t\t por\t enquanto,\t teremos\t um\t capítulo\t especial\t para\t tratar\t dela.\t Veremos\t que\n",
    "funções\tcomo\t\t`type()`\t\te\t\t`print()`\t\ttambém\tsão\ttipos\tembutidos\tno\tPython.\n",
    "Outro\ttipo\tque\texiste\tno\tPython\tsão\tos\tnúmeros\tdecimais\tque\tsão\tdo\ttipo\t\t`float`\t\t(ponto\tflutuante):"
   ]
  },
  {
   "cell_type": "code",
   "execution_count": 0,
   "metadata": {
    "colab": {},
    "colab_type": "code",
    "id": "h6fUNflqG8dz"
   },
   "outputs": [],
   "source": [
    "type(3.2)"
   ]
  },
  {
   "cell_type": "markdown",
   "metadata": {
    "colab_type": "text",
    "id": "m4EgzIS1HAhd"
   },
   "source": [
    "E\tqual\tserá\to\ttipo\tde\tvalores\tcomo\t'2'\te\t'3.2'?\tEles\tse\tparecem\tcom\tnúmeros\tmas\tsão\tdelimitados\tpor\n",
    "aspas\tcomo\tstrings.\tUtilize\ta\tfunção\t\ttype()\t\tpara\tfazer\ta\tverificação:\n"
   ]
  },
  {
   "cell_type": "code",
   "execution_count": 0,
   "metadata": {
    "colab": {
     "base_uri": "https://localhost:8080/",
     "height": 35
    },
    "colab_type": "code",
    "id": "lA52arNnHAMx",
    "outputId": "774f50d9-e757-411f-e5bc-f6ea2c7448dc"
   },
   "outputs": [
    {
     "data": {
      "text/plain": [
       "str"
      ]
     },
     "execution_count": 11,
     "metadata": {
      "tags": []
     },
     "output_type": "execute_result"
    }
   ],
   "source": [
    "type('2')"
   ]
  },
  {
   "cell_type": "code",
   "execution_count": 0,
   "metadata": {
    "colab": {
     "base_uri": "https://localhost:8080/",
     "height": 35
    },
    "colab_type": "code",
    "id": "b8ptBMPaHk5J",
    "outputId": "f5a71388-2013-4036-bcf0-71f7395e7fa1"
   },
   "outputs": [
    {
     "data": {
      "text/plain": [
       "str"
      ]
     },
     "execution_count": 12,
     "metadata": {
      "tags": []
     },
     "output_type": "execute_result"
    }
   ],
   "source": [
    "type('3.2')"
   ]
  },
  {
   "cell_type": "markdown",
   "metadata": {
    "colab_type": "text",
    "id": "ZrFVeIOGHFPQ"
   },
   "source": [
    "Como\testão\tdelimitados\tpor\taspas,\to\tinterpretador\tvai\tentender\tesses\tvalores\tcomo\tstrings,\tou\tseja,\n",
    "como\ttexto.\n",
    "O\t Python\t também\t possui\t um\t tipo\t específico\t para\t números\t complexos.\t Números\t complexos\t são\n",
    "definidos\tpor\tdois\tvalores:\ta\tparte\treal\te\ta\tparte\timaginária.\tNo\tPython\té\tescrito\tna\tforma\treal\t+\timag\tj.\n",
    "No\tcaso,\to\tnúmero\timaginário\t(definido\tpela\traiz\tde\t-1\te\tchamado\tde\t'i'\tna\tmatemática)\té\tdesignado\tpela\n",
    "letra\t\tj\t\tno\tPython.\tPor\texemplo:"
   ]
  },
  {
   "cell_type": "code",
   "execution_count": 0,
   "metadata": {
    "colab": {
     "base_uri": "https://localhost:8080/",
     "height": 35
    },
    "colab_type": "code",
    "id": "nRr5bn5JHczH",
    "outputId": "599c31e7-6c69-4913-da86-75536beb7bfa"
   },
   "outputs": [
    {
     "data": {
      "text/plain": [
       "(2+3j)"
      ]
     },
     "execution_count": 15,
     "metadata": {
      "tags": []
     },
     "output_type": "execute_result"
    }
   ],
   "source": [
    "2 + 3j"
   ]
  },
  {
   "cell_type": "code",
   "execution_count": 0,
   "metadata": {
    "colab": {
     "base_uri": "https://localhost:8080/",
     "height": 35
    },
    "colab_type": "code",
    "id": "ZljjiLGoHtcY",
    "outputId": "8d614969-cc52-4489-987c-8df36c5475ee"
   },
   "outputs": [
    {
     "data": {
      "text/plain": [
       "complex"
      ]
     },
     "execution_count": 16,
     "metadata": {
      "tags": []
     },
     "output_type": "execute_result"
    }
   ],
   "source": [
    "type(2 + 3j)"
   ]
  },
  {
   "cell_type": "markdown",
   "metadata": {
    "colab_type": "text",
    "id": "aOyiIZKAHyR4"
   },
   "source": [
    "2\té\ta\tparte\treal\te\t3\ta\tparte\timaginária\tdo\tnúmero\tcomplexo.\tUtilizando\ta\tfunção `type()`\t\tpodemos\n",
    "nos\tcertificar\tque\tseu\ttipo\té\t\t`complex`.\n"
   ]
  },
  {
   "cell_type": "markdown",
   "metadata": {
    "colab_type": "text",
    "id": "SjwDGBcmH-HH"
   },
   "source": [
    "### 3.2\tVARIÁVEIS\n",
    "\n",
    "Podemos\tpedir\tpara\t o\tPython\t lembrar\tde\tum\t valor\tque\t queiramos\tutilizar\tem\t outro\tmomento\t do\n",
    "programa.\tO\tPython\tvai\tguardar\teste\tvalor\tem\tuma\tvariável.\tVariável\té\tum\tnome\tque\tfaz\treferência\ta\n",
    "um\t valor.\t É\t como\t uma\t etiqueta\t que\t colocamos\t naquele\t valor\t e\t quando\t precisarmos\t usar,\t chamamos\n",
    "pelo\tnome\tque\tfoi\tdado\tna\tetiqueta.\n",
    "Um\tcomando\tde\tatribuição\t(o\tsinal\tde\tigualdade\t\t`=`\t)\tcria\tuma\tnova\tvariável\te\tatribui\tum\tvalor\ta\tela:\n"
   ]
  },
  {
   "cell_type": "code",
   "execution_count": 0,
   "metadata": {
    "colab": {},
    "colab_type": "code",
    "id": "eWspVAzbIA65"
   },
   "outputs": [],
   "source": [
    "mensagem\t=\t'oi, python'\n",
    "numero\t=\t5\n",
    "pi\t=\t3.14"
   ]
  },
  {
   "cell_type": "markdown",
   "metadata": {
    "colab_type": "text",
    "id": "5RR-7wTsIWnl"
   },
   "source": [
    "Três\tatribuições\tforam\tfeitas\tneste\tcódigo.\tAtribuímos\ta\tvariável\t \t`mensagem`\t\tuma\t`string`;\ta\tvariável `numero`\t\t um\t inteiro\t e\t a\t variável\t \t`pi`\t\t um\t valor\t aproximado\t do\t número\t pi.\t Para\trecuperar\tesses\tvalores,\tbasta\tchamar\tpelos\tnomes\tdas\tvariáveis\tdefinidas\tanteriormente:\n"
   ]
  },
  {
   "cell_type": "code",
   "execution_count": 0,
   "metadata": {
    "colab": {
     "base_uri": "https://localhost:8080/",
     "height": 34
    },
    "colab_type": "code",
    "id": "ylTJvUszIjxO",
    "outputId": "e4ea2a38-507c-4faa-c999-1bc183855bb8"
   },
   "outputs": [
    {
     "data": {
      "text/plain": [
       "'oi, python'"
      ]
     },
     "execution_count": 2,
     "metadata": {
      "tags": []
     },
     "output_type": "execute_result"
    }
   ],
   "source": [
    "mensagem"
   ]
  },
  {
   "cell_type": "code",
   "execution_count": 0,
   "metadata": {
    "colab": {
     "base_uri": "https://localhost:8080/",
     "height": 35
    },
    "colab_type": "code",
    "id": "8WI9vczCInBA",
    "outputId": "3665febf-f92a-4fe5-b511-113e27e19d9c"
   },
   "outputs": [
    {
     "data": {
      "text/plain": [
       "5"
      ]
     },
     "execution_count": 23,
     "metadata": {
      "tags": []
     },
     "output_type": "execute_result"
    }
   ],
   "source": [
    "numero"
   ]
  },
  {
   "cell_type": "code",
   "execution_count": 0,
   "metadata": {
    "colab": {
     "base_uri": "https://localhost:8080/",
     "height": 35
    },
    "colab_type": "code",
    "id": "bfnOspu9Inu5",
    "outputId": "3c71092c-e2d1-42b1-997c-c4eeedd99df3"
   },
   "outputs": [
    {
     "data": {
      "text/plain": [
       "3.14"
      ]
     },
     "execution_count": 24,
     "metadata": {
      "tags": []
     },
     "output_type": "execute_result"
    }
   ],
   "source": [
    "pi"
   ]
  },
  {
   "cell_type": "code",
   "execution_count": 0,
   "metadata": {
    "colab": {},
    "colab_type": "code",
    "id": "VlN24Vd2IoIG"
   },
   "outputs": [],
   "source": []
  },
  {
   "cell_type": "markdown",
   "metadata": {
    "colab_type": "text",
    "id": "9TT1Uo-3IwpC"
   },
   "source": [
    "Utilize\ta\tfunção\t\ttype()\t\tpara\tverificar\tseus\ttipos:"
   ]
  },
  {
   "cell_type": "code",
   "execution_count": 0,
   "metadata": {
    "colab": {
     "base_uri": "https://localhost:8080/",
     "height": 35
    },
    "colab_type": "code",
    "id": "jplwuO-GIxdq",
    "outputId": "d330a1be-eb80-4cfb-fb5b-6bc1667cb5ea"
   },
   "outputs": [
    {
     "data": {
      "text/plain": [
       "str"
      ]
     },
     "execution_count": 27,
     "metadata": {
      "tags": []
     },
     "output_type": "execute_result"
    }
   ],
   "source": [
    "type(mensagem)"
   ]
  },
  {
   "cell_type": "code",
   "execution_count": 0,
   "metadata": {
    "colab": {
     "base_uri": "https://localhost:8080/",
     "height": 35
    },
    "colab_type": "code",
    "id": "dreLPKs1IzT0",
    "outputId": "b539970e-cdaa-4b84-d37f-56ace4fd5f2d"
   },
   "outputs": [
    {
     "data": {
      "text/plain": [
       "str"
      ]
     },
     "execution_count": 28,
     "metadata": {
      "tags": []
     },
     "output_type": "execute_result"
    }
   ],
   "source": [
    "type(numero)"
   ]
  },
  {
   "cell_type": "code",
   "execution_count": 0,
   "metadata": {
    "colab": {
     "base_uri": "https://localhost:8080/",
     "height": 35
    },
    "colab_type": "code",
    "id": "FWa0kdf8Izms",
    "outputId": "7571746b-7e13-4601-ae9f-ba5e9122b534"
   },
   "outputs": [
    {
     "data": {
      "text/plain": [
       "str"
      ]
     },
     "execution_count": 29,
     "metadata": {
      "tags": []
     },
     "output_type": "execute_result"
    }
   ],
   "source": [
    "type(pi)"
   ]
  },
  {
   "cell_type": "markdown",
   "metadata": {
    "colab_type": "text",
    "id": "pFX5OJ0OI3cF"
   },
   "source": [
    "### 3.3\tPARA\tSABER\tMAIS:\tNOMES\tDE\tVARIÁVEIS\n",
    "Programadores\t escolhem\t nomes\t para\t variáveis\t que\t sejam\t semânticos\t e\t que\t ao\t mesmo\t tempo\n",
    "documentem\t o\t código.\t Esses\t nomes\t podem\t ser\t bem\t longos,\t podem\t conter\t letras\t e\t números.\t É\t uma\n",
    "convenção\t entre\t os\t programadores\t Python\t começar\t a\t variável\t com\t letras\t minúsculas\t e\t utilizar\t o\n",
    "underscore\t(\t_\t)\tpara\tseparar\tpalavras\tcomo:\tmeu_nome,\tnumero_de_cadastro,\t telefone_residencial.\n",
    "Esse\t padrão\t é\t chamado\t de\t snake\t case.\t Variáveis\t também\t podem\t começar\t com\t underscore\t (\t_\t)\t mas\n",
    "deve\tser\tevitado\te\tutilizado\tem\tcasos\tmais\tespecíficos.\n",
    "Se\tnomearmos\tnossas\tvariáveis\tcom\tum\tnome\tilegal,\to\tinterpretador\tvai\tacusar\tum\terro\tde\tsintaxe:\n"
   ]
  },
  {
   "cell_type": "code",
   "execution_count": 0,
   "metadata": {
    "colab": {
     "base_uri": "https://localhost:8080/",
     "height": 135
    },
    "colab_type": "code",
    "id": "BswhUA8JI2o9",
    "outputId": "47f244a4-89f6-41de-fc68-824b10d179d9"
   },
   "outputs": [
    {
     "ename": "SyntaxError",
     "evalue": "ignored",
     "output_type": "error",
     "traceback": [
      "\u001b[0;36m  File \u001b[0;32m\"<ipython-input-30-8fbf231ca547>\"\u001b[0;36m, line \u001b[0;32m1\u001b[0m\n\u001b[0;31m    1nome = 'python'\u001b[0m\n\u001b[0m        ^\u001b[0m\n\u001b[0;31mSyntaxError\u001b[0m\u001b[0;31m:\u001b[0m invalid syntax\n"
     ]
    }
   ],
   "source": [
    "1nome = 'python'"
   ]
  },
  {
   "cell_type": "code",
   "execution_count": 0,
   "metadata": {
    "colab": {
     "base_uri": "https://localhost:8080/",
     "height": 135
    },
    "colab_type": "code",
    "id": "Il1GK_DiIz7Q",
    "outputId": "466f3c02-1a43-46c6-96a9-7415594c7710"
   },
   "outputs": [
    {
     "ename": "SyntaxError",
     "evalue": "ignored",
     "output_type": "error",
     "traceback": [
      "\u001b[0;36m  File \u001b[0;32m\"<ipython-input-32-3c946a18195f>\"\u001b[0;36m, line \u001b[0;32m1\u001b[0m\n\u001b[0;31m    numero@ = 10\u001b[0m\n\u001b[0m            ^\u001b[0m\n\u001b[0;31mSyntaxError\u001b[0m\u001b[0;31m:\u001b[0m invalid syntax\n"
     ]
    }
   ],
   "source": [
    "numero@ = 10"
   ]
  },
  {
   "cell_type": "code",
   "execution_count": 0,
   "metadata": {
    "colab": {
     "base_uri": "https://localhost:8080/",
     "height": 135
    },
    "colab_type": "code",
    "id": "hTa-yRpdJHpJ",
    "outputId": "11a07191-464b-4bc7-bee2-a49369e2c344"
   },
   "outputs": [
    {
     "ename": "SyntaxError",
     "evalue": "ignored",
     "output_type": "error",
     "traceback": [
      "\u001b[0;36m  File \u001b[0;32m\"<ipython-input-34-5677bc4c28d9>\"\u001b[0;36m, line \u001b[0;32m1\u001b[0m\n\u001b[0;31m    class = 'oi'\u001b[0m\n\u001b[0m          ^\u001b[0m\n\u001b[0;31mSyntaxError\u001b[0m\u001b[0;31m:\u001b[0m invalid syntax\n"
     ]
    }
   ],
   "source": [
    "class = 'oi'"
   ]
  },
  {
   "cell_type": "markdown",
   "metadata": {
    "colab_type": "text",
    "id": "E0RN4oWuJPYn"
   },
   "source": [
    "1nome\t\t é\t ilegal\t porque\t começa\t com\t um\t número,\t \tnumero@\t\t é\t ilegal\t porque\t contém\t um\t caractere\n",
    "\n",
    "especial\t(o\t@)\tconsiderado\tilegal\tpara\tvariáveis.\tE\t \t`class`\t\té\tilegal\tporque\t \t`class`\t\té\tuma\tpalavra\tchave\n",
    "em\tPython.\tO\tinterpretador\tutiliza\tpalavras\tchaves\tcomo\tpalavras\treservadas\tda\tlinguagem,\tcomo\tum\n",
    "vocabulário\tpróprio.\n",
    "Python\tpossui\t33\tpalavras\treservadas:"
   ]
  },
  {
   "cell_type": "markdown",
   "metadata": {
    "colab_type": "text",
    "id": "c5aLMxjAJTSW"
   },
   "source": [
    "<font face=\"monospace\">\n",
    "<table>\n",
    "<tr>\n",
    "<td align=\"center\">and</td>\n",
    "<td align=\"center\">as</td>\n",
    "<td align=\"center\">asssert</td>\n",
    "<td align=\"center\">break</td>\n",
    "<td align=\"center\">class</td>\n",
    "<td align=\"center\">continue</td>\n",
    "<td align=\"center\">for</td>\n",
    "</tr>\n",
    "<tr>\n",
    "<td align=\"center\">del</td>\n",
    "<td align=\"center\">elif</td>\n",
    "<td align=\"center\">else</td>\n",
    "<td align=\"center\">except</td>\n",
    "<td align=\"center\">False</td>\n",
    "<td align=\"center\">finally</td>\n",
    "<td align=\"center\">lambda</td>\n",
    "</tr>\n",
    "<tr>\n",
    "<td align=\"center\">from</td>\n",
    "<td align=\"center\">global</td>\n",
    "<td align=\"center\">if</td>\n",
    "<td align=\"center\">import</td>\n",
    "<td align=\"center\">in</td>\n",
    "<td align=\"center\">is</td>\n",
    "<td align=\"center\">return</td>\n",
    "</tr>\n",
    "<tr>\n",
    "<td align=\"center\">None</td>\n",
    "<td align=\"center\">nonlocal</td>\n",
    "<td align=\"center\">not</td>\n",
    "<td align=\"center\">or</td>\n",
    "<td align=\"center\">pass</td>\n",
    "<td align=\"center\">raise</td>\n",
    "<td align=\"center\">True</td>\n",
    "</tr>\n",
    "<tr>\n",
    "<td align=\"center\">try</td>\n",
    "<td align=\"center\">while</td>\n",
    "<td align=\"center\">with</td>\n",
    "<td align=\"center\">yield</td>\n",
    "<td align=\"center\">def</td>\n",
    "<td align=\"center\"></td>\n",
    "<td align=\"center\"></td>\n",
    "</tr>\n",
    "</table>\n",
    "</font>"
   ]
  },
  {
   "cell_type": "markdown",
   "metadata": {
    "colab_type": "text",
    "id": "AldAM1n2R64p"
   },
   "source": [
    "Portanto,\tnão\tpodemos\tutilizar\tessas\tpalavras\tpara\tnomear\tnossas\tvariáveis."
   ]
  },
  {
   "cell_type": "markdown",
   "metadata": {
    "colab_type": "text",
    "id": "semjtR4ER8j9"
   },
   "source": [
    "### 3.4\tINSTRUÇÕES\n",
    "Uma\tinstrução\t(ou\tcomando)\té\tuma\tunidade\tde\tcódigo\tque\to\tPython\tpode\texecutar.\tPor\texemplo,\ta\n",
    "função\t\tprint()\t\tpara\timprimir\tuma\tmensagem\tna\ttela\té\tum\tcomando:"
   ]
  },
  {
   "cell_type": "code",
   "execution_count": 0,
   "metadata": {
    "colab": {},
    "colab_type": "code",
    "id": "a5yvuzYsJLN2"
   },
   "outputs": [],
   "source": [
    "print(\"Hello,\tWorld!\")"
   ]
  },
  {
   "cell_type": "markdown",
   "metadata": {
    "colab_type": "text",
    "id": "tFlXlIL7SH68"
   },
   "source": [
    "Quando\t executamos\t um\t comando\t no\t modo\t interativo,\t o\t interpretador\t Python\t apresenta\t o\n",
    "resultado,\tcaso\texista,\tdeste\tcomando.\tUm\tscript\tcontém\tuma\tsequência\tde\tinstruções.\tSe\texistir\tmais\tde\n",
    "um\tcomando,\tos\tresultados\tvão\taparecendo\tdurante\ta\texecução\tdo\tprograma:\n",
    "\t\t\t\t\n",
    "        print(1)\n",
    "\t\t\t\t\n",
    "        x\t=\t2\n",
    "\t\t\t\t\n",
    "        print(x)\n",
    "\n",
    "E\tproduz\ta\tsaída:\n",
    "\t\t\t\t\n",
    "        1\n",
    "\t\t\t\t\n",
    "        2\n",
    "\n",
    "Para\trodar\tum\tscript\tem\tPython\té\tpreciso\tconcentrar\tesses\tcomandos\tem\tum\tmesmo\tlugar\te\tpedir\n",
    "para\t o\t interpretador\t executá-los.\t Criamos\t um\t arquivo\t de\t extensão\t .py\t com\t estes\t comandos,\t como\n",
    "aprendemos\tno\tcapítulo\tanterior.\n",
    "Arquivo\tprograma.py:\n",
    "\n",
    "Note\tque\tdevemos\tutilizar\ta\tfunção\t\tprint()\t\tpara\texibir\tos\tresultados\tna\ttela\tjá\tque\to\tmodo\tscript,\n",
    "diferente\tdo\tmodo\tinterativo,\tnão\texibe\tos\tresultados\tapós\ta\tdeclaração\tde\tvariáveis.\n",
    "Navegue\taté\to\tdiretório\tonde\tse\tencontra\to\tarquivo\tprograma.py\te\tdigite\to\tcomando\tno\tterminal:\n",
    "\n",
    "\t\t\t\tdev@caelum:~$\tpython3\tprograma.py\n",
    "\n",
    "Que\tvai\tgerar\ta\tsaída:\n",
    "\n",
    "\t\t\t\tdev@caelum:~$\tpython3\tprograma.py\n",
    "\t\t\t\toi,\tpython\n",
    "\t\t\t\t5\n",
    "\t\t\t\t3.14\n",
    "\n",
    "\n"
   ]
  },
  {
   "cell_type": "markdown",
   "metadata": {
    "colab_type": "text",
    "id": "z_ykJqn5SbD6"
   },
   "source": [
    "### 3.5\tOPERADORES\tARITMÉTICOS\n",
    "\n",
    "Operadores\t são\t símbolos\t especiais\t que\t representam\t cálculos\t como\t adições\t e\t multiplicações.\t Para\n",
    "fazer\tcálculos\tcom\t números\tutilizamos\t os\toperadores\t`+`, `-`,\t`*`, `/`\te\t`**`\t que\trepresentam,\t respectivamente,\n",
    "adição,\tsubtração,\tmultiplicação,\tdivisão\te\tpotenciação.\n",
    "Uma\texpressão\té\tuma\tcombinação\tde\tvalores,\tvariáveis\te\toperadores\tcomo\t \t`x\t+\t17`\t,\t \t`1 + 1`\t\t etc.\n",
    "Quando\t digitamos\t uma\t expressão\t no\t modo\t interativo,\t o\t interpretador\t vai\t calcular\t e\t imprimir\t o\n",
    "resultado:\n"
   ]
  },
  {
   "cell_type": "code",
   "execution_count": 0,
   "metadata": {
    "colab": {
     "base_uri": "https://localhost:8080/",
     "height": 34
    },
    "colab_type": "code",
    "id": "DMKKmMcaSfPg",
    "outputId": "8f0aabf3-763d-4021-82b1-38ff3721e0a6"
   },
   "outputs": [
    {
     "data": {
      "text/plain": [
       "2"
      ]
     },
     "execution_count": 1,
     "metadata": {
      "tags": []
     },
     "output_type": "execute_result"
    }
   ],
   "source": [
    "1 + 1"
   ]
  },
  {
   "cell_type": "code",
   "execution_count": 0,
   "metadata": {
    "colab": {},
    "colab_type": "code",
    "id": "zlStQMzp_Oq4"
   },
   "outputs": [],
   "source": [
    "2 * 3"
   ]
  },
  {
   "cell_type": "markdown",
   "metadata": {
    "colab_type": "text",
    "id": "fFOYH3yN_b1F"
   },
   "source": [
    "Também podemos usar variáveis:"
   ]
  },
  {
   "cell_type": "code",
   "execution_count": 0,
   "metadata": {
    "colab": {
     "base_uri": "https://localhost:8080/",
     "height": 34
    },
    "colab_type": "code",
    "id": "DfRujLlm_T2O",
    "outputId": "607b6030-1b7e-4bff-82cd-5520846b8c71"
   },
   "outputs": [
    {
     "data": {
      "text/plain": [
       "4"
      ]
     },
     "execution_count": 3,
     "metadata": {
      "tags": []
     },
     "output_type": "execute_result"
    }
   ],
   "source": [
    "x = 1\n",
    "y = 3\n",
    "x + y"
   ]
  },
  {
   "cell_type": "code",
   "execution_count": 0,
   "metadata": {
    "colab": {
     "base_uri": "https://localhost:8080/",
     "height": 34
    },
    "colab_type": "code",
    "id": "3LjpsqKs_VlU",
    "outputId": "42646ed7-0c2d-443a-a5b4-88732d5a61aa"
   },
   "outputs": [
    {
     "data": {
      "text/plain": [
       "4"
      ]
     },
     "execution_count": 4,
     "metadata": {
      "tags": []
     },
     "output_type": "execute_result"
    }
   ],
   "source": [
    "x + y"
   ]
  },
  {
   "cell_type": "code",
   "execution_count": 0,
   "metadata": {
    "colab": {
     "base_uri": "https://localhost:8080/",
     "height": 34
    },
    "colab_type": "code",
    "id": "yQKavUCm_uX_",
    "outputId": "3bfd84d8-d01a-466f-8176-e47821467f90"
   },
   "outputs": [
    {
     "data": {
      "text/plain": [
       "-2"
      ]
     },
     "execution_count": 5,
     "metadata": {
      "tags": []
     },
     "output_type": "execute_result"
    }
   ],
   "source": [
    "x - y"
   ]
  },
  {
   "cell_type": "code",
   "execution_count": 0,
   "metadata": {
    "colab": {
     "base_uri": "https://localhost:8080/",
     "height": 34
    },
    "colab_type": "code",
    "id": "3D7kuRr2_vQ6",
    "outputId": "5f170625-cc69-4ef2-ae46-cbe4152ec974"
   },
   "outputs": [
    {
     "data": {
      "text/plain": [
       "3"
      ]
     },
     "execution_count": 6,
     "metadata": {
      "tags": []
     },
     "output_type": "execute_result"
    }
   ],
   "source": [
    "x * y"
   ]
  },
  {
   "cell_type": "code",
   "execution_count": 0,
   "metadata": {
    "colab": {
     "base_uri": "https://localhost:8080/",
     "height": 34
    },
    "colab_type": "code",
    "id": "NOZgE4N6_wbU",
    "outputId": "6c6dff6a-ce05-49a0-f184-e059cbc9dfff"
   },
   "outputs": [
    {
     "data": {
      "text/plain": [
       "0.3333333333333333"
      ]
     },
     "execution_count": 7,
     "metadata": {
      "tags": []
     },
     "output_type": "execute_result"
    }
   ],
   "source": [
    "x / y"
   ]
  },
  {
   "cell_type": "code",
   "execution_count": 0,
   "metadata": {
    "colab": {},
    "colab_type": "code",
    "id": "atYW1xnsAAu7"
   },
   "outputs": [],
   "source": [
    "x ** y"
   ]
  },
  {
   "cell_type": "markdown",
   "metadata": {
    "colab_type": "text",
    "id": "_gb3rcb1AFEv"
   },
   "source": [
    "Além dos operadores comentados, temos também o operador `//` que representa a divisão inteira:"
   ]
  },
  {
   "cell_type": "code",
   "execution_count": 0,
   "metadata": {
    "colab": {},
    "colab_type": "code",
    "id": "pbYVbogrAEh4"
   },
   "outputs": [],
   "source": [
    "7 // 2"
   ]
  },
  {
   "cell_type": "markdown",
   "metadata": {
    "colab_type": "text",
    "id": "Xz6vuNZeAOFF"
   },
   "source": [
    "E o operador módulo `%` que resulta no resto da divisão entre dois números inteiros:"
   ]
  },
  {
   "cell_type": "code",
   "execution_count": 0,
   "metadata": {
    "colab": {},
    "colab_type": "code",
    "id": "XnIPc0BjAR3W"
   },
   "outputs": [],
   "source": [
    "7 % 3"
   ]
  },
  {
   "cell_type": "markdown",
   "metadata": {
    "colab_type": "text",
    "id": "IfdBlHgCAYLt"
   },
   "source": [
    "7 divido por 3 é 2 e gera resto igual a 1. Esse operador é bem útil quando queremos checar se um\n",
    "número é divisível por outro.\n",
    "Os principais operadores são:"
   ]
  },
  {
   "cell_type": "markdown",
   "metadata": {
    "colab_type": "text",
    "id": "R6Bu4gdmAk_-"
   },
   "source": [
    "<font face=\"monospace\">\n",
    "<table>\n",
    "<tr>\n",
    "<th>Operação</th>\n",
    "<th>Nome</th>\n",
    "<th>Descrição</th>\n",
    "</tr>\n",
    "<tr>\n",
    "<td align=\"center\">a + b</td>\n",
    "<td align=\"center\">Adição</td>\n",
    "<td align=\"center\">Soma entre a e b</td>\n",
    "</tr>\n",
    "<tr>\n",
    "<td align=\"center\">a-b</td>\n",
    "<td align=\"center\">Subtração</td>\n",
    "<td align=\"center\">Diferença entre a e b</td>\n",
    "</tr>\n",
    "<tr>\n",
    "<td align=\"center\">a * b</td>\n",
    "<td align=\"center\">Multiplicação</td>\n",
    "<td align=\"center\">Produto entre a e b</td>\n",
    "</tr>\n",
    "<tr>\n",
    "<td align=\"center\">a / b</td>\n",
    "<td align=\"center\">Divisão</td>\n",
    "<td align=\"center\">Divisão entre a e b</td>\n",
    "</tr>\n",
    "<tr>\n",
    "<td align=\"center\">a // b</td>\n",
    "<td align=\"center\">Divisão inteira</td>\n",
    "<td align=\"center\">Divisão inteira entre a e b</td>\n",
    "</tr>\n",
    "<tr>\n",
    "<td align=\"center\">a % b</td>\n",
    "<td align=\"center\">Módulo</td>\n",
    "<td align=\"center\">Resto da divisão entre a e b</td>\n",
    "</tr>\n",
    "<tr>\n",
    "<td align=\"center\">a ** b</td>\n",
    "<td align=\"center\">Exponenciação</td>\n",
    "<td align=\"center\">a elevado a potência de b</td>\n",
    "</tr>\n",
    "</table>\n",
    "</font>"
   ]
  },
  {
   "cell_type": "markdown",
   "metadata": {
    "colab_type": "text",
    "id": "B1-xRAIsCOpj"
   },
   "source": [
    "### 3.6 STRINGS\n",
    "O operador   +  também funciona com strings de uma maneira diferente dos números. Ele funciona concatenando strings, ou seja, juntando duas strings:\n"
   ]
  },
  {
   "cell_type": "code",
   "execution_count": 0,
   "metadata": {
    "colab": {
     "base_uri": "https://localhost:8080/",
     "height": 34
    },
    "colab_type": "code",
    "id": "9R5k0Vi9AX4E",
    "outputId": "c48ad29e-4a7c-4ad4-a29c-312ed07f993a"
   },
   "outputs": [
    {
     "data": {
      "text/plain": [
       "'oiPython'"
      ]
     },
     "execution_count": 8,
     "metadata": {
      "tags": []
     },
     "output_type": "execute_result"
    }
   ],
   "source": [
    "texto1 = 'oi'\n",
    "texto2 = 'Python'\n",
    "texto1 + texto2"
   ]
  },
  {
   "cell_type": "markdown",
   "metadata": {
    "colab_type": "text",
    "id": "qWeVICUeClDC"
   },
   "source": [
    "O operador   `*`  também funciona com strings, multiplicando seu conteúdo por um inteiro. Vamos\n",
    "checar esse resultado:"
   ]
  },
  {
   "cell_type": "code",
   "execution_count": 0,
   "metadata": {
    "colab": {
     "base_uri": "https://localhost:8080/",
     "height": 34
    },
    "colab_type": "code",
    "id": "DeAGP-EqCkif",
    "outputId": "ecac7cbe-cced-47f2-8448-b6f05cd72c36"
   },
   "outputs": [
    {
     "data": {
      "text/plain": [
       "'pythonpythonpython'"
      ]
     },
     "execution_count": 9,
     "metadata": {
      "tags": []
     },
     "output_type": "execute_result"
    }
   ],
   "source": [
    "texto1 = 'python'\n",
    "texto1 * 3"
   ]
  },
  {
   "cell_type": "markdown",
   "metadata": {
    "colab_type": "text",
    "id": "vDUPNTzjCv3K"
   },
   "source": [
    "Ao  multiplicar  por  3  o  Python  replica  a  string  três  vezes.  Strings  possuem  muitas  funcionalidades\n",
    "prontas chamadas de métodos. O método  `upper()` , por exemplo, retorna o texto em letras maiúsculas.\n",
    "Já o método  `capitalize()`  retorna o texto capitalizado (com a primeira letra em maiúscula):"
   ]
  },
  {
   "cell_type": "code",
   "execution_count": 0,
   "metadata": {
    "colab": {},
    "colab_type": "code",
    "id": "u3-rb2F4Cvnq"
   },
   "outputs": [],
   "source": [
    "texto1.upper()"
   ]
  },
  {
   "cell_type": "code",
   "execution_count": 0,
   "metadata": {
    "colab": {},
    "colab_type": "code",
    "id": "2Mj5FSrrCvjw"
   },
   "outputs": [],
   "source": [
    "texto1.capitalize()"
   ]
  },
  {
   "cell_type": "markdown",
   "metadata": {
    "colab_type": "text",
    "id": "eRP_Ri_gC9ZY"
   },
   "source": [
    "Outras funcionalidades de strings estão presentes na documentação que pode ser acessada neste link:\n",
    "https://docs.python.org/3/library/stdtypes.html#string-methods"
   ]
  },
  {
   "cell_type": "markdown",
   "metadata": {
    "colab_type": "text",
    "id": "0WUuCdz1DBGA"
   },
   "source": [
    "### 3.7 ENTRADA DO USUÁRIO\n",
    "Agora  vamos  criar  mais  interatividade  e  pedir  para  o  usuário  entrar  com  um  valor  digitado  do\n",
    "teclado.\n",
    "O  Python  possui  uma  função  que  captura  a  entrada  de  valores:  a  função   `input()` .  Quando  essa\n",
    "função é chamada, o programa para e espera o usuário digitar alguma coisa. Quando o usuário aperta a\n",
    "tecla  `ENTER` , o programa processa e imprime o valor digitado em forma de string:"
   ]
  },
  {
   "cell_type": "code",
   "execution_count": 0,
   "metadata": {
    "colab": {
     "base_uri": "https://localhost:8080/",
     "height": 34
    },
    "colab_type": "code",
    "id": "jkbQjiI1CrP4",
    "outputId": "c60c828a-b693-4830-ea2c-e19a149d5af9"
   },
   "outputs": [
    {
     "name": "stdout",
     "output_type": "stream",
     "text": [
      "dsada\n"
     ]
    }
   ],
   "source": [
    "entrada = input()"
   ]
  },
  {
   "cell_type": "code",
   "execution_count": 0,
   "metadata": {
    "colab": {
     "base_uri": "https://localhost:8080/",
     "height": 34
    },
    "colab_type": "code",
    "id": "FcIZQu-VDQ-2",
    "outputId": "b7319d02-4e98-4821-e88e-e6d2296504a9"
   },
   "outputs": [
    {
     "name": "stdout",
     "output_type": "stream",
     "text": [
      "dsada\n"
     ]
    }
   ],
   "source": [
    "print(entrada)"
   ]
  },
  {
   "cell_type": "markdown",
   "metadata": {
    "colab_type": "text",
    "id": "R4fq11boDaxt"
   },
   "source": [
    "Mas o ideal é pedir algo específico ao usuário e dizer qual dado queremos receber. Podemos passar\n",
    "uma string para a função  `input()` :"
   ]
  },
  {
   "cell_type": "code",
   "execution_count": 0,
   "metadata": {
    "colab": {},
    "colab_type": "code",
    "id": "fp7vhcbTDUA7"
   },
   "outputs": [],
   "source": [
    "nome = input(\"digite seu nome:\\n\")"
   ]
  },
  {
   "cell_type": "code",
   "execution_count": 0,
   "metadata": {
    "colab": {},
    "colab_type": "code",
    "id": "YRYL1HRUDg0m"
   },
   "outputs": [],
   "source": [
    "print(nome)"
   ]
  },
  {
   "cell_type": "markdown",
   "metadata": {
    "colab_type": "text",
    "id": "AHJE_XgwDk0D"
   },
   "source": [
    "O  \\n  no final representa uma nova linha e o interpretador vai quebrar uma linha após imprimir a string. Por este motivo, o valor digitado pelo usuário aparece na próxima linha.\n",
    "Com  o  conteúdo  aprendido  até  aqui  já  é  possível  começar  a  escrever  o  primeiro  script.  Crie  um\n",
    "arquivo programa2.py e acrescente um código que vai pedir que o usuário entre com algum valor e, em\n",
    "seguida, o programa deve imprimir este valor."
   ]
  },
  {
   "cell_type": "code",
   "execution_count": 0,
   "metadata": {
    "colab": {},
    "colab_type": "code",
    "id": "dzXZUzyvDuRK"
   },
   "outputs": [],
   "source": [
    "numero = input('Digite um número:\\n')\n",
    "print(numero)"
   ]
  },
  {
   "cell_type": "markdown",
   "metadata": {
    "colab_type": "text",
    "id": "bTqOlxcVD38l"
   },
   "source": [
    "Podemos melhorar e imprimir uma mensagem como O número digitado foi :"
   ]
  },
  {
   "cell_type": "code",
   "execution_count": 0,
   "metadata": {
    "colab": {},
    "colab_type": "code",
    "id": "tHOHqkA1D6Su"
   },
   "outputs": [],
   "source": [
    "numero = input('Digite um número:\\n')\n",
    "print('O número digitado foi ' + numero)"
   ]
  },
  {
   "cell_type": "markdown",
   "metadata": {
    "colab_type": "text",
    "id": "KIQPkmP-D_Oh"
   },
   "source": [
    "Concatenamos a string com a variável  numero  utilizando o operador `+` . Agora, se o usuário digitar\n",
    "o  número  `2`,  a  saída  será  `O  número  digitado  foi  2`.  Outra  maneira  mais  elegante  é  usar  a  função `format()`:"
   ]
  },
  {
   "cell_type": "code",
   "execution_count": 0,
   "metadata": {
    "colab": {},
    "colab_type": "code",
    "id": "PQbv3DmXEJsr"
   },
   "outputs": [],
   "source": [
    "print('O número digitado foi {}'.format(numero))"
   ]
  },
  {
   "cell_type": "markdown",
   "metadata": {
    "colab_type": "text",
    "id": "zrgEjApCEMFw"
   },
   "source": [
    "A função   `format()`   vai  substituir  o   `{}`   pela  variável   `numero` .  A  princípio,  pode  parecer  uma\n",
    "alternativa  pior  já  que  escrevemos  mais  código  para  conseguir  o  mesmo  resultado.  Mas  a  função\n",
    " `format()`  fornece mais facilidades. Suponha que o programa receba dois valores digitados pelo usuário e os imprima em uma única mensagem:"
   ]
  },
  {
   "cell_type": "code",
   "execution_count": 0,
   "metadata": {
    "colab": {},
    "colab_type": "code",
    "id": "4SN4nQTTELmZ"
   },
   "outputs": [],
   "source": [
    "nome = input('Digite seu nome ' + nome)\n",
    "idade = input('Digite sua idade ' + idade)\n",
    "print('Seu nome é {} e sua idade é {}'.format(nome, idade))"
   ]
  },
  {
   "cell_type": "markdown",
   "metadata": {
    "colab_type": "text",
    "id": "3h5eBR_gEwQp"
   },
   "source": [
    "Veja que essa forma facilita a impressão e formatação dos dados uma vez que não quebra a string em várias partes como a concatenação faz. Além do que, com o operador  `+` , sempre temos que lembrar dos espaço em branco entre as palavras:"
   ]
  },
  {
   "cell_type": "code",
   "execution_count": 0,
   "metadata": {
    "colab": {},
    "colab_type": "code",
    "id": "zfQIReW6E5dS"
   },
   "outputs": [],
   "source": [
    "print('Seu nome é ' + nome + ' e sua idade é ' + idade)"
   ]
  },
  {
   "cell_type": "markdown",
   "metadata": {
    "colab_type": "text",
    "id": "KsD-vj9dE6Fx"
   },
   "source": [
    "Neste caso a função   `format()`  é mais recomendada e facilita na impressão de mensagens na tela."
   ]
  },
  {
   "cell_type": "markdown",
   "metadata": {
    "colab_type": "text",
    "id": "iaxaEXUMFE-4"
   },
   "source": [
    "PARA SABER MAIS: A FUNÇÃO FORMAT()\n",
    "A função   format()  faz parte de um conjunto de funções de formatação de strings  chamada Formatter. Para mais detalhes acesse a documentação:https://docs.python.org/3/library/string.html#string.Formatter. Há outras funções de formatação e a `format()`  é a principal delas e a mais utilizada. Podemos\n",
    "passar qualquer tipo de parâmetro e ela é especialmente útil para formatar números passando seu\n",
    "format  code.  Por  exemplo,  podemos  arredondar  o  número  flutuante  `245.2346`  para  duas  casas\n",
    "decimais através do código de formatação  `:.2f`:\n"
   ]
  },
  {
   "cell_type": "code",
   "execution_count": 0,
   "metadata": {
    "colab": {
     "base_uri": "https://localhost:8080/",
     "height": 34
    },
    "colab_type": "code",
    "id": "jpqVlvAOFZS4",
    "outputId": "f28ea905-b089-4959-d671-ed028b1cac49"
   },
   "outputs": [
    {
     "name": "stdout",
     "output_type": "stream",
     "text": [
      "245.23\n"
     ]
    }
   ],
   "source": [
    "x = 245.2346\n",
    "print('{:.2f}'.format(x))"
   ]
  },
  {
   "cell_type": "markdown",
   "metadata": {
    "colab_type": "text",
    "id": "GYlA3E7AFf_B"
   },
   "source": [
    "O   `:.2f`  diz que queremos apenas duas casas decimais para a variável `x` . Na documentação oficial  do  Python  você  acessa  os  códigos  de  formatação  ou  através  da  PEP  3101: https://www.python.org/dev/peps/pep-3101/."
   ]
  },
  {
   "cell_type": "markdown",
   "metadata": {
    "colab_type": "text",
    "id": "zeLjdgBVF0cX"
   },
   "source": [
    "### 3.8 CONSTANTES\n",
    "O  Python  possui  poucas  constantes  embutidas.  As  mais  utilizadas  são  `True`,  `False`  e  `None`.  Essas\n",
    "também  são  palavras  chaves  do  Python,  portanto  palavras  reservadas  que  não  podemos  utilizar  como nomes de variáveis.\n",
    " `True`  e   `False`   são  valores  booleanos  que  representam,  respectivamente,  verdadeiro  e  falso.  O Python também possui a função  `bool()`  que retorna  `True`  quando o argumento passado é verdadeiro e retorna  `False` , caso contrário."
   ]
  },
  {
   "cell_type": "markdown",
   "metadata": {
    "colab_type": "text",
    "id": "H0aiNbKiGPiz"
   },
   "source": [
    "Podemos representar   `True`  e   `False`   através  de  expressões.  Por  exemplo  \"O  número  1  é  igual  a\n",
    "string '1'?\". Vamos perguntar ao Python:"
   ]
  },
  {
   "cell_type": "code",
   "execution_count": 0,
   "metadata": {
    "colab": {
     "base_uri": "https://localhost:8080/",
     "height": 34
    },
    "colab_type": "code",
    "id": "skbon09wFcQw",
    "outputId": "c0f8647d-72dc-4180-9916-5b18534895c8"
   },
   "outputs": [
    {
     "data": {
      "text/plain": [
       "False"
      ]
     },
     "execution_count": 13,
     "metadata": {
      "tags": []
     },
     "output_type": "execute_result"
    }
   ],
   "source": [
    "1 == '1'"
   ]
  },
  {
   "cell_type": "code",
   "execution_count": 0,
   "metadata": {
    "colab": {
     "base_uri": "https://localhost:8080/",
     "height": 34
    },
    "colab_type": "code",
    "id": "xKMSqY1CGWSE",
    "outputId": "1b7c7d38-773d-4a95-cb71-ef416d997263"
   },
   "outputs": [
    {
     "name": "stdout",
     "output_type": "stream",
     "text": [
      "False\n"
     ]
    }
   ],
   "source": [
    "print(1 == '1')"
   ]
  },
  {
   "cell_type": "markdown",
   "metadata": {
    "colab_type": "text",
    "id": "I0tvORApGcOi"
   },
   "source": [
    "O operador   `==`  é usado para verificar se algo é igual a outro. Não confundir com o   `=`  que atribui\n",
    "um valor a uma variável. Também podemos verificar se um número é maior, utilizando o operador   `>` ,\n",
    "ou menor `<` do que outro:"
   ]
  },
  {
   "cell_type": "code",
   "execution_count": 0,
   "metadata": {
    "colab": {
     "base_uri": "https://localhost:8080/",
     "height": 34
    },
    "colab_type": "code",
    "id": "5dCWn0p5GX1S",
    "outputId": "806067ed-0693-4f6b-b073-59d035210512"
   },
   "outputs": [
    {
     "data": {
      "text/plain": [
       "True"
      ]
     },
     "execution_count": 15,
     "metadata": {
      "tags": []
     },
     "output_type": "execute_result"
    }
   ],
   "source": [
    "2 > 1"
   ]
  },
  {
   "cell_type": "code",
   "execution_count": 0,
   "metadata": {
    "colab": {
     "base_uri": "https://localhost:8080/",
     "height": 34
    },
    "colab_type": "code",
    "id": "WY3YjVflGu-C",
    "outputId": "249f4977-7f66-40ff-a1ac-830b388e22e4"
   },
   "outputs": [
    {
     "data": {
      "text/plain": [
       "False"
      ]
     },
     "execution_count": 16,
     "metadata": {
      "tags": []
     },
     "output_type": "execute_result"
    }
   ],
   "source": [
    "2 < 1"
   ]
  },
  {
   "cell_type": "markdown",
   "metadata": {
    "colab_type": "text",
    "id": "BFSsZFSCGwkP"
   },
   "source": [
    "Podemos também utilizar a função  `bool()`  para fazer a verificação:"
   ]
  },
  {
   "cell_type": "code",
   "execution_count": 0,
   "metadata": {
    "colab": {
     "base_uri": "https://localhost:8080/",
     "height": 34
    },
    "colab_type": "code",
    "id": "KcgfFutbGvc0",
    "outputId": "595f6305-6d51-4803-dc38-905dd72bedeb"
   },
   "outputs": [
    {
     "data": {
      "text/plain": [
       "False"
      ]
     },
     "execution_count": 17,
     "metadata": {
      "tags": []
     },
     "output_type": "execute_result"
    }
   ],
   "source": [
    "bool(3 > 5)"
   ]
  },
  {
   "cell_type": "code",
   "execution_count": 0,
   "metadata": {
    "colab": {
     "base_uri": "https://localhost:8080/",
     "height": 34
    },
    "colab_type": "code",
    "id": "_il0jDBCG5d-",
    "outputId": "717d1f3f-0763-4225-9b38-aafb95f86e73"
   },
   "outputs": [
    {
     "data": {
      "text/plain": [
       "True"
      ]
     },
     "execution_count": 18,
     "metadata": {
      "tags": []
     },
     "output_type": "execute_result"
    }
   ],
   "source": [
    "bool(1 == 1)"
   ]
  },
  {
   "cell_type": "markdown",
   "metadata": {
    "colab_type": "text",
    "id": "RF6h_Yq-G-Pc"
   },
   "source": [
    "O comando   `bool()`  não recebe apenas expressões, ele pode receber qualquer coisa e vai responder\n",
    "se tal valor é considerado  `True`  ou  `False` :"
   ]
  },
  {
   "cell_type": "code",
   "execution_count": 0,
   "metadata": {
    "colab": {},
    "colab_type": "code",
    "id": "Dz0w3NCCG7px"
   },
   "outputs": [],
   "source": [
    "bool(0)"
   ]
  },
  {
   "cell_type": "code",
   "execution_count": 0,
   "metadata": {
    "colab": {},
    "colab_type": "code",
    "id": "GKCgtQatHGsh"
   },
   "outputs": [],
   "source": [
    "bool('')"
   ]
  },
  {
   "cell_type": "code",
   "execution_count": 0,
   "metadata": {
    "colab": {},
    "colab_type": "code",
    "id": "PoLGKAZnHGxj"
   },
   "outputs": [],
   "source": [
    "bool(None)"
   ]
  },
  {
   "cell_type": "code",
   "execution_count": 0,
   "metadata": {
    "colab": {},
    "colab_type": "code",
    "id": "pavD4m0xHG08"
   },
   "outputs": [],
   "source": [
    "bool(1)"
   ]
  },
  {
   "cell_type": "code",
   "execution_count": 0,
   "metadata": {
    "colab": {},
    "colab_type": "code",
    "id": "Q8pGBQo-HG6c"
   },
   "outputs": [],
   "source": [
    "bool(-100)"
   ]
  },
  {
   "cell_type": "code",
   "execution_count": 0,
   "metadata": {
    "colab": {
     "base_uri": "https://localhost:8080/",
     "height": 34
    },
    "colab_type": "code",
    "id": "0AzL-wlcHG_H",
    "outputId": "533caf5b-a5b8-4bfa-c694-20f07c76c74f"
   },
   "outputs": [
    {
     "data": {
      "text/plain": [
       "True"
      ]
     },
     "execution_count": 19,
     "metadata": {
      "tags": []
     },
     "output_type": "execute_result"
    }
   ],
   "source": [
    "bool(13.5)"
   ]
  },
  {
   "cell_type": "code",
   "execution_count": 0,
   "metadata": {
    "colab": {
     "base_uri": "https://localhost:8080/",
     "height": 34
    },
    "colab_type": "code",
    "id": "NEddz8_qHRtl",
    "outputId": "4701521f-d8ce-4749-aa2e-fbe544340679"
   },
   "outputs": [
    {
     "data": {
      "text/plain": [
       "True"
      ]
     },
     "execution_count": 20,
     "metadata": {
      "tags": []
     },
     "output_type": "execute_result"
    }
   ],
   "source": [
    "bool('teste')"
   ]
  },
  {
   "cell_type": "code",
   "execution_count": 0,
   "metadata": {
    "colab": {
     "base_uri": "https://localhost:8080/",
     "height": 34
    },
    "colab_type": "code",
    "id": "WKcG9tuXHTJx",
    "outputId": "ba32a934-07be-4ede-826d-ee400a5fc178"
   },
   "outputs": [
    {
     "data": {
      "text/plain": [
       "True"
      ]
     },
     "execution_count": 21,
     "metadata": {
      "tags": []
     },
     "output_type": "execute_result"
    }
   ],
   "source": [
    "bool(True)"
   ]
  },
  {
   "cell_type": "markdown",
   "metadata": {
    "colab_type": "text",
    "id": "0D-pnpBKHYMz"
   },
   "source": [
    "Repare  que  a  função  resulta   `False`   em  strings  vazias,  quando  um  número  é  zero  ou  quando  é `None` . Ainda não falamos o que o   `None`  representa. É um valor do tipo   `NoneType`   e  é  usado  para representar  a  abstenção  de  um  valor  -  como  quando  um  argumento  padrão  não  é  passado  para  uma função (que veremos em outro capítulo)."
   ]
  },
  {
   "cell_type": "code",
   "execution_count": 0,
   "metadata": {
    "colab": {
     "base_uri": "https://localhost:8080/",
     "height": 34
    },
    "colab_type": "code",
    "id": "oUpdvNHEHU8X",
    "outputId": "dc8dd2b7-56b4-4ad9-9720-9d55a68f4589"
   },
   "outputs": [
    {
     "data": {
      "text/plain": [
       "NoneType"
      ]
     },
     "execution_count": 22,
     "metadata": {
      "tags": []
     },
     "output_type": "execute_result"
    }
   ],
   "source": [
    "type(None)"
   ]
  },
  {
   "cell_type": "markdown",
   "metadata": {
    "colab_type": "text",
    "id": "ZlvH1IuEHqvY"
   },
   "source": [
    "Em outras linguagens de programação é comum utilizar a palavra `Null` para representar a abstenção de valor. Para programadores mais experientes e com algum conhecimento em linguagens como Java e C#, é importante observar que diferente do `Null`, o `None` ocupa espaço na memória, é um objeto com referência. No  exemplo  acima  foram  utilizados  três  operadores  diferentes  daqueles  já  vistos  anteriormente:  o `==`  (igual), o   `>`   (maior  do  que)  e  o   `<`   (menor  do  que).  Estes  operadores  não  são  aritméticos,  são conhecidos por operadores de comparação. O Python possui mais operadores deste tipo:"
   ]
  },
  {
   "cell_type": "markdown",
   "metadata": {
    "colab_type": "text",
    "id": "1pz5a88RH_Tu"
   },
   "source": [
    "<font face=\"monospace\">\n",
    "<table>\n",
    "<tr>\n",
    "<th>Operação</th>\n",
    "<th>Descrição</th>\n",
    "</tr>\n",
    "<tr>\n",
    "<td align=\"center\">a == b</td>\n",
    "<td align=\"center\">a igual a b</td>\n",
    "</tr>\n",
    "<tr>\n",
    "<td align=\"center\">a != b</td>\n",
    "<td align=\"center\">a diferente de b</td>\n",
    "</tr>\n",
    "<tr>\n",
    "<td align=\"center\">a < b</td>\n",
    "<td align=\"center\">a menor do que b</td>\n",
    "</tr>\n",
    "<tr>\n",
    "<td align=\"center\">a > b</td>\n",
    "<td align=\"center\">a maior do que b</td>\n",
    "</tr>\n",
    "<tr>\n",
    "<td align=\"center\">a <= b</td>\n",
    "<td align=\"center\">a menor ou igual a b</td>\n",
    "</tr>\n",
    "<tr>\n",
    "<td align=\"center\">a >= b</td>\n",
    "<td align=\"center\">a maior ou igual a b</td>\n",
    "</tr>\n",
    "</table>\n",
    "</font>"
   ]
  },
  {
   "cell_type": "markdown",
   "metadata": {
    "colab_type": "text",
    "id": "iLBHZcT9Ixzj"
   },
   "source": [
    "Outros operadores que retornam valores booleanos são:"
   ]
  },
  {
   "cell_type": "markdown",
   "metadata": {
    "colab_type": "text",
    "id": "dH-G9InAIw_E"
   },
   "source": [
    "<font face=\"monospace\">\n",
    "<table>\n",
    "<tr>\n",
    "<th>Operação</th>\n",
    "<th>Descrição</th>\n",
    "</tr>\n",
    "<tr>\n",
    "<td align=\"center\">a is b</td>\n",
    "<td align=\"center\">True se a e b são idênticos</td>\n",
    "</tr>\n",
    "<tr>\n",
    "<td align=\"center\">a is not b</td>\n",
    "<td align=\"center\">True se a e b não são idênticos</td>\n",
    "</tr>\n",
    "<tr>\n",
    "<td align=\"center\">a in b</td>\n",
    "<td align=\"center\">True se a é membro de b</td>\n",
    "</tr>\n",
    "<tr>\n",
    "<td align=\"center\">a not in b</td>\n",
    "<td align=\"center\">True se a não é membro de b</td>\n",
    "</tr>\n",
    "</table>\n",
    "</font>"
   ]
  },
  {
   "cell_type": "markdown",
   "metadata": {
    "colab_type": "text",
    "id": "RsjPI88VJM-B"
   },
   "source": [
    "É importante saber que os operadores   `==`  e   `is` funcionam  de  maneira  diferente.  Vamos  usar  o exemplo de duas listas e checar se elas são iguais:"
   ]
  },
  {
   "cell_type": "code",
   "execution_count": 0,
   "metadata": {
    "colab": {},
    "colab_type": "code",
    "id": "VldqaTrFHqEK"
   },
   "outputs": [],
   "source": [
    "x = [1, 2, 3]\n",
    "y = [1, 2, 3]"
   ]
  },
  {
   "cell_type": "code",
   "execution_count": 0,
   "metadata": {
    "colab": {
     "base_uri": "https://localhost:8080/",
     "height": 34
    },
    "colab_type": "code",
    "id": "j-5COReGJZKT",
    "outputId": "cb608313-589a-4c6f-e0a6-eeb8a762b1ef"
   },
   "outputs": [
    {
     "data": {
      "text/plain": [
       "True"
      ]
     },
     "execution_count": 24,
     "metadata": {
      "tags": []
     },
     "output_type": "execute_result"
    }
   ],
   "source": [
    "x == y"
   ]
  },
  {
   "cell_type": "code",
   "execution_count": 0,
   "metadata": {
    "colab": {
     "base_uri": "https://localhost:8080/",
     "height": 34
    },
    "colab_type": "code",
    "id": "zJnhod1cHkt6",
    "outputId": "127c729e-cb70-40b1-e7dc-5a5f1470935d"
   },
   "outputs": [
    {
     "data": {
      "text/plain": [
       "False"
      ]
     },
     "execution_count": 25,
     "metadata": {
      "tags": []
     },
     "output_type": "execute_result"
    }
   ],
   "source": [
    "x is y"
   ]
  },
  {
   "cell_type": "markdown",
   "metadata": {
    "colab_type": "text",
    "id": "zSHFa-U0JfCB"
   },
   "source": [
    "O operador   `==`  checa se o conteúdo das variáveis são iguais e seu comportamento pode variar de interpretador  para  interpretador.  \n",
    "O exemplo  acima  é  o  comportamento  padrão  do  CPython.  Já  o\n",
    "operador  `is`  checa se  `a`  e   `b`  são o mesmo objeto. Falaremos de objetos em um outro capítulo, mas é\n",
    "importante  ter  em  mente  que  tudo  em  Python  é  um  objeto  e  cada  objeto  possui  uma  referência  na memória. O operador  `is`  vai checar exatamente se   `x`  e   `y`  são o mesmo objeto, ou seja, se possuem a mesma referência."
   ]
  },
  {
   "cell_type": "markdown",
   "metadata": {
    "colab_type": "text",
    "id": "m2hl0lo5Jy81"
   },
   "source": [
    "### 3.9 COMANDO IF\n",
    "E se quisermos apresentar uma mensagem diferente para o usuário dependendo do valor de entrada?\n",
    "Vamos  atribuir  um  valor  para  uma  variável `numero` e  pedir  para  o  usuário  entrar  com  um  valor. Devemos  verificar  se  os  valores  são  iguais  como  um  jogo  de  adivinhação  em  que  o  usuário  deve adivinhar o número definido.\n"
   ]
  },
  {
   "cell_type": "code",
   "execution_count": 0,
   "metadata": {
    "colab": {},
    "colab_type": "code",
    "id": "sLSdmYQSJbF6"
   },
   "outputs": [],
   "source": [
    "numero = 42\n",
    "chute = input('Digite um número:')"
   ]
  },
  {
   "cell_type": "markdown",
   "metadata": {
    "colab_type": "text",
    "id": "rleGagYFKU_C"
   },
   "source": [
    "Até aqui, nenhuma novidade. Agora devemos mostrar a mensagem \"Você acertou\" caso o   numero seja  igual  ao   chute ,  e \"Você  errou\"  caso  o   numero   seja  diferente  do   chute .  Em  português,  seria assim:\n",
    "\n",
    "    Se chute igual a número: \"Você acertou\"\n",
    "    Se chute diferente de número: \"Você errou\"\n",
    "\n",
    "Ou melhor:\n",
    "\n",
    "    Se chute igual a número: \"Você acertou\"\n",
    "    Senão: \"Você errou\"\n",
    "\n",
    "Podemos  traduzir  isso  para  código  Python.  O  Python possui  o  operador  condicional  para representar a palavra \"se\" que é o `if` e a palavra \"senão\" que é o `else`. A sintaxe ficaria:"
   ]
  },
  {
   "cell_type": "code",
   "execution_count": 0,
   "metadata": {
    "colab": {
     "base_uri": "https://localhost:8080/",
     "height": 219
    },
    "colab_type": "code",
    "id": "yAFXUCX_ZXYD",
    "outputId": "3ac88ee9-841c-4189-f44f-8e6a70479883"
   },
   "outputs": [
    {
     "ename": "NameError",
     "evalue": "ignored",
     "output_type": "error",
     "traceback": [
      "\u001b[0;31m---------------------------------------------------------------------------\u001b[0m",
      "\u001b[0;31mNameError\u001b[0m                                 Traceback (most recent call last)",
      "\u001b[0;32m<ipython-input-26-264ae9e96063>\u001b[0m in \u001b[0;36m<module>\u001b[0;34m()\u001b[0m\n\u001b[0;32m----> 1\u001b[0;31m \u001b[0;32mif\u001b[0m \u001b[0mchute\u001b[0m \u001b[0;34m==\u001b[0m \u001b[0mnumero\u001b[0m\u001b[0;34m:\u001b[0m\u001b[0;34m\u001b[0m\u001b[0;34m\u001b[0m\u001b[0m\n\u001b[0m\u001b[1;32m      2\u001b[0m     \u001b[0mprint\u001b[0m\u001b[0;34m(\u001b[0m\u001b[0;34m'Você acertou'\u001b[0m\u001b[0;34m)\u001b[0m\u001b[0;34m\u001b[0m\u001b[0;34m\u001b[0m\u001b[0m\n\u001b[1;32m      3\u001b[0m \u001b[0;32melse\u001b[0m\u001b[0;34m:\u001b[0m\u001b[0;34m\u001b[0m\u001b[0;34m\u001b[0m\u001b[0m\n\u001b[1;32m      4\u001b[0m     \u001b[0mprint\u001b[0m\u001b[0;34m(\u001b[0m\u001b[0;34m'Você errou'\u001b[0m\u001b[0;34m)\u001b[0m\u001b[0;34m\u001b[0m\u001b[0;34m\u001b[0m\u001b[0m\n",
      "\u001b[0;31mNameError\u001b[0m: name 'chute' is not defined"
     ]
    }
   ],
   "source": [
    "if chute == numero:\n",
    "print('Você acertou')\n",
    "else:\n",
    "print('Você errou')"
   ]
  },
  {
   "cell_type": "markdown",
   "metadata": {
    "colab_type": "text",
    "id": "X4eN6yVGZztv"
   },
   "source": [
    "Este código ainda não funciona porque o Python entende as instruções `if`  e   `else`  como blocos e os blocos devem seguir uma indentação. Como   `print('Você acertou')`   é  a  instrução  que  deve  ser executada caso a  verificação do `if` seja verdadeira,  devemos  ter  um  recuo  para  a  direita  em  quatros espaços:"
   ]
  },
  {
   "cell_type": "code",
   "execution_count": 0,
   "metadata": {
    "colab": {},
    "colab_type": "code",
    "id": "8VylSByKZcfq"
   },
   "outputs": [],
   "source": [
    "if chute == numero:\n",
    "    print('Você acertou')\n",
    "else:\n",
    "    print('Você errou')"
   ]
  },
  {
   "cell_type": "markdown",
   "metadata": {
    "colab_type": "text",
    "id": "npop3jt8aaOT"
   },
   "source": [
    "Caso contrário, o interpretador vai acusar erro de sintaxe. Dessa maneira o código fica mais legível e o que em outras linguagens é uma escolha do programador, o Python te obriga a fazer - forçando, desta maneira,  a  organizar  o  código.  Tudo  que  estiver  no  bloco  da  primeira  condição  (do   `if` )  deve estar indentado, ou seja, recuado para direita. Assim como as instruções que estiverem no bloco do  `else` .\n",
    "No fim, nosso programa fica:"
   ]
  },
  {
   "cell_type": "code",
   "execution_count": 0,
   "metadata": {
    "colab": {
     "base_uri": "https://localhost:8080/",
     "height": 52
    },
    "colab_type": "code",
    "id": "xRGeK76ZasqO",
    "outputId": "095bf09b-2eef-4374-fb12-ba540c0c6b03"
   },
   "outputs": [
    {
     "name": "stdout",
     "output_type": "stream",
     "text": [
      "Digite um número: 2\n",
      "Você errou\n"
     ]
    }
   ],
   "source": [
    "numero = 42\n",
    "chute = input('Digite um número: ')\n",
    "if chute == numero:\n",
    "  print('Você acertou')\n",
    "else:\n",
    "  print('Você errou')"
   ]
  },
  {
   "cell_type": "markdown",
   "metadata": {
    "colab_type": "text",
    "id": "rcz7C2Lia7WA"
   },
   "source": [
    "Note que a condição de um if deve ser um booleano, ou seja, `True` ou `False`. Passamos a expressão `chute == numero`  que vai checar se ela é verdadeira ou não. Caso seja verdadeira, vai executar o código dentro do bloco do `if`, senão, vai executar o código dentro do `else`. Agora vamos chutar o número 42 e\n",
    "verificar se tudo está funcionando:"
   ]
  },
  {
   "cell_type": "code",
   "execution_count": 0,
   "metadata": {
    "colab": {
     "base_uri": "https://localhost:8080/",
     "height": 52
    },
    "colab_type": "code",
    "id": "vM7Umz3fbRYr",
    "outputId": "ab92501b-447d-4643-db9b-bc94b9f7dd09"
   },
   "outputs": [
    {
     "name": "stdout",
     "output_type": "stream",
     "text": [
      "Digite um número: 42\n",
      "Você errou\n"
     ]
    }
   ],
   "source": [
    "numero = 42\n",
    "chute = input('Digite um número: ')\n",
    "if chute == numero:\n",
    "  print('Você acertou')\n",
    "else:\n",
    "  print('Você errou')"
   ]
  },
  {
   "cell_type": "markdown",
   "metadata": {
    "colab_type": "text",
    "id": "JMF4cNyabaHQ"
   },
   "source": [
    "Algo de errado aconteceu! Digitamos o número correto e mesmo assim o programa não funcionou como esperado. Vamos entender o que aconteceu."
   ]
  },
  {
   "cell_type": "markdown",
   "metadata": {
    "colab_type": "text",
    "id": "HZyP6gYjbjBV"
   },
   "source": [
    "### 3.10 CONVERTENDO UMA STRING PARA INTEIRO\n",
    "A função  `input()`  lê o valor digitado pelo usuário como uma `string`."
   ]
  },
  {
   "cell_type": "code",
   "execution_count": 0,
   "metadata": {
    "colab": {},
    "colab_type": "code",
    "id": "aLy-usOtb1-4"
   },
   "outputs": [],
   "source": [
    "chute = input('Digite um número: ')"
   ]
  },
  {
   "cell_type": "markdown",
   "metadata": {
    "colab_type": "text",
    "id": "X2i2WhuRb7i0"
   },
   "source": [
    "Se o usuário digitar o número 42, a variável   chute  vai guardar o valor   \"42\" , ou seja, um texto. Podemos  checar  isso  através  da  função   `type()`   que  retorna  o  tipo  da  variável.  Vamos  testar  isso  aqui:"
   ]
  },
  {
   "cell_type": "code",
   "execution_count": 0,
   "metadata": {
    "colab": {},
    "colab_type": "code",
    "id": "9BkipbWUcM42"
   },
   "outputs": [],
   "source": [
    "type(chute)"
   ]
  },
  {
   "cell_type": "markdown",
   "metadata": {
    "colab_type": "text",
    "id": "WF6CvO_xcRWE"
   },
   "source": [
    "Agora  fica  mais  claro  porque  o  programa  não  está  funcionando  como  o  esperado.  Quando  o\n",
    "interpretador verificar   `chute  ==  numero`   vai  retornar  `False`  já  que   `\"42\"` (texto)  é  diferente  de  `42`\n",
    "(número).\n",
    "Para funcionar, precisamos converter a `string` `\"42\"` para um número inteiro. O `int` também funciona\n",
    "como uma função (mais para frente entenderemos que não é realmente uma função) que pode receber\n",
    "uma `string` e retornar o inteiro correspondente:"
   ]
  },
  {
   "cell_type": "code",
   "execution_count": 0,
   "metadata": {
    "colab": {},
    "colab_type": "code",
    "id": "kApynPLscIGK"
   },
   "outputs": [],
   "source": [
    "numero_em_texto = '12'"
   ]
  },
  {
   "cell_type": "code",
   "execution_count": 0,
   "metadata": {
    "colab": {},
    "colab_type": "code",
    "id": "IL64jIW0cn2T"
   },
   "outputs": [],
   "source": [
    "type(numero_em_texto)"
   ]
  },
  {
   "cell_type": "code",
   "execution_count": 0,
   "metadata": {
    "colab": {},
    "colab_type": "code",
    "id": "BAtKJ31UcqPO"
   },
   "outputs": [],
   "source": [
    "numero = int(numero_em_texto)"
   ]
  },
  {
   "cell_type": "code",
   "execution_count": 0,
   "metadata": {
    "colab": {},
    "colab_type": "code",
    "id": "2hPKdd4kcutd"
   },
   "outputs": [],
   "source": [
    "type(numero)"
   ]
  },
  {
   "cell_type": "markdown",
   "metadata": {
    "colab_type": "text",
    "id": "jo2K9fUWcpn0"
   },
   "source": [
    "Mas devemos tomar cuidado, nem toda `string` pode ser convertida para um número inteiro:"
   ]
  },
  {
   "cell_type": "code",
   "execution_count": 0,
   "metadata": {
    "colab": {
     "base_uri": "https://localhost:8080/",
     "height": 185
    },
    "colab_type": "code",
    "id": "3F26F1w7c1qa",
    "outputId": "44b17cf6-5abd-43c0-ca54-4d840e020d4c"
   },
   "outputs": [
    {
     "ename": "ValueError",
     "evalue": "ignored",
     "output_type": "error",
     "traceback": [
      "\u001b[0;31m---------------------------------------------------------------------------\u001b[0m",
      "\u001b[0;31mValueError\u001b[0m                                Traceback (most recent call last)",
      "\u001b[0;32m<ipython-input-30-731bc9340523>\u001b[0m in \u001b[0;36m<module>\u001b[0;34m()\u001b[0m\n\u001b[1;32m      1\u001b[0m \u001b[0mtexto\u001b[0m \u001b[0;34m=\u001b[0m \u001b[0;34m'caelum'\u001b[0m\u001b[0;34m\u001b[0m\u001b[0;34m\u001b[0m\u001b[0m\n\u001b[0;32m----> 2\u001b[0;31m \u001b[0mnumero\u001b[0m \u001b[0;34m=\u001b[0m \u001b[0mint\u001b[0m\u001b[0;34m(\u001b[0m\u001b[0mtexto\u001b[0m\u001b[0;34m)\u001b[0m\u001b[0;34m\u001b[0m\u001b[0;34m\u001b[0m\u001b[0m\n\u001b[0m",
      "\u001b[0;31mValueError\u001b[0m: invalid literal for int() with base 10: 'caelum'"
     ]
    }
   ],
   "source": [
    "texto = 'caelum'\n",
    "numero = int(texto)"
   ]
  },
  {
   "cell_type": "markdown",
   "metadata": {
    "colab_type": "text",
    "id": "DfoWyqOec-2U"
   },
   "source": [
    "O interpretador acusa um `ValueError` dizendo que o valor passado para  `int()`  é inválido, ou seja, é um texto que não representa um número inteiro."
   ]
  },
  {
   "cell_type": "markdown",
   "metadata": {
    "colab_type": "text",
    "id": "3DDKo3RmdGVZ"
   },
   "source": [
    "### 3.11 O COMANDO ELIF\n",
    "Podemos melhorar ainda mais o jogo: caso o chute não seja igual ao número secreto, podemos dar uma pista para o usuário se ele foi maior ou menor do que o chute inicial. Ou seja, devemos acrescentar esse tratamento caso o usuário erre o chute:\n",
    "\n",
    "    Se chute = número:\n",
    "      \"Você acertou!\"\n",
    "    Senão:\n",
    "        Se chute maior do que número_secreto:\n",
    "            \"Você errou! O seu chute foi maior que o número secreto\"\n",
    "        Senão\n",
    "            \"Você errou! O seu chute foi menor que o número secreto\"\n",
    "\n",
    "Já sabemos traduzir isso para Python:"
   ]
  },
  {
   "cell_type": "code",
   "execution_count": 0,
   "metadata": {
    "colab": {},
    "colab_type": "code",
    "id": "ZadXxInwc21L"
   },
   "outputs": [],
   "source": [
    "if(chute == numero_secreto):\n",
    "    print('Você acertou!')\n",
    "    else:\n",
    "        if(chute > numero_secreto):\n",
    "            print('Você errou! O seu chute foi maior que o número secreto')\n",
    "        else:\n",
    "            print('Você errou! O seu chute foi menor que o número secreto')"
   ]
  },
  {
   "cell_type": "markdown",
   "metadata": {
    "colab_type": "text",
    "id": "F3Wgk18PdoY8"
   },
   "source": [
    "Mas neste caso podemos fazer um   `else`  com uma condição de entrada, o   `elif` . Vamos utilizá-lo\n",
    "para deixar o código mais semântico, já que na prática não há diferença:"
   ]
  },
  {
   "cell_type": "code",
   "execution_count": 0,
   "metadata": {
    "colab": {},
    "colab_type": "code",
    "id": "QqmvZ7b3dtvp"
   },
   "outputs": [],
   "source": [
    "if (numero_secreto == chute):\n",
    "  print('Você acertou!')\n",
    "elif (chute > numero_secreto):\n",
    "  print('Você errou! O seu chute foi maior que o número secreto')\n",
    "elif (chute < numero_secreto):\n",
    "  print('Você errou! O seu chute foi menor que o número secreto')"
   ]
  },
  {
   "cell_type": "markdown",
   "metadata": {
    "colab_type": "text",
    "id": "jl7UOJx3d9qa"
   },
   "source": [
    "Podemos  melhorar  ainda  mais  a  legibilidade  do  código  para  que  os  outros  programadores,  que\n",
    "podem ajudar a desenvolvê-lo no futuro, entendam melhor. Vamos deixar nossas condições mais claras.\n",
    "\n",
    "`chute  ==  numero_secreto` quer  dizer  que  o  usuário  acertou.  Então,  extraímos  essa  condição  para uma variável:"
   ]
  },
  {
   "cell_type": "code",
   "execution_count": 0,
   "metadata": {
    "colab": {},
    "colab_type": "code",
    "id": "66IiZeqZeQpG"
   },
   "outputs": [],
   "source": [
    "acertou = chute == numero_secreto\n",
    "    if(acertou):\n",
    "        print('Você acertou!')\n",
    "    #restante do código"
   ]
  },
  {
   "cell_type": "markdown",
   "metadata": {
    "colab_type": "text",
    "id": "TVH_98yceV3N"
   },
   "source": [
    "A variável   `acertou`  guarda uma expressão e, portanto é do tipo booleano  e  podemos  usar  como\n",
    "condição no comando  `if` . Agora a condição  `if`  fica um pouco mais clara. Vamos fazer a mesma coisa para as outras duas condições:"
   ]
  },
  {
   "cell_type": "code",
   "execution_count": 0,
   "metadata": {
    "colab": {},
    "colab_type": "code",
    "id": "yiUVdBededZC"
   },
   "outputs": [],
   "source": [
    "acertou = chute == numero_secreto\n",
    "maior = chute > numero_secreto\n",
    "menor = chute < numero_secreto\n",
    "\n",
    "if(acertou):\n",
    "  print('Você acertou!')\n",
    "elif(maior):\n",
    "  print('Você errou! O seu chute foi maior que o número secreto')\n",
    "elif(menor):\n",
    "  print('Você errou! O seu chute foi menor que o número secreto')"
   ]
  },
  {
   "cell_type": "markdown",
   "metadata": {
    "colab_type": "text",
    "id": "__fWUnl_eu89"
   },
   "source": [
    "### 3.12 EXERCÍCIOS - JOGO DA ADIVINHAÇÃO\n",
    "1.  Crie um arquivo chamado adivinhacao.py em uma pasta chamada jogos dentro do diretório home:\n",
    "    \n",
    "        |_ home\n",
    "         |_ jogos\n",
    "             |_ adivinhacao.py\n",
    "\n",
    "2.  Abra  o  arquivo  no  editor  de  texto  de  sua  preferência  e  comece  a  escrever  um  cabeçalho  para  o\n",
    "usuário saber do que se trata o programa:\n",
    "    \n",
    "        print('******************************')\n",
    "        print('*    Jogo da adivinhação     *')\n",
    "        print('******************************')\n",
    "\n",
    "3.  Vamos definir a variável  numero_secreto  que vai guardar o valor a ser adivinhado pelo usuário:\n",
    "     \n",
    "         print('******************************')\n",
    "         print('*    Jogo da adivinhação     *')\n",
    "         print('******************************')\n",
    "         numero_secreto = 42\n",
    "\n",
    "4.  Capture a entrada do usuário usando a função  input() :\n",
    "        print('******************************')\n",
    "        print('*    Jogo da adivinhação     *')\n",
    "        print('******************************')\n",
    "        numero_secreto = 42\n",
    "        chute = input('Digite o seu número: ')\n",
    "        print('Você digitou: ', chute)\n",
    "\n",
    "5.  Compare o valor digitado pelo usuário com o   numero_secreto . Se os valores forem iguais mostre\n",
    "uma mensagem de acerto, caso contrário, mostre uma mensagem de erro:\n",
    "   \n",
    "        print('******************************')\n",
    "        print('*    Jogo da adivinhação     *')\n",
    "        print('******************************')\n",
    "        numero_secreto = 42\n",
    "        chute = input('Digite o seu número: ')\n",
    "        print('Você digitou: ', chute)\n",
    "        if(numero_secreto == chute):\n",
    "         print('Você acertou!')\n",
    "        else:\n",
    "            print('Você errou!')\n",
    "\n",
    "6.  Rode o código acima pelo terminal e teste o jogo chutando o número 42:\n",
    "     \n",
    "        dev@caelum:~$ python3 jogos/adivinhacao.py\n",
    "\n",
    "7.  O  chute  42  não  funciona  como  esperado.  Esquecemos  de  converter  o  chute  digitado  pelo  usuário\n",
    "para um número inteiro. Modifique o código e utilize a função   `int()`   para  receber  a  entrada  do usuário:\n",
    "\n",
    "        chute = int(input('Digite o seu número: '))\n",
    "\n",
    "8.  Rode o código novamente com a entrada igual a `42` e veja que agora funciona como esperado.\n",
    "9.  Vamos apresentar uma pista para o usuário e imprimir uma mensagem dizendo se o chute foi maior ou menor do que o número secreto. Para isso usaremos o  `elif`:\n",
    "        if (numero_secreto == chute):\n",
    "            print('Você acertou!')\n",
    "        elif (chute > numero_secreto):\n",
    "            print('Você errou! O seu chute foi maior que o número secreto')\n",
    "        elif (chute < numero_secreto):\n",
    "            print('Você errou! O seu chute foi menor que o número secreto')\n",
    "\n",
    "10.  Agora vamos melhorar a legibilidade do código extraindo as condições para variáveis:\n",
    "        acertou = chute == numero_secreto\n",
    "        maior = chute > numero_secreto\n",
    "        menor = chute < numero_secreto\n",
    "        if(acertou):\n",
    "            print('Você acertou!')\n",
    "         elif(maior):\n",
    "            print('Você errou! O seu chute foi maior que o número secreto')\n",
    "         elif(menor):\n",
    "            print('Você errou! O seu chute foi menor que o número secreto')\n",
    "\n",
    "11.  Rode o programa e teste com todas as situações possíveis."
   ]
  },
  {
   "cell_type": "markdown",
   "metadata": {
    "colab_type": "text",
    "id": "kScysrrpgV0F"
   },
   "source": [
    "### 3.13 COMANDO WHILE\n",
    "Queremos dar mais de uma oportunidade para o usuário tentar acertar o número secreto, já que é um jogo de adivinhação. A primeira ideia é repetir o código, desde a função   `input()`  até o bloco do\n",
    " `elif`  .  Ou  seja,  para  cada  nova  tentativa  que  quisermos  dar  ao  usuário,  copiaríamos  esse  código novamente. Só  que  copiar  código  sempre  é  uma  má  prática,  queremos  escrever  o  código  apenas  uma  vez.  Se queremos repetir o código, fazemos um laço, ou um loop, que deve repetir a instrução dentro de bloco enquanto ela for verdadeira. O laço que devemos fazer é:\n",
    " \n",
    "    Enquanto ainda há tentativas, faça:\n",
    "        chute_str = input('Digite o seu número: ')\n",
    "        print('Você digitou: ', chute_str)\n",
    "        chute = int(chute_str)\n",
    "        acertou = numero_secreto == chute\n",
    "        maior = chute > numero_secreto\n",
    "        menor = chute < numero_secreto\n",
    "        if (acertou):\n",
    "            print('Você acertou!')\n",
    "        elif (maior):\n",
    "            print('Você errou! O seu chute foi maior que o número secreto')\n",
    "        elif (menor):\n",
    "            print('Você errou! O seu chute foi menor que o número secreto')\n",
    "        print('Fim do Jogo!')\n",
    "\n",
    "Como  dito  anteriormente,  o  Python  não  entende  português  e  assim  como  o   `if`   ele  tem  um\n",
    "comando que substituirá a palavra   `enquanto`  do nosso exemplo. O `while` é esse comando que, assim\n",
    "como o   `if` , recebe uma condição. A diferença é que o   `if` ,  caso  a  condição  seja  verdadeira,  executa apenas uma vez o código de seu bloco, já o   `while`  executa enquanto  a  condição  for  verdadeira,  por\n",
    "exemplo:\n",
    "    \n",
    "    x = 5\n",
    "    enquanto x for maior do que 1, faça:\n",
    "        imprime(x)\n",
    "        x = x - 1\n",
    "        \n",
    "Que em Python, é equivalente a:"
   ]
  },
  {
   "cell_type": "code",
   "execution_count": 0,
   "metadata": {
    "colab": {
     "base_uri": "https://localhost:8080/",
     "height": 86
    },
    "colab_type": "code",
    "id": "PX7q0I-Ig9Fo",
    "outputId": "506cdeba-0f69-48c8-9157-cddd57a2ad64"
   },
   "outputs": [
    {
     "name": "stdout",
     "output_type": "stream",
     "text": [
      "5\n",
      "4\n",
      "3\n",
      "2\n"
     ]
    }
   ],
   "source": [
    "x = 5\n",
    "while(x > 1):\n",
    "    print(x)\n",
    "    x = x - 1"
   ]
  },
  {
   "cell_type": "markdown",
   "metadata": {
    "colab_type": "text",
    "id": "HgKjiDr-hIO-"
   },
   "source": [
    "Mas tome cuidado, o que acontece se esquecermos essa linha do código  `x = x - 1`?"
   ]
  },
  {
   "cell_type": "code",
   "execution_count": 0,
   "metadata": {
    "colab": {},
    "colab_type": "code",
    "id": "33ZtG1NXhBNd"
   },
   "outputs": [],
   "source": [
    "x = 5\n",
    "while (x>1):\n",
    "  print(x)"
   ]
  },
  {
   "cell_type": "markdown",
   "metadata": {
    "colab_type": "text",
    "id": "ZSveTS1ziP_4"
   },
   "source": [
    "O programa vai imprimir o número `5` infinitamente, já que a condição passada é sempre verdadeira e não muda dentro do bloco."
   ]
  },
  {
   "cell_type": "markdown",
   "metadata": {
    "colab_type": "text",
    "id": "kHi5j4xfif_V"
   },
   "source": [
    "### 3.14 EXERCÍCIOS - JOGO COM WHILE\n",
    "1.  Daremos ao usuário do jogo um número máximo de tentativas. Abra o arquivo `adivinhacao.py`  na pasta  jogos  e  inicie  a  variável `total_de_tentativas`   com  `3`  e  acrescente  o  bloco  do  comando `while`:\n",
    "    \n",
    "        numero_secreto = 42\n",
    "        total_de_tentativas = 3\n",
    "        while(ainda há total_de_tentativas):\n",
    "        #executa o código\n",
    "\n",
    "\n",
    "2.  Resta agora a expressão ainda há. A ideia é que o usuário tenha `3` tentativas, representada no código pela  variável   `total_de_tentativas` .  A  cada  rodada  subtraímos  `1`  do  valor  dessa  variável,  até  o\n",
    "valor chegar a `0`, que é quando devemos sair do  `while` . Logo, vamos executá-lo enquanto a variável `total_de_tentativas`  for maior do que `0`:\n",
    " \n",
    "        numero_secreto = 42\n",
    "        total_de_tentativas = 3\n",
    "        while (total_de_tentativas > 0):\n",
    "         chute = int(input('Digite o seu número: '))\n",
    "         print('Você digitou: ', chute)\n",
    "         acertou = chute == numero_secreto\n",
    "         maior = chute > numero_secreto\n",
    "         menor = chute < numero_secreto\n",
    "         if(acertou):\n",
    "             print('Você acertou')\n",
    "         elif(maior):\n",
    "             print('Você errou! O seu chute foi maior que o número secreto')\n",
    "         elif(menor):\n",
    "             print('Você errou! O seu chute foi menor que o número secreto')\n",
    "         total_de_tentativas = total_de_tentativas - 1\n",
    "\n",
    "OBS: Não esqueça de indentar o código dentro do bloco  while  para não receber erro de sintaxe.\n",
    "\n",
    "3.  Além das tentativas, podemos apresentar qual o número da rodada que o usuário está jogando para deixar claro quantas tentativas ele têm. Para isso vamos criar a variável  rodada , que começa com o valor 1:\n",
    "     \n",
    "        total_de_tentativas = 3\n",
    "        rodada = 1\n",
    "\n",
    "4.  E vamos imprimi-la antes do usuário digitar o seu chute:\n",
    "        total_de_tentativas = 3\n",
    "        rodada = 1\n",
    "        while (total_de_tentativas > 0):\n",
    "        print('Tentativa {} de {}'.format(rodada, total_de_tentativas))\n",
    "        chute = int(input('Digite o seu número: '))\n",
    "        print('Você digitou: ', chute)\n",
    "        # restante do código aqui\n",
    "\n",
    "5.  E para a variável  `total_de_tentativas`  continuar com o valor `3`, não vamos mais subtrair 1 do seu valor, e sim adicionar `1` ao valor da variável  `rodada`:\n",
    "\n",
    "        total_de_tentativas = 3\n",
    "        rodada = 1\n",
    "        while (total_de_tentativas > 0):\n",
    "        print('Tentativa {} de {}'.format(rodada, total_de_tentativas))\n",
    "        chute = int(input('Digite o seu número: '))\n",
    "          print('Você digitou: ', chute)\n",
    "        acertou = numero_secreto == chute\n",
    "        maior = chute > numero_secreto\n",
    "        menor = chute < numero_secreto\n",
    "        if (acertou):\n",
    "            print('Você acertou!')\n",
    "        elif (maior):\n",
    "          print('Você errou! O seu chute foi maior que o número secreto')\n",
    "        elif (menor):\n",
    "          print('Você errou! O seu chute foi menor que o número secreto')\n",
    "        rodada = rodada + 1\n",
    "        print('Fim do jogo')\n",
    "\n",
    "6.  Por  fim,  precisamos  modificar  a  condição.  Já  que  o   `total_de_tentativas`   permanecerá  com  o\n",
    "valor `3`, o código precisa ficar executando enquanto o valor da rodada for menor ou igual ao total de tentativas:\n",
    "     \n",
    "        total_de_tentativas = 3\n",
    "        rodada = 1\n",
    "        while (rodada <= total_de_tentativas):\n",
    "         print('Tentativa {} de {}'.format(rodada, total_de_tentativas))\n",
    "         chute_str = input('Digite o seu número: ')\n",
    "         #restante do código\n",
    "\n",
    "Agora conseguimos imprimir para o usuário quantas tentativas restantes ele possui! Teste chamando\n",
    "seu arquivo `adivinhacao.py` com o comando `python3`.\n",
    "\n",
    "7.  Falta  arrumar  uma  coisa:  quando  o  usuário  acerta,  o  jogo  continua  pedindo  um  novo  chute. Queremos terminar a execução do programa quando o usuário acerta. Para isso usamos o comando `break`. Quando o interpretador encontrar o comando `break` ele para a execução do programa. vamos acrescentar  isso  quando  o  usuário  acertar,  ou  seja,  no  primeiro  comando   `if`   após  a  exibição  da mensagem de acerto:\n",
    "        if(acertou):\n",
    "         print('Você acertou!')\n",
    "         break\n",
    "        elif(maior):\n",
    "         # restante do código\n",
    "\n",
    "8.  Teste o programa e veja se tudo está funcionando como o esperado."
   ]
  },
  {
   "cell_type": "markdown",
   "metadata": {
    "colab_type": "text",
    "id": "Gf5p2AWOnD6L"
   },
   "source": [
    "### 3.15 COMANDO FOR\n",
    "\n",
    "Ainda  no  código  do  jogo  da  adivinhação,  implementamos  o  loop   `while` ,  no  qual  temos  uma variável  `rodada`  que começa com o valor `1`, e é incrementada dentro do loop, que por sua vez tem uma\n",
    "condição de entrada, que é a  rodada  ser menor ou igual ao total de tentativas, que é 3. \n",
    "\n",
    "Ou seja, a   rodada  tem um valor inicial, que é `1`, e vai até 3. Fazemos um laço começando com um valor inicial, até um valor final, sempre incrementando esse valor a cada iteração. Mas se esquecermos de\n",
    "incrementar a rodada, entramos em um loop infinito.\n",
    "\n",
    "Em  casos  como  esse,  existe  um  outro  loop  que  simplifica  essa  ideia  de  começar  com  um  valor  e incrementá-lo até chegar em um valor final: o loop `for`. \n",
    "\n",
    "Para entender o loop, ou laço for, podemos ir até o console do Python para ver o seu funcionamento. A  ideia  é  definirmos  o  valor  inicial  e  o  valor  final,  que  o  loop  o  incrementa  automaticamente.  Para\n",
    "definir  o  valor  inicial  e  final,  utilizamos  a  função  embutida   `range()` ,  passando-os  por  parâmetro, definindo assim a série de valores. \n",
    "\n",
    "A sintaxe é a seguinte:\n",
    "\n",
    "    Para variável em uma série de valores:\n",
    "        Faça algo\n",
    "\n",
    "Isso, em Python, pode ficar assim:\n",
    "\n",
    "    for rodada in range(1, 10):\n",
    "\n",
    "O  `range(1, 10)`  vai gerar o intervalo de números inteiros de `1` a `9`. Na primeira iteração, o valor da variável   `rodada`   será  `1`,  depois  `2`  e  até  chegar  ao  valor  final  da  função   `range()`   menos  `1`,  isto  é,  o segundo parâmetro da função não é inclusivo. No exemplo acima, a série de valores é de `1` a `9`. Podemos confirmar isso imprimindo o valor da variável  rodada  no console do Python:"
   ]
  },
  {
   "cell_type": "code",
   "execution_count": 0,
   "metadata": {
    "colab": {},
    "colab_type": "code",
    "id": "2CfkTs5LoBWl"
   },
   "outputs": [],
   "source": [
    "for rodada in range(1,10):\n",
    "    print(rodada)"
   ]
  },
  {
   "cell_type": "markdown",
   "metadata": {
    "colab_type": "text",
    "id": "S_tQmrN0oHOY"
   },
   "source": [
    "Com a função  `range()`  podemos definir um step (um passo), que é o intervalo entre os elementos.\n",
    "\n",
    "Por padrão o step tem valor igual a `1` mas podemos alterar este valor passando um terceiro parâmetro para a função:"
   ]
  },
  {
   "cell_type": "code",
   "execution_count": 0,
   "metadata": {
    "colab": {},
    "colab_type": "code",
    "id": "PCL7EdXgoPaq"
   },
   "outputs": [],
   "source": [
    "for rodada in range(1,10,2):\n",
    "    print(rodada)"
   ]
  },
  {
   "cell_type": "markdown",
   "metadata": {
    "colab_type": "text",
    "id": "LT09aUgUoVPT"
   },
   "source": [
    "Veja que o intervalo entre cada elemento da séria agora é `2`, a cada iteração o laço pula dois passos (incrementa 2). Mas não necessariamente precisamos usar a função  `range()`  no  `for` , podemos passar\n",
    "os valores da sequência manualmente conseguindo o mesmo resultado:"
   ]
  },
  {
   "cell_type": "code",
   "execution_count": 0,
   "metadata": {
    "colab": {},
    "colab_type": "code",
    "id": "IroNmLb8oizG"
   },
   "outputs": [],
   "source": [
    "for rodada in [1,2,3,4,5]:\n",
    "    print rodada"
   ]
  },
  {
   "cell_type": "markdown",
   "metadata": {
    "colab_type": "text",
    "id": "zfi22V0Boqig"
   },
   "source": [
    "Tanto o  `while`  quanto o  `for`  podem ser usados no jogo. Conseguiremos o mesmo resultado mas o código fica mais verboso com o  `while` , além de corrermos o risco de esquecer de incrementar a rodada(`rodada = rodada + 1`) e nosso código entrar em um loop infinito. Neste casos, é preferível utilizar o comando `for`."
   ]
  },
  {
   "cell_type": "markdown",
   "metadata": {
    "colab_type": "text",
    "id": "nioVHrpto6oY"
   },
   "source": [
    "### 3.16 EXERCÍCIOS - UTILIZANDO O FOR NO JOGO\n",
    "1.  Substitua o comando  `while`  pelo  for  começando no `1` e indo até o   `total_de_tentativas` . Não esqueça de remover a declaração da variável  `rodada`  e o seu incremento dentro do loop:\n",
    "\n",
    "        numero_secreto = 42\n",
    "        total_de_tentativas = 3\n",
    "        for rodada in range(1, total_de_tentativas):\n",
    "         print('Tentativa {} de {}'.format(rodada, total_de_tentativas))\n",
    "         chute = int(input('Digite o seu número: '))\n",
    "         print('Você digitou: ', chute)\n",
    "         acertou = numero_secreto == chute\n",
    "         maior = chute > numero_secreto\n",
    "         menor = chute < numero_secreto\n",
    "         if (acertou):\n",
    "             print('Você acertou!')\n",
    "         elif (maior):\n",
    "             print('Você errou! O seu chute foi maior que o número secreto')\n",
    "         elif (menor):\n",
    "             print('Você errou! O seu chute foi menor que o número secreto')\n",
    "        print('Fim do jogo!')\n",
    "\n",
    "2.  É importante saber que o  `for`  não é obrigado a ter parênteses. Podemos testar e ver que o programa dá apenas 2 tentativas. Isso porque, como foi falado anteriormente, o segundo parâmetro da função `range`   não  é  inclusivo,  no  caso  do  nosso  jogo,   `range(1,3)`    irá  gerar  a  série  `1`  e  `2`  somente.\n",
    "\n",
    "Portanto, vamos somar `1` ao  `total_de_tentativas`  dentro da função `range`:\n",
    "     \n",
    "    for rodada in range(1, total_de_tentativas + 1):\n",
    "\n",
    "3.  Teste novamente o jogo e veja que tudo está funcionando perfeitamente!\n",
    "4.  (opcional) Crie um nível de dificuldade para o jogo. Crie uma variável chamada  `nível`  e peça para o  usuário  escolher  em  qual  nível  ele  deseja  jogar.  O  nível  é  mensurável  de  acordo  com  o  total  de\n",
    "tentativas: nível 1(tentativas = 20), nível 2(tentativas = 10) e nível 3 (tentativas = 5).\n",
    "\n",
    "5.  (opcional) Acrescente um total de pontos ao jogador que deve iniciar com `1000` e a cada chute errado deve ser subtraído do total de pontos um valor que corresponde a diferença entre o chute e o número secreto. Para este exercício você vai precisar da função   `abs()` . Veja na  documentação do  Python como ela funciona.\n"
   ]
  }
 ],
 "metadata": {
  "colab": {
   "collapsed_sections": [
    "AWhCSY4qi-m1",
    "B9LM6d5Gm6j5",
    "Tp62oS29nHOY",
    "toIe6YYZGDCJ",
    "SjwDGBcmH-HH",
    "pFX5OJ0OI3cF",
    "semjtR4ER8j9",
    "z_ykJqn5SbD6",
    "B1-xRAIsCOpj",
    "0WUuCdz1DBGA",
    "zeLjdgBVF0cX",
    "m2hl0lo5Jy81",
    "HZyP6gYjbjBV",
    "3DDKo3RmdGVZ",
    "__fWUnl_eu89",
    "kScysrrpgV0F",
    "kHi5j4xfif_V",
    "Gf5p2AWOnD6L",
    "nioVHrpto6oY",
    "fWO-hsuXsqmi",
    "HNd3rEvM0vVk",
    "sG3uBQqc6M5A",
    "JktfWQnN8UWe",
    "kmJuze08EGF5",
    "_xCpIhn7IcBS",
    "aTa0t1HcLs0t",
    "QE-0ReKWMkle",
    "YAImLTCbQMc7",
    "cNB0Zm5sRTdk",
    "BeSLrrmjKuHy",
    "-05kqpD7L2HG",
    "aGJuldwHMRLH",
    "J5LAe9piMmFX",
    "AlKz4soDBERe",
    "H4ffkXfyCGa3",
    "Pg-InPJAEdZe",
    "JQpFLomJFZf-",
    "64qkenrMGOmR",
    "1ZhqTs3BJZUZ",
    "GAuTUacELGwq",
    "AqOyXdecVIq0",
    "dty5_A1_ZNEA"
   ],
   "name": "Parte_1.ipynb",
   "provenance": [],
   "toc_visible": true
  },
  "kernelspec": {
   "display_name": "Python 3",
   "language": "python",
   "name": "python3"
  },
  "language_info": {
   "codemirror_mode": {
    "name": "ipython",
    "version": 3
   },
   "file_extension": ".py",
   "mimetype": "text/x-python",
   "name": "python",
   "nbconvert_exporter": "python",
   "pygments_lexer": "ipython3",
   "version": "3.7.6"
  }
 },
 "nbformat": 4,
 "nbformat_minor": 1
}
