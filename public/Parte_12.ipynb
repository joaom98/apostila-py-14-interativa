{
 "cells": [
  {
   "cell_type": "markdown",
   "metadata": {
    "colab_type": "text",
    "id": "mk8OnE7A1Vsw"
   },
   "source": [
    "# DISCLAIMER\n",
    "\n",
    "\n",
    "\n",
    "---\n",
    "\n",
    "Esse documento ainda precisa passar por revisões e ser aprovado para que possa ser publicado e compartilhado.\n",
    "\n",
    "Esse documento ainda não representa a ideia final e está sujeito a mudanças.\n",
    "\n",
    "---\n",
    "\n"
   ]
  },
  {
   "cell_type": "markdown",
   "metadata": {
    "colab_type": "text",
    "id": "SexMNv3YxHRI"
   },
   "source": [
    "# CAPÍTULO 12\n",
    "## COLLECTIONS\n",
    "Objetivos:\n",
    "\n",
    "* conhecer o módulo collections\n",
    "* conhecer o módulo collections.abc\n",
    "\n",
    "No  capítulo  4  vimos  uma  introdução  das  principais  estruturas  de  dados  do  Python  como  listas, tuplas, conjuntos e dicionários. Também aprendemos em orientação a objetos que tudo em Python é um objeto, inclusive essas estruturas.\n",
    "\n",
    "O  Python  possui  uma  biblioteca  chamada    `collections` que  reúne  outros  tipos  de  dados alternativos ao já apresentados no capítulo 4. Esses tipos trazem novas funcionalidades.\n",
    "\n",
    "O módulo `collections` também provê um módulo de classes abstratas, o módulo  `abc.collections`, que podem ser usadas para testar se determinada classe provê uma interface particular e aprenderemos um pouco sobre elas e seu uso."
   ]
  },
  {
   "cell_type": "markdown",
   "metadata": {
    "colab_type": "text",
    "id": "4ydBnFxPx93t"
   },
   "source": [
    "### 12.1 USERLIST, USERDICT E USERSTRING\n",
    "As estruturas de dados padrão do Python são de grande valia e muito utilizadas na linguagem, mas existem momentos que precisamos de funcionalidades extras que são comuns de projeto para projeto.\n",
    "\n",
    "Nesse sentido surge o módulo  `collections`, pra acrescentar essas funcionalidades. Por exemplo, no Raspberry Pi ou Arduino, uma placa programada com pinos GPIO é representada\n",
    "por  um  objeto  `board`  com  um  atributo  `pins`. Esse  atributo  contém  um  mapeamento  das  localizações físicas  dos  pinos  para  objetos  que  representam  os  pinos.  A  localização  física  pode  ser  um  número  ou\n",
    "uma string como `A0` ou `B1`. Por consistência, é desejável que todas as chaves sejam strings assim como é conveniente que funcione para `pin[13]` quando o programador desejar fazer piscar o LED do pino 13.\n",
    "\n",
    "Precisamos  usar  índices  que  são  strings,  portanto  um  dicionário.  Além  disso,  nosso  dicionário poderia apenas aceitar strings como chaves para este objetivo específico. Para não tratar isso durante a execução de nosso programa podemos criar uma classe que tenha o comportamento de um dicionário com essa característica específica.\n",
    "\n",
    "Para  isso,  criamos  uma  classe  que  herda  de  uma  classe  chamada    `UserDict`    do  pacote `collections`:"
   ]
  },
  {
   "cell_type": "code",
   "execution_count": 0,
   "metadata": {
    "colab": {},
    "colab_type": "code",
    "id": "qLNNhn6-ybjR"
   },
   "outputs": [],
   "source": [
    "class MeuDicionario(UserDict):\n",
    "    pass"
   ]
  },
  {
   "cell_type": "markdown",
   "metadata": {
    "colab_type": "text",
    "id": "qbG4YSmnycZ4"
   },
   "source": [
    "A  classe   `UserDict`   não  herda  de   `dict`   mas  simula  um  dicionário.  A   `UserDict`   possui  uma instância de  `dict`  interna chamada  `data`, que armazena os itens propriamente ditos.\n",
    "\n",
    "Criar subclasses de tipos embutidos como   `dict`  ou   `list`  diretamente é propenso a erros porque seus  métodos  geralmente  ignoram  as  versões  sobrescritas.  Além  de  que  cada  implementação  pode  se comportar de maneira diferente. O fato de herdarmos de  `UserDict`  e não diretamente de  `dict`  é para\n",
    "evitar esses problemas.\n",
    "\n",
    "Criando a classe desta maneira, temos uma classe nossa que funciona como um dicionário. Mas não faz sentido criá-la sem acrescentar funcionalidades, já que o Python já possui essa estrutura pronta que é o  `dict`.\n",
    "\n",
    "Vamos  criar  nosso  dicionário  de  modo  que  só  aceite  chaves  como   strings   e  vai  representar  os pinos da placa do Rasbperry Pi, por exemplo:"
   ]
  },
  {
   "cell_type": "code",
   "execution_count": 0,
   "metadata": {
    "colab": {},
    "colab_type": "code",
    "id": "Cj0ICVx5yzWO"
   },
   "outputs": [],
   "source": [
    "class Pins(UserDict):\n",
    "    def __contains__(self, key):\n",
    "        return str(key) in self.keys()\n",
    "    def __setitem__(self, key, value):\n",
    "        self.data[str(key)] = value"
   ]
  },
  {
   "cell_type": "markdown",
   "metadata": {
    "colab_type": "text",
    "id": "vbJtATh4y2Rn"
   },
   "source": [
    "Note que a sobrescrita de   `__setitem__` garante que a chave sempre será uma `string`; Podemos testar essa classe:"
   ]
  },
  {
   "cell_type": "code",
   "execution_count": 0,
   "metadata": {
    "colab": {},
    "colab_type": "code",
    "id": "ZujTzpZBzAn3"
   },
   "outputs": [],
   "source": [
    "pins = Pins(one=1)\n",
    "print(pins)\n",
    "pins[3] = 1\n",
    "lista = [1, 2, 3]\n",
    "pins(lista) = 2\n",
    "print(pins)"
   ]
  },
  {
   "cell_type": "markdown",
   "metadata": {
    "colab_type": "text",
    "id": "UlPbBwM0zGeg"
   },
   "source": [
    "Perceba que quando imprimimos o dicionário, todas suas chaves são  `strings`."
   ]
  },
  {
   "cell_type": "markdown",
   "metadata": {
    "colab_type": "text",
    "id": "dD_ll8EozLcD"
   },
   "source": [
    "### 12.2 PARA SABER MAIS\n",
    "Outros  tipos  que  existem  no  módulo  `collections`  são:    `defaultdict`, `counter`, `deque` e `namedtuple`.\n",
    "\n",
    "Ao contrário do `dict`, no `defaultdict` não é necessário verificar se uma chave está presente ou não."
   ]
  },
  {
   "cell_type": "code",
   "execution_count": 0,
   "metadata": {
    "colab": {},
    "colab_type": "code",
    "id": "pObGg3QbzZqS"
   },
   "outputs": [],
   "source": [
    "cores = [('1', 'azul'), ('2', 'amarelo'), ('3', 'vermelho'), ('1', 'branco'), ('3', 'verde')]\n",
    "cores_favoritas = defaultdict(list)\n",
    "for chave, valor in cores:\n",
    "    cores_favoritas[chave].append(valor)\n",
    "print(cores_favoritas)"
   ]
  },
  {
   "cell_type": "markdown",
   "metadata": {
    "colab_type": "text",
    "id": "usO3NsGjzejq"
   },
   "source": [
    "Note que o código é executado sem acusar  `KeyError`."
   ]
  },
  {
   "cell_type": "markdown",
   "metadata": {
    "colab_type": "text",
    "id": "Y2jIpz8XznFX"
   },
   "source": [
    "#### Counter\n",
    "O   `Counter`   é  um  contador  e  permite  contar  as  ocorrências  de  um  determinado  item  em  uma estrutura de dados:"
   ]
  },
  {
   "cell_type": "code",
   "execution_count": 0,
   "metadata": {
    "colab": {},
    "colab_type": "code",
    "id": "JAinrJc7zsap"
   },
   "outputs": [],
   "source": [
    "from collections import Counter\n",
    "cores = ['amarelo', 'azul', 'azul', 'vermelho', 'azul', 'verde', 'vermelho']\n",
    "contador = Counter(cores)\n",
    "print(contador)"
   ]
  },
  {
   "cell_type": "markdown",
   "metadata": {
    "colab_type": "text",
    "id": "AXBLc7w8zwQ1"
   },
   "source": [
    "Um   `Counter`  é um   `dict`  e pode receber um objeto iterável ou um mapa como argumento para realizar a contagem de seus elementos.\n"
   ]
  },
  {
   "cell_type": "markdown",
   "metadata": {
    "colab_type": "text",
    "id": "0NTEep5Vz2iw"
   },
   "source": [
    "#### deque\n",
    "O   `deque`  é uma estrutura de dados que fornece uma   fila   com  duas  extremidades  e  é  possível adicionar e remover elementos de ambos os lados:"
   ]
  },
  {
   "cell_type": "code",
   "execution_count": 0,
   "metadata": {
    "colab": {},
    "colab_type": "code",
    "id": "wsfajGNp0AzR"
   },
   "outputs": [],
   "source": [
    "from collections import deque\n",
    "fila = deque()\n",
    "fila.append('1')\n",
    "fila.append('2')\n",
    "fila.append('3')\n",
    "print(len(fila))        #saída: 3\n",
    "fila.pop()              #exclui elemento da direita\n",
    "fila.append('3')        #adiciona elemento na direita\n",
    "fila.popleft()          #exclui elemento da esquerda\n",
    "fila.appendleft('1')    #adiciona elemento na esquerda"
   ]
  },
  {
   "cell_type": "markdown",
   "metadata": {
    "colab_type": "text",
    "id": "n5XXGyWO0Ggp"
   },
   "source": [
    "#### namedtuple\n",
    "A   `namedtuple`, como o nome sugere, são tuplas nomeadas. Não é necessário usar índices inteiros para acessar seus elementos e podemos utilizar strings - similar aos dicionários. Mas ao contrários dos dicionários, `namedtuple`  é imutável:"
   ]
  },
  {
   "cell_type": "code",
   "execution_count": 0,
   "metadata": {
    "colab": {},
    "colab_type": "code",
    "id": "04rRHgTB0PJg"
   },
   "outputs": [],
   "source": [
    "from collections import namedtuple\n",
    "Conta = namedtuple('Conta', 'numero titular saldo limite')\n",
    "conta = Conta('123-4', 'João', 1000.0, 1000.0)\n",
    "print(conta)\n",
    "print(conta.titular)"
   ]
  },
  {
   "cell_type": "markdown",
   "metadata": {
    "colab_type": "text",
    "id": "xyPPTU7f0xk7"
   },
   "source": [
    "Note  que  para  acessar  o  elemento  nomeado  utilizamos  o  operador  `.`  (ponto).  Uma   `namedtuple` posui dois argumentos obrigatórios que são: o nome da tupla e seus campos (separados por vírgula ou espaço).  No  exemplo,  a  tupla  se  chama   `Conta`   e  possui  4  campos:   `numero`, `titular`, `saldo` e `limite`. Como são imutáveis, não podemos modificar os valores de seus campos:"
   ]
  },
  {
   "cell_type": "code",
   "execution_count": 0,
   "metadata": {
    "colab": {},
    "colab_type": "code",
    "id": "MifnJlj10_MC"
   },
   "outputs": [],
   "source": [
    "conta.titular = \"José\""
   ]
  },
  {
   "cell_type": "markdown",
   "metadata": {
    "colab_type": "text",
    "id": "V1KiyQmu1C2A"
   },
   "source": [
    "A  `namedtuple` também é compatível com uma tupla normal. Isso quer dizer que você também pode usar índices inteiros para acessar seus elementos."
   ]
  },
  {
   "cell_type": "code",
   "execution_count": 0,
   "metadata": {
    "colab": {},
    "colab_type": "code",
    "id": "exKUkVRa1Nvm"
   },
   "outputs": [],
   "source": [
    "print(conta[0])"
   ]
  },
  {
   "cell_type": "markdown",
   "metadata": {
    "colab_type": "text",
    "id": "vMCof1lj1RIy"
   },
   "source": [
    "Mais  detalhes  de  cada  uma  dessas estruturas  estão  na  documentação  e  pode  ser  acessada  por  este link: https://docs.python.org/3/library/collections.html.\n",
    "\n",
    "Outra alternativa é usar a função `help(){ }` no\n",
    "objeto para acessar a documentação."
   ]
  },
  {
   "cell_type": "markdown",
   "metadata": {
    "colab_type": "text",
    "id": "-WadxXBc1dqs"
   },
   "source": [
    "### 12.3 COLLECTIONS ABC\n",
    "O módulo   `collections.abc` fornece  classes  abstratas  que  podem  ser  usadas  para  testar  se  uma classe fornece uma interface específica. Por exemplo, se ela é iterável ou não. \n",
    "\n",
    "Imagine que o banco nos entregou um arquivo com vários funcionários e pediu que calculássemos a\n",
    "bonificação  de  cada  um  deles.  Precisamos  acrescentar  este  arquivo  em  nossa  aplicação  para  iniciar  a leitura.\n",
    "\n",
    "Conteúdo do arquivo funcionarios.txt:\n",
    "\n",
    "    João,111111111-11,2500.0\n",
    "    Jose,222222222-22,3500.0\n",
    "    Maria,333333333-33,4000.0\n",
    "    Pedro,444444444-44,2500.0\n",
    "    Mauro,555555555-55,1700.0\n",
    "    Denise,666666666-66,3000.0\n",
    "    Tomas,777777777-77,4200.0\n",
    "\n",
    "Cada linha do arquivo representa um   Funcionario  com seus atributos separados por vírgula. Este arquivo está no padrão Comma-separated-values, também conhecido como `csv` e são comumente usados.\n",
    "\n",
    "O Python dá suporte de leitura para este tipo de arquivo. Então vamos acrescentar o módulo   `csv`  que vai ajudar na tarefa de ler o arquivo:"
   ]
  },
  {
   "cell_type": "code",
   "execution_count": 0,
   "metadata": {
    "colab": {},
    "colab_type": "code",
    "id": "IX8n1B-q1zjo"
   },
   "outputs": [],
   "source": [
    "import csv\n",
    "arquivo = open('funcionario.txt', 'r')\n",
    "leitor = csv.reader(arquivo)\n",
    "for linha in leitor:\n",
    "    print(linha)\n",
    "arquivo.open()"
   ]
  },
  {
   "cell_type": "markdown",
   "metadata": {
    "colab_type": "text",
    "id": "eP9aRQlL14GL"
   },
   "source": [
    "O  programa  acima  abre  um  arquivo  e  um  leitor  do  módulo `csv`, o `reader` -  recebe  o  arquivo como parâmetro e devolve um leitor que vai ler linha a linha e guardar seu conteúdo. Podemos iterar sobre este leitor e pedir para imprimir o conteúdo de cada linha - que é exatamente o que é feito no laço `for`. Por último fechamos o arquivo."
   ]
  },
  {
   "cell_type": "markdown",
   "metadata": {
    "colab_type": "text",
    "id": "9ChZekkK2me2"
   },
   "source": [
    "Repare que o `reader` guarda cada linha de um arquivo em uma lista e cada valor delimitado por vírgula se torna um elemento desta lista o que facilita o acesso aos dados.\n",
    "\n",
    "Agora, com estes dados em mãos, podemos construir nossos objetos de tipo `Funcionario`:"
   ]
  },
  {
   "cell_type": "code",
   "execution_count": 0,
   "metadata": {
    "colab": {},
    "colab_type": "code",
    "id": "Yi9J3VZw2SlO"
   },
   "outputs": [],
   "source": [
    "for linha in reader:\n",
    "    funcionario = Funcionario(linha[0], linha[1], linha[2])"
   ]
  },
  {
   "cell_type": "markdown",
   "metadata": {
    "colab_type": "text",
    "id": "xZOqs_bf2z6o"
   },
   "source": [
    "Mas ainda precisamos de uma estrutura para guardá-los. Vamos utilizar uma lista:"
   ]
  },
  {
   "cell_type": "code",
   "execution_count": 0,
   "metadata": {
    "colab": {},
    "colab_type": "code",
    "id": "oHr3LHu522Ml"
   },
   "outputs": [],
   "source": [
    "funcionarios = []\n",
    "for linha in reader:\n",
    "    funcionario = Funcionario(linha[0], linha[1], linha[2])\n",
    "    funcionarios.append(funcionario)"
   ]
  },
  {
   "cell_type": "markdown",
   "metadata": {
    "colab_type": "text",
    "id": "4OnZA83f27dS"
   },
   "source": [
    "E por fim imprimimos os saldos da lista:"
   ]
  },
  {
   "cell_type": "code",
   "execution_count": 0,
   "metadata": {
    "colab": {},
    "colab_type": "code",
    "id": "e8CbK_x92-oL"
   },
   "outputs": [],
   "source": [
    "for f in funcionarios:\n",
    "    print(f.saldo)"
   ]
  },
  {
   "cell_type": "markdown",
   "metadata": {
    "colab_type": "text",
    "id": "PCGMjQ6l3Ayd"
   },
   "source": [
    "Acontece que nada impede, posteriormente, de inserirmos nesta lista qualquer outro objeto que não um funcionário:"
   ]
  },
  {
   "cell_type": "code",
   "execution_count": 0,
   "metadata": {
    "colab": {},
    "colab_type": "code",
    "id": "0WBZrwsC3FzF"
   },
   "outputs": [],
   "source": [
    "funcionarios.append('Python')\n",
    "funcionarios.append(1234)\n",
    "funcionarios.append(True)"
   ]
  },
  {
   "cell_type": "markdown",
   "metadata": {
    "colab_type": "text",
    "id": "OId71tBd3J3U"
   },
   "source": [
    "A `list` da  biblioteca  padrão  aceita  qualquer  tipo  de  objeto  como  elemento.\n",
    "\n",
    "Não  queremos  este comportamento já que iremos calcular a bonificação de cada um deles e dependendo do tipo de objetos inserido na lista, gerará erros.\n",
    "\n",
    "O ideal é que tivéssemos uma estrutura de dados que aceitasse apenas objetos de tipo `Funcionario`. O módulo  `collections.abc`  fornece classes abstratas que nos ajudam a construir estruturas específicas, com características da regra de negócio da aplicação."
   ]
  },
  {
   "cell_type": "markdown",
   "metadata": {
    "colab_type": "text",
    "id": "YG_NggJf3hcF"
   },
   "source": [
    "### 12.4 CONSTRUINDO UM CONTAINER\n",
    "O módulo  `collections.abc` possui uma classe absrata chamada  `Container` > Um   container  é\n",
    "qualquer  objeto  que  contém  um  número arbitrário  de  outros  objetos.  Listas,  tuplas,  conjuntos  e dicionários  são  tipos  de  containers.  A  classe   `Container` suporta  o  operador `in` com  o  método `__contains__`."
   ]
  },
  {
   "cell_type": "markdown",
   "metadata": {
    "colab_type": "text",
    "id": "r2Ykr5Fo3xNn"
   },
   "source": [
    "Precisamos construir um container de objetos de tipo  `Funcionario`. Podemos construir uma classe que representará essa estrutura que deve ser subclasse de `Container`:"
   ]
  },
  {
   "cell_type": "code",
   "execution_count": 0,
   "metadata": {
    "colab": {},
    "colab_type": "code",
    "id": "Xyre0HIN37xU"
   },
   "outputs": [],
   "source": [
    "from collections.abc import Container\n",
    "class Funcionarios(Container):\n",
    "    pass"
   ]
  },
  {
   "cell_type": "code",
   "execution_count": 0,
   "metadata": {
    "colab": {},
    "colab_type": "code",
    "id": "pcAYnUM839w7"
   },
   "outputs": [],
   "source": [
    "funcionarios = Funcionarios()"
   ]
  },
  {
   "cell_type": "markdown",
   "metadata": {
    "colab_type": "text",
    "id": "wmU85Csb4BN0"
   },
   "source": [
    "O código acima acusa um `TypeError`\n",
    "\n",
    "Precisamos  implementar  o  método   `__contains__`   já  que   `Funcionarios`   deve  implementar  a classe abstrata   `Container`. A ideia é que nosso container se comporte como uma lista, então teremos\n",
    "um atributo do tipo lista em nossa classe para guardar os objetos e implementar o método `contains`:"
   ]
  },
  {
   "cell_type": "code",
   "execution_count": 0,
   "metadata": {
    "colab": {},
    "colab_type": "code",
    "id": "yy3kHS5N4Ou0"
   },
   "outputs": [],
   "source": [
    "from collections.abc import Container\n",
    "class Funcionarios(Container):\n",
    "    _dados = []\n",
    "    def __contains__(self, posicao):\n",
    "        return self._dados.__contains__(self, posicao)"
   ]
  },
  {
   "cell_type": "code",
   "execution_count": 0,
   "metadata": {
    "colab": {},
    "colab_type": "code",
    "id": "hByjxzOB4Rg9"
   },
   "outputs": [],
   "source": [
    "funcionarios = Funcionarios()"
   ]
  },
  {
   "cell_type": "markdown",
   "metadata": {
    "colab_type": "text",
    "id": "FNXtNVIC4Ux4"
   },
   "source": [
    "### 12.5 SIZED\n",
    "O tamanho do nosso container também é uma informação importante. Nossa classe  `Funcionarios` deve saber retornar esse valor. \n",
    "\n",
    "Utilizamos a classe abstrata `Sized`  para garantir essa funcionalidade. A classe  `Sized`  provê o método  `len()`  através do método especial `__len__()`:"
   ]
  },
  {
   "cell_type": "code",
   "execution_count": 0,
   "metadata": {
    "colab": {},
    "colab_type": "code",
    "id": "iKHTkSP34hgG"
   },
   "outputs": [],
   "source": [
    "from collections.abc import Container\n",
    "class Funcionarios(Container, Sized):\n",
    "    _dados = []\n",
    "    def __contains__(self, posicao):\n",
    "        return self._dados.__contains__(self, posicao)\n",
    "    def __len__(self):\n",
    "        return len(self._dados)"
   ]
  },
  {
   "cell_type": "code",
   "execution_count": 0,
   "metadata": {
    "colab": {},
    "colab_type": "code",
    "id": "hxQsuwM04niZ"
   },
   "outputs": [],
   "source": [
    "funcionarios = Funcionarios()"
   ]
  },
  {
   "cell_type": "markdown",
   "metadata": {
    "colab_type": "text",
    "id": "lhXWleU44qsk"
   },
   "source": [
    "### 12.6 ITERABLE\n",
    "Além  de  conter  objetos  e  saber  retornar  a  quantidade  de  seus  elementos,  queremos  que  nosso container seja iterável, ou seja, que consigamos iterar sobre seus elementos em um laço for, por exemplo.\n",
    "\n",
    "O módulo   `collection.abc`   também  provê  uma  classe  abstrata  para  este  comportamento,  é  a  classe `Iterable`. `Iterable`  suporta iteração com o método  `__iter__`:"
   ]
  },
  {
   "cell_type": "code",
   "execution_count": 0,
   "metadata": {
    "colab": {},
    "colab_type": "code",
    "id": "YqC70zyI49W3"
   },
   "outputs": [],
   "source": [
    "from collections.abc import Container\n",
    "class Funcionarios(Container, Sized, Iterable):\n",
    "    _dados = []\n",
    "    def __contains__(self, posicao):\n",
    "        return self._dados.__contains__(self, posicao)\n",
    "    def __len__(self):\n",
    "        return len(self._dados)\n",
    "    def __iter__(self):\n",
    "        return self._dados.__iter__(self)"
   ]
  },
  {
   "cell_type": "code",
   "execution_count": 0,
   "metadata": {
    "colab": {},
    "colab_type": "code",
    "id": "P48odYUl5BGQ"
   },
   "outputs": [],
   "source": [
    "funcionarios = Funcionarios()"
   ]
  },
  {
   "cell_type": "markdown",
   "metadata": {
    "colab_type": "text",
    "id": "LJXZZouz5Iks"
   },
   "source": [
    "Toda coleção deve herdar dessas classes ABCs:  `Container`, `Iterable` e `Sized`. Ou implementar seus protocolos:  `__contains__`, `__iter__` e `__len__`.\n",
    "\n",
    "Além  dessas  classes  existem  outras  que  facilitam  esse  trabalho  e  implementam  outros  protocolos.\n",
    "\n",
    "Veja a hierarquia de classe do módulo `collections.abc`:\n",
    "\n",
    "Figura 13.1: legenda da imagem\n",
    "\n",
    "\n",
    "Além do que já foi implementado, a ideia é que nossa classe  `Funcionario` funcione como uma lista contando  apenas  objetos  do  tipo   `Funcionario`. Como  aprendemos  no  capítulo  4,  uma  lista  é  uma sequência. Além de uma sequência, é uma sequência mutável - podemos adicionar elementos em uma lista. Nossa classe  `Funcionario` também deve possuir essa funcionalidade.\n",
    "\n",
    "Segundo o diagrama de classes do módulo  `collections.abc`, a classe que representa essa estrutura é  a    `MutableSequence`.  Note  que `MutableSequece` herda  de `Sequence` que representa  uma sequência; que por sua vez herda de `Container`, `Iterable` e `Sized`.\n",
    "\n",
    "Figura 13.2: legenda da imagem\n",
    "\n",
    "Portanto,  devemos  implementar  5  métodos  abstratos  (em  itálico  na  imagem)  segundo  a\n",
    "documentação de   `MutableSequence`: `__len__`, `__getitem__`, `__setitem__`, `__delitem__` e `insert`. O método  `__getitem__`  garante que a classe é um  `Container`  e  `Iterable`. \n",
    "\n",
    "Segundo a `PEP 234` (https://www.python.org/dev/peps/pep-0234/)  um  objeto  pode  ser  iterável  com  um  laço  `for`  se implementa  `__iter__` ou `__getitem__`.\n",
    "\n",
    "Então, basta nossa classe `Funcionario` herdar de `MutableSequence` e implementar seus métodos\n",
    "abstratos:"
   ]
  },
  {
   "cell_type": "code",
   "execution_count": 0,
   "metadata": {
    "colab": {},
    "colab_type": "code",
    "id": "mfMR5OWy6F6B"
   },
   "outputs": [],
   "source": [
    "class Funcionarios(MutableSequence):\n",
    "    _dados = []\n",
    "    def __len__(self):\n",
    "        return len(self._dados)\n",
    "    def __getitem__(self, posicao):\n",
    "        return self._dados[posicao]\n",
    "    def __setitem__(self, posicao, valor):\n",
    "        self._dados[posicao] = valor\n",
    "    def __delitem__(self, posicao):\n",
    "        del self._dados[posicao]\n",
    "    def insert(self, posicao, valor):\n",
    "        return self._dados.insert(posicao, valor)"
   ]
  },
  {
   "cell_type": "markdown",
   "metadata": {
    "colab_type": "text",
    "id": "nghpK72C6Su0"
   },
   "source": [
    "E  podemos  voltar  ao  nosso  código  para  acrescentar  os  dados  de  um  arquivo  em  nosso  container `Funcionarios`:"
   ]
  },
  {
   "cell_type": "code",
   "execution_count": 0,
   "metadata": {
    "colab": {},
    "colab_type": "code",
    "id": "wadCk1yd6YgX"
   },
   "outputs": [],
   "source": [
    "import csv\n",
    "arquivo = open('funcionario.txt', 'r')\n",
    "leitor = csv.reader(arquivo)\n",
    "funcionarios = Funcionarios()\n",
    "for linha in leitor:\n",
    "    funcionario = Funcionario(linha[0], linha[1], linha[2])\n",
    "    funcionarios.append(funcionario)\n",
    "arquivo.open()"
   ]
  },
  {
   "cell_type": "markdown",
   "metadata": {
    "colab_type": "text",
    "id": "nqFXZKMA6dlI"
   },
   "source": [
    "O método   `insert()` garante  o funcionamento  do  método `append()`. E  podemos  imprimir  os valores dos salários de cada funcionário:"
   ]
  },
  {
   "cell_type": "code",
   "execution_count": 0,
   "metadata": {
    "colab": {},
    "colab_type": "code",
    "id": "H_AxUvpY6m2P"
   },
   "outputs": [],
   "source": [
    "for f in funcionarios:\n",
    "    print(f.salario)"
   ]
  },
  {
   "cell_type": "markdown",
   "metadata": {
    "colab_type": "text",
    "id": "cPmAkx5p6mWJ"
   },
   "source": [
    "Mas até aqui não há nada de diferente de uma lista comum. Ainda não há nada que impeça de inserir qualquer outro objeto em nossa lista. Nossa classe `Funcionarios`  se comporta como uma lista comum.\n",
    "\n",
    "A  ideia  de  implementarmos  as  interfaces  de   `collections.abc`   era  exatamente  modificar  alguns comportamentos.\n",
    "\n",
    "Queremos que nossa lista de funcionários apenas aceite objetos  `Funcionario`. Vamos sobrescrever os métodos  `__setitem__()`  que atribuiu um valor em determinada posição na lista. Este método pode apenas atribuir a uma determinada posição um objeto  `Funcionario`.\n",
    "\n",
    "Para isso, vamos usar o método `isinstance()` que vai verificar se o objeto a ser atribuído é uma instância  de `Funcionario`.  Caso  contrário,  vamos  lançar  uma  exceção    `TypeError` com  uma mensagem de erro:"
   ]
  },
  {
   "cell_type": "code",
   "execution_count": 0,
   "metadata": {
    "colab": {},
    "colab_type": "code",
    "id": "mkrWUF-96_sl"
   },
   "outputs": [],
   "source": [
    "def __setitem__(self, posicao, valor):\n",
    "    if (isinstance(valor, Funcionario)):\n",
    "        self._dados[posicao] = valor\n",
    "    else:\n",
    "        raise ValueError('Valor atribuído não é um Funcionario')"
   ]
  },
  {
   "cell_type": "markdown",
   "metadata": {
    "colab_type": "text",
    "id": "1c1bJdkY7CbA"
   },
   "source": [
    "Agora,  ao  tentar  atribuir  uma  valor  a  determinada  posição  de  nossa  lista,  recebemos  um `TypeError`:"
   ]
  },
  {
   "cell_type": "code",
   "execution_count": 0,
   "metadata": {
    "colab": {},
    "colab_type": "code",
    "id": "P78WgMyK7GST"
   },
   "outputs": [],
   "source": [
    "funcionarios[0] = 'Python'"
   ]
  },
  {
   "cell_type": "markdown",
   "metadata": {
    "colab_type": "text",
    "id": "CoNQTfTl7K6s"
   },
   "source": [
    "Faremos o mesmo com o método  `insert()`:"
   ]
  },
  {
   "cell_type": "code",
   "execution_count": 0,
   "metadata": {
    "colab": {},
    "colab_type": "code",
    "id": "gmuqykDP7O-g"
   },
   "outputs": [],
   "source": [
    "def insert(self, posicao, valor):\n",
    "    if(isinstance(valor, Funcionario)):\n",
    "        return self._dados.insert(posicao, valor)\n",
    "    else:\n",
    "        raise ValueError('Valor inserido não é um Funcionario')"
   ]
  },
  {
   "cell_type": "markdown",
   "metadata": {
    "colab_type": "text",
    "id": "AJGzXnxy7T_K"
   },
   "source": [
    "E podemos testar nossa classe imprimindo não apenas o salário mas o valor da bonificação de cada `Funcionario` através do método `get_bonificacao()`  que definimos nos capítulos passados:"
   ]
  },
  {
   "cell_type": "code",
   "execution_count": 0,
   "metadata": {
    "colab": {},
    "colab_type": "code",
    "id": "-OkF71c07esa"
   },
   "outputs": [],
   "source": [
    "import csv\n",
    "arquivo = open('funcionario.txt', 'r')\n",
    "leitor = csv.reader(arquivo)\n",
    "funcionarios = Funcionarios()\n",
    "for linha in leitor:\n",
    "    funcionario = Funcionario(linha[0], linha[1], linha[2])\n",
    "    funcionarios.append(funcionario)\n",
    "print('salário - bonificação')    \n",
    "for c in contas:\n",
    "    print('{} - {}'.formar(f.salario, f.get_bonificacao()))    \n",
    "arquivo.open()"
   ]
  },
  {
   "cell_type": "markdown",
   "metadata": {
    "colab_type": "text",
    "id": "XzQyEX1N7oz2"
   },
   "source": [
    "As classes ABCs foram criadas para encapsular conceitos genéricos e abstrações como aprendemos\n",
    "no  capítulo  de  classes  abstratas.  São  comumente  utilizadas  em  grandes  aplicações  e  frameworks  para garantir a consistência do sistema através dos métodos  `isinstance()` e `issubclass()`. No dia a dia é raramente usado e basta o uso correto das estruturas já fornecidas pela biblioteca padrão do Python para\n",
    "a maior parte das tarefas.\n",
    "\n",
    "Conhecer o módulo collections.abc é (hahahah estava assim na apostila!)"
   ]
  },
  {
   "cell_type": "markdown",
   "metadata": {
    "colab_type": "text",
    "id": "WMs0GsRZ81An"
   },
   "source": [
    "### 12.7 EXERCÍCIO: CRIANDO NOSSA SEQUÊNCIA\n",
    "1.  Vá na pasta no curso e copie o arquivo  contas.txt  na pasta   src  do projeto   banco  que contém vários dados de contas correntes de clientes do banco.\n",
    "\n",
    "2.  Crie um arquivo chamado contas.py  na  pasta   src   do  projeto   banco .  Crie  uma  classe  chamada Contas  que herde da classe abstrata  MutableSequence :\n",
    "\n",
    "        from collections.abc import Sequence\n",
    "        class Contas(MutableSequence):\n",
    "            pass\n",
    "3.  Vamos criar um atributo da classe do tipo  list  para armazenar nossas contas:\n",
    " from collections.abc import MutableSequence\n",
    " class Contas(MutableSequence):\n",
    "     _dados = []\n",
    "4.  Tente instanciar um objeto de tipo  Contas :\n",
    "\f",
    ".\n",
    " if __name__=='__main__':\n",
    "     contas = Contas()\n",
    "Note  que  não  podemos  instanciar  este  objeto.  A  interface    MutableSequence    nos  obriga  a\n",
    "implementar alguns métodos:\n",
    " Traceback (most recent call last):\n",
    "   File <stdin>, line 44, in <module>\n",
    "     contas = Contas()\n",
    " TypeError: Can't instantiate abstract class Contas with abstract methods __delitem__, __getitem__\n",
    ", __len__, __setitem__, insert\n",
    "5.  Implemente os métodos exigidos pela interface  MutableSequence  na classe  Contas :\n",
    " from collections.abc import MutableSequence\n",
    " class Contas(MutableSequence):\n",
    "     _dados = []\n",
    "     def __len__(self):\n",
    "         return len(self._dados)\n",
    "     def __getitem__(self, posicao):\n",
    "         return self._dados[posicao]\n",
    "     def __setitem__(self, posicao, valor):\n",
    "         self._dados[posicao] = valor\n",
    "     def __delitem__(self, posicao):\n",
    "         del self._dados[posicao]\n",
    "     def insert(self, posicao, valor):\n",
    "         return self._dados.insert(posicao, valor)\n",
    "Agora conseguimos instanciar nossa classe sem nenhum erro:\n",
    " if __name__=='__main__':\n",
    "     contas = Contas()\n",
    "6.  Nossa sequência só deve permitir adicionar elementos que sejam do tipo  Conta . Vamos acrescentar\n",
    "essa validação nos métodos   __setitem__  e   insert . Caso o valor não seja uma   Conta ,  vamos\n",
    "lançar um  ValueError  com as devidas mensagens de erro:\n",
    " def __setitem__(self, posicao, valor):\n",
    "     if (isinstance(valor, Conta)):\n",
    "         self._dados[posicao] = valor\n",
    "     else:\n",
    "         raise ValueError(\"valor atribuído não é uma conta\")\n",
    " def insert(self, posicao, valor):\n",
    "     if(isinstance(valor, Conta)):\n",
    "         return self._dados.insert(posicao, valor)\n",
    "     else:\n",
    "         raise ValueError('valor inserido não é uma conta')\n",
    "7.  Vamos iniciar a leitura dos dados do arquivo para armazenar em nosso objeto  contas :\n",
    " if __name__=='__main__':\n",
    "     import csv\n",
    "     contas = Contas()\n",
    "     arquivo = open('contas.txt', 'r')\n",
    "     leitor = csv.reader(arquivo)\n",
    "     arquivo.close()\n",
    "8.  Vamos  criar  uma  laço  for  para  ler  cada  linha  do  arquivo  e  construir  um  objeto  do  tipo\n",
    " ContaCorrente .\n",
    " if __name__=='__main__':\n",
    "     import csv\n",
    "     from conta import ContaConrrete\n",
    "     contas = Contas()\n",
    "     arquivo = open('contas.txt', 'r')\n",
    "     leitor = csv.reader(arquivo)\n",
    "     for linha in leitor:\n",
    "         conta = ContaCorrente(linha[0], linha[1], linha[2], linha[3])\n",
    "     arquivo.close()\n",
    "9.  Queremos inserir cada conta criada em nossa sequência mutável   contas . Vamos pedir para que o\n",
    "programa acrescente cada conta criada em contas:\n",
    " for linha in leitor:\n",
    "     conta = ContaCorrente(linha[0], linha[1], float(linha[2]))\n",
    "     contas.append(conta)\n",
    " arquivo.close()\n",
    "10.  Nossa  classe   Contas   implementa   MutableSequence .  Isso  quer  dizer  que  ela  é  iterável  já  que\n",
    " MutableSequence  implementa o protocolo   __iter__  através do método   __getitem__ . Vamos\n",
    "iterar  através  de  uma  laço  for  nosso  objeto   contas   e  pedir  para  imprimir  o  saldo  e  o  valor  do\n",
    "imposto de cada uma delas:\n",
    " if __name__ == '__main__':\n",
    "     #código omitido\n",
    "     arquivo.close()\n",
    "     print('saldo -  imposto')\n",
    "     for c in contas:\n",
    "         print('{} - {}'.format(c.saldo, c.get_valor_imposto()))\n",
    "Que vai gerar a saída:\n",
    " saldo  - imposto\n",
    " 1200.0 - 12.0\n",
    " 2200.0 - 22.0\n",
    " 1500.0 - 15.0\n",
    " 5300.0 - 53.0\n",
    " 7800.0 - 78.0\n",
    "\f",
    ".\n",
    " 1700.0 - 17.0\n",
    " 2300.0 - 23.0\n",
    " 8000.0 - 80.0\n",
    " 4600.0 - 46.0\n",
    " 9400.0 - 94.0\n",
    "11.  (Opcional)  Modifique  o  código  do  exercício  anterior  de  modo  que  imprima  o  valor  do  saldo\n",
    "atualizado das contas.\n",
    "12.  (Opcional)  Faça  o  mesmo  com  as  contas  poupanças.  Crie  um  arquivo  com  extensão   .csv   com\n",
    "algumas  contas  poupanças,  faça  a  leitura,  construa  os  objetos  e  acrescente  em  uma  estrutura  de\n",
    "dados do tipo  MutableSequence .\n",
    "13.  (Opcional) Refaça o exercício utilizando  MutableMapping  ao invés de  MutableSequence ."
   ]
  }
 ],
 "metadata": {
  "colab": {
   "collapsed_sections": [
    "MUrJolt2-aD-",
    "3NqZ-0r1_q54",
    "RQ33gi3tDYEG",
    "nHDNPdbAFPh1",
    "ZhENGRztLHtI",
    "RCy0rjvJNXe4",
    "Uxbidv3xYPq7",
    "6yOIodPpbR6W",
    "ewCTTwW9c8iJ",
    "_louaPl3eq5r",
    "9eWtCzypfZGx",
    "t4nxmF1hjXsj",
    "r7BK-qFsktm5",
    "YEhH95O6iQ-J",
    "vN3yymMnkJJI",
    "-zT5izhklP47",
    "2oAom-dSljYS",
    "WjhzraVwmTWf",
    "2XyYPb_9mcUy",
    "U_oT0D5lK6g0",
    "PplhZST5N23M",
    "ascok5l4PHvW",
    "vjYownPjTGoh",
    "gVsP3_yGTqsA",
    "3CKu4tXrXbbs",
    "BKB4T2xOYQEP",
    "qx5zVH1MYP5A",
    "M2T54kleV5Tm",
    "L8S_l9K0gKlg",
    "DgKQHFOvh7a8",
    "sunWFmSkrWGV",
    "2lEfnXqks2Re",
    "tgIIPjRwt9rB",
    "O61Ni4k8uqbu",
    "uNqJNfQHwkzb",
    "AishUjoGzaYk",
    "6d6kpgatqA30",
    "Ix7v3Pztq3H0",
    "kRHVTDcftEg8",
    "FuxefMQktkFQ",
    "e02PM6ebt4xi",
    "Gb5d8Ds2uFoj",
    "_oLcDxyXuOqp",
    "OBPMn6s1vjeY",
    "oU_lctuJvkad",
    "SexMNv3YxHRI",
    "4ydBnFxPx93t",
    "dD_ll8EozLcD",
    "Y2jIpz8XznFX",
    "0NTEep5Vz2iw",
    "n5XXGyWO0Ggp",
    "-WadxXBc1dqs",
    "YG_NggJf3hcF",
    "FNXtNVIC4Ux4",
    "lhXWleU44qsk",
    "WMs0GsRZ81An",
    "_CuEWMIHAtBX",
    "QUtt8tjrBE-J",
    "vbrd9w31BeTB",
    "qUp89EGuBeII",
    "apu1fbOYB5Sy",
    "DGRgurSOCM9S",
    "Dq1idRRXCh3J"
   ],
   "name": "Parte_2.ipynb",
   "provenance": []
  },
  "kernelspec": {
   "display_name": "Python 3",
   "language": "python",
   "name": "python3"
  },
  "language_info": {
   "codemirror_mode": {
    "name": "ipython",
    "version": 3
   },
   "file_extension": ".py",
   "mimetype": "text/x-python",
   "name": "python",
   "nbconvert_exporter": "python",
   "pygments_lexer": "ipython3",
   "version": "3.7.6"
  }
 },
 "nbformat": 4,
 "nbformat_minor": 1
}
