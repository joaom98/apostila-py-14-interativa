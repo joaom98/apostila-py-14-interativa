{
 "cells": [
  {
   "cell_type": "markdown",
   "metadata": {
    "colab_type": "text",
    "id": "mk8OnE7A1Vsw"
   },
   "source": [
    "# DISCLAIMER\n",
    "\n",
    "\n",
    "\n",
    "---\n",
    "\n",
    "Esse documento ainda precisa passar por revisões e ser aprovado para que possa ser publicado e compartilhado.\n",
    "\n",
    "Esse documento ainda não representa a ideia final e está sujeito a mudanças.\n",
    "\n",
    "---\n",
    "\n"
   ]
  },
  {
   "cell_type": "markdown",
   "metadata": {
    "colab_type": "text",
    "id": "2XyYPb_9mcUy"
   },
   "source": [
    "# CAPÍTULO 9\n",
    "## HERANÇA E POLIMORFISMO\n",
    "### 10.1 REPETINDO CÓDIGO?\n",
    "Como  toda  empresa,  nosso  banco  possui funcionários.  Um  funcionário  tem  um  nome,  um  cpf  e  um salário. Vamos modelar a classe `Funcionario`:"
   ]
  },
  {
   "cell_type": "code",
   "execution_count": 0,
   "metadata": {
    "colab": {},
    "colab_type": "code",
    "id": "YwcUu7bYHdrV"
   },
   "outputs": [],
   "source": [
    "class Funcionario:\n",
    "    def __init__(self, nome, cpf, salario):\n",
    "        self._nome = nome\n",
    "        self._cpf = cpf\n",
    "        self._salario = salario\n",
    "    # outros métodos e propriedades"
   ]
  },
  {
   "cell_type": "markdown",
   "metadata": {
    "colab_type": "text",
    "id": "d6DxqVJpHrli"
   },
   "source": [
    "Além de um funcionário comum, há também outros cargos, como os gerentes. Os gerentes guardam a mesma  informação  que  um  funcionário  comum,  mas possuem  outras  informações,  além  de  ter funcionalidades um pouco diferentes. Um gerente no nosso banco possui também uma senha numérica que permite o acesso ao sistema interno do banco, além do número de funcionários que ele gerencia:"
   ]
  },
  {
   "cell_type": "code",
   "execution_count": 0,
   "metadata": {
    "colab": {},
    "colab_type": "code",
    "id": "ADUtaUGtHrMV"
   },
   "outputs": [],
   "source": [
    "class Gerente:\n",
    "    def __init__(self, nome, cpf, salario, senha, qtd_gerenciados):\n",
    "        self._nome = nome\n",
    "        self._cpf = cpf\n",
    "        self._salario = salario\n",
    "        self._senha = senha\n",
    "        self._qtd_gerenciados = qtd_gerenciados\n",
    "    def autentica(self, senha):\n",
    "        if self._senha == senha\n",
    "            print(\"acesso permitido\")\n",
    "            return True\n",
    "        else:\n",
    "           print(\"acesso negado\")\n",
    "           return False\n",
    "    # outros métodos (comuns a um Funcionario)"
   ]
  },
  {
   "cell_type": "markdown",
   "metadata": {
    "colab_type": "text",
    "id": "tWEmJfjTICd1"
   },
   "source": [
    "Se  tivéssemos  um  outro  tipo  de  funcionário  que  tem  características  diferentes  do  funcionário\n",
    "comum, precisaríamos criar uma outra classe e copiar o código novamente.\n",
    "\n",
    "Além  disso,  se  um  dia  precisarmos  adicionar  uma  nova  informação  para  todos  os  funcionários,\n",
    "precisaremos passar por todas as classes de funcionário e adicionar esse atributo. O problema acontece novamente por não centralizarmos as informações principais do funcionário em um único lugar!\n",
    "\n",
    "Existe um jeito de relacionarmos uma classe de tal maneira que uma delas herda tudo que o outra tem.Isto  é  uma  relação  de  herança,  uma relação  entre  classe  'mãe'  e  classe  'filha'.\n",
    "\n",
    "No  nosso  caso, gostaríamos de fazer com que   `Gerente`  tivesse tudo que um   `Funcionario`  tem, gostaríamos que ela fosse uma extensão de  `Funcionario`. Fazemos isso acrescentando a classe mãe entre parenteses junto a\n",
    "classe filha:"
   ]
  },
  {
   "cell_type": "code",
   "execution_count": 0,
   "metadata": {
    "colab": {},
    "colab_type": "code",
    "id": "b0mjqJIZI6-M"
   },
   "outputs": [],
   "source": [
    "class Gerente(Funcionario):\n",
    "    def __init__(self, senha, qtd_funcionarios):\n",
    "        self._senha = senha\n",
    "        self._qtd_funcionarios = qtd_funcionarios\n",
    "    def autentica(self, senha):\n",
    "        if self._senha == senha:\n",
    "            print(\"acesso permitido\")\n",
    "            return True\n",
    "        else:\n",
    "            print(\"acesso negado\")              \n",
    "            return False"
   ]
  },
  {
   "cell_type": "markdown",
   "metadata": {
    "colab_type": "text",
    "id": "XJlpu4XbI-U6"
   },
   "source": [
    "Todo momento que criarmos um objeto do tipo `Gerente`  queremos que este objeto também herde\n",
    "os atributos definidos na classe  `Funcionario` , pois um `Gerente` é um `Funcionário`.\n",
    "\n",
    "Como  a  classe   `Gerente`   já  possui  um  método   `__init__()`   com  outros  atributos,  o  método  da classe   `Funcionario`   é  sobrescrito  pelo   `Gerente`.  Se  queremos  incluir  os  mesmos  atributos  de instância  de    `Funcionario`    em  um    `Gerente`    devemos  chamar  o  método    `__init__()` de `Funcionario`  dentro do método  `__init__()`  de `Gerente`:"
   ]
  },
  {
   "cell_type": "code",
   "execution_count": 0,
   "metadata": {
    "colab": {},
    "colab_type": "code",
    "id": "k61S5Fh7JewL"
   },
   "outputs": [],
   "source": [
    "class Gerente(Funcionario):\n",
    "    def __init__(self, senha, qtd_funcionarios):\n",
    "        Funcionario.__init__(nome, cpf, salario)\n",
    "        self._senha = senha\n",
    "        self._qtd_funcionarios = qtd_funcionarios\n",
    "    def autentica(self, senha):\n",
    "        if self._senha == senha:\n",
    "            print(\"acesso permitido\")\n",
    "            return True\n",
    "        else:\n",
    "            print(\"acesso negado\")              \n",
    "            return False"
   ]
  },
  {
   "cell_type": "markdown",
   "metadata": {
    "colab_type": "text",
    "id": "fq2ObaI_Juc5"
   },
   "source": [
    "Dizemos que a classe   `Gerente`  herda todos os atributos e métodos da classe mãe, no nosso caso, a `Funcionario`. Como Python tem tipagem dinâmica,  precisamos garantir isso através do construtor da\n",
    "classe. Além de  `senha`  e  `qtd_funcionarios`  passamos também os atributos  `nome` ,  `cpf`  e   `salario` que todo funcionário tem:"
   ]
  },
  {
   "cell_type": "code",
   "execution_count": 0,
   "metadata": {
    "colab": {},
    "colab_type": "code",
    "id": "o6WunVX6KGVM"
   },
   "outputs": [],
   "source": [
    "class Gerente(Funcionario):\n",
    "    def __init__(self, nome, cpf, salario, senha, qtd_funcionarios):\n",
    "        self._senha = senha\n",
    "        self._qtd_funcionarios = qtd_funcionarios"
   ]
  },
  {
   "cell_type": "markdown",
   "metadata": {
    "colab_type": "text",
    "id": "rBk1DtbCKJsv"
   },
   "source": [
    "Como  estes  são  atributos  de  um   `Funcionario`   e  não  queremos  repetir  o  código  do  método\n",
    " `__init__()`  de  `Funcionario`  dentro da classe  `Gerente` , podemos chamar este método da classe mãe\n",
    "como fizemos no exemplo acima ou podemos utilizar um método do Python chamado `super()`:"
   ]
  },
  {
   "cell_type": "code",
   "execution_count": 0,
   "metadata": {
    "colab": {},
    "colab_type": "code",
    "id": "Vne4M3o-KibO"
   },
   "outputs": [],
   "source": [
    "class Gerente(Funcionario):\n",
    "    def __init__(self, nome, cpf, salario, senha, qtd_funcionarios):\n",
    "        super().__init__(nome, cpf, salario)\n",
    "        self._senha = senha\n",
    "        self._qtd_funcionarios = qtd_funcionarios"
   ]
  },
  {
   "cell_type": "markdown",
   "metadata": {
    "colab_type": "text",
    "id": "lsJQw2OjKniE"
   },
   "source": [
    "Para  ser  mais  preciso,  ela  também  herda  os  atributos  e  métodos  'privados'  de   `Funcionario`.\n",
    "\n",
    "O `super()` é  usado  para  fazer  referência  a  superclasse,  a  classe  mãe  -  no  nosso  exemplo  a  classe `Funcionario`."
   ]
  },
  {
   "cell_type": "markdown",
   "metadata": {
    "colab_type": "text",
    "id": "U_oT0D5lK6g0"
   },
   "source": [
    "### PARA SABER MAIS: SUPER E SUB CLASSE\n",
    "A nomenclatura mais encontrada é que `Funcionario` é a superclasse de `Gerente`, e `Gerente` é a subclasse  de  `Funcionario`.  Dizemos  também  que  todo  `Gerente`  é um  `Funcionario`.  Outra  forma  é\n",
    "dizer que `Funcionario` é a classe mãe de `Gerente` e `Gerente` é a classe filha de Funcionario.\n",
    "\n",
    "Da  mesma  maneira,  podemos  ter  uma  classe    `Diretor`    que  estenda    `Gerente`    e  a  classe\n",
    " `Presidente`   pode  estender  diretamente  de  `Funcionario` .  Fique  claro  que  essa  é  uma relação  de negócio.  Se   `Diretor`   vai  estender  de   `Gerente`   ou  não,  vai  depender,  para  você,   `Diretor`   é  um `Gerente`?"
   ]
  },
  {
   "cell_type": "markdown",
   "metadata": {
    "colab_type": "text",
    "id": "PplhZST5N23M"
   },
   "source": [
    "### 9.2 REESCRITA DE MÉTODOS\n",
    "Todo  fim  de  ano,  os  funcionários  do  nosso  banco  recebem  uma  bonificação.  Os  funcionários comuns recebem 10% do valor do salário e os gerentes, 15%.\n",
    "\n",
    "Vamos ver como fica a classe  `Funcionario`:"
   ]
  },
  {
   "cell_type": "code",
   "execution_count": 0,
   "metadata": {
    "colab": {},
    "colab_type": "code",
    "id": "tfL4qnZnK0cT"
   },
   "outputs": [],
   "source": [
    "class Funcionario:\n",
    "    def __init__(self, nome, cpf, salario):\n",
    "        self._nome = nome\n",
    "        self._cpf = cpf\n",
    "        self._salario = salario\n",
    "    # outros métodos e propriedades\n",
    "    def get_bonificacao(self):\n",
    "        return self._salario * 0.10"
   ]
  },
  {
   "cell_type": "markdown",
   "metadata": {
    "colab_type": "text",
    "id": "0e_w_QfuOKuR"
   },
   "source": [
    "Se deixarmos a classe  Gerente  como ela está, ela vai herdar o método  `get_bonificacao()`: "
   ]
  },
  {
   "cell_type": "code",
   "execution_count": 0,
   "metadata": {
    "colab": {},
    "colab_type": "code",
    "id": "CHexWnklOQRm"
   },
   "outputs": [],
   "source": [
    "gerente = Gerente('José', '222222222-22', 5000.0, '1234', 0)\n",
    "print(gerente.get_bonificacao())"
   ]
  },
  {
   "cell_type": "markdown",
   "metadata": {
    "colab_type": "text",
    "id": "NB2AXKyTOUtE"
   },
   "source": [
    "O resultado aqui será `500`. Não queremos essa resposta, pois o gerente deveria ter `750` de bônus nesse caso. Para consertar isso, uma das opções seria criar um novo método na classe  `Gerente` , chamado, por exemplo,  `get_bonificacao_do_gerente()`. O problema é que teríamos dois métodos em `Gerente`,confundindo  bastante  quem  for  usar  essa  classe,  além  de  que  cada  um  gerenciaria  uma  resposta diferente.\n",
    "\n",
    "No  Python,  quando  herdamos  um  método,  podemos  alterar  seu  comportamento.  Podemos reescrever (sobrescrever, override) este método, assim como fizemos com o  `__init__` :"
   ]
  },
  {
   "cell_type": "code",
   "execution_count": 0,
   "metadata": {
    "colab": {},
    "colab_type": "code",
    "id": "m3TfX_vYOpnq"
   },
   "outputs": [],
   "source": [
    "class Gerente(Funcionario):\n",
    "    def __init__(self, nome, cpf, salario, senha, qtd_gerenciaveis):\n",
    "        super().__init__(nome, cpf, salario)\n",
    "        self._senha = senha\n",
    "        self._qtd_gerenciaveis = qtd_gerenciaveis\n",
    "    def get_bonificacao(self):\n",
    "        return self._salario * 0.15\n",
    "    # metodos e properties"
   ]
  },
  {
   "cell_type": "markdown",
   "metadata": {
    "colab_type": "text",
    "id": "ll5YU1YMOvDr"
   },
   "source": [
    "Agora o método está correto para o  `Gerente` . Refaça o teste e veja que o valor impresso é o correto (`750`):"
   ]
  },
  {
   "cell_type": "code",
   "execution_count": 0,
   "metadata": {
    "colab": {},
    "colab_type": "code",
    "id": "rby7hnGJOuws"
   },
   "outputs": [],
   "source": [
    "gerente = Gerente('José', '222222222-22', 5000.0, '1234', 0)\n",
    "print(gerente.get_bonificacao())"
   ]
  },
  {
   "cell_type": "markdown",
   "metadata": {
    "colab_type": "text",
    "id": "U_rzTtBWO12Y"
   },
   "source": [
    "Utilize o método   `vars()`  para acessar os atributos de   Gerente  e ver que a classe herda todos os atributos de  `Funcionario`:"
   ]
  },
  {
   "cell_type": "code",
   "execution_count": 0,
   "metadata": {
    "colab": {},
    "colab_type": "code",
    "id": "nOy5ANjXPBAm"
   },
   "outputs": [],
   "source": [
    "funcionario = Funcionario('João', '111111111-11', 2000.0)\n",
    "print(vars(funcionario))"
   ]
  },
  {
   "cell_type": "code",
   "execution_count": 0,
   "metadata": {
    "colab": {},
    "colab_type": "code",
    "id": "tYS90rp-PDry"
   },
   "outputs": [],
   "source": [
    "gerente = Gerente('José', '222222222-22', 5000.0, '1234', 0)\n",
    "print(vars(gerente))"
   ]
  },
  {
   "cell_type": "markdown",
   "metadata": {
    "colab_type": "text",
    "id": "ascok5l4PHvW"
   },
   "source": [
    "### 9.3 INVOCANDO O MÉTODO REESCRITO\n",
    "Depois  de  reescrito,  não  podemos  mais  chamar  o  método  antigo  que  fora  herdado  da  classe  mãe, realmente  alteramos  o  seu  comportamento.  Mas  podemos  invocá-lo  no  caso  de  estarmos  dentro  da classe.\n",
    "\n",
    "Imagine  que  para  calcular  a  bonificação  de  um   `Gerente`   devemos  fazer  igual  ao  cálculo  de  um Funcionario  adicionando `1000.0` reais. \n",
    "\n",
    "Poderíamos fazer assim:"
   ]
  },
  {
   "cell_type": "code",
   "execution_count": 0,
   "metadata": {
    "colab": {},
    "colab_type": "code",
    "id": "OVO70IBkPest"
   },
   "outputs": [],
   "source": [
    "class Gerente(Funcionario):\n",
    "    def __init__(self, senha, qtd_gerenciaveis):\n",
    "        self._senha = senha\n",
    "        self._qtd_gerenciaveis = qtd_gerenciaveis\n",
    "    def get_bonificacao():\n",
    "        return self._salario * 0.10 + 1000.0\n",
    "    # métodos e propriedades"
   ]
  },
  {
   "cell_type": "markdown",
   "metadata": {
    "colab_type": "text",
    "id": "UKb9Z4BYPuc8"
   },
   "source": [
    "Aqui  teríamos  um  problema:  o  dia  que  o    `get_bonificacao()`    do    `Funcionario`    mudar,\n",
    "precisaremos mudar o  método do   `Gerente`   para  acompanhar  a  nova  bonificação.  Para  evitar  isso,  o `get_bonificacao()`  do  Gerente  pode chamar o do  `Funcionario`  utilizando o método `super()`."
   ]
  },
  {
   "cell_type": "code",
   "execution_count": 0,
   "metadata": {
    "colab": {},
    "colab_type": "code",
    "id": "zSgZS1YqQHEM"
   },
   "outputs": [],
   "source": [
    "class Gerente(Funcionario):\n",
    "    def __init__(self, senha, qtd_gerenciaveis):\n",
    "        self._senha = senha\n",
    "        self._qtd_gerenciaveis = qtd_gerenciaveis\n",
    "    def get_bonificacao():\n",
    "        return super().get_bonificacao() + 1000\n",
    "    # métodos e propriedades"
   ]
  },
  {
   "cell_type": "markdown",
   "metadata": {
    "colab_type": "text",
    "id": "T-_VPBAmQNRb"
   },
   "source": [
    "Essa  invocação  vai  procurar  o  método  com  o  nome   `get_bonificacao()`  de  uma  superclasse  de\n",
    " `Gerente`. No caso, ele logo vai encontrar esse método em  `Funcionario`.\n",
    "\n",
    "Essa é uma prática comum, pois em muitos casos o método reescrito geralmente faz algo a mais que\n",
    "o método da classe mãe. Chamar ou não o método de cima é uma decisão e depende do seu problema.\n",
    "\n",
    "Algumas vezes não faz sentido invocar o método que reescrevemos.\n",
    "\n",
    "Para  escrever  uma  classe  utilizando  o  Python  2  é  preciso  acrescentar  a  palavra  `object` quando definimos uma classe:"
   ]
  },
  {
   "cell_type": "code",
   "execution_count": 0,
   "metadata": {
    "colab": {},
    "colab_type": "code",
    "id": "jEGQk7u6QbGj"
   },
   "outputs": [],
   "source": [
    "class MinhaClasse(object):\n",
    "    pass"
   ]
  },
  {
   "cell_type": "markdown",
   "metadata": {
    "colab_type": "text",
    "id": "6ymIdIXcQckL"
   },
   "source": [
    "Isso  acontece  porque  toda  classe  é  filha  de  `object`  -  que  é  chamada  a  mãe  de  todas  as  classes.  No Pyhton, toda classe herda de `object`. No Python 3 não precisamos acrescentar o `object` mas não quer dizer que esta classe e a herança não existam, apenas que essa herança é implícita. Quando criamos uma classe vazia e utilizamos o método  `dir()`  para checar a lista de seus atributos, reparamos que ela não é vazia:"
   ]
  },
  {
   "cell_type": "code",
   "execution_count": 0,
   "metadata": {
    "colab": {},
    "colab_type": "code",
    "id": "3ZM7y4ZtQoID"
   },
   "outputs": [],
   "source": [
    "class MinhaClasse():\n",
    "    pass\n",
    "if __name__ == '__main__':\n",
    "    mc = MinhaClasse()\n",
    "    print(dir(mc))"
   ]
  },
  {
   "cell_type": "markdown",
   "metadata": {
    "colab_type": "text",
    "id": "nVNtC7BUQ2fy"
   },
   "source": [
    "Todos estes atributos são herdados da classe `object` e podemos reescrever qualquer um deles na nossa\n",
    "subclasse. Todos eles são os conhecidos métodos 'mágicos' (começam e iniciam com dois underscores, e\n",
    "por este motivo, também chamados de dunders).\n",
    "\n",
    "Vimos o comportamento do   `__init__()`,  `__new__()`  e do   `__dict__`. Outros métodos mágicos\n",
    "famosos são  `__str__()`  e   `__repr__()`  - métodos que retornam a representação do objeto como uma\n",
    "`string`. Quando chamamos  `print(mc)`  temos a saída\n",
    "\n",
    "    <__main__.MinhaClasse object at 0x7f11c1f59a58>\n",
    "\n",
    "Esse  é  o  modelo  padrão  de  impressão  de  um  objeto,  implementado  na  classe   `object`.  A  função `print()` na  verdade  usa  a   `string`    definida  pelo  método   `__str__()` de  uma  classe.  Vamos reescrever este método:"
   ]
  },
  {
   "cell_type": "code",
   "execution_count": 0,
   "metadata": {
    "colab": {},
    "colab_type": "code",
    "id": "AmVfPkYURU5J"
   },
   "outputs": [],
   "source": [
    "class MinhaClasse:\n",
    "    def __str__(self):\n",
    "        return '< Instância de {}; endereço:{}>'.format(self.__class__.__name__, id(self))"
   ]
  },
  {
   "cell_type": "markdown",
   "metadata": {
    "colab_type": "text",
    "id": "ev2eIDFuRXik"
   },
   "source": [
    "Agora, quando executamos  `print(mc)` , a saída é:"
   ]
  },
  {
   "cell_type": "code",
   "execution_count": 0,
   "metadata": {
    "colab": {},
    "colab_type": "code",
    "id": "r4rK0-xIRaKG"
   },
   "outputs": [],
   "source": [
    "print(mc)"
   ]
  },
  {
   "cell_type": "markdown",
   "metadata": {
    "colab_type": "text",
    "id": "pdVXG4oTRefE"
   },
   "source": [
    "O Python sempre chama o método `__str__()`  quando utiliza a função   `print()`  em um objeto.\n",
    "\n",
    "Novamente, estamos utilizando reescrita de métodos.\n",
    "O método   `__repr__()`  também retorna uma   `string`  e podemos utilizar a função   `repr()`  para\n",
    "checar seu retorno:"
   ]
  },
  {
   "cell_type": "code",
   "execution_count": 0,
   "metadata": {
    "colab": {},
    "colab_type": "code",
    "id": "VpViEdbnRolL"
   },
   "outputs": [],
   "source": [
    "print(repr(mc))"
   ]
  },
  {
   "cell_type": "markdown",
   "metadata": {
    "colab_type": "text",
    "id": "HMTIDifQRsP0"
   },
   "source": [
    "Que vai gerar a mesma saída padrão do  `__str__()`:"
   ]
  },
  {
   "cell_type": "code",
   "execution_count": 0,
   "metadata": {
    "colab": {},
    "colab_type": "code",
    "id": "uxC4b5a9Ry6_"
   },
   "outputs": [],
   "source": [
    "print(mc.__str())"
   ]
  },
  {
   "cell_type": "markdown",
   "metadata": {
    "colab_type": "text",
    "id": "KFONNgujR93b"
   },
   "source": [
    "Mas  diferente  do   `__str__()`,  não  é  comum  sobrescrever  este  método.  Ele  é  sobrescrito  quando precisamos utilizá-lo junto com a função  `eval()`  do Python. A função  `eval()`  recebe uma   `string` e tenta executar essa  `string`  como um comando do Python, veja um exemplo de uso:"
   ]
  },
  {
   "cell_type": "code",
   "execution_count": 0,
   "metadata": {
    "colab": {},
    "colab_type": "code",
    "id": "NTfjZaeaSJUF"
   },
   "outputs": [],
   "source": [
    "x = 1"
   ]
  },
  {
   "cell_type": "code",
   "execution_count": 0,
   "metadata": {
    "colab": {},
    "colab_type": "code",
    "id": "KmdN0E40SLBt"
   },
   "outputs": [],
   "source": [
    "eval(\"x+1\")"
   ]
  },
  {
   "cell_type": "markdown",
   "metadata": {
    "colab_type": "text",
    "id": "W88J0A86SP3J"
   },
   "source": [
    "Vamos a um exemplo utilizando classes:"
   ]
  },
  {
   "cell_type": "code",
   "execution_count": 0,
   "metadata": {
    "colab": {},
    "colab_type": "code",
    "id": "C4KJSOz4Sct3"
   },
   "outputs": [],
   "source": [
    "class Ponto:\n",
    "    def __init__(self, x, y):\n",
    "        self.x = x\n",
    "        self.y = y\n",
    "    def __str__(self):\n",
    "        return \"({}, {})\".format(self.x, self.y)\n",
    "    def __repr__(self):\n",
    "        return \"Ponto({}, {})\".format(self.x + 1, self.y + 1)"
   ]
  },
  {
   "cell_type": "code",
   "execution_count": 0,
   "metadata": {
    "colab": {},
    "colab_type": "code",
    "id": "9iuKeWJbSfdk"
   },
   "outputs": [],
   "source": [
    "if __name__ == '__main__':\n",
    "    p1 = Ponto(1, 2)\n",
    "    p2 = eval(repr(p1))\n",
    "    print(p1)\n",
    "    print(p2)"
   ]
  },
  {
   "cell_type": "markdown",
   "metadata": {
    "colab_type": "text",
    "id": "NOFB9EVqSk4E"
   },
   "source": [
    "Repare que utilizamos a função `repr()`  passando uma instância de   `Ponto`. O Python vai chamar então o método  `__repr__()`  da classe  `Ponto`, que retorna a  `string`  `\"Ponto(2, 3)\"` já que   `p1.x = 1` \n",
    "e  `p1.y = 2`. Ao passá-la de argumento para a função  `eval()`, teremos:  `p2 = eval('Ponto(2, 3))`.\n",
    "\n",
    "Como a função  `eval()`  vai tentar executar essa  string  como um comando Python válido, ele vai ter\n",
    "sucesso e portanto  `p2`  será uma nova instância da classe  `Ponto`  com  `p2.x = 2`  e  `p2.y = 3`.\n",
    "\n",
    "Para concluir, é importante entender que tanto   `__str__()`  quanto   `__repr__()`   retornam  uma\n",
    " string  que representa o objeto mas com propósitos diferentes. O método  `__str__()`  é utilizado para\n",
    "apresentar mensagens para os usuários da classe, de maneira mais amigável. Já o método  `__repr__()`  é\n",
    "usado para representar o objeto de maneira técnica, inclusive podendo utilizá-lo como comando válido do Python como vimos no exemplo da classe  `Ponto`."
   ]
  },
  {
   "cell_type": "markdown",
   "metadata": {
    "colab_type": "text",
    "id": "vjYownPjTGoh"
   },
   "source": [
    "### 9.4 PARA SABER MAIS - MÉTODOS MÁGICOS\n",
    "Os  métodos  mágicos  são  úteis  pois  permitem  que  os  objetos  de  nossas  classes  possuam  uma\n",
    "interface  de  acesso  semelhante  aos  objetos  embutidos  do  Python.  O  método   `__add__()`,  por\n",
    "exemplo,  serve  para  executar  a  adição  de  dois  objetos  e  é  chamada  sempre  quando  fazemos  a\n",
    "operação de adição (`obj + obj`) utilizando o operador `+`. Por exemplo, quando fazemos  `1 + 1`  no\n",
    "Python, o que o interpretador faz é chamar o método  `__add__()`  da classe  `int`. Vimos que uma\n",
    " `list`  também implementa o método  `__add__()`  já que a operação de adição é definida para esta classe:"
   ]
  },
  {
   "cell_type": "code",
   "execution_count": 0,
   "metadata": {
    "colab": {},
    "colab_type": "code",
    "id": "KBnin925Tf0J"
   },
   "outputs": [],
   "source": [
    "lista = [1, 2, 3]"
   ]
  },
  {
   "cell_type": "code",
   "execution_count": 0,
   "metadata": {
    "colab": {},
    "colab_type": "code",
    "id": "NSTnWxAhTjMH"
   },
   "outputs": [],
   "source": [
    "lista + [4, 5]"
   ]
  },
  {
   "cell_type": "code",
   "execution_count": 0,
   "metadata": {
    "colab": {},
    "colab_type": "code",
    "id": "ZUZu-Xs2TkM4"
   },
   "outputs": [],
   "source": [
    "print(lista)"
   ]
  },
  {
   "cell_type": "markdown",
   "metadata": {
    "colab_type": "text",
    "id": "rU7lFxUUTq2X"
   },
   "source": [
    "O  mesmo  ocorre  para  as  operações  de multiplicação,  divisão,  módulo  e  potência  que  são definidas  pelos  métodos  mágicos `__mul__()`, `__div__()`, `__mod__()` e `__pow__()`,\n",
    "respectivamente.\n",
    "\n",
    "Podemos  definir  cada  uma  dessas  operações  em  nossas  classes  sobrescrevendo  tais  métodos\n",
    "mágicos.  Além  desses  o  Python  possui  muitos  outros  que  você  pode  acessar  aqui:\n",
    "\n",
    "https://docs.python.org/3/reference/datamodel.html#Basic_customization"
   ]
  },
  {
   "cell_type": "markdown",
   "metadata": {
    "colab_type": "text",
    "id": "gVsP3_yGTqsA"
   },
   "source": [
    "### 9.5 POLIMORFISMO\n",
    "O que guarda uma variável do tipo  `Funcionario`? Uma referência para um  `Funcionario` , nunca o objeto em si.\n",
    "\n",
    "Na herança, vimos que todo   `Gerente`  é um `Funcionario`,  pois  é  uma  extensão  deste.\n",
    "\n",
    "Podemos nos  referir  a  um    `Gerente`    como  sendo  um    `Funcionario`.  Se  alguém  precisa  falar  com  um `Funcionario`  do banco, pode falar com um   `Gerente`! Porque? Pois   `Gerente`  é um   `Funcionario`.\n",
    "\n",
    "Essa é a semântica da herança.\n",
    "\n",
    "Polimorfismo  é  a  capacidade  de  um  objeto  poder  ser  referenciado  de  várias  formas.  (cuidado, polimorfismo não quer dizer que o objeto fica se transformando, muito pelo contrário, um objeto nasce de um tipo e morre daquele tipo, o que pode mudar é a maneira como nos referimos a ele).\n",
    "\n",
    "A  situação  que  costuma  aparecer  é  a  que  temos  um  método  que  recebe  um  argumento  do  tipo `Funcionario`:"
   ]
  },
  {
   "cell_type": "code",
   "execution_count": 0,
   "metadata": {
    "colab": {},
    "colab_type": "code",
    "id": "EkLhdi0cUeCf"
   },
   "outputs": [],
   "source": [
    "class ControleDeBonificacoes:\n",
    "    def __init__(self, total_bonificacoes=0):\n",
    "        self._total_bonificacoes = total_bonificacoes\n",
    "    def registra(self, funcionario):\n",
    "        self._total_bonificacoes += funcionario.get_bonificacao()\n",
    "    @property\n",
    "    def total_bonificacoes(self):\n",
    "        return self._total_bonificacoes"
   ]
  },
  {
   "cell_type": "markdown",
   "metadata": {
    "colab_type": "text",
    "id": "3g3AUyykUkM7"
   },
   "source": [
    "E podemos fazer:"
   ]
  },
  {
   "cell_type": "code",
   "execution_count": 0,
   "metadata": {
    "colab": {},
    "colab_type": "code",
    "id": "GrM-xPelUk7M"
   },
   "outputs": [],
   "source": [
    "if __name__ == '__main__':\n",
    "    funcionario = Funcionario('João', '111111111-11', 2000.0)\n",
    "    print(\"bonificacao funcionario: {}\".format(funcionario.get_bonificacao()))\n",
    "    gerente = Gerente(\"José\", \"222222222-22\", 5000.0 '1234', 0)\n",
    "    print(\"bonificacao gerente: {}\".format(gerente.get_bonificacao()))\n",
    "    controle = ControleDeBonificacoes()\n",
    "    controle.registra(funcionario)\n",
    "    controle.registra(gerente)\n",
    "    print(\"total: {}\".format(controle.total_bonificacoes))"
   ]
  },
  {
   "cell_type": "markdown",
   "metadata": {
    "colab_type": "text",
    "id": "HL-yDNYUUvHY"
   },
   "source": [
    "Repare  que  conseguimos  passar  um   `Gerente` para  um  método  que  \"recebe\"  um   `Funcionario` como  argumento.  Pense  como  numa  porta  na  agência  bancária  com  o  seguinte  aviso:  \n",
    "\"Permitida  a entrada  apenas  de  Funcionários\".  Um  gerente  pode  passar  nessa  porta?  Sim,  pois   `Gerente`   é  um `Funcionario`.\n",
    "\n",
    "Qual  será  o  valor  resultante?  Não  importa  que  dentro  do  método    `registra()`    do `ControleDeBonificacoes`  receba   `Funcionario`. Quando ele receber um objeto que realmente é um\n",
    " `Gerente`, o seu método reescrito será invocado. Reafirmando: não importa como nos referenciamos a\n",
    "um objeto, o método que será invocado é sempre o que é dele.\n",
    "\n",
    "No  dia  em  que  criarmos  uma  classe   `Secretaria`,  por  exemplo,  que  é  filha  de   `Funcionario`, precisaremos mudar a classe   `ControleDeBonificacoes`? Não. Basta a classe   `Secretaria`  reescrever os métodos que lhe parecerem necessários. É exatamente esse o poder do polimorfismo, juntamente com a reescrita de método: diminuir o acoplamento entre as classes, para evitar que novos códigos resultem em modificações em inúmeros lugares.\n",
    "\n",
    "Repare que quem criou   `ControleDeBonificacoes`   pode  nunca  ter  imaginado  a  criação  da  classe\n",
    " `Secretaria`   ou   `Engenheiro`. Contudo,  não  será  necessário  reimplementar  esse  controle  em  cada nova classe: reaproveitamos aquele código.\n",
    "Pensar  desta  maneira  em  linguagens  com  tipagem  estática  é  o  mais  correto  já  que  as  variáveis  são tipadas  e  garantem,  através  do  compilador,  que  o  método  só  funcionará  se  receber  um  tipo `Funcionario`.  Mas  não  é  o  que  acontece  em  linguagens  de  tipagem  dinâmica  como  Python.  Vamos supor que temos uma classe para representar os clientes do banco:"
   ]
  },
  {
   "cell_type": "code",
   "execution_count": 0,
   "metadata": {
    "colab": {},
    "colab_type": "code",
    "id": "Es1yK0fKVjkH"
   },
   "outputs": [],
   "source": [
    "class Cliente:\n",
    "    def __init__(self, nome, cpf, senha):\n",
    "        self._nome = nome\n",
    "        self._cpf = cpf\n",
    "        self._senha = senha\n",
    "    # métodos e propriedades"
   ]
  },
  {
   "cell_type": "markdown",
   "metadata": {
    "colab_type": "text",
    "id": "wqNie-hAVnSz"
   },
   "source": [
    "Nada  impede  de  registrarmos  um   `Cliente`   em   `ControleDeBonificacoes`.  Vamos  ver  o  que\n",
    "acontece:"
   ]
  },
  {
   "cell_type": "code",
   "execution_count": 0,
   "metadata": {
    "colab": {},
    "colab_type": "code",
    "id": "pGuo4G9AV0Sa"
   },
   "outputs": [],
   "source": [
    "cliente = ('Maria', '333333333-33', '1234')\n",
    "controle = ControleBonificacoes()\n",
    "controle.registra(cliente)"
   ]
  },
  {
   "cell_type": "markdown",
   "metadata": {
    "colab_type": "text",
    "id": "c-1roB62V5e_"
   },
   "source": [
    "Veja que lança um  `AttibuteError`  com a mensagem dizendo que   `Cliente`  não possui o atributo\n",
    " `get_bonificacao`.  Portanto,  aqui  não  importa  se  o  objeto  recebido  no  método   `registra()`  é  um `Funcionario`, mas se ele possui o método  `get_bonificacao()`.\n",
    "\n",
    "O método   `registra()`   utiliza  um  método  da  classe   `Funcionario`   e,  portanto,  funcionará  com qualquer  instância  de  uma  subclasse  de    `Funcionario`    ou  qualquer  instância  de  uma  classe  que implemente o método  `get_bonificacao()`.\n",
    "\n",
    "Podemos  evitar  este  erro  verificando  se  o  objeto  passado  possui  ou  não  um  atributo\n",
    " `get_bonificacao()`  através da função  `hasattr()` :"
   ]
  },
  {
   "cell_type": "code",
   "execution_count": 0,
   "metadata": {
    "colab": {},
    "colab_type": "code",
    "id": "zsA0HCStWNy3"
   },
   "outputs": [],
   "source": [
    "class ControleDeBonificacoes:\n",
    "    def __init__(self, total_bonificacoes=0):\n",
    "        self._total_bonificacoes = total_bonificacoes\n",
    "    def registra(self, obj):\n",
    "        if(hasattr(obj, 'get_bonificacao'))\n",
    "            self._total_bonificacoes += obj.get_bonificacao()\n",
    "        else\n",
    "            print('instância de {} não implementa o método get_bonificacao()'.format(self.__class__._\n",
    "_name__))    \n",
    "    # demais métodos"
   ]
  },
  {
   "cell_type": "markdown",
   "metadata": {
    "colab_type": "text",
    "id": "IO7VWl0lWM4G"
   },
   "source": [
    "A  função   `hasattr()`   recebe  dois  parâmetros,  o  objeto  e  o  atributo  (na  forma  de   `string` )  -  everifica se o objeto possui aquele atributo, ou seja, se o atributo está contido no   `__dict__`  do objeto.\n",
    "\n",
    "Então, fazemos a pergunta:   `get_bonificacao()`  é atributo de   `Funcionario`? Se sim, entra no bloco\n",
    " `if`  e podemos chamar o método tranquilamente, evitando erros.\n",
    "\n",
    "Agora, se tentarmos chamar o método  `registra()`  passando um  Cliente  recebemos a saída:\n",
    "\n",
    "    'Cliente' object has no attribute 'get_bonificacao\n",
    "\n",
    "Portanto, o tipo passado para o método   `registra()`  não importa aqui e sim se o objeto passado implementa  ou  não  o  método `get_bonificacao()`.\n",
    "\n",
    "Ou  seja,  basta  que  o  objeto  atenda  a  um\n",
    "determinado protocolo.\n",
    "\n",
    "Existe uma função no Python que funciona de forma semelhante mas considera o tipo da instância, é\n",
    "a função `isinstance()`. Ao invés de passar uma instância, passamos a classe no segundo parâmetro."
   ]
  },
  {
   "cell_type": "code",
   "execution_count": 0,
   "metadata": {
    "colab": {},
    "colab_type": "code",
    "id": "F5iIg7PbWxP3"
   },
   "outputs": [],
   "source": [
    "class ControleDeBonificacoes:\n",
    "    def __init__(self, total_bonificacoes=0):\n",
    "        self.__total_bonificacoes = total_bonificacoes\n",
    "    def registra(self, obj):\n",
    "        if(isinstance(obj, Funcionario)):\n",
    "            self.__total_bonificacoes += obj.get_bonificacao()\n",
    "        else:\n",
    "            print('instância de {} não implementa o método get_bonificacao()'\n",
    "                .format(self.__class__.__name__))"
   ]
  },
  {
   "cell_type": "markdown",
   "metadata": {
    "colab_type": "text",
    "id": "U27LH0RxXRZT"
   },
   "source": [
    "Mas essa não é a maneira Pythônica. Você deve escrever o código esperando somente uma interface\n",
    "do objeto, não o tipo dele. A interface é o conjunto de métodos públicos de uma classe. No caso da nossa\n",
    "classe   `ControleDeBonificacoes`,  o  método   `registra()`   espera  um  objeto  que  possua  o  método `get_bonificacao()`  e não um objeto do tipo  `Funcionario`."
   ]
  },
  {
   "cell_type": "markdown",
   "metadata": {
    "colab_type": "text",
    "id": "3CKu4tXrXbbs"
   },
   "source": [
    "### 9.6 DUCK TYPING\n",
    "Uma característica de linguagens dinâmicas como Python é a chamada Duck Typing, a tipagem de pato. É uma característica de um sistema de tipos em que a semântica de uma classe é determinada pela sua capacidade  de  responder  a  alguma  mensagem,  ou  seja,  responder  a  determinado  atributo  (ou\n",
    "método). O exemplo canônico (e a razão do nome) é o teste do pato: se ele se parece com um pato, nada\n",
    "como um pato e grasna como um pato, então provavelmente é um pato.\n",
    "\n",
    "Veja o exemplo abaixo:"
   ]
  },
  {
   "cell_type": "code",
   "execution_count": 0,
   "metadata": {
    "colab": {},
    "colab_type": "code",
    "id": "wfPsqvEtWxrj"
   },
   "outputs": [],
   "source": [
    "class Pato:\n",
    "    def grasna(self):\n",
    "        print('quack!')\n",
    "class Ganso:\n",
    "    def grasna(self):\n",
    "        print('quack!')\n",
    "\n",
    "pato = Pato()\n",
    "ganso = Ganso()\n"
   ]
  },
  {
   "cell_type": "code",
   "execution_count": 0,
   "metadata": {
    "colab": {
     "base_uri": "https://localhost:8080/",
     "height": 34
    },
    "colab_type": "code",
    "id": "1Zstu3_3Wxjx",
    "outputId": "68fec4ab-4ba3-4de3-fa14-7d4d8fd67894"
   },
   "outputs": [
    {
     "name": "stdout",
     "output_type": "stream",
     "text": [
      "quack!\n"
     ]
    }
   ],
   "source": [
    "pato.grasna()"
   ]
  },
  {
   "cell_type": "code",
   "execution_count": 0,
   "metadata": {
    "colab": {
     "base_uri": "https://localhost:8080/",
     "height": 34
    },
    "colab_type": "code",
    "id": "MC91iWONWxcu",
    "outputId": "f59123e0-c478-4cfb-eeb3-3c90e5179ca4"
   },
   "outputs": [
    {
     "name": "stdout",
     "output_type": "stream",
     "text": [
      "quack!\n"
     ]
    }
   ],
   "source": [
    "ganso.grasna()"
   ]
  },
  {
   "cell_type": "markdown",
   "metadata": {
    "colab_type": "text",
    "id": "-dd37sl_YQQn"
   },
   "source": [
    "Você deve escrever o código esperando somente uma interface do objeto, não um tipo de objeto. No\n",
    "caso da nossa classe   `ControleDeBonificacoes`, o método   `registra()`  espera um objeto que possua\n",
    "o método  `get_bonificacao()`  e não apenas um funcionário.\n",
    "\n",
    "O Duck Typing é um estilo de programação que não procura o tipo do objeto para determinar se ele\n",
    "tem  a  interface  correta.  Ao  invés  disso,  o  método  ou  atributo  é  simplesmente  chamado  ou  usado  ('se parece como um pato e grasna como um pato, então deve ser um pato'). Duck Typing evita testes usando as funções   `type()`, `isinstance()`  e até mesmo a `hasattr()` - ao invés disso, deixa o erro estourar na frente do programador.\n",
    "\n",
    "A maneira Pythônica para garantir a consistência do sistema não é verificar os tipos e atributos de\n",
    "um objeto, mas pressupor a existência do atributo no objeto e tratar uma exceção, caso ocorra, através\n",
    "do comando  `try/except` :"
   ]
  },
  {
   "cell_type": "code",
   "execution_count": 0,
   "metadata": {
    "colab": {
     "base_uri": "https://localhost:8080/",
     "height": 219
    },
    "colab_type": "code",
    "id": "vN6WdMbRYqPw",
    "outputId": "17038af0-83d1-4633-d019-e9b7225f8789"
   },
   "outputs": [
    {
     "ename": "NameError",
     "evalue": "ignored",
     "output_type": "error",
     "traceback": [
      "\u001b[0;31m---------------------------------------------------------------------------\u001b[0m",
      "\u001b[0;31mNameError\u001b[0m                                 Traceback (most recent call last)",
      "\u001b[0;32m<ipython-input-11-adafc1cc1933>\u001b[0m in \u001b[0;36m<module>\u001b[0;34m()\u001b[0m\n\u001b[1;32m      1\u001b[0m \u001b[0;32mtry\u001b[0m\u001b[0;34m:\u001b[0m\u001b[0;34m\u001b[0m\u001b[0;34m\u001b[0m\u001b[0m\n\u001b[0;32m----> 2\u001b[0;31m     \u001b[0mself\u001b[0m\u001b[0;34m.\u001b[0m\u001b[0m_total_bonificacoes\u001b[0m \u001b[0;34m+=\u001b[0m \u001b[0mobj\u001b[0m\u001b[0;34m.\u001b[0m\u001b[0mget_bonificacao\u001b[0m\u001b[0;34m(\u001b[0m\u001b[0;34m)\u001b[0m\u001b[0;34m\u001b[0m\u001b[0;34m\u001b[0m\u001b[0m\n\u001b[0m\u001b[1;32m      3\u001b[0m \u001b[0;32mexcept\u001b[0m \u001b[0mAttributeError\u001b[0m \u001b[0;32mas\u001b[0m \u001b[0me\u001b[0m\u001b[0;34m:\u001b[0m\u001b[0;34m\u001b[0m\u001b[0;34m\u001b[0m\u001b[0m\n\u001b[1;32m      4\u001b[0m     \u001b[0mprint\u001b[0m\u001b[0;34m(\u001b[0m\u001b[0me\u001b[0m\u001b[0;34m)\u001b[0m\u001b[0;34m\u001b[0m\u001b[0;34m\u001b[0m\u001b[0m\n",
      "\u001b[0;31mNameError\u001b[0m: name 'self' is not defined"
     ]
    }
   ],
   "source": [
    "try:\n",
    "    self._total_bonificacoes += obj.get_bonificacao()\n",
    "except AttributeError as e:\n",
    "    print(e)"
   ]
  },
  {
   "cell_type": "markdown",
   "metadata": {
    "colab_type": "text",
    "id": "fAWGfXKiYQKM"
   },
   "source": [
    "Estamos pedindo ao interpretador para tentar executar a linha de código dentro do comando `try` (tentar). Caso ocorra algum erro, ele vai tratar este erro com o comando  `except`  e executar algo, como imprimir o erro (similar ao exemplo). Não se preocupe de entender os detalhes sobre este código e o uso\n",
    "do  `try/except`  neste momento, teremos um capítulo só para falar deles.\n",
    "\n",
    "O  que  é  importante  é  que  a  maneira  pythônica  de  se  fazer  é  assumir  a  existência  do atributo  e capturar (tratar) um exceção quando o atributo não pertencer ao objeto e seguir o fluxo do programa.\n",
    "\n",
    "Por ora, faremos esta checagem utilizando a função  `hasattr()`."
   ]
  },
  {
   "cell_type": "markdown",
   "metadata": {
    "colab_type": "text",
    "id": "BKB4T2xOYQEP"
   },
   "source": [
    "### HERANÇA VERSUS ACOPLAMENTO\n",
    "Note que o uso de herança aumenta o acoplamento entre as classes, isto é, o quanto uma classe depende de outra. A relação entre classe mãe e filha é muito forte e isso acaba fazendo com que o programador  das  classes  filhas  tenha  que  conhecer  a implementação  da  classe  mãe  e  vice-versa  fica difícil fazer uma mudança pontual no sistema.\n",
    "\n",
    "Por  exemplo,  imagine  se  tivermos  que  mudar  algo  na  nossa  classe   `Funcionario` ,  mas  não\n",
    "quiséssemos que todos os funcionários sofressem a mesma mudança. Precisaríamos passar por cada\n",
    "uma  das  filhas  de   `Funcionario`   verificando  se  ela  se  comporta  como  deveria  ou  se  devemos\n",
    "sobrescrever o tal método modificado.\n",
    "\n",
    "Esse é um problema da herança, e não do polimorfismo, que resolveremos mais tarde."
   ]
  },
  {
   "cell_type": "markdown",
   "metadata": {
    "colab_type": "text",
    "id": "qx5zVH1MYP5A"
   },
   "source": [
    "### 9.7 EXERCÍCIO: HERANÇA E POLIMORFISMO\n",
    "Vamos  ter  mais  de  um  tipo  de  conta  no  nosso  sistema.  Portanto,  além  das  informações  que  já\n",
    "tínhamos na conta, temos agora o tipo: se queremos uma conta corrente ou uma conta poupança. Além\n",
    "disso, cada uma deve possuir uma taxa.\n",
    "1.  Adicione na classe  Conta  um novo método chamado  `atualiza()*`  que atualiza a conta de acordo\n",
    "com a taxa percentual:\n",
    "        class Conta:\n",
    "            #outros métodos\n",
    "            def atualiza(self, taxa):\n",
    "                self._saldo += self._saldo * taxa\n",
    "2.  Crie duas subclasses da classe  `Conta`:  `ContaCorrente`  e   `ContaPoupanca`. Ambas terão o método  `atualiza()` reescrito:  a `ContaCorrente`    deve  atualizar-se  com  o  dobro  da  taxa  e  a `ContaPoupanca`    deve  atualizar-se  com  o  triplo  da  taxa.  Além  disso,  a   `ContaCorrente` deve reescrever  o  método   `deposita()`   afim  de  retirar  uma  taxa  bancária  de  dez  centavos  de  cada depósito.\n",
    "Crie a classe `ContaCorrente` no arquivo   `conta.py`   e  faça  com  que  ela  seja  subclasse  (filha)  da classe  `Conta`.\n",
    "        class ContaCorrente(Conta):\n",
    "            pass\n",
    "Crie a classe `ContaPoupanca` no arquivo   `conta.py`  e faça com que ela seja subclasse (filha) da\n",
    "classe  `Conta`:\n",
    "        class ContaPoupanca(Conta):\n",
    "            pass\n",
    "Reescreva o método  `atualiza()`  na classe  `ContaCorrente`, seguindo o enunciado:\n",
    "        class ContaCorrente(Conta):\n",
    "            def atualiza(self, taxa):\n",
    "                self._saldo += self._saldo * taxa * 2\n",
    "Reescreva o método  `atualiza()`  na classe  `ContaPoupanca`, seguindo o enunciado:\n",
    "        class ContaPoupanca(Conta):\n",
    "            def atualiza(self, taxa):\n",
    "                self._saldo += self._saldo * taxa * 3\n",
    "Na classe   `ContaCorrente`, reescreva o método   `deposita()`  para descontar a taxa bancária de\n",
    "dez centavos:\n",
    "        class Conta Corrente(Conta):\n",
    "            def atualiza(self, taxa):\n",
    "                self._saldo += self._saldo * taxa * 2\n",
    "            def deposita(self, valor):\n",
    "                self._saldo += valor - 0.10\n",
    "\n",
    "3.  Agora, teste suas classes no próprio módulo   `conta.py`. Acrescente a condição quando o módulo\n",
    "for igual a  `__main__`  para executarmos no console. Instancie essas classes, atualize-as e veja o resultado:\n",
    "        if __name__ == '__main__'\n",
    "            c = Conta('123-4', 'Joao', 1000.0)\n",
    "            cc = ContaCorrente('123-5', 'Jose', 1000.0)\n",
    "            cp = ContaPoupanca('123-6', 'Maria', 1000.0)\n",
    "            c.atualiza(0.01)\n",
    "            cc.atualiza(0.01)\n",
    "            cp.atualiza(0.01)\n",
    "            print(c.saldo)\n",
    "            print(cc.saldo)\n",
    "            print(cp.saldo)\n",
    "\n",
    "4.  Implemente o método  `__str__()`  na classe  `Conta` . Faça com que ele imprima uma representação\n",
    "mais amigável de um  `Conta`  contendo todos os seus atributos.\n",
    "        def __str__(self):\n",
    "            # sua implementação aqui\n",
    "Teste chamando o método  `print()`  passando algumas instâncias de  Conta  como argumento.\n",
    "\n",
    "5.  Vamos criar uma classe que seja responsável por fazer a atualização de todas as contas bancárias e\n",
    "gerar um relatório com o saldo anterior e saldo novo de cada uma das contas. Na pasta   `src`  crie a\n",
    "classe  `AtualizadorDeContas`:\n",
    "        class AtualizadorDeContas:\n",
    "            def __init__(self, selic, saldo_total=0):\n",
    "                self._selic = selic\n",
    "                self._saldo_total = saldo_total\n",
    "            #propriedades    \n",
    "            def roda(self, conta):\n",
    "                #imprime o saldo anterior, atualiza a conta e depois imprime o saldo final\n",
    "                #soma o saldo final ao atributo saldo_total\n",
    "Não esqueça de fazer os imports necessário para o código funcionar.\n",
    "\n",
    "6.  No `main`, vamos criar algumas contas e rodá-las a partir do  `AtualizadorDeContas`:\n",
    "        if __name__ == '__main__':\n",
    "            c = Conta('123-4', 'Joao', 1000.0)\n",
    "            cc = ContaCorrente('123-5', 'José', 1000.0)\n",
    "            cp = ContaPoupanca('123-6', 'Maria', 1000.0)\n",
    "            adc = AtualizadorDeContas(0.01)\n",
    "            adc.roda(c)\n",
    "            adc.roda(cc)\n",
    "            adc.roda(cp)\n",
    "            print('Saldo total: {}'.format(adc.saldo_total))\n",
    "7.  (opcional)  Se  você  precisasse  criar  uma  classe   `ContaInvestimento`,  e  seu  método   `atualiza()` fosse complicadíssimo, você precisaria alterar a classe  `AtualizadorDeContas`?\n",
    "\n",
    "8.  (opcional, Trabalhoso) Crie uma classe   `Banco`  que possui uma lista de contas. Repare que em uma\n",
    "lista de contas você pode colocar tanto `ContaCorrente`  quanto   `ContaPoupanca`. Crie um método `adiciona()`  que adiciona uma conta na lista de contas; um método   `pegaConta()`  que devolve a\n",
    "conta em determinada posição da lista e outro  `pegaTotalDeContas()`  que retorna o total de contas\n",
    "na  lista.  Depois  teste  criando  diversas  contas,  insira-as  no   `Banco`   e  depois,  com  um  laço   `for` , percorra  todas  as  contas  do   `Banco`   para  passá-las  como  argumento  para  o  método   `roda()`   do `AtualizadorDeContas`.\n",
    "9.  (opcional)  Que  maneira  poderíamos  implementar  o  método    `atualiza()`    nas  classes\n",
    " `ContaCorrente`  e  `ContaPoupança`  poupando reescrita de código?\n",
    "10.  (opcional)  E  se  criarmos  uma  classe  que  não  é  filha  de   Conta   e  tentar  passar  uma  instância  no método roda de   `AtualizadorDeContas`? Com o que aprendemos até aqui, como podemos evitar\n",
    "que erros aconteçam nestes casos?"
   ]
  },
  {
   "cell_type": "markdown",
   "metadata": {
    "colab_type": "text",
    "id": "M2T54kleV5Tm"
   },
   "source": [
    "### 9.8 CLASSES ABSTRATAS\n",
    "Vamos recordar nossa classe  `Funcionario`:"
   ]
  },
  {
   "cell_type": "code",
   "execution_count": 0,
   "metadata": {
    "colab": {},
    "colab_type": "code",
    "id": "fo6C421XWxZQ"
   },
   "outputs": [],
   "source": [
    "class Funcionario:\n",
    "    def __init__(self, nome, cpf, salario=0):\n",
    "        #inicialização dos atributos\n",
    "    #propriedades e outros métodos\n",
    "    def get_bonificacao(self):\n",
    "        return self._salario * 1.2\n",
    "\n"
   ]
  },
  {
   "cell_type": "markdown",
   "metadata": {
    "colab_type": "text",
    "id": "3F3Mp7rNcC6Z"
   },
   "source": [
    "Considere agora nosso  ControleDeBonificacao :"
   ]
  },
  {
   "cell_type": "code",
   "execution_count": 0,
   "metadata": {
    "colab": {},
    "colab_type": "code",
    "id": "wq8jk0PncE5t"
   },
   "outputs": [],
   "source": [
    "class ControleDeBonificacoes:\n",
    "    def __init__(self, total_bonificacoes=0):\n",
    "        self.__total_bonificacoes = total_bonificacoes\n",
    "    def registra(self, obj):\n",
    "        if(hasattr(obj, 'get_bonificacao')):\n",
    "            self.__total_bonificacoes += obj.get_bonificacao()\n",
    "        else:\n",
    "            print('instância de {} não implementa o método get_bonificacao()'.format(self.__class__._\n",
    "_name__))  \n",
    "    #propriedades"
   ]
  },
  {
   "cell_type": "markdown",
   "metadata": {
    "colab_type": "text",
    "id": "DZuEoXR4cJnR"
   },
   "source": [
    "Nosso método  `registra()`  recebe um objeto de qualquer tipo mas estamos esperando que seja um\n",
    " `Funcionario`   já  que  este  implementa  o  método   `get_bonificacao()`,  isto  é,  podem  ser  objetos  do tipo   `Funcionario`  e qualquer de seus subtipos:   `Gerente`, `Diretor`  e, eventualmente, alguma nova subclasse que venha ser escrita, sem prévio conhecimento do autor da `ControleDeBonificacao`.\n",
    "\n",
    "Estamos utilizando aqui a classe   `Funcionario`  para o polimorfismo. Se não fosse ela, teríamos um grande  prejuízo:  precisaríamos  criar  um  método   `registra()`   para  receber  cada  um  dos  tipos  de\n",
    " `Funcionario`, um para  `Gerente`, um para   `Diretor`, etc. Repare que perder esse poder é muito pior do que a pequena vantagem que a herança traz em herdar código.\n",
    "\n",
    "Porém, em alguns sistemas, como é o nosso caso, usamos uma classe com apenas esses intuitos: de\n",
    "economizar  um  pouco  código  e  ganhar polimorfismo  para  criar  métodos  mais  genéricos,  que  se encaixem a diversos objetos.\n",
    "\n",
    "Faz  sentido  ter  um  objeto  do  tipo    `Funcionario`?  Essa  pergunta  é  bastante  relevante  já  que instanciar  um   `Funcionario`   pode  gerar  um  objeto  que  não  faz  sentido  no  nosso  sistema.  Nossa empresa tem apenas  `Diretores`,  `Gerentes`,  `Secretárias`, etc...   \n",
    "\n",
    "`Funcionario`  é apenas uma classe que idealiza um tipo, define apenas um rascunho.\n",
    "\n",
    "Vejamos um outro caso em que não faz sentido ter um objeto de determinado tipo, apesar da classe\n",
    "existir. Imagine a classe   `Pessoa`  e duas filhas:   `PessoaFisica`  e   `PessoaJuridica`. Quando puxamos um relatório de nossos clientes (uma lista de objetos de tipo  `Pessoa`, por exemplo), queremos que cada um deles seja ou uma  `PessoaFisica`  ou uma  `PessoaJuridica`. A classe   `Pessoa` , nesse caso, estaria sendo  usada  apenas  para  ganhar  o  polimorfismo  e  herdar  algumas  coisas  -  não  faz  sentido  permitir instanciá-la.\n",
    "\n",
    "Para o nosso sistema, é inadmissível que um objeto seja apenas do tipo   `Funcionario`  (pode existir\n",
    "um sistema em que faça sentido ter objetos do tipo   `Funcionario`  ou apenas   `Pessoa` , mas, no nosso\n",
    "caso, não). Para resolver esses problemas, temos as classes abstratas.\n",
    "\n",
    "Utilizaremos uma módulo do Python chamado `abc` que permite definirmos classes abstratas. Uma classe abstrata deve herdar de `ABC` (Abstract Base Classes). `ABC` é a superclasse para classes abstratas.\n",
    "\n",
    "Uma classe abstrata não pode ser instanciada e deve conter pelo menos um método abstrato. Vamos ver isso na prática.\n",
    "\n",
    "Vamos tornar nossa classe  `Funcionario`  abstrata:"
   ]
  },
  {
   "cell_type": "code",
   "execution_count": 0,
   "metadata": {
    "colab": {},
    "colab_type": "code",
    "id": "7QjzwB-tdOGO"
   },
   "outputs": [],
   "source": [
    "import abc\n",
    "class Funcionario(abc.ABC):\n",
    "    # métodos e propriedades"
   ]
  },
  {
   "cell_type": "markdown",
   "metadata": {
    "colab_type": "text",
    "id": "tEM8cp8adRdU"
   },
   "source": [
    "Definimos  nossa  classe    `Funcionario` como  abstrata.  Agora  vamos  tornar  nosso  método\n",
    " `get_bonificacao()`  abstrato. Um método abstrato pode ter implementação, mas não faz sentido em\n",
    "nosso  sistema,  portanto  vamos  deixá-lo  sem  implementação.  Para  definir  um  método  abstrato\n",
    "utilizamos o decorator  `@abstractmethod`:"
   ]
  },
  {
   "cell_type": "code",
   "execution_count": 0,
   "metadata": {
    "colab": {},
    "colab_type": "code",
    "id": "ZqqdUXnDdbPJ"
   },
   "outputs": [],
   "source": [
    "class Funcionario(abc.ABC):\n",
    "    @abc.abstractmethod\n",
    "    def get_bonificacao(self):\n",
    "        pass"
   ]
  },
  {
   "cell_type": "markdown",
   "metadata": {
    "colab_type": "text",
    "id": "6mh-iSS6dfp4"
   },
   "source": [
    "Agora, se tentarmos instanciar um objeto do tipo  `Funcionario`:"
   ]
  },
  {
   "cell_type": "code",
   "execution_count": 0,
   "metadata": {
    "colab": {},
    "colab_type": "code",
    "id": "2IWyLxwjdgOj"
   },
   "outputs": [],
   "source": [
    "f = Funcionario()"
   ]
  },
  {
   "cell_type": "markdown",
   "metadata": {
    "colab_type": "text",
    "id": "aaD4CavbdrN3"
   },
   "source": [
    "Acusa um erro:\n",
    "\n",
    "    TypeError: Can't instantiate abstract class Funcionario with abstract methods get_bonificacao\n",
    "\n",
    "Apesar de não conseguir instanciar a classe   `Funcionario`, conseguimos instanciar suas filhas que\n",
    "são objetos que realmente existem em nosso sistema (objetos concretos):"
   ]
  },
  {
   "cell_type": "code",
   "execution_count": 0,
   "metadata": {
    "colab": {},
    "colab_type": "code",
    "id": "INzW1o9RfbQh"
   },
   "outputs": [],
   "source": [
    "class Gerente(Funcionario):\n",
    "    # outros métodos e propriedades\n",
    "    def get_bonificacao(self):\n",
    "        return self._salario * 0.15"
   ]
  },
  {
   "cell_type": "code",
   "execution_count": 0,
   "metadata": {
    "colab": {},
    "colab_type": "code",
    "id": "mBKWlMR_fdjl"
   },
   "outputs": [],
   "source": [
    "gerente = Gerente('jose', '222222222-22', 5000.0, '1234', 0)\n",
    "print(gerente.get_bonificacao())"
   ]
  },
  {
   "cell_type": "markdown",
   "metadata": {
    "colab_type": "text",
    "id": "Apo7vv-Cfruk"
   },
   "source": [
    "Vamos criar a classe  `Diretor`  que herda de  `Fucionario`  sem o método  `get_bonificacao()`:"
   ]
  },
  {
   "cell_type": "code",
   "execution_count": 0,
   "metadata": {
    "colab": {},
    "colab_type": "code",
    "id": "CL3czEBPfxmR"
   },
   "outputs": [],
   "source": [
    "class Diretor(Funcionario):\n",
    "    def __init__(self, nome, cpf, salario):\n",
    "        super().__init__(nome, cpf, salario)"
   ]
  },
  {
   "cell_type": "code",
   "execution_count": 0,
   "metadata": {
    "colab": {},
    "colab_type": "code",
    "id": "2O8hrVubf0IC"
   },
   "outputs": [],
   "source": [
    "diretor = Diretor('joao', '111111111-11', 4000.0)"
   ]
  },
  {
   "cell_type": "markdown",
   "metadata": {
    "colab_type": "text",
    "id": "nrYD_QISfriw"
   },
   "source": [
    "Não conseguimos instanciar uma subclasse de   `Funcionario`  sem implementar o método abstrato\n",
    " `get_bonificacao()`. Agora tornamos o método   `get_bonificacao()`  obrigatório para todo objeto\n",
    "que  é  subclasse  de    `Funcionario`.  Caso  venhamos  a  criar  outras  classes,  como    `Secretaria` e `Presidente`,  que  sejam  filhas  de    `Funcionario` ,  seremos  obrigados  e  criar  o  método `get_bonificacao()`, caso contrário, o código vai acusar erro quando executado."
   ]
  },
  {
   "cell_type": "markdown",
   "metadata": {
    "colab_type": "text",
    "id": "L8S_l9K0gKlg"
   },
   "source": [
    "### 9.9 EXERCÍCIOS - CLASSES ABSTRATAS\n",
    "1.  Torne a classe  `Conta`  abstrata.\n",
    "        import abc\n",
    "        class Conta(abc.ABC):\n",
    "        def __init__(self, numero, titular, saldo=0, limite=1000.0):\n",
    "        self._numero = numero\n",
    "        self._titular = titular\n",
    "        self._saldo = saldo\n",
    "        self._limite = limite\n",
    "        # outros métodos e propriedades\n",
    "\n",
    "2.  Torne o método  `atualiza()`  abstrato:\n",
    "        class Conta(abc.ABC):\n",
    "        # código omitido\n",
    "        @abc.abstractmethod\n",
    "        def atualiza():\n",
    "            pass\n",
    "\n",
    "3.  Tente instância uma  `Conta`:\n",
    "        c = Conta()\n",
    "O que acontece?\n",
    "\n",
    "4.  Instancie  uma   `ContaCorrente`   e  uma   `ContaPoupanca`   e  teste  o  código  chamando  o  método `atualiza()`.\n",
    "\n",
    "        cc = ContaCorrente('123-4', 'João', 1000.0)\n",
    "        cp = ContaPoupanca('123-5', 'José', 1000.0)\n",
    "        cc.atualiza(0.01)\n",
    "        cp.atualiza(0.01)\n",
    "        print(cc.saldo)\n",
    "        print(cp.saldo)\n",
    "\n",
    "5.  Crie uma classe chamada  `ContaInvestimento`:\n",
    "        class ContaInvestimeto(Conta):\n",
    "            pass\n",
    "6.  Instancie uma  `ContaInvestimeto`:\n",
    "        ci = ContaInvestimento('123-6', 'Maria', 1000.0)\n",
    "\n",
    "7.  Não  conseguimos  instanciar  uma   `ContaInvestimento`   que  herda   `Conta`   sem  implementar  o método  abstrato    `atualiza()`.  Vamos  criar  uma  implementação  dentro  da  classe `ContaInvestimento`:\n",
    "        def atualiza(self, taxa):\n",
    "            self._saldo += self._saldo * taxa * 5\n",
    "\n",
    "8.  Agora teste instanciando uma  `ContaInvestimento`  e chame o método  `atualiza()`:\n",
    "        ci = ContaInvestimento('123-6', 'Maria', 1000)\n",
    "        ci.deposita(1000.0)\n",
    "        ci.atualiza(0.01)\n",
    "        print(ci.saldo)\n",
    "\n",
    "9.  (opcional)  Crie  um  atributo    `tipo`    nas  classes    `ContaCorrente` , ContaPoupanca    e `ContaInvestimento`.  Faça  com  que  o   tipo    também  seja  impresso  quando  usamos  a  função\n",
    " `print()`."
   ]
  }
 ],
 "metadata": {
  "colab": {
   "collapsed_sections": [
    "MUrJolt2-aD-",
    "3NqZ-0r1_q54",
    "RQ33gi3tDYEG",
    "nHDNPdbAFPh1",
    "ZhENGRztLHtI",
    "RCy0rjvJNXe4",
    "Uxbidv3xYPq7",
    "6yOIodPpbR6W",
    "ewCTTwW9c8iJ",
    "_louaPl3eq5r",
    "9eWtCzypfZGx",
    "t4nxmF1hjXsj",
    "r7BK-qFsktm5",
    "YEhH95O6iQ-J",
    "vN3yymMnkJJI",
    "-zT5izhklP47",
    "2oAom-dSljYS",
    "WjhzraVwmTWf",
    "2XyYPb_9mcUy",
    "U_oT0D5lK6g0",
    "PplhZST5N23M",
    "ascok5l4PHvW",
    "vjYownPjTGoh",
    "gVsP3_yGTqsA",
    "3CKu4tXrXbbs",
    "BKB4T2xOYQEP",
    "qx5zVH1MYP5A",
    "M2T54kleV5Tm",
    "L8S_l9K0gKlg",
    "DgKQHFOvh7a8",
    "sunWFmSkrWGV",
    "2lEfnXqks2Re",
    "tgIIPjRwt9rB",
    "O61Ni4k8uqbu",
    "uNqJNfQHwkzb",
    "AishUjoGzaYk",
    "6d6kpgatqA30",
    "Ix7v3Pztq3H0",
    "kRHVTDcftEg8",
    "FuxefMQktkFQ",
    "e02PM6ebt4xi",
    "Gb5d8Ds2uFoj",
    "_oLcDxyXuOqp",
    "OBPMn6s1vjeY",
    "oU_lctuJvkad",
    "SexMNv3YxHRI",
    "4ydBnFxPx93t",
    "dD_ll8EozLcD",
    "Y2jIpz8XznFX",
    "0NTEep5Vz2iw",
    "n5XXGyWO0Ggp",
    "-WadxXBc1dqs",
    "YG_NggJf3hcF",
    "FNXtNVIC4Ux4",
    "lhXWleU44qsk",
    "WMs0GsRZ81An",
    "_CuEWMIHAtBX",
    "QUtt8tjrBE-J",
    "vbrd9w31BeTB",
    "qUp89EGuBeII",
    "apu1fbOYB5Sy",
    "DGRgurSOCM9S",
    "Dq1idRRXCh3J"
   ],
   "name": "Parte_2.ipynb",
   "provenance": []
  },
  "kernelspec": {
   "display_name": "Python 3",
   "language": "python",
   "name": "python3"
  },
  "language_info": {
   "codemirror_mode": {
    "name": "ipython",
    "version": 3
   },
   "file_extension": ".py",
   "mimetype": "text/x-python",
   "name": "python",
   "nbconvert_exporter": "python",
   "pygments_lexer": "ipython3",
   "version": "3.7.6"
  }
 },
 "nbformat": 4,
 "nbformat_minor": 1
}
