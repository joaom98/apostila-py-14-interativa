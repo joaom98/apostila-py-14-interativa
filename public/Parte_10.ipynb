{
 "cells": [
  {
   "cell_type": "markdown",
   "metadata": {
    "colab_type": "text",
    "id": "mk8OnE7A1Vsw"
   },
   "source": [
    "# DISCLAIMER\n",
    "\n",
    "\n",
    "\n",
    "---\n",
    "\n",
    "Esse documento ainda precisa passar por revisões e ser aprovado para que possa ser publicado e compartilhado.\n",
    "\n",
    "Esse documento ainda não representa a ideia final e está sujeito a mudanças.\n",
    "\n",
    "---\n",
    "\n"
   ]
  },
  {
   "cell_type": "markdown",
   "metadata": {
    "colab_type": "text",
    "id": "DgKQHFOvh7a8"
   },
   "source": [
    "# CAPÍTULO 10\n",
    "## HERANÇA MÚLTIPLA E INTERFACES\n",
    "Imagine que um Sistema de Controle do Banco pode ser acessado, além dos Gerentes, pelos Diretores do\n",
    "Banco. Teríamos uma classe `Diretor` ."
   ]
  },
  {
   "cell_type": "code",
   "execution_count": 0,
   "metadata": {
    "colab": {},
    "colab_type": "code",
    "id": "uoIfyTMxpGCY"
   },
   "outputs": [],
   "source": [
    "class Diretor(Funcionario):\n",
    "    def autentica(self, senha):\n",
    "        # verifica se a senha confere"
   ]
  },
  {
   "cell_type": "markdown",
   "metadata": {
    "colab_type": "text",
    "id": "irj20ja1pJpg"
   },
   "source": [
    "E a classe  `Gerente`:"
   ]
  },
  {
   "cell_type": "code",
   "execution_count": 0,
   "metadata": {
    "colab": {},
    "colab_type": "code",
    "id": "Dwpin8-1pKW2"
   },
   "outputs": [],
   "source": [
    "class Gerente(Funcionario):\n",
    "    def autentica(self, senha):\n",
    "        # verifica se a senha confere e também se o seu departamento tem acesso"
   ]
  },
  {
   "cell_type": "markdown",
   "metadata": {
    "colab_type": "text",
    "id": "cc5VKlNppRUM"
   },
   "source": [
    "Repare que o método de autenticação de cada tipo de   `Funcionario`  pode variar muito. Mas vamos aos  problemas.  Considere  o   `SistemaInterno`   e  seu  controle:  precisamos  receber  um   `Diretor`   ou\n",
    " `Gerente`  como argumento, verificar se ele se autentica e colocá-lo dentro do sistema.\n",
    "\n",
    "Vimos  que  podemos  utilizar  a  função   `hasattr()`   para  verificar  se  um  objeto  possui  o  método\n",
    " `autentica()`:"
   ]
  },
  {
   "cell_type": "code",
   "execution_count": 0,
   "metadata": {
    "colab": {},
    "colab_type": "code",
    "id": "WFd7XLJfpOLg"
   },
   "outputs": [],
   "source": [
    "class SistemaInterno:\n",
    "    def login(self, funcionario):\n",
    "        if(hasattr(obj, 'autentica')):\n",
    "            # chama método autentica\n",
    "        else:\n",
    "            # imprime mensagem de ação inválida"
   ]
  },
  {
   "cell_type": "markdown",
   "metadata": {
    "colab_type": "text",
    "id": "q0o2wI6gpceM"
   },
   "source": [
    "Mas  podemos  esquecer,  no  futuro,  quando  modelar  a  classe   `Presidente` (que  também  é  um\n",
    "funcionário  e  autenticável),  de  implementar  o  método   `autentica()`.  Não  faz  sentido  colocarmos  o\n",
    "método  `autentica()`  na classe  `Funcionario`  já que nem todo funcionário é autenticável.\n",
    "\n",
    "Uma  solução  mais  interessante  seria  criar  uma  classe  no  meio  da  árvore  de  herança,  a\n",
    " `FuncionarioAutenticavel`:"
   ]
  },
  {
   "cell_type": "code",
   "execution_count": 0,
   "metadata": {
    "colab": {},
    "colab_type": "code",
    "id": "tzQyG9VjpsrM"
   },
   "outputs": [],
   "source": [
    "class FuncionarioAutenticavel(Funcionario):\n",
    "    def autentica(self, senha):\n",
    "        # verifica se a senha confere"
   ]
  },
  {
   "cell_type": "markdown",
   "metadata": {
    "colab_type": "text",
    "id": "GWpccSM-ptc_"
   },
   "source": [
    "E as classes   `Diretor`,   `Gerente`  e qualquer outro tipo de   `FuncionarioAutenticavel`  que vier a existir  em  nosso  sistema  bancário  passaria  a  estender  de   `FuncionarioAutenticavel`.  Repare  que `FuncionarioAutenticavel`  é forte candidata a classe abstrata. Mais ainda, o método   `autentica()` poderia ser um método abstrato.\n",
    "\n",
    "O uso de herança simples resolve o caso, mas vamos a uma outra situação um pouco mais complexa:\n",
    "todos os clientes também devem possuir acesso ao  `SistemaInterno` . O que fazer?\n",
    "Uma opção é fazer uma herança sem sentido para resolver o problema, por exemplo, fazer  `Cliente` \n",
    "estender  de   `FuncionarioAutenticavel`.  Realmente  resolve  o  problema,  mas  trará  diversos  outros.\n",
    " `Cliente`  definitivamente não é um   `FuncionarioAutenticavel`. Se você fizer isso, o   `Cliente`  terá, por  exemplo,  um  método   `get_bonificacao()`,  um  atributo   `salario`   e  outros  membros  que  não fazem o menor sentido para esta classe.\n",
    "\n",
    "Precisamos, para resolver este problema, arranjar uma forma de referenciar   `Diretor`,   `Gerente`  e\n",
    " `Cliente`  de uma mesma maneira, isto é, achar um fator comum.\n",
    "\n",
    "Se  existisse  uma  forma  na  qual  essas  classes  garantissem  a  existência  de  um  determinado  método,\n",
    "através de um contrato, resolveríamos o problema. Podemos criar um \"contrato\" que define tudo o que uma classe deve fazer se quiser ter um determinado status. Imagine:\n",
    "\n",
    "    contrato Autenticavel\n",
    "        * quem quiser ser Autenticavel precisa saber fazer:\n",
    "            - autenticar dada uma senha, devolvendo um booleano\n",
    "\n",
    "Quem  quiser  pode  assinar  este  contrato,  sendo  assim  obrigado  a  explicar  como  será  feita  essa\n",
    "autenticação. A vantagem é que, se um   `Gerente`  assinar esse contrato, podemos nos referenciar a um\n",
    " `Gerente`  como um  `Autenticavel`.\n",
    "\n",
    "Como Python admite herança múltipla podemos criar a classe  `Autenticavel`:"
   ]
  },
  {
   "cell_type": "code",
   "execution_count": 0,
   "metadata": {
    "colab": {},
    "colab_type": "code",
    "id": "lYWNGIFiqo1g"
   },
   "outputs": [],
   "source": [
    "class Autenticavel:\n",
    "    def autentica(self, senha):\n",
    "        # verifica se a senha confere"
   ]
  },
  {
   "cell_type": "markdown",
   "metadata": {
    "colab_type": "text",
    "id": "FCcJ9nqOqpZv"
   },
   "source": [
    "E fazer  `Gerente`,  `Diretor`  e  `Cliente`  herdarem essa classe:"
   ]
  },
  {
   "cell_type": "code",
   "execution_count": 0,
   "metadata": {
    "colab": {},
    "colab_type": "code",
    "id": "kSQ8o2yQqxI2"
   },
   "outputs": [],
   "source": [
    "class Gerente(Funcionario, Autenticavel):\n",
    "    # código omitido\n"
   ]
  },
  {
   "cell_type": "code",
   "execution_count": 0,
   "metadata": {
    "colab": {},
    "colab_type": "code",
    "id": "ojf8NRfYqyOQ"
   },
   "outputs": [],
   "source": [
    "class Diretor(Funcionario, Autenticavel):\n",
    "    # código omitido\n"
   ]
  },
  {
   "cell_type": "code",
   "execution_count": 0,
   "metadata": {
    "colab": {},
    "colab_type": "code",
    "id": "BiCENh4lqyH-"
   },
   "outputs": [],
   "source": [
    "class Cliente(Autenticavel):\n",
    "    # código omitido"
   ]
  },
  {
   "cell_type": "markdown",
   "metadata": {
    "colab_type": "text",
    "id": "FIOBhBlnq2Y2"
   },
   "source": [
    "Ou seja,  `Gerente`  e   `Diretor`  além de funcionários são autenticáveis! Assim, podemos utilizar o `SistemaInterno`  para funcionários autenticáveis e clientes:"
   ]
  },
  {
   "cell_type": "code",
   "execution_count": 0,
   "metadata": {
    "colab": {},
    "colab_type": "code",
    "id": "_1kGqfZHqyA5"
   },
   "outputs": [],
   "source": [
    "class SistemaInterno:\n",
    "    def login(self, obj):\n",
    "        if(hasattr(obj, 'autentica')):\n",
    "            obj.autentica()\n",
    "            return True\n",
    "        else:\n",
    "            print('{} não é autenticável'.format(self.__class__.__name__))\n",
    "            return False"
   ]
  },
  {
   "cell_type": "code",
   "execution_count": 0,
   "metadata": {
    "colab": {},
    "colab_type": "code",
    "id": "vurJSdl6qx7g"
   },
   "outputs": [],
   "source": [
    "diretor = Diretor('João', '111111111-11', 3000.0, '1234')\n",
    "gerente = Gerente('José', '222222222-22', 5000.0, '1235')\n",
    "cliente = Cliente('Maria', '333333333-33', '1236')\n",
    "sistema = SistemaInterno()\n",
    "sistema.login(diretor)\n",
    "sistema.login(gerente)\n",
    "sistema.login(cliente)"
   ]
  },
  {
   "cell_type": "markdown",
   "metadata": {
    "colab_type": "text",
    "id": "Ja6mJiMfrLmo"
   },
   "source": [
    "Note que uma classe pode herdar de muitas outras classes. Mas vamos aos problemas que isso pode gerar. Por exemplo, várias classes podem possuir o mesmo método."
   ]
  },
  {
   "cell_type": "markdown",
   "metadata": {
    "colab_type": "text",
    "id": "sunWFmSkrWGV"
   },
   "source": [
    "### 10.1 PROBLEMA DO DIAMANTE\n",
    "O  exemplo  anterior  pode  parecer  uma  boa  maneira  de  representar  classes  autenticáveis,  mas  se\n",
    "começássemos  a  estender  esse  sistema,  logo  encontraríamos  algumas  complicações.  Em  um  banco  de\n",
    "verdade,  as  divisões  entre  gerentes,  diretores  e  clientes  nem  sempre  são  claras.  Um   `Cliente`,  por\n",
    "exemplo, pode ser um `Funcionario`, um   `Funcionario`   pode  ter  outras  subcategorias  como  fixos  e\n",
    "temporários.\n",
    "\n",
    "No Python, é possível que uma classe herde de várias outras classes. Poderíamos, por exemplo, criar\n",
    "uma  classe   `A` ,  que  será  superclasse  das  classes   `B`   e   `C`.  A  herança  múltipla  não  é  muito  difícil  de entender se uma classe herda de várias classes que possuem propriedades completamente diferentes, mas as coisas ficam complicadas se duas superclasses implementam o mesmo método ou atributo.\n",
    "Se as classes  `B`  e  `C`  herdarem a classe  `A`  e classe  `D`  herdar as classes   B  e   C , e as classes   `B`  e   `C`  têm um método  `m2()`, qual método a classe  `D`  herda?"
   ]
  },
  {
   "cell_type": "code",
   "execution_count": 0,
   "metadata": {
    "colab": {},
    "colab_type": "code",
    "id": "nTpJQJm-rVPs"
   },
   "outputs": [],
   "source": [
    "class A:\n",
    "    def m1(self):\n",
    "        print('método de A')\n",
    "class B(A):\n",
    "    def m2(self):\n",
    "        print('método de B')\n",
    "class C(A):\n",
    "    def m2(self):\n",
    "        print('método de C')                \n",
    "class D(B, C):\n",
    "    pass"
   ]
  },
  {
   "cell_type": "markdown",
   "metadata": {
    "colab_type": "text",
    "id": "4BChENY3r0-j"
   },
   "source": [
    "Essa ambiguidade é conhecida como o problema do diamante, ou problema do losango, e diferentes linguagens resolvem esse problema de maneiras diferentes. O Python segue uma ordem específica para percorrer a hierarquia de classes e essa ordem é chamada de MRO: Method Resolution Order (Ordem de Resolução de Métodos).\n",
    "\n",
    "Toda  classe  tem  um  atributo   `__mro__`   que  retorna  uma  tupla  de  referências  das  superclasses  na ordem MRO - da classe atual até a classe  `object`. \n",
    "\n",
    "Vejamos o MRO da classe  `D`:"
   ]
  },
  {
   "cell_type": "code",
   "execution_count": 0,
   "metadata": {
    "colab": {
     "base_uri": "https://localhost:8080/",
     "height": 34
    },
    "colab_type": "code",
    "id": "sU52HjJvsB7X",
    "outputId": "0a8c2e03-ae52-4ff5-d063-06fdb90bab35"
   },
   "outputs": [
    {
     "name": "stdout",
     "output_type": "stream",
     "text": [
      "[<class '__main__.D'>, <class '__main__.B'>, <class '__main__.C'>, <class '__main__.A'>, <class 'object'>]\n"
     ]
    }
   ],
   "source": [
    "print(D.mro())"
   ]
  },
  {
   "cell_type": "markdown",
   "metadata": {
    "colab_type": "text",
    "id": "xLA6Hle9sHC3"
   },
   "source": [
    "A ordem é sempre da esquerda para direita. Repare que o Python vai procurar a chamada do método `m2()`  primeiro na classe   `D`, não encontrando vai procurar em   `B`  (a  primeira classe  herdada). Caso não encontre em  `B`, vai procurar em  `C`  e só então procurar em  `A`  - e por último na classe  `object`.\n",
    "\n",
    "Também podemos acessar o atributo  `__mro__`  através do método   `mro()`  chamado pela classe que retorna uma lista ao invés de uma tupla:"
   ]
  },
  {
   "cell_type": "code",
   "execution_count": 0,
   "metadata": {
    "colab": {},
    "colab_type": "code",
    "id": "PG3jfkCvsX9x"
   },
   "outputs": [],
   "source": [
    "print(D.mro())"
   ]
  },
  {
   "cell_type": "markdown",
   "metadata": {
    "colab_type": "text",
    "id": "LcmgisURsa76"
   },
   "source": [
    "Portanto, seguindo o MRO, a classe  `D`  chama o método  `m2()`  da classe  `B`:"
   ]
  },
  {
   "cell_type": "code",
   "execution_count": 0,
   "metadata": {
    "colab": {},
    "colab_type": "code",
    "id": "fKySycyfshdt"
   },
   "outputs": [],
   "source": [
    "d = D()"
   ]
  },
  {
   "cell_type": "code",
   "execution_count": 0,
   "metadata": {
    "colab": {},
    "colab_type": "code",
    "id": "6ZpzOZDishsp"
   },
   "outputs": [],
   "source": [
    "d.m1()"
   ]
  },
  {
   "cell_type": "code",
   "execution_count": 0,
   "metadata": {
    "colab": {},
    "colab_type": "code",
    "id": "GBrKceSZshm1"
   },
   "outputs": [],
   "source": [
    "d.m2()"
   ]
  },
  {
   "cell_type": "markdown",
   "metadata": {
    "colab_type": "text",
    "id": "x_s22H6zsnMz"
   },
   "source": [
    "Felizmente, a função  `super()`  sabe como lidar de forma inteligente com herança múltipla. Se usá-la dentro do método todos os métodos das superclasses devem ser chamados seguindo o MRO."
   ]
  },
  {
   "cell_type": "code",
   "execution_count": 0,
   "metadata": {
    "colab": {},
    "colab_type": "code",
    "id": "BnlgwuJ8suop"
   },
   "outputs": [],
   "source": [
    "class A:\n",
    "    def m1(self):\n",
    "        print('método de A')\n",
    "class B(A):\n",
    "    def m1(self):\n",
    "        super().m1()\n",
    "    def m2(self):\n",
    "        print('método de B')\n",
    "class C(A):\n",
    "    def m1(self):\n",
    "        super().m1()\n",
    "    def m2(self):\n",
    "        print('método de C')                \n",
    "class D(B, C):\n",
    "    def m1(self):\n",
    "        super().m1()\n",
    "    def m2(self):\n",
    "        super().m2()"
   ]
  },
  {
   "cell_type": "code",
   "execution_count": 0,
   "metadata": {
    "colab": {},
    "colab_type": "code",
    "id": "p7Nu68qSsvlP"
   },
   "outputs": [],
   "source": [
    "d = D()\n",
    "d.m1()\n",
    "d.m2()"
   ]
  },
  {
   "cell_type": "markdown",
   "metadata": {
    "colab_type": "text",
    "id": "2lEfnXqks2Re"
   },
   "source": [
    "### 10.2 MIX-INS\n",
    "Se  usarmos  herança  múltipla,  geralmente  é  uma  boa  idéia  projetarmos  nossas  classes  de  uma maneira que evite o tipo de ambiguidade descrita acima - apesar do Python possuir o MRO, em sistemas grandes a herança múltipla ainda pode causar muitos problemas.\n",
    "\n",
    "Uma maneira de fazer isso é dividir a funcionalidade opcional em mix-ins. Um mix-in é uma classe que não se destina a ser independente - existe para adicionar funcionalidade extra a outra classe através de herança múltipla. A ideia é que classes herdem estes mix-ins, essas \"misturas de funcionalidades\".\n",
    "\n",
    "Por  exemplo,  nossa  classe    `Autenticavel`    pode  ser  um  mix-in  já  que  ela  existe  apenas  para\n",
    "acrescentar a funcionalidade de ser autenticável, ou seja, para herdar seu método  autentica .\n",
    "\n",
    "Nossa classe  `Autenticavel`  já se comporta como um  Mix-In . No Python não existe uma maneira específica de criar mix-ins. Os programadores, por convenção e para deixar explícito a classe como um\n",
    "mix-in, colocam o termo 'MixIn' no nome da classe e utilizam através de herança múltipla:"
   ]
  },
  {
   "cell_type": "code",
   "execution_count": 0,
   "metadata": {
    "colab": {},
    "colab_type": "code",
    "id": "T9xBvhq4tM7J"
   },
   "outputs": [],
   "source": [
    "class AutenticavelMixIn:\n",
    "    def autentica(self, senha):\n",
    "        # verifica senha"
   ]
  },
  {
   "cell_type": "markdown",
   "metadata": {
    "colab_type": "text",
    "id": "qWZaJJ5WtPiE"
   },
   "source": [
    "Cada mix-in  é  responsável  por  fornecer  uma  peça  específica  de  funcionalidade  opcional.  Podemos\n",
    "ter outros mix-ins no nosso sistema:"
   ]
  },
  {
   "cell_type": "code",
   "execution_count": 0,
   "metadata": {
    "colab": {},
    "colab_type": "code",
    "id": "u0W4jyTatTes"
   },
   "outputs": [],
   "source": [
    "class AtendimentoMixIn:\n",
    "    def cadastra_atendimento(self):\n",
    "        # faz cadastro atendimento\n",
    "    def atende_cliente(self):\n",
    "        # faz atendimento\n",
    "class HoraExtraMixIn:\n",
    "    def calcula_hora_extra(self, horas):\n",
    "        # calcula horas extras"
   ]
  },
  {
   "cell_type": "markdown",
   "metadata": {
    "colab_type": "text",
    "id": "Rdj8M0oVtXwl"
   },
   "source": [
    "E podemos misturá-los nas classes de nosso sistema:"
   ]
  },
  {
   "cell_type": "code",
   "execution_count": 0,
   "metadata": {
    "colab": {},
    "colab_type": "code",
    "id": "2sm94F_6tYjX"
   },
   "outputs": [],
   "source": [
    "class Gerente(Funcionario, AutenticavelMixIn, HoraExtraMixIn):\n",
    "    pass\n",
    "\n",
    "class Diretor(Funcionario, AutenticavelMixIn):\n",
    "    pass\n",
    "\n",
    "class Cliente(AutentivavelMixIn):\n",
    "    pass    \n",
    "\n",
    "class Escriturario(Funcionario, AtentimentoMixIn):\n",
    "    pass"
   ]
  },
  {
   "cell_type": "markdown",
   "metadata": {
    "colab_type": "text",
    "id": "j2JBdJ7ftiKU"
   },
   "source": [
    "Repare  que  nossos  mix-ins  não  tem  um  método   `__init__()`.  Muitos  mix-ins  apenas  fornecem\n",
    "métodos  adicionais  mas  não  inicializam  nada.  Isso  às  vezes  significa  que  eles  dependem  de  outras\n",
    "propriedades que já existem em suas filhas. Cada mix-in é responsável por fornecer uma peça específica\n",
    "de funcionalidade opcional - é um jeito de compor classes.\n",
    "\n",
    "Poderíamos estender este exemplo com mais misturas que representam a capacidade de pagar taxas, a capacidade de ser pago por serviços, e assim por diante - poderíamos então criar uma hierarquia de classes relativamente plana para diferentes tipos de classes de funcionário que herdam   Funcionario  e alguns mix-ins .\n",
    "\n",
    "Essa é uma das abordagens de se usar herança múltipla mas ela é bastante desencorajada. Caso você utilize,  opte  por  Mix  Ins  sabendo  de  suas  desvantagens.  Usado  em  sistemas  grandes  podem  ocorrer colisões com nomes de métodos, métodos substituídos acidentalmente, hierarquia de classe pouco clara e  dificuldade  de  ler  e  entender  classes  compostas  por  muitos  mix-ins,  dentre  outras  desvantagens.  O problema da herança múltipla permanece.\n",
    "\n",
    "Outra  abordagem  possível  é  definir  funções  fora  de  classes,  digamos  em  um  módulo  e  fazer\n",
    "chamadas  dessas  funções  passando  nossos  objetos.\n",
    "\n",
    "Mas  isso  é  um  afastamento  radical  do  paradigma\n",
    "orientado a objetos que é baseada em métodos definidos dentro das classes."
   ]
  },
  {
   "cell_type": "markdown",
   "metadata": {
    "colab_type": "text",
    "id": "tgIIPjRwt9rB"
   },
   "source": [
    "### 10.3 PARA SABE MAIS - TKINTER\n",
    "Tkinter é um framework que faz parte da biblioteca padrão do Python utilizado para criar interface gráfica. É um caso onde mix-ins trabalham bem já que se trata de um pequeno framework, mas também é  suficientemente  grande  para  que  seja  possível  ver  o  problema.  Veja  um exemplo  de  parte  de  sua hierarquia de classe:"
   ]
  },
  {
   "cell_type": "markdown",
   "metadata": {
    "colab_type": "text",
    "id": "yLY7N8mJtjD_"
   },
   "source": [
    "** imagem **"
   ]
  },
  {
   "cell_type": "markdown",
   "metadata": {
    "colab_type": "text",
    "id": "KQdh3rIktkyT"
   },
   "source": [
    "Essa  figura  mostra  parte  do  complicado  modelo  de  classes  utilizando  herança  múltipla  do  pacote\n",
    " Tkinter. A setas representam o MRO que deve iniciar na classe   `Text`. A classe   `Text`   implementa um campo de texto editável e tem muitas funcionalidades próprias, além de herdar muitos métodos de outras classes.\n",
    "\n",
    "Uma outra classe do pacote que não aparece neste diagrama é a   `Label` , utilizada para mostrar um texto  ou  bitmap  na  tela.  Você  pode  testar  no  Pycharm,  aproveitando  a  ferramenta  de  autocomplete, chamando  `Tkinter.Label.`  e a IDE vai te mostrar 181 sugestões de atributos em uma única classe! Ou você pode utilizar a função  `help()`  para checar a origem de cada um deles."
   ]
  },
  {
   "cell_type": "code",
   "execution_count": 0,
   "metadata": {
    "colab": {
     "base_uri": "https://localhost:8080/",
     "height": 1000
    },
    "colab_type": "code",
    "id": "gWr1Fl2WuWst",
    "outputId": "7866bca7-01c3-454a-8d5b-0bb150778ee7"
   },
   "outputs": [
    {
     "name": "stdout",
     "output_type": "stream",
     "text": [
      "Help on class Label in module tkinter:\n",
      "\n",
      "class Label(Widget)\n",
      " |  Label widget which can display text and bitmaps.\n",
      " |  \n",
      " |  Method resolution order:\n",
      " |      Label\n",
      " |      Widget\n",
      " |      BaseWidget\n",
      " |      Misc\n",
      " |      Pack\n",
      " |      Place\n",
      " |      Grid\n",
      " |      builtins.object\n",
      " |  \n",
      " |  Methods defined here:\n",
      " |  \n",
      " |  __init__(self, master=None, cnf={}, **kw)\n",
      " |      Construct a label widget with the parent MASTER.\n",
      " |      \n",
      " |      STANDARD OPTIONS\n",
      " |      \n",
      " |          activebackground, activeforeground, anchor,\n",
      " |          background, bitmap, borderwidth, cursor,\n",
      " |          disabledforeground, font, foreground,\n",
      " |          highlightbackground, highlightcolor,\n",
      " |          highlightthickness, image, justify,\n",
      " |          padx, pady, relief, takefocus, text,\n",
      " |          textvariable, underline, wraplength\n",
      " |      \n",
      " |      WIDGET-SPECIFIC OPTIONS\n",
      " |      \n",
      " |          height, state, width\n",
      " |  \n",
      " |  ----------------------------------------------------------------------\n",
      " |  Methods inherited from BaseWidget:\n",
      " |  \n",
      " |  destroy(self)\n",
      " |      Destroy this and all descendants widgets.\n",
      " |  \n",
      " |  ----------------------------------------------------------------------\n",
      " |  Methods inherited from Misc:\n",
      " |  \n",
      " |  __getitem__ = cget(self, key)\n",
      " |  \n",
      " |  __repr__(self)\n",
      " |      Return repr(self).\n",
      " |  \n",
      " |  __setitem__(self, key, value)\n",
      " |  \n",
      " |  __str__(self)\n",
      " |      Return the window path name of this widget.\n",
      " |  \n",
      " |  after(self, ms, func=None, *args)\n",
      " |      Call function once after given time.\n",
      " |      \n",
      " |      MS specifies the time in milliseconds. FUNC gives the\n",
      " |      function which shall be called. Additional parameters\n",
      " |      are given as parameters to the function call.  Return\n",
      " |      identifier to cancel scheduling with after_cancel.\n",
      " |  \n",
      " |  after_cancel(self, id)\n",
      " |      Cancel scheduling of function identified with ID.\n",
      " |      \n",
      " |      Identifier returned by after or after_idle must be\n",
      " |      given as first parameter.\n",
      " |  \n",
      " |  after_idle(self, func, *args)\n",
      " |      Call FUNC once if the Tcl main loop has no event to\n",
      " |      process.\n",
      " |      \n",
      " |      Return an identifier to cancel the scheduling with\n",
      " |      after_cancel.\n",
      " |  \n",
      " |  anchor = grid_anchor(self, anchor=None)\n",
      " |  \n",
      " |  bbox = grid_bbox(self, column=None, row=None, col2=None, row2=None)\n",
      " |  \n",
      " |  bell(self, displayof=0)\n",
      " |      Ring a display's bell.\n",
      " |  \n",
      " |  bind(self, sequence=None, func=None, add=None)\n",
      " |      Bind to this widget at event SEQUENCE a call to function FUNC.\n",
      " |      \n",
      " |      SEQUENCE is a string of concatenated event\n",
      " |      patterns. An event pattern is of the form\n",
      " |      <MODIFIER-MODIFIER-TYPE-DETAIL> where MODIFIER is one\n",
      " |      of Control, Mod2, M2, Shift, Mod3, M3, Lock, Mod4, M4,\n",
      " |      Button1, B1, Mod5, M5 Button2, B2, Meta, M, Button3,\n",
      " |      B3, Alt, Button4, B4, Double, Button5, B5 Triple,\n",
      " |      Mod1, M1. TYPE is one of Activate, Enter, Map,\n",
      " |      ButtonPress, Button, Expose, Motion, ButtonRelease\n",
      " |      FocusIn, MouseWheel, Circulate, FocusOut, Property,\n",
      " |      Colormap, Gravity Reparent, Configure, KeyPress, Key,\n",
      " |      Unmap, Deactivate, KeyRelease Visibility, Destroy,\n",
      " |      Leave and DETAIL is the button number for ButtonPress,\n",
      " |      ButtonRelease and DETAIL is the Keysym for KeyPress and\n",
      " |      KeyRelease. Examples are\n",
      " |      <Control-Button-1> for pressing Control and mouse button 1 or\n",
      " |      <Alt-A> for pressing A and the Alt key (KeyPress can be omitted).\n",
      " |      An event pattern can also be a virtual event of the form\n",
      " |      <<AString>> where AString can be arbitrary. This\n",
      " |      event can be generated by event_generate.\n",
      " |      If events are concatenated they must appear shortly\n",
      " |      after each other.\n",
      " |      \n",
      " |      FUNC will be called if the event sequence occurs with an\n",
      " |      instance of Event as argument. If the return value of FUNC is\n",
      " |      \"break\" no further bound function is invoked.\n",
      " |      \n",
      " |      An additional boolean parameter ADD specifies whether FUNC will\n",
      " |      be called additionally to the other bound function or whether\n",
      " |      it will replace the previous function.\n",
      " |      \n",
      " |      Bind will return an identifier to allow deletion of the bound function with\n",
      " |      unbind without memory leak.\n",
      " |      \n",
      " |      If FUNC or SEQUENCE is omitted the bound function or list\n",
      " |      of bound events are returned.\n",
      " |  \n",
      " |  bind_all(self, sequence=None, func=None, add=None)\n",
      " |      Bind to all widgets at an event SEQUENCE a call to function FUNC.\n",
      " |      An additional boolean parameter ADD specifies whether FUNC will\n",
      " |      be called additionally to the other bound function or whether\n",
      " |      it will replace the previous function. See bind for the return value.\n",
      " |  \n",
      " |  bind_class(self, className, sequence=None, func=None, add=None)\n",
      " |      Bind to widgets with bindtag CLASSNAME at event\n",
      " |      SEQUENCE a call of function FUNC. An additional\n",
      " |      boolean parameter ADD specifies whether FUNC will be\n",
      " |      called additionally to the other bound function or\n",
      " |      whether it will replace the previous function. See bind for\n",
      " |      the return value.\n",
      " |  \n",
      " |  bindtags(self, tagList=None)\n",
      " |      Set or get the list of bindtags for this widget.\n",
      " |      \n",
      " |      With no argument return the list of all bindtags associated with\n",
      " |      this widget. With a list of strings as argument the bindtags are\n",
      " |      set to this list. The bindtags determine in which order events are\n",
      " |      processed (see bind).\n",
      " |  \n",
      " |  cget(self, key)\n",
      " |      Return the resource value for a KEY given as string.\n",
      " |  \n",
      " |  clipboard_append(self, string, **kw)\n",
      " |      Append STRING to the Tk clipboard.\n",
      " |      \n",
      " |      A widget specified at the optional displayof keyword\n",
      " |      argument specifies the target display. The clipboard\n",
      " |      can be retrieved with selection_get.\n",
      " |  \n",
      " |  clipboard_clear(self, **kw)\n",
      " |      Clear the data in the Tk clipboard.\n",
      " |      \n",
      " |      A widget specified for the optional displayof keyword\n",
      " |      argument specifies the target display.\n",
      " |  \n",
      " |  clipboard_get(self, **kw)\n",
      " |      Retrieve data from the clipboard on window's display.\n",
      " |      \n",
      " |      The window keyword defaults to the root window of the Tkinter\n",
      " |      application.\n",
      " |      \n",
      " |      The type keyword specifies the form in which the data is\n",
      " |      to be returned and should be an atom name such as STRING\n",
      " |      or FILE_NAME.  Type defaults to STRING, except on X11, where the default\n",
      " |      is to try UTF8_STRING and fall back to STRING.\n",
      " |      \n",
      " |      This command is equivalent to:\n",
      " |      \n",
      " |      selection_get(CLIPBOARD)\n",
      " |  \n",
      " |  columnconfigure = grid_columnconfigure(self, index, cnf={}, **kw)\n",
      " |  \n",
      " |  config = configure(self, cnf=None, **kw)\n",
      " |  \n",
      " |  configure(self, cnf=None, **kw)\n",
      " |      Configure resources of a widget.\n",
      " |      \n",
      " |      The values for resources are specified as keyword\n",
      " |      arguments. To get an overview about\n",
      " |      the allowed keyword arguments call the method keys.\n",
      " |  \n",
      " |  deletecommand(self, name)\n",
      " |      Internal function.\n",
      " |      \n",
      " |      Delete the Tcl command provided in NAME.\n",
      " |  \n",
      " |  event_add(self, virtual, *sequences)\n",
      " |      Bind a virtual event VIRTUAL (of the form <<Name>>)\n",
      " |      to an event SEQUENCE such that the virtual event is triggered\n",
      " |      whenever SEQUENCE occurs.\n",
      " |  \n",
      " |  event_delete(self, virtual, *sequences)\n",
      " |      Unbind a virtual event VIRTUAL from SEQUENCE.\n",
      " |  \n",
      " |  event_generate(self, sequence, **kw)\n",
      " |      Generate an event SEQUENCE. Additional\n",
      " |      keyword arguments specify parameter of the event\n",
      " |      (e.g. x, y, rootx, rooty).\n",
      " |  \n",
      " |  event_info(self, virtual=None)\n",
      " |      Return a list of all virtual events or the information\n",
      " |      about the SEQUENCE bound to the virtual event VIRTUAL.\n",
      " |  \n",
      " |  focus = focus_set(self)\n",
      " |  \n",
      " |  focus_displayof(self)\n",
      " |      Return the widget which has currently the focus on the\n",
      " |      display where this widget is located.\n",
      " |      \n",
      " |      Return None if the application does not have the focus.\n",
      " |  \n",
      " |  focus_force(self)\n",
      " |      Direct input focus to this widget even if the\n",
      " |      application does not have the focus. Use with\n",
      " |      caution!\n",
      " |  \n",
      " |  focus_get(self)\n",
      " |      Return the widget which has currently the focus in the\n",
      " |      application.\n",
      " |      \n",
      " |      Use focus_displayof to allow working with several\n",
      " |      displays. Return None if application does not have\n",
      " |      the focus.\n",
      " |  \n",
      " |  focus_lastfor(self)\n",
      " |      Return the widget which would have the focus if top level\n",
      " |      for this widget gets the focus from the window manager.\n",
      " |  \n",
      " |  focus_set(self)\n",
      " |      Direct input focus to this widget.\n",
      " |      \n",
      " |      If the application currently does not have the focus\n",
      " |      this widget will get the focus if the application gets\n",
      " |      the focus through the window manager.\n",
      " |  \n",
      " |  getboolean(self, s)\n",
      " |      Return a boolean value for Tcl boolean values true and false given as parameter.\n",
      " |  \n",
      " |  getdouble(self, s)\n",
      " |  \n",
      " |  getint(self, s)\n",
      " |  \n",
      " |  getvar(self, name='PY_VAR')\n",
      " |      Return value of Tcl variable NAME.\n",
      " |  \n",
      " |  grab_current(self)\n",
      " |      Return widget which has currently the grab in this application\n",
      " |      or None.\n",
      " |  \n",
      " |  grab_release(self)\n",
      " |      Release grab for this widget if currently set.\n",
      " |  \n",
      " |  grab_set(self)\n",
      " |      Set grab for this widget.\n",
      " |      \n",
      " |      A grab directs all events to this and descendant\n",
      " |      widgets in the application.\n",
      " |  \n",
      " |  grab_set_global(self)\n",
      " |      Set global grab for this widget.\n",
      " |      \n",
      " |      A global grab directs all events to this and\n",
      " |      descendant widgets on the display. Use with caution -\n",
      " |      other applications do not get events anymore.\n",
      " |  \n",
      " |  grab_status(self)\n",
      " |      Return None, \"local\" or \"global\" if this widget has\n",
      " |      no, a local or a global grab.\n",
      " |  \n",
      " |  grid_anchor(self, anchor=None)\n",
      " |      The anchor value controls how to place the grid within the\n",
      " |      master when no row/column has any weight.\n",
      " |      \n",
      " |      The default anchor is nw.\n",
      " |  \n",
      " |  grid_bbox(self, column=None, row=None, col2=None, row2=None)\n",
      " |      Return a tuple of integer coordinates for the bounding\n",
      " |      box of this widget controlled by the geometry manager grid.\n",
      " |      \n",
      " |      If COLUMN, ROW is given the bounding box applies from\n",
      " |      the cell with row and column 0 to the specified\n",
      " |      cell. If COL2 and ROW2 are given the bounding box\n",
      " |      starts at that cell.\n",
      " |      \n",
      " |      The returned integers specify the offset of the upper left\n",
      " |      corner in the master widget and the width and height.\n",
      " |  \n",
      " |  grid_columnconfigure(self, index, cnf={}, **kw)\n",
      " |      Configure column INDEX of a grid.\n",
      " |      \n",
      " |      Valid resources are minsize (minimum size of the column),\n",
      " |      weight (how much does additional space propagate to this column)\n",
      " |      and pad (how much space to let additionally).\n",
      " |  \n",
      " |  grid_location(self, x, y)\n",
      " |      Return a tuple of column and row which identify the cell\n",
      " |      at which the pixel at position X and Y inside the master\n",
      " |      widget is located.\n",
      " |  \n",
      " |  grid_propagate(self, flag=['_noarg_'])\n",
      " |      Set or get the status for propagation of geometry information.\n",
      " |      \n",
      " |      A boolean argument specifies whether the geometry information\n",
      " |      of the slaves will determine the size of this widget. If no argument\n",
      " |      is given, the current setting will be returned.\n",
      " |  \n",
      " |  grid_rowconfigure(self, index, cnf={}, **kw)\n",
      " |      Configure row INDEX of a grid.\n",
      " |      \n",
      " |      Valid resources are minsize (minimum size of the row),\n",
      " |      weight (how much does additional space propagate to this row)\n",
      " |      and pad (how much space to let additionally).\n",
      " |  \n",
      " |  grid_size(self)\n",
      " |      Return a tuple of the number of column and rows in the grid.\n",
      " |  \n",
      " |  grid_slaves(self, row=None, column=None)\n",
      " |      Return a list of all slaves of this widget\n",
      " |      in its packing order.\n",
      " |  \n",
      " |  image_names(self)\n",
      " |      Return a list of all existing image names.\n",
      " |  \n",
      " |  image_types(self)\n",
      " |      Return a list of all available image types (e.g. photo bitmap).\n",
      " |  \n",
      " |  keys(self)\n",
      " |      Return a list of all resource names of this widget.\n",
      " |  \n",
      " |  lift = tkraise(self, aboveThis=None)\n",
      " |  \n",
      " |  lower(self, belowThis=None)\n",
      " |      Lower this widget in the stacking order.\n",
      " |  \n",
      " |  mainloop(self, n=0)\n",
      " |      Call the mainloop of Tk.\n",
      " |  \n",
      " |  nametowidget(self, name)\n",
      " |      Return the Tkinter instance of a widget identified by\n",
      " |      its Tcl name NAME.\n",
      " |  \n",
      " |  option_add(self, pattern, value, priority=None)\n",
      " |      Set a VALUE (second parameter) for an option\n",
      " |      PATTERN (first parameter).\n",
      " |      \n",
      " |      An optional third parameter gives the numeric priority\n",
      " |      (defaults to 80).\n",
      " |  \n",
      " |  option_clear(self)\n",
      " |      Clear the option database.\n",
      " |      \n",
      " |      It will be reloaded if option_add is called.\n",
      " |  \n",
      " |  option_get(self, name, className)\n",
      " |      Return the value for an option NAME for this widget\n",
      " |      with CLASSNAME.\n",
      " |      \n",
      " |      Values with higher priority override lower values.\n",
      " |  \n",
      " |  option_readfile(self, fileName, priority=None)\n",
      " |      Read file FILENAME into the option database.\n",
      " |      \n",
      " |      An optional second parameter gives the numeric\n",
      " |      priority.\n",
      " |  \n",
      " |  pack_propagate(self, flag=['_noarg_'])\n",
      " |      Set or get the status for propagation of geometry information.\n",
      " |      \n",
      " |      A boolean argument specifies whether the geometry information\n",
      " |      of the slaves will determine the size of this widget. If no argument\n",
      " |      is given the current setting will be returned.\n",
      " |  \n",
      " |  pack_slaves(self)\n",
      " |      Return a list of all slaves of this widget\n",
      " |      in its packing order.\n",
      " |  \n",
      " |  place_slaves(self)\n",
      " |      Return a list of all slaves of this widget\n",
      " |      in its packing order.\n",
      " |  \n",
      " |  propagate = pack_propagate(self, flag=['_noarg_'])\n",
      " |  \n",
      " |  quit(self)\n",
      " |      Quit the Tcl interpreter. All widgets will be destroyed.\n",
      " |  \n",
      " |  register = _register(self, func, subst=None, needcleanup=1)\n",
      " |  \n",
      " |  rowconfigure = grid_rowconfigure(self, index, cnf={}, **kw)\n",
      " |  \n",
      " |  selection_clear(self, **kw)\n",
      " |      Clear the current X selection.\n",
      " |  \n",
      " |  selection_get(self, **kw)\n",
      " |      Return the contents of the current X selection.\n",
      " |      \n",
      " |      A keyword parameter selection specifies the name of\n",
      " |      the selection and defaults to PRIMARY.  A keyword\n",
      " |      parameter displayof specifies a widget on the display\n",
      " |      to use. A keyword parameter type specifies the form of data to be\n",
      " |      fetched, defaulting to STRING except on X11, where UTF8_STRING is tried\n",
      " |      before STRING.\n",
      " |  \n",
      " |  selection_handle(self, command, **kw)\n",
      " |      Specify a function COMMAND to call if the X\n",
      " |      selection owned by this widget is queried by another\n",
      " |      application.\n",
      " |      \n",
      " |      This function must return the contents of the\n",
      " |      selection. The function will be called with the\n",
      " |      arguments OFFSET and LENGTH which allows the chunking\n",
      " |      of very long selections. The following keyword\n",
      " |      parameters can be provided:\n",
      " |      selection - name of the selection (default PRIMARY),\n",
      " |      type - type of the selection (e.g. STRING, FILE_NAME).\n",
      " |  \n",
      " |  selection_own(self, **kw)\n",
      " |      Become owner of X selection.\n",
      " |      \n",
      " |      A keyword parameter selection specifies the name of\n",
      " |      the selection (default PRIMARY).\n",
      " |  \n",
      " |  selection_own_get(self, **kw)\n",
      " |      Return owner of X selection.\n",
      " |      \n",
      " |      The following keyword parameter can\n",
      " |      be provided:\n",
      " |      selection - name of the selection (default PRIMARY),\n",
      " |      type - type of the selection (e.g. STRING, FILE_NAME).\n",
      " |  \n",
      " |  send(self, interp, cmd, *args)\n",
      " |      Send Tcl command CMD to different interpreter INTERP to be executed.\n",
      " |  \n",
      " |  setvar(self, name='PY_VAR', value='1')\n",
      " |      Set Tcl variable NAME to VALUE.\n",
      " |  \n",
      " |  size = grid_size(self)\n",
      " |  \n",
      " |  slaves = pack_slaves(self)\n",
      " |  \n",
      " |  tk_bisque(self)\n",
      " |      Change the color scheme to light brown as used in Tk 3.6 and before.\n",
      " |  \n",
      " |  tk_focusFollowsMouse(self)\n",
      " |      The widget under mouse will get automatically focus. Can not\n",
      " |      be disabled easily.\n",
      " |  \n",
      " |  tk_focusNext(self)\n",
      " |      Return the next widget in the focus order which follows\n",
      " |      widget which has currently the focus.\n",
      " |      \n",
      " |      The focus order first goes to the next child, then to\n",
      " |      the children of the child recursively and then to the\n",
      " |      next sibling which is higher in the stacking order.  A\n",
      " |      widget is omitted if it has the takefocus resource set\n",
      " |      to 0.\n",
      " |  \n",
      " |  tk_focusPrev(self)\n",
      " |      Return previous widget in the focus order. See tk_focusNext for details.\n",
      " |  \n",
      " |  tk_setPalette(self, *args, **kw)\n",
      " |      Set a new color scheme for all widget elements.\n",
      " |      \n",
      " |      A single color as argument will cause that all colors of Tk\n",
      " |      widget elements are derived from this.\n",
      " |      Alternatively several keyword parameters and its associated\n",
      " |      colors can be given. The following keywords are valid:\n",
      " |      activeBackground, foreground, selectColor,\n",
      " |      activeForeground, highlightBackground, selectBackground,\n",
      " |      background, highlightColor, selectForeground,\n",
      " |      disabledForeground, insertBackground, troughColor.\n",
      " |  \n",
      " |  tk_strictMotif(self, boolean=None)\n",
      " |      Set Tcl internal variable, whether the look and feel\n",
      " |      should adhere to Motif.\n",
      " |      \n",
      " |      A parameter of 1 means adhere to Motif (e.g. no color\n",
      " |      change if mouse passes over slider).\n",
      " |      Returns the set value.\n",
      " |  \n",
      " |  tkraise(self, aboveThis=None)\n",
      " |      Raise this widget in the stacking order.\n",
      " |  \n",
      " |  unbind(self, sequence, funcid=None)\n",
      " |      Unbind for this widget for event SEQUENCE  the\n",
      " |      function identified with FUNCID.\n",
      " |  \n",
      " |  unbind_all(self, sequence)\n",
      " |      Unbind for all widgets for event SEQUENCE all functions.\n",
      " |  \n",
      " |  unbind_class(self, className, sequence)\n",
      " |      Unbind for all widgets with bindtag CLASSNAME for event SEQUENCE\n",
      " |      all functions.\n",
      " |  \n",
      " |  update(self)\n",
      " |      Enter event loop until all pending events have been processed by Tcl.\n",
      " |  \n",
      " |  update_idletasks(self)\n",
      " |      Enter event loop until all idle callbacks have been called. This\n",
      " |      will update the display of windows but not process events caused by\n",
      " |      the user.\n",
      " |  \n",
      " |  wait_variable(self, name='PY_VAR')\n",
      " |      Wait until the variable is modified.\n",
      " |      \n",
      " |      A parameter of type IntVar, StringVar, DoubleVar or\n",
      " |      BooleanVar must be given.\n",
      " |  \n",
      " |  wait_visibility(self, window=None)\n",
      " |      Wait until the visibility of a WIDGET changes\n",
      " |      (e.g. it appears).\n",
      " |      \n",
      " |      If no parameter is given self is used.\n",
      " |  \n",
      " |  wait_window(self, window=None)\n",
      " |      Wait until a WIDGET is destroyed.\n",
      " |      \n",
      " |      If no parameter is given self is used.\n",
      " |  \n",
      " |  waitvar = wait_variable(self, name='PY_VAR')\n",
      " |  \n",
      " |  winfo_atom(self, name, displayof=0)\n",
      " |      Return integer which represents atom NAME.\n",
      " |  \n",
      " |  winfo_atomname(self, id, displayof=0)\n",
      " |      Return name of atom with identifier ID.\n",
      " |  \n",
      " |  winfo_cells(self)\n",
      " |      Return number of cells in the colormap for this widget.\n",
      " |  \n",
      " |  winfo_children(self)\n",
      " |      Return a list of all widgets which are children of this widget.\n",
      " |  \n",
      " |  winfo_class(self)\n",
      " |      Return window class name of this widget.\n",
      " |  \n",
      " |  winfo_colormapfull(self)\n",
      " |      Return true if at the last color request the colormap was full.\n",
      " |  \n",
      " |  winfo_containing(self, rootX, rootY, displayof=0)\n",
      " |      Return the widget which is at the root coordinates ROOTX, ROOTY.\n",
      " |  \n",
      " |  winfo_depth(self)\n",
      " |      Return the number of bits per pixel.\n",
      " |  \n",
      " |  winfo_exists(self)\n",
      " |      Return true if this widget exists.\n",
      " |  \n",
      " |  winfo_fpixels(self, number)\n",
      " |      Return the number of pixels for the given distance NUMBER\n",
      " |      (e.g. \"3c\") as float.\n",
      " |  \n",
      " |  winfo_geometry(self)\n",
      " |      Return geometry string for this widget in the form \"widthxheight+X+Y\".\n",
      " |  \n",
      " |  winfo_height(self)\n",
      " |      Return height of this widget.\n",
      " |  \n",
      " |  winfo_id(self)\n",
      " |      Return identifier ID for this widget.\n",
      " |  \n",
      " |  winfo_interps(self, displayof=0)\n",
      " |      Return the name of all Tcl interpreters for this display.\n",
      " |  \n",
      " |  winfo_ismapped(self)\n",
      " |      Return true if this widget is mapped.\n",
      " |  \n",
      " |  winfo_manager(self)\n",
      " |      Return the window manager name for this widget.\n",
      " |  \n",
      " |  winfo_name(self)\n",
      " |      Return the name of this widget.\n",
      " |  \n",
      " |  winfo_parent(self)\n",
      " |      Return the name of the parent of this widget.\n",
      " |  \n",
      " |  winfo_pathname(self, id, displayof=0)\n",
      " |      Return the pathname of the widget given by ID.\n",
      " |  \n",
      " |  winfo_pixels(self, number)\n",
      " |      Rounded integer value of winfo_fpixels.\n",
      " |  \n",
      " |  winfo_pointerx(self)\n",
      " |      Return the x coordinate of the pointer on the root window.\n",
      " |  \n",
      " |  winfo_pointerxy(self)\n",
      " |      Return a tuple of x and y coordinates of the pointer on the root window.\n",
      " |  \n",
      " |  winfo_pointery(self)\n",
      " |      Return the y coordinate of the pointer on the root window.\n",
      " |  \n",
      " |  winfo_reqheight(self)\n",
      " |      Return requested height of this widget.\n",
      " |  \n",
      " |  winfo_reqwidth(self)\n",
      " |      Return requested width of this widget.\n",
      " |  \n",
      " |  winfo_rgb(self, color)\n",
      " |      Return tuple of decimal values for red, green, blue for\n",
      " |      COLOR in this widget.\n",
      " |  \n",
      " |  winfo_rootx(self)\n",
      " |      Return x coordinate of upper left corner of this widget on the\n",
      " |      root window.\n",
      " |  \n",
      " |  winfo_rooty(self)\n",
      " |      Return y coordinate of upper left corner of this widget on the\n",
      " |      root window.\n",
      " |  \n",
      " |  winfo_screen(self)\n",
      " |      Return the screen name of this widget.\n",
      " |  \n",
      " |  winfo_screencells(self)\n",
      " |      Return the number of the cells in the colormap of the screen\n",
      " |      of this widget.\n",
      " |  \n",
      " |  winfo_screendepth(self)\n",
      " |      Return the number of bits per pixel of the root window of the\n",
      " |      screen of this widget.\n",
      " |  \n",
      " |  winfo_screenheight(self)\n",
      " |      Return the number of pixels of the height of the screen of this widget\n",
      " |      in pixel.\n",
      " |  \n",
      " |  winfo_screenmmheight(self)\n",
      " |      Return the number of pixels of the height of the screen of\n",
      " |      this widget in mm.\n",
      " |  \n",
      " |  winfo_screenmmwidth(self)\n",
      " |      Return the number of pixels of the width of the screen of\n",
      " |      this widget in mm.\n",
      " |  \n",
      " |  winfo_screenvisual(self)\n",
      " |      Return one of the strings directcolor, grayscale, pseudocolor,\n",
      " |      staticcolor, staticgray, or truecolor for the default\n",
      " |      colormodel of this screen.\n",
      " |  \n",
      " |  winfo_screenwidth(self)\n",
      " |      Return the number of pixels of the width of the screen of\n",
      " |      this widget in pixel.\n",
      " |  \n",
      " |  winfo_server(self)\n",
      " |      Return information of the X-Server of the screen of this widget in\n",
      " |      the form \"XmajorRminor vendor vendorVersion\".\n",
      " |  \n",
      " |  winfo_toplevel(self)\n",
      " |      Return the toplevel widget of this widget.\n",
      " |  \n",
      " |  winfo_viewable(self)\n",
      " |      Return true if the widget and all its higher ancestors are mapped.\n",
      " |  \n",
      " |  winfo_visual(self)\n",
      " |      Return one of the strings directcolor, grayscale, pseudocolor,\n",
      " |      staticcolor, staticgray, or truecolor for the\n",
      " |      colormodel of this widget.\n",
      " |  \n",
      " |  winfo_visualid(self)\n",
      " |      Return the X identifier for the visual for this widget.\n",
      " |  \n",
      " |  winfo_visualsavailable(self, includeids=False)\n",
      " |      Return a list of all visuals available for the screen\n",
      " |      of this widget.\n",
      " |      \n",
      " |      Each item in the list consists of a visual name (see winfo_visual), a\n",
      " |      depth and if includeids is true is given also the X identifier.\n",
      " |  \n",
      " |  winfo_vrootheight(self)\n",
      " |      Return the height of the virtual root window associated with this\n",
      " |      widget in pixels. If there is no virtual root window return the\n",
      " |      height of the screen.\n",
      " |  \n",
      " |  winfo_vrootwidth(self)\n",
      " |      Return the width of the virtual root window associated with this\n",
      " |      widget in pixel. If there is no virtual root window return the\n",
      " |      width of the screen.\n",
      " |  \n",
      " |  winfo_vrootx(self)\n",
      " |      Return the x offset of the virtual root relative to the root\n",
      " |      window of the screen of this widget.\n",
      " |  \n",
      " |  winfo_vrooty(self)\n",
      " |      Return the y offset of the virtual root relative to the root\n",
      " |      window of the screen of this widget.\n",
      " |  \n",
      " |  winfo_width(self)\n",
      " |      Return the width of this widget.\n",
      " |  \n",
      " |  winfo_x(self)\n",
      " |      Return the x coordinate of the upper left corner of this widget\n",
      " |      in the parent.\n",
      " |  \n",
      " |  winfo_y(self)\n",
      " |      Return the y coordinate of the upper left corner of this widget\n",
      " |      in the parent.\n",
      " |  \n",
      " |  ----------------------------------------------------------------------\n",
      " |  Data descriptors inherited from Misc:\n",
      " |  \n",
      " |  __dict__\n",
      " |      dictionary for instance variables (if defined)\n",
      " |  \n",
      " |  __weakref__\n",
      " |      list of weak references to the object (if defined)\n",
      " |  \n",
      " |  ----------------------------------------------------------------------\n",
      " |  Methods inherited from Pack:\n",
      " |  \n",
      " |  forget = pack_forget(self)\n",
      " |  \n",
      " |  info = pack_info(self)\n",
      " |  \n",
      " |  pack = pack_configure(self, cnf={}, **kw)\n",
      " |  \n",
      " |  pack_configure(self, cnf={}, **kw)\n",
      " |      Pack a widget in the parent widget. Use as options:\n",
      " |      after=widget - pack it after you have packed widget\n",
      " |      anchor=NSEW (or subset) - position widget according to\n",
      " |                                given direction\n",
      " |      before=widget - pack it before you will pack widget\n",
      " |      expand=bool - expand widget if parent size grows\n",
      " |      fill=NONE or X or Y or BOTH - fill widget if widget grows\n",
      " |      in=master - use master to contain this widget\n",
      " |      in_=master - see 'in' option description\n",
      " |      ipadx=amount - add internal padding in x direction\n",
      " |      ipady=amount - add internal padding in y direction\n",
      " |      padx=amount - add padding in x direction\n",
      " |      pady=amount - add padding in y direction\n",
      " |      side=TOP or BOTTOM or LEFT or RIGHT -  where to add this widget.\n",
      " |  \n",
      " |  pack_forget(self)\n",
      " |      Unmap this widget and do not use it for the packing order.\n",
      " |  \n",
      " |  pack_info(self)\n",
      " |      Return information about the packing options\n",
      " |      for this widget.\n",
      " |  \n",
      " |  ----------------------------------------------------------------------\n",
      " |  Methods inherited from Place:\n",
      " |  \n",
      " |  place = place_configure(self, cnf={}, **kw)\n",
      " |  \n",
      " |  place_configure(self, cnf={}, **kw)\n",
      " |      Place a widget in the parent widget. Use as options:\n",
      " |      in=master - master relative to which the widget is placed\n",
      " |      in_=master - see 'in' option description\n",
      " |      x=amount - locate anchor of this widget at position x of master\n",
      " |      y=amount - locate anchor of this widget at position y of master\n",
      " |      relx=amount - locate anchor of this widget between 0.0 and 1.0\n",
      " |                    relative to width of master (1.0 is right edge)\n",
      " |      rely=amount - locate anchor of this widget between 0.0 and 1.0\n",
      " |                    relative to height of master (1.0 is bottom edge)\n",
      " |      anchor=NSEW (or subset) - position anchor according to given direction\n",
      " |      width=amount - width of this widget in pixel\n",
      " |      height=amount - height of this widget in pixel\n",
      " |      relwidth=amount - width of this widget between 0.0 and 1.0\n",
      " |                        relative to width of master (1.0 is the same width\n",
      " |                        as the master)\n",
      " |      relheight=amount - height of this widget between 0.0 and 1.0\n",
      " |                         relative to height of master (1.0 is the same\n",
      " |                         height as the master)\n",
      " |      bordermode=\"inside\" or \"outside\" - whether to take border width of\n",
      " |                                         master widget into account\n",
      " |  \n",
      " |  place_forget(self)\n",
      " |      Unmap this widget.\n",
      " |  \n",
      " |  place_info(self)\n",
      " |      Return information about the placing options\n",
      " |      for this widget.\n",
      " |  \n",
      " |  ----------------------------------------------------------------------\n",
      " |  Methods inherited from Grid:\n",
      " |  \n",
      " |  grid = grid_configure(self, cnf={}, **kw)\n",
      " |  \n",
      " |  grid_configure(self, cnf={}, **kw)\n",
      " |      Position a widget in the parent widget in a grid. Use as options:\n",
      " |      column=number - use cell identified with given column (starting with 0)\n",
      " |      columnspan=number - this widget will span several columns\n",
      " |      in=master - use master to contain this widget\n",
      " |      in_=master - see 'in' option description\n",
      " |      ipadx=amount - add internal padding in x direction\n",
      " |      ipady=amount - add internal padding in y direction\n",
      " |      padx=amount - add padding in x direction\n",
      " |      pady=amount - add padding in y direction\n",
      " |      row=number - use cell identified with given row (starting with 0)\n",
      " |      rowspan=number - this widget will span several rows\n",
      " |      sticky=NSEW - if cell is larger on which sides will this\n",
      " |                    widget stick to the cell boundary\n",
      " |  \n",
      " |  grid_forget(self)\n",
      " |      Unmap this widget.\n",
      " |  \n",
      " |  grid_info(self)\n",
      " |      Return information about the options\n",
      " |      for positioning this widget in a grid.\n",
      " |  \n",
      " |  grid_remove(self)\n",
      " |      Unmap this widget but remember the grid options.\n",
      " |  \n",
      " |  location = grid_location(self, x, y)\n",
      "\n"
     ]
    }
   ],
   "source": [
    "from tkinter import *\n",
    "help(Label)\n"
   ]
  },
  {
   "cell_type": "markdown",
   "metadata": {
    "colab_type": "text",
    "id": "F1vnEs7cud9P"
   },
   "source": [
    "Esse pacote tem mais de 20 anos e é um exemplo de como a herança múltipla era utilizada quando os programadores  não  consideravam  suas  desvantagens.  Apesar  da  maioria  das  classes  se  comportarem como mix-ins, o padrão  de nomenclatura  não era utilizado.  Felizmente, o   `Tkinter` é  um  framework estável."
   ]
  },
  {
   "cell_type": "markdown",
   "metadata": {
    "colab_type": "text",
    "id": "O61Ni4k8uqbu"
   },
   "source": [
    "### 10.4 (OPCIONAL) EXERCÍCIOS - MIX-INS\n",
    "1.  Nosso banco precisa tributar dinheiro de alguns bens que nossos clientes possuem. Para isso vamos criar uma classe  `Tributavel`:\n",
    "        class Tributavel:\n",
    "            def get_valor_imposto(self):\n",
    "            pass\n",
    "Lemos essa classe da seguinte maneira: \"Todos que quiserem ser tributável precisam saber retornar o\n",
    "valor do imposto\".  Alguns bens  são tributáveis e  outros não,   `ContaPoupanca`   não  é  tributável,  já\n",
    "para  `ContaCorrente`  você precisa pagar `1%` da conta e o   `SeguroDeVida`  tem uma faixa fixa de `50`\n",
    "reais mais `5%` do valor do seguro.\n",
    "\n",
    "2.  Torne a classe  `Tributavel` um mix-in:\n",
    "        class TributavelMixIn:\n",
    "            def get_valor_imposto(self)\n",
    "            pass\n",
    "\n",
    "3.  Faça a classe  `ContaCorrente`  herdar da classe  `TributavelMixIn`. Crie a classe  `SeguroDeVida`:\n",
    "        class ContaCorrente(Conta, TributavelMixIn):\n",
    "            # código omitido\n",
    "            def get_valor_imposto(self):\n",
    "                return self._saldo * 0.01\n",
    "        class SeguroDeVida(TributavelMixIn):\n",
    "            def __init__(self, valor, titular, numero_apolice):\n",
    "                self._valor = valor\n",
    "                self._titular = titular\n",
    "                self._numero_apolice = numero_apolice\n",
    "                def get_valor_imposto(self):\n",
    "                return 42 + self._valor * 0.05\n",
    "4.  Vamos criar a classe   `ManipuladorDeTributaveis`  em um arquivo chamado `manipulador.py`. Essa\n",
    "classe  deve  ter  um  método  chamado   `calcula_imposto()`   que  recebe  umas  lista  de  tributáveis  e\n",
    "retorna o total de impostos cobrados:\n",
    "        class ManipuladorDeTributaveis:\n",
    "            def calcula_impostos(self, lista_tributaveis):\n",
    "            total = 0\n",
    "            for t in lista_tributaveis:\n",
    "                total += t.get_valor_imposto()\n",
    "            return total\n",
    "\n",
    "5.  Ainda no arquivo  `manipulador.py` , vamos testar o código. Crie alguns objetos de  `ContaCorrente` \n",
    "e de   `SeguroDeVida`. Em seguida, crie uma lista de tributáveis e insira seus objetos nela. Instancie um   `ManipuladorDeTributaveis`   e  chame  o  método   `calcula_impostos()`   passando  a  lista  de\n",
    "tributáveis criada e imprima o valor total dos impostos:\n",
    "\n",
    "        from conta import ContaCorrente, SeguroDeVida, TributavelMixIn\n",
    "        cc1 = ContaCorrente('123-4', 'João', 1000.0)\n",
    "        cc2 = ContaCorrente('123-4', 'José', 1000.0)\n",
    "        seguro1 = SeguroDeVida(100.0, 'José', '345-77')\n",
    "        seguro2 = SeguroDeVida(200.0, 'Maria', '237-98')\n",
    "        lista_tributaveis = []\n",
    "        lista_tributaveis.append(cc1)\n",
    "        lista_tributaveis.append(cc2)\n",
    "        lista_tributaveis.append(seguro1)\n",
    "        lista_tributaveis.append(seguro2)\n",
    "        manipulador = ManipuladorDeTributaveis()\n",
    "        total = manipulador.calcula_impostos(lista_tributaveis)\n",
    "        print(total)\n",
    "Vimos que herança múltipla pode ser perigosa e se nosso sistema crescer pode gerar muita confusão e  conflito  de  nomes  de  métodos.  Uma  maneira  mais  eficaz  nestes  casos  é  usar  classes  abstratas  como\n",
    "interfaces que veremos a seguir."
   ]
  },
  {
   "cell_type": "markdown",
   "metadata": {
    "colab_type": "text",
    "id": "uNqJNfQHwkzb"
   },
   "source": [
    "### 10.5 INTEFACES\n",
    "O  Python  não  possui  uma  palavra  reservada  interface.  Mesmo  sem  uma  palavra  reservada  para\n",
    "interface toda classe  tem uma  interface. São os  atributos públicos  definidos (que em  Python são tanto\n",
    "atributos  quanto  métodos)  em  uma  classe  -  isso  inclui  os  métodos  especiais  como   `__str__()` e\n",
    " `__add__()`.\n",
    "\n",
    "Uma  interface  vista  como  um  conjunto  de  métodos  para  desempenhar  um  papel  é  o  que  os programadores da SmallTalk chamavam de protocolo e este termo foi disseminado em comunidades de programadores de linguagens dinâmicas. Esse protocolo funciona como um contrato.\n",
    "\n",
    "Os protocolos são independentes de herança. Uma classe pode implementar vários protocolos, como os  mix-ins.  Protocolos  são  interfaces  e  são  definidos  apenas  por  documentação  e  convenções  em linguagens  dinâmicas,  por  isso  são  considerados  informais.  Os  protocolos  não  podem  ser  verificados estaticamente pelo interpretador.\n",
    "\n",
    "O método  `__str__()`, por exemplo, é esperado que retorne uma representação do objeto em forma de `string` . Nada impede de fazermos outras coisas dentro do método como deletar algum conteúdo, fazer algum cálculo, etc... ao invés de retornarmos apenas a `string`. Mas há um entendimento prévio comum do que este método deve fazer e está presente na documentação do Python. Este é um exemplo\n",
    "onde  o  contrato  semântico  é  descrito  em  um  manual.  Algumas  linguagens  de  tipagem  estática,  como\n",
    "Java,  possuem  interfaces  em  sua  biblioteca  padrão  e  podem  garantir  este  contrato  em  tempo  de compilação.\n",
    "\n",
    "A  partir  do  Python  2.6  a  definição  de  interfaces  utilizando  o  módulo  `ABC`  é  uma  solução  mais\n",
    "elegante do que os mix-ins. Nossa classe   Autenticavel   pode  ser  uma  classe  abstrata  com  o  método\n",
    "abstrato  `autentica()`:"
   ]
  },
  {
   "cell_type": "code",
   "execution_count": 0,
   "metadata": {
    "colab": {},
    "colab_type": "code",
    "id": "MF-Xw38SuXMG"
   },
   "outputs": [],
   "source": [
    "import abc\n",
    "class Autenticavel(abc.ABC):\n",
    "    @abc.abstractmethod\n",
    "    def autentica(self, senha):\n",
    "        pass"
   ]
  },
  {
   "cell_type": "markdown",
   "metadata": {
    "colab_type": "text",
    "id": "diN8C4QJxG3I"
   },
   "source": [
    "Como  se  trata  de  uma  interface  em  uma  linguagem  de  tipagem  dinâmica  como  o  Python,  a  boa\n",
    "prática é documentar esta classe garantindo o contrato semântico:"
   ]
  },
  {
   "cell_type": "code",
   "execution_count": 0,
   "metadata": {
    "colab": {},
    "colab_type": "code",
    "id": "adQeT26mxJsC"
   },
   "outputs": [],
   "source": [
    "import abc\n",
    "class Autenticavel(abc.ABC):\n",
    "    \"\"\"Classe abstrata que contém operações de um objeto autenticável.\n",
    "    As subclasses concretas devem sobrescrever o método autentica\n",
    "    \"\"\"\n",
    "    @abc.abstractmethod\n",
    "    def autentica(self, senha):\n",
    "        \"\"\" Método abstrato que faz verificação da senha\n",
    "        return True se a senha confere, e False caso contrário.\n",
    "        \"\"\""
   ]
  },
  {
   "cell_type": "markdown",
   "metadata": {
    "colab_type": "text",
    "id": "jKKcsHO6xGs_"
   },
   "source": [
    "E nossas classes   `Gerente`,   `Diretor` e `Cliente` herdariam a classe   `Autenticavel`. Mas qual a\n",
    "diferença de herdar muitos mix-ins e muitas `ABC`s? Realmente, aqui não há grande diferença e voltamos\n",
    "ao problema anterior dos mix-ins - muito acoplamento entre classes que gera a herança múltipla.\n",
    "\n",
    "Mas a novidade das ABCs é seu método   `register()`. As ABCs introduzem uma subclasse virtual, que são classes que não herdam de uma classe mas são reconhecidas pelos métodos   `isinstance()`   e `issubclass()`.  Ou  seja,  nosso    `Gerente`    não  precisa  herdar  a  classe    `Autenticavel`,  basta registrarmos ele como uma implementação da classe  `Autenticavel`."
   ]
  },
  {
   "cell_type": "code",
   "execution_count": 0,
   "metadata": {
    "colab": {},
    "colab_type": "code",
    "id": "5y3FpboSxpnb"
   },
   "outputs": [],
   "source": [
    "Autenticavel.register(Gerente)"
   ]
  },
  {
   "cell_type": "markdown",
   "metadata": {
    "colab_type": "text",
    "id": "d3n2ggqVxrmj"
   },
   "source": [
    "E testamos os métodos  `isinstance()`  e  `issubclass()`  com uma instância de  `Gerente`:"
   ]
  },
  {
   "cell_type": "code",
   "execution_count": 0,
   "metadata": {
    "colab": {},
    "colab_type": "code",
    "id": "gHzCNiMxx2ki"
   },
   "outputs": [],
   "source": [
    "gerente = Gerente('João', '111111111-11', 3000.0)"
   ]
  },
  {
   "cell_type": "code",
   "execution_count": 0,
   "metadata": {
    "colab": {},
    "colab_type": "code",
    "id": "fo1QLsg6x3P2"
   },
   "outputs": [],
   "source": [
    "print(isinstance(Autenticavel))"
   ]
  },
  {
   "cell_type": "code",
   "execution_count": 0,
   "metadata": {
    "colab": {},
    "colab_type": "code",
    "id": "V8UyQXwUx3JV"
   },
   "outputs": [],
   "source": [
    "print(issubclass(Autenticavel))"
   ]
  },
  {
   "cell_type": "markdown",
   "metadata": {
    "colab_type": "text",
    "id": "YWHKhCoOx_Gc"
   },
   "source": [
    "O  Python  não  vai  verificar  se  existe  uma  implementação  do  método   `autentica()`   em   `Gerente` quando  registrarmos  a  classe.  Ao  registrarmos  a  classe    `Gerente`    como  uma    `Autenticavel`, prometemos ao Python que a classe implementa fielmente a nossa interface  `Autenticavel`  definida. O Python vai acreditar nisso e retornar `True` quando os métodos  `isinstance()`  e  `issubclass()`  forem chamados. Se mentirmos, ou seja, não implementarmos o método   `autentica()`  em   `Gerente`,  uma exceção será lançada quando tentarmos chamar este método.\n",
    "\n",
    "Vejamos um exemplo com a classe   `Diretor`. Não vamos implementar o método   `autentica()`  e registrar uma instância de  `Diretor`  como um  `Autenticavel`:"
   ]
  },
  {
   "cell_type": "code",
   "execution_count": 0,
   "metadata": {
    "colab": {},
    "colab_type": "code",
    "id": "zhucmP3_x3DL"
   },
   "outputs": [],
   "source": [
    "class Diretor(Funcionario):\n",
    "    # código omitido"
   ]
  },
  {
   "cell_type": "code",
   "execution_count": 0,
   "metadata": {
    "colab": {},
    "colab_type": "code",
    "id": "BNmycMCzyX5Q"
   },
   "outputs": [],
   "source": [
    "Autenticavel.register(Diretor)"
   ]
  },
  {
   "cell_type": "code",
   "execution_count": 0,
   "metadata": {
    "colab": {},
    "colab_type": "code",
    "id": "ivvffSCOyamN"
   },
   "outputs": [],
   "source": [
    "d = Diretor('José', '22222222-22', 3000.0)"
   ]
  },
  {
   "cell_type": "code",
   "execution_count": 0,
   "metadata": {
    "colab": {},
    "colab_type": "code",
    "id": "ftoObKI5ydvC"
   },
   "outputs": [],
   "source": [
    "d.autentica('?')"
   ]
  },
  {
   "cell_type": "markdown",
   "metadata": {
    "colab_type": "text",
    "id": "o_5q8ImzyhMb"
   },
   "source": [
    "Novamente, podemos tratar a exceção ou utilizar os métodos   `isinstance()`   ou   `issubclass()` para  verificação.  Apesar  de  considerada  má  práticas  por  muitos  pythonistas,  o  módulo  de  classes abstratas justifica a utilização deste tipo de verificação. A verificação não é de tipagem, mas se um objeto está de acordo com a interface:"
   ]
  },
  {
   "cell_type": "code",
   "execution_count": 0,
   "metadata": {
    "colab": {},
    "colab_type": "code",
    "id": "x7NoCFbEyrdl"
   },
   "outputs": [],
   "source": [
    "Autenticavel.register(Diretor)\n",
    "d = Diretor('José', '22222222-22', 3000.0)\n",
    "if(isinstance(d, Autenticavel)):\n",
    "    d.autentica('?')\n",
    "else:\n",
    "    print(\"Diretor não implementa a interface Autenticavel\")"
   ]
  },
  {
   "cell_type": "markdown",
   "metadata": {
    "colab_type": "text",
    "id": "p8_nXdyrywkA"
   },
   "source": [
    "e portanto, nossa classe  `SistemaInterno` ficaria assim:"
   ]
  },
  {
   "cell_type": "code",
   "execution_count": 0,
   "metadata": {
    "colab": {},
    "colab_type": "code",
    "id": "sGTnAMidy1EY"
   },
   "outputs": [],
   "source": [
    "from autenticavel import Autenticavel\n",
    "class SistemaInterno:\n",
    "    def login(self, obj):\n",
    "        if(isinstance(obj, Autenticavel)):\n",
    "            obj.autentica(obj.senha)\n",
    "            return True\n",
    "        else:\n",
    "            print(\"{} não é autenticável\".format(self.__class__.__name__))\n",
    "            return False"
   ]
  },
  {
   "cell_type": "markdown",
   "metadata": {
    "colab_type": "text",
    "id": "8imL0uoby7AP"
   },
   "source": [
    "Dessa  maneira  fugimos  da  herança  múltipla  e  garantimos  um  contrato,  um  protocolo.  Classes abstratas  complementam  o  duck  typing  provendo  uma  maneira  de  definir  interfaces  quando  técnicas como usar  `hasattr()`  são ruins ou sutilmente erradas. Você pode ler mais a respeito no documento da\n",
    "PEP  que  introduz  classes  abstratas  -  é  a  PEP  3119  e  você  pode  acessar  seu  conteúdo  neste  link:\n",
    "https://www.python.org/dev/peps/pep-3119/\n",
    "\n",
    "Algumas  `ABC`s  também  podem  prover  métodos  concretos,  ou  seja,  não  abstratos.  Por  exemplo,  a\n",
    "classe   `Interator`   do  módulo   collections   da  biblioteca  padrão  do  Python  possui  um  método\n",
    " `__iter__()`  retornando ele mesmo. Esta ABC pode ser considerada uma classe mix-in.\n",
    "\n",
    "O Python já vem com algumas estruturas abstratas (ver módulos `collections`, `numbers` e `io`)."
   ]
  },
  {
   "cell_type": "markdown",
   "metadata": {
    "colab_type": "text",
    "id": "AishUjoGzaYk"
   },
   "source": [
    "### 10.6 EXERCÍCIOS - INTERFACES E CLASSES ABSTRATAS\n",
    "1.  Nosso banco precisa tributar dinheiro de alguns bens que nossos clientes possuem. Para isso vamos criar uma classe  `Tributavel`  no módulo `tributavel.py`:\n",
    "        class Tributavel:\n",
    "            def get_valor_imposto(self):\n",
    "            pass\n",
    "Lemos essa classe da seguinte maneira: \"Todos que quiserem ser tributável precisam saber retornar o\n",
    "valor do imposto\".  Alguns bens  são tributáveis e  outros não,   `ContaPoupanca`   não  é  tributável,  já\n",
    "para  `ContaCorrente`  você precisa pagar `1%` da conta e o   `SeguroDeVida`  tem uma faixa fixa de `50`\n",
    "reais mais `5%` do valor do seguro.\n",
    "\n",
    "2.  Torne a classe  `Tributavel`  uma classe abstrata:\n",
    "        import abc\n",
    "        class Tributavel(abc.ABC):\n",
    "            def get_valor_imposto(self)\n",
    "                pass\n",
    "\n",
    "3.  O método  `get_valor_imposto()`  também deve ser abstrato:\n",
    "import abc\n",
    "        class Tributavel(abc.ABC):\n",
    "            @abc.abstractmethod\n",
    "            def get_valor_imposto(self, valor):\n",
    "                pass\n",
    "\n",
    "4.  Nada impede que os usuários de nossa classe tributavel implemente o método  `get_valor_imposto` \n",
    "de maneira não esperada por nós. Então vamos acrescentar a documentação utilizando docstring que aprendemos no capítulo de módulos:\n",
    "\n",
    "        import abc\n",
    "        class Tributavel(abc.ABC):\n",
    "            \"\"\" Classe que contém operações de um objeto autenticável\n",
    "            As subclasses concretas devem sobrescrever o método get_valor_imposto.\n",
    "            \"\"\"\n",
    "           @abc.abstractmethod\n",
    "            def get_valor_imposto(self):\n",
    "                \"\"\" aplica taxa de imposto sobre um determinado valor do objeto \"\"\"\n",
    "                pass\n",
    "\n",
    "5.  Utiliza a função  `help()`  passando a classe  `Tributavel`  para acessar a documentação.\n",
    "\n",
    "6.  Faça a classe  `ContaCorrente`  herdar da classe   `Tributavel`. Crie a classe   `SeguroDeVida`  com os\n",
    "atributos  `valor`,  `titular` e  `numero_apolice`  que também deve ser um tributável. Implemente o método  `get_valor_imposto()`  de acordo com a regra de negócio definida pelo exercício:\n",
    "        class ContaCorrente(Conta, Tributavel):\n",
    "            # código omitido\n",
    "            def get_valor_imposto(self):\n",
    "                return self._saldo * 0.01\n",
    "        class SeguroDeVida(Tributavel):\n",
    "            def __init__(self, valor, titular, numero_apolice):\n",
    "                self._valor = valor\n",
    "                self._titular = titular\n",
    "                self._numero_apolice = numero_apolice\n",
    "            def get_valor_imposto(self):\n",
    "                return 50 + self._valor * 0.05\n",
    "\n",
    "7.  Vamos  criar  a  classe `ManipuladorDetributaveis`   em  um  arquivo  chamado `manipulador_tributaveis.py`.  Essa  classe  deve  ter  um  método  chamado   `calcula_imposto()` que recebe umas lista de tributáveis e retorna o total de impostos cobrados:\n",
    "        class ManipuladorDeTributaveis:\n",
    "            def calcula_impostos(self, lista_tributaveis):\n",
    "                total = 0\n",
    "                for t in lista_tributaveis:\n",
    "                    total += t.get_valor_imposto()\n",
    "                return total\n",
    "\n",
    "8.  Nossas  classes    `ContaCorrente`    e    `SeguraDeVida`    já  implementam  o  método\n",
    " `get_valor_imposto()`. Vamos instanciar cada umas delas e testar a chamada do método:\n",
    "        if __name__ == '__main__':\n",
    "            cc = ContaCorrente('123-4', 'João', 1000.0)\n",
    "            seguro = SeguroDeVida(100.0, 'José', '345-77')\n",
    "            print(cc.get_valor_imposto())\n",
    "            print(seguro.get_valor_imposto())\n",
    "\n",
    "9.  Crie  uma  lista  com  os  objetos  criados  no  exercício  anterior,  instancie  um  objeto  do  tipo   `list`   e passe a lista chamando o método  `calcula_impostos()`.\n",
    "        if __name__ == '__main__':\n",
    "            # código omitido\n",
    "            lista_tributaveis = []\n",
    "            lista_tributaveis.append(cc)\n",
    "            lista_tributaveis.append(seguro)\n",
    "            mt = ManipuladorDeTributaveis()\n",
    "            total = mt.calcula_impostos(lista_tributaveis)\n",
    "            print(total)\n",
    "\n",
    "10.  Nosso  código  funciona,  mas  ainda  estamos  utilizando  herança  múltipla!  Vamos  melhorar  nosso\n",
    "código. Faça com que  `ContaCorrente`  e  `SeguroDeVida`  não mais herdem da classe   `Tributavel`.\n",
    "Vamos  registrar  nossas  classes   `ContaCorrente`   e   `SeguroDeVida`   como  subclasses  virtuais  de\n",
    " `Tributavel`, de modo que funcione como uma interface.\n",
    "            class ContaCorrente(Conta):\n",
    "            # código omitido\n",
    "            class SeguroDeVida:\n",
    "            # código omitido\n",
    "            if __name__ == '__main__':\n",
    "            from tributavel import Tributavel\n",
    "            cc = ContaCorrente('João', '123-4')\n",
    "            cc.deposita(1000.0)\n",
    "            seguro = SeguroDeVida(100.0, 'José', '345-77')\n",
    "            Tributavel.register(ContaCorrente)\n",
    "            Tributavel.register(SeguroDeVida)\n",
    "            lista_tributaveis = []\n",
    "            lista_tributaveis.append(cc)\n",
    "            lista_tributaveis.append(seguro)\n",
    "            mt = ManipuladorDeTributaveis()\n",
    "            total = mt.calcula_impostos(lista_tributaveis)\n",
    "            print(total)\n",
    "\n",
    "11.  Modifique o método  `calcula_impostos()`  da classe  `ManipuladorDeTributaveis`  para checar se\n",
    "os  elementos  da  listas  são  tributáveis  através  do  método   `isinstance()`.  Caso  um  objeto  da  lista\n",
    "não  seja  um  tributável,  vamos  imprimir  uma  mensagem  de  erro  e  apenas  os  tributáveis  serão\n",
    "somados ao total:\n",
    "\n",
    "        class ManipuladorDeTributaveis:\n",
    "            def calcula_impostos(self, lista_tributaveis):\n",
    "                total = 0\n",
    "                for t in lista_tributaveis:\n",
    "                    if(isinstance(t, Tributavel)):\n",
    "                        total += t.get_valor_imposto()\n",
    "                    else:\n",
    "                        print(t.__repr__(), \"não é um tributável\")    \n",
    "               return total\n",
    "Teste novamente com a lista de tributáveis que fizemos no exercício anterior e veja se tudo continua funcionando.\n",
    "\n",
    "12.   `ContaPoupanca`   não  é  um  tributável.  Experimente  instanciar  uma   `ContaPoupanca`,  adicionar  a lista de tributáveis e calcular o total de impostos através do  `ManipuladorDetributaveis`:\n",
    "        if __name__ == '__main__':\n",
    "            #código omitido do exercício anterior omitido\n",
    "            cp = ContaPoupanca('123-6', 'Maria')\n",
    "            lista_tributaveis.append(cp)\n",
    "            total = mt.calcula_impostos(lista_tributaveis)\n",
    "            print(total)\n",
    "O que acontece?\n",
    "\n",
    "13.  (Opcional) Agora além de  `ContaCorrente`  e  `SeguroDeVida`  nossa   `ContaInvestimento`  também deve  ser  um  tributável,  cobrando  `3%`  do  saldo.  Instancie  uma   `ContaInvestimento`   e  registre  a\n",
    "classe   `ContaInvestimento`   como  tributável.  Adicione  a   `ContaInvestimento`   criada  na  lista  de\n",
    "tributáveis do exercício anterior e calcule o total de impostos através do `ManipuladorDeTributaveis`.\n",
    "\n",
    "Neste capítulo aprendemos sobre herança múltipla e suas desvantagens mesmo utilizando mix-ins.\n",
    "\n",
    "Aprendemos  utilizar  classes  abstratas  como  interfaces  registrando  as  classes  e  evitando  os  problemas com  a  herança  múltipla.  Agora  nossa  classe  abstrata   `Tributavel`   funciona  como  um  protocolo.  No capítulo sobre o módulo `collections` veremos na prática alguns conceitos vistos nestes capítulo."
   ]
  }
 ],
 "metadata": {
  "colab": {
   "collapsed_sections": [
    "MUrJolt2-aD-",
    "3NqZ-0r1_q54",
    "RQ33gi3tDYEG",
    "nHDNPdbAFPh1",
    "ZhENGRztLHtI",
    "RCy0rjvJNXe4",
    "Uxbidv3xYPq7",
    "6yOIodPpbR6W",
    "ewCTTwW9c8iJ",
    "_louaPl3eq5r",
    "9eWtCzypfZGx",
    "t4nxmF1hjXsj",
    "r7BK-qFsktm5",
    "YEhH95O6iQ-J",
    "vN3yymMnkJJI",
    "-zT5izhklP47",
    "2oAom-dSljYS",
    "WjhzraVwmTWf",
    "2XyYPb_9mcUy",
    "U_oT0D5lK6g0",
    "PplhZST5N23M",
    "ascok5l4PHvW",
    "vjYownPjTGoh",
    "gVsP3_yGTqsA",
    "3CKu4tXrXbbs",
    "BKB4T2xOYQEP",
    "qx5zVH1MYP5A",
    "M2T54kleV5Tm",
    "L8S_l9K0gKlg",
    "DgKQHFOvh7a8",
    "sunWFmSkrWGV",
    "2lEfnXqks2Re",
    "tgIIPjRwt9rB",
    "O61Ni4k8uqbu",
    "uNqJNfQHwkzb",
    "AishUjoGzaYk",
    "6d6kpgatqA30",
    "Ix7v3Pztq3H0",
    "kRHVTDcftEg8",
    "FuxefMQktkFQ",
    "e02PM6ebt4xi",
    "Gb5d8Ds2uFoj",
    "_oLcDxyXuOqp",
    "OBPMn6s1vjeY",
    "oU_lctuJvkad",
    "SexMNv3YxHRI",
    "4ydBnFxPx93t",
    "dD_ll8EozLcD",
    "Y2jIpz8XznFX",
    "0NTEep5Vz2iw",
    "n5XXGyWO0Ggp",
    "-WadxXBc1dqs",
    "YG_NggJf3hcF",
    "FNXtNVIC4Ux4",
    "lhXWleU44qsk",
    "WMs0GsRZ81An",
    "_CuEWMIHAtBX",
    "QUtt8tjrBE-J",
    "vbrd9w31BeTB",
    "qUp89EGuBeII",
    "apu1fbOYB5Sy",
    "DGRgurSOCM9S",
    "Dq1idRRXCh3J"
   ],
   "name": "Parte_2.ipynb",
   "provenance": []
  },
  "kernelspec": {
   "display_name": "Python 3",
   "language": "python",
   "name": "python3"
  },
  "language_info": {
   "codemirror_mode": {
    "name": "ipython",
    "version": 3
   },
   "file_extension": ".py",
   "mimetype": "text/x-python",
   "name": "python",
   "nbconvert_exporter": "python",
   "pygments_lexer": "ipython3",
   "version": "3.7.6"
  }
 },
 "nbformat": 4,
 "nbformat_minor": 1
}
