{
 "cells": [
  {
   "cell_type": "markdown",
   "metadata": {
    "colab_type": "text",
    "id": "mk8OnE7A1Vsw"
   },
   "source": [
    "# DISCLAIMER\n",
    "\n",
    "\n",
    "\n",
    "---\n",
    "\n",
    "Esse documento ainda precisa passar por revisões e ser aprovado para que possa ser publicado e compartilhado.\n",
    "\n",
    "Esse documento ainda não representa a ideia final e está sujeito a mudanças.\n",
    "\n",
    "---\n",
    "\n"
   ]
  },
  {
   "cell_type": "markdown",
   "metadata": {
    "colab_type": "text",
    "id": "kwU-Zn8_1Y1O"
   },
   "source": [
    "# ONDE ESTÁVAMOS?\n",
    "\n",
    "Essa é a continuação do material. Caso esteja perdido clique aqui: [link text](https://)"
   ]
  },
  {
   "cell_type": "markdown",
   "metadata": {
    "colab_type": "text",
    "id": "MdXPfkPoeidT"
   },
   "source": [
    "# CAPÍTULO 7\n",
    "## ORIENTAÇÃO A OBJETOS\n",
    "\n",
    "Considere um programa para um banco financeiro. É fácil perceber que uma entidade importante para o\n",
    "nosso  sistema  será  uma  conta.  \n",
    "\n",
    "Primeiramente  suponha  que  você  tem  uma  conta  nesse  banco  com  as\n",
    "seguintes  características:  titular,  número,  saldo  e  limite.  Vamos  começar  inicializando  essas\n",
    "características:"
   ]
  },
  {
   "cell_type": "code",
   "execution_count": 0,
   "metadata": {
    "colab": {},
    "colab_type": "code",
    "id": "GPZC6yVRY10q"
   },
   "outputs": [],
   "source": [
    "numero = '123-4'\n",
    "titular = \"João\"\n",
    "saldo = 120.0\n",
    "limite = 1000.0"
   ]
  },
  {
   "cell_type": "markdown",
   "metadata": {
    "colab_type": "text",
    "id": "vGxvUU-09YXx"
   },
   "source": [
    "E se a necessidade de representar mais de uma conta surgir? Vamos criar mais uma:"
   ]
  },
  {
   "cell_type": "code",
   "execution_count": 0,
   "metadata": {
    "colab": {},
    "colab_type": "code",
    "id": "Dzn5Wb7_9blz"
   },
   "outputs": [],
   "source": [
    "numero1 = '123-4'\n",
    "titular1 = \"João\"\n",
    "saldo1 = 120.0\n",
    "limite1 = 1000.0"
   ]
  },
  {
   "cell_type": "code",
   "execution_count": 0,
   "metadata": {
    "colab": {},
    "colab_type": "code",
    "id": "P9ba8Sth9eRu"
   },
   "outputs": [],
   "source": [
    "numero2 = '123-5'\n",
    "titular2 = \"José\"\n",
    "saldo2 = 200.0\n",
    "limite2 = 1000.0"
   ]
  },
  {
   "cell_type": "markdown",
   "metadata": {
    "colab_type": "text",
    "id": "Or258w-D9nTn"
   },
   "source": [
    "Nosso  banco  pode  vir  a  crescer  e  ter  milhares  de  contas  e,  da  maneira  que  está  o  programa,  seria\n",
    "muito trabalhoso dar manutenção.\n",
    "\n",
    "E como utilizar os dados de uma determinada conta em outro arquivo? Podemos utilizar a estrutura do dicionário que aprendemos anteriormente e agrupar essas características. Isso vai ajudar a acessar os\n",
    "dados de uma conta específica:"
   ]
  },
  {
   "cell_type": "code",
   "execution_count": 0,
   "metadata": {
    "colab": {},
    "colab_type": "code",
    "id": "JPMHOGgV9sfl"
   },
   "outputs": [],
   "source": [
    "conta = {\"numero\": '123-4', \"titular\": \"João\", \"saldo\": 120.0, \"limite\": 1000.0}"
   ]
  },
  {
   "cell_type": "markdown",
   "metadata": {
    "colab_type": "text",
    "id": "BYEE634k9tAh"
   },
   "source": [
    "Agora é possível acessar os dados de uma conta pelo nome da chave:"
   ]
  },
  {
   "cell_type": "code",
   "execution_count": 0,
   "metadata": {
    "colab": {},
    "colab_type": "code",
    "id": "6ECmK4299xOI"
   },
   "outputs": [],
   "source": [
    "conta['numero']"
   ]
  },
  {
   "cell_type": "code",
   "execution_count": 0,
   "metadata": {
    "colab": {},
    "colab_type": "code",
    "id": "JQVuTVJS9wuG"
   },
   "outputs": [],
   "source": [
    "conta['titular']"
   ]
  },
  {
   "cell_type": "markdown",
   "metadata": {
    "colab_type": "text",
    "id": "iJjnF9_p91iW"
   },
   "source": [
    "Para criar uma segunda conta, crie outro dicionário:"
   ]
  },
  {
   "cell_type": "code",
   "execution_count": 0,
   "metadata": {
    "colab": {},
    "colab_type": "code",
    "id": "IMIreruS93ap"
   },
   "outputs": [],
   "source": [
    "conta2 = {\"numero\": '123-5', \"titular\": \"José\", \"saldo\": 200.0, \"limite\": 1000.0}"
   ]
  },
  {
   "cell_type": "markdown",
   "metadata": {
    "colab_type": "text",
    "id": "8jwXnH7A96Zp"
   },
   "source": [
    "Avançamos  em  agrupar  os  dados  de  uma  conta,  mas  ainda  precisamos  repetir  seguidamente  essa\n",
    "linha de código a cada conta criada. Podemos isolar esse código em uma função responsável por criar uma conta:"
   ]
  },
  {
   "cell_type": "code",
   "execution_count": 0,
   "metadata": {
    "colab": {},
    "colab_type": "code",
    "id": "VImRPV-k-BwI"
   },
   "outputs": [],
   "source": [
    "def cria_conta():\n",
    "    conta = {\"numero\": '123-4', \"titular\": \"João\", \"saldo\": 120.0, \"limite\": 1000.0}\n",
    "    return conta"
   ]
  },
  {
   "cell_type": "markdown",
   "metadata": {
    "colab_type": "text",
    "id": "mZjXTD_n-G35"
   },
   "source": [
    "Mas ainda não é o ideal já que queremos criar contas com outros valores e tornar a criação dinâmica.\n",
    "Vamos, então, receber esse valores como parâmetros da função e por fim retornamos a conta:"
   ]
  },
  {
   "cell_type": "code",
   "execution_count": 0,
   "metadata": {
    "colab": {},
    "colab_type": "code",
    "id": "A7FoM9tj-IO-"
   },
   "outputs": [],
   "source": [
    "def cria_conta(numero, titular, saldo, limite):\n",
    "    conta = {\"numero\": numero, \"titular\": titular, \"saldo\": saldo, \"limite\": limite}\n",
    "    return conta"
   ]
  },
  {
   "cell_type": "markdown",
   "metadata": {
    "colab_type": "text",
    "id": "yyXoSy6C-LbL"
   },
   "source": [
    "Desta maneira é possível criar várias contas com dados diferentes:"
   ]
  },
  {
   "cell_type": "code",
   "execution_count": 0,
   "metadata": {
    "colab": {},
    "colab_type": "code",
    "id": "Dkbm29J9-Og0"
   },
   "outputs": [],
   "source": [
    "conta1 = cria_conta('123-4', 'João', 120.0, 1000.0)"
   ]
  },
  {
   "cell_type": "code",
   "execution_count": 0,
   "metadata": {
    "colab": {},
    "colab_type": "code",
    "id": "U6DRbEK9-PUA"
   },
   "outputs": [],
   "source": [
    "conta2 = cria_conta('123-5', 'José', 200.0, 1000.0)"
   ]
  },
  {
   "cell_type": "markdown",
   "metadata": {
    "colab_type": "text",
    "id": "2nAn3IPv-T8r"
   },
   "source": [
    "Para acessar o número de cada uma delas, fazemos:"
   ]
  },
  {
   "cell_type": "code",
   "execution_count": 0,
   "metadata": {
    "colab": {},
    "colab_type": "code",
    "id": "jupLRxJX-Us_"
   },
   "outputs": [],
   "source": [
    "conta1['numero']"
   ]
  },
  {
   "cell_type": "code",
   "execution_count": 0,
   "metadata": {
    "colab": {},
    "colab_type": "code",
    "id": "oOFgbOJZ-WuI"
   },
   "outputs": [],
   "source": [
    "conta2['numero']"
   ]
  },
  {
   "cell_type": "markdown",
   "metadata": {
    "colab_type": "text",
    "id": "MUrJolt2-aD-"
   },
   "source": [
    "### 7.1 FUNCIONALIDADES\n",
    "Já  descrevemos  as  características  de  uma  conta  e  nosso  próximo  passo  será  descrever  suas\n",
    "funcionalidades. O que fazemos com uma conta? Ora, podemos depositar um valor em uma conta, por\n",
    "exemplo. Vamos criar uma função para representar esta funcionalidade. Além do valor a ser depositado,\n",
    "precisamos saber qual conta receberá este valor:"
   ]
  },
  {
   "cell_type": "code",
   "execution_count": 0,
   "metadata": {
    "colab": {},
    "colab_type": "code",
    "id": "5_kb-WUG-k9r"
   },
   "outputs": [],
   "source": [
    "def deposita(conta, valor):\n",
    "    conta['saldo'] = conta['saldo'] + valor"
   ]
  },
  {
   "cell_type": "markdown",
   "metadata": {
    "colab_type": "text",
    "id": "RL2qbq-p-nqz"
   },
   "source": [
    "Veja  que  estamos  repetindo  conta`['saldo']`  duas  vezes  nessa  linha  de  código.  O  Python  permite escrever a mesma coisa de uma maneira mais elegante utilizando o `+=`:"
   ]
  },
  {
   "cell_type": "code",
   "execution_count": 0,
   "metadata": {
    "colab": {},
    "colab_type": "code",
    "id": "NJtKoFCw-xtF"
   },
   "outputs": [],
   "source": [
    "def deposita(conta, valor):\n",
    "    conta['saldo'] += valor"
   ]
  },
  {
   "cell_type": "markdown",
   "metadata": {
    "colab_type": "text",
    "id": "-SvV7OL--ymH"
   },
   "source": [
    "Podemos fazer algo semelhante com a função  `saca()`:"
   ]
  },
  {
   "cell_type": "code",
   "execution_count": 0,
   "metadata": {
    "colab": {},
    "colab_type": "code",
    "id": "s-mKdDdI-3tm"
   },
   "outputs": [],
   "source": [
    "def saca(conta, valor):\n",
    "    conta['saldo'] -= valor"
   ]
  },
  {
   "cell_type": "markdown",
   "metadata": {
    "colab_type": "text",
    "id": "AzyclWM8--eR"
   },
   "source": [
    "Antes de testar essas funcionalidades, crie outra que mostra o extrato da conta:"
   ]
  },
  {
   "cell_type": "code",
   "execution_count": 0,
   "metadata": {
    "colab": {},
    "colab_type": "code",
    "id": "pmEQZjkM_AeM"
   },
   "outputs": [],
   "source": [
    "def extrato(conta):\n",
    "    print(\"numero: {} \\nsaldo: {}\".format(conta['numero'], conta['saldo']))"
   ]
  },
  {
   "cell_type": "markdown",
   "metadata": {
    "colab_type": "text",
    "id": "gdii81Ar_HL9"
   },
   "source": [
    "O extrato imprime as informações da conta utilizando a função   `print()`. Agora podemos testar o código:"
   ]
  },
  {
   "cell_type": "code",
   "execution_count": 0,
   "metadata": {
    "colab": {},
    "colab_type": "code",
    "id": "qB4y2GL3_Tg3"
   },
   "outputs": [],
   "source": [
    "conta = cria_conta('123-4', 'João', 120.0, 1000.0)"
   ]
  },
  {
   "cell_type": "code",
   "execution_count": 0,
   "metadata": {
    "colab": {},
    "colab_type": "code",
    "id": "Z8lq67t6_Uie"
   },
   "outputs": [],
   "source": [
    "deposita(conta, 15.0)"
   ]
  },
  {
   "cell_type": "code",
   "execution_count": 0,
   "metadata": {
    "colab": {},
    "colab_type": "code",
    "id": "RgcvhuBX_V_g"
   },
   "outputs": [],
   "source": [
    "extrato(conta)"
   ]
  },
  {
   "cell_type": "code",
   "execution_count": 0,
   "metadata": {
    "colab": {},
    "colab_type": "code",
    "id": "w8HXD_ZB_Y3M"
   },
   "outputs": [],
   "source": [
    "saca(conta, 20.0)"
   ]
  },
  {
   "cell_type": "code",
   "execution_count": 0,
   "metadata": {
    "colab": {},
    "colab_type": "code",
    "id": "_u1J9OeW_cC2"
   },
   "outputs": [],
   "source": [
    "extrato(conta)"
   ]
  },
  {
   "cell_type": "markdown",
   "metadata": {
    "colab_type": "text",
    "id": "qXJE1lFK_f3f"
   },
   "source": [
    "Ótimo! Nosso código funcionou como o esperado. Aplicamos algumas funções como   `deposita()` e  `saca()`  e ao final pudermos checar o saldo final com a função  `extrato()`."
   ]
  },
  {
   "cell_type": "markdown",
   "metadata": {
    "colab_type": "text",
    "id": "3NqZ-0r1_q54"
   },
   "source": [
    "### 7.2 EXERCÍCIO: CRIANDO UMA CONTA\n",
    "1.  Crie uma pasta chamada  `oo`  em sua workspace e crie um arquivo chamado `teste_conta.py`\n",
    "\n",
    "2.  Crie a função chamada  `cria_conta()` , que recebe como argumento  `numero` ,  `titular` ,  `saldo`  e `limite`:\n",
    "\n",
    "        def cria_conta(numero, titular, saldo, limite):\n",
    "\n",
    "3.  Dentro de   `cria_conta()` ,  crie  uma  variável  do  tipo  dicionário  chamada   `conta`   com  as  chaves\n",
    "recebendo os valores dos parâmetros ( `numero` ,  `titular` ,   `saldo`  e   `limite` ) e ao final retorne a\n",
    " `conta`:\n",
    "        def cria_conta(numero, titular, saldo, limite):\n",
    "        conta = {\"numero\": numero, \"titular\": titular, \"saldo\": saldo, \"limite\": limite}\n",
    "        return conta\n",
    "4.  Crie  uma  função  chamada   `deposita()`   no  mesmo  arquivo   `teste_conta.py`   que  recebe  como argumento uma  conta  e um  valor. Dentro da função adicione o  valor  ao  saldo  da conta:\n",
    "        def deposita(conta, valor):\n",
    "        conta['saldo'] += valor\n",
    "\n",
    "5.  Crie  outra  função  chamada   `saca()`   que  recebe  como  argumento  uma   conta   e  um   valor. \n",
    "Dentro da função subtraia o  valor  do  saldo  da conta:\n",
    "        def saca(conta, valor):\n",
    "        conta['saldo'] -= valor\n",
    "\n",
    "6.  E  por  fim,  crie  uma  função  chamada   `extrato()` ,  que  recebe  como  argumento  uma   conta   e imprime o  numero  e o  saldo:\n",
    "        def extrato(conta):\n",
    "        print(\"numero: {} \\nsaldo: {}\".format(conta['numero'], conta['saldo']))\n",
    "\n",
    "7.  Navegue  até  a  pasta   `oo`   pelo  terminal,  abra  o  console  do  Python3,  importe  o  script  e  testes  as\n",
    "funcionalidades:\n",
    " \n",
    "        from teste_conta import cria_conta, deposita, saca, extrato\n",
    "        conta = cria_conta('123-7', 'João', 500.0, 1000.0)\n",
    "        deposita(conta, 50.0)\n",
    "        extrato(conta)\n",
    "        saca(conta, 20.0)\n",
    "        extrato(conta)\n",
    "\n",
    "8.  (Opcional) Acrescente uma documentação para o seu módulo   `teste_conta.py`  e utilize a função\n",
    " `help()`  para testá-la.\n",
    "\n",
    "Neste exercício criamos uma conta e juntamos suas características (número, titular, limite, saldo) e\n",
    "funcionalidades  (sacar,  depositar,  tirar  extrato)  num  mesmo  arquivo.  Mas  o  que  fizemos  até  agora  foi\n",
    "baseado no conhecimento procedural que tínhamos do Python3.\n",
    "\n",
    "Por mais que tenhamos agrupado os dados de uma conta, essa ligação é frágil no mundo procedural e se mostra limitada. Precisamos pensar sobre o que escrevemos para não errar. O paradigma orientado a objetos vem para sanar essa e outras fragilidades do paradigma procedural que veremos a seguir."
   ]
  },
  {
   "cell_type": "markdown",
   "metadata": {
    "colab_type": "text",
    "id": "RQ33gi3tDYEG"
   },
   "source": [
    "### 7.3 CLASSES E OBJETOS\n",
    "Ninguém deveria ter acesso ao saldo diretamente. Além disso, nada nos obriga a validar esse valor e podemos  esquecer  disso  cada  vez  que  utilizá-lo.  Nosso  programa  deveria  obrigar  o  uso  das  funções `saca()`  e  `deposita()`  para alterar o saldo e não permitir alterar o valor diretamente:"
   ]
  },
  {
   "cell_type": "code",
   "execution_count": 0,
   "metadata": {
    "colab": {},
    "colab_type": "code",
    "id": "K-oLnXCADieI"
   },
   "outputs": [],
   "source": [
    "conta3['saldo'] = 100000000.0"
   ]
  },
  {
   "cell_type": "markdown",
   "metadata": {
    "colab_type": "text",
    "id": "1UJMIFeRDi_w"
   },
   "source": [
    "ou então:"
   ]
  },
  {
   "cell_type": "code",
   "execution_count": 0,
   "metadata": {
    "colab": {},
    "colab_type": "code",
    "id": "OsSKTzDbDlIS"
   },
   "outputs": [],
   "source": [
    "conta3['saldo'] = -3000.0"
   ]
  },
  {
   "cell_type": "markdown",
   "metadata": {
    "colab_type": "text",
    "id": "WpuFcqC4DnJ2"
   },
   "source": [
    "Devemos  manipular  os  dados  através  das  funcionalidades   `saca()`   e   `deposita()`   e  proteger  os dados da conta. Pensando no mundo real, ninguém pode modificar o saldo de sua conta quando quiser, a não ser quando vamos fazer um saque ou um depósito. A mesma coisa deve acontecer aqui.\n",
    "\n",
    "Para  isso,  vamos  primeiro  entender  o  que  é    classe    e    objeto  ,  conceitos  importantes  do\n",
    "paradigma orientado a objetos e depois veremos como isso funciona na prática.\n",
    "\n",
    "Quando  preparamos  um  bolo,  geralmente,  seguimos  uma  receita  que  define  os  ingredientes  e  o modo  de  preparação.  A  nossa  conta  é  um  objeto  concreto  assim  como  o  bolo  que  também  precisa  de uma  receita  pré-definida.  E  a  \"receita\"  no  mundo  OO (Orientação a Objetos)  recebe  o  nome  de  classe.  Ou  seja,  antes  de\n",
    "criarmos um objeto definiremos uma classe.\n",
    "\n",
    "Outra analogia que podemos fazer é entre o projeto de uma casa (a planta da casa) e a casa em si. O projeto  é  a  classe  e  a  casa,  construída  a  partir  desta  planta,  é  o  objeto.  O  projeto  da  conta,  isto  é,  a\n",
    "definição da conta, é a classe. O que podemos construir (instanciar) a partir dessa classe, as contas de verdade, damos o nome de objetos.\n",
    "\n",
    "Pode  parecer  óbvio,  mas  a  dificuldade  inicial  do  paradigma  da  orientação  a  objetos  é  justamente\n",
    "saber  distinguir  o  que  é  classe  e  o  que  é  objeto.  \n",
    "\n",
    "É  comum  o  iniciante  utilizar,  obviamente  de  forma\n",
    "errada, essas duas palavras como sinônimos.\n",
    "\n",
    "O próximo passo será criar nossa classe `Conta`  dentro de um novo arquivo Python, que receberá o nome de `conta.py`. Criar uma classe em Python é extremamente simples em termos de sintaxe. Vamos começar  criando  uma  classe  vazia.  Depois  criaremos  uma  instância,  um  objeto  dessa  classe,  e\n",
    "utilizaremos a função  `type()`  para analisar o resultado:"
   ]
  },
  {
   "cell_type": "code",
   "execution_count": 0,
   "metadata": {
    "colab": {},
    "colab_type": "code",
    "id": "onaKWaoUET06"
   },
   "outputs": [],
   "source": [
    "class Conta:\n",
    "    pass"
   ]
  },
  {
   "cell_type": "code",
   "execution_count": 0,
   "metadata": {
    "colab": {},
    "colab_type": "code",
    "id": "2586zgi3EaZh"
   },
   "outputs": [],
   "source": [
    "conta = Conta()"
   ]
  },
  {
   "cell_type": "code",
   "execution_count": 0,
   "metadata": {
    "colab": {
     "base_uri": "https://localhost:8080/",
     "height": 34
    },
    "colab_type": "code",
    "id": "SKY4oIneEdfG",
    "outputId": "a1dd6015-e585-46fc-840b-c1171b38c155"
   },
   "outputs": [
    {
     "data": {
      "text/plain": [
       "__main__.Conta"
      ]
     },
     "execution_count": 3,
     "metadata": {
      "tags": []
     },
     "output_type": "execute_result"
    }
   ],
   "source": [
    "type(conta)"
   ]
  },
  {
   "cell_type": "markdown",
   "metadata": {
    "colab_type": "text",
    "id": "lNwFRPb2EnZu"
   },
   "source": [
    "Vemos porque estamos utilizando o modo interativo pelo terminal e o módulo onde se encontra a classe  `Conta`  é  `conta`. Agora temos uma classe  `Conta`.\n",
    "\n",
    "Como  Python  é  uma  linguagem  dinâmica,  podemos  modificar  esse  objeto   `conta`   em  tempo  de execução. Por exemplo, podemos acrescentar atributos a ele:"
   ]
  },
  {
   "cell_type": "code",
   "execution_count": 0,
   "metadata": {
    "colab": {},
    "colab_type": "code",
    "id": "VgH-ncjEEjYU"
   },
   "outputs": [],
   "source": [
    "conta.titular = \"João\""
   ]
  },
  {
   "cell_type": "code",
   "execution_count": 0,
   "metadata": {
    "colab": {},
    "colab_type": "code",
    "id": "pjAAY65bEzco"
   },
   "outputs": [],
   "source": [
    "print(conta.titular)"
   ]
  },
  {
   "cell_type": "code",
   "execution_count": 0,
   "metadata": {
    "colab": {},
    "colab_type": "code",
    "id": "8oRYXeqbE1te"
   },
   "outputs": [],
   "source": [
    "conta.saldo = 120.0"
   ]
  },
  {
   "cell_type": "code",
   "execution_count": 0,
   "metadata": {
    "colab": {},
    "colab_type": "code",
    "id": "1hQ8J0xqE1gc"
   },
   "outputs": [],
   "source": [
    "print(conta.saldo)"
   ]
  },
  {
   "cell_type": "markdown",
   "metadata": {
    "colab_type": "text",
    "id": "ZWn3jFy8E8dm"
   },
   "source": [
    "Mas  o  problema  do  código  é  que  ainda  não  garantimos  que  toda  instância  de   `Conta`   tenha  um atributo   `titular`  ou   `saldo`.  Portanto  queremos  uma  forma  padronizada  da  conta  de  maneira  que possamos criar objetos com determinadas configurações iniciais.\n",
    "\n",
    "Em linguagens orientadas a objetos existe uma maneira padronizada de criar atributos de um objeto. Geralmente  fazemos  isso  através  de  uma  função  construtora  -  algo  parecido  com  nossa  função\n",
    " `cria_conta()`  do exercício anterior."
   ]
  },
  {
   "cell_type": "markdown",
   "metadata": {
    "colab_type": "text",
    "id": "nHDNPdbAFPh1"
   },
   "source": [
    "### 7.4 CONSTRUTOR\n",
    "Em Python, alguns nomes de métodos estão reservados para o uso da própria linguagem. Um desses métodos  é  o   `__init__()`   que  vai  inicializar  o  objeto.  Seu  primeiro  parâmetro,  assim  como  todo método de instância, é a própria instância. Por convenção chamamos este argumento de `self`.  Vejamos um exemplo:"
   ]
  },
  {
   "cell_type": "code",
   "execution_count": 0,
   "metadata": {
    "colab": {},
    "colab_type": "code",
    "id": "OKNaclvNJear"
   },
   "outputs": [],
   "source": [
    "class Conta:\n",
    "    def __init__(self, numero, titular, saldo, limite):\n",
    "        self.numero = numero\n",
    "        self.titular = titular\n",
    "        self.saldo = saldo\n",
    "        self.limite = limite"
   ]
  },
  {
   "cell_type": "markdown",
   "metadata": {
    "colab_type": "text",
    "id": "pg-XW45zJlH1"
   },
   "source": [
    "Agora,  quando  uma  classe  é  criada,  todos  os  seus  atributos  serão  inicializados  pelo  método `__init__()`.\n",
    "\n",
    "Apesar de muitos programadores chamarem este método de construtor, ele não cria um objeto  `conta`.  Existe  outro  método,  o    `__new__()`  que  é  chamado  antes  do    `__init_()`    pelo interpretador do Python. O método  `__new__()`  é realmente o construtor e é quem realmente cria uma instância de  `Conta` . O método  `__init__()`  é responsável por inicializar o objeto, tanto é que já recebe\n",
    "a própria instância (`self`) criada pelo construtor como argumento. E dessa maneira garantimos que toda instância de uma  `Conta`  tenha os atributos que definimos.\n",
    "\n",
    "Agora, se executarmos a linha de código abaixo, vai acusar um erro:"
   ]
  },
  {
   "cell_type": "code",
   "execution_count": 0,
   "metadata": {
    "colab": {},
    "colab_type": "code",
    "id": "7UL6ZCVqJ6wY"
   },
   "outputs": [],
   "source": [
    "conta = Conta()"
   ]
  },
  {
   "cell_type": "markdown",
   "metadata": {
    "colab_type": "text",
    "id": "F-nLbJfCJ-3d"
   },
   "source": [
    "O erro acusa a falta de 4 argumentos na hora de criar uma  `Conta` . A classe  `Conta`  agora nos obriga a passar 4 atributos (`numero`, `titular`, `saldo` e `limite`) para criar uma conta:"
   ]
  },
  {
   "cell_type": "code",
   "execution_count": 0,
   "metadata": {
    "colab": {},
    "colab_type": "code",
    "id": "T4aqeugXJ-FC"
   },
   "outputs": [],
   "source": [
    "conta = Conta('123-4', 'João', 120.0, 1000.0)"
   ]
  },
  {
   "cell_type": "markdown",
   "metadata": {
    "colab_type": "text",
    "id": "UP-B-3CzKKw6"
   },
   "source": [
    "Veja  que  em  nenhum  momento  chamamos  o  método   `__init__()`.  Quem  está  fazendo  isso  por\n",
    "debaixo dos panos é o próprio Python quando executa   `conta  =  Conta()` .  Não  só,  como  vimos,  ele\n",
    "chama  o  método   `__new__()`   que  devolve  um  instância  do  objeto  e  em  seguida  chama  o  método `__init__()` toda  vez  que  criamos  uma  conta.  Podemos  ver  isto  funcionando  imprimindo  uma mensagem dentro do método  `__init__()`:"
   ]
  },
  {
   "cell_type": "code",
   "execution_count": 0,
   "metadata": {
    "colab": {},
    "colab_type": "code",
    "id": "DyVjA5mUKbmd"
   },
   "outputs": [],
   "source": [
    "def __init__(self, titular, numero, saldo, limite):\n",
    "    print(\"inicializando uma conta\")\n",
    "    self.titular = titular\n",
    "    self.numero = numero\n",
    "    self.saldo = saldo\n",
    "    self.limite = limite"
   ]
  },
  {
   "cell_type": "markdown",
   "metadata": {
    "colab_type": "text",
    "id": "10kkHHcQKg7u"
   },
   "source": [
    "e testar novamente:"
   ]
  },
  {
   "cell_type": "code",
   "execution_count": 0,
   "metadata": {
    "colab": {},
    "colab_type": "code",
    "id": "55YDwPukKh6d"
   },
   "outputs": [],
   "source": [
    "conta = Conta('123-4', 'João', 120.0, 1000.0)"
   ]
  },
  {
   "cell_type": "markdown",
   "metadata": {
    "colab_type": "text",
    "id": "535tUIRuKoOF"
   },
   "source": [
    "Ao  criar  uma   `Conta`,  estamos  pedindo  para  o  Python  criar  uma  nova  instância  de   `Conta`   na memória, ou seja, o Python alocará memória suficiente para guardar todas as informações da   `Conta` dentro  da  memória  do  programa.  O   `__new__()`,  portanto,  devolve  uma  referência,  uma  seta  que aponta para o objeto em memória e é guardada na variável  `conta`.\n",
    "\n",
    "Para manipularmos nosso objeto  `conta`  e acessar seus atributos utilizamos o operador `.` (ponto):"
   ]
  },
  {
   "cell_type": "code",
   "execution_count": 0,
   "metadata": {
    "colab": {},
    "colab_type": "code",
    "id": "yk10VdDXK4lI"
   },
   "outputs": [],
   "source": [
    "conta.titular"
   ]
  },
  {
   "cell_type": "code",
   "execution_count": 0,
   "metadata": {
    "colab": {},
    "colab_type": "code",
    "id": "NRk_rTGeK5Oh"
   },
   "outputs": [],
   "source": [
    "conta.saldo"
   ]
  },
  {
   "cell_type": "markdown",
   "metadata": {
    "colab_type": "text",
    "id": "r7H757qWK78f"
   },
   "source": [
    "Como o `self` é a referência do objeto, ele chama  `self.titular`  e  `self.saldo`  da classe  `Conta`.\n",
    "\n",
    "Agora,  além  de  funcionar  como  esperado,  nosso  código  não  permite  criar  uma  conta  sem  os atributos que definimos anteriormente. Discuta com seus colegas e instrutor as vantagens da orientação a objetos até aqui."
   ]
  },
  {
   "cell_type": "markdown",
   "metadata": {
    "colab_type": "text",
    "id": "ZhENGRztLHtI"
   },
   "source": [
    "### 7.5 MÉTODOS\n",
    "Como  vimos,  além  dos  atributos,  nossa  conta  deve  possuir  funcionalidades.  Criamos  as  funções   `saca() ,   `deposita()`   e   `extrato()`.  No  paradigma  orientado  a\n",
    "objetos as funcionalidades de um objeto são chamados de métodos - do ponto de vista do código, são as funções dentro de uma classe.\n",
    "\n",
    "Vamos criar o método  `deposita()`  na classe  `Conta`. Aqui, assim como o método  `__init__()`, o método  `deposita()` deve receber a instância do objeto (`self`) além do valor a ser depositado:"
   ]
  },
  {
   "cell_type": "code",
   "execution_count": 0,
   "metadata": {
    "colab": {},
    "colab_type": "code",
    "id": "CeFTiZhjL-mE"
   },
   "outputs": [],
   "source": [
    "class Conta:\n",
    "    def __init__(self, numero, titular, saldo, limite):\n",
    "        self.numero = numero\n",
    "        self.titular = titular\n",
    "        self.saldo = saldo\n",
    "        self.limite = limite\n",
    "\n",
    "    def deposita(self, valor):\n",
    "        self.saldo += valor"
   ]
  },
  {
   "cell_type": "markdown",
   "metadata": {
    "colab_type": "text",
    "id": "sboGA9mRMOD9"
   },
   "source": [
    "Isso  acontece  porque  o  método  precisa  saber  qual  objeto  `conta`  ele  deve  manipular,  qual  conta  vai\n",
    "depositar um determinado valor - e podemos ter muitas contas criadas no nosso sistema.\n",
    "\n",
    "Utilizamos o operador `.` (ponto) através do objeto  `conta`  para chamar o método  `deposita()`:"
   ]
  },
  {
   "cell_type": "code",
   "execution_count": 0,
   "metadata": {
    "colab": {},
    "colab_type": "code",
    "id": "hKtq6QNGMm_t"
   },
   "outputs": [],
   "source": [
    "conta.deposita(20.0)"
   ]
  },
  {
   "cell_type": "markdown",
   "metadata": {
    "colab_type": "text",
    "id": "Ns4pas79Mqlf"
   },
   "source": [
    "O interpretador, ao ler esse código, associa o objeto   `conta`  ao argumento   `self`  do método - note que não precisamos passar a  conta  como argumento, isso é feito por debaixo dos panos pelo Python.\n",
    "\n",
    "Faremos o mesmo para os métodos  `saca()`  e  `extrato()`:"
   ]
  },
  {
   "cell_type": "code",
   "execution_count": 0,
   "metadata": {
    "colab": {},
    "colab_type": "code",
    "id": "rPszDgBGMqUP"
   },
   "outputs": [],
   "source": [
    "class Conta:\n",
    "    def __init__(self, numero, titular, saldo, limite):\n",
    "        self.numero = numero\n",
    "        self.titular = titular\n",
    "        self.saldo = saldo\n",
    "        self.limite = limite\n",
    "    def deposita(self, valor):\n",
    "        self.saldo += valor\n",
    "\n",
    "\n",
    "    def saca(self, valor):\n",
    "        self.saldo -= valor\n",
    "    def extrato(self):\n",
    "        print(\"numero: {} \\nsaldo: {}\".format(self.numero, self.saldo))"
   ]
  },
  {
   "cell_type": "markdown",
   "metadata": {
    "colab_type": "text",
    "id": "32SdX7VqM-S-"
   },
   "source": [
    "Agora vamos testar nossos métodos:"
   ]
  },
  {
   "cell_type": "code",
   "execution_count": 0,
   "metadata": {
    "colab": {},
    "colab_type": "code",
    "id": "1NzenTt1M--b"
   },
   "outputs": [],
   "source": [
    "conta = Conta('123-4', 'João', 120.0, 1000.0)"
   ]
  },
  {
   "cell_type": "code",
   "execution_count": 0,
   "metadata": {
    "colab": {},
    "colab_type": "code",
    "id": "pNMFs40oNC3M"
   },
   "outputs": [],
   "source": [
    "conta.deposita(20.0)"
   ]
  },
  {
   "cell_type": "code",
   "execution_count": 0,
   "metadata": {
    "colab": {},
    "colab_type": "code",
    "id": "vre3RSdENEBo"
   },
   "outputs": [],
   "source": [
    "conta.extrato()"
   ]
  },
  {
   "cell_type": "code",
   "execution_count": 0,
   "metadata": {
    "colab": {},
    "colab_type": "code",
    "id": "LadAKs2cNFqK"
   },
   "outputs": [],
   "source": [
    "conta.saca(15)"
   ]
  },
  {
   "cell_type": "code",
   "execution_count": 0,
   "metadata": {
    "colab": {},
    "colab_type": "code",
    "id": "7a6LZsuENG_p"
   },
   "outputs": [],
   "source": [
    "conta.extrato()"
   ]
  },
  {
   "cell_type": "markdown",
   "metadata": {
    "colab_type": "text",
    "id": "Yt__LYhgNLq8"
   },
   "source": [
    "O  saldo  inicial  era  de  120  reais.  Depositamos  20  reais,  sacamos  15  reais  e  tiramos  o  extrato  que\n",
    "resultou em 125 reais.\n",
    "\n",
    "Por fim, o código de nossa  Conta  vai ficar assim:"
   ]
  },
  {
   "cell_type": "code",
   "execution_count": 0,
   "metadata": {
    "colab": {},
    "colab_type": "code",
    "id": "Ey268eBcNSlY"
   },
   "outputs": [],
   "source": [
    "class Conta:\n",
    "    def __init__(self, numero, titular, saldo, limite):\n",
    "        self.numero = numero\n",
    "        self.titular = tituar\n",
    "        self.saldo = saldo\n",
    "        self.limite = limite\n",
    "    def deposita(self, valor):\n",
    "        self.saldo += valor\n",
    "    def saca(self, valor):\n",
    "        self.saldo -= valor\n",
    "    def extrato(self):\n",
    "        print(\"numero: {} \\nsaldo: {}\".format(self.numero, self.saldo))"
   ]
  },
  {
   "cell_type": "markdown",
   "metadata": {
    "colab_type": "text",
    "id": "RCy0rjvJNXe4"
   },
   "source": [
    "### 7.6 MÉTODOS COM RETORNO\n",
    "Em outras linguagens como C++ e Java, um método sempre tem que definir o que retorna, nem que defina  que  não  há  retorno.  Como  vimos  no  capítulo  sobre  funções,  no  Python  isso  não  é  necessário  mas  podemos  retornar  algo  no  método   `saca()` ,  por  exemplo,  indicando  se  a  operação  foi  bem sucedida ou não. Neste caso podemos retornar um valor booleano:"
   ]
  },
  {
   "cell_type": "code",
   "execution_count": 0,
   "metadata": {
    "colab": {},
    "colab_type": "code",
    "id": "guIJIMrNNiJz"
   },
   "outputs": [],
   "source": [
    "class Conta:\n",
    "    def __init__(self, numero, titular, saldo, limite):\n",
    "        self.numero = numero\n",
    "        self.titular = tituar\n",
    "        self.saldo = saldo\n",
    "        self.limite = limite\n",
    "    def deposita(self, valor):\n",
    "        self.saldo += valor\n",
    "\n",
    "    # método alterado\n",
    "    def saca(self, valor):\n",
    "    if (self.saldo < valor):\n",
    "        return False\n",
    "    else:\n",
    "        self.saldo -= valor\n",
    "        return True\n",
    "    \n",
    "    def extrato(self):\n",
    "        print(\"numero: {} \\nsaldo: {}\".format(self.numero, self.saldo))\n",
    "\n"
   ]
  },
  {
   "cell_type": "markdown",
   "metadata": {
    "colab_type": "text",
    "id": "v_VZJaP0XtjM"
   },
   "source": [
    "Veja que a declaração do método não mudou mas agora ele nos retorna algo (um boolean). A palavra chave `return` indica que o método vai terminar ali, retornando tal informação.\n",
    "\n",
    "Exemplo de uso:"
   ]
  },
  {
   "cell_type": "code",
   "execution_count": 0,
   "metadata": {
    "colab": {},
    "colab_type": "code",
    "id": "W1JSxRRAXy4y"
   },
   "outputs": [],
   "source": [
    "minha_conta.saldo = 1000\n",
    "consegui = minha_conta.saca(2000)\n",
    "if(consegui):\n",
    "    print(“consegui sacar”)\n",
    "else:\n",
    "    print(“não consegui sacar”)"
   ]
  },
  {
   "cell_type": "markdown",
   "metadata": {
    "colab_type": "text",
    "id": "rml-hu1eYBll"
   },
   "source": [
    "Ou então, podemos eliminar a variável temporária, se desejado:"
   ]
  },
  {
   "cell_type": "code",
   "execution_count": 0,
   "metadata": {
    "colab": {},
    "colab_type": "code",
    "id": "Qn99tp4ZYCiZ"
   },
   "outputs": [],
   "source": [
    "minha_conta.saldo = 1000\n",
    "if(minha_conta.saca(2000)):\n",
    "    print(“consegui sacar”)\n",
    "else:\n",
    "    print(“não consegui sacar”)"
   ]
  },
  {
   "cell_type": "markdown",
   "metadata": {
    "colab_type": "text",
    "id": "lz0nC6grYMF8"
   },
   "source": [
    "Mais adiante, veremos que algumas vezes é mais interessante lançar uma exceção (exception) nesses casos."
   ]
  },
  {
   "cell_type": "markdown",
   "metadata": {
    "colab_type": "text",
    "id": "Uxbidv3xYPq7"
   },
   "source": [
    "### 7.7 OBJETOS SÃO ACESSADOS POR REFERÊNCIA\n",
    "O programa pode manter na memória não apenas uma  `Conta`, mas mais de uma:"
   ]
  },
  {
   "cell_type": "code",
   "execution_count": 0,
   "metadata": {
    "colab": {},
    "colab_type": "code",
    "id": "itHTEXORYif0"
   },
   "outputs": [],
   "source": [
    "minha_conta = Conta()\n",
    "minha_conta.saldo = 1000"
   ]
  },
  {
   "cell_type": "code",
   "execution_count": 0,
   "metadata": {
    "colab": {},
    "colab_type": "code",
    "id": "vmryFKYnYk3e"
   },
   "outputs": [],
   "source": [
    "meu_sonho = Conta()\n",
    "meu_sonho.saldo = 1500000"
   ]
  },
  {
   "cell_type": "markdown",
   "metadata": {
    "colab_type": "text",
    "id": "a1DF2FurYuNg"
   },
   "source": [
    "Quando  criamos  uma  variável  para  associar  a  um objeto,  na  verdade,  essa  variável  não  guarda  o objeto, e sim uma maneira de acessá-lo, chamada de referência (o `self`)."
   ]
  },
  {
   "cell_type": "code",
   "execution_count": 0,
   "metadata": {
    "colab": {},
    "colab_type": "code",
    "id": "Cew1IHQ5Ymx0"
   },
   "outputs": [],
   "source": [
    "c1 = Conta()"
   ]
  },
  {
   "cell_type": "markdown",
   "metadata": {
    "colab_type": "text",
    "id": "PCqNgZpdY4D9"
   },
   "source": [
    "Ao  fazer  isso,  já  sabemos  que  o  Python  está  chamando  os  métodos  mágicos `__new__()` e\n",
    " `__init__()`  que são responsáveis por construir e iniciar um objeto do tipo  `Conta`.\n",
    "\n",
    "O correto é dizer que  `c1`  se refere a um objeto. Não é correto dizer que  `c1`  é um objeto, pois  `c1`  é uma  variável  referência,  apesar  de,  depois  de  um  tempo,  os  programadores  falarem  “tenho  um  objeto `c1`  do tipo   `Conta`”, mas apenas para encurtar a frase “Tenho uma referência   `c1` a  um  objeto  tipo `Conta`”.\n",
    "\n",
    "Vamos analisar o código abaixo:"
   ]
  },
  {
   "cell_type": "code",
   "execution_count": 0,
   "metadata": {
    "colab": {},
    "colab_type": "code",
    "id": "LBmfvkZKZY2W"
   },
   "outputs": [],
   "source": [
    "c1 = Conta('123-4', 'João', 120.0, 1000.0) \n",
    "c2 = c1\n",
    "c2.saldo"
   ]
  },
  {
   "cell_type": "code",
   "execution_count": 0,
   "metadata": {
    "colab": {},
    "colab_type": "code",
    "id": "RPIezyzrZfoI"
   },
   "outputs": [],
   "source": [
    "c1.deposita(100.0)\n",
    "c1.saldo"
   ]
  },
  {
   "cell_type": "code",
   "execution_count": 0,
   "metadata": {
    "colab": {},
    "colab_type": "code",
    "id": "IJnW6fLRZkY-"
   },
   "outputs": [],
   "source": [
    "c2.deposita(30.0) \n"
   ]
  },
  {
   "cell_type": "code",
   "execution_count": 0,
   "metadata": {
    "colab": {},
    "colab_type": "code",
    "id": "vXhLWpSXZcT7"
   },
   "outputs": [],
   "source": [
    "c1.saldo\n",
    "c2.saldo"
   ]
  },
  {
   "cell_type": "markdown",
   "metadata": {
    "colab_type": "text",
    "id": "yMSyj07aZzUV"
   },
   "source": [
    "O que aconteceu aqui? O operador `=` copia o valor de uma variável. Mas qual é o valor da variável `c1` ?  É  o  objeto?  Não.  Na  verdade,  o  valor  guardado  é  a  referência  (endereço)  de  onde  o  objeto  se\n",
    "encontra na memória principal.\n",
    "\n",
    "Ao fazer   `c2  =  c1` ,   `c2`   passa  a  fazer  referência  para  o  mesmo  objeto  que   `c1`   referencia  nesse instante. Quando utilizamos   `c1`  ou   `c2` , neste código, estamos nos referindo ao MESMO objeto – são\n",
    "duas referências que apontam para o mesmo objeto.\n",
    "\n",
    "Podemos notar isso através da função interna  `id()`  que retorna a referência de um objeto:"
   ]
  },
  {
   "cell_type": "code",
   "execution_count": 0,
   "metadata": {
    "colab": {},
    "colab_type": "code",
    "id": "ihb31_CTZh7H"
   },
   "outputs": [],
   "source": [
    "id(c1)"
   ]
  },
  {
   "cell_type": "code",
   "execution_count": 0,
   "metadata": {
    "colab": {},
    "colab_type": "code",
    "id": "T5nZ1Gh-aBv7"
   },
   "outputs": [],
   "source": [
    "id(c2)"
   ]
  },
  {
   "cell_type": "markdown",
   "metadata": {
    "colab_type": "text",
    "id": "GToxXwH1aEmt"
   },
   "source": [
    "Internamente,  `c1`  e  `c2`  vão guardar um número que identifica em que posição da memória aquela `Conta`  se encontra. Dessa maneira, ao utilizarmos o `.` (ponto) para navegar, o Python vai acessar a `Conta`   que  se  encontra  naquela  posição  de  memória,  e  não  uma  outra  conta.\n",
    "\n",
    "Para  quem  conhece,  é parecido com um ponteiro, porém você não pode manipulá-lo.\n",
    "\n",
    "Outra  maneira  de  notar  esse  comportamento  é  que  o  interpretador  Python  chamou  os  métodos `__new__()`   e   `__init__()`    apenas  uma  vez  (na  linha   `c1  =  Conta('123-4',  'João',  120.0, 1000.0)` ), então só pode haver um objeto   Conta  na memória. Compará-las com o operador `==` vai nos retornar  True , pois o valor que elas carregam é o mesmo:"
   ]
  },
  {
   "cell_type": "code",
   "execution_count": 0,
   "metadata": {
    "colab": {},
    "colab_type": "code",
    "id": "c5BL8Iwvac5H"
   },
   "outputs": [],
   "source": [
    "id(c1) == id(c2)"
   ]
  },
  {
   "cell_type": "code",
   "execution_count": 0,
   "metadata": {
    "colab": {},
    "colab_type": "code",
    "id": "3pZatK0iaf_j"
   },
   "outputs": [],
   "source": [
    "c1 == c2"
   ]
  },
  {
   "cell_type": "markdown",
   "metadata": {
    "colab_type": "text",
    "id": "3F3zvuSLajZ1"
   },
   "source": [
    "Podemos então ver outra situação:"
   ]
  },
  {
   "cell_type": "code",
   "execution_count": 0,
   "metadata": {
    "colab": {},
    "colab_type": "code",
    "id": "Z5CovpgyalWG"
   },
   "outputs": [],
   "source": [
    "c1 = Conta(\"123-4\", \"Python\", 500.0, 1000.0)\n",
    "c2 = Conta(\"123-4\", \"Python\", 500.0, 1000.0)"
   ]
  },
  {
   "cell_type": "code",
   "execution_count": 0,
   "metadata": {
    "colab": {},
    "colab_type": "code",
    "id": "AyRJXTsAaon1"
   },
   "outputs": [],
   "source": [
    "if(c1 == c2):\n",
    "    print(\"contas iguais\")\n",
    "else:\n",
    "    print(\"contas diferentes\")"
   ]
  },
  {
   "cell_type": "markdown",
   "metadata": {
    "colab_type": "text",
    "id": "SOKQrPP1a7hQ"
   },
   "source": [
    "O operador `==` compara o conteúdo das variáveis, mas essas variáveis não guardam o objeto, e sim o endereço em que ele se encontra. Como em cada uma dessas variáveis guardamos duas contas criadas diferentemente, elas estão em espaços diferentes da memória, o que faz o teste no `if`  valer   `False`. As contas  podem  ser  equivalentes  no  nosso critério  de  igualdade,  porém  elas  não  são  o  mesmo  objeto.\n",
    "\n",
    "Quando se trata de objetos, pode ficar mais fácil pensar que o `==` compara se os objetos (referências, na verdade) são o mesmo, e não se possuem valores iguais.\n",
    "\n",
    "Para  saber  se  dois  objetos  têm  o  mesmo  conteúdo, você  precisa  comparar  atributo  por  atributo.\n",
    "\n",
    "Futuramente, veremos uma solução mais elegante para isso também."
   ]
  },
  {
   "cell_type": "markdown",
   "metadata": {
    "colab_type": "text",
    "id": "6yOIodPpbR6W"
   },
   "source": [
    "### 7.8 MÉTODO TRANSFERE\n",
    "E  a  funcionalidade  que  transfere  dinheiro  entre  duas  contas?  Podemos  ficar  tentados  a  criar  um método que recebe dois parâmetros:   `conta1`  e   `conta2`  do tipo   `Conta`. Cuidado: já sabemos que os métodos de nossa classe   `Conta`  sempre recebem a referência, o `self` - portanto o método recebe apenas um parâmetro do tipo  `Conta` , a conta destino (além do valor):"
   ]
  },
  {
   "cell_type": "code",
   "execution_count": 0,
   "metadata": {
    "colab": {},
    "colab_type": "code",
    "id": "Pjx0mmHpbfvk"
   },
   "outputs": [],
   "source": [
    "class Conta:\n",
    "    def __init__(self, numero, titular, saldo, limite):\n",
    "        self.numero = numero\n",
    "        self.titular = tituar\n",
    "        self.saldo = saldo\n",
    "        self.limite = limite\n",
    "    def deposita(self, valor):\n",
    "        self.saldo += valor\n",
    "    def saca(self, valor):\n",
    "    if (self.saldo < valor):\n",
    "        return False\n",
    "    else:\n",
    "        self.saldo -= valor\n",
    "        return True\n",
    "    def extrato(self):\n",
    "        print(\"numero: {} \\nsaldo: {}\".format(self.numero, self.saldo))\n",
    "\n",
    "    # método adicionado\n",
    "    def transfere(self, destino, valor):\n",
    "        self.saldo -= valor\n",
    "        destino.saldo += valor"
   ]
  },
  {
   "cell_type": "markdown",
   "metadata": {
    "colab_type": "text",
    "id": "viB2yywecCNv"
   },
   "source": [
    "Para  deixar  o  código  mais  robusto,  poderíamos  verificar  se  a  conta  possui  a  quantidade  a  ser\n",
    "transferida disponível. Para ficar ainda mais interessante, você pode chamar os métodos `deposita()`  e `saca()`  já existentes para fazer essa tarefa:"
   ]
  },
  {
   "cell_type": "code",
   "execution_count": 0,
   "metadata": {
    "colab": {},
    "colab_type": "code",
    "id": "gjUKr3iZcLfX"
   },
   "outputs": [],
   "source": [
    "class Conta:\n",
    "    def __init__(self, numero, titular, saldo, limite):\n",
    "        self.numero = numero\n",
    "        self.titular = tituar\n",
    "        self.saldo = saldo\n",
    "        self.limite = limite\n",
    "    def deposita(self, valor):\n",
    "        self.saldo += valor\n",
    "    def saca(self, valor):\n",
    "    if (self.saldo < valor):\n",
    "        return False\n",
    "    else:\n",
    "        self.saldo -= valor\n",
    "        return True\n",
    "    def extrato(self):\n",
    "        print(\"numero: {} \\nsaldo: {}\".format(self.numero, self.saldo))\n",
    "\n",
    "    # método alterado\n",
    "    def transfere(self, destino, valor):\n",
    "        retirou = self.saca(valor)\n",
    "        if (retirou == False):\n",
    "            return False\n",
    "        else:\n",
    "            destino.deposita(valor)\n",
    "            return True"
   ]
  },
  {
   "cell_type": "markdown",
   "metadata": {
    "colab_type": "text",
    "id": "6Cbc18TscXAC"
   },
   "source": [
    "Quando passamos uma `Conta`  como argumento, o que será que acontece na memória? Será que o objeto é clonado?\n",
    "\n",
    "No Python, a passagem de parâmetro funciona como uma simples atribuição como no uso do `=`.\n",
    "\n",
    "Então, esse parâmetro vai copiar o valor da variável do tipo   `Conta`  que for passado como argumento para  a  variável   destino.  E  qual  é  o  valor  de  uma  variável  dessas?  Seu  valor  é  um  endereço,  uma referência, nunca um objeto. Por isso não há cópia de objetos aqui.\n",
    "\n",
    "Esse último código poderia ser escrito com uma sintaxe muito sucinta. Como?\n",
    "\n",
    "    TRANSFERE PARA\n",
    "\n",
    "Perceba  que  o  nome  deste  método  poderia  ser    `transfere_para()`    ao  invés  de  só `transfere()`. A chamada do método fica muito mais natural, é possível ler a frase em português que ela tem um sentido:"
   ]
  },
  {
   "cell_type": "code",
   "execution_count": 0,
   "metadata": {
    "colab": {},
    "colab_type": "code",
    "id": "vpewgGSzcsVt"
   },
   "outputs": [],
   "source": [
    "conta1.transfere_para(conta2, 50.0):"
   ]
  },
  {
   "cell_type": "markdown",
   "metadata": {
    "colab_type": "text",
    "id": "PsxMxDCfcwDV"
   },
   "source": [
    "A leitura deste código seria \"`conta1` transfere para `conta2` `50` reais\"."
   ]
  },
  {
   "cell_type": "markdown",
   "metadata": {
    "colab_type": "text",
    "id": "ewCTTwW9c8iJ"
   },
   "source": [
    "### 7.9 CONTINUANDO COM ATRIBUTOS\n",
    "Os  atributos  de  uma  classe  podem  receber  um  valor padrão  -  assim  como  os  argumentos  de  uma função.\n",
    "\n",
    "Nosso  banco  pode  ter  um  valor  de  limite  padrão  para todas as contas e apenas em casos específicos pode atribuir um valor limite diferente.\n",
    "\n",
    "Para  aplicarmos  essa  regra  de  negócio,  podemos atribuir  um  valor  padrão  ao  limite,  por  exemplo, 1000.0 reais:"
   ]
  },
  {
   "cell_type": "code",
   "execution_count": 0,
   "metadata": {
    "colab": {},
    "colab_type": "code",
    "id": "CF7-vPL8dMdD"
   },
   "outputs": [],
   "source": [
    "class Conta:\n",
    "    def __init__(self, numero, titular, saldo, limite=1000.0):\n",
    "        self.numero = numero\n",
    "        self.titular = titular\n",
    "        self.saldo = saldo\n",
    "        self.limite = limite"
   ]
  },
  {
   "cell_type": "markdown",
   "metadata": {
    "colab_type": "text",
    "id": "jCTmrZUfdTwe"
   },
   "source": [
    "E podemos inicializar uma conta:"
   ]
  },
  {
   "cell_type": "code",
   "execution_count": 0,
   "metadata": {
    "colab": {},
    "colab_type": "code",
    "id": "Wbofir6kdZFi"
   },
   "outputs": [],
   "source": [
    "conta = Conta('123-4', 'joão', 120.0)"
   ]
  },
  {
   "cell_type": "markdown",
   "metadata": {
    "colab_type": "text",
    "id": "j1UseDp-dbf9"
   },
   "source": [
    "Veja que agora não somos obrigados a passar o valor do limite  já que ele possui um valor padrão de 1000.0 e podemos acessá-lo pela conta:"
   ]
  },
  {
   "cell_type": "code",
   "execution_count": 0,
   "metadata": {
    "colab": {},
    "colab_type": "code",
    "id": "qm0Zrd_udg0E"
   },
   "outputs": [],
   "source": [
    "conta.limite"
   ]
  },
  {
   "cell_type": "markdown",
   "metadata": {
    "colab_type": "text",
    "id": "zyP-i25Kdlrg"
   },
   "source": [
    "Quando  declaramos  as  variáveis  na  classe   `Conta`, aprendemos  que  podemos  atribuir  um  valor\n",
    "padrão  para  cada  uma  delas.  Imagine  que  comecemos  a  aumentar  nossa  classe   `Conta`   e  adicionar\n",
    "nome,  sobrenome  e  cpf  do  titular  da  conta.\n",
    "\n",
    "Começaríamos  a  ter  muitos  atributos...  e,  se  você  pensar direito, uma   `Conta`  não tem nome, nem sobrenome nem cpf, quem tem esses atributos é um cliente.\n",
    "\n",
    "Então  podemos  criar  uma  nova  classe  e  fazer  uma  agregação  -  agregar  um  cliente  a  nossa  conta.\n",
    "\n",
    "Portanto, nossa classe  `Conta`  tem um  `Cliente`.\n",
    "\n",
    "O atributos de uma   `Conta`  também podem ser referências para outras classes. Suponha a seguinte classe  `Cliente`:"
   ]
  },
  {
   "cell_type": "code",
   "execution_count": 0,
   "metadata": {
    "colab": {},
    "colab_type": "code",
    "id": "I9QVQ4OsdlGF"
   },
   "outputs": [],
   "source": [
    "class Cliente:\n",
    "    def __init__(self, nome, sobrenome, cpf):\n",
    "        self.nome = nome\n",
    "        self.sobrenome = sobrenome\n",
    "        self.cpf = cpf"
   ]
  },
  {
   "cell_type": "code",
   "execution_count": 0,
   "metadata": {
    "colab": {},
    "colab_type": "code",
    "id": "7GkY7lCvd-Dr"
   },
   "outputs": [],
   "source": [
    "class Conta:\n",
    "    def __init__(self, numero, cliente, saldo, limite):\n",
    "        self.numero = numero\n",
    "        self.titular = cliente\n",
    "        self.saldo = saldo\n",
    "        self.limite = limite"
   ]
  },
  {
   "cell_type": "markdown",
   "metadata": {
    "colab_type": "text",
    "id": "qsc4UgkIeA34"
   },
   "source": [
    "E quando criarmos um  `Conta`, precisamos passar um  `Cliente` como  titular :"
   ]
  },
  {
   "cell_type": "code",
   "execution_count": 0,
   "metadata": {
    "colab": {},
    "colab_type": "code",
    "id": "Q8iygplTeGxR"
   },
   "outputs": [],
   "source": [
    "cliente = Cliente('João', 'Oliveira', '1111111111-1')"
   ]
  },
  {
   "cell_type": "code",
   "execution_count": 0,
   "metadata": {
    "colab": {},
    "colab_type": "code",
    "id": "WnUOUiwveJN8"
   },
   "outputs": [],
   "source": [
    "minha_conta = Conta('123-4', cliente, 120.0, 1000.0)"
   ]
  },
  {
   "cell_type": "markdown",
   "metadata": {
    "colab_type": "text",
    "id": "EbvDFklTeNKH"
   },
   "source": [
    "Aqui aconteceu uma atribuição, o valor da variável `cliente`  é copiado para o atributo  `titular`  do objeto  ao  qual   `minha_conta` se  refere. Em  outras  palavras, `minha_conta`   tem  uma  referência  ao mesmo  `Cliente`  que  `cliente`  se refere, e pode ser acessado através de  `minha_conta.titular`.\n",
    "\n",
    "Você pode realmente navegar sobre toda estrutura de informação, sempre usando o ponto:"
   ]
  },
  {
   "cell_type": "code",
   "execution_count": 0,
   "metadata": {
    "colab": {},
    "colab_type": "code",
    "id": "7IyFPRv-eM2G"
   },
   "outputs": [],
   "source": [
    "minha_conta.titular"
   ]
  },
  {
   "cell_type": "markdown",
   "metadata": {
    "colab_type": "text",
    "id": "XckQ2xLgeglG"
   },
   "source": [
    "Veja que a saída é a referência a um objeto do tipo `Cliente`, mas podemos acessar seus atributos de uma forma mais direta e até mais elegante:"
   ]
  },
  {
   "cell_type": "code",
   "execution_count": 0,
   "metadata": {
    "colab": {},
    "colab_type": "code",
    "id": "hjxm6GCKen5P"
   },
   "outputs": [],
   "source": [
    "minha_conta.titular.nome"
   ]
  },
  {
   "cell_type": "markdown",
   "metadata": {
    "colab_type": "text",
    "id": "_louaPl3eq5r"
   },
   "source": [
    "### 7.10 TUDO É OBJETO\n",
    "Python é uma linguagem totalmente orientada a objetos. Tudo em Python é um objeto! Sempre que utilizamos uma função ou método que recebe parâmetros estamos passando objetos como argumentos.\n",
    "\n",
    "Não  é  diferente  com  nossas  classes.  Quando  uma  conta  recebe  um  cliente  como  titular,  ele  está recebendo uma instância de `Cliente` , ou seja, um objeto.\n",
    "\n",
    "O mesmo acontece com  `numero` ,  `saldo`  e   `limite`. Strings e números são classes no Python. Por este  motivo  que  aparece  a  palavra  class  quando  pedimos  para  o  Python  nos  devolver  o  tipo  de  uma variável através da função `type`:"
   ]
  },
  {
   "cell_type": "code",
   "execution_count": 0,
   "metadata": {
    "colab": {},
    "colab_type": "code",
    "id": "KDNPPCZOe-Nh"
   },
   "outputs": [],
   "source": [
    "type(conta.numero)"
   ]
  },
  {
   "cell_type": "code",
   "execution_count": 0,
   "metadata": {
    "colab": {},
    "colab_type": "code",
    "id": "JHcthIG9fAPK"
   },
   "outputs": [],
   "source": [
    "type(conta.saldo)"
   ]
  },
  {
   "cell_type": "code",
   "execution_count": 0,
   "metadata": {
    "colab": {},
    "colab_type": "code",
    "id": "Fy4tjvGCfCDH"
   },
   "outputs": [],
   "source": [
    "type(conta.titular)"
   ]
  },
  {
   "cell_type": "markdown",
   "metadata": {
    "colab_type": "text",
    "id": "4Srbf6EdfFRk"
   },
   "source": [
    "Um sistema orientado a objetos é um grande conjunto de classes que vai se comunicar, delegando responsabilidades para quem for mais apto a realizar determinada tarefa. A classe `Banco`   usa  a  classe `Conta`   que  usa  a  classe   `Cliente`,  que  usa  a  classe `Endereco` ,  etc... Dizemos  que  esses  objetos colaboram,  trocando  mensagens  entre  si.  Por  isso  acabamos  tendo  muitas  classes  em  nosso  sistema,  e elas costumam ter um tamanho relativamente curto."
   ]
  },
  {
   "cell_type": "markdown",
   "metadata": {
    "colab_type": "text",
    "id": "9eWtCzypfZGx"
   },
   "source": [
    "### 7.11 COMPOSIÇÃO\n",
    "Fizemos,  no  ponto  anterior,  uma  agregação.  Agora  nossa  classe   Conta   tem  um   Cliente   e associamos estas  duas  classes.  Mas  nossa  classe   `Cliente` existe  independente  da  classe `Conta`.\n",
    "\n",
    "Suponha  agora  que  nossa   `Conta`   possua  um  histórico,  contendo  a  data  de  abertura  da  conta  e  suas transações. Podemos criar uma classe para representar o histórico, como no exemplo abaixo:"
   ]
  },
  {
   "cell_type": "code",
   "execution_count": 0,
   "metadata": {
    "colab": {},
    "colab_type": "code",
    "id": "mKvnVN7vgEud"
   },
   "outputs": [],
   "source": [
    "import datetime\n",
    "class Historico:\n",
    "    def __init__(self):\n",
    "        self.data_abertura = datetime.datetime.today()\n",
    "        self.transacoes = []\n",
    "    def imprime(self):\n",
    "        print(\"data abertura: {}\".format(self.data_abertura))\n",
    "        print(\"transações: \")\n",
    "        for t in self.transacoes:\n",
    "            print(\"-\", t)"
   ]
  },
  {
   "cell_type": "markdown",
   "metadata": {
    "colab_type": "text",
    "id": "CSyvRvFygMWO"
   },
   "source": [
    "Agora precisamos modificar nossa classe  `Conta`  de modo que ela tenha um  `Historico` . Mas aqui, diferente  da  relação  do  cliente  com  uma  conta,  a  existência  de  um histórico  depende  da  existência  de uma  `Conta`:"
   ]
  },
  {
   "cell_type": "code",
   "execution_count": 0,
   "metadata": {
    "colab": {},
    "colab_type": "code",
    "id": "4OLbeHAUgMIO"
   },
   "outputs": [],
   "source": [
    "class Conta:\n",
    "    def __init__(self, numero, cliente, saldo, limite=1000.0):\n",
    "        self.numero = numero\n",
    "        self.cliente = cliente\n",
    "        self.saldo = saldo\n",
    "        self.limite = limite\n",
    "        self.historico = Historico()"
   ]
  },
  {
   "cell_type": "markdown",
   "metadata": {
    "colab_type": "text",
    "id": "ffMJnCMqgXxQ"
   },
   "source": [
    "E podemos, em cada método para manipular uma  `Conta`, acrescentar a operação nas transações de seu  `Historico`:"
   ]
  },
  {
   "cell_type": "code",
   "execution_count": 0,
   "metadata": {
    "colab": {},
    "colab_type": "code",
    "id": "wpXKEShLge9z"
   },
   "outputs": [],
   "source": [
    "class Conta:\n",
    "    def __init__(self, numero, cliente, saldo, limite=1000.0):\n",
    "        self.numero = numero\n",
    "        self.cliente = cliente\n",
    "        self.saldo = saldo\n",
    "        self.limite = limite\n",
    "        self.historico = Historico()\n",
    "\n",
    "    # código adicionado\n",
    "    def deposita(self, valor):\n",
    "        self.saldo += valor\n",
    "        self.historico.transacoes.append(\"depósito de {}\".format(valor))\n",
    "    def saca(self, valor):\n",
    "        if (self.saldo < valor):\n",
    "            return False\n",
    "        else:\n",
    "            self.saldo -= valor\n",
    "            self.historico.transacoes.append(\"saque de {}\".format(valor))\n",
    "    def extrato(self):\n",
    "        print(\"numero: {} \\nsaldo: {}\".format(self.numero, self.saldo))\n",
    "        self.historico.transacoes.append(\"tirou extrato - saldo \n",
    "        de {}\".format(self.saldo))\n",
    "    def transfere_para(self, destino, valor):\n",
    "        retirou = self.saca(valor)\n",
    "        if (retirou == False):\n",
    "            return False\n",
    "        else:\n",
    "            destino.deposita(valor)\n",
    "            self.historico.transacoes.append(\"transferencia de {} \n",
    "            para conta {}\".format(valor, destino.numero))\n",
    "            return True"
   ]
  },
  {
   "cell_type": "markdown",
   "metadata": {
    "colab_type": "text",
    "id": "RwvoP5VNhOLW"
   },
   "source": [
    "E testamos:"
   ]
  },
  {
   "cell_type": "code",
   "execution_count": 0,
   "metadata": {
    "colab": {},
    "colab_type": "code",
    "id": "NUAPQ5QwhZYO"
   },
   "outputs": [],
   "source": [
    "cliente1 = Cliente('João', 'Oliveira', '11111111111-11')\n",
    "cliente2 = Cliente('José', 'Azevedo', '222222222-22')\n",
    "conta1 = Conta('123-4', cliente1, 1000.0)\n",
    "conta2 = Conta('123-5', cliente2, 1000.0)\n",
    "conta1.deposita(100.0)\n",
    "conta1.saca(50.0)\n",
    "conta1.transfere_para(conta2, 200.0)\n",
    "conta1.extrato"
   ]
  },
  {
   "cell_type": "code",
   "execution_count": 0,
   "metadata": {
    "colab": {},
    "colab_type": "code",
    "id": "F8ywrix2hrXq"
   },
   "outputs": [],
   "source": [
    "conta1.historico.imprime()"
   ]
  },
  {
   "cell_type": "code",
   "execution_count": 0,
   "metadata": {
    "colab": {},
    "colab_type": "code",
    "id": "Za9d12efhuYd"
   },
   "outputs": [],
   "source": [
    "conta2.historico.imprime()"
   ]
  },
  {
   "cell_type": "markdown",
   "metadata": {
    "colab_type": "text",
    "id": "F6XjdpnThy0R"
   },
   "source": [
    "Quando a existência de uma classe depende de outra classe, como é a relação da classe `Histórico` com a classe `Conta`, dizemos que a classe `Historico` compõe a classe `Conta`.\n",
    "\n",
    "Esta  associação  chamamos Composição.\n",
    "\n",
    "Mas, e se dentro da nossa   `Conta`  não colocássemos   `self.historico = Historico()`  e tentasse acessá-lo diretamente?\n",
    "\n",
    "Faz algum sentido fazer `historico = Historico()`?\n",
    "\n",
    "Quando o objeto é inicializado, ele vai receber o valor default que definimos na classe:"
   ]
  },
  {
   "cell_type": "code",
   "execution_count": 0,
   "metadata": {
    "colab": {},
    "colab_type": "code",
    "id": "dM4I6AsAhyjY"
   },
   "outputs": [],
   "source": [
    "class Conta:\n",
    "    def __init__(self, numero, cliente, saldo, limite=1000.0):\n",
    "        self.numero = numero\n",
    "        self.cliente = cliente\n",
    "        self.saldo = saldo\n",
    "        self.limite = limite\n",
    "        # código alterado (?)\n",
    "        self.historico = Historico()\n",
    "\n",
    "    def deposita(self, valor):\n",
    "        self.saldo += valor\n",
    "        self.historico.transacoes.append(\"depósito de {}\".format(valor))\n",
    "    def saca(self, valor):\n",
    "        if (self.saldo < valor):\n",
    "            return False\n",
    "        else:\n",
    "            self.saldo -= valor\n",
    "            self.historico.transacoes.append(\"saque de {}\".format(valor))\n",
    "    def extrato(self):\n",
    "        print(\"numero: {} \\nsaldo: {}\".format(self.numero, self.saldo))\n",
    "        self.historico.transacoes.append(\"tirou extrato - saldo \n",
    "        de {}\".format(self.saldo))\n",
    "    def transfere_para(self, destino, valor):\n",
    "        retirou = self.saca(valor)\n",
    "        if (retirou == False):\n",
    "            return False\n",
    "        else:\n",
    "            destino.deposita(valor)\n",
    "            self.historico.transacoes.append(\"transferencia de {} \n",
    "            para conta {}\".format(valor, destino.numero))\n",
    "            return True        "
   ]
  },
  {
   "cell_type": "markdown",
   "metadata": {
    "colab_type": "text",
    "id": "FKUV8rHSi76y"
   },
   "source": [
    "Com esse código, toda nova  `Conta`  criada já terá um novo `Historico` associado, sem necessidade de instanciá-lo logo em seguida da instanciação de uma  `Conta`\n",
    "\n",
    "Atenção: para quem não está acostumado com referências, pode ser bastante confuso pensar sempre em  como  os  objetos  estão  na  memória  para  poder  tirar  as  conclusões  de  o  que  ocorrerá  ao  executar determinado  código,  por  mais  simples  que  ele  seja.  Com  o  tempo,  você  adquire  a  habilidade  de rapidamente  saber  o  efeito  de  atrelar  as  referências,  sem  ter  de  gastar  muito  tempo  para  isso.  É importante, nesse começo, você estar sempre pensando no estado da memória. E realmente lembrar que,\n",
    "no Python “uma variável nunca carrega um objeto, e sim uma referência para ele” facilita muito."
   ]
  },
  {
   "cell_type": "markdown",
   "metadata": {
    "colab_type": "text",
    "id": "t4nxmF1hjXsj"
   },
   "source": [
    "### 7.12 PARA SABER MAIS: OUTROS MÉTODOS DE UMA CLASSE\n",
    "O interpretador adiciona alguns atributos especiais somente para leitura a vários tipos de objetos de uma classe e um deles é o  `__dict__`.\n",
    "\n",
    "Isso  acontece  porque  a  classe   `Conta`   possui  alguns  métodos,  dentre  eles  o   `__init__()`   e  o  `__new__()`   que  são  chamados  para  criar  e  inicializar  um  objeto  desta  classe,  respectivamente.  Caso você queira saber quais outros métodos são implementados pela classe   `Conta`  você pode usar a função embutida  `dir()`  que vai listar todos métodos e atributos que a classe possui.\n",
    "\n"
   ]
  },
  {
   "cell_type": "code",
   "execution_count": 0,
   "metadata": {
    "colab": {},
    "colab_type": "code",
    "id": "E-s4blAWjvtO"
   },
   "outputs": [],
   "source": [
    "dir(Conta)"
   ]
  },
  {
   "cell_type": "markdown",
   "metadata": {
    "colab_type": "text",
    "id": "nfDrjEdmj1Pj"
   },
   "source": [
    "Dessa lista, já conhecemos o   `__init__()`, o   `__new__()`  e os métodos e atributos que definimos quando construímos a classe   `Conta`.  Na  verdade,  quando  usamos  a  função   `dir()`,  o  interpretador chama o atributo   `__dir__`  dessa lista. Um outro atributo bastante útil é o   `__dict__`  que retorna um dicionário com os atributos da classe:"
   ]
  },
  {
   "cell_type": "code",
   "execution_count": 0,
   "metadata": {
    "colab": {},
    "colab_type": "code",
    "id": "Cii7R6WXkDE1"
   },
   "outputs": [],
   "source": [
    "cliente = Cliente('João', 'Oliveira', '111111111-11')\n",
    "conta = Conta('123-4', cliente, 1000.0)\n",
    "conta.__dict__"
   ]
  },
  {
   "cell_type": "markdown",
   "metadata": {
    "colab_type": "text",
    "id": "D523vkSukDpj"
   },
   "source": [
    "Mas  não  é  comum  acessá-lo  dessa  maneira.  Estes métodos  iniciados  e  terminados  com  dois underscores  são  chamados  pelo  interpretador  e  são  conhecidos  como  métodos  mágicos.  Existe  outra função  embutida  do  Python,  a  função   `vars()`,  que  chama  exatamente  o   `__dict__`   de  uma  classe.\n",
    "\n",
    "Obtemos o mesmo resultado usando `vars(conta)`:\n",
    "\n"
   ]
  },
  {
   "cell_type": "code",
   "execution_count": 0,
   "metadata": {
    "colab": {},
    "colab_type": "code",
    "id": "z3ibZ-KZkZPF"
   },
   "outputs": [],
   "source": [
    "vars(conta)"
   ]
  },
  {
   "cell_type": "markdown",
   "metadata": {
    "colab_type": "text",
    "id": "hGI0WCURkcGB"
   },
   "source": [
    "Repare  que  o   `__dict__`   e  o   `vars()`   retornam exatamente  um  dicionário  de  atributos  de  uma conta  como  tínhamos  modelado  no  início  deste  capítulo.\n",
    "\n",
    "Portanto,  nossas  classes  utilizam  dicionários para armazenar informações da própria classe.\n",
    "\n",
    "Os demais métodos mágicos estão disponíveis para uso e não utilizaremos por enquanto. Voltaremos a falar deles em um outro momento."
   ]
  },
  {
   "cell_type": "markdown",
   "metadata": {
    "colab_type": "text",
    "id": "r7BK-qFsktm5"
   },
   "source": [
    "### 7.13 EXERCÍCIO: PRIMEIRA CLASSE PYTHON\n",
    "\n",
    "1.  Crie um arquivo chamado  conta.py  na pasta  oo  criada no exercício anterior.\n",
    "2.  Crie a classe Conta sem nenhum atributo e salve o arquivo.\n",
    "\n",
    "        class Conta:\n",
    "            pass\n",
    "3.  Abra o terminal e vá até a pasta onde se encontra o arquivo   conta.py . Abra o console do Python3 no terminal e importe a classe Conta do módulo conta.\n",
    "        from conta import Conta\n",
    "4.  Crie  uma  instância  (objeto)  da  classe   Conta   e  utilize  a  função   type()   para  verificar  o  tipo  do\n",
    "objeto:\n",
    "        conta = Conta()\n",
    "        type(conta)\n",
    "Além disso, crie alguns atributos e tente acessá-los.\n",
    "1.  Abra  novamente  o  arquivo  conta.py  e  escreva  o método   `__init__()`   recebendo  os  atributos\n",
    "anteriormente definidos por nós que toda conta deve ter (numero titular, saldo e limite):\n",
    "        class Conta:\n",
    "            def __init__(self, numero, titular, saldo, limite):\n",
    "                self.numero = numero\n",
    "                self.titular = titular\n",
    "                self.saldo = saldo\n",
    "                self.limite = limite\n",
    "2.  Reinicie  o  Python3  no  terminal  e  importe  novamente  a  classe   Conta   do  módulo  conta  para testarmos nosso código:\n",
    "        from conta import Conta\n",
    "3.  Tente criar uma conta sem passar qualquer argumento no construtor:\n",
    "        conta = Conta()\n",
    "\n",
    "Note  que  o  interpretador  acusou  um  erro.  O  método   `__init__()`   exige  4  argumentos  `numero`,\n",
    "`titular`, `saldo` e `limite`.\n",
    "4.  Agora vamos seguir o exigido pela classe, pela receita de uma conta:\n",
    "        conta = Conta('123-4', 'João', 120.0, 1000.0)\n",
    "5.  O interpretador não acusou nenhum erro. Vamos imprimir o  numero  e  titular  da conta:\n",
    "        conta.numero\n",
    "        conta.titular\n",
    "6.  Crie o método   `deposita()`  dentro da classe   `Conta`. Esse método deve receber uma referência do\n",
    "próprio objeto e o valor a ser adicionado ao saldo da conta.\n",
    "        def deposita(self, valor):\n",
    "            self.saldo += valor\n",
    "7.  Crie o método  saca()  que recebe como argumento uma referência do próprio objeto e o valor a ser\n",
    "sacado. Esse método subtrairá o valor do saldo da conta.\n",
    " def saca(self, valor):\n",
    "     self.saldo -= valor\n",
    "8.  Crie  o  método   `extrato()` ,  que  recebe  como  argumento  uma  referência  do  próprio  objeto.  Esse\n",
    "método imprimirá o saldo da conta:\n",
    "        def extrato(self):\n",
    "            print(\"numero: {} \\nsaldo: {}\".format(self.numero, self.saldo))\n",
    "9.  Modifique o método `saca()` fazendo retornar um valor que representa se a operação foi ou não bem sucedida. Lembre que não é permitido sacar um valor menor do que o saldo.\n",
    "        def saca(self, valor):\n",
    "            if (self.saldo < valor):\n",
    "                return False\n",
    "            else:\n",
    "                self.saldo -= valor\n",
    "                return True\n",
    "10.  Crie o método   `transfere_para()`  que recebe como argumento uma referência do próprio objeto, uma  `Conta`  destino e o valor a ser transferido. Esse método deve sacar o valor do próprio objeto e depositar na conta destino:\n",
    "        \n",
    "            def transfere_para(self, destino, valor):\n",
    "                retirou = self.saca(valor)\n",
    "                if (retirou == false):\n",
    "                    return False\n",
    "                else:\n",
    "                    destino.deposita(valor)\n",
    "                    return True\n",
    "\n",
    "11.  Abra o Python no terminal, importe o módulo `conta`, crie duas contas e teste os métodos criados.\n",
    "\n",
    "12.  (Opcional)  Crie  uma  classe  para  representar  um  cliente  do  nosso  banco  que  deve  ter    nome  ,\n",
    " sobrenome  e  cpf . Instancie uma  Conta  e passe um cliente como   titular  da conta. Modifique\n",
    "o método   `extrato()`   da  classe   `Conta`   para  imprimir,  além  do  número  e  o  saldo,  os  dados  do\n",
    "cliente. Podemos criar uma  `Conta`  sem um  `Cliente` ? E um  `Cliente`  sem uma  `Conta`?\n",
    "13.  (Opcional)  Crie  uma  classe  que  represente  uma  data,  com  dia,  mês  e  ano.Crie  um  atributo\n",
    " `data_abertura`  na classe  `Conta`. Crie uma nova conta e faça testes no console do Python.\n",
    "\n",
    "14.  (Desafio)  Crie  uma  classe   `Historico`   que  represente  o  histórico  de  uma   `Conta`   seguindo  o\n",
    "exemplo da apostila. Faça testes no console do Python criando algumas contas, fazendo operações e\n",
    "por último mostrando o histórico de transações de uma  `Conta`. Faz sentido criar um objeto do tipo\n",
    " `Historico`  sem uma  `Conta`? \n",
    "\n",
    "Agora,  além  de  funcionar  como  esperado,  nosso  código  não  permite  criar  uma  conta  sem  os\n",
    "atributos que definimos anteriormente. Discuta com seus colegas e instrutor as vantagens da orientação\n",
    "a objetos até aqui."
   ]
  },
  {
   "cell_type": "markdown",
   "metadata": {
    "colab_type": "text",
    "id": "V_Ng31BCk1mW"
   },
   "source": [
    "# CAPÍTULO 8\n",
    "## MODIFICADORES DE ACESSO E MÉTODOS DE CLASSE"
   ]
  },
  {
   "cell_type": "markdown",
   "metadata": {
    "colab_type": "text",
    "id": "gtaTvfU3f_I0"
   },
   "source": [
    "Um dos problemas mais simples que temos no nosso sistema de contas é que o método  `saca()`  permite sacar mesmo que o saldo seja insuficiente. A seguir você pode lembrar como está a classe  `Conta`:"
   ]
  },
  {
   "cell_type": "code",
   "execution_count": 0,
   "metadata": {
    "colab": {},
    "colab_type": "code",
    "id": "iUFTy-17gNJh"
   },
   "outputs": [],
   "source": [
    "class Conta:\n",
    "    def __init__(self, numero, titular, saldo, limite=1000.0):\n",
    "        self.numero = numero\n",
    "        self.titular = titular    \n",
    "        self.saldo = saldo\n",
    "        self.limite = limite\n",
    "    # outros métodos\n",
    "    def saca(self, valor):\n",
    "        this.saldo -= valor"
   ]
  },
  {
   "cell_type": "markdown",
   "metadata": {
    "colab_type": "text",
    "id": "aw2m-w9dgPoh"
   },
   "source": [
    "Abrimos o terminal e testamos nosso código:"
   ]
  },
  {
   "cell_type": "code",
   "execution_count": 0,
   "metadata": {
    "colab": {},
    "colab_type": "code",
    "id": "KXW_eKcxgRRK"
   },
   "outputs": [],
   "source": [
    "minha_conta = Conta('123-4', 'joão', 1000.0, 2000.0)\n",
    "minha_conta.saca(500000)"
   ]
  },
  {
   "cell_type": "markdown",
   "metadata": {
    "colab_type": "text",
    "id": "yOfDh7RDgVwP"
   },
   "source": [
    "O limite de saque é ultrapassado. Podemos incluir um  `if`  dentro do método   `saca()`  para evitar a situação  que  resultaria  em  uma  conta  em  estado  inconsistente,  com  seu  saldo  menor  do  que  zero.\n",
    "\n",
    "Fizemos isso no capítulo de orientação a objetos básica.\n",
    "Apesar de melhorar bastante, ainda temos um problema mais grave: ninguém garante que o usuário da  classe  vai  sempre  utilizar  o  método  para  alterar  o  saldo  da  conta.  O  código  a  seguir  altera  o  saldo diretamente:"
   ]
  },
  {
   "cell_type": "code",
   "execution_count": 0,
   "metadata": {
    "colab": {},
    "colab_type": "code",
    "id": "ht7e2qRMgWqG"
   },
   "outputs": [],
   "source": [
    "minha_conta = Conta('123-4', 'João', 1000.0)\n",
    "minha_conta.saldo = -200"
   ]
  },
  {
   "cell_type": "markdown",
   "metadata": {
    "colab_type": "text",
    "id": "GRptDABRwqzu"
   },
   "source": [
    "Como evitar isso? Uma ideia simples seria testar se não estamos sacando um valor maior que o saldo toda vez que formos alterá-lo."
   ]
  },
  {
   "cell_type": "code",
   "execution_count": 0,
   "metadata": {
    "colab": {},
    "colab_type": "code",
    "id": "tEd4kdJ5wqlU"
   },
   "outputs": [],
   "source": [
    "minha_conta = Conta('123-4', 'joão', 1000.0)\n",
    "novo_saldo = -200\n",
    "    if(novo_saldo < 0):\n",
    "        print(\"saldo inválido\")\n",
    "    else:\n",
    "        minha_conta.saldo = novo_saldo\n"
   ]
  },
  {
   "cell_type": "markdown",
   "metadata": {
    "colab_type": "text",
    "id": "MjRJMDSZgafY"
   },
   "source": [
    "Esse código iria se repetir ao longo de toda nossa aplicação e, pior, alguém pode esquecer de fazer\n",
    "essa comparação em algum momento, deixando a conta em uma situação inconsistente. A melhor forma\n",
    "de resolver isso seria forçar quem usa a classe   Conta  a  invocar o método   saca()   e  não  permitir  o\n",
    "acesso direto ao atributo.\n",
    "Em linguagens como Java e C# basta declarar que os atributos não podem ser acessados de fora da\n",
    "classe  utilizando  a  palavra  chave  private.  Em  orientação  a  objetos,  é  prática  quase  que  obrigatória\n",
    "proteger seus atributos com private. Cada classe é responsável por controlar seus atributos, portanto ela\n",
    "deve julgar se aquele novo valor é válido ou não. E esta validação não deve ser controlada por quem está\n",
    "usando a classe e sim por ela mesma, centralizando essa responsabilidade e facilitando futuras mudanças\n",
    "no sistema.\n",
    "O  Python  não  utiliza  o  termo  private,  que  é  um  modificador  de  acesso  e  também  chamado  de\n",
    "modificador de visibilidade. No Python inserimos dois underscores ('__') ao atributo para adicionar esta\n",
    "característica:\n",
    "\n",
    "    class Pessoa:\n",
    "        def __init__(self, idade):\n",
    "            self.__idade = idade\n",
    "\n",
    "Dessa maneira não conseguimos acessar o atributo   idade  de um objeto do tipo   Pessoa  fora da\n",
    "classe:\n",
    "\n",
    "    >>> pessoa = Pessoa(20)\n",
    "    >>> pessoa.idade\n",
    "    Traceback (most recent call last):\n",
    "    File \"<stdin>\", line 1, in <module>\n",
    "    AttributeError: 'Pessoa' object has no attribute 'idade'\n",
    "\n",
    "O interpretador acusa que o atributo  idade  não existe na classe  Pessoa . Mas isso não garante que\n",
    "ninguém  possa  acessá-lo.  No  Python  não  existem  atributos  realmente  privados,  ele  apenas  alerta  que\n",
    "você não deveria tentar acessar este atributo, ou modificá-lo. Para acessá-lo, fazemos:\n",
    "\n",
    "    >>> p._Pessoa__idade\n",
    "\n",
    "Ao colocar o prefixo __ no atributo da classe, o Python apenas renomeia `__nome_do_atributo` para\n",
    "`_nomeda_Classe\\_nome_do_atributo`, como fez em `__idade` para `_Pessoa__idade`.  Qualquer  pessoa\n",
    "que  saiba  que  os  atributos  privados  não  são  realmente  privados,  mas  \"desconfigurados\",  pode  ler  e\n",
    "atribuir  um  valor  ao  atributo  \"privado\"  diretamente.  Mas  fazer   pessoa.`_Pessoa__idade  =  20`  é\n",
    "considerado má prática e pode acarretar em erros.\n",
    "Podemos utilizar a função  dir  para ver que o atributo  `_Pessoa__idade`  pertence ao objeto:\n",
    "\n",
    "    >>> dir(pessoa)\n",
    "    ['_Pessoa__idade', '__class__', '__delattr__', '__dict__', '__dir__',\n",
    "    '__doc__', '__eq__', '__format__', '__ge__', '__getattribute__', '__gt__',\n",
    "    '__hash__', '__init__', '__init_subclass__', '__le__', '__lt__', \n",
    "    '__module__', '__ne__', '__new__', '__reduce__', '__reduce_ex__', \n",
    "    '__repr__', '__setattr__', '__sizeof__', '__str__', '__subclasshook__',\n",
    "    '__weakref__']\n",
    "\n",
    "Repare que não existe nenhum atributo  __idade  no objeto pessoa. Agora vamos tentar atribuir um\n",
    "valor para  __idade :\n",
    "\n",
    "    >>> pessoa.__idade = 25\n",
    "\n",
    "Epa, será que o Python deveria deixar isso ocorrer? Vamos acessar a variável novamente e ver se a\n",
    "modificação realmente aconteceu:\n",
    "\n",
    "    >>> pessoa._Pessoa__idade\n",
    "    20\n",
    "\n",
    "O que aconteceu aqui é que o Python criou um novo atributo __idade para o objeto  pessoa  já que\n",
    "é uma linguagem dinâmica. Vamos utilizar a função  dir  novamente para ver isso:\n",
    "\n",
    "    >>> dir(pessoa)\n",
    "    ['_Pessoa__idade', '__class__', '__delattr__', '__dict__', '__dir__',\n",
    "    '__doc__', '__eq__', '__format__', '__ge__', '__getattribute__', '__gt__',\n",
    "    '__hash__', '__idade', '__init__', '__init_subclass__', '__le__', '__lt_'\n",
    "    '__module__', '__ne__', '__new__', '__reduce__', '__reduce_ex__',\n",
    "    '__repr__', '__setattr__', '__sizeof__', '__str__', '__subclasshook__',\n",
    "    '__weakref__']\n",
    "Note que um novo atributo   `__idade`   apareceu,  já  que  foi  inicializado  em  tempo  de  execução  e  é\n",
    "diferente do   `__idade`  da classe. Isso pode gerar muita confusão e erros! O Python também tem uma\n",
    "maneira de lidar com este problema através da variável `__slots__` onde definimos um número limitado\n",
    "de atributos que veremos a seguir.\n",
    "Nenhum  atributo  é  realmente  privado  em  Python  já  que  podemos  acessá-lo  pelo  seu  nome\n",
    "'desfigurado'.  Muitos  programadores  Python  não  gostam  dessa  sintaxe  e  preferem  usar  apenas  um\n",
    "underscore  '_'  para  indicar  quando  um  atributo  deve  ser  protegido.  Ou  seja,  deve  ser  explícita  essa\n",
    "desconfiguração do nome - feita pelo programador e não pelo interpretador - já que oferece o mesmo\n",
    "resultado. E argumentam que '__' são obscuros.\n",
    "O  prefixo  com  apenas  um  underscore  não  tem  significado  para  o  interpretador  quando  usado  em\n",
    "nome  de  atributos,  mas  entre  programadores  Python  é  uma  convenção  que  deve  ser  respeitada.  O\n",
    "programador alerta que esse atributo não deve ser acessado diretamente:\n",
    "\n",
    "    def __init__(self, idade):\n",
    "        self._idade = idade\n",
    "\n",
    "Um atributo com apenas um underscore é chamados de protegido, mas quando usado sinaliza que\n",
    "deve ser tratado como um atributo \"privado\" e acessá-lo diretamente pode ser perigoso.\n",
    "As  mesmas  regras  de  acesso  aos  atributos  valem  para  os  métodos.  É  muito  comum,  e  faz  todo\n",
    "sentido,  que  seus  atributos  sejam  privados  e  quase  todos  seus  métodos  sejam  públicos  (não  é  uma\n",
    "regra!).  Desta  forma,  toda  conversa  de  um  objeto  com  outro  é  feita  por  troca  de  mensagens,  isto  é,\n",
    "acessando seus métodos. Algo muito mais educado que mexer diretamente em um atributo que não é\n",
    "seu.\n",
    "Melhor  ainda!  O  dia  que  precisarmos  mudar  como  é  realizado  um  saque  na  nossa  classe   Conta ,\n",
    "adivinhe onde precisaríamos modificar? Apenas no método  saca() , o que faz pleno sentido."
   ]
  },
  {
   "cell_type": "markdown",
   "metadata": {
    "colab_type": "text",
    "id": "YEhH95O6iQ-J"
   },
   "source": [
    "### 8.1 ENCAPSULAMENTO\n",
    "O que começamos a ver nesse capítulo é a ideia de encapsular, isto é, 'esconder' todos os membros de\n",
    "uma  classe  (como  vimos  acima),  além  de  esconder  como  funcionam  as  rotinas  (no  caso  métodos)  do\n",
    "nosso sistema.\n",
    "Encapsular é fundamental para que seu sistema seja suscetível a mudanças: não precisamos mudar\n",
    "uma  regra  de  negócio  em  vários  lugares,  mas  sim  em  apenas  um  único  lugar,  já  que  essa  regra  está\n",
    "encapsulada. O conjunto de métodos públicos de uma classe é também chamado de interface da classe,\n",
    "pois esta é a única maneira a qual você se comunica com objetos dessa classe.\n",
    "O  underscore  _  alerta  que  ninguém  deve  modificar,  nem  mesmo  ler,  o  atributo  em  questão.  Com\n",
    "isso, temos um problema: como fazer para mostrar o saldo de uma   Conta , já que não devemos acessálo para leitura diretamente?\n",
    "Precisamos então arranjar uma maneira de fazer esse acesso. Sempre que precisamos arrumar uma\n",
    "maneira  de  fazer  alguma  coisa  com  um  objeto,  utilizamos  métodos!  Vamos  então  criar  um  método,\n",
    "digamos  pega_saldo() , para realizar essa simples tarefa:\n",
    "\n",
    "    class Conta:\n",
    "        # outros métodos\n",
    "        def pega_saldo(self):\n",
    "            return self._saldo\n",
    "            \n",
    "Para acessarmos o saldo de uma conta, podemos fazer:\n",
    "\n",
    "    >>> minha_conta = Conta('123-4', 'joão', 1000.0)\n",
    "    >>> minha_conta.deposita(100)\n",
    "    >>> minha_conta.pega_saldo()\n",
    "    1100\n",
    "    \n",
    "Para  permitir  o  acesso  aos  atributos  (já  que  eles  são  'protegidos')  de  uma  maneira  controlada,  a\n",
    "prática  mais  comum  é  criar  dois  métodos,  um  que  retorna  o  valor  e  outro  que  muda  o  valor.  A\n",
    "convenção para esses métodos em muitas linguagens orientadas a objetos é colocar a palavra get ou set\n",
    "antes  do  nome  do  atributo.  Por  exemplo,  uma  conta  com  saldo  e  titular  fica  assim,  no  caso  de\n",
    "desejarmos dar acesso a leitura e escrita a todos os atributos:"
   ]
  },
  {
   "cell_type": "code",
   "execution_count": 0,
   "metadata": {
    "colab": {},
    "colab_type": "code",
    "id": "B9bVHyLnidCU"
   },
   "outputs": [],
   "source": [
    "class Conta:\n",
    "    def __init__(self, titular, saldo):\n",
    "        self._titular = titular\n",
    "        self._saldo = saldo\n",
    "    def get_saldo(self):\n",
    "        return self._saldo\n",
    "    def set_saldo(self, saldo):\n",
    "        self._saldo = saldo        \n",
    "    def get_titular(self):\n",
    "        return self._titular\n",
    "    def set_titular(self, titular):\n",
    "        self._titular = titular"
   ]
  },
  {
   "cell_type": "markdown",
   "metadata": {
    "colab_type": "text",
    "id": "fXZcjqILiilG"
   },
   "source": [
    "Getters e setters são usados ​​em muitas linguagens de programação orientada a objetos para garantir o\n",
    "princípio  do  encapsulamento  de  dados.  O  encapsulamento  de  dados  é  visto  como  o  agrupamento  de\n",
    "dados com os métodos que operam nesses dados. Esses métodos são, obviamente, o getter para recuperar\n",
    "os dados e o setter para alterar os dados. De acordo com esse princípio, os atributos de uma classe são\n",
    "tornados privados para ocultá-los e protegê-los de outro código.\n",
    "Infelizmente,  é  crença  generalizada  que  uma  classe  Python  adequada  deve  encapsular  atributos\n",
    "privados usando getters e setters. Assim que um desses programadores introduzir um novo atributo, ele\n",
    "fará  com  que  seja  uma  variável  privada  e  criará  \"automaticamente\"  um  getter  e  um  setter  para  esses\n",
    "atributos.\n",
    "Os  programadores  de  Java  irão  torcer  o  nariz  quando  lerem  o  seguinte:  A  maneira  pythônica  de\n",
    "introduzir atributos é torná-los públicos. Vamos explicar isso mais tarde. Primeiro, demonstramos no\n",
    "exemplo a seguir, como podemos projetar uma classe, da mesma maneira usada no Java, com getters e\n",
    "setters para encapsular um atributo protegido:"
   ]
  },
  {
   "cell_type": "code",
   "execution_count": 0,
   "metadata": {
    "colab": {},
    "colab_type": "code",
    "id": "qLn-2HiOilbX"
   },
   "outputs": [],
   "source": [
    "class Conta:\n",
    "    def __init __(self, saldo):\n",
    "        self._saldo = saldo\n",
    "    def get_saldo(self):\n",
    "        retorno self._saldo\n",
    "    def set_saldo(self, saldo):\n",
    "        self._saldo = saldo"
   ]
  },
  {
   "cell_type": "markdown",
   "metadata": {
    "colab_type": "text",
    "id": "d2kyPG6giobv"
   },
   "source": [
    "E podemos ver como trabalhar com essa classe e os métodos:\n",
    "\n",
    "    >>> conta1 = Conta(200.0)\n",
    "    >>> conta2 = Conta(300.0)\n",
    "    >>> conta3 = Conta(-100.0)\n",
    "    >>> conta1.get_saldo()\n",
    "    200.0\n",
    "    >>> conta2.get_saldo()\n",
    "    300.0\n",
    "    >>> conta3.set_saldo(conta1.get_saldo() + conta2.get_saldo())\n",
    "    >>> conta3.get_saldo()\n",
    "    500.0\n",
    "    \n",
    "O  que  você  acha  da  expressão  \"conta3.set_saldo(conta1.get_saldo()  +  conta2.get_saldo())\"?  É  feio, não é? É muito mais fácil escrever uma expressão como a seguinte:\n",
    "conta3.saldo = conta1.saldo + conta2.saldo\n",
    "Tal  atribuição  é  mais  fácil  de  escrever  e,  acima  de  tudo,  mais  fácil  de  ler  do  que  a  expressão  com\n",
    "getters e setters. Vamos reescrever a classe  Conta  de um modo Pythônico, sem getter e sem setter:"
   ]
  },
  {
   "cell_type": "code",
   "execution_count": 0,
   "metadata": {
    "colab": {},
    "colab_type": "code",
    "id": "KxGHWm1mjB7N"
   },
   "outputs": [],
   "source": [
    "class Conta:\n",
    "    def __init __(self, saldo):\n",
    "        self.saldo = saldo"
   ]
  },
  {
   "cell_type": "markdown",
   "metadata": {
    "colab_type": "text",
    "id": "cybLy5eVjCsP"
   },
   "source": [
    "Mas neste caso não há encapsulamento e não seria um problema. Mas o que acontece se quisermos\n",
    "mudar  a  implementação  no  futuro?  O  leitor  atento  deve  ter  reparado  que  no  exemplo  anterior\n",
    "declaramos uma variável do tipo   Conta  com saldo negativo e isso não deveria acontecer. Temos que\n",
    "evitar essa situação e o setter, neste caso, se justifica para acrescentar esta validação:\n",
    "class Conta:"
   ]
  },
  {
   "cell_type": "code",
   "execution_count": 0,
   "metadata": {
    "colab": {},
    "colab_type": "code",
    "id": "ozbBvXhpjEN0"
   },
   "outputs": [],
   "source": [
    "class Conta:\n",
    "    def __init __(self, saldo):\n",
    "        self.saldo = saldo\n",
    "    def set_saldo(self, saldo):\n",
    "        if(saldo < 0):\n",
    "            print(\"saldo não pode ser negativo\")\n",
    "        else:\n",
    "            self.saldo = saldo"
   ]
  },
  {
   "cell_type": "markdown",
   "metadata": {
    "colab_type": "text",
    "id": "ZCaoXW1njFyA"
   },
   "source": [
    "Podemos abrir o interpretador e testar:\n",
    "\n",
    "    >>> conta1 = Conta(200.0)\n",
    "    >>> conta1.saldo\n",
    "    200.0\n",
    "    >>> conta2 = Conta(300.0)\n",
    "    >>> conta2.saldo\n",
    "    300.0\n",
    "    >>> conta3 = Conta(100.0)\n",
    "    >>> conta3.set_saldo(-100.0)\n",
    "    \"saldo não pode ser negativo\"\n",
    "    >>> conta3.saldo\n",
    "    100.0"
   ]
  },
  {
   "cell_type": "markdown",
   "metadata": {
    "colab_type": "text",
    "id": "Z79bfYFPjJZ-"
   },
   "source": [
    "Mas há um problema, caso projetemos nossa classe com atributo público e sem métodos quebramos\n",
    "a interface:\n",
    "\n",
    "    conta1 = Conta(100.0)\n",
    "    conta.saldo = -100.0\n",
    "\n",
    "É por isso que em Java recomenda-se que as pessoas usem somente atributos privados com getters e\n",
    "setters, para que possam alterar a implementação sem precisar alterar a interface. O Python oferece uma\n",
    "solução  bastante  parecida  para  este  problema.  A  solução  é  chamada  de  properties.  Mantemos  nossos\n",
    "atributos protegidos e decoramos nossos métodos com um decorator chamado property.\n",
    "A classe com uma propriedade fica assim:"
   ]
  },
  {
   "cell_type": "code",
   "execution_count": 0,
   "metadata": {
    "colab": {},
    "colab_type": "code",
    "id": "eFFicYxgjR08"
   },
   "outputs": [],
   "source": [
    "class Conta:\n",
    "    def __init__(self, saldo=0.0):\n",
    "        self._saldo = saldo\n",
    "    @property\n",
    "    def saldo(self):\n",
    "        return self._saldo    \n",
    "    @saldo.setter\n",
    "    def saldo(self, saldo):\n",
    "        if(self._saldo < 0):\n",
    "            print(\"saldo não pode ser negativo\")\n",
    "        else:\n",
    "            self._saldo = saldo"
   ]
  },
  {
   "cell_type": "markdown",
   "metadata": {
    "colab_type": "text",
    "id": "gNt6wufKjigp"
   },
   "source": [
    "Um  método  que  é  usado  para  obter  um  valor  (o  getter)  é  decorado  com   @property ,  isto  é,\n",
    "colocamos  essa  linha  diretamente  acima  da  declaração  do  método  que  recebe  o  nome  do  próprio\n",
    "atributo. O método que tem que funcionar como setter é decorado com   @saldo.setter .  Se  a  função\n",
    "tivesse sido chamada de \"func\", teríamos que anotá-la com  @func.setter .\n",
    "PARA SABER MAIS: DECORATOR\n",
    "Um  decorador,  ou  decorator  é  um  padrão  de  projeto  de  software  que  permite  adicionar  um\n",
    "comportamento  a  um  objeto  já  existente  em  tempo  de  execução,  ou  seja,  agrega  dinamicamente\n",
    "responsabilidades  adicionais  a  um  objeto.  Esta  solução  traz  uma  flexibilidade  maior,  em  que\n",
    "podemos adicionar ou remover responsabilidades sem que seja necessário editar o código-fonte.\n",
    "Um decorador é um objeto invocável, uma função que aceita outra função como parâmetro (a\n",
    "função  decorada).  O  decorador  pode  realizar  algum  processamento  com  a  função  decorada  e\n",
    "devolvê-la ou substituí-la por outra função. O property é um decorador que possui métodos extras\n",
    "como  um  getter  e  um  setter  e  ao  ser  aplicado  a  um  objeto,  retorna  uma  cópia  dele  com  essas\n",
    "funcionalidades:\n",
    "\n",
    "    @property\n",
    "    def foo(self):\n",
    "        return self._foo\n",
    "\n",
    "é equivalente a:\n",
    "\n",
    "    def foo(self)\n",
    "        return self._foo\n",
    "    foo = property(foo)\n",
    "\n",
    "Portanto, a função  foo()  é substituída pela propriedade   property(foo) . Então, se você usa\n",
    " @foo.setter() , o que você está fazendo é chamar o método  property().setter \n",
    "Desta  maneira,  podemos  chamar  esses  métodos  sem  os  parênteses,  como  se  fossem  atributos\n",
    "públicos.  É  uma  forma  mais  elegante  de  encapsular  nossos  atributos.  Vamos  testar  criar  uma  conta  e\n",
    "depois atribuir um valor negativo ao saldo:\n",
    "\n",
    "    >>> conta = Conta(1000.0)\n",
    "    >>> conta.saldo = -300.0\n",
    "    \"saldo não pode ser negativo\"\n",
    "\n",
    "Veja que temos um resultado muito melhor do que usar getters and setters diretamente. Chamamos o\n",
    "atributo pela suas propriedades, que podem conter validações, e nossos atributos estão sinalizados como\n",
    "'protegidos' através do '_'.\n",
    "Mas ainda podemos modificar o saldo e isto deveria ser feito através dos métodos públicos   saca() \n",
    "e    deposita()  .  Então,  a  necessidade  de  um    @saldo.setter    é  questionável.  Devemos  apenas\n",
    "manipular  o  saldo  através  dos  métodos    saca()    e    deposita()  ,  não  precisamos  da  property\n",
    " saldo.setter . Isso é uma decisão de negócio específico. O programador deve ficar alerta quanto as\n",
    "propriedades setters de seus atributos, nem sempre elas são necessárias.\n",
    "É  uma  má  prática  criar  uma  classe  e,  logo  em  seguida,  criar  as  propriedades  para  todos  seus\n",
    "atributos.  Você  só  deve  criar  properties  se  tiver  real  necessidade.  Repare  que  nesse  exemplo,  a\n",
    "propriedade  setter  do  saldo  não  deveria  ter  sido  criada  já  que  queremos  que  todos  usem  os  métodos\n",
    " deposita()  e  saca() ."
   ]
  },
  {
   "cell_type": "markdown",
   "metadata": {
    "colab_type": "text",
    "id": "vN3yymMnkJJI"
   },
   "source": [
    "### 8.2 ATRIBUTOS DE CLASSE\n",
    "Nosso  banco  também  quer  controlar  a  quantidade  de  contas  existentes  no  sistema.  Como\n",
    "poderíamos fazer isso? Bom, a cada instância criada deveríamos incrementar esse total:\n",
    "\n",
    "    total_contas = 0\n",
    "    conta = Conta(300.0)\n",
    "    total_contas = total_contas + 1\n",
    "    conta2 = Conta(100.0)\n",
    "    total_contas = total_contas + 1\n",
    "\n",
    "Aqui Volta o problema de repetir um mesmo código para toda aplicação, além de ter que lembrar de\n",
    "incrementar a variável   total_contas  toda vez após instanciar uma   Conta .  Como   total_contas \n",
    "tem vínculo com a classe   Conta , ele deve ser um atributo controlado pela classe que deve incrementálo toda vez que instanciamos um objeto, ou seja, quando chamamos o método  `__init__()` :\n",
    "\n",
    "    class Conta:\n",
    "        def __init__(self, saldo):\n",
    "            self._saldo = saldo\n",
    "            self._total_contas = self._total_contas + 1\n",
    "\n",
    "Mas onde inicializamos a variável   _total_contas ? Não faz sentido recebermos por parâmetro no\n",
    " `__init__()`  já que é a classe que deve controlar esse número e não o objeto. Seria interessante que essa\n",
    "variável  fosse  própria  da  classe,  fosse  única  e  compartilhada  por  todos  os  objetos  dessa  classe.  Dessa\n",
    "maneira,  quando  mudasse  através  de  um  objeto,  o  outro  enxergaria  o  mesmo  valor.  Para  fazer  isso,\n",
    "vamos inicializar a variável na classe, portanto, fora do método  `__init__()` :\n",
    "\n",
    "    class Conta:\n",
    "        total_contas = 0\n",
    "        def __init__(self, saldo):\n",
    "            self._saldo = saldo\n",
    "            self.total_contas += 1\n",
    "\n",
    "Veja que   saldo  é um atributo de instância e   total_contas  um atributo de classe. Vamos fazer\n",
    "um teste para ver se nosso  total_contas  funciona como esperado:\n",
    "\n",
    "    >>> c1 = Conta(100.0)\n",
    "    >>> c1.total_contas\n",
    "    1\n",
    "    >>> c2 = Conta(200.0)\n",
    "    >>> c2.total_contas\n",
    "    1\n",
    "\n",
    "Criamos duas instâncias e mesmo assim o   total_contas  não mudou. Isso acontece por conta do\n",
    " self.total_contas  +=  1 .   self.total_contas   é  diferente  de   total_contas   da  classe.  Como\n",
    " total_contas  é uma variável da classe, devemos chamá-la pela classe:\n",
    "\n",
    "    class Conta:\n",
    "        total_contas = 0\n",
    "        def __init__(self, saldo):\n",
    "            self._saldo = saldo\n",
    "            Conta.total_contas += 1\n",
    "\n",
    "E testamos:\n",
    "\n",
    "    >>> c1 = Conta(100.0)\n",
    "    >>> c1.total_contas\n",
    "    1\n",
    "    >>> c2 = Conta(200.0)\n",
    "    >>> c2.total_contas\n",
    "    2\n",
    "\n",
    "Agora obtemos o resultado esperado. Também é possível acessar este atributo direto da classe:\n",
    "\n",
    "    >>> Conta.total_contas\n",
    "    2\n",
    "\n",
    "Mas  não  queremos  que  ninguém  venha  a  acessar  nosso  atributo   total_contas   e  modificá-lo.\n",
    "Portanto vamos torná-lo 'protegido' acrescentando um '_':\n",
    "\n",
    "    class Conta:\n",
    "        _total_contas = 0\n",
    "\n",
    "Dessa maneira avisamos os usuários de nossa classe que esse atributo deve ser considerado 'privado'\n",
    "e não modificado. Mas como acessá-lo então? Veja que agora, ao acessar pela classe obtemos um erro:\n",
    "\n",
    "    >>> Conta.total_contas\n",
    "    Traceback (most recent call last):\n",
    "    File <stdin>, line 23, in <module>\n",
    "        Conta.total_contas\n",
    "    AttributeError: 'Conta' object has no attribute 'total_contas'\n",
    "\n",
    "Precisamos criar um método para acessar o atributo. Vamos criar o  get_total_contas :\n",
    "\n",
    "    class Conta:\n",
    "        _total_contas = 0\n",
    "        # __init__ e outros métodos\n",
    "        def get_total_contas(self):\n",
    "            return Conta._total_contas\n",
    "\n",
    "Funciona  quando  chamamos  este  método  por  um  instância,  mas  quando  fazemos\n",
    " Conta.get_total_contas()  o interpretador reclama pois não passamos a instância:\n",
    "\n",
    "    >>> c1 = Conta(100.0)\n",
    "    >>> c1.get_total_contas()\n",
    "    1\n",
    "    >>> c2 = Conta(200.0)\n",
    "    >>> c2.get_total_contas()\n",
    "    2\n",
    "    >>> Conta.get_total_contas()\n",
    "    Traceback (most recent call last):\n",
    "    File <stdin>, line 17, in <module>\n",
    "        Conta.get_total_contas()\n",
    "    TypeError: get_total_contas() missing 1 required positional argument: 'self'\n",
    "\n",
    "Veja  que  o  erro  avisa  que  falta  passar  o  argumento   self .  Não  podemos  chamá-lo  pois  não  está\n",
    "vinculado  a  qualquer  instância  de   Conta .  E  um  método  quer  uma  instância  como  seu  primeiro\n",
    "argumento:\n",
    "\n",
    "    >>> c1 = Conta(100.0)\n",
    "    >>> c2 = Conta(200.0)\n",
    "    >>> Conta.get_total_contas(c1)\n",
    "    2\n",
    "\n",
    "Passamos a instância  c1  de  Conta  e funcionou. Mas essa não é a melhor maneira de se chamar um\n",
    "método. A chamada não é clara e leva um tempo para ler e entender o que a terceira linha desse código\n",
    "realmente faz. Vamos então deixar de passar o 'self' como argumento de  get_total_contas :\n",
    "\n",
    "    def get_total_contas():\n",
    "        return Conta._total_contas\n",
    "\n",
    "Mas  dessa  maneira  não  conseguimos  acessar  o  método  já  que  todo  método  exige  o  argumento\n",
    " self :\n",
    "\n",
    "    >>> c1 = Conta(100.0)\n",
    "    >>> c1.get_total_contas()\n",
    "    Traceback (most recent call last):\n",
    "    File <stdin> in <module>\n",
    "        c1.get_total_contas()\n",
    "    TypeError: get_total_contas() takes 0 positional arguments but 1 was given\n",
    "\n",
    "E  agora,  o  que  fazer?  Queremos  um  método  que  seja  chamado  via  classe  e  via  instância  sem  a\n",
    "necessidade de passar a referência deste objeto. O Python resolve isso usando métodos estáticos.\n",
    "Métodos  estáticos  não  precisam  de  uma  referência,  não  recebem  um  primeiro  argumento  especial\n",
    "(self). É como uma função simples que, por acaso, reside no corpo de uma classe em vez de ser definida\n",
    "no nível do módulo.\n",
    "Para que um método seja considerado estático basta adicionarmos um decorador, como fizemos com\n",
    "as propriedades no capítulo anterior. O decorador se chama @staticmethod:\n",
    "\n",
    "    @staticmethod\n",
    "    def get_total_contas():\n",
    "        return Conta._total_contas\n",
    "\n",
    "Testando, vemos que funciona tanto chamado por um instância quanto pela classe:\n",
    "\n",
    "    >>> c1 = Conta(100.0)\n",
    "    >>> c1.get_total_contas()\n",
    "    1\n",
    "    >>> c2 = Conta(200.0)\n",
    "    >>> c2.get_total_contas()\n",
    "    2\n",
    "    >>> Conta.get_total_contas()\n",
    "    2"
   ]
  },
  {
   "cell_type": "markdown",
   "metadata": {
    "colab_type": "text",
    "id": "-zT5izhklP47"
   },
   "source": [
    "### 8.3 MÉTODOS DE CLASSE\n",
    "Métodos estáticos não devem ser confundidos com métodos de classe. Como os métodos estáticos,\n",
    "métodos de classe não são ligados às instâncias, mas sim a classe. O primeiro parâmetro de um método\n",
    "de classe é uma referência para a classe, isto é, um objeto do tipo class que por convenção nomeamos\n",
    "como  'cls'.  Eles  podem  ser  chamados  via  instância  ou  pela  classe  e  utilizam  um  outro  decorar,  o\n",
    "\n",
    "    @classmethod:\n",
    "    class Conta:\n",
    "        _total_contas = 0\n",
    "        def __init__(self):\n",
    "            type(self)._total_contas += 1\n",
    "        @classmethod\n",
    "        def get_total_contas(cls):\n",
    "            return cls._total_contas\n",
    "\n",
    "E podemos testar:\n",
    "\n",
    "    >>> c1 = Conta(100.0)\n",
    "    >>> c1.get_total_contas()\n",
    "    1\n",
    "    >>> c2 = Conta(200.0)\n",
    "    >>> c2.get_total_contas()\n",
    "    2\n",
    "    >>> Conta.get_total_contas()\n",
    "    2\n",
    "\n",
    "No início pode parecer confuso qual usar:   @staticmethod  ou   @classmethod ? Isso não é trivial.\n",
    "Métodos  de  classe  servem  para  definir  um  método  que  opera  na  classe,  e  não  em  instâncias.  Já  os\n",
    "métodos estáticos utilizamos quando não precisamos receber a referência de um objeto especial (seja da\n",
    "classe ou de uma instância) e funciona como uma função comum, sem relação.\n",
    "Isso  ficará  mais  claro  quando  avançarmos  no  aprendizado.  No  próximo  capítulo  discutiremos\n",
    "Herança,  um  conceito  fundamental  em  Orientação  a  Objetos.  Veremos  que  classes  podem  ter  filhas  e\n",
    "aproveitar o código das classes mães. Um método de classe pode mudar a implementação, ou seja, pode\n",
    "ser  reescrito  pela  classe  filha.  Já  os  métodos  estáticos  não  podem  ser  reescritos  pelas  filhas,  já  que  são\n",
    "imutáveis e não dependem de um referência especial.\n",
    "@CLASSMETHOD X @STATICMETHOD\n",
    "Alguns  programadores  não  veem  muito  sentido  em  usar  métodos  estáticos,  já  que  se  você\n",
    "escrever uma função que não vai interagir com a classe, basta defini-la no módulo. Outros já contra\n",
    "argumentam  em  outra  via,  considerando  herança  de  classes  que  veremos  em  outro  capítulo.\n",
    "Indicamos  a  leitura  do  artigo  'The  Definitive  Guide  on  How  to  Use  Static,  Class  and  Abstract\n",
    "Methods  in  Python'  de  Julien  Danjou  que  pode  ser \n",
    "acessado \n",
    "pelo \n",
    "link: https://julien.danjou.info/guide-python-static-class-abstract-methods/"
   ]
  },
  {
   "cell_type": "markdown",
   "metadata": {
    "colab_type": "text",
    "id": "2oAom-dSljYS"
   },
   "source": [
    "### 8.4 PARA SABER MAIS - SLOTS\n",
    "Aprendemos  sobre  encapsulamento  e  vimos  que  é  uma  boa  prática  proteger  nossos  atributos\n",
    "incluindo  o  prefixo  underscore  em  seus  nomes,  seguindo  a  convenção  utilizada  pelos  programadores.\n",
    "Além  disso,  utilizamos  properties  para  acessar  e  modificar  nossos  atributos.  Mas  como  Python  é  uma\n",
    "linguagem dinâmica, nada impede que usuários de nossa classe   Conta   criem  atributos  em  tempo  de\n",
    "execução, fazendo, por exemplo:\n",
    "\n",
    "    >>> conta.nome = \"minha conta\"\n",
    "\n",
    "Esse  código  não  acusa  erro  e  nossa  conta  fica  aberta  a  modificações  ferindo  a  segurança  da  classe.\n",
    "Para  evitar  isso  podemos  utilizar  uma  variável  embutida  no  Python  chamada   `__slots__`   que  pode\n",
    "guardar uma lista de atributos da classe definidos por nós:\n",
    "\n",
    "    class Conta:\n",
    "        __slots__ = ['_numero', '_titular', '_saldo', '_limite']\n",
    "        def __init__(self, numero, titular, saldo, limite=1000.0):\n",
    "            # inicialização dos atributos\n",
    "        # código omitido\n",
    "\n",
    "Agora, quando tentamos adicionar um atributo na classe recebemos um erro:\n",
    "\n",
    "    >>> conta.nome = \"minha_conta\"\n",
    "    Traceback (most recent call last):\n",
    "        File <stdin>, line 1, in <module>\n",
    "    AttributeError: 'Conta' object has no attribute '__dict__'\n",
    "    class Conta:\n",
    "        __slots__ = ['_numero', '_titular', '_saldo', '_limite']\n",
    "        def __init__(self, numero, titular, saldo, limite=1000.0):\n",
    "            self.numero = numero\n",
    "            self.titular = titular\n",
    "            self.saldo = saldo\n",
    "            self.limite = limite\n",
    "        # restante do código\n",
    "    conta.nome = \"minha_conta\"\n",
    "\n",
    "Repare que o erro acusa que a classe  Conta  não possui o atributo  `__dict__` . Ao atribuir um valor\n",
    "para  `__slots__` , o interpretador do Python vai entender que queremos excluir o   `__dict__`  da classe\n",
    " Conta  não sendo possível criar atributos, ou seja, impossibilitando adicionar atributos ao dicionário da\n",
    "classe que é responsável por armazenar atributos de instância. Portanto, tentar chamar   vars(conta) \n",
    "também vai gerar um erro:\n",
    "\n",
    "    >>> vars(conta)\n",
    "    Traceback (most recent call last):\n",
    "    File <stdin>, line 1, in <module>\n",
    "    TypeError: vars() argument must have __dict__ attribute\n",
    "\n",
    "Embora   `__slots__`   seja  muito  utilizado  para  não  permitir  que  usuários  de  nossas  classes  criem\n",
    "outros atributos, essa não é sua principal função nem o motivo de sua existência. O que acontece é que o\n",
    " `__dict__`    desperdiça  muita  memória.  Imagine  um  sistema  grande,  com  milhões  de  instâncias  de\n",
    " Conta  - teríamos, consequentemente, milhões de dicionários de classe armazenando seus atributos de\n",
    "instância. O Python não pode simplesmente alocar uma quantidade estática de memória na criação de\n",
    "objetos para armazenar todos os atributos. Por isso, consome muita memória RAM se você criar muitos\n",
    "objetos.\n",
    "Para  contornar  este  problema  é  que  se  usa  o   `__slots__`   e  este  é  seu  principal  propósito.  O\n",
    " `__slots__`  avisa o Python para não usar um dicionário e apenas alocar espaço para um conjunto fixo\n",
    "de atributos.\n",
    "Programadores viram uma redução de quase 40 a 50% no uso de RAM usando essa técnica."
   ]
  },
  {
   "cell_type": "markdown",
   "metadata": {
    "colab_type": "text",
    "id": "WjhzraVwmTWf"
   },
   "source": [
    "### 8.5 EXERCÍCIOS:\n",
    "1.  Adicione o modificador de visibilidade privado (dois underscores:  __ ) para cada atributo e método\n",
    "da sua classe  Conta . Tente criar uma  Conta  e modificar ou ler um de seus atributos \"privados\". O\n",
    "que acontece?\n",
    "2.  Sabendo  que  no  Python  não  existem  atributos  privados,  como  podemos  modificar  e  ler  esses\n",
    "atributos? É uma boa prática fazer isso?\n",
    "3.  Modifique o acesso para 'protegido' seguindo a convenção do Python e modifique o prefixo  __  por\n",
    "apenas  um  underscore   _ .  Crie  métodos  de  acesso  em  sua  classe   Conta   através  do  decorator\n",
    " @property .\n",
    "4.  Crie novamente uma conta e acesse e modifique seus atributos. O que mudou?\n",
    "5.  Modifique  sua  classe   Conta   de  modo  que  não  seja  permitido  criar  outros  atributos  além  dos\n",
    "definidos anteriormente utilizando  `__slots__` .\n",
    "6.  (Opcional) Adicione um atributo  identificador  na classe  Conta . Esse identificador deve ter um\n",
    "valor único para cada instância do tipo  Conta . A primeira Conta instanciada tem identificador 1, a\n",
    "segunda  2,  e  assim  por  diante.  Você  deve  utilizar  os  recursos  aprendidos  aqui  para  resolver  esse\n",
    "problema."
   ]
  },
  {
   "cell_type": "markdown",
   "metadata": {
    "colab_type": "text",
    "id": "8W68G4V7F13w"
   },
   "source": []
  },
  {
   "cell_type": "markdown",
   "metadata": {
    "colab_type": "text",
    "id": "2XyYPb_9mcUy"
   },
   "source": [
    "# CAPÍTULO 9\n",
    "## HERANÇA E POLIMORFISMO\n",
    "### 10.1 REPETINDO CÓDIGO?\n",
    "Como  toda  empresa,  nosso  banco  possui funcionários.  Um  funcionário  tem  um  nome,  um  cpf  e  um salário. Vamos modelar a classe `Funcionario`:"
   ]
  },
  {
   "cell_type": "code",
   "execution_count": 0,
   "metadata": {
    "colab": {},
    "colab_type": "code",
    "id": "YwcUu7bYHdrV"
   },
   "outputs": [],
   "source": [
    "class Funcionario:\n",
    "    def __init__(self, nome, cpf, salario):\n",
    "        self._nome = nome\n",
    "        self._cpf = cpf\n",
    "        self._salario = salario\n",
    "    # outros métodos e propriedades"
   ]
  },
  {
   "cell_type": "markdown",
   "metadata": {
    "colab_type": "text",
    "id": "d6DxqVJpHrli"
   },
   "source": [
    "Além de um funcionário comum, há também outros cargos, como os gerentes. Os gerentes guardam a mesma  informação  que  um  funcionário  comum,  mas possuem  outras  informações,  além  de  ter funcionalidades um pouco diferentes. Um gerente no nosso banco possui também uma senha numérica que permite o acesso ao sistema interno do banco, além do número de funcionários que ele gerencia:"
   ]
  },
  {
   "cell_type": "code",
   "execution_count": 0,
   "metadata": {
    "colab": {},
    "colab_type": "code",
    "id": "ADUtaUGtHrMV"
   },
   "outputs": [],
   "source": [
    "class Gerente:\n",
    "    def __init__(self, nome, cpf, salario, senha, qtd_gerenciados):\n",
    "        self._nome = nome\n",
    "        self._cpf = cpf\n",
    "        self._salario = salario\n",
    "        self._senha = senha\n",
    "        self._qtd_gerenciados = qtd_gerenciados\n",
    "    def autentica(self, senha):\n",
    "        if self._senha == senha\n",
    "            print(\"acesso permitido\")\n",
    "            return True\n",
    "        else:\n",
    "           print(\"acesso negado\")\n",
    "           return False\n",
    "    # outros métodos (comuns a um Funcionario)"
   ]
  },
  {
   "cell_type": "markdown",
   "metadata": {
    "colab_type": "text",
    "id": "tWEmJfjTICd1"
   },
   "source": [
    "Se  tivéssemos  um  outro  tipo  de  funcionário  que  tem  características  diferentes  do  funcionário\n",
    "comum, precisaríamos criar uma outra classe e copiar o código novamente.\n",
    "\n",
    "Além  disso,  se  um  dia  precisarmos  adicionar  uma  nova  informação  para  todos  os  funcionários,\n",
    "precisaremos passar por todas as classes de funcionário e adicionar esse atributo. O problema acontece novamente por não centralizarmos as informações principais do funcionário em um único lugar!\n",
    "\n",
    "Existe um jeito de relacionarmos uma classe de tal maneira que uma delas herda tudo que o outra tem.Isto  é  uma  relação  de  herança,  uma relação  entre  classe  'mãe'  e  classe  'filha'.\n",
    "\n",
    "No  nosso  caso, gostaríamos de fazer com que   `Gerente`  tivesse tudo que um   `Funcionario`  tem, gostaríamos que ela fosse uma extensão de  `Funcionario`. Fazemos isso acrescentando a classe mãe entre parenteses junto a\n",
    "classe filha:"
   ]
  },
  {
   "cell_type": "code",
   "execution_count": 0,
   "metadata": {
    "colab": {},
    "colab_type": "code",
    "id": "b0mjqJIZI6-M"
   },
   "outputs": [],
   "source": [
    "class Gerente(Funcionario):\n",
    "    def __init__(self, senha, qtd_funcionarios):\n",
    "        self._senha = senha\n",
    "        self._qtd_funcionarios = qtd_funcionarios\n",
    "    def autentica(self, senha):\n",
    "        if self._senha == senha:\n",
    "            print(\"acesso permitido\")\n",
    "            return True\n",
    "        else:\n",
    "            print(\"acesso negado\")              \n",
    "            return False"
   ]
  },
  {
   "cell_type": "markdown",
   "metadata": {
    "colab_type": "text",
    "id": "XJlpu4XbI-U6"
   },
   "source": [
    "Todo momento que criarmos um objeto do tipo `Gerente`  queremos que este objeto também herde\n",
    "os atributos definidos na classe  `Funcionario` , pois um `Gerente` é um `Funcionário`.\n",
    "\n",
    "Como  a  classe   `Gerente`   já  possui  um  método   `__init__()`   com  outros  atributos,  o  método  da classe   `Funcionario`   é  sobrescrito  pelo   `Gerente`.  Se  queremos  incluir  os  mesmos  atributos  de instância  de    `Funcionario`    em  um    `Gerente`    devemos  chamar  o  método    `__init__()` de `Funcionario`  dentro do método  `__init__()`  de `Gerente`:"
   ]
  },
  {
   "cell_type": "code",
   "execution_count": 0,
   "metadata": {
    "colab": {},
    "colab_type": "code",
    "id": "k61S5Fh7JewL"
   },
   "outputs": [],
   "source": [
    "class Gerente(Funcionario):\n",
    "    def __init__(self, senha, qtd_funcionarios):\n",
    "        Funcionario.__init__(nome, cpf, salario)\n",
    "        self._senha = senha\n",
    "        self._qtd_funcionarios = qtd_funcionarios\n",
    "    def autentica(self, senha):\n",
    "        if self._senha == senha:\n",
    "            print(\"acesso permitido\")\n",
    "            return True\n",
    "        else:\n",
    "            print(\"acesso negado\")              \n",
    "            return False"
   ]
  },
  {
   "cell_type": "markdown",
   "metadata": {
    "colab_type": "text",
    "id": "fq2ObaI_Juc5"
   },
   "source": [
    "Dizemos que a classe   `Gerente`  herda todos os atributos e métodos da classe mãe, no nosso caso, a `Funcionario`. Como Python tem tipagem dinâmica,  precisamos garantir isso através do construtor da\n",
    "classe. Além de  `senha`  e  `qtd_funcionarios`  passamos também os atributos  `nome` ,  `cpf`  e   `salario` que todo funcionário tem:"
   ]
  },
  {
   "cell_type": "code",
   "execution_count": 0,
   "metadata": {
    "colab": {},
    "colab_type": "code",
    "id": "o6WunVX6KGVM"
   },
   "outputs": [],
   "source": [
    "class Gerente(Funcionario):\n",
    "    def __init__(self, nome, cpf, salario, senha, qtd_funcionarios):\n",
    "        self._senha = senha\n",
    "        self._qtd_funcionarios = qtd_funcionarios"
   ]
  },
  {
   "cell_type": "markdown",
   "metadata": {
    "colab_type": "text",
    "id": "rBk1DtbCKJsv"
   },
   "source": [
    "Como  estes  são  atributos  de  um   `Funcionario`   e  não  queremos  repetir  o  código  do  método\n",
    " `__init__()`  de  `Funcionario`  dentro da classe  `Gerente` , podemos chamar este método da classe mãe\n",
    "como fizemos no exemplo acima ou podemos utilizar um método do Python chamado `super()`:"
   ]
  },
  {
   "cell_type": "code",
   "execution_count": 0,
   "metadata": {
    "colab": {},
    "colab_type": "code",
    "id": "Vne4M3o-KibO"
   },
   "outputs": [],
   "source": [
    "class Gerente(Funcionario):\n",
    "    def __init__(self, nome, cpf, salario, senha, qtd_funcionarios):\n",
    "        super().__init__(nome, cpf, salario)\n",
    "        self._senha = senha\n",
    "        self._qtd_funcionarios = qtd_funcionarios"
   ]
  },
  {
   "cell_type": "markdown",
   "metadata": {
    "colab_type": "text",
    "id": "lsJQw2OjKniE"
   },
   "source": [
    "Para  ser  mais  preciso,  ela  também  herda  os  atributos  e  métodos  'privados'  de   `Funcionario`.\n",
    "\n",
    "O `super()` é  usado  para  fazer  referência  a  superclasse,  a  classe  mãe  -  no  nosso  exemplo  a  classe `Funcionario`."
   ]
  },
  {
   "cell_type": "markdown",
   "metadata": {
    "colab_type": "text",
    "id": "U_oT0D5lK6g0"
   },
   "source": [
    "### PARA SABER MAIS: SUPER E SUB CLASSE\n",
    "A nomenclatura mais encontrada é que `Funcionario` é a superclasse de `Gerente`, e `Gerente` é a subclasse  de  `Funcionario`.  Dizemos  também  que  todo  `Gerente`  é um  `Funcionario`.  Outra  forma  é\n",
    "dizer que `Funcionario` é a classe mãe de `Gerente` e `Gerente` é a classe filha de Funcionario.\n",
    "\n",
    "Da  mesma  maneira,  podemos  ter  uma  classe    `Diretor`    que  estenda    `Gerente`    e  a  classe\n",
    " `Presidente`   pode  estender  diretamente  de  `Funcionario` .  Fique  claro  que  essa  é  uma relação  de negócio.  Se   `Diretor`   vai  estender  de   `Gerente`   ou  não,  vai  depender,  para  você,   `Diretor`   é  um `Gerente`?"
   ]
  },
  {
   "cell_type": "markdown",
   "metadata": {
    "colab_type": "text",
    "id": "PplhZST5N23M"
   },
   "source": [
    "### 9.2 REESCRITA DE MÉTODOS\n",
    "Todo  fim  de  ano,  os  funcionários  do  nosso  banco  recebem  uma  bonificação.  Os  funcionários comuns recebem 10% do valor do salário e os gerentes, 15%.\n",
    "\n",
    "Vamos ver como fica a classe  `Funcionario`:"
   ]
  },
  {
   "cell_type": "code",
   "execution_count": 0,
   "metadata": {
    "colab": {},
    "colab_type": "code",
    "id": "tfL4qnZnK0cT"
   },
   "outputs": [],
   "source": [
    "class Funcionario:\n",
    "    def __init__(self, nome, cpf, salario):\n",
    "        self._nome = nome\n",
    "        self._cpf = cpf\n",
    "        self._salario = salario\n",
    "    # outros métodos e propriedades\n",
    "    def get_bonificacao(self):\n",
    "        return self._salario * 0.10"
   ]
  },
  {
   "cell_type": "markdown",
   "metadata": {
    "colab_type": "text",
    "id": "0e_w_QfuOKuR"
   },
   "source": [
    "Se deixarmos a classe  Gerente  como ela está, ela vai herdar o método  `get_bonificacao()`: "
   ]
  },
  {
   "cell_type": "code",
   "execution_count": 0,
   "metadata": {
    "colab": {},
    "colab_type": "code",
    "id": "CHexWnklOQRm"
   },
   "outputs": [],
   "source": [
    "gerente = Gerente('José', '222222222-22', 5000.0, '1234', 0)\n",
    "print(gerente.get_bonificacao())"
   ]
  },
  {
   "cell_type": "markdown",
   "metadata": {
    "colab_type": "text",
    "id": "NB2AXKyTOUtE"
   },
   "source": [
    "O resultado aqui será `500`. Não queremos essa resposta, pois o gerente deveria ter `750` de bônus nesse caso. Para consertar isso, uma das opções seria criar um novo método na classe  `Gerente` , chamado, por exemplo,  `get_bonificacao_do_gerente()`. O problema é que teríamos dois métodos em `Gerente`,confundindo  bastante  quem  for  usar  essa  classe,  além  de  que  cada  um  gerenciaria  uma  resposta diferente.\n",
    "\n",
    "No  Python,  quando  herdamos  um  método,  podemos  alterar  seu  comportamento.  Podemos reescrever (sobrescrever, override) este método, assim como fizemos com o  `__init__` :"
   ]
  },
  {
   "cell_type": "code",
   "execution_count": 0,
   "metadata": {
    "colab": {},
    "colab_type": "code",
    "id": "m3TfX_vYOpnq"
   },
   "outputs": [],
   "source": [
    "class Gerente(Funcionario):\n",
    "    def __init__(self, nome, cpf, salario, senha, qtd_gerenciaveis):\n",
    "        super().__init__(nome, cpf, salario)\n",
    "        self._senha = senha\n",
    "        self._qtd_gerenciaveis = qtd_gerenciaveis\n",
    "    def get_bonificacao(self):\n",
    "        return self._salario * 0.15\n",
    "    # metodos e properties"
   ]
  },
  {
   "cell_type": "markdown",
   "metadata": {
    "colab_type": "text",
    "id": "ll5YU1YMOvDr"
   },
   "source": [
    "Agora o método está correto para o  `Gerente` . Refaça o teste e veja que o valor impresso é o correto (`750`):"
   ]
  },
  {
   "cell_type": "code",
   "execution_count": 0,
   "metadata": {
    "colab": {},
    "colab_type": "code",
    "id": "rby7hnGJOuws"
   },
   "outputs": [],
   "source": [
    "gerente = Gerente('José', '222222222-22', 5000.0, '1234', 0)\n",
    "print(gerente.get_bonificacao())"
   ]
  },
  {
   "cell_type": "markdown",
   "metadata": {
    "colab_type": "text",
    "id": "U_rzTtBWO12Y"
   },
   "source": [
    "Utilize o método   `vars()`  para acessar os atributos de   Gerente  e ver que a classe herda todos os atributos de  `Funcionario`:"
   ]
  },
  {
   "cell_type": "code",
   "execution_count": 0,
   "metadata": {
    "colab": {},
    "colab_type": "code",
    "id": "nOy5ANjXPBAm"
   },
   "outputs": [],
   "source": [
    "funcionario = Funcionario('João', '111111111-11', 2000.0)\n",
    "print(vars(funcionario))"
   ]
  },
  {
   "cell_type": "code",
   "execution_count": 0,
   "metadata": {
    "colab": {},
    "colab_type": "code",
    "id": "tYS90rp-PDry"
   },
   "outputs": [],
   "source": [
    "gerente = Gerente('José', '222222222-22', 5000.0, '1234', 0)\n",
    "print(vars(gerente))"
   ]
  },
  {
   "cell_type": "markdown",
   "metadata": {
    "colab_type": "text",
    "id": "ascok5l4PHvW"
   },
   "source": [
    "### 9.3 INVOCANDO O MÉTODO REESCRITO\n",
    "Depois  de  reescrito,  não  podemos  mais  chamar  o  método  antigo  que  fora  herdado  da  classe  mãe, realmente  alteramos  o  seu  comportamento.  Mas  podemos  invocá-lo  no  caso  de  estarmos  dentro  da classe.\n",
    "\n",
    "Imagine  que  para  calcular  a  bonificação  de  um   `Gerente`   devemos  fazer  igual  ao  cálculo  de  um Funcionario  adicionando `1000.0` reais. \n",
    "\n",
    "Poderíamos fazer assim:"
   ]
  },
  {
   "cell_type": "code",
   "execution_count": 0,
   "metadata": {
    "colab": {},
    "colab_type": "code",
    "id": "OVO70IBkPest"
   },
   "outputs": [],
   "source": [
    "class Gerente(Funcionario):\n",
    "    def __init__(self, senha, qtd_gerenciaveis):\n",
    "        self._senha = senha\n",
    "        self._qtd_gerenciaveis = qtd_gerenciaveis\n",
    "    def get_bonificacao():\n",
    "        return self._salario * 0.10 + 1000.0\n",
    "    # métodos e propriedades"
   ]
  },
  {
   "cell_type": "markdown",
   "metadata": {
    "colab_type": "text",
    "id": "UKb9Z4BYPuc8"
   },
   "source": [
    "Aqui  teríamos  um  problema:  o  dia  que  o    `get_bonificacao()`    do    `Funcionario`    mudar,\n",
    "precisaremos mudar o  método do   `Gerente`   para  acompanhar  a  nova  bonificação.  Para  evitar  isso,  o `get_bonificacao()`  do  Gerente  pode chamar o do  `Funcionario`  utilizando o método `super()`."
   ]
  },
  {
   "cell_type": "code",
   "execution_count": 0,
   "metadata": {
    "colab": {},
    "colab_type": "code",
    "id": "zSgZS1YqQHEM"
   },
   "outputs": [],
   "source": [
    "class Gerente(Funcionario):\n",
    "    def __init__(self, senha, qtd_gerenciaveis):\n",
    "        self._senha = senha\n",
    "        self._qtd_gerenciaveis = qtd_gerenciaveis\n",
    "    def get_bonificacao():\n",
    "        return super().get_bonificacao() + 1000\n",
    "    # métodos e propriedades"
   ]
  },
  {
   "cell_type": "markdown",
   "metadata": {
    "colab_type": "text",
    "id": "T-_VPBAmQNRb"
   },
   "source": [
    "Essa  invocação  vai  procurar  o  método  com  o  nome   `get_bonificacao()`  de  uma  superclasse  de\n",
    " `Gerente`. No caso, ele logo vai encontrar esse método em  `Funcionario`.\n",
    "\n",
    "Essa é uma prática comum, pois em muitos casos o método reescrito geralmente faz algo a mais que\n",
    "o método da classe mãe. Chamar ou não o método de cima é uma decisão e depende do seu problema.\n",
    "\n",
    "Algumas vezes não faz sentido invocar o método que reescrevemos.\n",
    "\n",
    "Para  escrever  uma  classe  utilizando  o  Python  2  é  preciso  acrescentar  a  palavra  `object` quando definimos uma classe:"
   ]
  },
  {
   "cell_type": "code",
   "execution_count": 0,
   "metadata": {
    "colab": {},
    "colab_type": "code",
    "id": "jEGQk7u6QbGj"
   },
   "outputs": [],
   "source": [
    "class MinhaClasse(object):\n",
    "    pass"
   ]
  },
  {
   "cell_type": "markdown",
   "metadata": {
    "colab_type": "text",
    "id": "6ymIdIXcQckL"
   },
   "source": [
    "Isso  acontece  porque  toda  classe  é  filha  de  `object`  -  que  é  chamada  a  mãe  de  todas  as  classes.  No Pyhton, toda classe herda de `object`. No Python 3 não precisamos acrescentar o `object` mas não quer dizer que esta classe e a herança não existam, apenas que essa herança é implícita. Quando criamos uma classe vazia e utilizamos o método  `dir()`  para checar a lista de seus atributos, reparamos que ela não é vazia:"
   ]
  },
  {
   "cell_type": "code",
   "execution_count": 0,
   "metadata": {
    "colab": {},
    "colab_type": "code",
    "id": "3ZM7y4ZtQoID"
   },
   "outputs": [],
   "source": [
    "class MinhaClasse():\n",
    "    pass\n",
    "if __name__ == '__main__':\n",
    "    mc = MinhaClasse()\n",
    "    print(dir(mc))"
   ]
  },
  {
   "cell_type": "markdown",
   "metadata": {
    "colab_type": "text",
    "id": "nVNtC7BUQ2fy"
   },
   "source": [
    "Todos estes atributos são herdados da classe `object` e podemos reescrever qualquer um deles na nossa\n",
    "subclasse. Todos eles são os conhecidos métodos 'mágicos' (começam e iniciam com dois underscores, e\n",
    "por este motivo, também chamados de dunders).\n",
    "\n",
    "Vimos o comportamento do   `__init__()`,  `__new__()`  e do   `__dict__`. Outros métodos mágicos\n",
    "famosos são  `__str__()`  e   `__repr__()`  - métodos que retornam a representação do objeto como uma\n",
    "`string`. Quando chamamos  `print(mc)`  temos a saída\n",
    "\n",
    "    <__main__.MinhaClasse object at 0x7f11c1f59a58>\n",
    "\n",
    "Esse  é  o  modelo  padrão  de  impressão  de  um  objeto,  implementado  na  classe   `object`.  A  função `print()` na  verdade  usa  a   `string`    definida  pelo  método   `__str__()` de  uma  classe.  Vamos reescrever este método:"
   ]
  },
  {
   "cell_type": "code",
   "execution_count": 0,
   "metadata": {
    "colab": {},
    "colab_type": "code",
    "id": "AmVfPkYURU5J"
   },
   "outputs": [],
   "source": [
    "class MinhaClasse:\n",
    "    def __str__(self):\n",
    "        return '< Instância de {}; endereço:{}>'.format(self.__class__.__name__, id(self))"
   ]
  },
  {
   "cell_type": "markdown",
   "metadata": {
    "colab_type": "text",
    "id": "ev2eIDFuRXik"
   },
   "source": [
    "Agora, quando executamos  `print(mc)` , a saída é:"
   ]
  },
  {
   "cell_type": "code",
   "execution_count": 0,
   "metadata": {
    "colab": {},
    "colab_type": "code",
    "id": "r4rK0-xIRaKG"
   },
   "outputs": [],
   "source": [
    "print(mc)"
   ]
  },
  {
   "cell_type": "markdown",
   "metadata": {
    "colab_type": "text",
    "id": "pdVXG4oTRefE"
   },
   "source": [
    "O Python sempre chama o método `__str__()`  quando utiliza a função   `print()`  em um objeto.\n",
    "\n",
    "Novamente, estamos utilizando reescrita de métodos.\n",
    "O método   `__repr__()`  também retorna uma   `string`  e podemos utilizar a função   `repr()`  para\n",
    "checar seu retorno:"
   ]
  },
  {
   "cell_type": "code",
   "execution_count": 0,
   "metadata": {
    "colab": {},
    "colab_type": "code",
    "id": "VpViEdbnRolL"
   },
   "outputs": [],
   "source": [
    "print(repr(mc))"
   ]
  },
  {
   "cell_type": "markdown",
   "metadata": {
    "colab_type": "text",
    "id": "HMTIDifQRsP0"
   },
   "source": [
    "Que vai gerar a mesma saída padrão do  `__str__()`:"
   ]
  },
  {
   "cell_type": "code",
   "execution_count": 0,
   "metadata": {
    "colab": {},
    "colab_type": "code",
    "id": "uxC4b5a9Ry6_"
   },
   "outputs": [],
   "source": [
    "print(mc.__str())"
   ]
  },
  {
   "cell_type": "markdown",
   "metadata": {
    "colab_type": "text",
    "id": "KFONNgujR93b"
   },
   "source": [
    "Mas  diferente  do   `__str__()`,  não  é  comum  sobrescrever  este  método.  Ele  é  sobrescrito  quando precisamos utilizá-lo junto com a função  `eval()`  do Python. A função  `eval()`  recebe uma   `string` e tenta executar essa  `string`  como um comando do Python, veja um exemplo de uso:"
   ]
  },
  {
   "cell_type": "code",
   "execution_count": 0,
   "metadata": {
    "colab": {},
    "colab_type": "code",
    "id": "NTfjZaeaSJUF"
   },
   "outputs": [],
   "source": [
    "x = 1"
   ]
  },
  {
   "cell_type": "code",
   "execution_count": 0,
   "metadata": {
    "colab": {},
    "colab_type": "code",
    "id": "KmdN0E40SLBt"
   },
   "outputs": [],
   "source": [
    "eval(\"x+1\")"
   ]
  },
  {
   "cell_type": "markdown",
   "metadata": {
    "colab_type": "text",
    "id": "W88J0A86SP3J"
   },
   "source": [
    "Vamos a um exemplo utilizando classes:"
   ]
  },
  {
   "cell_type": "code",
   "execution_count": 0,
   "metadata": {
    "colab": {},
    "colab_type": "code",
    "id": "C4KJSOz4Sct3"
   },
   "outputs": [],
   "source": [
    "class Ponto:\n",
    "    def __init__(self, x, y):\n",
    "        self.x = x\n",
    "        self.y = y\n",
    "    def __str__(self):\n",
    "        return \"({}, {})\".format(self.x, self.y)\n",
    "    def __repr__(self):\n",
    "        return \"Ponto({}, {})\".format(self.x + 1, self.y + 1)"
   ]
  },
  {
   "cell_type": "code",
   "execution_count": 0,
   "metadata": {
    "colab": {},
    "colab_type": "code",
    "id": "9iuKeWJbSfdk"
   },
   "outputs": [],
   "source": [
    "if __name__ == '__main__':\n",
    "    p1 = Ponto(1, 2)\n",
    "    p2 = eval(repr(p1))\n",
    "    print(p1)\n",
    "    print(p2)"
   ]
  },
  {
   "cell_type": "markdown",
   "metadata": {
    "colab_type": "text",
    "id": "NOFB9EVqSk4E"
   },
   "source": [
    "Repare que utilizamos a função `repr()`  passando uma instância de   `Ponto`. O Python vai chamar então o método  `__repr__()`  da classe  `Ponto`, que retorna a  `string`  `\"Ponto(2, 3)\"` já que   `p1.x = 1` \n",
    "e  `p1.y = 2`. Ao passá-la de argumento para a função  `eval()`, teremos:  `p2 = eval('Ponto(2, 3))`.\n",
    "\n",
    "Como a função  `eval()`  vai tentar executar essa  string  como um comando Python válido, ele vai ter\n",
    "sucesso e portanto  `p2`  será uma nova instância da classe  `Ponto`  com  `p2.x = 2`  e  `p2.y = 3`.\n",
    "\n",
    "Para concluir, é importante entender que tanto   `__str__()`  quanto   `__repr__()`   retornam  uma\n",
    " string  que representa o objeto mas com propósitos diferentes. O método  `__str__()`  é utilizado para\n",
    "apresentar mensagens para os usuários da classe, de maneira mais amigável. Já o método  `__repr__()`  é\n",
    "usado para representar o objeto de maneira técnica, inclusive podendo utilizá-lo como comando válido do Python como vimos no exemplo da classe  `Ponto`."
   ]
  },
  {
   "cell_type": "markdown",
   "metadata": {
    "colab_type": "text",
    "id": "vjYownPjTGoh"
   },
   "source": [
    "### 9.4 PARA SABER MAIS - MÉTODOS MÁGICOS\n",
    "Os  métodos  mágicos  são  úteis  pois  permitem  que  os  objetos  de  nossas  classes  possuam  uma\n",
    "interface  de  acesso  semelhante  aos  objetos  embutidos  do  Python.  O  método   `__add__()`,  por\n",
    "exemplo,  serve  para  executar  a  adição  de  dois  objetos  e  é  chamada  sempre  quando  fazemos  a\n",
    "operação de adição (`obj + obj`) utilizando o operador `+`. Por exemplo, quando fazemos  `1 + 1`  no\n",
    "Python, o que o interpretador faz é chamar o método  `__add__()`  da classe  `int`. Vimos que uma\n",
    " `list`  também implementa o método  `__add__()`  já que a operação de adição é definida para esta classe:"
   ]
  },
  {
   "cell_type": "code",
   "execution_count": 0,
   "metadata": {
    "colab": {},
    "colab_type": "code",
    "id": "KBnin925Tf0J"
   },
   "outputs": [],
   "source": [
    "lista = [1, 2, 3]"
   ]
  },
  {
   "cell_type": "code",
   "execution_count": 0,
   "metadata": {
    "colab": {},
    "colab_type": "code",
    "id": "NSTnWxAhTjMH"
   },
   "outputs": [],
   "source": [
    "lista + [4, 5]"
   ]
  },
  {
   "cell_type": "code",
   "execution_count": 0,
   "metadata": {
    "colab": {},
    "colab_type": "code",
    "id": "ZUZu-Xs2TkM4"
   },
   "outputs": [],
   "source": [
    "print(lista)"
   ]
  },
  {
   "cell_type": "markdown",
   "metadata": {
    "colab_type": "text",
    "id": "rU7lFxUUTq2X"
   },
   "source": [
    "O  mesmo  ocorre  para  as  operações  de multiplicação,  divisão,  módulo  e  potência  que  são definidas  pelos  métodos  mágicos `__mul__()`, `__div__()`, `__mod__()` e `__pow__()`,\n",
    "respectivamente.\n",
    "\n",
    "Podemos  definir  cada  uma  dessas  operações  em  nossas  classes  sobrescrevendo  tais  métodos\n",
    "mágicos.  Além  desses  o  Python  possui  muitos  outros  que  você  pode  acessar  aqui:\n",
    "\n",
    "https://docs.python.org/3/reference/datamodel.html#Basic_customization"
   ]
  },
  {
   "cell_type": "markdown",
   "metadata": {
    "colab_type": "text",
    "id": "gVsP3_yGTqsA"
   },
   "source": [
    "### 9.5 POLIMORFISMO\n",
    "O que guarda uma variável do tipo  `Funcionario`? Uma referência para um  `Funcionario` , nunca o objeto em si.\n",
    "\n",
    "Na herança, vimos que todo   `Gerente`  é um `Funcionario`,  pois  é  uma  extensão  deste.\n",
    "\n",
    "Podemos nos  referir  a  um    `Gerente`    como  sendo  um    `Funcionario`.  Se  alguém  precisa  falar  com  um `Funcionario`  do banco, pode falar com um   `Gerente`! Porque? Pois   `Gerente`  é um   `Funcionario`.\n",
    "\n",
    "Essa é a semântica da herança.\n",
    "\n",
    "Polimorfismo  é  a  capacidade  de  um  objeto  poder  ser  referenciado  de  várias  formas.  (cuidado, polimorfismo não quer dizer que o objeto fica se transformando, muito pelo contrário, um objeto nasce de um tipo e morre daquele tipo, o que pode mudar é a maneira como nos referimos a ele).\n",
    "\n",
    "A  situação  que  costuma  aparecer  é  a  que  temos  um  método  que  recebe  um  argumento  do  tipo `Funcionario`:"
   ]
  },
  {
   "cell_type": "code",
   "execution_count": 0,
   "metadata": {
    "colab": {},
    "colab_type": "code",
    "id": "EkLhdi0cUeCf"
   },
   "outputs": [],
   "source": [
    "class ControleDeBonificacoes:\n",
    "    def __init__(self, total_bonificacoes=0):\n",
    "        self._total_bonificacoes = total_bonificacoes\n",
    "    def registra(self, funcionario):\n",
    "        self._total_bonificacoes += funcionario.get_bonificacao()\n",
    "    @property\n",
    "    def total_bonificacoes(self):\n",
    "        return self._total_bonificacoes"
   ]
  },
  {
   "cell_type": "markdown",
   "metadata": {
    "colab_type": "text",
    "id": "3g3AUyykUkM7"
   },
   "source": [
    "E podemos fazer:"
   ]
  },
  {
   "cell_type": "code",
   "execution_count": 0,
   "metadata": {
    "colab": {},
    "colab_type": "code",
    "id": "GrM-xPelUk7M"
   },
   "outputs": [],
   "source": [
    "if __name__ == '__main__':\n",
    "    funcionario = Funcionario('João', '111111111-11', 2000.0)\n",
    "    print(\"bonificacao funcionario: {}\".format(funcionario.get_bonificacao()))\n",
    "    gerente = Gerente(\"José\", \"222222222-22\", 5000.0 '1234', 0)\n",
    "    print(\"bonificacao gerente: {}\".format(gerente.get_bonificacao()))\n",
    "    controle = ControleDeBonificacoes()\n",
    "    controle.registra(funcionario)\n",
    "    controle.registra(gerente)\n",
    "    print(\"total: {}\".format(controle.total_bonificacoes))"
   ]
  },
  {
   "cell_type": "markdown",
   "metadata": {
    "colab_type": "text",
    "id": "HL-yDNYUUvHY"
   },
   "source": [
    "Repare  que  conseguimos  passar  um   `Gerente` para  um  método  que  \"recebe\"  um   `Funcionario` como  argumento.  Pense  como  numa  porta  na  agência  bancária  com  o  seguinte  aviso:  \n",
    "\"Permitida  a entrada  apenas  de  Funcionários\".  Um  gerente  pode  passar  nessa  porta?  Sim,  pois   `Gerente`   é  um `Funcionario`.\n",
    "\n",
    "Qual  será  o  valor  resultante?  Não  importa  que  dentro  do  método    `registra()`    do `ControleDeBonificacoes`  receba   `Funcionario`. Quando ele receber um objeto que realmente é um\n",
    " `Gerente`, o seu método reescrito será invocado. Reafirmando: não importa como nos referenciamos a\n",
    "um objeto, o método que será invocado é sempre o que é dele.\n",
    "\n",
    "No  dia  em  que  criarmos  uma  classe   `Secretaria`,  por  exemplo,  que  é  filha  de   `Funcionario`, precisaremos mudar a classe   `ControleDeBonificacoes`? Não. Basta a classe   `Secretaria`  reescrever os métodos que lhe parecerem necessários. É exatamente esse o poder do polimorfismo, juntamente com a reescrita de método: diminuir o acoplamento entre as classes, para evitar que novos códigos resultem em modificações em inúmeros lugares.\n",
    "\n",
    "Repare que quem criou   `ControleDeBonificacoes`   pode  nunca  ter  imaginado  a  criação  da  classe\n",
    " `Secretaria`   ou   `Engenheiro`. Contudo,  não  será  necessário  reimplementar  esse  controle  em  cada nova classe: reaproveitamos aquele código.\n",
    "Pensar  desta  maneira  em  linguagens  com  tipagem  estática  é  o  mais  correto  já  que  as  variáveis  são tipadas  e  garantem,  através  do  compilador,  que  o  método  só  funcionará  se  receber  um  tipo `Funcionario`.  Mas  não  é  o  que  acontece  em  linguagens  de  tipagem  dinâmica  como  Python.  Vamos supor que temos uma classe para representar os clientes do banco:"
   ]
  },
  {
   "cell_type": "code",
   "execution_count": 0,
   "metadata": {
    "colab": {},
    "colab_type": "code",
    "id": "Es1yK0fKVjkH"
   },
   "outputs": [],
   "source": [
    "class Cliente:\n",
    "    def __init__(self, nome, cpf, senha):\n",
    "        self._nome = nome\n",
    "        self._cpf = cpf\n",
    "        self._senha = senha\n",
    "    # métodos e propriedades"
   ]
  },
  {
   "cell_type": "markdown",
   "metadata": {
    "colab_type": "text",
    "id": "wqNie-hAVnSz"
   },
   "source": [
    "Nada  impede  de  registrarmos  um   `Cliente`   em   `ControleDeBonificacoes`.  Vamos  ver  o  que\n",
    "acontece:"
   ]
  },
  {
   "cell_type": "code",
   "execution_count": 0,
   "metadata": {
    "colab": {},
    "colab_type": "code",
    "id": "pGuo4G9AV0Sa"
   },
   "outputs": [],
   "source": [
    "cliente = ('Maria', '333333333-33', '1234')\n",
    "controle = ControleBonificacoes()\n",
    "controle.registra(cliente)"
   ]
  },
  {
   "cell_type": "markdown",
   "metadata": {
    "colab_type": "text",
    "id": "c-1roB62V5e_"
   },
   "source": [
    "Veja que lança um  `AttibuteError`  com a mensagem dizendo que   `Cliente`  não possui o atributo\n",
    " `get_bonificacao`.  Portanto,  aqui  não  importa  se  o  objeto  recebido  no  método   `registra()`  é  um `Funcionario`, mas se ele possui o método  `get_bonificacao()`.\n",
    "\n",
    "O método   `registra()`   utiliza  um  método  da  classe   `Funcionario`   e,  portanto,  funcionará  com qualquer  instância  de  uma  subclasse  de    `Funcionario`    ou  qualquer  instância  de  uma  classe  que implemente o método  `get_bonificacao()`.\n",
    "\n",
    "Podemos  evitar  este  erro  verificando  se  o  objeto  passado  possui  ou  não  um  atributo\n",
    " `get_bonificacao()`  através da função  `hasattr()` :"
   ]
  },
  {
   "cell_type": "code",
   "execution_count": 0,
   "metadata": {
    "colab": {},
    "colab_type": "code",
    "id": "zsA0HCStWNy3"
   },
   "outputs": [],
   "source": [
    "class ControleDeBonificacoes:\n",
    "    def __init__(self, total_bonificacoes=0):\n",
    "        self._total_bonificacoes = total_bonificacoes\n",
    "    def registra(self, obj):\n",
    "        if(hasattr(obj, 'get_bonificacao'))\n",
    "            self._total_bonificacoes += obj.get_bonificacao()\n",
    "        else\n",
    "            print('instância de {} não implementa o método get_bonificacao()'.format(self.__class__._\n",
    "_name__))    \n",
    "    # demais métodos"
   ]
  },
  {
   "cell_type": "markdown",
   "metadata": {
    "colab_type": "text",
    "id": "IO7VWl0lWM4G"
   },
   "source": [
    "A  função   `hasattr()`   recebe  dois  parâmetros,  o  objeto  e  o  atributo  (na  forma  de   `string` )  -  everifica se o objeto possui aquele atributo, ou seja, se o atributo está contido no   `__dict__`  do objeto.\n",
    "\n",
    "Então, fazemos a pergunta:   `get_bonificacao()`  é atributo de   `Funcionario`? Se sim, entra no bloco\n",
    " `if`  e podemos chamar o método tranquilamente, evitando erros.\n",
    "\n",
    "Agora, se tentarmos chamar o método  `registra()`  passando um  Cliente  recebemos a saída:\n",
    "\n",
    "    'Cliente' object has no attribute 'get_bonificacao\n",
    "\n",
    "Portanto, o tipo passado para o método   `registra()`  não importa aqui e sim se o objeto passado implementa  ou  não  o  método `get_bonificacao()`.\n",
    "\n",
    "Ou  seja,  basta  que  o  objeto  atenda  a  um\n",
    "determinado protocolo.\n",
    "\n",
    "Existe uma função no Python que funciona de forma semelhante mas considera o tipo da instância, é\n",
    "a função `isinstance()`. Ao invés de passar uma instância, passamos a classe no segundo parâmetro."
   ]
  },
  {
   "cell_type": "code",
   "execution_count": 0,
   "metadata": {
    "colab": {},
    "colab_type": "code",
    "id": "F5iIg7PbWxP3"
   },
   "outputs": [],
   "source": [
    "class ControleDeBonificacoes:\n",
    "    def __init__(self, total_bonificacoes=0):\n",
    "        self.__total_bonificacoes = total_bonificacoes\n",
    "    def registra(self, obj):\n",
    "        if(isinstance(obj, Funcionario)):\n",
    "            self.__total_bonificacoes += obj.get_bonificacao()\n",
    "        else:\n",
    "            print('instância de {} não implementa o método get_bonificacao()'\n",
    "                .format(self.__class__.__name__))"
   ]
  },
  {
   "cell_type": "markdown",
   "metadata": {
    "colab_type": "text",
    "id": "U27LH0RxXRZT"
   },
   "source": [
    "Mas essa não é a maneira Pythônica. Você deve escrever o código esperando somente uma interface\n",
    "do objeto, não o tipo dele. A interface é o conjunto de métodos públicos de uma classe. No caso da nossa\n",
    "classe   `ControleDeBonificacoes`,  o  método   `registra()`   espera  um  objeto  que  possua  o  método `get_bonificacao()`  e não um objeto do tipo  `Funcionario`."
   ]
  },
  {
   "cell_type": "markdown",
   "metadata": {
    "colab_type": "text",
    "id": "3CKu4tXrXbbs"
   },
   "source": [
    "### 9.6 DUCK TYPING\n",
    "Uma característica de linguagens dinâmicas como Python é a chamada Duck Typing, a tipagem de pato. É uma característica de um sistema de tipos em que a semântica de uma classe é determinada pela sua capacidade  de  responder  a  alguma  mensagem,  ou  seja,  responder  a  determinado  atributo  (ou\n",
    "método). O exemplo canônico (e a razão do nome) é o teste do pato: se ele se parece com um pato, nada\n",
    "como um pato e grasna como um pato, então provavelmente é um pato.\n",
    "\n",
    "Veja o exemplo abaixo:"
   ]
  },
  {
   "cell_type": "code",
   "execution_count": 0,
   "metadata": {
    "colab": {},
    "colab_type": "code",
    "id": "wfPsqvEtWxrj"
   },
   "outputs": [],
   "source": [
    "class Pato:\n",
    "    def grasna(self):\n",
    "        print('quack!')\n",
    "class Ganso:\n",
    "    def grasna(self):\n",
    "        print('quack!')\n",
    "\n",
    "pato = Pato()\n",
    "ganso = Ganso()\n"
   ]
  },
  {
   "cell_type": "code",
   "execution_count": 0,
   "metadata": {
    "colab": {
     "base_uri": "https://localhost:8080/",
     "height": 34
    },
    "colab_type": "code",
    "id": "1Zstu3_3Wxjx",
    "outputId": "68fec4ab-4ba3-4de3-fa14-7d4d8fd67894"
   },
   "outputs": [
    {
     "name": "stdout",
     "output_type": "stream",
     "text": [
      "quack!\n"
     ]
    }
   ],
   "source": [
    "pato.grasna()"
   ]
  },
  {
   "cell_type": "code",
   "execution_count": 0,
   "metadata": {
    "colab": {
     "base_uri": "https://localhost:8080/",
     "height": 34
    },
    "colab_type": "code",
    "id": "MC91iWONWxcu",
    "outputId": "f59123e0-c478-4cfb-eeb3-3c90e5179ca4"
   },
   "outputs": [
    {
     "name": "stdout",
     "output_type": "stream",
     "text": [
      "quack!\n"
     ]
    }
   ],
   "source": [
    "ganso.grasna()"
   ]
  },
  {
   "cell_type": "markdown",
   "metadata": {
    "colab_type": "text",
    "id": "-dd37sl_YQQn"
   },
   "source": [
    "Você deve escrever o código esperando somente uma interface do objeto, não um tipo de objeto. No\n",
    "caso da nossa classe   `ControleDeBonificacoes`, o método   `registra()`  espera um objeto que possua\n",
    "o método  `get_bonificacao()`  e não apenas um funcionário.\n",
    "\n",
    "O Duck Typing é um estilo de programação que não procura o tipo do objeto para determinar se ele\n",
    "tem  a  interface  correta.  Ao  invés  disso,  o  método  ou  atributo  é  simplesmente  chamado  ou  usado  ('se parece como um pato e grasna como um pato, então deve ser um pato'). Duck Typing evita testes usando as funções   `type()`, `isinstance()`  e até mesmo a `hasattr()` - ao invés disso, deixa o erro estourar na frente do programador.\n",
    "\n",
    "A maneira Pythônica para garantir a consistência do sistema não é verificar os tipos e atributos de\n",
    "um objeto, mas pressupor a existência do atributo no objeto e tratar uma exceção, caso ocorra, através\n",
    "do comando  `try/except` :"
   ]
  },
  {
   "cell_type": "code",
   "execution_count": 0,
   "metadata": {
    "colab": {
     "base_uri": "https://localhost:8080/",
     "height": 219
    },
    "colab_type": "code",
    "id": "vN6WdMbRYqPw",
    "outputId": "17038af0-83d1-4633-d019-e9b7225f8789"
   },
   "outputs": [
    {
     "ename": "NameError",
     "evalue": "ignored",
     "output_type": "error",
     "traceback": [
      "\u001b[0;31m---------------------------------------------------------------------------\u001b[0m",
      "\u001b[0;31mNameError\u001b[0m                                 Traceback (most recent call last)",
      "\u001b[0;32m<ipython-input-11-adafc1cc1933>\u001b[0m in \u001b[0;36m<module>\u001b[0;34m()\u001b[0m\n\u001b[1;32m      1\u001b[0m \u001b[0;32mtry\u001b[0m\u001b[0;34m:\u001b[0m\u001b[0;34m\u001b[0m\u001b[0;34m\u001b[0m\u001b[0m\n\u001b[0;32m----> 2\u001b[0;31m     \u001b[0mself\u001b[0m\u001b[0;34m.\u001b[0m\u001b[0m_total_bonificacoes\u001b[0m \u001b[0;34m+=\u001b[0m \u001b[0mobj\u001b[0m\u001b[0;34m.\u001b[0m\u001b[0mget_bonificacao\u001b[0m\u001b[0;34m(\u001b[0m\u001b[0;34m)\u001b[0m\u001b[0;34m\u001b[0m\u001b[0;34m\u001b[0m\u001b[0m\n\u001b[0m\u001b[1;32m      3\u001b[0m \u001b[0;32mexcept\u001b[0m \u001b[0mAttributeError\u001b[0m \u001b[0;32mas\u001b[0m \u001b[0me\u001b[0m\u001b[0;34m:\u001b[0m\u001b[0;34m\u001b[0m\u001b[0;34m\u001b[0m\u001b[0m\n\u001b[1;32m      4\u001b[0m     \u001b[0mprint\u001b[0m\u001b[0;34m(\u001b[0m\u001b[0me\u001b[0m\u001b[0;34m)\u001b[0m\u001b[0;34m\u001b[0m\u001b[0;34m\u001b[0m\u001b[0m\n",
      "\u001b[0;31mNameError\u001b[0m: name 'self' is not defined"
     ]
    }
   ],
   "source": [
    "try:\n",
    "    self._total_bonificacoes += obj.get_bonificacao()\n",
    "except AttributeError as e:\n",
    "    print(e)"
   ]
  },
  {
   "cell_type": "markdown",
   "metadata": {
    "colab_type": "text",
    "id": "fAWGfXKiYQKM"
   },
   "source": [
    "Estamos pedindo ao interpretador para tentar executar a linha de código dentro do comando `try` (tentar). Caso ocorra algum erro, ele vai tratar este erro com o comando  `except`  e executar algo, como imprimir o erro (similar ao exemplo). Não se preocupe de entender os detalhes sobre este código e o uso\n",
    "do  `try/except`  neste momento, teremos um capítulo só para falar deles.\n",
    "\n",
    "O  que  é  importante  é  que  a  maneira  pythônica  de  se  fazer  é  assumir  a  existência  do atributo  e capturar (tratar) um exceção quando o atributo não pertencer ao objeto e seguir o fluxo do programa.\n",
    "\n",
    "Por ora, faremos esta checagem utilizando a função  `hasattr()`."
   ]
  },
  {
   "cell_type": "markdown",
   "metadata": {
    "colab_type": "text",
    "id": "BKB4T2xOYQEP"
   },
   "source": [
    "### HERANÇA VERSUS ACOPLAMENTO\n",
    "Note que o uso de herança aumenta o acoplamento entre as classes, isto é, o quanto uma classe depende de outra. A relação entre classe mãe e filha é muito forte e isso acaba fazendo com que o programador  das  classes  filhas  tenha  que  conhecer  a implementação  da  classe  mãe  e  vice-versa  fica difícil fazer uma mudança pontual no sistema.\n",
    "\n",
    "Por  exemplo,  imagine  se  tivermos  que  mudar  algo  na  nossa  classe   `Funcionario` ,  mas  não\n",
    "quiséssemos que todos os funcionários sofressem a mesma mudança. Precisaríamos passar por cada\n",
    "uma  das  filhas  de   `Funcionario`   verificando  se  ela  se  comporta  como  deveria  ou  se  devemos\n",
    "sobrescrever o tal método modificado.\n",
    "\n",
    "Esse é um problema da herança, e não do polimorfismo, que resolveremos mais tarde."
   ]
  },
  {
   "cell_type": "markdown",
   "metadata": {
    "colab_type": "text",
    "id": "qx5zVH1MYP5A"
   },
   "source": [
    "### 9.7 EXERCÍCIO: HERANÇA E POLIMORFISMO\n",
    "Vamos  ter  mais  de  um  tipo  de  conta  no  nosso  sistema.  Portanto,  além  das  informações  que  já\n",
    "tínhamos na conta, temos agora o tipo: se queremos uma conta corrente ou uma conta poupança. Além\n",
    "disso, cada uma deve possuir uma taxa.\n",
    "1.  Adicione na classe  Conta  um novo método chamado  `atualiza()*`  que atualiza a conta de acordo\n",
    "com a taxa percentual:\n",
    "        class Conta:\n",
    "            #outros métodos\n",
    "            def atualiza(self, taxa):\n",
    "                self._saldo += self._saldo * taxa\n",
    "2.  Crie duas subclasses da classe  `Conta`:  `ContaCorrente`  e   `ContaPoupanca`. Ambas terão o método  `atualiza()` reescrito:  a `ContaCorrente`    deve  atualizar-se  com  o  dobro  da  taxa  e  a `ContaPoupanca`    deve  atualizar-se  com  o  triplo  da  taxa.  Além  disso,  a   `ContaCorrente` deve reescrever  o  método   `deposita()`   afim  de  retirar  uma  taxa  bancária  de  dez  centavos  de  cada depósito.\n",
    "Crie a classe `ContaCorrente` no arquivo   `conta.py`   e  faça  com  que  ela  seja  subclasse  (filha)  da classe  `Conta`.\n",
    "        class ContaCorrente(Conta):\n",
    "            pass\n",
    "Crie a classe `ContaPoupanca` no arquivo   `conta.py`  e faça com que ela seja subclasse (filha) da\n",
    "classe  `Conta`:\n",
    "        class ContaPoupanca(Conta):\n",
    "            pass\n",
    "Reescreva o método  `atualiza()`  na classe  `ContaCorrente`, seguindo o enunciado:\n",
    "        class ContaCorrente(Conta):\n",
    "            def atualiza(self, taxa):\n",
    "                self._saldo += self._saldo * taxa * 2\n",
    "Reescreva o método  `atualiza()`  na classe  `ContaPoupanca`, seguindo o enunciado:\n",
    "        class ContaPoupanca(Conta):\n",
    "            def atualiza(self, taxa):\n",
    "                self._saldo += self._saldo * taxa * 3\n",
    "Na classe   `ContaCorrente`, reescreva o método   `deposita()`  para descontar a taxa bancária de\n",
    "dez centavos:\n",
    "        class Conta Corrente(Conta):\n",
    "            def atualiza(self, taxa):\n",
    "                self._saldo += self._saldo * taxa * 2\n",
    "            def deposita(self, valor):\n",
    "                self._saldo += valor - 0.10\n",
    "\n",
    "3.  Agora, teste suas classes no próprio módulo   `conta.py`. Acrescente a condição quando o módulo\n",
    "for igual a  `__main__`  para executarmos no console. Instancie essas classes, atualize-as e veja o resultado:\n",
    "        if __name__ == '__main__'\n",
    "            c = Conta('123-4', 'Joao', 1000.0)\n",
    "            cc = ContaCorrente('123-5', 'Jose', 1000.0)\n",
    "            cp = ContaPoupanca('123-6', 'Maria', 1000.0)\n",
    "            c.atualiza(0.01)\n",
    "            cc.atualiza(0.01)\n",
    "            cp.atualiza(0.01)\n",
    "            print(c.saldo)\n",
    "            print(cc.saldo)\n",
    "            print(cp.saldo)\n",
    "\n",
    "4.  Implemente o método  `__str__()`  na classe  `Conta` . Faça com que ele imprima uma representação\n",
    "mais amigável de um  `Conta`  contendo todos os seus atributos.\n",
    "        def __str__(self):\n",
    "            # sua implementação aqui\n",
    "Teste chamando o método  `print()`  passando algumas instâncias de  Conta  como argumento.\n",
    "\n",
    "5.  Vamos criar uma classe que seja responsável por fazer a atualização de todas as contas bancárias e\n",
    "gerar um relatório com o saldo anterior e saldo novo de cada uma das contas. Na pasta   `src`  crie a\n",
    "classe  `AtualizadorDeContas`:\n",
    "        class AtualizadorDeContas:\n",
    "            def __init__(self, selic, saldo_total=0):\n",
    "                self._selic = selic\n",
    "                self._saldo_total = saldo_total\n",
    "            #propriedades    \n",
    "            def roda(self, conta):\n",
    "                #imprime o saldo anterior, atualiza a conta e depois imprime o saldo final\n",
    "                #soma o saldo final ao atributo saldo_total\n",
    "Não esqueça de fazer os imports necessário para o código funcionar.\n",
    "\n",
    "6.  No `main`, vamos criar algumas contas e rodá-las a partir do  `AtualizadorDeContas`:\n",
    "        if __name__ == '__main__':\n",
    "            c = Conta('123-4', 'Joao', 1000.0)\n",
    "            cc = ContaCorrente('123-5', 'José', 1000.0)\n",
    "            cp = ContaPoupanca('123-6', 'Maria', 1000.0)\n",
    "            adc = AtualizadorDeContas(0.01)\n",
    "            adc.roda(c)\n",
    "            adc.roda(cc)\n",
    "            adc.roda(cp)\n",
    "            print('Saldo total: {}'.format(adc.saldo_total))\n",
    "7.  (opcional)  Se  você  precisasse  criar  uma  classe   `ContaInvestimento`,  e  seu  método   `atualiza()` fosse complicadíssimo, você precisaria alterar a classe  `AtualizadorDeContas`?\n",
    "\n",
    "8.  (opcional, Trabalhoso) Crie uma classe   `Banco`  que possui uma lista de contas. Repare que em uma\n",
    "lista de contas você pode colocar tanto `ContaCorrente`  quanto   `ContaPoupanca`. Crie um método `adiciona()`  que adiciona uma conta na lista de contas; um método   `pegaConta()`  que devolve a\n",
    "conta em determinada posição da lista e outro  `pegaTotalDeContas()`  que retorna o total de contas\n",
    "na  lista.  Depois  teste  criando  diversas  contas,  insira-as  no   `Banco`   e  depois,  com  um  laço   `for` , percorra  todas  as  contas  do   `Banco`   para  passá-las  como  argumento  para  o  método   `roda()`   do `AtualizadorDeContas`.\n",
    "9.  (opcional)  Que  maneira  poderíamos  implementar  o  método    `atualiza()`    nas  classes\n",
    " `ContaCorrente`  e  `ContaPoupança`  poupando reescrita de código?\n",
    "10.  (opcional)  E  se  criarmos  uma  classe  que  não  é  filha  de   Conta   e  tentar  passar  uma  instância  no método roda de   `AtualizadorDeContas`? Com o que aprendemos até aqui, como podemos evitar\n",
    "que erros aconteçam nestes casos?"
   ]
  },
  {
   "cell_type": "markdown",
   "metadata": {
    "colab_type": "text",
    "id": "M2T54kleV5Tm"
   },
   "source": [
    "### 9.8 CLASSES ABSTRATAS\n",
    "Vamos recordar nossa classe  `Funcionario`:"
   ]
  },
  {
   "cell_type": "code",
   "execution_count": 0,
   "metadata": {
    "colab": {},
    "colab_type": "code",
    "id": "fo6C421XWxZQ"
   },
   "outputs": [],
   "source": [
    "class Funcionario:\n",
    "    def __init__(self, nome, cpf, salario=0):\n",
    "        #inicialização dos atributos\n",
    "    #propriedades e outros métodos\n",
    "    def get_bonificacao(self):\n",
    "        return self._salario * 1.2\n",
    "\n"
   ]
  },
  {
   "cell_type": "markdown",
   "metadata": {
    "colab_type": "text",
    "id": "3F3Mp7rNcC6Z"
   },
   "source": [
    "Considere agora nosso  ControleDeBonificacao :"
   ]
  },
  {
   "cell_type": "code",
   "execution_count": 0,
   "metadata": {
    "colab": {},
    "colab_type": "code",
    "id": "wq8jk0PncE5t"
   },
   "outputs": [],
   "source": [
    "class ControleDeBonificacoes:\n",
    "    def __init__(self, total_bonificacoes=0):\n",
    "        self.__total_bonificacoes = total_bonificacoes\n",
    "    def registra(self, obj):\n",
    "        if(hasattr(obj, 'get_bonificacao')):\n",
    "            self.__total_bonificacoes += obj.get_bonificacao()\n",
    "        else:\n",
    "            print('instância de {} não implementa o método get_bonificacao()'.format(self.__class__._\n",
    "_name__))  \n",
    "    #propriedades"
   ]
  },
  {
   "cell_type": "markdown",
   "metadata": {
    "colab_type": "text",
    "id": "DZuEoXR4cJnR"
   },
   "source": [
    "Nosso método  `registra()`  recebe um objeto de qualquer tipo mas estamos esperando que seja um\n",
    " `Funcionario`   já  que  este  implementa  o  método   `get_bonificacao()`,  isto  é,  podem  ser  objetos  do tipo   `Funcionario`  e qualquer de seus subtipos:   `Gerente`, `Diretor`  e, eventualmente, alguma nova subclasse que venha ser escrita, sem prévio conhecimento do autor da `ControleDeBonificacao`.\n",
    "\n",
    "Estamos utilizando aqui a classe   `Funcionario`  para o polimorfismo. Se não fosse ela, teríamos um grande  prejuízo:  precisaríamos  criar  um  método   `registra()`   para  receber  cada  um  dos  tipos  de\n",
    " `Funcionario`, um para  `Gerente`, um para   `Diretor`, etc. Repare que perder esse poder é muito pior do que a pequena vantagem que a herança traz em herdar código.\n",
    "\n",
    "Porém, em alguns sistemas, como é o nosso caso, usamos uma classe com apenas esses intuitos: de\n",
    "economizar  um  pouco  código  e  ganhar polimorfismo  para  criar  métodos  mais  genéricos,  que  se encaixem a diversos objetos.\n",
    "\n",
    "Faz  sentido  ter  um  objeto  do  tipo    `Funcionario`?  Essa  pergunta  é  bastante  relevante  já  que instanciar  um   `Funcionario`   pode  gerar  um  objeto  que  não  faz  sentido  no  nosso  sistema.  Nossa empresa tem apenas  `Diretores`,  `Gerentes`,  `Secretárias`, etc...   \n",
    "\n",
    "`Funcionario`  é apenas uma classe que idealiza um tipo, define apenas um rascunho.\n",
    "\n",
    "Vejamos um outro caso em que não faz sentido ter um objeto de determinado tipo, apesar da classe\n",
    "existir. Imagine a classe   `Pessoa`  e duas filhas:   `PessoaFisica`  e   `PessoaJuridica`. Quando puxamos um relatório de nossos clientes (uma lista de objetos de tipo  `Pessoa`, por exemplo), queremos que cada um deles seja ou uma  `PessoaFisica`  ou uma  `PessoaJuridica`. A classe   `Pessoa` , nesse caso, estaria sendo  usada  apenas  para  ganhar  o  polimorfismo  e  herdar  algumas  coisas  -  não  faz  sentido  permitir instanciá-la.\n",
    "\n",
    "Para o nosso sistema, é inadmissível que um objeto seja apenas do tipo   `Funcionario`  (pode existir\n",
    "um sistema em que faça sentido ter objetos do tipo   `Funcionario`  ou apenas   `Pessoa` , mas, no nosso\n",
    "caso, não). Para resolver esses problemas, temos as classes abstratas.\n",
    "\n",
    "Utilizaremos uma módulo do Python chamado `abc` que permite definirmos classes abstratas. Uma classe abstrata deve herdar de `ABC` (Abstract Base Classes). `ABC` é a superclasse para classes abstratas.\n",
    "\n",
    "Uma classe abstrata não pode ser instanciada e deve conter pelo menos um método abstrato. Vamos ver isso na prática.\n",
    "\n",
    "Vamos tornar nossa classe  `Funcionario`  abstrata:"
   ]
  },
  {
   "cell_type": "code",
   "execution_count": 0,
   "metadata": {
    "colab": {},
    "colab_type": "code",
    "id": "7QjzwB-tdOGO"
   },
   "outputs": [],
   "source": [
    "import abc\n",
    "class Funcionario(abc.ABC):\n",
    "    # métodos e propriedades"
   ]
  },
  {
   "cell_type": "markdown",
   "metadata": {
    "colab_type": "text",
    "id": "tEM8cp8adRdU"
   },
   "source": [
    "Definimos  nossa  classe    `Funcionario` como  abstrata.  Agora  vamos  tornar  nosso  método\n",
    " `get_bonificacao()`  abstrato. Um método abstrato pode ter implementação, mas não faz sentido em\n",
    "nosso  sistema,  portanto  vamos  deixá-lo  sem  implementação.  Para  definir  um  método  abstrato\n",
    "utilizamos o decorator  `@abstractmethod`:"
   ]
  },
  {
   "cell_type": "code",
   "execution_count": 0,
   "metadata": {
    "colab": {},
    "colab_type": "code",
    "id": "ZqqdUXnDdbPJ"
   },
   "outputs": [],
   "source": [
    "class Funcionario(abc.ABC):\n",
    "    @abc.abstractmethod\n",
    "    def get_bonificacao(self):\n",
    "        pass"
   ]
  },
  {
   "cell_type": "markdown",
   "metadata": {
    "colab_type": "text",
    "id": "6mh-iSS6dfp4"
   },
   "source": [
    "Agora, se tentarmos instanciar um objeto do tipo  `Funcionario`:"
   ]
  },
  {
   "cell_type": "code",
   "execution_count": 0,
   "metadata": {
    "colab": {},
    "colab_type": "code",
    "id": "2IWyLxwjdgOj"
   },
   "outputs": [],
   "source": [
    "f = Funcionario()"
   ]
  },
  {
   "cell_type": "markdown",
   "metadata": {
    "colab_type": "text",
    "id": "aaD4CavbdrN3"
   },
   "source": [
    "Acusa um erro:\n",
    "\n",
    "    TypeError: Can't instantiate abstract class Funcionario with abstract methods get_bonificacao\n",
    "\n",
    "Apesar de não conseguir instanciar a classe   `Funcionario`, conseguimos instanciar suas filhas que\n",
    "são objetos que realmente existem em nosso sistema (objetos concretos):"
   ]
  },
  {
   "cell_type": "code",
   "execution_count": 0,
   "metadata": {
    "colab": {},
    "colab_type": "code",
    "id": "INzW1o9RfbQh"
   },
   "outputs": [],
   "source": [
    "class Gerente(Funcionario):\n",
    "    # outros métodos e propriedades\n",
    "    def get_bonificacao(self):\n",
    "        return self._salario * 0.15"
   ]
  },
  {
   "cell_type": "code",
   "execution_count": 0,
   "metadata": {
    "colab": {},
    "colab_type": "code",
    "id": "mBKWlMR_fdjl"
   },
   "outputs": [],
   "source": [
    "gerente = Gerente('jose', '222222222-22', 5000.0, '1234', 0)\n",
    "print(gerente.get_bonificacao())"
   ]
  },
  {
   "cell_type": "markdown",
   "metadata": {
    "colab_type": "text",
    "id": "Apo7vv-Cfruk"
   },
   "source": [
    "Vamos criar a classe  `Diretor`  que herda de  `Fucionario`  sem o método  `get_bonificacao()`:"
   ]
  },
  {
   "cell_type": "code",
   "execution_count": 0,
   "metadata": {
    "colab": {},
    "colab_type": "code",
    "id": "CL3czEBPfxmR"
   },
   "outputs": [],
   "source": [
    "class Diretor(Funcionario):\n",
    "    def __init__(self, nome, cpf, salario):\n",
    "        super().__init__(nome, cpf, salario)"
   ]
  },
  {
   "cell_type": "code",
   "execution_count": 0,
   "metadata": {
    "colab": {},
    "colab_type": "code",
    "id": "2O8hrVubf0IC"
   },
   "outputs": [],
   "source": [
    "diretor = Diretor('joao', '111111111-11', 4000.0)"
   ]
  },
  {
   "cell_type": "markdown",
   "metadata": {
    "colab_type": "text",
    "id": "nrYD_QISfriw"
   },
   "source": [
    "Não conseguimos instanciar uma subclasse de   `Funcionario`  sem implementar o método abstrato\n",
    " `get_bonificacao()`. Agora tornamos o método   `get_bonificacao()`  obrigatório para todo objeto\n",
    "que  é  subclasse  de    `Funcionario`.  Caso  venhamos  a  criar  outras  classes,  como    `Secretaria` e `Presidente`,  que  sejam  filhas  de    `Funcionario` ,  seremos  obrigados  e  criar  o  método `get_bonificacao()`, caso contrário, o código vai acusar erro quando executado."
   ]
  },
  {
   "cell_type": "markdown",
   "metadata": {
    "colab_type": "text",
    "id": "L8S_l9K0gKlg"
   },
   "source": [
    "### 9.9 EXERCÍCIOS - CLASSES ABSTRATAS\n",
    "1.  Torne a classe  `Conta`  abstrata.\n",
    "        import abc\n",
    "        class Conta(abc.ABC):\n",
    "        def __init__(self, numero, titular, saldo=0, limite=1000.0):\n",
    "        self._numero = numero\n",
    "        self._titular = titular\n",
    "        self._saldo = saldo\n",
    "        self._limite = limite\n",
    "        # outros métodos e propriedades\n",
    "\n",
    "2.  Torne o método  `atualiza()`  abstrato:\n",
    "        class Conta(abc.ABC):\n",
    "        # código omitido\n",
    "        @abc.abstractmethod\n",
    "        def atualiza():\n",
    "            pass\n",
    "\n",
    "3.  Tente instância uma  `Conta`:\n",
    "        c = Conta()\n",
    "O que acontece?\n",
    "\n",
    "4.  Instancie  uma   `ContaCorrente`   e  uma   `ContaPoupanca`   e  teste  o  código  chamando  o  método `atualiza()`.\n",
    "\n",
    "        cc = ContaCorrente('123-4', 'João', 1000.0)\n",
    "        cp = ContaPoupanca('123-5', 'José', 1000.0)\n",
    "        cc.atualiza(0.01)\n",
    "        cp.atualiza(0.01)\n",
    "        print(cc.saldo)\n",
    "        print(cp.saldo)\n",
    "\n",
    "5.  Crie uma classe chamada  `ContaInvestimento`:\n",
    "        class ContaInvestimeto(Conta):\n",
    "            pass\n",
    "6.  Instancie uma  `ContaInvestimeto`:\n",
    "        ci = ContaInvestimento('123-6', 'Maria', 1000.0)\n",
    "\n",
    "7.  Não  conseguimos  instanciar  uma   `ContaInvestimento`   que  herda   `Conta`   sem  implementar  o método  abstrato    `atualiza()`.  Vamos  criar  uma  implementação  dentro  da  classe `ContaInvestimento`:\n",
    "        def atualiza(self, taxa):\n",
    "            self._saldo += self._saldo * taxa * 5\n",
    "\n",
    "8.  Agora teste instanciando uma  `ContaInvestimento`  e chame o método  `atualiza()`:\n",
    "        ci = ContaInvestimento('123-6', 'Maria', 1000)\n",
    "        ci.deposita(1000.0)\n",
    "        ci.atualiza(0.01)\n",
    "        print(ci.saldo)\n",
    "\n",
    "9.  (opcional)  Crie  um  atributo    `tipo`    nas  classes    `ContaCorrente` , ContaPoupanca    e `ContaInvestimento`.  Faça  com  que  o   tipo    também  seja  impresso  quando  usamos  a  função\n",
    " `print()`."
   ]
  },
  {
   "cell_type": "markdown",
   "metadata": {
    "colab_type": "text",
    "id": "DgKQHFOvh7a8"
   },
   "source": [
    "# CAPÍTULO 10\n",
    "## HERANÇA MÚLTIPLA E INTERFACES\n",
    "Imagine que um Sistema de Controle do Banco pode ser acessado, além dos Gerentes, pelos Diretores do\n",
    "Banco. Teríamos uma classe `Diretor` ."
   ]
  },
  {
   "cell_type": "code",
   "execution_count": 0,
   "metadata": {
    "colab": {},
    "colab_type": "code",
    "id": "uoIfyTMxpGCY"
   },
   "outputs": [],
   "source": [
    "class Diretor(Funcionario):\n",
    "    def autentica(self, senha):\n",
    "        # verifica se a senha confere"
   ]
  },
  {
   "cell_type": "markdown",
   "metadata": {
    "colab_type": "text",
    "id": "irj20ja1pJpg"
   },
   "source": [
    "E a classe  `Gerente`:"
   ]
  },
  {
   "cell_type": "code",
   "execution_count": 0,
   "metadata": {
    "colab": {},
    "colab_type": "code",
    "id": "Dwpin8-1pKW2"
   },
   "outputs": [],
   "source": [
    "class Gerente(Funcionario):\n",
    "    def autentica(self, senha):\n",
    "        # verifica se a senha confere e também se o seu departamento tem acesso"
   ]
  },
  {
   "cell_type": "markdown",
   "metadata": {
    "colab_type": "text",
    "id": "cc5VKlNppRUM"
   },
   "source": [
    "Repare que o método de autenticação de cada tipo de   `Funcionario`  pode variar muito. Mas vamos aos  problemas.  Considere  o   `SistemaInterno`   e  seu  controle:  precisamos  receber  um   `Diretor`   ou\n",
    " `Gerente`  como argumento, verificar se ele se autentica e colocá-lo dentro do sistema.\n",
    "\n",
    "Vimos  que  podemos  utilizar  a  função   `hasattr()`   para  verificar  se  um  objeto  possui  o  método\n",
    " `autentica()`:"
   ]
  },
  {
   "cell_type": "code",
   "execution_count": 0,
   "metadata": {
    "colab": {},
    "colab_type": "code",
    "id": "WFd7XLJfpOLg"
   },
   "outputs": [],
   "source": [
    "class SistemaInterno:\n",
    "    def login(self, funcionario):\n",
    "        if(hasattr(obj, 'autentica')):\n",
    "            # chama método autentica\n",
    "        else:\n",
    "            # imprime mensagem de ação inválida"
   ]
  },
  {
   "cell_type": "markdown",
   "metadata": {
    "colab_type": "text",
    "id": "q0o2wI6gpceM"
   },
   "source": [
    "Mas  podemos  esquecer,  no  futuro,  quando  modelar  a  classe   `Presidente` (que  também  é  um\n",
    "funcionário  e  autenticável),  de  implementar  o  método   `autentica()`.  Não  faz  sentido  colocarmos  o\n",
    "método  `autentica()`  na classe  `Funcionario`  já que nem todo funcionário é autenticável.\n",
    "\n",
    "Uma  solução  mais  interessante  seria  criar  uma  classe  no  meio  da  árvore  de  herança,  a\n",
    " `FuncionarioAutenticavel`:"
   ]
  },
  {
   "cell_type": "code",
   "execution_count": 0,
   "metadata": {
    "colab": {},
    "colab_type": "code",
    "id": "tzQyG9VjpsrM"
   },
   "outputs": [],
   "source": [
    "class FuncionarioAutenticavel(Funcionario):\n",
    "    def autentica(self, senha):\n",
    "        # verifica se a senha confere"
   ]
  },
  {
   "cell_type": "markdown",
   "metadata": {
    "colab_type": "text",
    "id": "GWpccSM-ptc_"
   },
   "source": [
    "E as classes   `Diretor`,   `Gerente`  e qualquer outro tipo de   `FuncionarioAutenticavel`  que vier a existir  em  nosso  sistema  bancário  passaria  a  estender  de   `FuncionarioAutenticavel`.  Repare  que `FuncionarioAutenticavel`  é forte candidata a classe abstrata. Mais ainda, o método   `autentica()` poderia ser um método abstrato.\n",
    "\n",
    "O uso de herança simples resolve o caso, mas vamos a uma outra situação um pouco mais complexa:\n",
    "todos os clientes também devem possuir acesso ao  `SistemaInterno` . O que fazer?\n",
    "Uma opção é fazer uma herança sem sentido para resolver o problema, por exemplo, fazer  `Cliente` \n",
    "estender  de   `FuncionarioAutenticavel`.  Realmente  resolve  o  problema,  mas  trará  diversos  outros.\n",
    " `Cliente`  definitivamente não é um   `FuncionarioAutenticavel`. Se você fizer isso, o   `Cliente`  terá, por  exemplo,  um  método   `get_bonificacao()`,  um  atributo   `salario`   e  outros  membros  que  não fazem o menor sentido para esta classe.\n",
    "\n",
    "Precisamos, para resolver este problema, arranjar uma forma de referenciar   `Diretor`,   `Gerente`  e\n",
    " `Cliente`  de uma mesma maneira, isto é, achar um fator comum.\n",
    "\n",
    "Se  existisse  uma  forma  na  qual  essas  classes  garantissem  a  existência  de  um  determinado  método,\n",
    "através de um contrato, resolveríamos o problema. Podemos criar um \"contrato\" que define tudo o que uma classe deve fazer se quiser ter um determinado status. Imagine:\n",
    "\n",
    "    contrato Autenticavel\n",
    "        * quem quiser ser Autenticavel precisa saber fazer:\n",
    "            - autenticar dada uma senha, devolvendo um booleano\n",
    "\n",
    "Quem  quiser  pode  assinar  este  contrato,  sendo  assim  obrigado  a  explicar  como  será  feita  essa\n",
    "autenticação. A vantagem é que, se um   `Gerente`  assinar esse contrato, podemos nos referenciar a um\n",
    " `Gerente`  como um  `Autenticavel`.\n",
    "\n",
    "Como Python admite herança múltipla podemos criar a classe  `Autenticavel`:"
   ]
  },
  {
   "cell_type": "code",
   "execution_count": 0,
   "metadata": {
    "colab": {},
    "colab_type": "code",
    "id": "lYWNGIFiqo1g"
   },
   "outputs": [],
   "source": [
    "class Autenticavel:\n",
    "    def autentica(self, senha):\n",
    "        # verifica se a senha confere"
   ]
  },
  {
   "cell_type": "markdown",
   "metadata": {
    "colab_type": "text",
    "id": "FCcJ9nqOqpZv"
   },
   "source": [
    "E fazer  `Gerente`,  `Diretor`  e  `Cliente`  herdarem essa classe:"
   ]
  },
  {
   "cell_type": "code",
   "execution_count": 0,
   "metadata": {
    "colab": {},
    "colab_type": "code",
    "id": "kSQ8o2yQqxI2"
   },
   "outputs": [],
   "source": [
    "class Gerente(Funcionario, Autenticavel):\n",
    "    # código omitido\n"
   ]
  },
  {
   "cell_type": "code",
   "execution_count": 0,
   "metadata": {
    "colab": {},
    "colab_type": "code",
    "id": "ojf8NRfYqyOQ"
   },
   "outputs": [],
   "source": [
    "class Diretor(Funcionario, Autenticavel):\n",
    "    # código omitido\n"
   ]
  },
  {
   "cell_type": "code",
   "execution_count": 0,
   "metadata": {
    "colab": {},
    "colab_type": "code",
    "id": "BiCENh4lqyH-"
   },
   "outputs": [],
   "source": [
    "class Cliente(Autenticavel):\n",
    "    # código omitido"
   ]
  },
  {
   "cell_type": "markdown",
   "metadata": {
    "colab_type": "text",
    "id": "FIOBhBlnq2Y2"
   },
   "source": [
    "Ou seja,  `Gerente`  e   `Diretor`  além de funcionários são autenticáveis! Assim, podemos utilizar o `SistemaInterno`  para funcionários autenticáveis e clientes:"
   ]
  },
  {
   "cell_type": "code",
   "execution_count": 0,
   "metadata": {
    "colab": {},
    "colab_type": "code",
    "id": "_1kGqfZHqyA5"
   },
   "outputs": [],
   "source": [
    "class SistemaInterno:\n",
    "    def login(self, obj):\n",
    "        if(hasattr(obj, 'autentica')):\n",
    "            obj.autentica()\n",
    "            return True\n",
    "        else:\n",
    "            print('{} não é autenticável'.format(self.__class__.__name__))\n",
    "            return False"
   ]
  },
  {
   "cell_type": "code",
   "execution_count": 0,
   "metadata": {
    "colab": {},
    "colab_type": "code",
    "id": "vurJSdl6qx7g"
   },
   "outputs": [],
   "source": [
    "diretor = Diretor('João', '111111111-11', 3000.0, '1234')\n",
    "gerente = Gerente('José', '222222222-22', 5000.0, '1235')\n",
    "cliente = Cliente('Maria', '333333333-33', '1236')\n",
    "sistema = SistemaInterno()\n",
    "sistema.login(diretor)\n",
    "sistema.login(gerente)\n",
    "sistema.login(cliente)"
   ]
  },
  {
   "cell_type": "markdown",
   "metadata": {
    "colab_type": "text",
    "id": "Ja6mJiMfrLmo"
   },
   "source": [
    "Note que uma classe pode herdar de muitas outras classes. Mas vamos aos problemas que isso pode gerar. Por exemplo, várias classes podem possuir o mesmo método."
   ]
  },
  {
   "cell_type": "markdown",
   "metadata": {
    "colab_type": "text",
    "id": "sunWFmSkrWGV"
   },
   "source": [
    "### 10.1 PROBLEMA DO DIAMANTE\n",
    "O  exemplo  anterior  pode  parecer  uma  boa  maneira  de  representar  classes  autenticáveis,  mas  se\n",
    "começássemos  a  estender  esse  sistema,  logo  encontraríamos  algumas  complicações.  Em  um  banco  de\n",
    "verdade,  as  divisões  entre  gerentes,  diretores  e  clientes  nem  sempre  são  claras.  Um   `Cliente`,  por\n",
    "exemplo, pode ser um `Funcionario`, um   `Funcionario`   pode  ter  outras  subcategorias  como  fixos  e\n",
    "temporários.\n",
    "\n",
    "No Python, é possível que uma classe herde de várias outras classes. Poderíamos, por exemplo, criar\n",
    "uma  classe   `A` ,  que  será  superclasse  das  classes   `B`   e   `C`.  A  herança  múltipla  não  é  muito  difícil  de entender se uma classe herda de várias classes que possuem propriedades completamente diferentes, mas as coisas ficam complicadas se duas superclasses implementam o mesmo método ou atributo.\n",
    "Se as classes  `B`  e  `C`  herdarem a classe  `A`  e classe  `D`  herdar as classes   B  e   C , e as classes   `B`  e   `C`  têm um método  `m2()`, qual método a classe  `D`  herda?"
   ]
  },
  {
   "cell_type": "code",
   "execution_count": 0,
   "metadata": {
    "colab": {},
    "colab_type": "code",
    "id": "nTpJQJm-rVPs"
   },
   "outputs": [],
   "source": [
    "class A:\n",
    "    def m1(self):\n",
    "        print('método de A')\n",
    "class B(A):\n",
    "    def m2(self):\n",
    "        print('método de B')\n",
    "class C(A):\n",
    "    def m2(self):\n",
    "        print('método de C')                \n",
    "class D(B, C):\n",
    "    pass"
   ]
  },
  {
   "cell_type": "markdown",
   "metadata": {
    "colab_type": "text",
    "id": "4BChENY3r0-j"
   },
   "source": [
    "Essa ambiguidade é conhecida como o problema do diamante, ou problema do losango, e diferentes linguagens resolvem esse problema de maneiras diferentes. O Python segue uma ordem específica para percorrer a hierarquia de classes e essa ordem é chamada de MRO: Method Resolution Order (Ordem de Resolução de Métodos).\n",
    "\n",
    "Toda  classe  tem  um  atributo   `__mro__`   que  retorna  uma  tupla  de  referências  das  superclasses  na ordem MRO - da classe atual até a classe  `object`. \n",
    "\n",
    "Vejamos o MRO da classe  `D`:"
   ]
  },
  {
   "cell_type": "code",
   "execution_count": 0,
   "metadata": {
    "colab": {
     "base_uri": "https://localhost:8080/",
     "height": 34
    },
    "colab_type": "code",
    "id": "sU52HjJvsB7X",
    "outputId": "0a8c2e03-ae52-4ff5-d063-06fdb90bab35"
   },
   "outputs": [
    {
     "name": "stdout",
     "output_type": "stream",
     "text": [
      "[<class '__main__.D'>, <class '__main__.B'>, <class '__main__.C'>, <class '__main__.A'>, <class 'object'>]\n"
     ]
    }
   ],
   "source": [
    "print(D.mro())"
   ]
  },
  {
   "cell_type": "markdown",
   "metadata": {
    "colab_type": "text",
    "id": "xLA6Hle9sHC3"
   },
   "source": [
    "A ordem é sempre da esquerda para direita. Repare que o Python vai procurar a chamada do método `m2()`  primeiro na classe   `D`, não encontrando vai procurar em   `B`  (a  primeira classe  herdada). Caso não encontre em  `B`, vai procurar em  `C`  e só então procurar em  `A`  - e por último na classe  `object`.\n",
    "\n",
    "Também podemos acessar o atributo  `__mro__`  através do método   `mro()`  chamado pela classe que retorna uma lista ao invés de uma tupla:"
   ]
  },
  {
   "cell_type": "code",
   "execution_count": 0,
   "metadata": {
    "colab": {},
    "colab_type": "code",
    "id": "PG3jfkCvsX9x"
   },
   "outputs": [],
   "source": [
    "print(D.mro())"
   ]
  },
  {
   "cell_type": "markdown",
   "metadata": {
    "colab_type": "text",
    "id": "LcmgisURsa76"
   },
   "source": [
    "Portanto, seguindo o MRO, a classe  `D`  chama o método  `m2()`  da classe  `B`:"
   ]
  },
  {
   "cell_type": "code",
   "execution_count": 0,
   "metadata": {
    "colab": {},
    "colab_type": "code",
    "id": "fKySycyfshdt"
   },
   "outputs": [],
   "source": [
    "d = D()"
   ]
  },
  {
   "cell_type": "code",
   "execution_count": 0,
   "metadata": {
    "colab": {},
    "colab_type": "code",
    "id": "6ZpzOZDishsp"
   },
   "outputs": [],
   "source": [
    "d.m1()"
   ]
  },
  {
   "cell_type": "code",
   "execution_count": 0,
   "metadata": {
    "colab": {},
    "colab_type": "code",
    "id": "GBrKceSZshm1"
   },
   "outputs": [],
   "source": [
    "d.m2()"
   ]
  },
  {
   "cell_type": "markdown",
   "metadata": {
    "colab_type": "text",
    "id": "x_s22H6zsnMz"
   },
   "source": [
    "Felizmente, a função  `super()`  sabe como lidar de forma inteligente com herança múltipla. Se usá-la dentro do método todos os métodos das superclasses devem ser chamados seguindo o MRO."
   ]
  },
  {
   "cell_type": "code",
   "execution_count": 0,
   "metadata": {
    "colab": {},
    "colab_type": "code",
    "id": "BnlgwuJ8suop"
   },
   "outputs": [],
   "source": [
    "class A:\n",
    "    def m1(self):\n",
    "        print('método de A')\n",
    "class B(A):\n",
    "    def m1(self):\n",
    "        super().m1()\n",
    "    def m2(self):\n",
    "        print('método de B')\n",
    "class C(A):\n",
    "    def m1(self):\n",
    "        super().m1()\n",
    "    def m2(self):\n",
    "        print('método de C')                \n",
    "class D(B, C):\n",
    "    def m1(self):\n",
    "        super().m1()\n",
    "    def m2(self):\n",
    "        super().m2()"
   ]
  },
  {
   "cell_type": "code",
   "execution_count": 0,
   "metadata": {
    "colab": {},
    "colab_type": "code",
    "id": "p7Nu68qSsvlP"
   },
   "outputs": [],
   "source": [
    "d = D()\n",
    "d.m1()\n",
    "d.m2()"
   ]
  },
  {
   "cell_type": "markdown",
   "metadata": {
    "colab_type": "text",
    "id": "2lEfnXqks2Re"
   },
   "source": [
    "### 10.2 MIX-INS\n",
    "Se  usarmos  herança  múltipla,  geralmente  é  uma  boa  idéia  projetarmos  nossas  classes  de  uma maneira que evite o tipo de ambiguidade descrita acima - apesar do Python possuir o MRO, em sistemas grandes a herança múltipla ainda pode causar muitos problemas.\n",
    "\n",
    "Uma maneira de fazer isso é dividir a funcionalidade opcional em mix-ins. Um mix-in é uma classe que não se destina a ser independente - existe para adicionar funcionalidade extra a outra classe através de herança múltipla. A ideia é que classes herdem estes mix-ins, essas \"misturas de funcionalidades\".\n",
    "\n",
    "Por  exemplo,  nossa  classe    `Autenticavel`    pode  ser  um  mix-in  já  que  ela  existe  apenas  para\n",
    "acrescentar a funcionalidade de ser autenticável, ou seja, para herdar seu método  autentica .\n",
    "\n",
    "Nossa classe  `Autenticavel`  já se comporta como um  Mix-In . No Python não existe uma maneira específica de criar mix-ins. Os programadores, por convenção e para deixar explícito a classe como um\n",
    "mix-in, colocam o termo 'MixIn' no nome da classe e utilizam através de herança múltipla:"
   ]
  },
  {
   "cell_type": "code",
   "execution_count": 0,
   "metadata": {
    "colab": {},
    "colab_type": "code",
    "id": "T9xBvhq4tM7J"
   },
   "outputs": [],
   "source": [
    "class AutenticavelMixIn:\n",
    "    def autentica(self, senha):\n",
    "        # verifica senha"
   ]
  },
  {
   "cell_type": "markdown",
   "metadata": {
    "colab_type": "text",
    "id": "qWZaJJ5WtPiE"
   },
   "source": [
    "Cada mix-in  é  responsável  por  fornecer  uma  peça  específica  de  funcionalidade  opcional.  Podemos\n",
    "ter outros mix-ins no nosso sistema:"
   ]
  },
  {
   "cell_type": "code",
   "execution_count": 0,
   "metadata": {
    "colab": {},
    "colab_type": "code",
    "id": "u0W4jyTatTes"
   },
   "outputs": [],
   "source": [
    "class AtendimentoMixIn:\n",
    "    def cadastra_atendimento(self):\n",
    "        # faz cadastro atendimento\n",
    "    def atende_cliente(self):\n",
    "        # faz atendimento\n",
    "class HoraExtraMixIn:\n",
    "    def calcula_hora_extra(self, horas):\n",
    "        # calcula horas extras"
   ]
  },
  {
   "cell_type": "markdown",
   "metadata": {
    "colab_type": "text",
    "id": "Rdj8M0oVtXwl"
   },
   "source": [
    "E podemos misturá-los nas classes de nosso sistema:"
   ]
  },
  {
   "cell_type": "code",
   "execution_count": 0,
   "metadata": {
    "colab": {},
    "colab_type": "code",
    "id": "2sm94F_6tYjX"
   },
   "outputs": [],
   "source": [
    "class Gerente(Funcionario, AutenticavelMixIn, HoraExtraMixIn):\n",
    "    pass\n",
    "\n",
    "class Diretor(Funcionario, AutenticavelMixIn):\n",
    "    pass\n",
    "\n",
    "class Cliente(AutentivavelMixIn):\n",
    "    pass    \n",
    "\n",
    "class Escriturario(Funcionario, AtentimentoMixIn):\n",
    "    pass"
   ]
  },
  {
   "cell_type": "markdown",
   "metadata": {
    "colab_type": "text",
    "id": "j2JBdJ7ftiKU"
   },
   "source": [
    "Repare  que  nossos  mix-ins  não  tem  um  método   `__init__()`.  Muitos  mix-ins  apenas  fornecem\n",
    "métodos  adicionais  mas  não  inicializam  nada.  Isso  às  vezes  significa  que  eles  dependem  de  outras\n",
    "propriedades que já existem em suas filhas. Cada mix-in é responsável por fornecer uma peça específica\n",
    "de funcionalidade opcional - é um jeito de compor classes.\n",
    "\n",
    "Poderíamos estender este exemplo com mais misturas que representam a capacidade de pagar taxas, a capacidade de ser pago por serviços, e assim por diante - poderíamos então criar uma hierarquia de classes relativamente plana para diferentes tipos de classes de funcionário que herdam   Funcionario  e alguns mix-ins .\n",
    "\n",
    "Essa é uma das abordagens de se usar herança múltipla mas ela é bastante desencorajada. Caso você utilize,  opte  por  Mix  Ins  sabendo  de  suas  desvantagens.  Usado  em  sistemas  grandes  podem  ocorrer colisões com nomes de métodos, métodos substituídos acidentalmente, hierarquia de classe pouco clara e  dificuldade  de  ler  e  entender  classes  compostas  por  muitos  mix-ins,  dentre  outras  desvantagens.  O problema da herança múltipla permanece.\n",
    "\n",
    "Outra  abordagem  possível  é  definir  funções  fora  de  classes,  digamos  em  um  módulo  e  fazer\n",
    "chamadas  dessas  funções  passando  nossos  objetos.\n",
    "\n",
    "Mas  isso  é  um  afastamento  radical  do  paradigma\n",
    "orientado a objetos que é baseada em métodos definidos dentro das classes."
   ]
  },
  {
   "cell_type": "markdown",
   "metadata": {
    "colab_type": "text",
    "id": "tgIIPjRwt9rB"
   },
   "source": [
    "### 10.3 PARA SABE MAIS - TKINTER\n",
    "Tkinter é um framework que faz parte da biblioteca padrão do Python utilizado para criar interface gráfica. É um caso onde mix-ins trabalham bem já que se trata de um pequeno framework, mas também é  suficientemente  grande  para  que  seja  possível  ver  o  problema.  Veja  um exemplo  de  parte  de  sua hierarquia de classe:"
   ]
  },
  {
   "cell_type": "markdown",
   "metadata": {
    "colab_type": "text",
    "id": "yLY7N8mJtjD_"
   },
   "source": [
    "** imagem **"
   ]
  },
  {
   "cell_type": "markdown",
   "metadata": {
    "colab_type": "text",
    "id": "KQdh3rIktkyT"
   },
   "source": [
    "Essa  figura  mostra  parte  do  complicado  modelo  de  classes  utilizando  herança  múltipla  do  pacote\n",
    " Tkinter. A setas representam o MRO que deve iniciar na classe   `Text`. A classe   `Text`   implementa um campo de texto editável e tem muitas funcionalidades próprias, além de herdar muitos métodos de outras classes.\n",
    "\n",
    "Uma outra classe do pacote que não aparece neste diagrama é a   `Label` , utilizada para mostrar um texto  ou  bitmap  na  tela.  Você  pode  testar  no  Pycharm,  aproveitando  a  ferramenta  de  autocomplete, chamando  `Tkinter.Label.`  e a IDE vai te mostrar 181 sugestões de atributos em uma única classe! Ou você pode utilizar a função  `help()`  para checar a origem de cada um deles."
   ]
  },
  {
   "cell_type": "code",
   "execution_count": 0,
   "metadata": {
    "colab": {
     "base_uri": "https://localhost:8080/",
     "height": 1000
    },
    "colab_type": "code",
    "id": "gWr1Fl2WuWst",
    "outputId": "7866bca7-01c3-454a-8d5b-0bb150778ee7"
   },
   "outputs": [
    {
     "name": "stdout",
     "output_type": "stream",
     "text": [
      "Help on class Label in module tkinter:\n",
      "\n",
      "class Label(Widget)\n",
      " |  Label widget which can display text and bitmaps.\n",
      " |  \n",
      " |  Method resolution order:\n",
      " |      Label\n",
      " |      Widget\n",
      " |      BaseWidget\n",
      " |      Misc\n",
      " |      Pack\n",
      " |      Place\n",
      " |      Grid\n",
      " |      builtins.object\n",
      " |  \n",
      " |  Methods defined here:\n",
      " |  \n",
      " |  __init__(self, master=None, cnf={}, **kw)\n",
      " |      Construct a label widget with the parent MASTER.\n",
      " |      \n",
      " |      STANDARD OPTIONS\n",
      " |      \n",
      " |          activebackground, activeforeground, anchor,\n",
      " |          background, bitmap, borderwidth, cursor,\n",
      " |          disabledforeground, font, foreground,\n",
      " |          highlightbackground, highlightcolor,\n",
      " |          highlightthickness, image, justify,\n",
      " |          padx, pady, relief, takefocus, text,\n",
      " |          textvariable, underline, wraplength\n",
      " |      \n",
      " |      WIDGET-SPECIFIC OPTIONS\n",
      " |      \n",
      " |          height, state, width\n",
      " |  \n",
      " |  ----------------------------------------------------------------------\n",
      " |  Methods inherited from BaseWidget:\n",
      " |  \n",
      " |  destroy(self)\n",
      " |      Destroy this and all descendants widgets.\n",
      " |  \n",
      " |  ----------------------------------------------------------------------\n",
      " |  Methods inherited from Misc:\n",
      " |  \n",
      " |  __getitem__ = cget(self, key)\n",
      " |  \n",
      " |  __repr__(self)\n",
      " |      Return repr(self).\n",
      " |  \n",
      " |  __setitem__(self, key, value)\n",
      " |  \n",
      " |  __str__(self)\n",
      " |      Return the window path name of this widget.\n",
      " |  \n",
      " |  after(self, ms, func=None, *args)\n",
      " |      Call function once after given time.\n",
      " |      \n",
      " |      MS specifies the time in milliseconds. FUNC gives the\n",
      " |      function which shall be called. Additional parameters\n",
      " |      are given as parameters to the function call.  Return\n",
      " |      identifier to cancel scheduling with after_cancel.\n",
      " |  \n",
      " |  after_cancel(self, id)\n",
      " |      Cancel scheduling of function identified with ID.\n",
      " |      \n",
      " |      Identifier returned by after or after_idle must be\n",
      " |      given as first parameter.\n",
      " |  \n",
      " |  after_idle(self, func, *args)\n",
      " |      Call FUNC once if the Tcl main loop has no event to\n",
      " |      process.\n",
      " |      \n",
      " |      Return an identifier to cancel the scheduling with\n",
      " |      after_cancel.\n",
      " |  \n",
      " |  anchor = grid_anchor(self, anchor=None)\n",
      " |  \n",
      " |  bbox = grid_bbox(self, column=None, row=None, col2=None, row2=None)\n",
      " |  \n",
      " |  bell(self, displayof=0)\n",
      " |      Ring a display's bell.\n",
      " |  \n",
      " |  bind(self, sequence=None, func=None, add=None)\n",
      " |      Bind to this widget at event SEQUENCE a call to function FUNC.\n",
      " |      \n",
      " |      SEQUENCE is a string of concatenated event\n",
      " |      patterns. An event pattern is of the form\n",
      " |      <MODIFIER-MODIFIER-TYPE-DETAIL> where MODIFIER is one\n",
      " |      of Control, Mod2, M2, Shift, Mod3, M3, Lock, Mod4, M4,\n",
      " |      Button1, B1, Mod5, M5 Button2, B2, Meta, M, Button3,\n",
      " |      B3, Alt, Button4, B4, Double, Button5, B5 Triple,\n",
      " |      Mod1, M1. TYPE is one of Activate, Enter, Map,\n",
      " |      ButtonPress, Button, Expose, Motion, ButtonRelease\n",
      " |      FocusIn, MouseWheel, Circulate, FocusOut, Property,\n",
      " |      Colormap, Gravity Reparent, Configure, KeyPress, Key,\n",
      " |      Unmap, Deactivate, KeyRelease Visibility, Destroy,\n",
      " |      Leave and DETAIL is the button number for ButtonPress,\n",
      " |      ButtonRelease and DETAIL is the Keysym for KeyPress and\n",
      " |      KeyRelease. Examples are\n",
      " |      <Control-Button-1> for pressing Control and mouse button 1 or\n",
      " |      <Alt-A> for pressing A and the Alt key (KeyPress can be omitted).\n",
      " |      An event pattern can also be a virtual event of the form\n",
      " |      <<AString>> where AString can be arbitrary. This\n",
      " |      event can be generated by event_generate.\n",
      " |      If events are concatenated they must appear shortly\n",
      " |      after each other.\n",
      " |      \n",
      " |      FUNC will be called if the event sequence occurs with an\n",
      " |      instance of Event as argument. If the return value of FUNC is\n",
      " |      \"break\" no further bound function is invoked.\n",
      " |      \n",
      " |      An additional boolean parameter ADD specifies whether FUNC will\n",
      " |      be called additionally to the other bound function or whether\n",
      " |      it will replace the previous function.\n",
      " |      \n",
      " |      Bind will return an identifier to allow deletion of the bound function with\n",
      " |      unbind without memory leak.\n",
      " |      \n",
      " |      If FUNC or SEQUENCE is omitted the bound function or list\n",
      " |      of bound events are returned.\n",
      " |  \n",
      " |  bind_all(self, sequence=None, func=None, add=None)\n",
      " |      Bind to all widgets at an event SEQUENCE a call to function FUNC.\n",
      " |      An additional boolean parameter ADD specifies whether FUNC will\n",
      " |      be called additionally to the other bound function or whether\n",
      " |      it will replace the previous function. See bind for the return value.\n",
      " |  \n",
      " |  bind_class(self, className, sequence=None, func=None, add=None)\n",
      " |      Bind to widgets with bindtag CLASSNAME at event\n",
      " |      SEQUENCE a call of function FUNC. An additional\n",
      " |      boolean parameter ADD specifies whether FUNC will be\n",
      " |      called additionally to the other bound function or\n",
      " |      whether it will replace the previous function. See bind for\n",
      " |      the return value.\n",
      " |  \n",
      " |  bindtags(self, tagList=None)\n",
      " |      Set or get the list of bindtags for this widget.\n",
      " |      \n",
      " |      With no argument return the list of all bindtags associated with\n",
      " |      this widget. With a list of strings as argument the bindtags are\n",
      " |      set to this list. The bindtags determine in which order events are\n",
      " |      processed (see bind).\n",
      " |  \n",
      " |  cget(self, key)\n",
      " |      Return the resource value for a KEY given as string.\n",
      " |  \n",
      " |  clipboard_append(self, string, **kw)\n",
      " |      Append STRING to the Tk clipboard.\n",
      " |      \n",
      " |      A widget specified at the optional displayof keyword\n",
      " |      argument specifies the target display. The clipboard\n",
      " |      can be retrieved with selection_get.\n",
      " |  \n",
      " |  clipboard_clear(self, **kw)\n",
      " |      Clear the data in the Tk clipboard.\n",
      " |      \n",
      " |      A widget specified for the optional displayof keyword\n",
      " |      argument specifies the target display.\n",
      " |  \n",
      " |  clipboard_get(self, **kw)\n",
      " |      Retrieve data from the clipboard on window's display.\n",
      " |      \n",
      " |      The window keyword defaults to the root window of the Tkinter\n",
      " |      application.\n",
      " |      \n",
      " |      The type keyword specifies the form in which the data is\n",
      " |      to be returned and should be an atom name such as STRING\n",
      " |      or FILE_NAME.  Type defaults to STRING, except on X11, where the default\n",
      " |      is to try UTF8_STRING and fall back to STRING.\n",
      " |      \n",
      " |      This command is equivalent to:\n",
      " |      \n",
      " |      selection_get(CLIPBOARD)\n",
      " |  \n",
      " |  columnconfigure = grid_columnconfigure(self, index, cnf={}, **kw)\n",
      " |  \n",
      " |  config = configure(self, cnf=None, **kw)\n",
      " |  \n",
      " |  configure(self, cnf=None, **kw)\n",
      " |      Configure resources of a widget.\n",
      " |      \n",
      " |      The values for resources are specified as keyword\n",
      " |      arguments. To get an overview about\n",
      " |      the allowed keyword arguments call the method keys.\n",
      " |  \n",
      " |  deletecommand(self, name)\n",
      " |      Internal function.\n",
      " |      \n",
      " |      Delete the Tcl command provided in NAME.\n",
      " |  \n",
      " |  event_add(self, virtual, *sequences)\n",
      " |      Bind a virtual event VIRTUAL (of the form <<Name>>)\n",
      " |      to an event SEQUENCE such that the virtual event is triggered\n",
      " |      whenever SEQUENCE occurs.\n",
      " |  \n",
      " |  event_delete(self, virtual, *sequences)\n",
      " |      Unbind a virtual event VIRTUAL from SEQUENCE.\n",
      " |  \n",
      " |  event_generate(self, sequence, **kw)\n",
      " |      Generate an event SEQUENCE. Additional\n",
      " |      keyword arguments specify parameter of the event\n",
      " |      (e.g. x, y, rootx, rooty).\n",
      " |  \n",
      " |  event_info(self, virtual=None)\n",
      " |      Return a list of all virtual events or the information\n",
      " |      about the SEQUENCE bound to the virtual event VIRTUAL.\n",
      " |  \n",
      " |  focus = focus_set(self)\n",
      " |  \n",
      " |  focus_displayof(self)\n",
      " |      Return the widget which has currently the focus on the\n",
      " |      display where this widget is located.\n",
      " |      \n",
      " |      Return None if the application does not have the focus.\n",
      " |  \n",
      " |  focus_force(self)\n",
      " |      Direct input focus to this widget even if the\n",
      " |      application does not have the focus. Use with\n",
      " |      caution!\n",
      " |  \n",
      " |  focus_get(self)\n",
      " |      Return the widget which has currently the focus in the\n",
      " |      application.\n",
      " |      \n",
      " |      Use focus_displayof to allow working with several\n",
      " |      displays. Return None if application does not have\n",
      " |      the focus.\n",
      " |  \n",
      " |  focus_lastfor(self)\n",
      " |      Return the widget which would have the focus if top level\n",
      " |      for this widget gets the focus from the window manager.\n",
      " |  \n",
      " |  focus_set(self)\n",
      " |      Direct input focus to this widget.\n",
      " |      \n",
      " |      If the application currently does not have the focus\n",
      " |      this widget will get the focus if the application gets\n",
      " |      the focus through the window manager.\n",
      " |  \n",
      " |  getboolean(self, s)\n",
      " |      Return a boolean value for Tcl boolean values true and false given as parameter.\n",
      " |  \n",
      " |  getdouble(self, s)\n",
      " |  \n",
      " |  getint(self, s)\n",
      " |  \n",
      " |  getvar(self, name='PY_VAR')\n",
      " |      Return value of Tcl variable NAME.\n",
      " |  \n",
      " |  grab_current(self)\n",
      " |      Return widget which has currently the grab in this application\n",
      " |      or None.\n",
      " |  \n",
      " |  grab_release(self)\n",
      " |      Release grab for this widget if currently set.\n",
      " |  \n",
      " |  grab_set(self)\n",
      " |      Set grab for this widget.\n",
      " |      \n",
      " |      A grab directs all events to this and descendant\n",
      " |      widgets in the application.\n",
      " |  \n",
      " |  grab_set_global(self)\n",
      " |      Set global grab for this widget.\n",
      " |      \n",
      " |      A global grab directs all events to this and\n",
      " |      descendant widgets on the display. Use with caution -\n",
      " |      other applications do not get events anymore.\n",
      " |  \n",
      " |  grab_status(self)\n",
      " |      Return None, \"local\" or \"global\" if this widget has\n",
      " |      no, a local or a global grab.\n",
      " |  \n",
      " |  grid_anchor(self, anchor=None)\n",
      " |      The anchor value controls how to place the grid within the\n",
      " |      master when no row/column has any weight.\n",
      " |      \n",
      " |      The default anchor is nw.\n",
      " |  \n",
      " |  grid_bbox(self, column=None, row=None, col2=None, row2=None)\n",
      " |      Return a tuple of integer coordinates for the bounding\n",
      " |      box of this widget controlled by the geometry manager grid.\n",
      " |      \n",
      " |      If COLUMN, ROW is given the bounding box applies from\n",
      " |      the cell with row and column 0 to the specified\n",
      " |      cell. If COL2 and ROW2 are given the bounding box\n",
      " |      starts at that cell.\n",
      " |      \n",
      " |      The returned integers specify the offset of the upper left\n",
      " |      corner in the master widget and the width and height.\n",
      " |  \n",
      " |  grid_columnconfigure(self, index, cnf={}, **kw)\n",
      " |      Configure column INDEX of a grid.\n",
      " |      \n",
      " |      Valid resources are minsize (minimum size of the column),\n",
      " |      weight (how much does additional space propagate to this column)\n",
      " |      and pad (how much space to let additionally).\n",
      " |  \n",
      " |  grid_location(self, x, y)\n",
      " |      Return a tuple of column and row which identify the cell\n",
      " |      at which the pixel at position X and Y inside the master\n",
      " |      widget is located.\n",
      " |  \n",
      " |  grid_propagate(self, flag=['_noarg_'])\n",
      " |      Set or get the status for propagation of geometry information.\n",
      " |      \n",
      " |      A boolean argument specifies whether the geometry information\n",
      " |      of the slaves will determine the size of this widget. If no argument\n",
      " |      is given, the current setting will be returned.\n",
      " |  \n",
      " |  grid_rowconfigure(self, index, cnf={}, **kw)\n",
      " |      Configure row INDEX of a grid.\n",
      " |      \n",
      " |      Valid resources are minsize (minimum size of the row),\n",
      " |      weight (how much does additional space propagate to this row)\n",
      " |      and pad (how much space to let additionally).\n",
      " |  \n",
      " |  grid_size(self)\n",
      " |      Return a tuple of the number of column and rows in the grid.\n",
      " |  \n",
      " |  grid_slaves(self, row=None, column=None)\n",
      " |      Return a list of all slaves of this widget\n",
      " |      in its packing order.\n",
      " |  \n",
      " |  image_names(self)\n",
      " |      Return a list of all existing image names.\n",
      " |  \n",
      " |  image_types(self)\n",
      " |      Return a list of all available image types (e.g. photo bitmap).\n",
      " |  \n",
      " |  keys(self)\n",
      " |      Return a list of all resource names of this widget.\n",
      " |  \n",
      " |  lift = tkraise(self, aboveThis=None)\n",
      " |  \n",
      " |  lower(self, belowThis=None)\n",
      " |      Lower this widget in the stacking order.\n",
      " |  \n",
      " |  mainloop(self, n=0)\n",
      " |      Call the mainloop of Tk.\n",
      " |  \n",
      " |  nametowidget(self, name)\n",
      " |      Return the Tkinter instance of a widget identified by\n",
      " |      its Tcl name NAME.\n",
      " |  \n",
      " |  option_add(self, pattern, value, priority=None)\n",
      " |      Set a VALUE (second parameter) for an option\n",
      " |      PATTERN (first parameter).\n",
      " |      \n",
      " |      An optional third parameter gives the numeric priority\n",
      " |      (defaults to 80).\n",
      " |  \n",
      " |  option_clear(self)\n",
      " |      Clear the option database.\n",
      " |      \n",
      " |      It will be reloaded if option_add is called.\n",
      " |  \n",
      " |  option_get(self, name, className)\n",
      " |      Return the value for an option NAME for this widget\n",
      " |      with CLASSNAME.\n",
      " |      \n",
      " |      Values with higher priority override lower values.\n",
      " |  \n",
      " |  option_readfile(self, fileName, priority=None)\n",
      " |      Read file FILENAME into the option database.\n",
      " |      \n",
      " |      An optional second parameter gives the numeric\n",
      " |      priority.\n",
      " |  \n",
      " |  pack_propagate(self, flag=['_noarg_'])\n",
      " |      Set or get the status for propagation of geometry information.\n",
      " |      \n",
      " |      A boolean argument specifies whether the geometry information\n",
      " |      of the slaves will determine the size of this widget. If no argument\n",
      " |      is given the current setting will be returned.\n",
      " |  \n",
      " |  pack_slaves(self)\n",
      " |      Return a list of all slaves of this widget\n",
      " |      in its packing order.\n",
      " |  \n",
      " |  place_slaves(self)\n",
      " |      Return a list of all slaves of this widget\n",
      " |      in its packing order.\n",
      " |  \n",
      " |  propagate = pack_propagate(self, flag=['_noarg_'])\n",
      " |  \n",
      " |  quit(self)\n",
      " |      Quit the Tcl interpreter. All widgets will be destroyed.\n",
      " |  \n",
      " |  register = _register(self, func, subst=None, needcleanup=1)\n",
      " |  \n",
      " |  rowconfigure = grid_rowconfigure(self, index, cnf={}, **kw)\n",
      " |  \n",
      " |  selection_clear(self, **kw)\n",
      " |      Clear the current X selection.\n",
      " |  \n",
      " |  selection_get(self, **kw)\n",
      " |      Return the contents of the current X selection.\n",
      " |      \n",
      " |      A keyword parameter selection specifies the name of\n",
      " |      the selection and defaults to PRIMARY.  A keyword\n",
      " |      parameter displayof specifies a widget on the display\n",
      " |      to use. A keyword parameter type specifies the form of data to be\n",
      " |      fetched, defaulting to STRING except on X11, where UTF8_STRING is tried\n",
      " |      before STRING.\n",
      " |  \n",
      " |  selection_handle(self, command, **kw)\n",
      " |      Specify a function COMMAND to call if the X\n",
      " |      selection owned by this widget is queried by another\n",
      " |      application.\n",
      " |      \n",
      " |      This function must return the contents of the\n",
      " |      selection. The function will be called with the\n",
      " |      arguments OFFSET and LENGTH which allows the chunking\n",
      " |      of very long selections. The following keyword\n",
      " |      parameters can be provided:\n",
      " |      selection - name of the selection (default PRIMARY),\n",
      " |      type - type of the selection (e.g. STRING, FILE_NAME).\n",
      " |  \n",
      " |  selection_own(self, **kw)\n",
      " |      Become owner of X selection.\n",
      " |      \n",
      " |      A keyword parameter selection specifies the name of\n",
      " |      the selection (default PRIMARY).\n",
      " |  \n",
      " |  selection_own_get(self, **kw)\n",
      " |      Return owner of X selection.\n",
      " |      \n",
      " |      The following keyword parameter can\n",
      " |      be provided:\n",
      " |      selection - name of the selection (default PRIMARY),\n",
      " |      type - type of the selection (e.g. STRING, FILE_NAME).\n",
      " |  \n",
      " |  send(self, interp, cmd, *args)\n",
      " |      Send Tcl command CMD to different interpreter INTERP to be executed.\n",
      " |  \n",
      " |  setvar(self, name='PY_VAR', value='1')\n",
      " |      Set Tcl variable NAME to VALUE.\n",
      " |  \n",
      " |  size = grid_size(self)\n",
      " |  \n",
      " |  slaves = pack_slaves(self)\n",
      " |  \n",
      " |  tk_bisque(self)\n",
      " |      Change the color scheme to light brown as used in Tk 3.6 and before.\n",
      " |  \n",
      " |  tk_focusFollowsMouse(self)\n",
      " |      The widget under mouse will get automatically focus. Can not\n",
      " |      be disabled easily.\n",
      " |  \n",
      " |  tk_focusNext(self)\n",
      " |      Return the next widget in the focus order which follows\n",
      " |      widget which has currently the focus.\n",
      " |      \n",
      " |      The focus order first goes to the next child, then to\n",
      " |      the children of the child recursively and then to the\n",
      " |      next sibling which is higher in the stacking order.  A\n",
      " |      widget is omitted if it has the takefocus resource set\n",
      " |      to 0.\n",
      " |  \n",
      " |  tk_focusPrev(self)\n",
      " |      Return previous widget in the focus order. See tk_focusNext for details.\n",
      " |  \n",
      " |  tk_setPalette(self, *args, **kw)\n",
      " |      Set a new color scheme for all widget elements.\n",
      " |      \n",
      " |      A single color as argument will cause that all colors of Tk\n",
      " |      widget elements are derived from this.\n",
      " |      Alternatively several keyword parameters and its associated\n",
      " |      colors can be given. The following keywords are valid:\n",
      " |      activeBackground, foreground, selectColor,\n",
      " |      activeForeground, highlightBackground, selectBackground,\n",
      " |      background, highlightColor, selectForeground,\n",
      " |      disabledForeground, insertBackground, troughColor.\n",
      " |  \n",
      " |  tk_strictMotif(self, boolean=None)\n",
      " |      Set Tcl internal variable, whether the look and feel\n",
      " |      should adhere to Motif.\n",
      " |      \n",
      " |      A parameter of 1 means adhere to Motif (e.g. no color\n",
      " |      change if mouse passes over slider).\n",
      " |      Returns the set value.\n",
      " |  \n",
      " |  tkraise(self, aboveThis=None)\n",
      " |      Raise this widget in the stacking order.\n",
      " |  \n",
      " |  unbind(self, sequence, funcid=None)\n",
      " |      Unbind for this widget for event SEQUENCE  the\n",
      " |      function identified with FUNCID.\n",
      " |  \n",
      " |  unbind_all(self, sequence)\n",
      " |      Unbind for all widgets for event SEQUENCE all functions.\n",
      " |  \n",
      " |  unbind_class(self, className, sequence)\n",
      " |      Unbind for all widgets with bindtag CLASSNAME for event SEQUENCE\n",
      " |      all functions.\n",
      " |  \n",
      " |  update(self)\n",
      " |      Enter event loop until all pending events have been processed by Tcl.\n",
      " |  \n",
      " |  update_idletasks(self)\n",
      " |      Enter event loop until all idle callbacks have been called. This\n",
      " |      will update the display of windows but not process events caused by\n",
      " |      the user.\n",
      " |  \n",
      " |  wait_variable(self, name='PY_VAR')\n",
      " |      Wait until the variable is modified.\n",
      " |      \n",
      " |      A parameter of type IntVar, StringVar, DoubleVar or\n",
      " |      BooleanVar must be given.\n",
      " |  \n",
      " |  wait_visibility(self, window=None)\n",
      " |      Wait until the visibility of a WIDGET changes\n",
      " |      (e.g. it appears).\n",
      " |      \n",
      " |      If no parameter is given self is used.\n",
      " |  \n",
      " |  wait_window(self, window=None)\n",
      " |      Wait until a WIDGET is destroyed.\n",
      " |      \n",
      " |      If no parameter is given self is used.\n",
      " |  \n",
      " |  waitvar = wait_variable(self, name='PY_VAR')\n",
      " |  \n",
      " |  winfo_atom(self, name, displayof=0)\n",
      " |      Return integer which represents atom NAME.\n",
      " |  \n",
      " |  winfo_atomname(self, id, displayof=0)\n",
      " |      Return name of atom with identifier ID.\n",
      " |  \n",
      " |  winfo_cells(self)\n",
      " |      Return number of cells in the colormap for this widget.\n",
      " |  \n",
      " |  winfo_children(self)\n",
      " |      Return a list of all widgets which are children of this widget.\n",
      " |  \n",
      " |  winfo_class(self)\n",
      " |      Return window class name of this widget.\n",
      " |  \n",
      " |  winfo_colormapfull(self)\n",
      " |      Return true if at the last color request the colormap was full.\n",
      " |  \n",
      " |  winfo_containing(self, rootX, rootY, displayof=0)\n",
      " |      Return the widget which is at the root coordinates ROOTX, ROOTY.\n",
      " |  \n",
      " |  winfo_depth(self)\n",
      " |      Return the number of bits per pixel.\n",
      " |  \n",
      " |  winfo_exists(self)\n",
      " |      Return true if this widget exists.\n",
      " |  \n",
      " |  winfo_fpixels(self, number)\n",
      " |      Return the number of pixels for the given distance NUMBER\n",
      " |      (e.g. \"3c\") as float.\n",
      " |  \n",
      " |  winfo_geometry(self)\n",
      " |      Return geometry string for this widget in the form \"widthxheight+X+Y\".\n",
      " |  \n",
      " |  winfo_height(self)\n",
      " |      Return height of this widget.\n",
      " |  \n",
      " |  winfo_id(self)\n",
      " |      Return identifier ID for this widget.\n",
      " |  \n",
      " |  winfo_interps(self, displayof=0)\n",
      " |      Return the name of all Tcl interpreters for this display.\n",
      " |  \n",
      " |  winfo_ismapped(self)\n",
      " |      Return true if this widget is mapped.\n",
      " |  \n",
      " |  winfo_manager(self)\n",
      " |      Return the window manager name for this widget.\n",
      " |  \n",
      " |  winfo_name(self)\n",
      " |      Return the name of this widget.\n",
      " |  \n",
      " |  winfo_parent(self)\n",
      " |      Return the name of the parent of this widget.\n",
      " |  \n",
      " |  winfo_pathname(self, id, displayof=0)\n",
      " |      Return the pathname of the widget given by ID.\n",
      " |  \n",
      " |  winfo_pixels(self, number)\n",
      " |      Rounded integer value of winfo_fpixels.\n",
      " |  \n",
      " |  winfo_pointerx(self)\n",
      " |      Return the x coordinate of the pointer on the root window.\n",
      " |  \n",
      " |  winfo_pointerxy(self)\n",
      " |      Return a tuple of x and y coordinates of the pointer on the root window.\n",
      " |  \n",
      " |  winfo_pointery(self)\n",
      " |      Return the y coordinate of the pointer on the root window.\n",
      " |  \n",
      " |  winfo_reqheight(self)\n",
      " |      Return requested height of this widget.\n",
      " |  \n",
      " |  winfo_reqwidth(self)\n",
      " |      Return requested width of this widget.\n",
      " |  \n",
      " |  winfo_rgb(self, color)\n",
      " |      Return tuple of decimal values for red, green, blue for\n",
      " |      COLOR in this widget.\n",
      " |  \n",
      " |  winfo_rootx(self)\n",
      " |      Return x coordinate of upper left corner of this widget on the\n",
      " |      root window.\n",
      " |  \n",
      " |  winfo_rooty(self)\n",
      " |      Return y coordinate of upper left corner of this widget on the\n",
      " |      root window.\n",
      " |  \n",
      " |  winfo_screen(self)\n",
      " |      Return the screen name of this widget.\n",
      " |  \n",
      " |  winfo_screencells(self)\n",
      " |      Return the number of the cells in the colormap of the screen\n",
      " |      of this widget.\n",
      " |  \n",
      " |  winfo_screendepth(self)\n",
      " |      Return the number of bits per pixel of the root window of the\n",
      " |      screen of this widget.\n",
      " |  \n",
      " |  winfo_screenheight(self)\n",
      " |      Return the number of pixels of the height of the screen of this widget\n",
      " |      in pixel.\n",
      " |  \n",
      " |  winfo_screenmmheight(self)\n",
      " |      Return the number of pixels of the height of the screen of\n",
      " |      this widget in mm.\n",
      " |  \n",
      " |  winfo_screenmmwidth(self)\n",
      " |      Return the number of pixels of the width of the screen of\n",
      " |      this widget in mm.\n",
      " |  \n",
      " |  winfo_screenvisual(self)\n",
      " |      Return one of the strings directcolor, grayscale, pseudocolor,\n",
      " |      staticcolor, staticgray, or truecolor for the default\n",
      " |      colormodel of this screen.\n",
      " |  \n",
      " |  winfo_screenwidth(self)\n",
      " |      Return the number of pixels of the width of the screen of\n",
      " |      this widget in pixel.\n",
      " |  \n",
      " |  winfo_server(self)\n",
      " |      Return information of the X-Server of the screen of this widget in\n",
      " |      the form \"XmajorRminor vendor vendorVersion\".\n",
      " |  \n",
      " |  winfo_toplevel(self)\n",
      " |      Return the toplevel widget of this widget.\n",
      " |  \n",
      " |  winfo_viewable(self)\n",
      " |      Return true if the widget and all its higher ancestors are mapped.\n",
      " |  \n",
      " |  winfo_visual(self)\n",
      " |      Return one of the strings directcolor, grayscale, pseudocolor,\n",
      " |      staticcolor, staticgray, or truecolor for the\n",
      " |      colormodel of this widget.\n",
      " |  \n",
      " |  winfo_visualid(self)\n",
      " |      Return the X identifier for the visual for this widget.\n",
      " |  \n",
      " |  winfo_visualsavailable(self, includeids=False)\n",
      " |      Return a list of all visuals available for the screen\n",
      " |      of this widget.\n",
      " |      \n",
      " |      Each item in the list consists of a visual name (see winfo_visual), a\n",
      " |      depth and if includeids is true is given also the X identifier.\n",
      " |  \n",
      " |  winfo_vrootheight(self)\n",
      " |      Return the height of the virtual root window associated with this\n",
      " |      widget in pixels. If there is no virtual root window return the\n",
      " |      height of the screen.\n",
      " |  \n",
      " |  winfo_vrootwidth(self)\n",
      " |      Return the width of the virtual root window associated with this\n",
      " |      widget in pixel. If there is no virtual root window return the\n",
      " |      width of the screen.\n",
      " |  \n",
      " |  winfo_vrootx(self)\n",
      " |      Return the x offset of the virtual root relative to the root\n",
      " |      window of the screen of this widget.\n",
      " |  \n",
      " |  winfo_vrooty(self)\n",
      " |      Return the y offset of the virtual root relative to the root\n",
      " |      window of the screen of this widget.\n",
      " |  \n",
      " |  winfo_width(self)\n",
      " |      Return the width of this widget.\n",
      " |  \n",
      " |  winfo_x(self)\n",
      " |      Return the x coordinate of the upper left corner of this widget\n",
      " |      in the parent.\n",
      " |  \n",
      " |  winfo_y(self)\n",
      " |      Return the y coordinate of the upper left corner of this widget\n",
      " |      in the parent.\n",
      " |  \n",
      " |  ----------------------------------------------------------------------\n",
      " |  Data descriptors inherited from Misc:\n",
      " |  \n",
      " |  __dict__\n",
      " |      dictionary for instance variables (if defined)\n",
      " |  \n",
      " |  __weakref__\n",
      " |      list of weak references to the object (if defined)\n",
      " |  \n",
      " |  ----------------------------------------------------------------------\n",
      " |  Methods inherited from Pack:\n",
      " |  \n",
      " |  forget = pack_forget(self)\n",
      " |  \n",
      " |  info = pack_info(self)\n",
      " |  \n",
      " |  pack = pack_configure(self, cnf={}, **kw)\n",
      " |  \n",
      " |  pack_configure(self, cnf={}, **kw)\n",
      " |      Pack a widget in the parent widget. Use as options:\n",
      " |      after=widget - pack it after you have packed widget\n",
      " |      anchor=NSEW (or subset) - position widget according to\n",
      " |                                given direction\n",
      " |      before=widget - pack it before you will pack widget\n",
      " |      expand=bool - expand widget if parent size grows\n",
      " |      fill=NONE or X or Y or BOTH - fill widget if widget grows\n",
      " |      in=master - use master to contain this widget\n",
      " |      in_=master - see 'in' option description\n",
      " |      ipadx=amount - add internal padding in x direction\n",
      " |      ipady=amount - add internal padding in y direction\n",
      " |      padx=amount - add padding in x direction\n",
      " |      pady=amount - add padding in y direction\n",
      " |      side=TOP or BOTTOM or LEFT or RIGHT -  where to add this widget.\n",
      " |  \n",
      " |  pack_forget(self)\n",
      " |      Unmap this widget and do not use it for the packing order.\n",
      " |  \n",
      " |  pack_info(self)\n",
      " |      Return information about the packing options\n",
      " |      for this widget.\n",
      " |  \n",
      " |  ----------------------------------------------------------------------\n",
      " |  Methods inherited from Place:\n",
      " |  \n",
      " |  place = place_configure(self, cnf={}, **kw)\n",
      " |  \n",
      " |  place_configure(self, cnf={}, **kw)\n",
      " |      Place a widget in the parent widget. Use as options:\n",
      " |      in=master - master relative to which the widget is placed\n",
      " |      in_=master - see 'in' option description\n",
      " |      x=amount - locate anchor of this widget at position x of master\n",
      " |      y=amount - locate anchor of this widget at position y of master\n",
      " |      relx=amount - locate anchor of this widget between 0.0 and 1.0\n",
      " |                    relative to width of master (1.0 is right edge)\n",
      " |      rely=amount - locate anchor of this widget between 0.0 and 1.0\n",
      " |                    relative to height of master (1.0 is bottom edge)\n",
      " |      anchor=NSEW (or subset) - position anchor according to given direction\n",
      " |      width=amount - width of this widget in pixel\n",
      " |      height=amount - height of this widget in pixel\n",
      " |      relwidth=amount - width of this widget between 0.0 and 1.0\n",
      " |                        relative to width of master (1.0 is the same width\n",
      " |                        as the master)\n",
      " |      relheight=amount - height of this widget between 0.0 and 1.0\n",
      " |                         relative to height of master (1.0 is the same\n",
      " |                         height as the master)\n",
      " |      bordermode=\"inside\" or \"outside\" - whether to take border width of\n",
      " |                                         master widget into account\n",
      " |  \n",
      " |  place_forget(self)\n",
      " |      Unmap this widget.\n",
      " |  \n",
      " |  place_info(self)\n",
      " |      Return information about the placing options\n",
      " |      for this widget.\n",
      " |  \n",
      " |  ----------------------------------------------------------------------\n",
      " |  Methods inherited from Grid:\n",
      " |  \n",
      " |  grid = grid_configure(self, cnf={}, **kw)\n",
      " |  \n",
      " |  grid_configure(self, cnf={}, **kw)\n",
      " |      Position a widget in the parent widget in a grid. Use as options:\n",
      " |      column=number - use cell identified with given column (starting with 0)\n",
      " |      columnspan=number - this widget will span several columns\n",
      " |      in=master - use master to contain this widget\n",
      " |      in_=master - see 'in' option description\n",
      " |      ipadx=amount - add internal padding in x direction\n",
      " |      ipady=amount - add internal padding in y direction\n",
      " |      padx=amount - add padding in x direction\n",
      " |      pady=amount - add padding in y direction\n",
      " |      row=number - use cell identified with given row (starting with 0)\n",
      " |      rowspan=number - this widget will span several rows\n",
      " |      sticky=NSEW - if cell is larger on which sides will this\n",
      " |                    widget stick to the cell boundary\n",
      " |  \n",
      " |  grid_forget(self)\n",
      " |      Unmap this widget.\n",
      " |  \n",
      " |  grid_info(self)\n",
      " |      Return information about the options\n",
      " |      for positioning this widget in a grid.\n",
      " |  \n",
      " |  grid_remove(self)\n",
      " |      Unmap this widget but remember the grid options.\n",
      " |  \n",
      " |  location = grid_location(self, x, y)\n",
      "\n"
     ]
    }
   ],
   "source": [
    "from tkinter import *\n",
    "help(Label)\n"
   ]
  },
  {
   "cell_type": "markdown",
   "metadata": {
    "colab_type": "text",
    "id": "F1vnEs7cud9P"
   },
   "source": [
    "Esse pacote tem mais de 20 anos e é um exemplo de como a herança múltipla era utilizada quando os programadores  não  consideravam  suas  desvantagens.  Apesar  da  maioria  das  classes  se  comportarem como mix-ins, o padrão  de nomenclatura  não era utilizado.  Felizmente, o   `Tkinter` é  um  framework estável."
   ]
  },
  {
   "cell_type": "markdown",
   "metadata": {
    "colab_type": "text",
    "id": "O61Ni4k8uqbu"
   },
   "source": [
    "### 10.4 (OPCIONAL) EXERCÍCIOS - MIX-INS\n",
    "1.  Nosso banco precisa tributar dinheiro de alguns bens que nossos clientes possuem. Para isso vamos criar uma classe  `Tributavel`:\n",
    "        class Tributavel:\n",
    "            def get_valor_imposto(self):\n",
    "            pass\n",
    "Lemos essa classe da seguinte maneira: \"Todos que quiserem ser tributável precisam saber retornar o\n",
    "valor do imposto\".  Alguns bens  são tributáveis e  outros não,   `ContaPoupanca`   não  é  tributável,  já\n",
    "para  `ContaCorrente`  você precisa pagar `1%` da conta e o   `SeguroDeVida`  tem uma faixa fixa de `50`\n",
    "reais mais `5%` do valor do seguro.\n",
    "\n",
    "2.  Torne a classe  `Tributavel` um mix-in:\n",
    "        class TributavelMixIn:\n",
    "            def get_valor_imposto(self)\n",
    "            pass\n",
    "\n",
    "3.  Faça a classe  `ContaCorrente`  herdar da classe  `TributavelMixIn`. Crie a classe  `SeguroDeVida`:\n",
    "        class ContaCorrente(Conta, TributavelMixIn):\n",
    "            # código omitido\n",
    "            def get_valor_imposto(self):\n",
    "                return self._saldo * 0.01\n",
    "        class SeguroDeVida(TributavelMixIn):\n",
    "            def __init__(self, valor, titular, numero_apolice):\n",
    "                self._valor = valor\n",
    "                self._titular = titular\n",
    "                self._numero_apolice = numero_apolice\n",
    "                def get_valor_imposto(self):\n",
    "                return 42 + self._valor * 0.05\n",
    "4.  Vamos criar a classe   `ManipuladorDeTributaveis`  em um arquivo chamado `manipulador.py`. Essa\n",
    "classe  deve  ter  um  método  chamado   `calcula_imposto()`   que  recebe  umas  lista  de  tributáveis  e\n",
    "retorna o total de impostos cobrados:\n",
    "        class ManipuladorDeTributaveis:\n",
    "            def calcula_impostos(self, lista_tributaveis):\n",
    "            total = 0\n",
    "            for t in lista_tributaveis:\n",
    "                total += t.get_valor_imposto()\n",
    "            return total\n",
    "\n",
    "5.  Ainda no arquivo  `manipulador.py` , vamos testar o código. Crie alguns objetos de  `ContaCorrente` \n",
    "e de   `SeguroDeVida`. Em seguida, crie uma lista de tributáveis e insira seus objetos nela. Instancie um   `ManipuladorDeTributaveis`   e  chame  o  método   `calcula_impostos()`   passando  a  lista  de\n",
    "tributáveis criada e imprima o valor total dos impostos:\n",
    "\n",
    "        from conta import ContaCorrente, SeguroDeVida, TributavelMixIn\n",
    "        cc1 = ContaCorrente('123-4', 'João', 1000.0)\n",
    "        cc2 = ContaCorrente('123-4', 'José', 1000.0)\n",
    "        seguro1 = SeguroDeVida(100.0, 'José', '345-77')\n",
    "        seguro2 = SeguroDeVida(200.0, 'Maria', '237-98')\n",
    "        lista_tributaveis = []\n",
    "        lista_tributaveis.append(cc1)\n",
    "        lista_tributaveis.append(cc2)\n",
    "        lista_tributaveis.append(seguro1)\n",
    "        lista_tributaveis.append(seguro2)\n",
    "        manipulador = ManipuladorDeTributaveis()\n",
    "        total = manipulador.calcula_impostos(lista_tributaveis)\n",
    "        print(total)\n",
    "Vimos que herança múltipla pode ser perigosa e se nosso sistema crescer pode gerar muita confusão e  conflito  de  nomes  de  métodos.  Uma  maneira  mais  eficaz  nestes  casos  é  usar  classes  abstratas  como\n",
    "interfaces que veremos a seguir."
   ]
  },
  {
   "cell_type": "markdown",
   "metadata": {
    "colab_type": "text",
    "id": "uNqJNfQHwkzb"
   },
   "source": [
    "### 10.5 INTEFACES\n",
    "O  Python  não  possui  uma  palavra  reservada  interface.  Mesmo  sem  uma  palavra  reservada  para\n",
    "interface toda classe  tem uma  interface. São os  atributos públicos  definidos (que em  Python são tanto\n",
    "atributos  quanto  métodos)  em  uma  classe  -  isso  inclui  os  métodos  especiais  como   `__str__()` e\n",
    " `__add__()`.\n",
    "\n",
    "Uma  interface  vista  como  um  conjunto  de  métodos  para  desempenhar  um  papel  é  o  que  os programadores da SmallTalk chamavam de protocolo e este termo foi disseminado em comunidades de programadores de linguagens dinâmicas. Esse protocolo funciona como um contrato.\n",
    "\n",
    "Os protocolos são independentes de herança. Uma classe pode implementar vários protocolos, como os  mix-ins.  Protocolos  são  interfaces  e  são  definidos  apenas  por  documentação  e  convenções  em linguagens  dinâmicas,  por  isso  são  considerados  informais.  Os  protocolos  não  podem  ser  verificados estaticamente pelo interpretador.\n",
    "\n",
    "O método  `__str__()`, por exemplo, é esperado que retorne uma representação do objeto em forma de `string` . Nada impede de fazermos outras coisas dentro do método como deletar algum conteúdo, fazer algum cálculo, etc... ao invés de retornarmos apenas a `string`. Mas há um entendimento prévio comum do que este método deve fazer e está presente na documentação do Python. Este é um exemplo\n",
    "onde  o  contrato  semântico  é  descrito  em  um  manual.  Algumas  linguagens  de  tipagem  estática,  como\n",
    "Java,  possuem  interfaces  em  sua  biblioteca  padrão  e  podem  garantir  este  contrato  em  tempo  de compilação.\n",
    "\n",
    "A  partir  do  Python  2.6  a  definição  de  interfaces  utilizando  o  módulo  `ABC`  é  uma  solução  mais\n",
    "elegante do que os mix-ins. Nossa classe   Autenticavel   pode  ser  uma  classe  abstrata  com  o  método\n",
    "abstrato  `autentica()`:"
   ]
  },
  {
   "cell_type": "code",
   "execution_count": 0,
   "metadata": {
    "colab": {},
    "colab_type": "code",
    "id": "MF-Xw38SuXMG"
   },
   "outputs": [],
   "source": [
    "import abc\n",
    "class Autenticavel(abc.ABC):\n",
    "    @abc.abstractmethod\n",
    "    def autentica(self, senha):\n",
    "        pass"
   ]
  },
  {
   "cell_type": "markdown",
   "metadata": {
    "colab_type": "text",
    "id": "diN8C4QJxG3I"
   },
   "source": [
    "Como  se  trata  de  uma  interface  em  uma  linguagem  de  tipagem  dinâmica  como  o  Python,  a  boa\n",
    "prática é documentar esta classe garantindo o contrato semântico:"
   ]
  },
  {
   "cell_type": "code",
   "execution_count": 0,
   "metadata": {
    "colab": {},
    "colab_type": "code",
    "id": "adQeT26mxJsC"
   },
   "outputs": [],
   "source": [
    "import abc\n",
    "class Autenticavel(abc.ABC):\n",
    "    \"\"\"Classe abstrata que contém operações de um objeto autenticável.\n",
    "    As subclasses concretas devem sobrescrever o método autentica\n",
    "    \"\"\"\n",
    "    @abc.abstractmethod\n",
    "    def autentica(self, senha):\n",
    "        \"\"\" Método abstrato que faz verificação da senha\n",
    "        return True se a senha confere, e False caso contrário.\n",
    "        \"\"\""
   ]
  },
  {
   "cell_type": "markdown",
   "metadata": {
    "colab_type": "text",
    "id": "jKKcsHO6xGs_"
   },
   "source": [
    "E nossas classes   `Gerente`,   `Diretor` e `Cliente` herdariam a classe   `Autenticavel`. Mas qual a\n",
    "diferença de herdar muitos mix-ins e muitas `ABC`s? Realmente, aqui não há grande diferença e voltamos\n",
    "ao problema anterior dos mix-ins - muito acoplamento entre classes que gera a herança múltipla.\n",
    "\n",
    "Mas a novidade das ABCs é seu método   `register()`. As ABCs introduzem uma subclasse virtual, que são classes que não herdam de uma classe mas são reconhecidas pelos métodos   `isinstance()`   e `issubclass()`.  Ou  seja,  nosso    `Gerente`    não  precisa  herdar  a  classe    `Autenticavel`,  basta registrarmos ele como uma implementação da classe  `Autenticavel`."
   ]
  },
  {
   "cell_type": "code",
   "execution_count": 0,
   "metadata": {
    "colab": {},
    "colab_type": "code",
    "id": "5y3FpboSxpnb"
   },
   "outputs": [],
   "source": [
    "Autenticavel.register(Gerente)"
   ]
  },
  {
   "cell_type": "markdown",
   "metadata": {
    "colab_type": "text",
    "id": "d3n2ggqVxrmj"
   },
   "source": [
    "E testamos os métodos  `isinstance()`  e  `issubclass()`  com uma instância de  `Gerente`:"
   ]
  },
  {
   "cell_type": "code",
   "execution_count": 0,
   "metadata": {
    "colab": {},
    "colab_type": "code",
    "id": "gHzCNiMxx2ki"
   },
   "outputs": [],
   "source": [
    "gerente = Gerente('João', '111111111-11', 3000.0)"
   ]
  },
  {
   "cell_type": "code",
   "execution_count": 0,
   "metadata": {
    "colab": {},
    "colab_type": "code",
    "id": "fo1QLsg6x3P2"
   },
   "outputs": [],
   "source": [
    "print(isinstance(Autenticavel))"
   ]
  },
  {
   "cell_type": "code",
   "execution_count": 0,
   "metadata": {
    "colab": {},
    "colab_type": "code",
    "id": "V8UyQXwUx3JV"
   },
   "outputs": [],
   "source": [
    "print(issubclass(Autenticavel))"
   ]
  },
  {
   "cell_type": "markdown",
   "metadata": {
    "colab_type": "text",
    "id": "YWHKhCoOx_Gc"
   },
   "source": [
    "O  Python  não  vai  verificar  se  existe  uma  implementação  do  método   `autentica()`   em   `Gerente` quando  registrarmos  a  classe.  Ao  registrarmos  a  classe    `Gerente`    como  uma    `Autenticavel`, prometemos ao Python que a classe implementa fielmente a nossa interface  `Autenticavel`  definida. O Python vai acreditar nisso e retornar `True` quando os métodos  `isinstance()`  e  `issubclass()`  forem chamados. Se mentirmos, ou seja, não implementarmos o método   `autentica()`  em   `Gerente`,  uma exceção será lançada quando tentarmos chamar este método.\n",
    "\n",
    "Vejamos um exemplo com a classe   `Diretor`. Não vamos implementar o método   `autentica()`  e registrar uma instância de  `Diretor`  como um  `Autenticavel`:"
   ]
  },
  {
   "cell_type": "code",
   "execution_count": 0,
   "metadata": {
    "colab": {},
    "colab_type": "code",
    "id": "zhucmP3_x3DL"
   },
   "outputs": [],
   "source": [
    "class Diretor(Funcionario):\n",
    "    # código omitido"
   ]
  },
  {
   "cell_type": "code",
   "execution_count": 0,
   "metadata": {
    "colab": {},
    "colab_type": "code",
    "id": "BNmycMCzyX5Q"
   },
   "outputs": [],
   "source": [
    "Autenticavel.register(Diretor)"
   ]
  },
  {
   "cell_type": "code",
   "execution_count": 0,
   "metadata": {
    "colab": {},
    "colab_type": "code",
    "id": "ivvffSCOyamN"
   },
   "outputs": [],
   "source": [
    "d = Diretor('José', '22222222-22', 3000.0)"
   ]
  },
  {
   "cell_type": "code",
   "execution_count": 0,
   "metadata": {
    "colab": {},
    "colab_type": "code",
    "id": "ftoObKI5ydvC"
   },
   "outputs": [],
   "source": [
    "d.autentica('?')"
   ]
  },
  {
   "cell_type": "markdown",
   "metadata": {
    "colab_type": "text",
    "id": "o_5q8ImzyhMb"
   },
   "source": [
    "Novamente, podemos tratar a exceção ou utilizar os métodos   `isinstance()`   ou   `issubclass()` para  verificação.  Apesar  de  considerada  má  práticas  por  muitos  pythonistas,  o  módulo  de  classes abstratas justifica a utilização deste tipo de verificação. A verificação não é de tipagem, mas se um objeto está de acordo com a interface:"
   ]
  },
  {
   "cell_type": "code",
   "execution_count": 0,
   "metadata": {
    "colab": {},
    "colab_type": "code",
    "id": "x7NoCFbEyrdl"
   },
   "outputs": [],
   "source": [
    "Autenticavel.register(Diretor)\n",
    "d = Diretor('José', '22222222-22', 3000.0)\n",
    "if(isinstance(d, Autenticavel)):\n",
    "    d.autentica('?')\n",
    "else:\n",
    "    print(\"Diretor não implementa a interface Autenticavel\")"
   ]
  },
  {
   "cell_type": "markdown",
   "metadata": {
    "colab_type": "text",
    "id": "p8_nXdyrywkA"
   },
   "source": [
    "e portanto, nossa classe  `SistemaInterno` ficaria assim:"
   ]
  },
  {
   "cell_type": "code",
   "execution_count": 0,
   "metadata": {
    "colab": {},
    "colab_type": "code",
    "id": "sGTnAMidy1EY"
   },
   "outputs": [],
   "source": [
    "from autenticavel import Autenticavel\n",
    "class SistemaInterno:\n",
    "    def login(self, obj):\n",
    "        if(isinstance(obj, Autenticavel)):\n",
    "            obj.autentica(obj.senha)\n",
    "            return True\n",
    "        else:\n",
    "            print(\"{} não é autenticável\".format(self.__class__.__name__))\n",
    "            return False"
   ]
  },
  {
   "cell_type": "markdown",
   "metadata": {
    "colab_type": "text",
    "id": "8imL0uoby7AP"
   },
   "source": [
    "Dessa  maneira  fugimos  da  herança  múltipla  e  garantimos  um  contrato,  um  protocolo.  Classes abstratas  complementam  o  duck  typing  provendo  uma  maneira  de  definir  interfaces  quando  técnicas como usar  `hasattr()`  são ruins ou sutilmente erradas. Você pode ler mais a respeito no documento da\n",
    "PEP  que  introduz  classes  abstratas  -  é  a  PEP  3119  e  você  pode  acessar  seu  conteúdo  neste  link:\n",
    "https://www.python.org/dev/peps/pep-3119/\n",
    "\n",
    "Algumas  `ABC`s  também  podem  prover  métodos  concretos,  ou  seja,  não  abstratos.  Por  exemplo,  a\n",
    "classe   `Interator`   do  módulo   collections   da  biblioteca  padrão  do  Python  possui  um  método\n",
    " `__iter__()`  retornando ele mesmo. Esta ABC pode ser considerada uma classe mix-in.\n",
    "\n",
    "O Python já vem com algumas estruturas abstratas (ver módulos `collections`, `numbers` e `io`)."
   ]
  },
  {
   "cell_type": "markdown",
   "metadata": {
    "colab_type": "text",
    "id": "AishUjoGzaYk"
   },
   "source": [
    "### 10.6 EXERCÍCIOS - INTERFACES E CLASSES ABSTRATAS\n",
    "1.  Nosso banco precisa tributar dinheiro de alguns bens que nossos clientes possuem. Para isso vamos criar uma classe  `Tributavel`  no módulo `tributavel.py`:\n",
    "        class Tributavel:\n",
    "            def get_valor_imposto(self):\n",
    "            pass\n",
    "Lemos essa classe da seguinte maneira: \"Todos que quiserem ser tributável precisam saber retornar o\n",
    "valor do imposto\".  Alguns bens  são tributáveis e  outros não,   `ContaPoupanca`   não  é  tributável,  já\n",
    "para  `ContaCorrente`  você precisa pagar `1%` da conta e o   `SeguroDeVida`  tem uma faixa fixa de `50`\n",
    "reais mais `5%` do valor do seguro.\n",
    "\n",
    "2.  Torne a classe  `Tributavel`  uma classe abstrata:\n",
    "        import abc\n",
    "        class Tributavel(abc.ABC):\n",
    "            def get_valor_imposto(self)\n",
    "                pass\n",
    "\n",
    "3.  O método  `get_valor_imposto()`  também deve ser abstrato:\n",
    "import abc\n",
    "        class Tributavel(abc.ABC):\n",
    "            @abc.abstractmethod\n",
    "            def get_valor_imposto(self, valor):\n",
    "                pass\n",
    "\n",
    "4.  Nada impede que os usuários de nossa classe tributavel implemente o método  `get_valor_imposto` \n",
    "de maneira não esperada por nós. Então vamos acrescentar a documentação utilizando docstring que aprendemos no capítulo de módulos:\n",
    "\n",
    "        import abc\n",
    "        class Tributavel(abc.ABC):\n",
    "            \"\"\" Classe que contém operações de um objeto autenticável\n",
    "            As subclasses concretas devem sobrescrever o método get_valor_imposto.\n",
    "            \"\"\"\n",
    "           @abc.abstractmethod\n",
    "            def get_valor_imposto(self):\n",
    "                \"\"\" aplica taxa de imposto sobre um determinado valor do objeto \"\"\"\n",
    "                pass\n",
    "\n",
    "5.  Utiliza a função  `help()`  passando a classe  `Tributavel`  para acessar a documentação.\n",
    "\n",
    "6.  Faça a classe  `ContaCorrente`  herdar da classe   `Tributavel`. Crie a classe   `SeguroDeVida`  com os\n",
    "atributos  `valor`,  `titular` e  `numero_apolice`  que também deve ser um tributável. Implemente o método  `get_valor_imposto()`  de acordo com a regra de negócio definida pelo exercício:\n",
    "        class ContaCorrente(Conta, Tributavel):\n",
    "            # código omitido\n",
    "            def get_valor_imposto(self):\n",
    "                return self._saldo * 0.01\n",
    "        class SeguroDeVida(Tributavel):\n",
    "            def __init__(self, valor, titular, numero_apolice):\n",
    "                self._valor = valor\n",
    "                self._titular = titular\n",
    "                self._numero_apolice = numero_apolice\n",
    "            def get_valor_imposto(self):\n",
    "                return 50 + self._valor * 0.05\n",
    "\n",
    "7.  Vamos  criar  a  classe `ManipuladorDetributaveis`   em  um  arquivo  chamado `manipulador_tributaveis.py`.  Essa  classe  deve  ter  um  método  chamado   `calcula_imposto()` que recebe umas lista de tributáveis e retorna o total de impostos cobrados:\n",
    "        class ManipuladorDeTributaveis:\n",
    "            def calcula_impostos(self, lista_tributaveis):\n",
    "                total = 0\n",
    "                for t in lista_tributaveis:\n",
    "                    total += t.get_valor_imposto()\n",
    "                return total\n",
    "\n",
    "8.  Nossas  classes    `ContaCorrente`    e    `SeguraDeVida`    já  implementam  o  método\n",
    " `get_valor_imposto()`. Vamos instanciar cada umas delas e testar a chamada do método:\n",
    "        if __name__ == '__main__':\n",
    "            cc = ContaCorrente('123-4', 'João', 1000.0)\n",
    "            seguro = SeguroDeVida(100.0, 'José', '345-77')\n",
    "            print(cc.get_valor_imposto())\n",
    "            print(seguro.get_valor_imposto())\n",
    "\n",
    "9.  Crie  uma  lista  com  os  objetos  criados  no  exercício  anterior,  instancie  um  objeto  do  tipo   `list`   e passe a lista chamando o método  `calcula_impostos()`.\n",
    "        if __name__ == '__main__':\n",
    "            # código omitido\n",
    "            lista_tributaveis = []\n",
    "            lista_tributaveis.append(cc)\n",
    "            lista_tributaveis.append(seguro)\n",
    "            mt = ManipuladorDeTributaveis()\n",
    "            total = mt.calcula_impostos(lista_tributaveis)\n",
    "            print(total)\n",
    "\n",
    "10.  Nosso  código  funciona,  mas  ainda  estamos  utilizando  herança  múltipla!  Vamos  melhorar  nosso\n",
    "código. Faça com que  `ContaCorrente`  e  `SeguroDeVida`  não mais herdem da classe   `Tributavel`.\n",
    "Vamos  registrar  nossas  classes   `ContaCorrente`   e   `SeguroDeVida`   como  subclasses  virtuais  de\n",
    " `Tributavel`, de modo que funcione como uma interface.\n",
    "            class ContaCorrente(Conta):\n",
    "            # código omitido\n",
    "            class SeguroDeVida:\n",
    "            # código omitido\n",
    "            if __name__ == '__main__':\n",
    "            from tributavel import Tributavel\n",
    "            cc = ContaCorrente('João', '123-4')\n",
    "            cc.deposita(1000.0)\n",
    "            seguro = SeguroDeVida(100.0, 'José', '345-77')\n",
    "            Tributavel.register(ContaCorrente)\n",
    "            Tributavel.register(SeguroDeVida)\n",
    "            lista_tributaveis = []\n",
    "            lista_tributaveis.append(cc)\n",
    "            lista_tributaveis.append(seguro)\n",
    "            mt = ManipuladorDeTributaveis()\n",
    "            total = mt.calcula_impostos(lista_tributaveis)\n",
    "            print(total)\n",
    "\n",
    "11.  Modifique o método  `calcula_impostos()`  da classe  `ManipuladorDeTributaveis`  para checar se\n",
    "os  elementos  da  listas  são  tributáveis  através  do  método   `isinstance()`.  Caso  um  objeto  da  lista\n",
    "não  seja  um  tributável,  vamos  imprimir  uma  mensagem  de  erro  e  apenas  os  tributáveis  serão\n",
    "somados ao total:\n",
    "\n",
    "        class ManipuladorDeTributaveis:\n",
    "            def calcula_impostos(self, lista_tributaveis):\n",
    "                total = 0\n",
    "                for t in lista_tributaveis:\n",
    "                    if(isinstance(t, Tributavel)):\n",
    "                        total += t.get_valor_imposto()\n",
    "                    else:\n",
    "                        print(t.__repr__(), \"não é um tributável\")    \n",
    "               return total\n",
    "Teste novamente com a lista de tributáveis que fizemos no exercício anterior e veja se tudo continua funcionando.\n",
    "\n",
    "12.   `ContaPoupanca`   não  é  um  tributável.  Experimente  instanciar  uma   `ContaPoupanca`,  adicionar  a lista de tributáveis e calcular o total de impostos através do  `ManipuladorDetributaveis`:\n",
    "        if __name__ == '__main__':\n",
    "            #código omitido do exercício anterior omitido\n",
    "            cp = ContaPoupanca('123-6', 'Maria')\n",
    "            lista_tributaveis.append(cp)\n",
    "            total = mt.calcula_impostos(lista_tributaveis)\n",
    "            print(total)\n",
    "O que acontece?\n",
    "\n",
    "13.  (Opcional) Agora além de  `ContaCorrente`  e  `SeguroDeVida`  nossa   `ContaInvestimento`  também deve  ser  um  tributável,  cobrando  `3%`  do  saldo.  Instancie  uma   `ContaInvestimento`   e  registre  a\n",
    "classe   `ContaInvestimento`   como  tributável.  Adicione  a   `ContaInvestimento`   criada  na  lista  de\n",
    "tributáveis do exercício anterior e calcule o total de impostos através do `ManipuladorDeTributaveis`.\n",
    "\n",
    "Neste capítulo aprendemos sobre herança múltipla e suas desvantagens mesmo utilizando mix-ins.\n",
    "\n",
    "Aprendemos  utilizar  classes  abstratas  como  interfaces  registrando  as  classes  e  evitando  os  problemas com  a  herança  múltipla.  Agora  nossa  classe  abstrata   `Tributavel`   funciona  como  um  protocolo.  No capítulo sobre o módulo `collections` veremos na prática alguns conceitos vistos nestes capítulo."
   ]
  },
  {
   "cell_type": "markdown",
   "metadata": {
    "colab_type": "text",
    "id": "6d6kpgatqA30"
   },
   "source": [
    "# CAPÍTULO 11\n",
    "## EXCEÇÕES E ERROS\n",
    "Voltando as contas que criamos no capítulo 6, o que aconteceria ao tentar chamar o método   saca() \n",
    "com um valor fora do limite? O sistema mostraria uma mensagem de erro, mas quem chamou o método\n",
    " saca()  não saberá que isso aconteceu.\n",
    "Como avisar aquele que chamou o método de que ele não conseguiu fazer aquilo que deveria?\n",
    "Os métodos dizem qual o contrato que eles devem seguir. Se, ao tentar   sacar() , ele não consegue\n",
    "fazer o que deveria, ele precisa, ao menos, avisar ao usuário que o saque não foi feito.\n",
    "Veja no exemplo abaixo: estamos forçando uma  Conta  a ter um valor negativo, isto é, estar em um\n",
    "estado inconsistente de acordo com a nossa modelagem.\n",
    "\n",
    "    conta = Conta('123-4', 'João')\n",
    "    conta.deposita(100.0)\n",
    "    conta.saca(3000.0)\n",
    "    #o método saca funcionou?\n",
    "\n",
    "Em  sistemas  de  verdade,  é  muito  comum  que  quem  saiba  tratar  o  erro  é  aquele  que  chamou  o\n",
    "método e não a própria classe! Portanto, nada mais natural sinalizar que um erro ocorreu.\n",
    "A solução mais simples utilizada antigamente é a de marcar o retorno de um método como boolean e\n",
    "retornar  True , se tudo ocorreu da maneira planejada, ou  False , caso contrário:\n",
    "\n",
    "    if (valor > self.saldo + self.limite):\n",
    "        print(\"nao posso sacar fora do limite\")\n",
    "        return False\n",
    "    else:\n",
    "        self.saldo -= valor\n",
    "        return True\n",
    "\n",
    "Um novo exemplo de chamada do método acima:\n",
    "\n",
    "    conta = Conta('123-4', 'João')\n",
    "    conta.deposita(100.0)\n",
    "    conta.limite = 100.0\n",
    "    if(not conta.saca(3000.0)):\n",
    "        print(\"nao saquei\")\n",
    "\n",
    "Repare que tivemos de lembrar de testar o retorno do método, mas não somos obrigados a fazer isso.\n",
    "Esquecer de testar o retorno desse método teria consequências drásticas: a máquina de autoatendimento\n",
    "poderia vir a liberar a quantia desejada de dinheiro, mesmo se o sistema não tivesse conseguido efetuar o\n",
    "método  saca()  com sucesso, como no exemplo a seguir:\n",
    "\n",
    "    conta = Conta(\"123-4\", \"João\")\n",
    "    conta.deposita(100.0)\n",
    "    # ...\n",
    "    valor = 5000.0\n",
    "    conta.saca(valor) # vai retornar False, mas ninguém verifica\n",
    "    caixa_eletronico.emite(valor)\n",
    "\n",
    "Mesmo  invocando  o  método  e  tratando  o  retorno  de  maneira  correta,  o  que  faríamos  se  fosse\n",
    "necessário sinalizar quando o usuário passou um valor negativo como valor. Uma solução seria alterar o\n",
    "retorno de   boolean  para   int  e retornar o código do erro que ocorreu. Isso é considerado uma má\n",
    "prática (conhecida também como uso de \"magic numbers\").\n",
    "Além de você perder o retorno do método, o valor devolvido é \"mágico\" e só legível perante extensa\n",
    "documentação, além de não obrigar o programador a tratar esse retorno e, no caso de esquecer isso, seu\n",
    "programa continuará rodando já num estado inconsistente.\n",
    "Por  esses  e  outro  motivos,  utilizamos  um  código  diferente  para  tratar  aquilo  que  chamamos  de\n",
    "exceções: os casos onde acontece algo que, normalmente, não iria acontecer. O exemplo do argumento\n",
    "do saque inválido ou do id inválido de um cliente é uma exceção à regra.\n",
    "Uma exceção representa uma situação que normalmente não ocorre e representa algo de estranho ou\n",
    "inesperado no sistema.\n",
    "Antes  de  resolvermos  o  nosso  problema,  vamos  ver  como  o  interpretador  age  ao  se  deparar  com\n",
    "situações inesperadas, como divisão por zero ou acesso a um índice de uma lista que não existe.\n",
    "Para  aprendermos  os  conceitos  básicos  das  exceptions  do  Python,  crie  um  arquivo  teste_erro.py  e\n",
    "teste o seguinte código você mesmo:"
   ]
  },
  {
   "cell_type": "code",
   "execution_count": 0,
   "metadata": {
    "colab": {},
    "colab_type": "code",
    "id": "x-zq7hQpqYF0"
   },
   "outputs": [],
   "source": [
    "def metodo1():\n",
    "    print('início do metodo1')\n",
    "    metodo2()\n",
    "    print('fim do metodo1')\n",
    "def metodo2():\n",
    "    print('início do metodo2')\n",
    "    cc = ContaCorrente('José', '123')\n",
    "    for i in range(1,15):\n",
    "        cc.deposita(i + 1000)\n",
    "        print(cc.saldo)\n",
    "        if(i == 5):\n",
    "            cc = None\n",
    "    print('fim do metodo2')\n",
    "if __name__ == '__main__':\n",
    "    print('início do main')\n",
    "    metodo1()\n",
    "    print('fim do main')"
   ]
  },
  {
   "cell_type": "markdown",
   "metadata": {
    "colab_type": "text",
    "id": "gvJ9WujXqbKu"
   },
   "source": [
    "Repare que durante a execução do programa chamamos o   metodo1()  e esse, por sua vez, chama o\n",
    " metodo2() . Cada um desses métodos pode ter suas próprias variáveis locais, isto é: o   metodo1()  não\n",
    "enxerga as variáveis declaradas dentro do executável e por aí em diante.\n",
    "Como o Python (e muitas outras linguagens) faz isso? Toda invocação de método é empilhado em\n",
    "uma estrutura de dados que isola a área e memória de cada um. Quando um método termina (retorna),\n",
    "ele  volta  para  o  método  que  o  invocou.  Ele  descobre  isso  através  da  pilha  de  execução  (stack):  basta\n",
    "remover o marcador que está no topo da pilha:\n",
    "Porém,  o  nosso   metodo2()   propositalmente  possui  um  enorme  problema:  está  acessando  uma\n",
    "referência para  None  quando o índice for igual a 6!\n",
    "Rode o código. Qual a saída? O que isso representa? O que ela indica?\n",
    "Essa saída é o rastro de pilha, o Traceback. É uma saída importantíssima para o programador - tanto\n",
    "que, em qualquer fórum ou lista de discussão, é comum os programadores enviarem, juntamente com a\n",
    "descrição do problema, essa Traceback. Mas por que isso aconteceu?\n",
    "O  sistema  de  exceções  do  Python  funciona  da  seguinte  maneira:  quando  uma  exceção  é  lançada\n",
    "(raise), o interpretador entra em estado de alerta e vai ver se o método atual toma alguma precaução ao\n",
    "tentar executar esse trecho de código. Como podemos ver, o   metodo2()  não toma nenhuma medida\n",
    "diferente do que vimos até agora.\n",
    "Como  o    metodo2()    não  está  tratando  esse  problema,  o  interpretador  para  a  execução  dele\n",
    "anormalmente,  sem  esperar  ele  terminar,  e  volta  um  stackframe  para  baixo,  onde  será  feita  nova\n",
    "verificação: \"o   método1()  está se precavendo de um problema chamado   AttributeError ?  \"Não...\"\n",
    "Volta para o executável, onde também não há proteção, então o interpretador morre.\n",
    "Obviamente, aqui estamos forçando esse caso e não faria sentido tomarmos cuidado com ele. É fácil\n",
    "arrumar  um  problema  desses:  basta  verificar  antes  de  chamar  os  métodos  se  a  variável  está  com\n",
    "referência para  None .\n",
    "Porém, apenas para entender o controle de fluxo de uma Exception, vamos colocar o código que vai\n",
    "tentar  (try)  executar  um  bloco  perigoso  e,  caso  o  problema  seja  do  tipo   AttributeError ,  ele  será\n",
    "excluído(except).  Repare  que  é  interessante  que  cada  exceção  no  Python  tenha  um  tipo...  ela  pode  ter\n",
    "atributos e métodos.\n",
    "Adicione um   try/except   em  volta  do   for ,  'pegando'  um   AttributeError .  O  que  o  código\n",
    "imprime?"
   ]
  },
  {
   "cell_type": "code",
   "execution_count": 0,
   "metadata": {
    "colab": {},
    "colab_type": "code",
    "id": "of2-fPiGqZbg"
   },
   "outputs": [],
   "source": [
    "from conta import ContaCorrente\n",
    "def metodo1():\n",
    "    print('início do metodo1')\n",
    "    metodo2()\n",
    "    print('fim do metodo1')\n",
    "def metodo2():\n",
    "    print('início do metodo2')\n",
    "    cc = ContaCorrente('José', '123')\n",
    "    try:\n",
    "        for i in range(1,15):\n",
    "            cc.deposita(i + 1000)\n",
    "            print(cc.saldo)\n",
    "            if(i == 5):\n",
    "            cc = None\n",
    "    except:\n",
    "        print('erro')\n",
    "    print('fim do metodo2')\n",
    "if __name__ == '__main__':\n",
    "    print('início do main')\n",
    "    metodo1()\n",
    "    print('fim do main')"
   ]
  },
  {
   "cell_type": "markdown",
   "metadata": {
    "colab_type": "text",
    "id": "BGi99kwMqndW"
   },
   "source": [
    "Em vez de fazer o  try  em torno do  for  inteiro, tente apenas com o bloco dentro do  for :"
   ]
  },
  {
   "cell_type": "code",
   "execution_count": 0,
   "metadata": {
    "colab": {},
    "colab_type": "code",
    "id": "FIiG_B_jqpfG"
   },
   "outputs": [],
   "source": [
    "def metodo2():\n",
    "    print('início do metodo2')\n",
    "    cc = ContaCorrente('José', '123')\n",
    "    for i in range(1,15):\n",
    "        try:\n",
    "            cc.deposita(i + 1000)\n",
    "            print(cc.saldo)\n",
    "            if(i == 5):\n",
    "                cc = None\n",
    "        except:\n",
    "            print('erro')\n",
    "    print('fim do metodo2')"
   ]
  },
  {
   "cell_type": "markdown",
   "metadata": {
    "colab_type": "text",
    "id": "OzgBcij_qscg"
   },
   "source": [
    "Qual a diferença?\n",
    "Retire o  try/except  e coloque ele em volta da chamada do  metodo2() :"
   ]
  },
  {
   "cell_type": "code",
   "execution_count": 0,
   "metadata": {
    "colab": {},
    "colab_type": "code",
    "id": "-wB2UqX4qt8z"
   },
   "outputs": [],
   "source": [
    "def metodo1():\n",
    "    print('início do metodo1')\n",
    "    try:\n",
    "        metodo2()\n",
    "    except AttributeError:\n",
    "        print('erro')   \n",
    "    print('fim do metodo1')"
   ]
  },
  {
   "cell_type": "markdown",
   "metadata": {
    "colab_type": "text",
    "id": "iDfdDhZyqxG_"
   },
   "source": [
    "Faça  o  mesmo,  retirando  o    try/except    novamente  e  colocando  em  volta  da  chamada  do\n",
    " metodo1() . Rode os códigos, o que acontece?"
   ]
  },
  {
   "cell_type": "code",
   "execution_count": 0,
   "metadata": {
    "colab": {},
    "colab_type": "code",
    "id": "V389BVgQqzIz"
   },
   "outputs": [],
   "source": [
    "if __name__ == '__main__':\n",
    "    print('início do main')\n",
    "    try:\n",
    "        metodo1()\n",
    "    except AttributeError:\n",
    "        print('erro')   \n",
    "    print('fim do main')"
   ]
  },
  {
   "cell_type": "markdown",
   "metadata": {
    "colab_type": "text",
    "id": "f8haMKz0q0og"
   },
   "source": [
    "Repare que, a partir do momento que uma exception foi catched (pega, tratada, handled), a exceção\n",
    "volta ao normal a partir daquele ponto."
   ]
  },
  {
   "cell_type": "markdown",
   "metadata": {
    "colab_type": "text",
    "id": "Ix7v3Pztq3H0"
   },
   "source": [
    "## 11.1 EXCEÇÕES E TIPOS DE ERROS\n",
    "\n",
    "### Runtime\n",
    "Este tipo de erro ocorre quando algo de errado acontece durante a execução do programa. A maior\n",
    "parte das mensagens deste tipo de erro inclui informações do que o programa estava fazendo e o local\n",
    "que o erro aconteceu.\n",
    "O interpretador mostra a famosa Traceback - ele mostra a sequência de chamadas de função que fez\n",
    "com  que  você  chegasse  onde  está,  incluindo  o  número  da  linha  de  seu  arquivo  onde  cada  chamada\n",
    "ocorreu.\n",
    "Os erros mais comuns de tempo de execução são:\n",
    "#### NameError\n",
    "Quando tentamos acessar uma variável que não existe.\n",
    "\n",
    "    print(x)\n",
    "    Traceback (most recent call last):\n",
    "    File \"<stdin>\", line 1, in <module>\n",
    "    NameError: name 'x' is not defined\n",
    "\n",
    "No exemplo acima tentamos imprimir  x  sem defini-lo antes. Este erro também é muito comum de\n",
    "ocorrer quando tentamos acessar um variável local em um contexto local.\n",
    "#### TypeError\n",
    "Quando  tentamos  usar  um  valor  de  forma  inadequada,  como  por  exemplo  tentar  indexar  um\n",
    "sequência com algo diferente de um número inteiro ou de um fatiamento:\n",
    "\n",
    "    lista = [1, 2, 3]\n",
    "    print(lista['a'])\n",
    "    Traceback (most recent call last):\n",
    "    File \"<stdin>\", line 2, in <module>\n",
    "    TypeError: list indices must be integers or slices, not str\n",
    "\n",
    "\n",
    "#### KeyError\n",
    "Quando tentamos acessar um elemento de um dicionário usando uma chave que não existe.\n",
    "\n",
    "    dicionario = {'nome': 'João', 'idade': 25}\n",
    "    print(dicionario['cidade'])\n",
    "    Traceback (most recent call last):\n",
    "    File \"<stdin>\", line 2, in <module>\n",
    "    KeyError: 'cidade'\n",
    "\n",
    "#### AttributeError\n",
    "Quando tentamos acessar um atributo ou método que não existe em um objeto.\n",
    "\n",
    "    lista = [1, 2, 3]\n",
    "    print(lista.nome)\n",
    "    Traceback (most recent call last):\n",
    "    File \"<stdin>\", line 2, in <module>\n",
    "    AttributeError: 'list' object has no attribute 'nome'\n",
    "\n",
    "#### IndexError\n",
    "Quando  tentamos  acessar  um  elemento  de  uma  sequência  com  um  índice  maior  que  seu\n",
    "comprimento menos um.\n",
    "\n",
    "    tupla = (1, 2, 3)\n",
    "    print(tupla[3])\n",
    "    Traceback (most recent call last):\n",
    "    File \"<stdin>\", line 2, in <module>\n",
    "    IndexError: tuple index out of range\n",
    "\n",
    "## 11.2 TRATANDO EXCEÇÕES\n",
    "Há  muitos  outros  erros  de  tempo  de  execução.  Que  tal  dividir  um  número  por  zero?  Será  que  o\n",
    "interpretador consegue fazer aquilo que \n",
    "nós definimos que não existe?\n",
    "\n",
    "    n = 2\n",
    "    n = n / 0\n",
    "    Traceback (most recent call last):\n",
    "    File \"<stdin>\", line 2, in <module>\n",
    "    ZeroDivisionError: division by zero\n",
    "\n",
    "Repare que um  ZeroDivisionError  poderia ser facilmente evitado com um   \n",
    "if  que checaria se o\n",
    "denominador  é  diferente  de  zero  mas  a  forma  correta  de  se  tratar  um  erro  no  Python  é  através  do\n",
    "comando try/except:\n",
    "\n",
    "    try:\n",
    "        n = n/0\n",
    "    except ZeroDivisionError:\n",
    "        print('divisão por zero')\n",
    "\n",
    "Que gera a saída:\n",
    "\n",
    "    divisão por zero\n",
    "\n",
    "O conjunto de instruções dentro do bloco   try  é executado (o interpretador tentará executar), se\n",
    "nenhuma  exceção  ocorrer,  o  comando   except   é  ignorado  e  a  execução  é  finalizada.  Mas  se  ocorrer\n",
    "alguma  exceção  durante  a  execução  do  bloco   try ,  as  instruções  remanescentes  são  ignoradas  e  se  a\n",
    "exceção lançada prever um  except , então as instruções dentro do bloco  except  são executadas.\n",
    "O comando  try  pode ter mais de um comando  except  para especificar múltiplos tratadores para\n",
    "diferentes exceções. No máximo um único tratador será ativado. Tratadores só são sensíveis às exceções\n",
    "levantadas  no  interior  da  cláusula   try ,  e  não  as  que  tenham  ocorrido  no  interior  de  outro  tratador\n",
    "numa  mesma  instrução    try  .  Um  tratador  pode  ser  sensível  a  múltiplas  exceções,  desde  que  as\n",
    "especifique em uma tupla:\n",
    "\n",
    "    except(RuntimeError, TypeError, NameError):\n",
    "        pass\n",
    "\n",
    "A última cláusula   except  pode omitir o nome da exceção, funcionando como um curinga. Não é\n",
    "aconselhável abusar deste recurso já que isso pode esconder erros do programador e do usuário.\n",
    "O bloco   try/except  possui um comando opcional   else  que, quando usado, deve ser colocado\n",
    "depois de todos os comandos  except . É útil para código que precisa ser executado se nenhuma exceção\n",
    "foi lançada, por exemplo:\n",
    "\n",
    "    try:\n",
    "        arquivo = open('palavras.txt', 'r')\n",
    "    except IOError:\n",
    "        print('não foi possível abrir o arquivo')\n",
    "    else:\n",
    "        print('o arquivo tem {} palavras'.format(len(arquivo.readlines())))\n",
    "        arquivo.close()"
   ]
  },
  {
   "cell_type": "markdown",
   "metadata": {
    "colab_type": "text",
    "id": "kRHVTDcftEg8"
   },
   "source": [
    "## 11.3 LEVANTANDO EXCEÇÕES\n",
    "O  comando   raise   nos  permite  forçar  a  ocorrência  de  um  determinado  tipo  de  exceção.  Por\n",
    "exemplo:\n",
    "\n",
    "    raise NameError('oi')\n",
    "    Traceback (most recent call last):\n",
    "    File \"<stdin>\", line 1, in ?\n",
    "    NameError: oi\n",
    "\n",
    "O argumento de   raise  indica a exceção a ser lançada. Esse argumento deve ser uma instância de\n",
    " Exception  ou uma classe de alguma exceção - uma classe que deriva de  Exception .\n",
    "Caso você precise determinar se uma exceção foi lançada ou não, mas não quer manipular o erro,\n",
    "uma forma é lançá-la novamente através da instrução  raise :\n",
    "\n",
    "    try:\n",
    "        raise NameError('oi')\n",
    "    except NameError:\n",
    "        print('lançou uma exceção')\n",
    "        raise\n",
    "\n",
    "Saída:\n",
    "\n",
    "    lançou uma exceção        \n",
    "    Traceback (most recent call last):\n",
    "    File \"<stdin>\", line 1, in ?\n",
    "    NameError: oi"
   ]
  },
  {
   "cell_type": "markdown",
   "metadata": {
    "colab_type": "text",
    "id": "FuxefMQktkFQ"
   },
   "source": [
    "## 11.4 DEFINIR UMA EXCEÇÃO\n",
    "Programas podem definir novos tipos de exceções, através da criação de uma nova classe. Exceções\n",
    "devem ser derivadas da classe  Exception , direta ou indiretamente. Por exemplo:\n",
    "\n",
    "    class MeuErro(Exception):\n",
    "        def __init__(self, valor):\n",
    "            self.valor = valor\n",
    "        def __str__(self):\n",
    "            return repr(self.valor)\n",
    "    if __name__ == '__main__':\n",
    "        try:\n",
    "            raise MeuErro(2*2)\n",
    "        except MeuErro as e:\n",
    "            print('Minha exceção ocorreu, valor: {}'.format(e.valor))\n",
    "        raise MeuErro('oops!')\n",
    "\n",
    "Que quando executado gera a saída:\n",
    "\n",
    "    Minha exceção ocorreu, valor: 4\n",
    "    Traceback (most recent call last):\n",
    "    File \"<stdin>\", line 13, in <module>\n",
    "        raise MeuErro('oops!')\n",
    "        __main__.MeuErro: 'oops!'\n",
    "\n",
    "Neste exemplo, o método   `__init__`  da classe   Exception  foi  reescrito. O  novo comportamento\n",
    "simplesmente  cria  o  atributo  valor.  Classes  de  exceções  podem  ser  definidas  para  fazer  qualquer  coisa\n",
    "que qualquer outra classe faz, mas em geral são bem simples, frequentemente oferecendo apenas alguns\n",
    "atributos que fornecem informações sobre o erro que ocorreu.\n",
    "Ao criar um módulo que pode gerar diversos erros, uma prática comum é criar uma classe base para\n",
    "as  exceções  definidas  por  aquele  módulo,  e  as  classes  específicas  para  cada  condição  de  erro  como\n",
    "subclasses dela:\n",
    "\n",
    "    class MeuError(Exception):\n",
    "        \"\"\"Classe base para outras exceções\"\"\"\n",
    "        pass\n",
    "    class ValorMuitoPequenoError(Error):\n",
    "        \"\"\"É lançada quando o valor passado é muito pequeno\"\"\"\n",
    "        pass\n",
    "    class ValorMuitoGrandeError(Error):\n",
    "        \"\"\"É lançada quando o valor passado é muito grande\"\"\"\n",
    "        pass\n",
    "\n",
    "Essa é a maneira padrão de definir exceções no Python mas o programador não precisa ficar preso a\n",
    "ela.  É  comum  que  novas  exceções  sejam  definidas  com  nomes  terminando  em  “Error”,  semelhante  a\n",
    "muitas exceções embutidas."
   ]
  },
  {
   "cell_type": "markdown",
   "metadata": {
    "colab_type": "text",
    "id": "e02PM6ebt4xi"
   },
   "source": [
    "## 11.5 PARA SABER MAIS: FINALLY\n",
    "O  comando  try  pode  ter  outro  comando  opcional  chamado  finally.  Sua  finalidade  é  permitir  a\n",
    "implementação  de  ações  de  limpeza,  que  sempre  devem  ser  executadas  independentemente  da\n",
    "ocorrência de exceções. Como no exemplo:\n",
    "\n",
    "    def divisao(x, y):\n",
    "        try:\n",
    "            resultado = x / y\n",
    "        except ZeroDivisionError:\n",
    "            print(\"Divisão por zero\")\n",
    "        else:\n",
    "            print(\"o resultado é {}\".format(resultado))\n",
    "        finally:\n",
    "            print(\"executando o finally\")\n",
    "    if __name__ == '__main__':\n",
    "        divide(2, 1)\n",
    "        divide(2, 0)\n",
    "        divide('2', '1')\n",
    "\n",
    "Executando:\n",
    "\n",
    "    resultado é 2\n",
    "    executando o finally\n",
    "    divisão por zero\n",
    "    executando o finally\n",
    "    executando o finally\n",
    "    Traceback (most recent call last):\n",
    "    File \"<stdin>\", line 1, in ?\n",
    "    File \"<stdin>\", line 3, in divide\n",
    "    TypeError: unsupported operand type(s) for /: 'str' and 'str'\n",
    "\n",
    "Repare  que  o  bloco  finally  é  executado  em  todos  os  casos.  A  exceção   TypeError   levantada  pela\n",
    "divisão de duas strings e não é tratada no except e portanto é relançada depois que o finally é executado.\n",
    "Em  aplicações  reais,  o  finally  é  útil  para  liberar  recursos  externos  (como  arquivos  ou  conexões  de\n",
    "rede), independentemente do uso do recurso ter sido bem sucedido ou não."
   ]
  },
  {
   "cell_type": "markdown",
   "metadata": {
    "colab_type": "text",
    "id": "Gb5d8Ds2uFoj"
   },
   "source": [
    "## 11.6 ÁRVORE DE EXCEÇÕES\n",
    "No  Python  todas  as  exceções  são  instâncias  de  uma  classe  derivada  de   BaseException .  Ela  não\n",
    "serve  para  ser  diretamente  herdada  por  exceções  criadas  por  programadores,  para  isso  utilizamos\n",
    " Exception  que também é filha de  BaseException .\n",
    "Abaixo está a hierarquia de classes de exceções do Python. Para mais informações sobre cada uma\n",
    "delas consulte a documentação: https://docs.python.org/3/library/exceptions.html\n",
    "\n",
    "    BaseException\n",
    "    +-- SystemExit\n",
    "    +-- KeyboardInterrupt\n",
    "    +-- GeneratorExit\n",
    "    +-- Exception\n",
    "        +-- StopIteration\n",
    "        +-- StopAsyncIteration\n",
    "        +-- ArithmeticError\n",
    "        |    +-- FloatingPointError\n",
    "        |    +-- OverflowError\n",
    "        |    +-- ZeroDivisionError\n",
    "        +-- AssertionError\n",
    "        +-- AttributeError\n",
    "        +-- BufferError\n",
    "        +-- EOFError\n",
    "        +-- ImportError\n",
    "        |    +-- ModuleNotFoundError\n",
    "        +-- LookupError\n",
    "        |    +-- IndexError\n",
    "        |    +-- KeyError\n",
    "        +-- MemoryError\n",
    "        +-- NameError\n",
    "        |    +-- UnboundLocalError\n",
    "        +-- OSError\n",
    "        |    +-- BlockingIOError\n",
    "        |    +-- ChildProcessError\n",
    "        |    +-- ConnectionError\n",
    "        |    |    +-- BrokenPipeError\n",
    "        |    |    +-- ConnectionAbortedError\n",
    "        |    |    +-- ConnectionRefusedError\n",
    "        |    |    +-- ConnectionResetError\n",
    "        |    +-- FileExistsError\n",
    "        |    +-- FileNotFoundError\n",
    "        |    +-- InterruptedError\n",
    "        |    +-- IsADirectoryError\n",
    "        |    +-- NotADirectoryError\n",
    "        |    +-- PermissionError\n",
    "        |    +-- ProcessLookupError\n",
    "        |    +-- TimeoutError\n",
    "        +-- ReferenceError\n",
    "        +-- RuntimeError\n",
    "        |    +-- NotImplementedError\n",
    "        |    +-- RecursionError\n",
    "        +-- SyntaxError\n",
    "        |    +-- IndentationError\n",
    "    \f",
    ".\n",
    "        |         +-- TabError\n",
    "        +-- SystemError\n",
    "        +-- TypeError\n",
    "        +-- ValueError\n",
    "        |    +-- UnicodeError\n",
    "        |         +-- UnicodeDecodeError\n",
    "        |         +-- UnicodeEncodeError\n",
    "        |         +-- UnicodeTranslateError\n",
    "        +-- Warning\n",
    "            +-- DeprecationWarning\n",
    "            +-- PendingDeprecationWarning\n",
    "            +-- RuntimeWarning\n",
    "            +-- SyntaxWarning\n",
    "            +-- UserWarning\n",
    "            +-- FutureWarning\n",
    "            +-- ImportWarning\n",
    "            +-- UnicodeWarning\n",
    "            +-- BytesWarning\n",
    "            +-- ResourceWarning"
   ]
  },
  {
   "cell_type": "markdown",
   "metadata": {
    "colab_type": "text",
    "id": "_oLcDxyXuOqp"
   },
   "source": [
    "### 11.7 EXERCÍCIOS: EXCEÇÕES\n",
    "1.  Na  classe   `Conta`,  modifique  o  método   `deposita()`.  Ele  deve  lançar  uma  exceção  chamada `ValueError`, que já  faz parte  da biblioteca padrão  do Python,  sempre que o  valor passado  como argumento for inválido (por exemplo, quando for negativo):\n",
    " \n",
    "        def deposita(self, valor):\n",
    "            if(valor < 0):\n",
    "                raise ValueError\n",
    "            else:\n",
    "                self._saldo += valor\n",
    "2.  Da  maneira  com  está,  apenas  saberemos  que  ocorreu  um   `ValueError`   mas  não  saberemos  o motivo. Vamos acrescentar uma mensagem para deixar o erro mais claro:\n",
    "\n",
    "        def deposita(self, valor):\n",
    "            if(valor < 0):\n",
    "                raise ValueError('Você tentou depositar um valor negativo')\n",
    "            else:\n",
    "                self._saldo += valor\n",
    "\n",
    "3.  Faça o mesmo para o método  `saca()`  da classe  `ContaCorrente`, afinal o cliente também não pode sacar um valor negativo.\n",
    "\n",
    "4.  Vamos validar também que o cliente não pode sacar um valor maior do que o saldo disponível em conta. Crie sua própria exceção chamada   `SaldoInsuficienteError`. Para isso, você precisa criar uma classe com esse nome que seja filha de `RuntimeError`.\n",
    "\n",
    "        class SaldoInsuficienteError(RuntimeError):\n",
    "            pass\n",
    "No método `saca()` da classe  `ContaCorrente`  vamos utilizar esta nova exceção:\n",
    "        class ContaCorrente(Conta):\n",
    "            # código omitido\n",
    "            def saca(self, valor):\n",
    "                if(valor < 0):\n",
    "                    raise ValueError('Você tentou sacar um valor negativo')\n",
    "                if(self._saldo < valor):\n",
    "                    raise SaldoInsuficienteError()\n",
    "                    self._saldo -= (valor + 0.10)\n"
   ]
  },
  {
   "cell_type": "markdown",
   "metadata": {
    "colab_type": "text",
    "id": "OBPMn6s1vjeY"
   },
   "source": [
    "### 11.8 OUTROS ERROS\n",
    "Erros  de  sintaxe  Um  dos  erros  mais  comuns  é  o  SyntaxError.  Geralmente  suas  mensagens  não dizem muito, a mais comum é a   \n",
    "\n",
    "    SyntaxError:  invalid  syntax\n",
    "\n",
    "Por outro  lado, a  mensagem diz  o  local  onde  o  problema  ocorreu.  -  onde  o  Python  encontrou  o  problema.  São  descobertos quando  o  interpretador  está  traduzindo  o  código  fonte  para  o  bytecode.  Indicam  que  há  algo  de\n",
    "errado com a estrutura do programa. Por exemplo: esquecer de fechar aspas, simples ou duplas, na hora  de  imprimir  um  mensagem;  esquecer  de  colocar  dois  pontos  (`:`)  ao  final  de  uma  instrução `if`, `while` ou `for` , etc...\n",
    "\n",
    "Erro  semântico (?) Este  erro  é  quando  o  programa  não  se  comporta  como  esperado.  \n",
    "\n",
    "Aqui  não  é lançada  uma  exceção,  o  programa  apenas  não  faz  a  coisa  certa.  São  mais  difíceis  de  encontrar porque o interpretador não fornece nenhuma informação já que não sabe o que o programa deveria fazer. São erros na regra de negócio. Utilizar a função  `print()`  em alguns lugares do código onde você suspeita que está gerando o erro pode ajudar."
   ]
  },
  {
   "cell_type": "markdown",
   "metadata": {
    "colab_type": "text",
    "id": "oU_lctuJvkad"
   },
   "source": [
    "### 11.9 PARA SABER MAIS - DEPURADOR DO PYTHON\n",
    "O depurador do Python, o `pdb`, é um módulo embutido que funciona como um console interativo\n",
    "onde é possível realizar debug de códigos python. Você pode ler mais a respeito na documentação:\n",
    "https://docs.python.org/3/library/pdb.html"
   ]
  },
  {
   "cell_type": "markdown",
   "metadata": {
    "colab_type": "text",
    "id": "SexMNv3YxHRI"
   },
   "source": [
    "# CAPÍTULO 12\n",
    "## COLLECTIONS\n",
    "Objetivos:\n",
    "\n",
    "* conhecer o módulo collections\n",
    "* conhecer o módulo collections.abc\n",
    "\n",
    "No  capítulo  4  vimos  uma  introdução  das  principais  estruturas  de  dados  do  Python  como  listas, tuplas, conjuntos e dicionários. Também aprendemos em orientação a objetos que tudo em Python é um objeto, inclusive essas estruturas.\n",
    "\n",
    "O  Python  possui  uma  biblioteca  chamada    `collections` que  reúne  outros  tipos  de  dados alternativos ao já apresentados no capítulo 4. Esses tipos trazem novas funcionalidades.\n",
    "\n",
    "O módulo `collections` também provê um módulo de classes abstratas, o módulo  `abc.collections`, que podem ser usadas para testar se determinada classe provê uma interface particular e aprenderemos um pouco sobre elas e seu uso."
   ]
  },
  {
   "cell_type": "markdown",
   "metadata": {
    "colab_type": "text",
    "id": "4ydBnFxPx93t"
   },
   "source": [
    "### 12.1 USERLIST, USERDICT E USERSTRING\n",
    "As estruturas de dados padrão do Python são de grande valia e muito utilizadas na linguagem, mas existem momentos que precisamos de funcionalidades extras que são comuns de projeto para projeto.\n",
    "\n",
    "Nesse sentido surge o módulo  `collections`, pra acrescentar essas funcionalidades. Por exemplo, no Raspberry Pi ou Arduino, uma placa programada com pinos GPIO é representada\n",
    "por  um  objeto  `board`  com  um  atributo  `pins`. Esse  atributo  contém  um  mapeamento  das  localizações físicas  dos  pinos  para  objetos  que  representam  os  pinos.  A  localização  física  pode  ser  um  número  ou\n",
    "uma string como `A0` ou `B1`. Por consistência, é desejável que todas as chaves sejam strings assim como é conveniente que funcione para `pin[13]` quando o programador desejar fazer piscar o LED do pino 13.\n",
    "\n",
    "Precisamos  usar  índices  que  são  strings,  portanto  um  dicionário.  Além  disso,  nosso  dicionário poderia apenas aceitar strings como chaves para este objetivo específico. Para não tratar isso durante a execução de nosso programa podemos criar uma classe que tenha o comportamento de um dicionário com essa característica específica.\n",
    "\n",
    "Para  isso,  criamos  uma  classe  que  herda  de  uma  classe  chamada    `UserDict`    do  pacote `collections`:"
   ]
  },
  {
   "cell_type": "code",
   "execution_count": 0,
   "metadata": {
    "colab": {},
    "colab_type": "code",
    "id": "qLNNhn6-ybjR"
   },
   "outputs": [],
   "source": [
    "class MeuDicionario(UserDict):\n",
    "    pass"
   ]
  },
  {
   "cell_type": "markdown",
   "metadata": {
    "colab_type": "text",
    "id": "qbG4YSmnycZ4"
   },
   "source": [
    "A  classe   `UserDict`   não  herda  de   `dict`   mas  simula  um  dicionário.  A   `UserDict`   possui  uma instância de  `dict`  interna chamada  `data`, que armazena os itens propriamente ditos.\n",
    "\n",
    "Criar subclasses de tipos embutidos como   `dict`  ou   `list`  diretamente é propenso a erros porque seus  métodos  geralmente  ignoram  as  versões  sobrescritas.  Além  de  que  cada  implementação  pode  se comportar de maneira diferente. O fato de herdarmos de  `UserDict`  e não diretamente de  `dict`  é para\n",
    "evitar esses problemas.\n",
    "\n",
    "Criando a classe desta maneira, temos uma classe nossa que funciona como um dicionário. Mas não faz sentido criá-la sem acrescentar funcionalidades, já que o Python já possui essa estrutura pronta que é o  `dict`.\n",
    "\n",
    "Vamos  criar  nosso  dicionário  de  modo  que  só  aceite  chaves  como   strings   e  vai  representar  os pinos da placa do Rasbperry Pi, por exemplo:"
   ]
  },
  {
   "cell_type": "code",
   "execution_count": 0,
   "metadata": {
    "colab": {},
    "colab_type": "code",
    "id": "Cj0ICVx5yzWO"
   },
   "outputs": [],
   "source": [
    "class Pins(UserDict):\n",
    "    def __contains__(self, key):\n",
    "        return str(key) in self.keys()\n",
    "    def __setitem__(self, key, value):\n",
    "        self.data[str(key)] = value"
   ]
  },
  {
   "cell_type": "markdown",
   "metadata": {
    "colab_type": "text",
    "id": "vbJtATh4y2Rn"
   },
   "source": [
    "Note que a sobrescrita de   `__setitem__` garante que a chave sempre será uma `string`; Podemos testar essa classe:"
   ]
  },
  {
   "cell_type": "code",
   "execution_count": 0,
   "metadata": {
    "colab": {},
    "colab_type": "code",
    "id": "ZujTzpZBzAn3"
   },
   "outputs": [],
   "source": [
    "pins = Pins(one=1)\n",
    "print(pins)\n",
    "pins[3] = 1\n",
    "lista = [1, 2, 3]\n",
    "pins(lista) = 2\n",
    "print(pins)"
   ]
  },
  {
   "cell_type": "markdown",
   "metadata": {
    "colab_type": "text",
    "id": "UlPbBwM0zGeg"
   },
   "source": [
    "Perceba que quando imprimimos o dicionário, todas suas chaves são  `strings`."
   ]
  },
  {
   "cell_type": "markdown",
   "metadata": {
    "colab_type": "text",
    "id": "dD_ll8EozLcD"
   },
   "source": [
    "### 12.2 PARA SABER MAIS\n",
    "Outros  tipos  que  existem  no  módulo  `collections`  são:    `defaultdict`, `counter`, `deque` e `namedtuple`.\n",
    "\n",
    "Ao contrário do `dict`, no `defaultdict` não é necessário verificar se uma chave está presente ou não."
   ]
  },
  {
   "cell_type": "code",
   "execution_count": 0,
   "metadata": {
    "colab": {},
    "colab_type": "code",
    "id": "pObGg3QbzZqS"
   },
   "outputs": [],
   "source": [
    "cores = [('1', 'azul'), ('2', 'amarelo'), ('3', 'vermelho'), ('1', 'branco'), ('3', 'verde')]\n",
    "cores_favoritas = defaultdict(list)\n",
    "for chave, valor in cores:\n",
    "    cores_favoritas[chave].append(valor)\n",
    "print(cores_favoritas)"
   ]
  },
  {
   "cell_type": "markdown",
   "metadata": {
    "colab_type": "text",
    "id": "usO3NsGjzejq"
   },
   "source": [
    "Note que o código é executado sem acusar  `KeyError`."
   ]
  },
  {
   "cell_type": "markdown",
   "metadata": {
    "colab_type": "text",
    "id": "Y2jIpz8XznFX"
   },
   "source": [
    "#### Counter\n",
    "O   `Counter`   é  um  contador  e  permite  contar  as  ocorrências  de  um  determinado  item  em  uma estrutura de dados:"
   ]
  },
  {
   "cell_type": "code",
   "execution_count": 0,
   "metadata": {
    "colab": {},
    "colab_type": "code",
    "id": "JAinrJc7zsap"
   },
   "outputs": [],
   "source": [
    "from collections import Counter\n",
    "cores = ['amarelo', 'azul', 'azul', 'vermelho', 'azul', 'verde', 'vermelho']\n",
    "contador = Counter(cores)\n",
    "print(contador)"
   ]
  },
  {
   "cell_type": "markdown",
   "metadata": {
    "colab_type": "text",
    "id": "AXBLc7w8zwQ1"
   },
   "source": [
    "Um   `Counter`  é um   `dict`  e pode receber um objeto iterável ou um mapa como argumento para realizar a contagem de seus elementos.\n"
   ]
  },
  {
   "cell_type": "markdown",
   "metadata": {
    "colab_type": "text",
    "id": "0NTEep5Vz2iw"
   },
   "source": [
    "#### deque\n",
    "O   `deque`  é uma estrutura de dados que fornece uma   fila   com  duas  extremidades  e  é  possível adicionar e remover elementos de ambos os lados:"
   ]
  },
  {
   "cell_type": "code",
   "execution_count": 0,
   "metadata": {
    "colab": {},
    "colab_type": "code",
    "id": "wsfajGNp0AzR"
   },
   "outputs": [],
   "source": [
    "from collections import deque\n",
    "fila = deque()\n",
    "fila.append('1')\n",
    "fila.append('2')\n",
    "fila.append('3')\n",
    "print(len(fila))        #saída: 3\n",
    "fila.pop()              #exclui elemento da direita\n",
    "fila.append('3')        #adiciona elemento na direita\n",
    "fila.popleft()          #exclui elemento da esquerda\n",
    "fila.appendleft('1')    #adiciona elemento na esquerda"
   ]
  },
  {
   "cell_type": "markdown",
   "metadata": {
    "colab_type": "text",
    "id": "n5XXGyWO0Ggp"
   },
   "source": [
    "#### namedtuple\n",
    "A   `namedtuple`, como o nome sugere, são tuplas nomeadas. Não é necessário usar índices inteiros para acessar seus elementos e podemos utilizar strings - similar aos dicionários. Mas ao contrários dos dicionários, `namedtuple`  é imutável:"
   ]
  },
  {
   "cell_type": "code",
   "execution_count": 0,
   "metadata": {
    "colab": {},
    "colab_type": "code",
    "id": "04rRHgTB0PJg"
   },
   "outputs": [],
   "source": [
    "from collections import namedtuple\n",
    "Conta = namedtuple('Conta', 'numero titular saldo limite')\n",
    "conta = Conta('123-4', 'João', 1000.0, 1000.0)\n",
    "print(conta)\n",
    "print(conta.titular)"
   ]
  },
  {
   "cell_type": "markdown",
   "metadata": {
    "colab_type": "text",
    "id": "xyPPTU7f0xk7"
   },
   "source": [
    "Note  que  para  acessar  o  elemento  nomeado  utilizamos  o  operador  `.`  (ponto).  Uma   `namedtuple` posui dois argumentos obrigatórios que são: o nome da tupla e seus campos (separados por vírgula ou espaço).  No  exemplo,  a  tupla  se  chama   `Conta`   e  possui  4  campos:   `numero`, `titular`, `saldo` e `limite`. Como são imutáveis, não podemos modificar os valores de seus campos:"
   ]
  },
  {
   "cell_type": "code",
   "execution_count": 0,
   "metadata": {
    "colab": {},
    "colab_type": "code",
    "id": "MifnJlj10_MC"
   },
   "outputs": [],
   "source": [
    "conta.titular = \"José\""
   ]
  },
  {
   "cell_type": "markdown",
   "metadata": {
    "colab_type": "text",
    "id": "V1KiyQmu1C2A"
   },
   "source": [
    "A  `namedtuple` também é compatível com uma tupla normal. Isso quer dizer que você também pode usar índices inteiros para acessar seus elementos."
   ]
  },
  {
   "cell_type": "code",
   "execution_count": 0,
   "metadata": {
    "colab": {},
    "colab_type": "code",
    "id": "exKUkVRa1Nvm"
   },
   "outputs": [],
   "source": [
    "print(conta[0])"
   ]
  },
  {
   "cell_type": "markdown",
   "metadata": {
    "colab_type": "text",
    "id": "vMCof1lj1RIy"
   },
   "source": [
    "Mais  detalhes  de  cada  uma  dessas estruturas  estão  na  documentação  e  pode  ser  acessada  por  este link: https://docs.python.org/3/library/collections.html.\n",
    "\n",
    "Outra alternativa é usar a função `help(){ }` no\n",
    "objeto para acessar a documentação."
   ]
  },
  {
   "cell_type": "markdown",
   "metadata": {
    "colab_type": "text",
    "id": "-WadxXBc1dqs"
   },
   "source": [
    "### 12.3 COLLECTIONS ABC\n",
    "O módulo   `collections.abc` fornece  classes  abstratas  que  podem  ser  usadas  para  testar  se  uma classe fornece uma interface específica. Por exemplo, se ela é iterável ou não. \n",
    "\n",
    "Imagine que o banco nos entregou um arquivo com vários funcionários e pediu que calculássemos a\n",
    "bonificação  de  cada  um  deles.  Precisamos  acrescentar  este  arquivo  em  nossa  aplicação  para  iniciar  a leitura.\n",
    "\n",
    "Conteúdo do arquivo funcionarios.txt:\n",
    "\n",
    "    João,111111111-11,2500.0\n",
    "    Jose,222222222-22,3500.0\n",
    "    Maria,333333333-33,4000.0\n",
    "    Pedro,444444444-44,2500.0\n",
    "    Mauro,555555555-55,1700.0\n",
    "    Denise,666666666-66,3000.0\n",
    "    Tomas,777777777-77,4200.0\n",
    "\n",
    "Cada linha do arquivo representa um   Funcionario  com seus atributos separados por vírgula. Este arquivo está no padrão Comma-separated-values, também conhecido como `csv` e são comumente usados.\n",
    "\n",
    "O Python dá suporte de leitura para este tipo de arquivo. Então vamos acrescentar o módulo   `csv`  que vai ajudar na tarefa de ler o arquivo:"
   ]
  },
  {
   "cell_type": "code",
   "execution_count": 0,
   "metadata": {
    "colab": {},
    "colab_type": "code",
    "id": "IX8n1B-q1zjo"
   },
   "outputs": [],
   "source": [
    "import csv\n",
    "arquivo = open('funcionario.txt', 'r')\n",
    "leitor = csv.reader(arquivo)\n",
    "for linha in leitor:\n",
    "    print(linha)\n",
    "arquivo.open()"
   ]
  },
  {
   "cell_type": "markdown",
   "metadata": {
    "colab_type": "text",
    "id": "eP9aRQlL14GL"
   },
   "source": [
    "O  programa  acima  abre  um  arquivo  e  um  leitor  do  módulo `csv`, o `reader` -  recebe  o  arquivo como parâmetro e devolve um leitor que vai ler linha a linha e guardar seu conteúdo. Podemos iterar sobre este leitor e pedir para imprimir o conteúdo de cada linha - que é exatamente o que é feito no laço `for`. Por último fechamos o arquivo."
   ]
  },
  {
   "cell_type": "markdown",
   "metadata": {
    "colab_type": "text",
    "id": "9ChZekkK2me2"
   },
   "source": [
    "Repare que o `reader` guarda cada linha de um arquivo em uma lista e cada valor delimitado por vírgula se torna um elemento desta lista o que facilita o acesso aos dados.\n",
    "\n",
    "Agora, com estes dados em mãos, podemos construir nossos objetos de tipo `Funcionario`:"
   ]
  },
  {
   "cell_type": "code",
   "execution_count": 0,
   "metadata": {
    "colab": {},
    "colab_type": "code",
    "id": "Yi9J3VZw2SlO"
   },
   "outputs": [],
   "source": [
    "for linha in reader:\n",
    "    funcionario = Funcionario(linha[0], linha[1], linha[2])"
   ]
  },
  {
   "cell_type": "markdown",
   "metadata": {
    "colab_type": "text",
    "id": "xZOqs_bf2z6o"
   },
   "source": [
    "Mas ainda precisamos de uma estrutura para guardá-los. Vamos utilizar uma lista:"
   ]
  },
  {
   "cell_type": "code",
   "execution_count": 0,
   "metadata": {
    "colab": {},
    "colab_type": "code",
    "id": "oHr3LHu522Ml"
   },
   "outputs": [],
   "source": [
    "funcionarios = []\n",
    "for linha in reader:\n",
    "    funcionario = Funcionario(linha[0], linha[1], linha[2])\n",
    "    funcionarios.append(funcionario)"
   ]
  },
  {
   "cell_type": "markdown",
   "metadata": {
    "colab_type": "text",
    "id": "4OnZA83f27dS"
   },
   "source": [
    "E por fim imprimimos os saldos da lista:"
   ]
  },
  {
   "cell_type": "code",
   "execution_count": 0,
   "metadata": {
    "colab": {},
    "colab_type": "code",
    "id": "e8CbK_x92-oL"
   },
   "outputs": [],
   "source": [
    "for f in funcionarios:\n",
    "    print(f.saldo)"
   ]
  },
  {
   "cell_type": "markdown",
   "metadata": {
    "colab_type": "text",
    "id": "PCGMjQ6l3Ayd"
   },
   "source": [
    "Acontece que nada impede, posteriormente, de inserirmos nesta lista qualquer outro objeto que não um funcionário:"
   ]
  },
  {
   "cell_type": "code",
   "execution_count": 0,
   "metadata": {
    "colab": {},
    "colab_type": "code",
    "id": "0WBZrwsC3FzF"
   },
   "outputs": [],
   "source": [
    "funcionarios.append('Python')\n",
    "funcionarios.append(1234)\n",
    "funcionarios.append(True)"
   ]
  },
  {
   "cell_type": "markdown",
   "metadata": {
    "colab_type": "text",
    "id": "OId71tBd3J3U"
   },
   "source": [
    "A `list` da  biblioteca  padrão  aceita  qualquer  tipo  de  objeto  como  elemento.\n",
    "\n",
    "Não  queremos  este comportamento já que iremos calcular a bonificação de cada um deles e dependendo do tipo de objetos inserido na lista, gerará erros.\n",
    "\n",
    "O ideal é que tivéssemos uma estrutura de dados que aceitasse apenas objetos de tipo `Funcionario`. O módulo  `collections.abc`  fornece classes abstratas que nos ajudam a construir estruturas específicas, com características da regra de negócio da aplicação."
   ]
  },
  {
   "cell_type": "markdown",
   "metadata": {
    "colab_type": "text",
    "id": "YG_NggJf3hcF"
   },
   "source": [
    "### 12.4 CONSTRUINDO UM CONTAINER\n",
    "O módulo  `collections.abc` possui uma classe absrata chamada  `Container` > Um   container  é\n",
    "qualquer  objeto  que  contém  um  número arbitrário  de  outros  objetos.  Listas,  tuplas,  conjuntos  e dicionários  são  tipos  de  containers.  A  classe   `Container` suporta  o  operador `in` com  o  método `__contains__`."
   ]
  },
  {
   "cell_type": "markdown",
   "metadata": {
    "colab_type": "text",
    "id": "r2Ykr5Fo3xNn"
   },
   "source": [
    "Precisamos construir um container de objetos de tipo  `Funcionario`. Podemos construir uma classe que representará essa estrutura que deve ser subclasse de `Container`:"
   ]
  },
  {
   "cell_type": "code",
   "execution_count": 0,
   "metadata": {
    "colab": {},
    "colab_type": "code",
    "id": "Xyre0HIN37xU"
   },
   "outputs": [],
   "source": [
    "from collections.abc import Container\n",
    "class Funcionarios(Container):\n",
    "    pass"
   ]
  },
  {
   "cell_type": "code",
   "execution_count": 0,
   "metadata": {
    "colab": {},
    "colab_type": "code",
    "id": "pcAYnUM839w7"
   },
   "outputs": [],
   "source": [
    "funcionarios = Funcionarios()"
   ]
  },
  {
   "cell_type": "markdown",
   "metadata": {
    "colab_type": "text",
    "id": "wmU85Csb4BN0"
   },
   "source": [
    "O código acima acusa um `TypeError`\n",
    "\n",
    "Precisamos  implementar  o  método   `__contains__`   já  que   `Funcionarios`   deve  implementar  a classe abstrata   `Container`. A ideia é que nosso container se comporte como uma lista, então teremos\n",
    "um atributo do tipo lista em nossa classe para guardar os objetos e implementar o método `contains`:"
   ]
  },
  {
   "cell_type": "code",
   "execution_count": 0,
   "metadata": {
    "colab": {},
    "colab_type": "code",
    "id": "yy3kHS5N4Ou0"
   },
   "outputs": [],
   "source": [
    "from collections.abc import Container\n",
    "class Funcionarios(Container):\n",
    "    _dados = []\n",
    "    def __contains__(self, posicao):\n",
    "        return self._dados.__contains__(self, posicao)"
   ]
  },
  {
   "cell_type": "code",
   "execution_count": 0,
   "metadata": {
    "colab": {},
    "colab_type": "code",
    "id": "hByjxzOB4Rg9"
   },
   "outputs": [],
   "source": [
    "funcionarios = Funcionarios()"
   ]
  },
  {
   "cell_type": "markdown",
   "metadata": {
    "colab_type": "text",
    "id": "FNXtNVIC4Ux4"
   },
   "source": [
    "### 12.5 SIZED\n",
    "O tamanho do nosso container também é uma informação importante. Nossa classe  `Funcionarios` deve saber retornar esse valor. \n",
    "\n",
    "Utilizamos a classe abstrata `Sized`  para garantir essa funcionalidade. A classe  `Sized`  provê o método  `len()`  através do método especial `__len__()`:"
   ]
  },
  {
   "cell_type": "code",
   "execution_count": 0,
   "metadata": {
    "colab": {},
    "colab_type": "code",
    "id": "iKHTkSP34hgG"
   },
   "outputs": [],
   "source": [
    "from collections.abc import Container\n",
    "class Funcionarios(Container, Sized):\n",
    "    _dados = []\n",
    "    def __contains__(self, posicao):\n",
    "        return self._dados.__contains__(self, posicao)\n",
    "    def __len__(self):\n",
    "        return len(self._dados)"
   ]
  },
  {
   "cell_type": "code",
   "execution_count": 0,
   "metadata": {
    "colab": {},
    "colab_type": "code",
    "id": "hxQsuwM04niZ"
   },
   "outputs": [],
   "source": [
    "funcionarios = Funcionarios()"
   ]
  },
  {
   "cell_type": "markdown",
   "metadata": {
    "colab_type": "text",
    "id": "lhXWleU44qsk"
   },
   "source": [
    "### 12.6 ITERABLE\n",
    "Além  de  conter  objetos  e  saber  retornar  a  quantidade  de  seus  elementos,  queremos  que  nosso container seja iterável, ou seja, que consigamos iterar sobre seus elementos em um laço for, por exemplo.\n",
    "\n",
    "O módulo   `collection.abc`   também  provê  uma  classe  abstrata  para  este  comportamento,  é  a  classe `Iterable`. `Iterable`  suporta iteração com o método  `__iter__`:"
   ]
  },
  {
   "cell_type": "code",
   "execution_count": 0,
   "metadata": {
    "colab": {},
    "colab_type": "code",
    "id": "YqC70zyI49W3"
   },
   "outputs": [],
   "source": [
    "from collections.abc import Container\n",
    "class Funcionarios(Container, Sized, Iterable):\n",
    "    _dados = []\n",
    "    def __contains__(self, posicao):\n",
    "        return self._dados.__contains__(self, posicao)\n",
    "    def __len__(self):\n",
    "        return len(self._dados)\n",
    "    def __iter__(self):\n",
    "        return self._dados.__iter__(self)"
   ]
  },
  {
   "cell_type": "code",
   "execution_count": 0,
   "metadata": {
    "colab": {},
    "colab_type": "code",
    "id": "P48odYUl5BGQ"
   },
   "outputs": [],
   "source": [
    "funcionarios = Funcionarios()"
   ]
  },
  {
   "cell_type": "markdown",
   "metadata": {
    "colab_type": "text",
    "id": "LJXZZouz5Iks"
   },
   "source": [
    "Toda coleção deve herdar dessas classes ABCs:  `Container`, `Iterable` e `Sized`. Ou implementar seus protocolos:  `__contains__`, `__iter__` e `__len__`.\n",
    "\n",
    "Além  dessas  classes  existem  outras  que  facilitam  esse  trabalho  e  implementam  outros  protocolos.\n",
    "\n",
    "Veja a hierarquia de classe do módulo `collections.abc`:\n",
    "\n",
    "Figura 13.1: legenda da imagem\n",
    "\n",
    "\n",
    "Além do que já foi implementado, a ideia é que nossa classe  `Funcionario` funcione como uma lista contando  apenas  objetos  do  tipo   `Funcionario`. Como  aprendemos  no  capítulo  4,  uma  lista  é  uma sequência. Além de uma sequência, é uma sequência mutável - podemos adicionar elementos em uma lista. Nossa classe  `Funcionario` também deve possuir essa funcionalidade.\n",
    "\n",
    "Segundo o diagrama de classes do módulo  `collections.abc`, a classe que representa essa estrutura é  a    `MutableSequence`.  Note  que `MutableSequece` herda  de `Sequence` que representa  uma sequência; que por sua vez herda de `Container`, `Iterable` e `Sized`.\n",
    "\n",
    "Figura 13.2: legenda da imagem\n",
    "\n",
    "Portanto,  devemos  implementar  5  métodos  abstratos  (em  itálico  na  imagem)  segundo  a\n",
    "documentação de   `MutableSequence`: `__len__`, `__getitem__`, `__setitem__`, `__delitem__` e `insert`. O método  `__getitem__`  garante que a classe é um  `Container`  e  `Iterable`. \n",
    "\n",
    "Segundo a `PEP 234` (https://www.python.org/dev/peps/pep-0234/)  um  objeto  pode  ser  iterável  com  um  laço  `for`  se implementa  `__iter__` ou `__getitem__`.\n",
    "\n",
    "Então, basta nossa classe `Funcionario` herdar de `MutableSequence` e implementar seus métodos\n",
    "abstratos:"
   ]
  },
  {
   "cell_type": "code",
   "execution_count": 0,
   "metadata": {
    "colab": {},
    "colab_type": "code",
    "id": "mfMR5OWy6F6B"
   },
   "outputs": [],
   "source": [
    "class Funcionarios(MutableSequence):\n",
    "    _dados = []\n",
    "    def __len__(self):\n",
    "        return len(self._dados)\n",
    "    def __getitem__(self, posicao):\n",
    "        return self._dados[posicao]\n",
    "    def __setitem__(self, posicao, valor):\n",
    "        self._dados[posicao] = valor\n",
    "    def __delitem__(self, posicao):\n",
    "        del self._dados[posicao]\n",
    "    def insert(self, posicao, valor):\n",
    "        return self._dados.insert(posicao, valor)"
   ]
  },
  {
   "cell_type": "markdown",
   "metadata": {
    "colab_type": "text",
    "id": "nghpK72C6Su0"
   },
   "source": [
    "E  podemos  voltar  ao  nosso  código  para  acrescentar  os  dados  de  um  arquivo  em  nosso  container `Funcionarios`:"
   ]
  },
  {
   "cell_type": "code",
   "execution_count": 0,
   "metadata": {
    "colab": {},
    "colab_type": "code",
    "id": "wadCk1yd6YgX"
   },
   "outputs": [],
   "source": [
    "import csv\n",
    "arquivo = open('funcionario.txt', 'r')\n",
    "leitor = csv.reader(arquivo)\n",
    "funcionarios = Funcionarios()\n",
    "for linha in leitor:\n",
    "    funcionario = Funcionario(linha[0], linha[1], linha[2])\n",
    "    funcionarios.append(funcionario)\n",
    "arquivo.open()"
   ]
  },
  {
   "cell_type": "markdown",
   "metadata": {
    "colab_type": "text",
    "id": "nqFXZKMA6dlI"
   },
   "source": [
    "O método   `insert()` garante  o funcionamento  do  método `append()`. E  podemos  imprimir  os valores dos salários de cada funcionário:"
   ]
  },
  {
   "cell_type": "code",
   "execution_count": 0,
   "metadata": {
    "colab": {},
    "colab_type": "code",
    "id": "H_AxUvpY6m2P"
   },
   "outputs": [],
   "source": [
    "for f in funcionarios:\n",
    "    print(f.salario)"
   ]
  },
  {
   "cell_type": "markdown",
   "metadata": {
    "colab_type": "text",
    "id": "cPmAkx5p6mWJ"
   },
   "source": [
    "Mas até aqui não há nada de diferente de uma lista comum. Ainda não há nada que impeça de inserir qualquer outro objeto em nossa lista. Nossa classe `Funcionarios`  se comporta como uma lista comum.\n",
    "\n",
    "A  ideia  de  implementarmos  as  interfaces  de   `collections.abc`   era  exatamente  modificar  alguns comportamentos.\n",
    "\n",
    "Queremos que nossa lista de funcionários apenas aceite objetos  `Funcionario`. Vamos sobrescrever os métodos  `__setitem__()`  que atribuiu um valor em determinada posição na lista. Este método pode apenas atribuir a uma determinada posição um objeto  `Funcionario`.\n",
    "\n",
    "Para isso, vamos usar o método `isinstance()` que vai verificar se o objeto a ser atribuído é uma instância  de `Funcionario`.  Caso  contrário,  vamos  lançar  uma  exceção    `TypeError` com  uma mensagem de erro:"
   ]
  },
  {
   "cell_type": "code",
   "execution_count": 0,
   "metadata": {
    "colab": {},
    "colab_type": "code",
    "id": "mkrWUF-96_sl"
   },
   "outputs": [],
   "source": [
    "def __setitem__(self, posicao, valor):\n",
    "    if (isinstance(valor, Funcionario)):\n",
    "        self._dados[posicao] = valor\n",
    "    else:\n",
    "        raise ValueError('Valor atribuído não é um Funcionario')"
   ]
  },
  {
   "cell_type": "markdown",
   "metadata": {
    "colab_type": "text",
    "id": "1c1bJdkY7CbA"
   },
   "source": [
    "Agora,  ao  tentar  atribuir  uma  valor  a  determinada  posição  de  nossa  lista,  recebemos  um `TypeError`:"
   ]
  },
  {
   "cell_type": "code",
   "execution_count": 0,
   "metadata": {
    "colab": {},
    "colab_type": "code",
    "id": "P78WgMyK7GST"
   },
   "outputs": [],
   "source": [
    "funcionarios[0] = 'Python'"
   ]
  },
  {
   "cell_type": "markdown",
   "metadata": {
    "colab_type": "text",
    "id": "CoNQTfTl7K6s"
   },
   "source": [
    "Faremos o mesmo com o método  `insert()`:"
   ]
  },
  {
   "cell_type": "code",
   "execution_count": 0,
   "metadata": {
    "colab": {},
    "colab_type": "code",
    "id": "gmuqykDP7O-g"
   },
   "outputs": [],
   "source": [
    "def insert(self, posicao, valor):\n",
    "    if(isinstance(valor, Funcionario)):\n",
    "        return self._dados.insert(posicao, valor)\n",
    "    else:\n",
    "        raise ValueError('Valor inserido não é um Funcionario')"
   ]
  },
  {
   "cell_type": "markdown",
   "metadata": {
    "colab_type": "text",
    "id": "AJGzXnxy7T_K"
   },
   "source": [
    "E podemos testar nossa classe imprimindo não apenas o salário mas o valor da bonificação de cada `Funcionario` através do método `get_bonificacao()`  que definimos nos capítulos passados:"
   ]
  },
  {
   "cell_type": "code",
   "execution_count": 0,
   "metadata": {
    "colab": {},
    "colab_type": "code",
    "id": "-OkF71c07esa"
   },
   "outputs": [],
   "source": [
    "import csv\n",
    "arquivo = open('funcionario.txt', 'r')\n",
    "leitor = csv.reader(arquivo)\n",
    "funcionarios = Funcionarios()\n",
    "for linha in leitor:\n",
    "    funcionario = Funcionario(linha[0], linha[1], linha[2])\n",
    "    funcionarios.append(funcionario)\n",
    "print('salário - bonificação')    \n",
    "for c in contas:\n",
    "    print('{} - {}'.formar(f.salario, f.get_bonificacao()))    \n",
    "arquivo.open()"
   ]
  },
  {
   "cell_type": "markdown",
   "metadata": {
    "colab_type": "text",
    "id": "XzQyEX1N7oz2"
   },
   "source": [
    "As classes ABCs foram criadas para encapsular conceitos genéricos e abstrações como aprendemos\n",
    "no  capítulo  de  classes  abstratas.  São  comumente  utilizadas  em  grandes  aplicações  e  frameworks  para garantir a consistência do sistema através dos métodos  `isinstance()` e `issubclass()`. No dia a dia é raramente usado e basta o uso correto das estruturas já fornecidas pela biblioteca padrão do Python para\n",
    "a maior parte das tarefas.\n",
    "\n",
    "Conhecer o módulo collections.abc é (hahahah estava assim na apostila!)"
   ]
  },
  {
   "cell_type": "markdown",
   "metadata": {
    "colab_type": "text",
    "id": "WMs0GsRZ81An"
   },
   "source": [
    "### 12.7 EXERCÍCIO: CRIANDO NOSSA SEQUÊNCIA\n",
    "1.  Vá na pasta no curso e copie o arquivo  contas.txt  na pasta   src  do projeto   banco  que contém vários dados de contas correntes de clientes do banco.\n",
    "\n",
    "2.  Crie um arquivo chamado contas.py  na  pasta   src   do  projeto   banco .  Crie  uma  classe  chamada Contas  que herde da classe abstrata  MutableSequence :\n",
    "\n",
    "        from collections.abc import Sequence\n",
    "        class Contas(MutableSequence):\n",
    "            pass\n",
    "3.  Vamos criar um atributo da classe do tipo  list  para armazenar nossas contas:\n",
    " from collections.abc import MutableSequence\n",
    " class Contas(MutableSequence):\n",
    "     _dados = []\n",
    "4.  Tente instanciar um objeto de tipo  Contas :\n",
    "\f",
    ".\n",
    " if __name__=='__main__':\n",
    "     contas = Contas()\n",
    "Note  que  não  podemos  instanciar  este  objeto.  A  interface    MutableSequence    nos  obriga  a\n",
    "implementar alguns métodos:\n",
    " Traceback (most recent call last):\n",
    "   File <stdin>, line 44, in <module>\n",
    "     contas = Contas()\n",
    " TypeError: Can't instantiate abstract class Contas with abstract methods __delitem__, __getitem__\n",
    ", __len__, __setitem__, insert\n",
    "5.  Implemente os métodos exigidos pela interface  MutableSequence  na classe  Contas :\n",
    " from collections.abc import MutableSequence\n",
    " class Contas(MutableSequence):\n",
    "     _dados = []\n",
    "     def __len__(self):\n",
    "         return len(self._dados)\n",
    "     def __getitem__(self, posicao):\n",
    "         return self._dados[posicao]\n",
    "     def __setitem__(self, posicao, valor):\n",
    "         self._dados[posicao] = valor\n",
    "     def __delitem__(self, posicao):\n",
    "         del self._dados[posicao]\n",
    "     def insert(self, posicao, valor):\n",
    "         return self._dados.insert(posicao, valor)\n",
    "Agora conseguimos instanciar nossa classe sem nenhum erro:\n",
    " if __name__=='__main__':\n",
    "     contas = Contas()\n",
    "6.  Nossa sequência só deve permitir adicionar elementos que sejam do tipo  Conta . Vamos acrescentar\n",
    "essa validação nos métodos   __setitem__  e   insert . Caso o valor não seja uma   Conta ,  vamos\n",
    "lançar um  ValueError  com as devidas mensagens de erro:\n",
    " def __setitem__(self, posicao, valor):\n",
    "     if (isinstance(valor, Conta)):\n",
    "         self._dados[posicao] = valor\n",
    "     else:\n",
    "         raise ValueError(\"valor atribuído não é uma conta\")\n",
    " def insert(self, posicao, valor):\n",
    "     if(isinstance(valor, Conta)):\n",
    "         return self._dados.insert(posicao, valor)\n",
    "     else:\n",
    "         raise ValueError('valor inserido não é uma conta')\n",
    "7.  Vamos iniciar a leitura dos dados do arquivo para armazenar em nosso objeto  contas :\n",
    " if __name__=='__main__':\n",
    "     import csv\n",
    "     contas = Contas()\n",
    "     arquivo = open('contas.txt', 'r')\n",
    "     leitor = csv.reader(arquivo)\n",
    "     arquivo.close()\n",
    "8.  Vamos  criar  uma  laço  for  para  ler  cada  linha  do  arquivo  e  construir  um  objeto  do  tipo\n",
    " ContaCorrente .\n",
    " if __name__=='__main__':\n",
    "     import csv\n",
    "     from conta import ContaConrrete\n",
    "     contas = Contas()\n",
    "     arquivo = open('contas.txt', 'r')\n",
    "     leitor = csv.reader(arquivo)\n",
    "     for linha in leitor:\n",
    "         conta = ContaCorrente(linha[0], linha[1], linha[2], linha[3])\n",
    "     arquivo.close()\n",
    "9.  Queremos inserir cada conta criada em nossa sequência mutável   contas . Vamos pedir para que o\n",
    "programa acrescente cada conta criada em contas:\n",
    " for linha in leitor:\n",
    "     conta = ContaCorrente(linha[0], linha[1], float(linha[2]))\n",
    "     contas.append(conta)\n",
    " arquivo.close()\n",
    "10.  Nossa  classe   Contas   implementa   MutableSequence .  Isso  quer  dizer  que  ela  é  iterável  já  que\n",
    " MutableSequence  implementa o protocolo   __iter__  através do método   __getitem__ . Vamos\n",
    "iterar  através  de  uma  laço  for  nosso  objeto   contas   e  pedir  para  imprimir  o  saldo  e  o  valor  do\n",
    "imposto de cada uma delas:\n",
    " if __name__ == '__main__':\n",
    "     #código omitido\n",
    "     arquivo.close()\n",
    "     print('saldo -  imposto')\n",
    "     for c in contas:\n",
    "         print('{} - {}'.format(c.saldo, c.get_valor_imposto()))\n",
    "Que vai gerar a saída:\n",
    " saldo  - imposto\n",
    " 1200.0 - 12.0\n",
    " 2200.0 - 22.0\n",
    " 1500.0 - 15.0\n",
    " 5300.0 - 53.0\n",
    " 7800.0 - 78.0\n",
    "\f",
    ".\n",
    " 1700.0 - 17.0\n",
    " 2300.0 - 23.0\n",
    " 8000.0 - 80.0\n",
    " 4600.0 - 46.0\n",
    " 9400.0 - 94.0\n",
    "11.  (Opcional)  Modifique  o  código  do  exercício  anterior  de  modo  que  imprima  o  valor  do  saldo\n",
    "atualizado das contas.\n",
    "12.  (Opcional)  Faça  o  mesmo  com  as  contas  poupanças.  Crie  um  arquivo  com  extensão   .csv   com\n",
    "algumas  contas  poupanças,  faça  a  leitura,  construa  os  objetos  e  acrescente  em  uma  estrutura  de\n",
    "dados do tipo  MutableSequence .\n",
    "13.  (Opcional) Refaça o exercício utilizando  MutableMapping  ao invés de  MutableSequence ."
   ]
  },
  {
   "cell_type": "markdown",
   "metadata": {
    "colab_type": "text",
    "id": "_CuEWMIHAtBX"
   },
   "source": [
    "# CAPÍTULO 13\n",
    "## APÊNDICE - PYTHON2 OU PYTHON3?\n",
    "Caso  você  esteja  iniciando  seus  estudos na  linguagem  Python  ou  começando  um  projeto  novo, aconselhamos fortemente que você utilize o Python3.\n",
    "\n",
    "O Python2 vem sendo chamado de Python legado ou Python antigo por boa parte da comunidade que  está  em  constante  atividade  para  fazer  a  migração  da  base  de  código  existente (bem  grande,  por sinal) para Python3.\n",
    "\n",
    "Aconselhamos a leitura deste artigo para maiores detalhes:https://wiki.python.org/moin/Python2orPython3.\n",
    "\n",
    "A pergunta correta aqui é: Quando devo usar o Python antigo? E a resposta mais comum que você\n",
    "vai encontrar é: use Python antigo quando você não tiver escolha.\n",
    "\n",
    "Por exemplo, quando você trabalhar em um projeto antigo e migrar para a nova versão não for uma alternativa  no  momento.  Ou  quando  você  precisa  utilizar  uma  biblioteca  que  ainda  não  funciona  no Python3  ou  não  está  em  processo  de  mudança.  Outro  caso  é  quando  seu  servidor  de  hospedagem  só\n",
    "permite usar Python2 - aqui o aconselhável é procurar por outro serviço que atenda sua demanda.\n",
    "\n",
    "No mais, você encontrará muito material sobre o Python2 na internet e aos poucos vai conhecendo\n",
    "melhor as diferenças entre uma versão e outra."
   ]
  },
  {
   "cell_type": "markdown",
   "metadata": {
    "colab_type": "text",
    "id": "QUtt8tjrBE-J"
   },
   "source": [
    "### 13.1 QUAIS AS DIFERENÇAS?\n",
    "Neste artigo você vai encontrar a resposta https://docs.python.org/3/whatsnew/3.0.html. Mas neste capítulo mostramos as diferenças mais básicas e importantes para você iniciar seus estudos."
   ]
  },
  {
   "cell_type": "markdown",
   "metadata": {
    "colab_type": "text",
    "id": "vbrd9w31BeTB"
   },
   "source": [
    "### 13.2 A FUNÇÃO PRINT()\n",
    "No  Python2  o  comando   `print`   funciona  de  maneira  diferente  já  que  não  é  uma  função.  Para imprimir algo fazemos:\n",
    "    # no python2\n",
    "    print \"Hello World!\"\n",
    "\n",
    "No Python3  `print`  é uma função e utilizamos os parênteses como delimitadores:"
   ]
  },
  {
   "cell_type": "code",
   "execution_count": 0,
   "metadata": {
    "colab": {},
    "colab_type": "code",
    "id": "ApIBZcD_Bu5n"
   },
   "outputs": [],
   "source": [
    "print(\"Hello World!\")"
   ]
  },
  {
   "cell_type": "markdown",
   "metadata": {
    "colab_type": "text",
    "id": "qUp89EGuBeII"
   },
   "source": [
    "### 13.3 A FUNÇÃO INPUT()\n",
    "A função  `raw_input`  do Python2 foi renomeada para  `input()`  no Python3:\n",
    "    # no python2\n",
    "    nome = raw_input(\"Digite seu nome: \")\n",
    "\n",
    "No Python3:"
   ]
  },
  {
   "cell_type": "code",
   "execution_count": 0,
   "metadata": {
    "colab": {},
    "colab_type": "code",
    "id": "0YxpGQ5VBS7f"
   },
   "outputs": [],
   "source": [
    "nome = input(\"Digite seu nome: \")"
   ]
  },
  {
   "cell_type": "markdown",
   "metadata": {
    "colab_type": "text",
    "id": "apu1fbOYB5Sy"
   },
   "source": [
    "### 13.4 DIVISÃO DECIMAL\n",
    "No Python2 a divisão entre números decimais é diferente entre um número decimal e um inteiro:\n",
    "    # no python2\n",
    "    >>> 5 / 2\n",
    "    2\n",
    "    >>> 5 / 2.0\n",
    "    2.5\n",
    "\n",
    "No  Python3  a  divisão  tem  o  mesmo  comportamento  da  matemática.  E  se  quisermos  o  resultado\n",
    "inteiro da divisão utilizamos  `//`:"
   ]
  },
  {
   "cell_type": "code",
   "execution_count": 0,
   "metadata": {
    "colab": {},
    "colab_type": "code",
    "id": "DlCqh8jdB5rS"
   },
   "outputs": [],
   "source": [
    "5 / 2"
   ]
  },
  {
   "cell_type": "code",
   "execution_count": 0,
   "metadata": {
    "colab": {},
    "colab_type": "code",
    "id": "H6NNxjEkCHd_"
   },
   "outputs": [],
   "source": [
    "5 // 2"
   ]
  },
  {
   "cell_type": "markdown",
   "metadata": {
    "colab_type": "text",
    "id": "DGRgurSOCM9S"
   },
   "source": [
    "### 13.5 HERANÇA\n",
    "No Python2 suas classes devem herdar de  `object`:\n",
    "    # no python2\n",
    "    class MinhaClasse(object):\n",
    "        def metodo(self, attr1, attr2):\n",
    "            return attr1 + attr2\n",
    "\n",
    "No Python3 essa herança é implícita, não precisando herdar explicitamente de `object`:"
   ]
  },
  {
   "cell_type": "code",
   "execution_count": 0,
   "metadata": {
    "colab": {},
    "colab_type": "code",
    "id": "2RR4USOjCXor"
   },
   "outputs": [],
   "source": [
    "class MinhaClasse():\n",
    "    def metodo(self, attr1, attr2):\n",
    "        return attr1 + attr2"
   ]
  },
  {
   "cell_type": "markdown",
   "metadata": {
    "colab_type": "text",
    "id": "Dq1idRRXCh3J"
   },
   "source": [
    "# CAPÍTULO 14\n",
    "## APÊNDICE - INSTALAÇÃO\n",
    "O Python já vem instalado nos sistemas Linux e Mac OS mas será necessário fazer o download da última versão (Python 3.6) para acompanhar a apostila. O Python não vem instalado por padrão no Windows e o download deverá ser feito no site https://www.python.org/ além de algumas configurações extras.\n",
    "\n",
    "### 14 .1 INSTALANDO O PYTHON NO WINDOWS\n",
    "O primeiro passo é acessar o site do Python: https://www.python.org/. Na sessão de   Downloads  já será  disponibilizado  o  instalador  específico  do  Windows automaticamente,  portanto  é  só  baixar  o Python3, na sua versão mais atual.\n",
    "\n",
    "Figura 15.1: Tela de download do Python para o Windows\n",
    "\n",
    "Após  o  download  ser  finalizado,  abra-o  e  na  primeira  tela  marque  a  opção   \n",
    "\n",
    "    Add Python  3.X  to PATH. \n",
    "    \n",
    "Essa opção é importante para conseguirmos executar o Python dentro do Prompt de Comando\n",
    "do Windows. Caso você não tenha marcado esta opção, terá que configurar a variável de ambiente no Windows de forma manual.\n",
    "\n",
    "Figura 15.2: Checkbox selecionado\n",
    "\n",
    "Selecione a instalação customizada somente para ver a instalação com mais detalhes.\n",
    "\n",
    "Figura 15.3: Instalação customizada\n",
    "\n",
    "Na  tela  seguinte  são  as  features opcionais,  se  certifique  que  o  gerenciador  de  pacotes   pip   esteja selecionado,  ele  que  permite  instalar pacotes  e  bibliotecas  no  Python.  Clique em   Next   para  dar seguimento na instalação.\n",
    "\n",
    "Figura 15.4: Optional Features\n",
    "\n",
    "Já  na  terceira  tela,  deixe  tudo  como  está,  mas  se  atente  ao  diretório  de  instalação  do  Python, para caso queira procurar o executável ou algo que envolva o seu diretório.\n",
    "\n",
    "Figura 15.5: Advanced Options\n",
    "\n",
    "Por fim, basta clicar em  `Install`  e aguardar o término da instalação.\n",
    "\n",
    "Figura 15.6: Instalação Concluída com Sucesso\n",
    "\n",
    "Terminada a instalação, teste se o Python foi instalado corretamente. Abra o Prompt de Comando e execute:\n",
    "    \n",
    "    python -V\n",
    "\n",
    "OBS: Para que funcione corretamente é necessário que seja no Prompt de Comando e não em algum programa Git Bash instalado em sua máquina. E o comando  `python -V  é importante que esteja com o `V` com letra maiúscula.\n",
    "\n",
    "Esse comando imprime a versão do Python instalada no Windows. Se a versão for impressa, significa que o Python foi instalado corretamente. Agora, rode o comando  `python`:\n",
    "    \n",
    "    python\n",
    "\n",
    "Assim você terá acesso ao console do próprio Python, conseguindo assim utilizá-lo.\n",
    "\f",
    "\n",
    "### 14.2 INSTALANDO O PYTHON NO LINUX\n",
    "Os sistemas operacionais baseados no Debian já possuem o Python3 pré-instalado. Verifique se o seu sistema já possui o Python3 instalado executando o seguinte comando no terminal:\n",
    "    \n",
    "    python3 -V\n",
    "\n",
    "OBS: O comando  `python3 -V`  é importante que esteja com o  `V`  com letra maiúscula.\n",
    "\n",
    "Este comando retorna a versão do Python3 instalada. Se você ainda não tiver ele instalado, digite os seguintes comandos no terminal:\n",
    "\n",
    "    sudo apt-get update\n",
    "    sudo apt3-get install python\n",
    "\n",
    "Para que você consiga instalar os pacotes do Python é necessário ter o gerenciador de pacotes   `pip` instalado no sistema. Para instalar esse gerenciador, digite no terminal:\n",
    "    \n",
    "    sudo apt-get install python-pip\n",
    "\n",
    "### 14.3 INSTALANDO O PYTHON NO MACOS\n",
    "A maneira mais fácil de instalar o Python3 no MacOS é utilizando o  `Homebrew`. Com o   `Homebrew` instalado, abra o terminal e digite os seguintes comandos:\n",
    "\n",
    "    brew update\n",
    "    brew install python3\n",
    "\n",
    "Para que você consiga instalar os pacotes do Python é necessário ter o gerenciador de pacotes   `pip` instalado no sistema. Para instalar esse gerenciador, digite no terminal:\n",
    "\n",
    "    sudo apt-get install python-pip\f",
    "\n",
    "\n",
    "### 14.4 OUTRAS FORMAS DE UTILIZAR O PYTHON\n",
    "Podemos rodar o Python diretamente do seu próprio Prompt.\n",
    "\n",
    "Podemos  procurar  pelo  Python  na  caixa  de  pesquisa  do  Windows  e  abri-lo,  assim  o seu  console próprio será aberto. Uma outra forma é abrir a `IDLE` do Python, que se parece muito com o console mas vem com um menu que possui algumas opções extras."
   ]
  }
 ],
 "metadata": {
  "colab": {
   "collapsed_sections": [
    "MUrJolt2-aD-",
    "3NqZ-0r1_q54",
    "RQ33gi3tDYEG",
    "nHDNPdbAFPh1",
    "ZhENGRztLHtI",
    "RCy0rjvJNXe4",
    "Uxbidv3xYPq7",
    "6yOIodPpbR6W",
    "ewCTTwW9c8iJ",
    "_louaPl3eq5r",
    "9eWtCzypfZGx",
    "t4nxmF1hjXsj",
    "r7BK-qFsktm5",
    "YEhH95O6iQ-J",
    "vN3yymMnkJJI",
    "-zT5izhklP47",
    "2oAom-dSljYS",
    "WjhzraVwmTWf",
    "2XyYPb_9mcUy",
    "U_oT0D5lK6g0",
    "PplhZST5N23M",
    "ascok5l4PHvW",
    "vjYownPjTGoh",
    "gVsP3_yGTqsA",
    "3CKu4tXrXbbs",
    "BKB4T2xOYQEP",
    "qx5zVH1MYP5A",
    "M2T54kleV5Tm",
    "L8S_l9K0gKlg",
    "DgKQHFOvh7a8",
    "sunWFmSkrWGV",
    "2lEfnXqks2Re",
    "tgIIPjRwt9rB",
    "O61Ni4k8uqbu",
    "uNqJNfQHwkzb",
    "AishUjoGzaYk",
    "6d6kpgatqA30",
    "Ix7v3Pztq3H0",
    "kRHVTDcftEg8",
    "FuxefMQktkFQ",
    "e02PM6ebt4xi",
    "Gb5d8Ds2uFoj",
    "_oLcDxyXuOqp",
    "OBPMn6s1vjeY",
    "oU_lctuJvkad",
    "SexMNv3YxHRI",
    "4ydBnFxPx93t",
    "dD_ll8EozLcD",
    "Y2jIpz8XznFX",
    "0NTEep5Vz2iw",
    "n5XXGyWO0Ggp",
    "-WadxXBc1dqs",
    "YG_NggJf3hcF",
    "FNXtNVIC4Ux4",
    "lhXWleU44qsk",
    "WMs0GsRZ81An",
    "_CuEWMIHAtBX",
    "QUtt8tjrBE-J",
    "vbrd9w31BeTB",
    "qUp89EGuBeII",
    "apu1fbOYB5Sy",
    "DGRgurSOCM9S",
    "Dq1idRRXCh3J"
   ],
   "name": "Parte_2.ipynb",
   "provenance": []
  },
  "kernelspec": {
   "display_name": "Python 3",
   "language": "python",
   "name": "python3"
  },
  "language_info": {
   "codemirror_mode": {
    "name": "ipython",
    "version": 3
   },
   "file_extension": ".py",
   "mimetype": "text/x-python",
   "name": "python",
   "nbconvert_exporter": "python",
   "pygments_lexer": "ipython3",
   "version": "3.7.6"
  }
 },
 "nbformat": 4,
 "nbformat_minor": 1
}
