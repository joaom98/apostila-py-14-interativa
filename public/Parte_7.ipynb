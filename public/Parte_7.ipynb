{
 "cells": [
  {
   "cell_type": "markdown",
   "metadata": {
    "colab_type": "text",
    "id": "mk8OnE7A1Vsw"
   },
   "source": [
    "# DISCLAIMER\n",
    "\n",
    "\n",
    "\n",
    "---\n",
    "\n",
    "Esse documento ainda precisa passar por revisões e ser aprovado para que possa ser publicado e compartilhado.\n",
    "\n",
    "Esse documento ainda não representa a ideia final e está sujeito a mudanças.\n",
    "\n",
    "---\n",
    "\n"
   ]
  },
  {
   "cell_type": "markdown",
   "metadata": {
    "colab_type": "text",
    "id": "MdXPfkPoeidT"
   },
   "source": [
    "# CAPÍTULO 7\n",
    "## ORIENTAÇÃO A OBJETOS\n",
    "\n",
    "Considere um programa para um banco financeiro. É fácil perceber que uma entidade importante para o\n",
    "nosso  sistema  será  uma  conta.  \n",
    "\n",
    "Primeiramente  suponha  que  você  tem  uma  conta  nesse  banco  com  as\n",
    "seguintes  características:  titular,  número,  saldo  e  limite.  Vamos  começar  inicializando  essas\n",
    "características:"
   ]
  },
  {
   "cell_type": "code",
   "execution_count": 0,
   "metadata": {
    "colab": {},
    "colab_type": "code",
    "id": "GPZC6yVRY10q"
   },
   "outputs": [],
   "source": [
    "numero = '123-4'\n",
    "titular = \"João\"\n",
    "saldo = 120.0\n",
    "limite = 1000.0"
   ]
  },
  {
   "cell_type": "markdown",
   "metadata": {
    "colab_type": "text",
    "id": "vGxvUU-09YXx"
   },
   "source": [
    "E se a necessidade de representar mais de uma conta surgir? Vamos criar mais uma:"
   ]
  },
  {
   "cell_type": "code",
   "execution_count": 0,
   "metadata": {
    "colab": {},
    "colab_type": "code",
    "id": "Dzn5Wb7_9blz"
   },
   "outputs": [],
   "source": [
    "numero1 = '123-4'\n",
    "titular1 = \"João\"\n",
    "saldo1 = 120.0\n",
    "limite1 = 1000.0"
   ]
  },
  {
   "cell_type": "code",
   "execution_count": 0,
   "metadata": {
    "colab": {},
    "colab_type": "code",
    "id": "P9ba8Sth9eRu"
   },
   "outputs": [],
   "source": [
    "numero2 = '123-5'\n",
    "titular2 = \"José\"\n",
    "saldo2 = 200.0\n",
    "limite2 = 1000.0"
   ]
  },
  {
   "cell_type": "markdown",
   "metadata": {
    "colab_type": "text",
    "id": "Or258w-D9nTn"
   },
   "source": [
    "Nosso  banco  pode  vir  a  crescer  e  ter  milhares  de  contas  e,  da  maneira  que  está  o  programa,  seria\n",
    "muito trabalhoso dar manutenção.\n",
    "\n",
    "E como utilizar os dados de uma determinada conta em outro arquivo? Podemos utilizar a estrutura do dicionário que aprendemos anteriormente e agrupar essas características. Isso vai ajudar a acessar os\n",
    "dados de uma conta específica:"
   ]
  },
  {
   "cell_type": "code",
   "execution_count": 0,
   "metadata": {
    "colab": {},
    "colab_type": "code",
    "id": "JPMHOGgV9sfl"
   },
   "outputs": [],
   "source": [
    "conta = {\"numero\": '123-4', \"titular\": \"João\", \"saldo\": 120.0, \"limite\": 1000.0}"
   ]
  },
  {
   "cell_type": "markdown",
   "metadata": {
    "colab_type": "text",
    "id": "BYEE634k9tAh"
   },
   "source": [
    "Agora é possível acessar os dados de uma conta pelo nome da chave:"
   ]
  },
  {
   "cell_type": "code",
   "execution_count": 0,
   "metadata": {
    "colab": {},
    "colab_type": "code",
    "id": "6ECmK4299xOI"
   },
   "outputs": [],
   "source": [
    "conta['numero']"
   ]
  },
  {
   "cell_type": "code",
   "execution_count": 0,
   "metadata": {
    "colab": {},
    "colab_type": "code",
    "id": "JQVuTVJS9wuG"
   },
   "outputs": [],
   "source": [
    "conta['titular']"
   ]
  },
  {
   "cell_type": "markdown",
   "metadata": {
    "colab_type": "text",
    "id": "iJjnF9_p91iW"
   },
   "source": [
    "Para criar uma segunda conta, crie outro dicionário:"
   ]
  },
  {
   "cell_type": "code",
   "execution_count": 0,
   "metadata": {
    "colab": {},
    "colab_type": "code",
    "id": "IMIreruS93ap"
   },
   "outputs": [],
   "source": [
    "conta2 = {\"numero\": '123-5', \"titular\": \"José\", \"saldo\": 200.0, \"limite\": 1000.0}"
   ]
  },
  {
   "cell_type": "markdown",
   "metadata": {
    "colab_type": "text",
    "id": "8jwXnH7A96Zp"
   },
   "source": [
    "Avançamos  em  agrupar  os  dados  de  uma  conta,  mas  ainda  precisamos  repetir  seguidamente  essa\n",
    "linha de código a cada conta criada. Podemos isolar esse código em uma função responsável por criar uma conta:"
   ]
  },
  {
   "cell_type": "code",
   "execution_count": 0,
   "metadata": {
    "colab": {},
    "colab_type": "code",
    "id": "VImRPV-k-BwI"
   },
   "outputs": [],
   "source": [
    "def cria_conta():\n",
    "    conta = {\"numero\": '123-4', \"titular\": \"João\", \"saldo\": 120.0, \"limite\": 1000.0}\n",
    "    return conta"
   ]
  },
  {
   "cell_type": "markdown",
   "metadata": {
    "colab_type": "text",
    "id": "mZjXTD_n-G35"
   },
   "source": [
    "Mas ainda não é o ideal já que queremos criar contas com outros valores e tornar a criação dinâmica.\n",
    "Vamos, então, receber esse valores como parâmetros da função e por fim retornamos a conta:"
   ]
  },
  {
   "cell_type": "code",
   "execution_count": 0,
   "metadata": {
    "colab": {},
    "colab_type": "code",
    "id": "A7FoM9tj-IO-"
   },
   "outputs": [],
   "source": [
    "def cria_conta(numero, titular, saldo, limite):\n",
    "    conta = {\"numero\": numero, \"titular\": titular, \"saldo\": saldo, \"limite\": limite}\n",
    "    return conta"
   ]
  },
  {
   "cell_type": "markdown",
   "metadata": {
    "colab_type": "text",
    "id": "yyXoSy6C-LbL"
   },
   "source": [
    "Desta maneira é possível criar várias contas com dados diferentes:"
   ]
  },
  {
   "cell_type": "code",
   "execution_count": 0,
   "metadata": {
    "colab": {},
    "colab_type": "code",
    "id": "Dkbm29J9-Og0"
   },
   "outputs": [],
   "source": [
    "conta1 = cria_conta('123-4', 'João', 120.0, 1000.0)"
   ]
  },
  {
   "cell_type": "code",
   "execution_count": 0,
   "metadata": {
    "colab": {},
    "colab_type": "code",
    "id": "U6DRbEK9-PUA"
   },
   "outputs": [],
   "source": [
    "conta2 = cria_conta('123-5', 'José', 200.0, 1000.0)"
   ]
  },
  {
   "cell_type": "markdown",
   "metadata": {
    "colab_type": "text",
    "id": "2nAn3IPv-T8r"
   },
   "source": [
    "Para acessar o número de cada uma delas, fazemos:"
   ]
  },
  {
   "cell_type": "code",
   "execution_count": 0,
   "metadata": {
    "colab": {},
    "colab_type": "code",
    "id": "jupLRxJX-Us_"
   },
   "outputs": [],
   "source": [
    "conta1['numero']"
   ]
  },
  {
   "cell_type": "code",
   "execution_count": 0,
   "metadata": {
    "colab": {},
    "colab_type": "code",
    "id": "oOFgbOJZ-WuI"
   },
   "outputs": [],
   "source": [
    "conta2['numero']"
   ]
  },
  {
   "cell_type": "markdown",
   "metadata": {
    "colab_type": "text",
    "id": "MUrJolt2-aD-"
   },
   "source": [
    "### 7.1 FUNCIONALIDADES\n",
    "Já  descrevemos  as  características  de  uma  conta  e  nosso  próximo  passo  será  descrever  suas\n",
    "funcionalidades. O que fazemos com uma conta? Ora, podemos depositar um valor em uma conta, por\n",
    "exemplo. Vamos criar uma função para representar esta funcionalidade. Além do valor a ser depositado,\n",
    "precisamos saber qual conta receberá este valor:"
   ]
  },
  {
   "cell_type": "code",
   "execution_count": 0,
   "metadata": {
    "colab": {},
    "colab_type": "code",
    "id": "5_kb-WUG-k9r"
   },
   "outputs": [],
   "source": [
    "def deposita(conta, valor):\n",
    "    conta['saldo'] = conta['saldo'] + valor"
   ]
  },
  {
   "cell_type": "markdown",
   "metadata": {
    "colab_type": "text",
    "id": "RL2qbq-p-nqz"
   },
   "source": [
    "Veja  que  estamos  repetindo  conta`['saldo']`  duas  vezes  nessa  linha  de  código.  O  Python  permite escrever a mesma coisa de uma maneira mais elegante utilizando o `+=`:"
   ]
  },
  {
   "cell_type": "code",
   "execution_count": 0,
   "metadata": {
    "colab": {},
    "colab_type": "code",
    "id": "NJtKoFCw-xtF"
   },
   "outputs": [],
   "source": [
    "def deposita(conta, valor):\n",
    "    conta['saldo'] += valor"
   ]
  },
  {
   "cell_type": "markdown",
   "metadata": {
    "colab_type": "text",
    "id": "-SvV7OL--ymH"
   },
   "source": [
    "Podemos fazer algo semelhante com a função  `saca()`:"
   ]
  },
  {
   "cell_type": "code",
   "execution_count": 0,
   "metadata": {
    "colab": {},
    "colab_type": "code",
    "id": "s-mKdDdI-3tm"
   },
   "outputs": [],
   "source": [
    "def saca(conta, valor):\n",
    "    conta['saldo'] -= valor"
   ]
  },
  {
   "cell_type": "markdown",
   "metadata": {
    "colab_type": "text",
    "id": "AzyclWM8--eR"
   },
   "source": [
    "Antes de testar essas funcionalidades, crie outra que mostra o extrato da conta:"
   ]
  },
  {
   "cell_type": "code",
   "execution_count": 0,
   "metadata": {
    "colab": {},
    "colab_type": "code",
    "id": "pmEQZjkM_AeM"
   },
   "outputs": [],
   "source": [
    "def extrato(conta):\n",
    "    print(\"numero: {} \\nsaldo: {}\".format(conta['numero'], conta['saldo']))"
   ]
  },
  {
   "cell_type": "markdown",
   "metadata": {
    "colab_type": "text",
    "id": "gdii81Ar_HL9"
   },
   "source": [
    "O extrato imprime as informações da conta utilizando a função   `print()`. Agora podemos testar o código:"
   ]
  },
  {
   "cell_type": "code",
   "execution_count": 0,
   "metadata": {
    "colab": {},
    "colab_type": "code",
    "id": "qB4y2GL3_Tg3"
   },
   "outputs": [],
   "source": [
    "conta = cria_conta('123-4', 'João', 120.0, 1000.0)"
   ]
  },
  {
   "cell_type": "code",
   "execution_count": 0,
   "metadata": {
    "colab": {},
    "colab_type": "code",
    "id": "Z8lq67t6_Uie"
   },
   "outputs": [],
   "source": [
    "deposita(conta, 15.0)"
   ]
  },
  {
   "cell_type": "code",
   "execution_count": 0,
   "metadata": {
    "colab": {},
    "colab_type": "code",
    "id": "RgcvhuBX_V_g"
   },
   "outputs": [],
   "source": [
    "extrato(conta)"
   ]
  },
  {
   "cell_type": "code",
   "execution_count": 0,
   "metadata": {
    "colab": {},
    "colab_type": "code",
    "id": "w8HXD_ZB_Y3M"
   },
   "outputs": [],
   "source": [
    "saca(conta, 20.0)"
   ]
  },
  {
   "cell_type": "code",
   "execution_count": 0,
   "metadata": {
    "colab": {},
    "colab_type": "code",
    "id": "_u1J9OeW_cC2"
   },
   "outputs": [],
   "source": [
    "extrato(conta)"
   ]
  },
  {
   "cell_type": "markdown",
   "metadata": {
    "colab_type": "text",
    "id": "qXJE1lFK_f3f"
   },
   "source": [
    "Ótimo! Nosso código funcionou como o esperado. Aplicamos algumas funções como   `deposita()` e  `saca()`  e ao final pudermos checar o saldo final com a função  `extrato()`."
   ]
  },
  {
   "cell_type": "markdown",
   "metadata": {
    "colab_type": "text",
    "id": "3NqZ-0r1_q54"
   },
   "source": [
    "### 7.2 EXERCÍCIO: CRIANDO UMA CONTA\n",
    "1.  Crie uma pasta chamada  `oo`  em sua workspace e crie um arquivo chamado `teste_conta.py`\n",
    "\n",
    "2.  Crie a função chamada  `cria_conta()` , que recebe como argumento  `numero` ,  `titular` ,  `saldo`  e `limite`:\n",
    "\n",
    "        def cria_conta(numero, titular, saldo, limite):\n",
    "\n",
    "3.  Dentro de   `cria_conta()` ,  crie  uma  variável  do  tipo  dicionário  chamada   `conta`   com  as  chaves\n",
    "recebendo os valores dos parâmetros ( `numero` ,  `titular` ,   `saldo`  e   `limite` ) e ao final retorne a\n",
    " `conta`:\n",
    "        def cria_conta(numero, titular, saldo, limite):\n",
    "        conta = {\"numero\": numero, \"titular\": titular, \"saldo\": saldo, \"limite\": limite}\n",
    "        return conta\n",
    "4.  Crie  uma  função  chamada   `deposita()`   no  mesmo  arquivo   `teste_conta.py`   que  recebe  como argumento uma  conta  e um  valor. Dentro da função adicione o  valor  ao  saldo  da conta:\n",
    "        def deposita(conta, valor):\n",
    "        conta['saldo'] += valor\n",
    "\n",
    "5.  Crie  outra  função  chamada   `saca()`   que  recebe  como  argumento  uma   conta   e  um   valor. \n",
    "Dentro da função subtraia o  valor  do  saldo  da conta:\n",
    "        def saca(conta, valor):\n",
    "        conta['saldo'] -= valor\n",
    "\n",
    "6.  E  por  fim,  crie  uma  função  chamada   `extrato()` ,  que  recebe  como  argumento  uma   conta   e imprime o  numero  e o  saldo:\n",
    "        def extrato(conta):\n",
    "        print(\"numero: {} \\nsaldo: {}\".format(conta['numero'], conta['saldo']))\n",
    "\n",
    "7.  Navegue  até  a  pasta   `oo`   pelo  terminal,  abra  o  console  do  Python3,  importe  o  script  e  testes  as\n",
    "funcionalidades:\n",
    " \n",
    "        from teste_conta import cria_conta, deposita, saca, extrato\n",
    "        conta = cria_conta('123-7', 'João', 500.0, 1000.0)\n",
    "        deposita(conta, 50.0)\n",
    "        extrato(conta)\n",
    "        saca(conta, 20.0)\n",
    "        extrato(conta)\n",
    "\n",
    "8.  (Opcional) Acrescente uma documentação para o seu módulo   `teste_conta.py`  e utilize a função\n",
    " `help()`  para testá-la.\n",
    "\n",
    "Neste exercício criamos uma conta e juntamos suas características (número, titular, limite, saldo) e\n",
    "funcionalidades  (sacar,  depositar,  tirar  extrato)  num  mesmo  arquivo.  Mas  o  que  fizemos  até  agora  foi\n",
    "baseado no conhecimento procedural que tínhamos do Python3.\n",
    "\n",
    "Por mais que tenhamos agrupado os dados de uma conta, essa ligação é frágil no mundo procedural e se mostra limitada. Precisamos pensar sobre o que escrevemos para não errar. O paradigma orientado a objetos vem para sanar essa e outras fragilidades do paradigma procedural que veremos a seguir."
   ]
  },
  {
   "cell_type": "markdown",
   "metadata": {
    "colab_type": "text",
    "id": "RQ33gi3tDYEG"
   },
   "source": [
    "### 7.3 CLASSES E OBJETOS\n",
    "Ninguém deveria ter acesso ao saldo diretamente. Além disso, nada nos obriga a validar esse valor e podemos  esquecer  disso  cada  vez  que  utilizá-lo.  Nosso  programa  deveria  obrigar  o  uso  das  funções `saca()`  e  `deposita()`  para alterar o saldo e não permitir alterar o valor diretamente:"
   ]
  },
  {
   "cell_type": "code",
   "execution_count": 0,
   "metadata": {
    "colab": {},
    "colab_type": "code",
    "id": "K-oLnXCADieI"
   },
   "outputs": [],
   "source": [
    "conta3['saldo'] = 100000000.0"
   ]
  },
  {
   "cell_type": "markdown",
   "metadata": {
    "colab_type": "text",
    "id": "1UJMIFeRDi_w"
   },
   "source": [
    "ou então:"
   ]
  },
  {
   "cell_type": "code",
   "execution_count": 0,
   "metadata": {
    "colab": {},
    "colab_type": "code",
    "id": "OsSKTzDbDlIS"
   },
   "outputs": [],
   "source": [
    "conta3['saldo'] = -3000.0"
   ]
  },
  {
   "cell_type": "markdown",
   "metadata": {
    "colab_type": "text",
    "id": "WpuFcqC4DnJ2"
   },
   "source": [
    "Devemos  manipular  os  dados  através  das  funcionalidades   `saca()`   e   `deposita()`   e  proteger  os dados da conta. Pensando no mundo real, ninguém pode modificar o saldo de sua conta quando quiser, a não ser quando vamos fazer um saque ou um depósito. A mesma coisa deve acontecer aqui.\n",
    "\n",
    "Para  isso,  vamos  primeiro  entender  o  que  é    classe    e    objeto  ,  conceitos  importantes  do\n",
    "paradigma orientado a objetos e depois veremos como isso funciona na prática.\n",
    "\n",
    "Quando  preparamos  um  bolo,  geralmente,  seguimos  uma  receita  que  define  os  ingredientes  e  o modo  de  preparação.  A  nossa  conta  é  um  objeto  concreto  assim  como  o  bolo  que  também  precisa  de uma  receita  pré-definida.  E  a  \"receita\"  no  mundo  OO (Orientação a Objetos)  recebe  o  nome  de  classe.  Ou  seja,  antes  de\n",
    "criarmos um objeto definiremos uma classe.\n",
    "\n",
    "Outra analogia que podemos fazer é entre o projeto de uma casa (a planta da casa) e a casa em si. O projeto  é  a  classe  e  a  casa,  construída  a  partir  desta  planta,  é  o  objeto.  O  projeto  da  conta,  isto  é,  a\n",
    "definição da conta, é a classe. O que podemos construir (instanciar) a partir dessa classe, as contas de verdade, damos o nome de objetos.\n",
    "\n",
    "Pode  parecer  óbvio,  mas  a  dificuldade  inicial  do  paradigma  da  orientação  a  objetos  é  justamente\n",
    "saber  distinguir  o  que  é  classe  e  o  que  é  objeto.  \n",
    "\n",
    "É  comum  o  iniciante  utilizar,  obviamente  de  forma\n",
    "errada, essas duas palavras como sinônimos.\n",
    "\n",
    "O próximo passo será criar nossa classe `Conta`  dentro de um novo arquivo Python, que receberá o nome de `conta.py`. Criar uma classe em Python é extremamente simples em termos de sintaxe. Vamos começar  criando  uma  classe  vazia.  Depois  criaremos  uma  instância,  um  objeto  dessa  classe,  e\n",
    "utilizaremos a função  `type()`  para analisar o resultado:"
   ]
  },
  {
   "cell_type": "code",
   "execution_count": 0,
   "metadata": {
    "colab": {},
    "colab_type": "code",
    "id": "onaKWaoUET06"
   },
   "outputs": [],
   "source": [
    "class Conta:\n",
    "    pass"
   ]
  },
  {
   "cell_type": "code",
   "execution_count": 0,
   "metadata": {
    "colab": {},
    "colab_type": "code",
    "id": "2586zgi3EaZh"
   },
   "outputs": [],
   "source": [
    "conta = Conta()"
   ]
  },
  {
   "cell_type": "code",
   "execution_count": 0,
   "metadata": {
    "colab": {
     "base_uri": "https://localhost:8080/",
     "height": 34
    },
    "colab_type": "code",
    "id": "SKY4oIneEdfG",
    "outputId": "a1dd6015-e585-46fc-840b-c1171b38c155"
   },
   "outputs": [
    {
     "data": {
      "text/plain": [
       "__main__.Conta"
      ]
     },
     "execution_count": 3,
     "metadata": {
      "tags": []
     },
     "output_type": "execute_result"
    }
   ],
   "source": [
    "type(conta)"
   ]
  },
  {
   "cell_type": "markdown",
   "metadata": {
    "colab_type": "text",
    "id": "lNwFRPb2EnZu"
   },
   "source": [
    "Vemos porque estamos utilizando o modo interativo pelo terminal e o módulo onde se encontra a classe  `Conta`  é  `conta`. Agora temos uma classe  `Conta`.\n",
    "\n",
    "Como  Python  é  uma  linguagem  dinâmica,  podemos  modificar  esse  objeto   `conta`   em  tempo  de execução. Por exemplo, podemos acrescentar atributos a ele:"
   ]
  },
  {
   "cell_type": "code",
   "execution_count": 0,
   "metadata": {
    "colab": {},
    "colab_type": "code",
    "id": "VgH-ncjEEjYU"
   },
   "outputs": [],
   "source": [
    "conta.titular = \"João\""
   ]
  },
  {
   "cell_type": "code",
   "execution_count": 0,
   "metadata": {
    "colab": {},
    "colab_type": "code",
    "id": "pjAAY65bEzco"
   },
   "outputs": [],
   "source": [
    "print(conta.titular)"
   ]
  },
  {
   "cell_type": "code",
   "execution_count": 0,
   "metadata": {
    "colab": {},
    "colab_type": "code",
    "id": "8oRYXeqbE1te"
   },
   "outputs": [],
   "source": [
    "conta.saldo = 120.0"
   ]
  },
  {
   "cell_type": "code",
   "execution_count": 0,
   "metadata": {
    "colab": {},
    "colab_type": "code",
    "id": "1hQ8J0xqE1gc"
   },
   "outputs": [],
   "source": [
    "print(conta.saldo)"
   ]
  },
  {
   "cell_type": "markdown",
   "metadata": {
    "colab_type": "text",
    "id": "ZWn3jFy8E8dm"
   },
   "source": [
    "Mas  o  problema  do  código  é  que  ainda  não  garantimos  que  toda  instância  de   `Conta`   tenha  um atributo   `titular`  ou   `saldo`.  Portanto  queremos  uma  forma  padronizada  da  conta  de  maneira  que possamos criar objetos com determinadas configurações iniciais.\n",
    "\n",
    "Em linguagens orientadas a objetos existe uma maneira padronizada de criar atributos de um objeto. Geralmente  fazemos  isso  através  de  uma  função  construtora  -  algo  parecido  com  nossa  função\n",
    " `cria_conta()`  do exercício anterior."
   ]
  },
  {
   "cell_type": "markdown",
   "metadata": {
    "colab_type": "text",
    "id": "nHDNPdbAFPh1"
   },
   "source": [
    "### 7.4 CONSTRUTOR\n",
    "Em Python, alguns nomes de métodos estão reservados para o uso da própria linguagem. Um desses métodos  é  o   `__init__()`   que  vai  inicializar  o  objeto.  Seu  primeiro  parâmetro,  assim  como  todo método de instância, é a própria instância. Por convenção chamamos este argumento de `self`.  Vejamos um exemplo:"
   ]
  },
  {
   "cell_type": "code",
   "execution_count": 0,
   "metadata": {
    "colab": {},
    "colab_type": "code",
    "id": "OKNaclvNJear"
   },
   "outputs": [],
   "source": [
    "class Conta:\n",
    "    def __init__(self, numero, titular, saldo, limite):\n",
    "        self.numero = numero\n",
    "        self.titular = titular\n",
    "        self.saldo = saldo\n",
    "        self.limite = limite"
   ]
  },
  {
   "cell_type": "markdown",
   "metadata": {
    "colab_type": "text",
    "id": "pg-XW45zJlH1"
   },
   "source": [
    "Agora,  quando  uma  classe  é  criada,  todos  os  seus  atributos  serão  inicializados  pelo  método `__init__()`.\n",
    "\n",
    "Apesar de muitos programadores chamarem este método de construtor, ele não cria um objeto  `conta`.  Existe  outro  método,  o    `__new__()`  que  é  chamado  antes  do    `__init_()`    pelo interpretador do Python. O método  `__new__()`  é realmente o construtor e é quem realmente cria uma instância de  `Conta` . O método  `__init__()`  é responsável por inicializar o objeto, tanto é que já recebe\n",
    "a própria instância (`self`) criada pelo construtor como argumento. E dessa maneira garantimos que toda instância de uma  `Conta`  tenha os atributos que definimos.\n",
    "\n",
    "Agora, se executarmos a linha de código abaixo, vai acusar um erro:"
   ]
  },
  {
   "cell_type": "code",
   "execution_count": 0,
   "metadata": {
    "colab": {},
    "colab_type": "code",
    "id": "7UL6ZCVqJ6wY"
   },
   "outputs": [],
   "source": [
    "conta = Conta()"
   ]
  },
  {
   "cell_type": "markdown",
   "metadata": {
    "colab_type": "text",
    "id": "F-nLbJfCJ-3d"
   },
   "source": [
    "O erro acusa a falta de 4 argumentos na hora de criar uma  `Conta` . A classe  `Conta`  agora nos obriga a passar 4 atributos (`numero`, `titular`, `saldo` e `limite`) para criar uma conta:"
   ]
  },
  {
   "cell_type": "code",
   "execution_count": 0,
   "metadata": {
    "colab": {},
    "colab_type": "code",
    "id": "T4aqeugXJ-FC"
   },
   "outputs": [],
   "source": [
    "conta = Conta('123-4', 'João', 120.0, 1000.0)"
   ]
  },
  {
   "cell_type": "markdown",
   "metadata": {
    "colab_type": "text",
    "id": "UP-B-3CzKKw6"
   },
   "source": [
    "Veja  que  em  nenhum  momento  chamamos  o  método   `__init__()`.  Quem  está  fazendo  isso  por\n",
    "debaixo dos panos é o próprio Python quando executa   `conta  =  Conta()` .  Não  só,  como  vimos,  ele\n",
    "chama  o  método   `__new__()`   que  devolve  um  instância  do  objeto  e  em  seguida  chama  o  método `__init__()` toda  vez  que  criamos  uma  conta.  Podemos  ver  isto  funcionando  imprimindo  uma mensagem dentro do método  `__init__()`:"
   ]
  },
  {
   "cell_type": "code",
   "execution_count": 0,
   "metadata": {
    "colab": {},
    "colab_type": "code",
    "id": "DyVjA5mUKbmd"
   },
   "outputs": [],
   "source": [
    "def __init__(self, titular, numero, saldo, limite):\n",
    "    print(\"inicializando uma conta\")\n",
    "    self.titular = titular\n",
    "    self.numero = numero\n",
    "    self.saldo = saldo\n",
    "    self.limite = limite"
   ]
  },
  {
   "cell_type": "markdown",
   "metadata": {
    "colab_type": "text",
    "id": "10kkHHcQKg7u"
   },
   "source": [
    "e testar novamente:"
   ]
  },
  {
   "cell_type": "code",
   "execution_count": 0,
   "metadata": {
    "colab": {},
    "colab_type": "code",
    "id": "55YDwPukKh6d"
   },
   "outputs": [],
   "source": [
    "conta = Conta('123-4', 'João', 120.0, 1000.0)"
   ]
  },
  {
   "cell_type": "markdown",
   "metadata": {
    "colab_type": "text",
    "id": "535tUIRuKoOF"
   },
   "source": [
    "Ao  criar  uma   `Conta`,  estamos  pedindo  para  o  Python  criar  uma  nova  instância  de   `Conta`   na memória, ou seja, o Python alocará memória suficiente para guardar todas as informações da   `Conta` dentro  da  memória  do  programa.  O   `__new__()`,  portanto,  devolve  uma  referência,  uma  seta  que aponta para o objeto em memória e é guardada na variável  `conta`.\n",
    "\n",
    "Para manipularmos nosso objeto  `conta`  e acessar seus atributos utilizamos o operador `.` (ponto):"
   ]
  },
  {
   "cell_type": "code",
   "execution_count": 0,
   "metadata": {
    "colab": {},
    "colab_type": "code",
    "id": "yk10VdDXK4lI"
   },
   "outputs": [],
   "source": [
    "conta.titular"
   ]
  },
  {
   "cell_type": "code",
   "execution_count": 0,
   "metadata": {
    "colab": {},
    "colab_type": "code",
    "id": "NRk_rTGeK5Oh"
   },
   "outputs": [],
   "source": [
    "conta.saldo"
   ]
  },
  {
   "cell_type": "markdown",
   "metadata": {
    "colab_type": "text",
    "id": "r7H757qWK78f"
   },
   "source": [
    "Como o `self` é a referência do objeto, ele chama  `self.titular`  e  `self.saldo`  da classe  `Conta`.\n",
    "\n",
    "Agora,  além  de  funcionar  como  esperado,  nosso  código  não  permite  criar  uma  conta  sem  os atributos que definimos anteriormente. Discuta com seus colegas e instrutor as vantagens da orientação a objetos até aqui."
   ]
  },
  {
   "cell_type": "markdown",
   "metadata": {
    "colab_type": "text",
    "id": "ZhENGRztLHtI"
   },
   "source": [
    "### 7.5 MÉTODOS\n",
    "Como  vimos,  além  dos  atributos,  nossa  conta  deve  possuir  funcionalidades.  Criamos  as  funções   `saca() ,   `deposita()`   e   `extrato()`.  No  paradigma  orientado  a\n",
    "objetos as funcionalidades de um objeto são chamados de métodos - do ponto de vista do código, são as funções dentro de uma classe.\n",
    "\n",
    "Vamos criar o método  `deposita()`  na classe  `Conta`. Aqui, assim como o método  `__init__()`, o método  `deposita()` deve receber a instância do objeto (`self`) além do valor a ser depositado:"
   ]
  },
  {
   "cell_type": "code",
   "execution_count": 0,
   "metadata": {
    "colab": {},
    "colab_type": "code",
    "id": "CeFTiZhjL-mE"
   },
   "outputs": [],
   "source": [
    "class Conta:\n",
    "    def __init__(self, numero, titular, saldo, limite):\n",
    "        self.numero = numero\n",
    "        self.titular = titular\n",
    "        self.saldo = saldo\n",
    "        self.limite = limite\n",
    "\n",
    "    def deposita(self, valor):\n",
    "        self.saldo += valor"
   ]
  },
  {
   "cell_type": "markdown",
   "metadata": {
    "colab_type": "text",
    "id": "sboGA9mRMOD9"
   },
   "source": [
    "Isso  acontece  porque  o  método  precisa  saber  qual  objeto  `conta`  ele  deve  manipular,  qual  conta  vai\n",
    "depositar um determinado valor - e podemos ter muitas contas criadas no nosso sistema.\n",
    "\n",
    "Utilizamos o operador `.` (ponto) através do objeto  `conta`  para chamar o método  `deposita()`:"
   ]
  },
  {
   "cell_type": "code",
   "execution_count": 0,
   "metadata": {
    "colab": {},
    "colab_type": "code",
    "id": "hKtq6QNGMm_t"
   },
   "outputs": [],
   "source": [
    "conta.deposita(20.0)"
   ]
  },
  {
   "cell_type": "markdown",
   "metadata": {
    "colab_type": "text",
    "id": "Ns4pas79Mqlf"
   },
   "source": [
    "O interpretador, ao ler esse código, associa o objeto   `conta`  ao argumento   `self`  do método - note que não precisamos passar a  conta  como argumento, isso é feito por debaixo dos panos pelo Python.\n",
    "\n",
    "Faremos o mesmo para os métodos  `saca()`  e  `extrato()`:"
   ]
  },
  {
   "cell_type": "code",
   "execution_count": 0,
   "metadata": {
    "colab": {},
    "colab_type": "code",
    "id": "rPszDgBGMqUP"
   },
   "outputs": [],
   "source": [
    "class Conta:\n",
    "    def __init__(self, numero, titular, saldo, limite):\n",
    "        self.numero = numero\n",
    "        self.titular = titular\n",
    "        self.saldo = saldo\n",
    "        self.limite = limite\n",
    "    def deposita(self, valor):\n",
    "        self.saldo += valor\n",
    "\n",
    "\n",
    "    def saca(self, valor):\n",
    "        self.saldo -= valor\n",
    "    def extrato(self):\n",
    "        print(\"numero: {} \\nsaldo: {}\".format(self.numero, self.saldo))"
   ]
  },
  {
   "cell_type": "markdown",
   "metadata": {
    "colab_type": "text",
    "id": "32SdX7VqM-S-"
   },
   "source": [
    "Agora vamos testar nossos métodos:"
   ]
  },
  {
   "cell_type": "code",
   "execution_count": 0,
   "metadata": {
    "colab": {},
    "colab_type": "code",
    "id": "1NzenTt1M--b"
   },
   "outputs": [],
   "source": [
    "conta = Conta('123-4', 'João', 120.0, 1000.0)"
   ]
  },
  {
   "cell_type": "code",
   "execution_count": 0,
   "metadata": {
    "colab": {},
    "colab_type": "code",
    "id": "pNMFs40oNC3M"
   },
   "outputs": [],
   "source": [
    "conta.deposita(20.0)"
   ]
  },
  {
   "cell_type": "code",
   "execution_count": 0,
   "metadata": {
    "colab": {},
    "colab_type": "code",
    "id": "vre3RSdENEBo"
   },
   "outputs": [],
   "source": [
    "conta.extrato()"
   ]
  },
  {
   "cell_type": "code",
   "execution_count": 0,
   "metadata": {
    "colab": {},
    "colab_type": "code",
    "id": "LadAKs2cNFqK"
   },
   "outputs": [],
   "source": [
    "conta.saca(15)"
   ]
  },
  {
   "cell_type": "code",
   "execution_count": 0,
   "metadata": {
    "colab": {},
    "colab_type": "code",
    "id": "7a6LZsuENG_p"
   },
   "outputs": [],
   "source": [
    "conta.extrato()"
   ]
  },
  {
   "cell_type": "markdown",
   "metadata": {
    "colab_type": "text",
    "id": "Yt__LYhgNLq8"
   },
   "source": [
    "O  saldo  inicial  era  de  120  reais.  Depositamos  20  reais,  sacamos  15  reais  e  tiramos  o  extrato  que\n",
    "resultou em 125 reais.\n",
    "\n",
    "Por fim, o código de nossa  Conta  vai ficar assim:"
   ]
  },
  {
   "cell_type": "code",
   "execution_count": 0,
   "metadata": {
    "colab": {},
    "colab_type": "code",
    "id": "Ey268eBcNSlY"
   },
   "outputs": [],
   "source": [
    "class Conta:\n",
    "    def __init__(self, numero, titular, saldo, limite):\n",
    "        self.numero = numero\n",
    "        self.titular = tituar\n",
    "        self.saldo = saldo\n",
    "        self.limite = limite\n",
    "    def deposita(self, valor):\n",
    "        self.saldo += valor\n",
    "    def saca(self, valor):\n",
    "        self.saldo -= valor\n",
    "    def extrato(self):\n",
    "        print(\"numero: {} \\nsaldo: {}\".format(self.numero, self.saldo))"
   ]
  },
  {
   "cell_type": "markdown",
   "metadata": {
    "colab_type": "text",
    "id": "RCy0rjvJNXe4"
   },
   "source": [
    "### 7.6 MÉTODOS COM RETORNO\n",
    "Em outras linguagens como C++ e Java, um método sempre tem que definir o que retorna, nem que defina  que  não  há  retorno.  Como  vimos  no  capítulo  sobre  funções,  no  Python  isso  não  é  necessário  mas  podemos  retornar  algo  no  método   `saca()` ,  por  exemplo,  indicando  se  a  operação  foi  bem sucedida ou não. Neste caso podemos retornar um valor booleano:"
   ]
  },
  {
   "cell_type": "code",
   "execution_count": 0,
   "metadata": {
    "colab": {},
    "colab_type": "code",
    "id": "guIJIMrNNiJz"
   },
   "outputs": [],
   "source": [
    "class Conta:\n",
    "    def __init__(self, numero, titular, saldo, limite):\n",
    "        self.numero = numero\n",
    "        self.titular = tituar\n",
    "        self.saldo = saldo\n",
    "        self.limite = limite\n",
    "    def deposita(self, valor):\n",
    "        self.saldo += valor\n",
    "\n",
    "    # método alterado\n",
    "    def saca(self, valor):\n",
    "    if (self.saldo < valor):\n",
    "        return False\n",
    "    else:\n",
    "        self.saldo -= valor\n",
    "        return True\n",
    "    \n",
    "    def extrato(self):\n",
    "        print(\"numero: {} \\nsaldo: {}\".format(self.numero, self.saldo))\n",
    "\n"
   ]
  },
  {
   "cell_type": "markdown",
   "metadata": {
    "colab_type": "text",
    "id": "v_VZJaP0XtjM"
   },
   "source": [
    "Veja que a declaração do método não mudou mas agora ele nos retorna algo (um boolean). A palavra chave `return` indica que o método vai terminar ali, retornando tal informação.\n",
    "\n",
    "Exemplo de uso:"
   ]
  },
  {
   "cell_type": "code",
   "execution_count": 0,
   "metadata": {
    "colab": {},
    "colab_type": "code",
    "id": "W1JSxRRAXy4y"
   },
   "outputs": [],
   "source": [
    "minha_conta.saldo = 1000\n",
    "consegui = minha_conta.saca(2000)\n",
    "if(consegui):\n",
    "    print(“consegui sacar”)\n",
    "else:\n",
    "    print(“não consegui sacar”)"
   ]
  },
  {
   "cell_type": "markdown",
   "metadata": {
    "colab_type": "text",
    "id": "rml-hu1eYBll"
   },
   "source": [
    "Ou então, podemos eliminar a variável temporária, se desejado:"
   ]
  },
  {
   "cell_type": "code",
   "execution_count": 0,
   "metadata": {
    "colab": {},
    "colab_type": "code",
    "id": "Qn99tp4ZYCiZ"
   },
   "outputs": [],
   "source": [
    "minha_conta.saldo = 1000\n",
    "if(minha_conta.saca(2000)):\n",
    "    print(“consegui sacar”)\n",
    "else:\n",
    "    print(“não consegui sacar”)"
   ]
  },
  {
   "cell_type": "markdown",
   "metadata": {
    "colab_type": "text",
    "id": "lz0nC6grYMF8"
   },
   "source": [
    "Mais adiante, veremos que algumas vezes é mais interessante lançar uma exceção (exception) nesses casos."
   ]
  },
  {
   "cell_type": "markdown",
   "metadata": {
    "colab_type": "text",
    "id": "Uxbidv3xYPq7"
   },
   "source": [
    "### 7.7 OBJETOS SÃO ACESSADOS POR REFERÊNCIA\n",
    "O programa pode manter na memória não apenas uma  `Conta`, mas mais de uma:"
   ]
  },
  {
   "cell_type": "code",
   "execution_count": 0,
   "metadata": {
    "colab": {},
    "colab_type": "code",
    "id": "itHTEXORYif0"
   },
   "outputs": [],
   "source": [
    "minha_conta = Conta()\n",
    "minha_conta.saldo = 1000"
   ]
  },
  {
   "cell_type": "code",
   "execution_count": 0,
   "metadata": {
    "colab": {},
    "colab_type": "code",
    "id": "vmryFKYnYk3e"
   },
   "outputs": [],
   "source": [
    "meu_sonho = Conta()\n",
    "meu_sonho.saldo = 1500000"
   ]
  },
  {
   "cell_type": "markdown",
   "metadata": {
    "colab_type": "text",
    "id": "a1DF2FurYuNg"
   },
   "source": [
    "Quando  criamos  uma  variável  para  associar  a  um objeto,  na  verdade,  essa  variável  não  guarda  o objeto, e sim uma maneira de acessá-lo, chamada de referência (o `self`)."
   ]
  },
  {
   "cell_type": "code",
   "execution_count": 0,
   "metadata": {
    "colab": {},
    "colab_type": "code",
    "id": "Cew1IHQ5Ymx0"
   },
   "outputs": [],
   "source": [
    "c1 = Conta()"
   ]
  },
  {
   "cell_type": "markdown",
   "metadata": {
    "colab_type": "text",
    "id": "PCqNgZpdY4D9"
   },
   "source": [
    "Ao  fazer  isso,  já  sabemos  que  o  Python  está  chamando  os  métodos  mágicos `__new__()` e\n",
    " `__init__()`  que são responsáveis por construir e iniciar um objeto do tipo  `Conta`.\n",
    "\n",
    "O correto é dizer que  `c1`  se refere a um objeto. Não é correto dizer que  `c1`  é um objeto, pois  `c1`  é uma  variável  referência,  apesar  de,  depois  de  um  tempo,  os  programadores  falarem  “tenho  um  objeto `c1`  do tipo   `Conta`”, mas apenas para encurtar a frase “Tenho uma referência   `c1` a  um  objeto  tipo `Conta`”.\n",
    "\n",
    "Vamos analisar o código abaixo:"
   ]
  },
  {
   "cell_type": "code",
   "execution_count": 0,
   "metadata": {
    "colab": {},
    "colab_type": "code",
    "id": "LBmfvkZKZY2W"
   },
   "outputs": [],
   "source": [
    "c1 = Conta('123-4', 'João', 120.0, 1000.0) \n",
    "c2 = c1\n",
    "c2.saldo"
   ]
  },
  {
   "cell_type": "code",
   "execution_count": 0,
   "metadata": {
    "colab": {},
    "colab_type": "code",
    "id": "RPIezyzrZfoI"
   },
   "outputs": [],
   "source": [
    "c1.deposita(100.0)\n",
    "c1.saldo"
   ]
  },
  {
   "cell_type": "code",
   "execution_count": 0,
   "metadata": {
    "colab": {},
    "colab_type": "code",
    "id": "IJnW6fLRZkY-"
   },
   "outputs": [],
   "source": [
    "c2.deposita(30.0) \n"
   ]
  },
  {
   "cell_type": "code",
   "execution_count": 0,
   "metadata": {
    "colab": {},
    "colab_type": "code",
    "id": "vXhLWpSXZcT7"
   },
   "outputs": [],
   "source": [
    "c1.saldo\n",
    "c2.saldo"
   ]
  },
  {
   "cell_type": "markdown",
   "metadata": {
    "colab_type": "text",
    "id": "yMSyj07aZzUV"
   },
   "source": [
    "O que aconteceu aqui? O operador `=` copia o valor de uma variável. Mas qual é o valor da variável `c1` ?  É  o  objeto?  Não.  Na  verdade,  o  valor  guardado  é  a  referência  (endereço)  de  onde  o  objeto  se\n",
    "encontra na memória principal.\n",
    "\n",
    "Ao fazer   `c2  =  c1` ,   `c2`   passa  a  fazer  referência  para  o  mesmo  objeto  que   `c1`   referencia  nesse instante. Quando utilizamos   `c1`  ou   `c2` , neste código, estamos nos referindo ao MESMO objeto – são\n",
    "duas referências que apontam para o mesmo objeto.\n",
    "\n",
    "Podemos notar isso através da função interna  `id()`  que retorna a referência de um objeto:"
   ]
  },
  {
   "cell_type": "code",
   "execution_count": 0,
   "metadata": {
    "colab": {},
    "colab_type": "code",
    "id": "ihb31_CTZh7H"
   },
   "outputs": [],
   "source": [
    "id(c1)"
   ]
  },
  {
   "cell_type": "code",
   "execution_count": 0,
   "metadata": {
    "colab": {},
    "colab_type": "code",
    "id": "T5nZ1Gh-aBv7"
   },
   "outputs": [],
   "source": [
    "id(c2)"
   ]
  },
  {
   "cell_type": "markdown",
   "metadata": {
    "colab_type": "text",
    "id": "GToxXwH1aEmt"
   },
   "source": [
    "Internamente,  `c1`  e  `c2`  vão guardar um número que identifica em que posição da memória aquela `Conta`  se encontra. Dessa maneira, ao utilizarmos o `.` (ponto) para navegar, o Python vai acessar a `Conta`   que  se  encontra  naquela  posição  de  memória,  e  não  uma  outra  conta.\n",
    "\n",
    "Para  quem  conhece,  é parecido com um ponteiro, porém você não pode manipulá-lo.\n",
    "\n",
    "Outra  maneira  de  notar  esse  comportamento  é  que  o  interpretador  Python  chamou  os  métodos `__new__()`   e   `__init__()`    apenas  uma  vez  (na  linha   `c1  =  Conta('123-4',  'João',  120.0, 1000.0)` ), então só pode haver um objeto   Conta  na memória. Compará-las com o operador `==` vai nos retornar  True , pois o valor que elas carregam é o mesmo:"
   ]
  },
  {
   "cell_type": "code",
   "execution_count": 0,
   "metadata": {
    "colab": {},
    "colab_type": "code",
    "id": "c5BL8Iwvac5H"
   },
   "outputs": [],
   "source": [
    "id(c1) == id(c2)"
   ]
  },
  {
   "cell_type": "code",
   "execution_count": 0,
   "metadata": {
    "colab": {},
    "colab_type": "code",
    "id": "3pZatK0iaf_j"
   },
   "outputs": [],
   "source": [
    "c1 == c2"
   ]
  },
  {
   "cell_type": "markdown",
   "metadata": {
    "colab_type": "text",
    "id": "3F3zvuSLajZ1"
   },
   "source": [
    "Podemos então ver outra situação:"
   ]
  },
  {
   "cell_type": "code",
   "execution_count": 0,
   "metadata": {
    "colab": {},
    "colab_type": "code",
    "id": "Z5CovpgyalWG"
   },
   "outputs": [],
   "source": [
    "c1 = Conta(\"123-4\", \"Python\", 500.0, 1000.0)\n",
    "c2 = Conta(\"123-4\", \"Python\", 500.0, 1000.0)"
   ]
  },
  {
   "cell_type": "code",
   "execution_count": 0,
   "metadata": {
    "colab": {},
    "colab_type": "code",
    "id": "AyRJXTsAaon1"
   },
   "outputs": [],
   "source": [
    "if(c1 == c2):\n",
    "    print(\"contas iguais\")\n",
    "else:\n",
    "    print(\"contas diferentes\")"
   ]
  },
  {
   "cell_type": "markdown",
   "metadata": {
    "colab_type": "text",
    "id": "SOKQrPP1a7hQ"
   },
   "source": [
    "O operador `==` compara o conteúdo das variáveis, mas essas variáveis não guardam o objeto, e sim o endereço em que ele se encontra. Como em cada uma dessas variáveis guardamos duas contas criadas diferentemente, elas estão em espaços diferentes da memória, o que faz o teste no `if`  valer   `False`. As contas  podem  ser  equivalentes  no  nosso critério  de  igualdade,  porém  elas  não  são  o  mesmo  objeto.\n",
    "\n",
    "Quando se trata de objetos, pode ficar mais fácil pensar que o `==` compara se os objetos (referências, na verdade) são o mesmo, e não se possuem valores iguais.\n",
    "\n",
    "Para  saber  se  dois  objetos  têm  o  mesmo  conteúdo, você  precisa  comparar  atributo  por  atributo.\n",
    "\n",
    "Futuramente, veremos uma solução mais elegante para isso também."
   ]
  },
  {
   "cell_type": "markdown",
   "metadata": {
    "colab_type": "text",
    "id": "6yOIodPpbR6W"
   },
   "source": [
    "### 7.8 MÉTODO TRANSFERE\n",
    "E  a  funcionalidade  que  transfere  dinheiro  entre  duas  contas?  Podemos  ficar  tentados  a  criar  um método que recebe dois parâmetros:   `conta1`  e   `conta2`  do tipo   `Conta`. Cuidado: já sabemos que os métodos de nossa classe   `Conta`  sempre recebem a referência, o `self` - portanto o método recebe apenas um parâmetro do tipo  `Conta` , a conta destino (além do valor):"
   ]
  },
  {
   "cell_type": "code",
   "execution_count": 0,
   "metadata": {
    "colab": {},
    "colab_type": "code",
    "id": "Pjx0mmHpbfvk"
   },
   "outputs": [],
   "source": [
    "class Conta:\n",
    "    def __init__(self, numero, titular, saldo, limite):\n",
    "        self.numero = numero\n",
    "        self.titular = tituar\n",
    "        self.saldo = saldo\n",
    "        self.limite = limite\n",
    "    def deposita(self, valor):\n",
    "        self.saldo += valor\n",
    "    def saca(self, valor):\n",
    "    if (self.saldo < valor):\n",
    "        return False\n",
    "    else:\n",
    "        self.saldo -= valor\n",
    "        return True\n",
    "    def extrato(self):\n",
    "        print(\"numero: {} \\nsaldo: {}\".format(self.numero, self.saldo))\n",
    "\n",
    "    # método adicionado\n",
    "    def transfere(self, destino, valor):\n",
    "        self.saldo -= valor\n",
    "        destino.saldo += valor"
   ]
  },
  {
   "cell_type": "markdown",
   "metadata": {
    "colab_type": "text",
    "id": "viB2yywecCNv"
   },
   "source": [
    "Para  deixar  o  código  mais  robusto,  poderíamos  verificar  se  a  conta  possui  a  quantidade  a  ser\n",
    "transferida disponível. Para ficar ainda mais interessante, você pode chamar os métodos `deposita()`  e `saca()`  já existentes para fazer essa tarefa:"
   ]
  },
  {
   "cell_type": "code",
   "execution_count": 0,
   "metadata": {
    "colab": {},
    "colab_type": "code",
    "id": "gjUKr3iZcLfX"
   },
   "outputs": [],
   "source": [
    "class Conta:\n",
    "    def __init__(self, numero, titular, saldo, limite):\n",
    "        self.numero = numero\n",
    "        self.titular = tituar\n",
    "        self.saldo = saldo\n",
    "        self.limite = limite\n",
    "    def deposita(self, valor):\n",
    "        self.saldo += valor\n",
    "    def saca(self, valor):\n",
    "    if (self.saldo < valor):\n",
    "        return False\n",
    "    else:\n",
    "        self.saldo -= valor\n",
    "        return True\n",
    "    def extrato(self):\n",
    "        print(\"numero: {} \\nsaldo: {}\".format(self.numero, self.saldo))\n",
    "\n",
    "    # método alterado\n",
    "    def transfere(self, destino, valor):\n",
    "        retirou = self.saca(valor)\n",
    "        if (retirou == False):\n",
    "            return False\n",
    "        else:\n",
    "            destino.deposita(valor)\n",
    "            return True"
   ]
  },
  {
   "cell_type": "markdown",
   "metadata": {
    "colab_type": "text",
    "id": "6Cbc18TscXAC"
   },
   "source": [
    "Quando passamos uma `Conta`  como argumento, o que será que acontece na memória? Será que o objeto é clonado?\n",
    "\n",
    "No Python, a passagem de parâmetro funciona como uma simples atribuição como no uso do `=`.\n",
    "\n",
    "Então, esse parâmetro vai copiar o valor da variável do tipo   `Conta`  que for passado como argumento para  a  variável   destino.  E  qual  é  o  valor  de  uma  variável  dessas?  Seu  valor  é  um  endereço,  uma referência, nunca um objeto. Por isso não há cópia de objetos aqui.\n",
    "\n",
    "Esse último código poderia ser escrito com uma sintaxe muito sucinta. Como?\n",
    "\n",
    "    TRANSFERE PARA\n",
    "\n",
    "Perceba  que  o  nome  deste  método  poderia  ser    `transfere_para()`    ao  invés  de  só `transfere()`. A chamada do método fica muito mais natural, é possível ler a frase em português que ela tem um sentido:"
   ]
  },
  {
   "cell_type": "code",
   "execution_count": 0,
   "metadata": {
    "colab": {},
    "colab_type": "code",
    "id": "vpewgGSzcsVt"
   },
   "outputs": [],
   "source": [
    "conta1.transfere_para(conta2, 50.0):"
   ]
  },
  {
   "cell_type": "markdown",
   "metadata": {
    "colab_type": "text",
    "id": "PsxMxDCfcwDV"
   },
   "source": [
    "A leitura deste código seria \"`conta1` transfere para `conta2` `50` reais\"."
   ]
  },
  {
   "cell_type": "markdown",
   "metadata": {
    "colab_type": "text",
    "id": "ewCTTwW9c8iJ"
   },
   "source": [
    "### 7.9 CONTINUANDO COM ATRIBUTOS\n",
    "Os  atributos  de  uma  classe  podem  receber  um  valor padrão  -  assim  como  os  argumentos  de  uma função.\n",
    "\n",
    "Nosso  banco  pode  ter  um  valor  de  limite  padrão  para todas as contas e apenas em casos específicos pode atribuir um valor limite diferente.\n",
    "\n",
    "Para  aplicarmos  essa  regra  de  negócio,  podemos atribuir  um  valor  padrão  ao  limite,  por  exemplo, 1000.0 reais:"
   ]
  },
  {
   "cell_type": "code",
   "execution_count": 0,
   "metadata": {
    "colab": {},
    "colab_type": "code",
    "id": "CF7-vPL8dMdD"
   },
   "outputs": [],
   "source": [
    "class Conta:\n",
    "    def __init__(self, numero, titular, saldo, limite=1000.0):\n",
    "        self.numero = numero\n",
    "        self.titular = titular\n",
    "        self.saldo = saldo\n",
    "        self.limite = limite"
   ]
  },
  {
   "cell_type": "markdown",
   "metadata": {
    "colab_type": "text",
    "id": "jCTmrZUfdTwe"
   },
   "source": [
    "E podemos inicializar uma conta:"
   ]
  },
  {
   "cell_type": "code",
   "execution_count": 0,
   "metadata": {
    "colab": {},
    "colab_type": "code",
    "id": "Wbofir6kdZFi"
   },
   "outputs": [],
   "source": [
    "conta = Conta('123-4', 'joão', 120.0)"
   ]
  },
  {
   "cell_type": "markdown",
   "metadata": {
    "colab_type": "text",
    "id": "j1UseDp-dbf9"
   },
   "source": [
    "Veja que agora não somos obrigados a passar o valor do limite  já que ele possui um valor padrão de 1000.0 e podemos acessá-lo pela conta:"
   ]
  },
  {
   "cell_type": "code",
   "execution_count": 0,
   "metadata": {
    "colab": {},
    "colab_type": "code",
    "id": "qm0Zrd_udg0E"
   },
   "outputs": [],
   "source": [
    "conta.limite"
   ]
  },
  {
   "cell_type": "markdown",
   "metadata": {
    "colab_type": "text",
    "id": "zyP-i25Kdlrg"
   },
   "source": [
    "Quando  declaramos  as  variáveis  na  classe   `Conta`, aprendemos  que  podemos  atribuir  um  valor\n",
    "padrão  para  cada  uma  delas.  Imagine  que  comecemos  a  aumentar  nossa  classe   `Conta`   e  adicionar\n",
    "nome,  sobrenome  e  cpf  do  titular  da  conta.\n",
    "\n",
    "Começaríamos  a  ter  muitos  atributos...  e,  se  você  pensar direito, uma   `Conta`  não tem nome, nem sobrenome nem cpf, quem tem esses atributos é um cliente.\n",
    "\n",
    "Então  podemos  criar  uma  nova  classe  e  fazer  uma  agregação  -  agregar  um  cliente  a  nossa  conta.\n",
    "\n",
    "Portanto, nossa classe  `Conta`  tem um  `Cliente`.\n",
    "\n",
    "O atributos de uma   `Conta`  também podem ser referências para outras classes. Suponha a seguinte classe  `Cliente`:"
   ]
  },
  {
   "cell_type": "code",
   "execution_count": 0,
   "metadata": {
    "colab": {},
    "colab_type": "code",
    "id": "I9QVQ4OsdlGF"
   },
   "outputs": [],
   "source": [
    "class Cliente:\n",
    "    def __init__(self, nome, sobrenome, cpf):\n",
    "        self.nome = nome\n",
    "        self.sobrenome = sobrenome\n",
    "        self.cpf = cpf"
   ]
  },
  {
   "cell_type": "code",
   "execution_count": 0,
   "metadata": {
    "colab": {},
    "colab_type": "code",
    "id": "7GkY7lCvd-Dr"
   },
   "outputs": [],
   "source": [
    "class Conta:\n",
    "    def __init__(self, numero, cliente, saldo, limite):\n",
    "        self.numero = numero\n",
    "        self.titular = cliente\n",
    "        self.saldo = saldo\n",
    "        self.limite = limite"
   ]
  },
  {
   "cell_type": "markdown",
   "metadata": {
    "colab_type": "text",
    "id": "qsc4UgkIeA34"
   },
   "source": [
    "E quando criarmos um  `Conta`, precisamos passar um  `Cliente` como  titular :"
   ]
  },
  {
   "cell_type": "code",
   "execution_count": 0,
   "metadata": {
    "colab": {},
    "colab_type": "code",
    "id": "Q8iygplTeGxR"
   },
   "outputs": [],
   "source": [
    "cliente = Cliente('João', 'Oliveira', '1111111111-1')"
   ]
  },
  {
   "cell_type": "code",
   "execution_count": 0,
   "metadata": {
    "colab": {},
    "colab_type": "code",
    "id": "WnUOUiwveJN8"
   },
   "outputs": [],
   "source": [
    "minha_conta = Conta('123-4', cliente, 120.0, 1000.0)"
   ]
  },
  {
   "cell_type": "markdown",
   "metadata": {
    "colab_type": "text",
    "id": "EbvDFklTeNKH"
   },
   "source": [
    "Aqui aconteceu uma atribuição, o valor da variável `cliente`  é copiado para o atributo  `titular`  do objeto  ao  qual   `minha_conta` se  refere. Em  outras  palavras, `minha_conta`   tem  uma  referência  ao mesmo  `Cliente`  que  `cliente`  se refere, e pode ser acessado através de  `minha_conta.titular`.\n",
    "\n",
    "Você pode realmente navegar sobre toda estrutura de informação, sempre usando o ponto:"
   ]
  },
  {
   "cell_type": "code",
   "execution_count": 0,
   "metadata": {
    "colab": {},
    "colab_type": "code",
    "id": "7IyFPRv-eM2G"
   },
   "outputs": [],
   "source": [
    "minha_conta.titular"
   ]
  },
  {
   "cell_type": "markdown",
   "metadata": {
    "colab_type": "text",
    "id": "XckQ2xLgeglG"
   },
   "source": [
    "Veja que a saída é a referência a um objeto do tipo `Cliente`, mas podemos acessar seus atributos de uma forma mais direta e até mais elegante:"
   ]
  },
  {
   "cell_type": "code",
   "execution_count": 0,
   "metadata": {
    "colab": {},
    "colab_type": "code",
    "id": "hjxm6GCKen5P"
   },
   "outputs": [],
   "source": [
    "minha_conta.titular.nome"
   ]
  },
  {
   "cell_type": "markdown",
   "metadata": {
    "colab_type": "text",
    "id": "_louaPl3eq5r"
   },
   "source": [
    "### 7.10 TUDO É OBJETO\n",
    "Python é uma linguagem totalmente orientada a objetos. Tudo em Python é um objeto! Sempre que utilizamos uma função ou método que recebe parâmetros estamos passando objetos como argumentos.\n",
    "\n",
    "Não  é  diferente  com  nossas  classes.  Quando  uma  conta  recebe  um  cliente  como  titular,  ele  está recebendo uma instância de `Cliente` , ou seja, um objeto.\n",
    "\n",
    "O mesmo acontece com  `numero` ,  `saldo`  e   `limite`. Strings e números são classes no Python. Por este  motivo  que  aparece  a  palavra  class  quando  pedimos  para  o  Python  nos  devolver  o  tipo  de  uma variável através da função `type`:"
   ]
  },
  {
   "cell_type": "code",
   "execution_count": 0,
   "metadata": {
    "colab": {},
    "colab_type": "code",
    "id": "KDNPPCZOe-Nh"
   },
   "outputs": [],
   "source": [
    "type(conta.numero)"
   ]
  },
  {
   "cell_type": "code",
   "execution_count": 0,
   "metadata": {
    "colab": {},
    "colab_type": "code",
    "id": "JHcthIG9fAPK"
   },
   "outputs": [],
   "source": [
    "type(conta.saldo)"
   ]
  },
  {
   "cell_type": "code",
   "execution_count": 0,
   "metadata": {
    "colab": {},
    "colab_type": "code",
    "id": "Fy4tjvGCfCDH"
   },
   "outputs": [],
   "source": [
    "type(conta.titular)"
   ]
  },
  {
   "cell_type": "markdown",
   "metadata": {
    "colab_type": "text",
    "id": "4Srbf6EdfFRk"
   },
   "source": [
    "Um sistema orientado a objetos é um grande conjunto de classes que vai se comunicar, delegando responsabilidades para quem for mais apto a realizar determinada tarefa. A classe `Banco`   usa  a  classe `Conta`   que  usa  a  classe   `Cliente`,  que  usa  a  classe `Endereco` ,  etc... Dizemos  que  esses  objetos colaboram,  trocando  mensagens  entre  si.  Por  isso  acabamos  tendo  muitas  classes  em  nosso  sistema,  e elas costumam ter um tamanho relativamente curto."
   ]
  },
  {
   "cell_type": "markdown",
   "metadata": {
    "colab_type": "text",
    "id": "9eWtCzypfZGx"
   },
   "source": [
    "### 7.11 COMPOSIÇÃO\n",
    "Fizemos,  no  ponto  anterior,  uma  agregação.  Agora  nossa  classe   Conta   tem  um   Cliente   e associamos estas  duas  classes.  Mas  nossa  classe   `Cliente` existe  independente  da  classe `Conta`.\n",
    "\n",
    "Suponha  agora  que  nossa   `Conta`   possua  um  histórico,  contendo  a  data  de  abertura  da  conta  e  suas transações. Podemos criar uma classe para representar o histórico, como no exemplo abaixo:"
   ]
  },
  {
   "cell_type": "code",
   "execution_count": 0,
   "metadata": {
    "colab": {},
    "colab_type": "code",
    "id": "mKvnVN7vgEud"
   },
   "outputs": [],
   "source": [
    "import datetime\n",
    "class Historico:\n",
    "    def __init__(self):\n",
    "        self.data_abertura = datetime.datetime.today()\n",
    "        self.transacoes = []\n",
    "    def imprime(self):\n",
    "        print(\"data abertura: {}\".format(self.data_abertura))\n",
    "        print(\"transações: \")\n",
    "        for t in self.transacoes:\n",
    "            print(\"-\", t)"
   ]
  },
  {
   "cell_type": "markdown",
   "metadata": {
    "colab_type": "text",
    "id": "CSyvRvFygMWO"
   },
   "source": [
    "Agora precisamos modificar nossa classe  `Conta`  de modo que ela tenha um  `Historico` . Mas aqui, diferente  da  relação  do  cliente  com  uma  conta,  a  existência  de  um histórico  depende  da  existência  de uma  `Conta`:"
   ]
  },
  {
   "cell_type": "code",
   "execution_count": 0,
   "metadata": {
    "colab": {},
    "colab_type": "code",
    "id": "4OLbeHAUgMIO"
   },
   "outputs": [],
   "source": [
    "class Conta:\n",
    "    def __init__(self, numero, cliente, saldo, limite=1000.0):\n",
    "        self.numero = numero\n",
    "        self.cliente = cliente\n",
    "        self.saldo = saldo\n",
    "        self.limite = limite\n",
    "        self.historico = Historico()"
   ]
  },
  {
   "cell_type": "markdown",
   "metadata": {
    "colab_type": "text",
    "id": "ffMJnCMqgXxQ"
   },
   "source": [
    "E podemos, em cada método para manipular uma  `Conta`, acrescentar a operação nas transações de seu  `Historico`:"
   ]
  },
  {
   "cell_type": "code",
   "execution_count": 0,
   "metadata": {
    "colab": {},
    "colab_type": "code",
    "id": "wpXKEShLge9z"
   },
   "outputs": [],
   "source": [
    "class Conta:\n",
    "    def __init__(self, numero, cliente, saldo, limite=1000.0):\n",
    "        self.numero = numero\n",
    "        self.cliente = cliente\n",
    "        self.saldo = saldo\n",
    "        self.limite = limite\n",
    "        self.historico = Historico()\n",
    "\n",
    "    # código adicionado\n",
    "    def deposita(self, valor):\n",
    "        self.saldo += valor\n",
    "        self.historico.transacoes.append(\"depósito de {}\".format(valor))\n",
    "    def saca(self, valor):\n",
    "        if (self.saldo < valor):\n",
    "            return False\n",
    "        else:\n",
    "            self.saldo -= valor\n",
    "            self.historico.transacoes.append(\"saque de {}\".format(valor))\n",
    "    def extrato(self):\n",
    "        print(\"numero: {} \\nsaldo: {}\".format(self.numero, self.saldo))\n",
    "        self.historico.transacoes.append(\"tirou extrato - saldo \n",
    "        de {}\".format(self.saldo))\n",
    "    def transfere_para(self, destino, valor):\n",
    "        retirou = self.saca(valor)\n",
    "        if (retirou == False):\n",
    "            return False\n",
    "        else:\n",
    "            destino.deposita(valor)\n",
    "            self.historico.transacoes.append(\"transferencia de {} \n",
    "            para conta {}\".format(valor, destino.numero))\n",
    "            return True"
   ]
  },
  {
   "cell_type": "markdown",
   "metadata": {
    "colab_type": "text",
    "id": "RwvoP5VNhOLW"
   },
   "source": [
    "E testamos:"
   ]
  },
  {
   "cell_type": "code",
   "execution_count": 0,
   "metadata": {
    "colab": {},
    "colab_type": "code",
    "id": "NUAPQ5QwhZYO"
   },
   "outputs": [],
   "source": [
    "cliente1 = Cliente('João', 'Oliveira', '11111111111-11')\n",
    "cliente2 = Cliente('José', 'Azevedo', '222222222-22')\n",
    "conta1 = Conta('123-4', cliente1, 1000.0)\n",
    "conta2 = Conta('123-5', cliente2, 1000.0)\n",
    "conta1.deposita(100.0)\n",
    "conta1.saca(50.0)\n",
    "conta1.transfere_para(conta2, 200.0)\n",
    "conta1.extrato"
   ]
  },
  {
   "cell_type": "code",
   "execution_count": 0,
   "metadata": {
    "colab": {},
    "colab_type": "code",
    "id": "F8ywrix2hrXq"
   },
   "outputs": [],
   "source": [
    "conta1.historico.imprime()"
   ]
  },
  {
   "cell_type": "code",
   "execution_count": 0,
   "metadata": {
    "colab": {},
    "colab_type": "code",
    "id": "Za9d12efhuYd"
   },
   "outputs": [],
   "source": [
    "conta2.historico.imprime()"
   ]
  },
  {
   "cell_type": "markdown",
   "metadata": {
    "colab_type": "text",
    "id": "F6XjdpnThy0R"
   },
   "source": [
    "Quando a existência de uma classe depende de outra classe, como é a relação da classe `Histórico` com a classe `Conta`, dizemos que a classe `Historico` compõe a classe `Conta`.\n",
    "\n",
    "Esta  associação  chamamos Composição.\n",
    "\n",
    "Mas, e se dentro da nossa   `Conta`  não colocássemos   `self.historico = Historico()`  e tentasse acessá-lo diretamente?\n",
    "\n",
    "Faz algum sentido fazer `historico = Historico()`?\n",
    "\n",
    "Quando o objeto é inicializado, ele vai receber o valor default que definimos na classe:"
   ]
  },
  {
   "cell_type": "code",
   "execution_count": 0,
   "metadata": {
    "colab": {},
    "colab_type": "code",
    "id": "dM4I6AsAhyjY"
   },
   "outputs": [],
   "source": [
    "class Conta:\n",
    "    def __init__(self, numero, cliente, saldo, limite=1000.0):\n",
    "        self.numero = numero\n",
    "        self.cliente = cliente\n",
    "        self.saldo = saldo\n",
    "        self.limite = limite\n",
    "        # código alterado (?)\n",
    "        self.historico = Historico()\n",
    "\n",
    "    def deposita(self, valor):\n",
    "        self.saldo += valor\n",
    "        self.historico.transacoes.append(\"depósito de {}\".format(valor))\n",
    "    def saca(self, valor):\n",
    "        if (self.saldo < valor):\n",
    "            return False\n",
    "        else:\n",
    "            self.saldo -= valor\n",
    "            self.historico.transacoes.append(\"saque de {}\".format(valor))\n",
    "    def extrato(self):\n",
    "        print(\"numero: {} \\nsaldo: {}\".format(self.numero, self.saldo))\n",
    "        self.historico.transacoes.append(\"tirou extrato - saldo \n",
    "        de {}\".format(self.saldo))\n",
    "    def transfere_para(self, destino, valor):\n",
    "        retirou = self.saca(valor)\n",
    "        if (retirou == False):\n",
    "            return False\n",
    "        else:\n",
    "            destino.deposita(valor)\n",
    "            self.historico.transacoes.append(\"transferencia de {} \n",
    "            para conta {}\".format(valor, destino.numero))\n",
    "            return True        "
   ]
  },
  {
   "cell_type": "markdown",
   "metadata": {
    "colab_type": "text",
    "id": "FKUV8rHSi76y"
   },
   "source": [
    "Com esse código, toda nova  `Conta`  criada já terá um novo `Historico` associado, sem necessidade de instanciá-lo logo em seguida da instanciação de uma  `Conta`\n",
    "\n",
    "Atenção: para quem não está acostumado com referências, pode ser bastante confuso pensar sempre em  como  os  objetos  estão  na  memória  para  poder  tirar  as  conclusões  de  o  que  ocorrerá  ao  executar determinado  código,  por  mais  simples  que  ele  seja.  Com  o  tempo,  você  adquire  a  habilidade  de rapidamente  saber  o  efeito  de  atrelar  as  referências,  sem  ter  de  gastar  muito  tempo  para  isso.  É importante, nesse começo, você estar sempre pensando no estado da memória. E realmente lembrar que,\n",
    "no Python “uma variável nunca carrega um objeto, e sim uma referência para ele” facilita muito."
   ]
  },
  {
   "cell_type": "markdown",
   "metadata": {
    "colab_type": "text",
    "id": "t4nxmF1hjXsj"
   },
   "source": [
    "### 7.12 PARA SABER MAIS: OUTROS MÉTODOS DE UMA CLASSE\n",
    "O interpretador adiciona alguns atributos especiais somente para leitura a vários tipos de objetos de uma classe e um deles é o  `__dict__`.\n",
    "\n",
    "Isso  acontece  porque  a  classe   `Conta`   possui  alguns  métodos,  dentre  eles  o   `__init__()`   e  o  `__new__()`   que  são  chamados  para  criar  e  inicializar  um  objeto  desta  classe,  respectivamente.  Caso você queira saber quais outros métodos são implementados pela classe   `Conta`  você pode usar a função embutida  `dir()`  que vai listar todos métodos e atributos que a classe possui.\n",
    "\n"
   ]
  },
  {
   "cell_type": "code",
   "execution_count": 0,
   "metadata": {
    "colab": {},
    "colab_type": "code",
    "id": "E-s4blAWjvtO"
   },
   "outputs": [],
   "source": [
    "dir(Conta)"
   ]
  },
  {
   "cell_type": "markdown",
   "metadata": {
    "colab_type": "text",
    "id": "nfDrjEdmj1Pj"
   },
   "source": [
    "Dessa lista, já conhecemos o   `__init__()`, o   `__new__()`  e os métodos e atributos que definimos quando construímos a classe   `Conta`.  Na  verdade,  quando  usamos  a  função   `dir()`,  o  interpretador chama o atributo   `__dir__`  dessa lista. Um outro atributo bastante útil é o   `__dict__`  que retorna um dicionário com os atributos da classe:"
   ]
  },
  {
   "cell_type": "code",
   "execution_count": 0,
   "metadata": {
    "colab": {},
    "colab_type": "code",
    "id": "Cii7R6WXkDE1"
   },
   "outputs": [],
   "source": [
    "cliente = Cliente('João', 'Oliveira', '111111111-11')\n",
    "conta = Conta('123-4', cliente, 1000.0)\n",
    "conta.__dict__"
   ]
  },
  {
   "cell_type": "markdown",
   "metadata": {
    "colab_type": "text",
    "id": "D523vkSukDpj"
   },
   "source": [
    "Mas  não  é  comum  acessá-lo  dessa  maneira.  Estes métodos  iniciados  e  terminados  com  dois underscores  são  chamados  pelo  interpretador  e  são  conhecidos  como  métodos  mágicos.  Existe  outra função  embutida  do  Python,  a  função   `vars()`,  que  chama  exatamente  o   `__dict__`   de  uma  classe.\n",
    "\n",
    "Obtemos o mesmo resultado usando `vars(conta)`:\n",
    "\n"
   ]
  },
  {
   "cell_type": "code",
   "execution_count": 0,
   "metadata": {
    "colab": {},
    "colab_type": "code",
    "id": "z3ibZ-KZkZPF"
   },
   "outputs": [],
   "source": [
    "vars(conta)"
   ]
  },
  {
   "cell_type": "markdown",
   "metadata": {
    "colab_type": "text",
    "id": "hGI0WCURkcGB"
   },
   "source": [
    "Repare  que  o   `__dict__`   e  o   `vars()`   retornam exatamente  um  dicionário  de  atributos  de  uma conta  como  tínhamos  modelado  no  início  deste  capítulo.\n",
    "\n",
    "Portanto,  nossas  classes  utilizam  dicionários para armazenar informações da própria classe.\n",
    "\n",
    "Os demais métodos mágicos estão disponíveis para uso e não utilizaremos por enquanto. Voltaremos a falar deles em um outro momento."
   ]
  },
  {
   "cell_type": "markdown",
   "metadata": {
    "colab_type": "text",
    "id": "r7BK-qFsktm5"
   },
   "source": [
    "### 7.13 EXERCÍCIO: PRIMEIRA CLASSE PYTHON\n",
    "\n",
    "1.  Crie um arquivo chamado  conta.py  na pasta  oo  criada no exercício anterior.\n",
    "2.  Crie a classe Conta sem nenhum atributo e salve o arquivo.\n",
    "\n",
    "        class Conta:\n",
    "            pass\n",
    "3.  Abra o terminal e vá até a pasta onde se encontra o arquivo   conta.py . Abra o console do Python3 no terminal e importe a classe Conta do módulo conta.\n",
    "        from conta import Conta\n",
    "4.  Crie  uma  instância  (objeto)  da  classe   Conta   e  utilize  a  função   type()   para  verificar  o  tipo  do\n",
    "objeto:\n",
    "        conta = Conta()\n",
    "        type(conta)\n",
    "Além disso, crie alguns atributos e tente acessá-los.\n",
    "1.  Abra  novamente  o  arquivo  conta.py  e  escreva  o método   `__init__()`   recebendo  os  atributos\n",
    "anteriormente definidos por nós que toda conta deve ter (numero titular, saldo e limite):\n",
    "        class Conta:\n",
    "            def __init__(self, numero, titular, saldo, limite):\n",
    "                self.numero = numero\n",
    "                self.titular = titular\n",
    "                self.saldo = saldo\n",
    "                self.limite = limite\n",
    "2.  Reinicie  o  Python3  no  terminal  e  importe  novamente  a  classe   Conta   do  módulo  conta  para testarmos nosso código:\n",
    "        from conta import Conta\n",
    "3.  Tente criar uma conta sem passar qualquer argumento no construtor:\n",
    "        conta = Conta()\n",
    "\n",
    "Note  que  o  interpretador  acusou  um  erro.  O  método   `__init__()`   exige  4  argumentos  `numero`,\n",
    "`titular`, `saldo` e `limite`.\n",
    "4.  Agora vamos seguir o exigido pela classe, pela receita de uma conta:\n",
    "        conta = Conta('123-4', 'João', 120.0, 1000.0)\n",
    "5.  O interpretador não acusou nenhum erro. Vamos imprimir o  numero  e  titular  da conta:\n",
    "        conta.numero\n",
    "        conta.titular\n",
    "6.  Crie o método   `deposita()`  dentro da classe   `Conta`. Esse método deve receber uma referência do\n",
    "próprio objeto e o valor a ser adicionado ao saldo da conta.\n",
    "        def deposita(self, valor):\n",
    "            self.saldo += valor\n",
    "7.  Crie o método  saca()  que recebe como argumento uma referência do próprio objeto e o valor a ser\n",
    "sacado. Esse método subtrairá o valor do saldo da conta.\n",
    " def saca(self, valor):\n",
    "     self.saldo -= valor\n",
    "8.  Crie  o  método   `extrato()` ,  que  recebe  como  argumento  uma  referência  do  próprio  objeto.  Esse\n",
    "método imprimirá o saldo da conta:\n",
    "        def extrato(self):\n",
    "            print(\"numero: {} \\nsaldo: {}\".format(self.numero, self.saldo))\n",
    "9.  Modifique o método `saca()` fazendo retornar um valor que representa se a operação foi ou não bem sucedida. Lembre que não é permitido sacar um valor menor do que o saldo.\n",
    "        def saca(self, valor):\n",
    "            if (self.saldo < valor):\n",
    "                return False\n",
    "            else:\n",
    "                self.saldo -= valor\n",
    "                return True\n",
    "10.  Crie o método   `transfere_para()`  que recebe como argumento uma referência do próprio objeto, uma  `Conta`  destino e o valor a ser transferido. Esse método deve sacar o valor do próprio objeto e depositar na conta destino:\n",
    "        \n",
    "            def transfere_para(self, destino, valor):\n",
    "                retirou = self.saca(valor)\n",
    "                if (retirou == false):\n",
    "                    return False\n",
    "                else:\n",
    "                    destino.deposita(valor)\n",
    "                    return True\n",
    "\n",
    "11.  Abra o Python no terminal, importe o módulo `conta`, crie duas contas e teste os métodos criados.\n",
    "\n",
    "12.  (Opcional)  Crie  uma  classe  para  representar  um  cliente  do  nosso  banco  que  deve  ter    nome  ,\n",
    " sobrenome  e  cpf . Instancie uma  Conta  e passe um cliente como   titular  da conta. Modifique\n",
    "o método   `extrato()`   da  classe   `Conta`   para  imprimir,  além  do  número  e  o  saldo,  os  dados  do\n",
    "cliente. Podemos criar uma  `Conta`  sem um  `Cliente` ? E um  `Cliente`  sem uma  `Conta`?\n",
    "13.  (Opcional)  Crie  uma  classe  que  represente  uma  data,  com  dia,  mês  e  ano.Crie  um  atributo\n",
    " `data_abertura`  na classe  `Conta`. Crie uma nova conta e faça testes no console do Python.\n",
    "\n",
    "14.  (Desafio)  Crie  uma  classe   `Historico`   que  represente  o  histórico  de  uma   `Conta`   seguindo  o\n",
    "exemplo da apostila. Faça testes no console do Python criando algumas contas, fazendo operações e\n",
    "por último mostrando o histórico de transações de uma  `Conta`. Faz sentido criar um objeto do tipo\n",
    " `Historico`  sem uma  `Conta`? \n",
    "\n",
    "Agora,  além  de  funcionar  como  esperado,  nosso  código  não  permite  criar  uma  conta  sem  os\n",
    "atributos que definimos anteriormente. Discuta com seus colegas e instrutor as vantagens da orientação\n",
    "a objetos até aqui."
   ]
  }
 ],
 "metadata": {
  "colab": {
   "collapsed_sections": [
    "MUrJolt2-aD-",
    "3NqZ-0r1_q54",
    "RQ33gi3tDYEG",
    "nHDNPdbAFPh1",
    "ZhENGRztLHtI",
    "RCy0rjvJNXe4",
    "Uxbidv3xYPq7",
    "6yOIodPpbR6W",
    "ewCTTwW9c8iJ",
    "_louaPl3eq5r",
    "9eWtCzypfZGx",
    "t4nxmF1hjXsj",
    "r7BK-qFsktm5",
    "YEhH95O6iQ-J",
    "vN3yymMnkJJI",
    "-zT5izhklP47",
    "2oAom-dSljYS",
    "WjhzraVwmTWf",
    "2XyYPb_9mcUy",
    "U_oT0D5lK6g0",
    "PplhZST5N23M",
    "ascok5l4PHvW",
    "vjYownPjTGoh",
    "gVsP3_yGTqsA",
    "3CKu4tXrXbbs",
    "BKB4T2xOYQEP",
    "qx5zVH1MYP5A",
    "M2T54kleV5Tm",
    "L8S_l9K0gKlg",
    "DgKQHFOvh7a8",
    "sunWFmSkrWGV",
    "2lEfnXqks2Re",
    "tgIIPjRwt9rB",
    "O61Ni4k8uqbu",
    "uNqJNfQHwkzb",
    "AishUjoGzaYk",
    "6d6kpgatqA30",
    "Ix7v3Pztq3H0",
    "kRHVTDcftEg8",
    "FuxefMQktkFQ",
    "e02PM6ebt4xi",
    "Gb5d8Ds2uFoj",
    "_oLcDxyXuOqp",
    "OBPMn6s1vjeY",
    "oU_lctuJvkad",
    "SexMNv3YxHRI",
    "4ydBnFxPx93t",
    "dD_ll8EozLcD",
    "Y2jIpz8XznFX",
    "0NTEep5Vz2iw",
    "n5XXGyWO0Ggp",
    "-WadxXBc1dqs",
    "YG_NggJf3hcF",
    "FNXtNVIC4Ux4",
    "lhXWleU44qsk",
    "WMs0GsRZ81An",
    "_CuEWMIHAtBX",
    "QUtt8tjrBE-J",
    "vbrd9w31BeTB",
    "qUp89EGuBeII",
    "apu1fbOYB5Sy",
    "DGRgurSOCM9S",
    "Dq1idRRXCh3J"
   ],
   "name": "Parte_2.ipynb",
   "provenance": []
  },
  "kernelspec": {
   "display_name": "Python 3",
   "language": "python",
   "name": "python3"
  },
  "language_info": {
   "codemirror_mode": {
    "name": "ipython",
    "version": 3
   },
   "file_extension": ".py",
   "mimetype": "text/x-python",
   "name": "python",
   "nbconvert_exporter": "python",
   "pygments_lexer": "ipython3",
   "version": "3.7.6"
  }
 },
 "nbformat": 4,
 "nbformat_minor": 1
}
